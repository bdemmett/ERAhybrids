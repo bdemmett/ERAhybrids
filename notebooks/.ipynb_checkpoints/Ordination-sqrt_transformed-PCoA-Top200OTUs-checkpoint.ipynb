{
 "cells": [
  {
   "cell_type": "markdown",
   "metadata": {},
   "source": [
    "## Description:\n",
    "\n",
    "    Ordination using PCoA\n",
    "\n"
   ]
  },
  {
   "cell_type": "markdown",
   "metadata": {},
   "source": [
    "# Init"
   ]
  },
  {
   "cell_type": "code",
   "execution_count": 76,
   "metadata": {
    "collapsed": false,
    "scrolled": true
   },
   "outputs": [
    {
     "name": "stdout",
     "output_type": "stream",
     "text": [
      "The rpy2.ipython extension is already loaded. To reload it, use:\n",
      "  %reload_ext rpy2.ipython\n"
     ]
    }
   ],
   "source": [
    "%load_ext rpy2.ipython"
   ]
  },
  {
   "cell_type": "code",
   "execution_count": 77,
   "metadata": {
    "collapsed": false
   },
   "outputs": [],
   "source": [
    "%%R\n",
    "library(ggplot2)\n",
    "library(foreach)\n",
    "library(doParallel)\n",
    "library(gridExtra)\n",
    "library(dplyr)\n",
    "library(tidyr)\n",
    "library(vegan)\n",
    "library(DESeq2)\n",
    "library(phyloseq)\n",
    "library(lme4)\n",
    "library(lmerTest)\n",
    "library(MuMIn)"
   ]
  },
  {
   "cell_type": "code",
   "execution_count": 4,
   "metadata": {
    "collapsed": true
   },
   "outputs": [],
   "source": [
    "%%R\n",
    "# set theme for ggplot\n",
    "\n",
    "theme_pub = function (base_size = 11, base_family = \"Helvetica\") \n",
    "{\n",
    "    theme_grey(base_size = base_size, base_family = base_family) %+replace% \n",
    "        theme(\n",
    "            axis.line.x = element_line(size = .5),\n",
    "            axis.line.y = element_line(size = .5),\n",
    "            panel.background = element_rect(fill = \"white\", colour = NA), \n",
    "            panel.border = element_rect(fill = NA, color = \"black\", size = .5), \n",
    "            panel.grid.major = element_blank(), \n",
    "            panel.grid.minor = element_blank(), \n",
    "            strip.background = element_rect(fill = \"grey85\", \n",
    "                colour = \"grey20\"), \n",
    "            legend.key = element_rect(fill = \"white\", \n",
    "                colour = NA), complete = TRUE)\n",
    "    }\n"
   ]
  },
  {
   "cell_type": "markdown",
   "metadata": {},
   "source": [
    "# Loading phyloseq object"
   ]
  },
  {
   "cell_type": "code",
   "execution_count": 5,
   "metadata": {
    "collapsed": true
   },
   "outputs": [],
   "source": [
    "%%R\n",
    "setwd('/home/bryan/ERA/data/MiSeq/20170417_run1/phyloseq/')"
   ]
  },
  {
   "cell_type": "code",
   "execution_count": 13,
   "metadata": {
    "collapsed": false,
    "scrolled": true
   },
   "outputs": [
    {
     "data": {
      "text/plain": [
       "phyloseq-class experiment-level object\n",
       "otu_table()   OTU Table:         [ 4592 taxa and 220 samples ]\n",
       "sample_data() Sample Data:       [ 220 samples by 47 sample variables ]\n",
       "tax_table()   Taxonomy Table:    [ 4592 taxa by 8 taxonomic ranks ]\n",
       "phy_tree()    Phylogenetic Tree: [ 4592 tips and 4591 internal nodes ]\n"
      ]
     },
     "metadata": {},
     "output_type": "display_data"
    }
   ],
   "source": [
    "%%R \n",
    "# loading\n",
    "\n",
    "physeq = readRDS('ERA_snorm.rds')\n",
    "\n",
    "#remove T0, not necessary\n",
    "physeq = subset_samples(physeq, !is.na(Genotype), TRUE)\n",
    "physeq = subset_samples(physeq, TimePoint != \"T0\")\n",
    "physeq = transform_sample_counts(physeq, function(OTU) sqrt(OTU))\n",
    "physeq = subset_samples(physeq, SeedTreatment == \"Treated\"| Genotype == \"Bare\") # see seed treatment notebook for comparison\n",
    "sample_data(physeq)$Planted = ifelse(sample_data(physeq)$Genotype == \"Bare\", \"Bare\", \"Rhizosphere\")\n",
    "physeq"
   ]
  },
  {
   "cell_type": "code",
   "execution_count": 14,
   "metadata": {
    "collapsed": false
   },
   "outputs": [],
   "source": [
    "%%R\n",
    "sample_data(physeq)$Rep = as.factor(sample_data(physeq)$Rep)\n",
    "sample_data(physeq)$Row = as.factor(sample_data(physeq)$Row)\n",
    "sample_data(physeq)$Fert = as.factor(sample_data(physeq)$Fert)"
   ]
  },
  {
   "cell_type": "markdown",
   "metadata": {},
   "source": [
    "## Calculate pairwise weighted Unifrac distances between samples"
   ]
  },
  {
   "cell_type": "code",
   "execution_count": 15,
   "metadata": {
    "collapsed": false
   },
   "outputs": [],
   "source": [
    "%%R\n",
    "registerDoParallel(cores=28)\n",
    "wunif.dist = phyloseq::distance(physeq, \n",
    "                      method = \"unifrac\", \n",
    "                      weighted = TRUE,\n",
    "                      fast = TRUE, \n",
    "                      parallel = TRUE, \n",
    "                      normalized = FALSE)"
   ]
  },
  {
   "cell_type": "code",
   "execution_count": 16,
   "metadata": {
    "collapsed": false
   },
   "outputs": [],
   "source": [
    "%%R\n",
    "registerDoParallel(cores=28)\n",
    "bray.dist = distance(physeq, \n",
    "                      method = \"bray\", \n",
    "                      weighted = FALSE,\n",
    "                      fast = TRUE, \n",
    "                      parallel = TRUE, \n",
    "                      normalized = FALSE)"
   ]
  },
  {
   "cell_type": "code",
   "execution_count": 17,
   "metadata": {
    "collapsed": false,
    "scrolled": true
   },
   "outputs": [
    {
     "data": {
      "text/plain": [
       " [1] \"322\"     \"330\"     \"339\"     \"3394\"    \"3475\"    \"34M95\"   \"34N42\"  \n",
       " [8] \"3517\"    \"354\"     \"3541\"    \"3618\"    \"Bare\"    \"P1151HR\"\n"
      ]
     },
     "metadata": {},
     "output_type": "display_data"
    }
   ],
   "source": [
    "%%R\n",
    "physeq %>% \n",
    "    sample_data() %>%\n",
    "    .$Plant %>%\n",
    "    levels()"
   ]
  },
  {
   "cell_type": "markdown",
   "metadata": {},
   "source": [
    "## PCoA with Bray-Curtis "
   ]
  },
  {
   "cell_type": "code",
   "execution_count": 23,
   "metadata": {
    "collapsed": false
   },
   "outputs": [],
   "source": [
    "%%R\n",
    "pcoa = ordinate(physeq, \n",
    "                method = \"PCoA\", \n",
    "                distance =bray.dist)\n",
    "\n",
    "p.df = plot_ordination(physeq, pcoa, justDF = TRUE)\n"
   ]
  },
  {
   "cell_type": "code",
   "execution_count": 24,
   "metadata": {
    "collapsed": false,
    "hide_input": true
   },
   "outputs": [
    {
     "data": {
      "image/png": "[encoded data removed]"
     },
     "metadata": {},
     "output_type": "display_data"
    }
   ],
   "source": [
    "%%R\n",
    "\n",
    "p = ggplot(p.df,aes(x = Axis.1, y = Axis.2)) +\n",
    "        geom_point(aes(color=Planted)) +\n",
    "    theme_pub()\n",
    "        \n",
    "p"
   ]
  },
  {
   "cell_type": "code",
   "execution_count": 25,
   "metadata": {
    "collapsed": false
   },
   "outputs": [],
   "source": [
    "%%R\n",
    "ordMean = p.df %>% \n",
    "    group_by(Genotype, R_Year, Fert, TimePoint) %>%\n",
    "    summarize(mAxis.1 = mean(Axis.1),\n",
    "                seAxis.1 = sd(Axis.1)/sqrt(length(Axis.1)),\n",
    "             mAxis.2 = mean(Axis.2), \n",
    "             seAxis.2 = sd(Axis.2)/sqrt(length(Axis.2)))\n",
    "\n",
    "\n"
   ]
  },
  {
   "cell_type": "code",
   "execution_count": 45,
   "metadata": {
    "collapsed": false
   },
   "outputs": [
    {
     "data": {
      "image/png": "[encoded data removed]"
     },
     "metadata": {},
     "output_type": "display_data"
    }
   ],
   "source": [
    "%%R\n",
    "plot_ordination(physeq, pcoa, color = \"Planted\")"
   ]
  },
  {
   "cell_type": "markdown",
   "metadata": {},
   "source": [
    "# NMDS of global data faceted by sampling date"
   ]
  },
  {
   "cell_type": "code",
   "execution_count": 46,
   "metadata": {
    "collapsed": false,
    "scrolled": true
   },
   "outputs": [
    {
     "data": {
      "image/png": "[encoded data removed]"
     },
     "metadata": {},
     "output_type": "display_data"
    }
   ],
   "source": [
    "%%R -w 800 -h 400\n",
    "pF = ggplot(ordMean, aes(x = mAxis.1, y = mAxis.2, label = R_Year)) +\n",
    "    geom_point()+\n",
    "    theme_pub()+\n",
    "    geom_errorbar(aes(ymin = mAxis.2 - seAxis.2, ymax = mAxis.2 + seAxis.2),      \n",
    "                color = \"black\",\n",
    "                width = .002) +\n",
    "    geom_errorbarh(aes(xmin = mAxis.1 - seAxis.1, xmax = mAxis.1 + seAxis.1),color = \"black\",\n",
    "                height = .002)+\n",
    "    geom_label(aes(color = Fert), check_overlap = TRUE) +\n",
    "    theme(legend.position = \"none\")+\n",
    "    xlab(\"PCoA1[12.6%]\")+\n",
    "    ylab(\"PCoA2[5.7%]\")+\n",
    "   facet_wrap(~TimePoint)\n",
    "\n",
    "pF"
   ]
  },
  {
   "cell_type": "markdown",
   "metadata": {},
   "source": [
    "### Closer look at T2"
   ]
  },
  {
   "cell_type": "code",
   "execution_count": 44,
   "metadata": {
    "collapsed": false
   },
   "outputs": [
    {
     "data": {
      "image/png": "[encoded data removed]"
     },
     "metadata": {},
     "output_type": "display_data"
    }
   ],
   "source": [
    "%%R\n",
    "p1 = ggplot(subset(ordMean, TimePoint == \"T2\"), aes(x = R_Year, y = mAxis.1)) +\n",
    "    geom_point() +\n",
    "    ylim(c(-0.16, 0.155))+\n",
    "     geom_errorbar(aes(ymin = mAxis.1 - seAxis.1, ymax = mAxis.1 + seAxis.1),color = \"black\",\n",
    "                height = .002)+\n",
    "    stat_smooth(method = \"lm\", formula = y ~ poly(x,2))\n",
    "\n",
    "p2 =    ggplot(subset(ordMean, TimePoint == \"T2\"), aes(x = R_Year, y = mAxis.2)) +\n",
    "    geom_point() +\n",
    "     geom_errorbar(aes(ymin = mAxis.2 - seAxis.2, ymax = mAxis.2 + seAxis.2),      \n",
    "                color = \"black\",\n",
    "                width = .002)+\n",
    "    ylim(c(-0.07, 0.06))+\n",
    "    stat_smooth(method = \"lm\", formula = y ~ poly(x,2))\n",
    "\n",
    "\n",
    "    stat_smooth(method = \"lm\", formula = y ~ poly(x,2))\n",
    "p3 =    ggplot(subset(ordMean, TimePoint == \"T2\" & Genotype == \"Bare\"), aes(x = Genotype, y = mAxis.1)) +\n",
    "    geom_point() +\n",
    "    ylim(c(-0.16, 0.155))+\n",
    "     geom_errorbar(aes(ymin = mAxis.1- seAxis.1, ymax = mAxis.1 + seAxis.1),      \n",
    "                color = \"black\",\n",
    "                width = .002)+\n",
    "    stat_smooth(method = \"lm\", formula = y ~ poly(x,2))\n",
    "\n",
    "p4 =    ggplot(subset(ordMean, TimePoint == \"T2\" & Genotype == \"Bare\"), aes(x = Genotype, y = mAxis.2)) +\n",
    "    geom_point() +\n",
    "    ylim(c(-0.07, 0.06))+\n",
    "     geom_errorbar(aes(ymin = mAxis.2 - seAxis.2, ymax = mAxis.2 + seAxis.2),      \n",
    "                color = \"black\",\n",
    "                width = .002)+\n",
    "    stat_smooth(method = \"lm\", formula = y ~ poly(x,2))\n",
    "\n",
    "grid.arrange(p1, p3, p2,p4,  ncol = 2, widths = c(2,1))"
   ]
  },
  {
   "cell_type": "markdown",
   "metadata": {},
   "source": [
    "### PCOA~RYear"
   ]
  },
  {
   "cell_type": "markdown",
   "metadata": {},
   "source": [
    "* Axis 1"
   ]
  },
  {
   "cell_type": "code",
   "execution_count": 51,
   "metadata": {
    "collapsed": false,
    "scrolled": true
   },
   "outputs": [
    {
     "data": {
      "text/plain": [
       "Analysis of Variance Table of type III  with  Satterthwaite \n",
       "approximation for degrees of freedom\n",
       "                 Sum Sq   Mean Sq NumDF DenDF F.value  Pr(>F)  \n",
       "poly(R_Year, 2) 0.01113 0.0055649     2     9  3.4502 0.07722 .\n",
       "---\n",
       "Signif. codes:  0 ‘***’ 0.001 ‘**’ 0.01 ‘*’ 0.05 ‘.’ 0.1 ‘ ’ 1\n",
       "Linear mixed model fit by REML t-tests use Satterthwaite approximations to\n",
       "  degrees of freedom [lmerMod]\n",
       "Formula: Axis.1 ~ poly(R_Year, 2) + (1 | Rep) + (1 | Genotype)\n",
       "   Data: tmp\n",
       "\n",
       "REML criterion at convergence: -148.3\n",
       "\n",
       "Scaled residuals: \n",
       "     Min       1Q   Median       3Q      Max \n",
       "-2.09552 -0.50822 -0.08453  0.29658  2.70850 \n",
       "\n",
       "Random effects:\n",
       " Groups   Name        Variance  Std.Dev.\n",
       " Genotype (Intercept) 0.0003111 0.01764 \n",
       " Rep      (Intercept) 0.0004300 0.02074 \n",
       " Residual             0.0016129 0.04016 \n",
       "Number of obs: 48, groups:  Genotype, 12; Rep, 4\n",
       "\n",
       "Fixed effects:\n",
       "                 Estimate Std. Error       df t value Pr(>|t|)  \n",
       "(Intercept)       0.01981    0.01292  3.94900   1.533   0.2009  \n",
       "poly(R_Year, 2)1 -0.01713    0.05345  9.00000  -0.320   0.7560  \n",
       "poly(R_Year, 2)2 -0.13937    0.05345  9.00000  -2.607   0.0284 *\n",
       "---\n",
       "Signif. codes:  0 ‘***’ 0.001 ‘**’ 0.01 ‘*’ 0.05 ‘.’ 0.1 ‘ ’ 1\n",
       "\n",
       "Correlation of Fixed Effects:\n",
       "            (Intr) p(R_Y,2)1\n",
       "ply(R_Y,2)1 0.000           \n",
       "ply(R_Y,2)2 0.000  0.000    \n"
      ]
     },
     "metadata": {},
     "output_type": "display_data"
    }
   ],
   "source": [
    "%%R\n",
    "# on raw data\n",
    "tmp = p.df %>% filter(TimePoint == \"T2\" & Genotype != \"Bare\")\n",
    "m = lmer(Axis.1~poly(R_Year,2) + (1|Rep) + (1|Genotype), data = tmp)\n",
    "anova(m) %>% print\n",
    "summary(m)"
   ]
  },
  {
   "cell_type": "code",
   "execution_count": 50,
   "metadata": {
    "collapsed": false,
    "scrolled": true
   },
   "outputs": [
    {
     "data": {
      "text/plain": [
       "      R2m       R2c \n",
       "0.1512583 0.4184643 \n"
      ]
     },
     "metadata": {},
     "output_type": "display_data"
    }
   ],
   "source": [
    "%%R\n",
    "r.squaredGLMM(m)"
   ]
  },
  {
   "cell_type": "markdown",
   "metadata": {},
   "source": [
    "* Axis 2 "
   ]
  },
  {
   "cell_type": "code",
   "execution_count": 74,
   "metadata": {
    "collapsed": false
   },
   "outputs": [
    {
     "data": {
      "text/plain": [
       "Analysis of Variance Table of type III  with  Satterthwaite \n",
       "approximation for degrees of freedom\n",
       "                  Sum Sq   Mean Sq NumDF DenDF F.value  Pr(>F)  \n",
       "poly(R_Year, 2) 0.010585 0.0052923     2    42  2.5097 0.09341 .\n",
       "---\n",
       "Signif. codes:  0 ‘***’ 0.001 ‘**’ 0.01 ‘*’ 0.05 ‘.’ 0.1 ‘ ’ 1\n",
       "Linear mixed model fit by REML t-tests use Satterthwaite approximations to\n",
       "  degrees of freedom [lmerMod]\n",
       "Formula: Axis.2 ~ poly(R_Year, 2) + (1 | Rep) + (1 | Genotype)\n",
       "   Data: tmp\n",
       "\n",
       "REML criterion at convergence: -140.3\n",
       "\n",
       "Scaled residuals: \n",
       "     Min       1Q   Median       3Q      Max \n",
       "-1.81122 -0.72545  0.03988  0.75122  2.16516 \n",
       "\n",
       "Random effects:\n",
       " Groups   Name        Variance  Std.Dev.\n",
       " Genotype (Intercept) 0.0000000 0.00000 \n",
       " Rep      (Intercept) 0.0008846 0.02974 \n",
       " Residual             0.0021087 0.04592 \n",
       "Number of obs: 48, groups:  Genotype, 12; Rep, 4\n",
       "\n",
       "Fixed effects:\n",
       "                   Estimate Std. Error         df t value Pr(>|t|)  \n",
       "(Intercept)      -0.0003057  0.0162814  3.0000000  -0.019   0.9862  \n",
       "poly(R_Year, 2)1 -0.0678229  0.0459208 42.0000000  -1.477   0.1471  \n",
       "poly(R_Year, 2)2  0.0773611  0.0459208 42.0000000   1.685   0.0995 .\n",
       "---\n",
       "Signif. codes:  0 ‘***’ 0.001 ‘**’ 0.01 ‘*’ 0.05 ‘.’ 0.1 ‘ ’ 1\n",
       "\n",
       "Correlation of Fixed Effects:\n",
       "            (Intr) p(R_Y,2)1\n",
       "ply(R_Y,2)1 0.000           \n",
       "ply(R_Y,2)2 0.000  0.000    \n"
      ]
     },
     "metadata": {},
     "output_type": "display_data"
    }
   ],
   "source": [
    "%%R\n",
    "# on raw data\n",
    "tmp = p.df %>% filter(TimePoint == \"T2\" & Genotype != \"Bare\")\n",
    "m = lmer(Axis.2~poly(R_Year,2) + (1|Rep) + (1|Genotype), data = tmp)\n",
    "anova(m) %>% print\n",
    "summary(m)"
   ]
  },
  {
   "cell_type": "code",
   "execution_count": 75,
   "metadata": {
    "collapsed": false
   },
   "outputs": [
    {
     "data": {
      "text/plain": [
       "       R2m        R2c \n",
       "0.06997175 0.34481957 \n"
      ]
     },
     "metadata": {},
     "output_type": "display_data"
    }
   ],
   "source": [
    "%%R\n",
    "r.squaredGLMM(m)"
   ]
  },
  {
   "cell_type": "markdown",
   "metadata": {},
   "source": [
    "# Core adonis in time"
   ]
  },
  {
   "cell_type": "code",
   "execution_count": 52,
   "metadata": {
    "collapsed": false
   },
   "outputs": [
    {
     "data": {
      "text/plain": [
       "phyloseq-class experiment-level object\n",
       "otu_table()   OTU Table:         [ 4592 taxa and 72 samples ]\n",
       "sample_data() Sample Data:       [ 72 samples by 47 sample variables ]\n",
       "tax_table()   Taxonomy Table:    [ 4592 taxa by 8 taxonomic ranks ]\n",
       "phy_tree()    Phylogenetic Tree: [ 4592 tips and 4591 internal nodes ]\n"
      ]
     },
     "metadata": {},
     "output_type": "display_data"
    }
   ],
   "source": [
    "%%R\n",
    "physeq.core = subset_samples(physeq, Plant %in% c(\"330\", \"34M95\", \"354\", \"3475\", \"3517\", \"P1151HR\") & \n",
    "                             TimePoint != \"T0\" & Fert == \"85\")\n",
    "physeq.core"
   ]
  },
  {
   "cell_type": "code",
   "execution_count": 53,
   "metadata": {
    "collapsed": false
   },
   "outputs": [],
   "source": [
    "%%R\n",
    "\n",
    "# create unifrac distance matrix\n",
    "registerDoParallel(cores=28)\n",
    "core.wunif.dist = distance(physeq.core, \n",
    "                      method = \"unifrac\", \n",
    "                      weighted = TRUE,\n",
    "                      fast = TRUE, \n",
    "                      parallel = TRUE, \n",
    "                      normalized = FALSE)\n",
    "\n",
    "core.bray.dist = distance(physeq.core, \n",
    "                      method = \"bray\", \n",
    "                      weighted = FALSE,\n",
    "                      fast = TRUE, \n",
    "                      parallel = TRUE, \n",
    "                      normalized = FALSE)\n"
   ]
  },
  {
   "cell_type": "code",
   "execution_count": 54,
   "metadata": {
    "collapsed": false,
    "scrolled": false
   },
   "outputs": [
    {
     "data": {
      "text/plain": [
       "[1] \"Bray-curtis\"\n",
       "\n",
       "Call:\n",
       "adonis(formula = d ~ Rep * TimePoint + Genotype * TimePoint,      data = df, permutations = 999) \n",
       "\n",
       "Permutation: free\n",
       "Number of permutations: 999\n",
       "\n",
       "Terms added sequentially (first to last)\n",
       "\n",
       "                   Df SumsOfSqs  MeanSqs F.Model      R2 Pr(>F)    \n",
       "Rep                 3   0.22876 0.076254 1.89826 0.07246  0.001 ***\n",
       "TimePoint           2   0.23288 0.116440 2.89864 0.07376  0.001 ***\n",
       "Genotype            5   0.24769 0.049538 1.23320 0.07845  0.004 ** \n",
       "Rep:TimePoint       6   0.25658 0.042763 1.06453 0.08127  0.161    \n",
       "TimePoint:Genotype 10   0.38366 0.038366 0.95508 0.12152  0.778    \n",
       "Residuals          45   1.80767 0.040170         0.57255           \n",
       "Total              71   3.15724                  1.00000           \n",
       "---\n",
       "Signif. codes:  0 ‘***’ 0.001 ‘**’ 0.01 ‘*’ 0.05 ‘.’ 0.1 ‘ ’ 1\n",
       "[1] \"\"\n",
       "[1] \"weighted UniFrac\"\n",
       "\n",
       "Call:\n",
       "adonis(formula = d ~ Rep * TimePoint + Genotype * TimePoint,      data = df, permutations = 999) \n",
       "\n",
       "Permutation: free\n",
       "Number of permutations: 999\n",
       "\n",
       "Terms added sequentially (first to last)\n",
       "\n",
       "                   Df SumsOfSqs   MeanSqs F.Model      R2 Pr(>F)    \n",
       "Rep                 3  0.026629 0.0088763  2.2818 0.08454  0.001 ***\n",
       "TimePoint           2  0.029136 0.0145678  3.7449 0.09250  0.001 ***\n",
       "Genotype            5  0.023669 0.0047339  1.2169 0.07515  0.104    \n",
       "Rep:TimePoint       6  0.024533 0.0040888  1.0511 0.07789  0.344    \n",
       "TimePoint:Genotype 10  0.035962 0.0035962  0.9245 0.11417  0.695    \n",
       "Residuals          45  0.175050 0.0038900         0.55575           \n",
       "Total              71  0.314979                   1.00000           \n",
       "---\n",
       "Signif. codes:  0 ‘***’ 0.001 ‘**’ 0.01 ‘*’ 0.05 ‘.’ 0.1 ‘ ’ 1\n"
      ]
     },
     "metadata": {},
     "output_type": "display_data"
    }
   ],
   "source": [
    "%%R\n",
    "set.seed(101)\n",
    "\n",
    "df = as(sample_data(physeq.core), \"data.frame\")\n",
    "d = core.bray.dist\n",
    "print(\"Bray-curtis\")\n",
    "Coreadonis = adonis(formula = d ~ Rep*TimePoint + Genotype*TimePoint, df, permutations = 999)\n",
    "Coreadonis %>% print\n",
    "\n",
    "print(\"\")\n",
    "print(\"weighted UniFrac\")\n",
    "d = core.wunif.dist\n",
    "Coreadonis = adonis(formula = d ~ Rep*TimePoint + Genotype*TimePoint, df, permutations = 999)\n",
    "Coreadonis"
   ]
  },
  {
   "cell_type": "markdown",
   "metadata": {},
   "source": [
    "## At each timepoint"
   ]
  },
  {
   "cell_type": "markdown",
   "metadata": {},
   "source": [
    "### T1"
   ]
  },
  {
   "cell_type": "code",
   "execution_count": 60,
   "metadata": {
    "collapsed": false
   },
   "outputs": [
    {
     "data": {
      "text/plain": [
       "phyloseq-class experiment-level object\n",
       "otu_table()   OTU Table:         [ 4592 taxa and 24 samples ]\n",
       "sample_data() Sample Data:       [ 24 samples by 47 sample variables ]\n",
       "tax_table()   Taxonomy Table:    [ 4592 taxa by 8 taxonomic ranks ]\n",
       "phy_tree()    Phylogenetic Tree: [ 4592 tips and 4591 internal nodes ]\n"
      ]
     },
     "metadata": {},
     "output_type": "display_data"
    }
   ],
   "source": [
    "%%R\n",
    "phy.c.t = subset_samples(physeq, Plant %in% c(\"330\", \"34M95\", \"354\", \"3475\", \"3517\", \"P1151HR\") & \n",
    "                             TimePoint == \"T1\" & Fert == \"85\")\n",
    "phy.c.t"
   ]
  },
  {
   "cell_type": "code",
   "execution_count": 61,
   "metadata": {
    "collapsed": false,
    "scrolled": true
   },
   "outputs": [
    {
     "data": {
      "text/plain": [
       "[1] \"Bray-curtis\"\n",
       "\n",
       "Call:\n",
       "adonis(formula = d ~ Rep + Genotype, data = df, permutations = 999) \n",
       "\n",
       "Permutation: free\n",
       "Number of permutations: 999\n",
       "\n",
       "Terms added sequentially (first to last)\n",
       "\n",
       "          Df SumsOfSqs  MeanSqs F.Model      R2 Pr(>F)  \n",
       "Rep        3   0.15857 0.052858  1.2447 0.15729  0.015 *\n",
       "Genotype   5   0.21258 0.042517  1.0012 0.21087  0.481  \n",
       "Residuals 15   0.63698 0.042465         0.63184         \n",
       "Total     23   1.00814                  1.00000         \n",
       "---\n",
       "Signif. codes:  0 ‘***’ 0.001 ‘**’ 0.01 ‘*’ 0.05 ‘.’ 0.1 ‘ ’ 1\n"
      ]
     },
     "metadata": {},
     "output_type": "display_data"
    }
   ],
   "source": [
    "%%R\n",
    "\n",
    "# create unifrac distance matrix\n",
    "registerDoParallel(cores=28)\n",
    "c.t.dist = distance(phy.c.t, \n",
    "                      method = \"bray\", \n",
    "                      weighted = FALSE,\n",
    "                      fast = TRUE, \n",
    "                      parallel = TRUE, \n",
    "                      normalized = FALSE)\n",
    "\n",
    "#Adonis\n",
    "set.seed(101)\n",
    "\n",
    "df = as(sample_data(phy.c.t), \"data.frame\")\n",
    "d = c.t.dist\n",
    "print(\"Bray-curtis\")\n",
    "Coreadonis = adonis(formula = d ~ Rep + Genotype, df, permutations = 999)\n",
    "Coreadonis %>% print"
   ]
  },
  {
   "cell_type": "code",
   "execution_count": null,
   "metadata": {
    "collapsed": true
   },
   "outputs": [],
   "source": []
  },
  {
   "cell_type": "markdown",
   "metadata": {},
   "source": [
    "### T2"
   ]
  },
  {
   "cell_type": "code",
   "execution_count": 66,
   "metadata": {
    "collapsed": false
   },
   "outputs": [
    {
     "data": {
      "text/plain": [
       "phyloseq-class experiment-level object\n",
       "otu_table()   OTU Table:         [ 4592 taxa and 24 samples ]\n",
       "sample_data() Sample Data:       [ 24 samples by 47 sample variables ]\n",
       "tax_table()   Taxonomy Table:    [ 4592 taxa by 8 taxonomic ranks ]\n",
       "phy_tree()    Phylogenetic Tree: [ 4592 tips and 4591 internal nodes ]\n"
      ]
     },
     "metadata": {},
     "output_type": "display_data"
    }
   ],
   "source": [
    "%%R\n",
    "phy.c.t = subset_samples(physeq, Plant %in% c(\"330\", \"34M95\", \"354\", \"3475\", \"3517\", \"P1151HR\") & \n",
    "                             TimePoint == \"T2\" & Fert == \"85\")\n",
    "phy.c.t"
   ]
  },
  {
   "cell_type": "code",
   "execution_count": 73,
   "metadata": {
    "collapsed": false
   },
   "outputs": [
    {
     "data": {
      "text/plain": [
       "[1] \"Bray-curtis\"\n",
       "\n",
       "Call:\n",
       "adonis(formula = d ~ Rep + Genotype, data = df, permutations = 999) \n",
       "\n",
       "Permutation: free\n",
       "Number of permutations: 999\n",
       "\n",
       "Terms added sequentially (first to last)\n",
       "\n",
       "          Df SumsOfSqs  MeanSqs F.Model      R2 Pr(>F)    \n",
       "Rep        3   0.17622 0.058740  1.5426 0.18478  0.001 ***\n",
       "Genotype   5   0.20624 0.041249  1.0832 0.21627  0.151    \n",
       "Residuals 15   0.57119 0.038079         0.59895           \n",
       "Total     23   0.95365                  1.00000           \n",
       "---\n",
       "Signif. codes:  0 ‘***’ 0.001 ‘**’ 0.01 ‘*’ 0.05 ‘.’ 0.1 ‘ ’ 1\n"
      ]
     },
     "metadata": {},
     "output_type": "display_data"
    }
   ],
   "source": [
    "%%R\n",
    "\n",
    "# create unifrac distance matrix\n",
    "registerDoParallel(cores=28)\n",
    "c.t.dist = distance(phy.c.t, \n",
    "                      method = \"bray\", \n",
    "                      weighted = FALSE,\n",
    "                      fast = TRUE, \n",
    "                      parallel = TRUE, \n",
    "                      normalized = FALSE)\n",
    "\n",
    "#Adonis\n",
    "set.seed(101)\n",
    "\n",
    "df = as(sample_data(phy.c.t), \"data.frame\")\n",
    "d = c.t.dist\n",
    "print(\"Bray-curtis\")\n",
    "Coreadonis = adonis(formula = d ~ Rep + Genotype, df, permutations = 999)\n",
    "Coreadonis %>% print"
   ]
  },
  {
   "cell_type": "code",
   "execution_count": null,
   "metadata": {
    "collapsed": true
   },
   "outputs": [],
   "source": []
  },
  {
   "cell_type": "markdown",
   "metadata": {},
   "source": [
    "### T3"
   ]
  },
  {
   "cell_type": "code",
   "execution_count": 64,
   "metadata": {
    "collapsed": false
   },
   "outputs": [
    {
     "data": {
      "text/plain": [
       "phyloseq-class experiment-level object\n",
       "otu_table()   OTU Table:         [ 4592 taxa and 24 samples ]\n",
       "sample_data() Sample Data:       [ 24 samples by 47 sample variables ]\n",
       "tax_table()   Taxonomy Table:    [ 4592 taxa by 8 taxonomic ranks ]\n",
       "phy_tree()    Phylogenetic Tree: [ 4592 tips and 4591 internal nodes ]\n"
      ]
     },
     "metadata": {},
     "output_type": "display_data"
    }
   ],
   "source": [
    "%%R\n",
    "phy.c.t = subset_samples(physeq, Plant %in% c(\"330\", \"34M95\", \"354\", \"3475\", \"3517\", \"P1151HR\") & \n",
    "                             TimePoint == \"T3\" & Fert == \"85\")\n",
    "phy.c.t"
   ]
  },
  {
   "cell_type": "code",
   "execution_count": 65,
   "metadata": {
    "collapsed": false
   },
   "outputs": [
    {
     "data": {
      "text/plain": [
       "[1] \"Bray-curtis\"\n",
       "\n",
       "Call:\n",
       "adonis(formula = d ~ Rep + Genotype, data = df, permutations = 999) \n",
       "\n",
       "Permutation: free\n",
       "Number of permutations: 999\n",
       "\n",
       "Terms added sequentially (first to last)\n",
       "\n",
       "          Df SumsOfSqs  MeanSqs F.Model      R2 Pr(>F)   \n",
       "Rep        3   0.15055 0.050182  1.2556 0.15640  0.003 **\n",
       "Genotype   5   0.21253 0.042505  1.0635 0.22079  0.167   \n",
       "Residuals 15   0.59950 0.039967         0.62281          \n",
       "Total     23   0.96257                  1.00000          \n",
       "---\n",
       "Signif. codes:  0 ‘***’ 0.001 ‘**’ 0.01 ‘*’ 0.05 ‘.’ 0.1 ‘ ’ 1\n"
      ]
     },
     "metadata": {},
     "output_type": "display_data"
    }
   ],
   "source": [
    "%%R\n",
    "\n",
    "# create unifrac distance matrix\n",
    "registerDoParallel(cores=28)\n",
    "c.t.dist = distance(phy.c.t, \n",
    "                      method = \"bray\", \n",
    "                      weighted = FALSE,\n",
    "                      fast = TRUE, \n",
    "                      parallel = TRUE, \n",
    "                      normalized = FALSE)\n",
    "\n",
    "#Adonis\n",
    "set.seed(101)\n",
    "\n",
    "df = as(sample_data(phy.c.t), \"data.frame\")\n",
    "d = c.t.dist\n",
    "print(\"Bray-curtis\")\n",
    "Coreadonis = adonis(formula = d ~ Rep + Genotype, df, permutations = 999)\n",
    "Coreadonis %>% print"
   ]
  },
  {
   "cell_type": "markdown",
   "metadata": {},
   "source": [
    "# --Sandbox--"
   ]
  },
  {
   "cell_type": "code",
   "execution_count": 17,
   "metadata": {
    "collapsed": false
   },
   "outputs": [
    {
     "data": {
      "image/png": "[encoded data removed]"
     },
     "metadata": {},
     "output_type": "display_data"
    }
   ],
   "source": [
    "%%R\n",
    "## generating plots\n",
    "p1 = ggplot(p.F, aes(x = NMDS1, y = NMDS2)) +\n",
    "        geom_point(aes(fill=R_Year), pch = 21, size = 3)\n",
    "        #scale_size(range=c(2,8))\n",
    "\n",
    "#p2 = ggplot(p, aes(x = NMDS1, y = NMDS2)) +\n",
    "        #geom_point(aes(fill=Plant, size = BD), pch=21) +\n",
    "        #scale_size(range=c(2,8))\n",
    "\n",
    "grid.arrange(p1, ncol=1)"
   ]
  },
  {
   "cell_type": "code",
   "execution_count": 18,
   "metadata": {
    "collapsed": false,
    "scrolled": true
   },
   "outputs": [
    {
     "data": {
      "image/png": "[encoded data removed]"
     },
     "metadata": {},
     "output_type": "display_data"
    }
   ],
   "source": [
    "%%R -w 600 -h 350\n",
    "p2 = p1 + facet_wrap(~TimePoint)+\n",
    "theme_pub()\n",
    "p2"
   ]
  },
  {
   "cell_type": "code",
   "execution_count": 19,
   "metadata": {
    "collapsed": true
   },
   "outputs": [],
   "source": [
    "# Create faceted figure with full dataset"
   ]
  },
  {
   "cell_type": "markdown",
   "metadata": {},
   "source": [
    "# Adonis sampling date by rhizosphere effect"
   ]
  },
  {
   "cell_type": "code",
   "execution_count": 20,
   "metadata": {
    "collapsed": false
   },
   "outputs": [],
   "source": [
    "%%R\n",
    "phy.core = subset_samples(physeq, Genotype %in% c(\"Bare\",\"330\", \"354\", \"3517\", \"3475\", \"34M95\", \"P1151HR\") &\n",
    "                         Fert == \"85\"  & TimePoint != \"T0\")"
   ]
  },
  {
   "cell_type": "code",
   "execution_count": 21,
   "metadata": {
    "collapsed": false
   },
   "outputs": [
    {
     "data": {
      "text/plain": [
       " [1] \"Rhizosphere\" \"Bare\"        \"Rhizosphere\" \"Rhizosphere\" \"Rhizosphere\"\n",
       " [6] \"Rhizosphere\" \"Bare\"        \"Rhizosphere\" \"Rhizosphere\" \"Rhizosphere\"\n",
       "[11] \"Rhizosphere\" \"Rhizosphere\" \"Rhizosphere\" \"Rhizosphere\" \"Bare\"       \n",
       "[16] \"Rhizosphere\" \"Bare\"        \"Rhizosphere\" \"Rhizosphere\" \"Rhizosphere\"\n",
       "[21] \"Rhizosphere\" \"Rhizosphere\" \"Bare\"        \"Rhizosphere\" \"Bare\"       \n",
       "[26] \"Rhizosphere\" \"Rhizosphere\" \"Rhizosphere\" \"Rhizosphere\" \"Rhizosphere\"\n",
       "[31] \"Rhizosphere\" \"Rhizosphere\" \"Rhizosphere\" \"Rhizosphere\" \"Rhizosphere\"\n",
       "[36] \"Bare\"        \"Rhizosphere\" \"Rhizosphere\" \"Rhizosphere\" \"Rhizosphere\"\n",
       "[41] \"Rhizosphere\" \"Rhizosphere\" \"Rhizosphere\" \"Rhizosphere\" \"Rhizosphere\"\n",
       "[46] \"Rhizosphere\" \"Rhizosphere\" \"Rhizosphere\" \"Bare\"        \"Rhizosphere\"\n",
       "[51] \"Rhizosphere\" \"Rhizosphere\" \"Rhizosphere\" \"Rhizosphere\" \"Rhizosphere\"\n",
       "[56] \"Rhizosphere\" \"Rhizosphere\" \"Rhizosphere\" \"Rhizosphere\" \"Rhizosphere\"\n",
       "[61] \"Rhizosphere\" \"Rhizosphere\" \"Rhizosphere\" \"Bare\"        \"Rhizosphere\"\n",
       "[66] \"Rhizosphere\" \"Rhizosphere\" \"Rhizosphere\" \"Rhizosphere\" \"Rhizosphere\"\n",
       "[71] \"Rhizosphere\" \"Rhizosphere\" \"Rhizosphere\" \"Bare\"        \"Rhizosphere\"\n",
       "[76] \"Rhizosphere\" \"Bare\"        \"Bare\"        \"Rhizosphere\" \"Rhizosphere\"\n",
       "[81] \"Rhizosphere\" \"Rhizosphere\" \"Rhizosphere\" \"Rhizosphere\"\n"
      ]
     },
     "metadata": {},
     "output_type": "display_data"
    }
   ],
   "source": [
    "%%R\n",
    "sample_data(phy.core)$Planted"
   ]
  },
  {
   "cell_type": "code",
   "execution_count": 22,
   "metadata": {
    "collapsed": false
   },
   "outputs": [],
   "source": [
    "%%R\n",
    "registerDoParallel(cores=28)\n",
    "bray.dist = distance(phy.core, \n",
    "                      method = \"bray\", \n",
    "                      weighted = TRUE,\n",
    "                      fast = TRUE, \n",
    "                      parallel = TRUE, \n",
    "                      normalized = FALSE)\n"
   ]
  },
  {
   "cell_type": "code",
   "execution_count": null,
   "metadata": {
    "collapsed": true
   },
   "outputs": [],
   "source": []
  },
  {
   "cell_type": "code",
   "execution_count": 23,
   "metadata": {
    "collapsed": false,
    "scrolled": true
   },
   "outputs": [
    {
     "data": {
      "text/plain": [
       "\n",
       "Call:\n",
       "adonis(formula = d ~ Rep + Planted + Genotype + TimePoint + Planted:TimePoint +      Genotype:TimePoint, data = df, permutations = 999) \n",
       "\n",
       "Permutation: free\n",
       "Number of permutations: 999\n",
       "\n",
       "Terms added sequentially (first to last)\n",
       "\n",
       "                   Df SumsOfSqs MeanSqs F.Model      R2 Pr(>F)    \n",
       "Rep                 3    0.2297 0.07658  2.0020 0.06110  0.001 ***\n",
       "Planted             1    0.3265 0.32646  8.5347 0.08683  0.001 ***\n",
       "Genotype            5    0.2477 0.04954  1.2951 0.06588  0.012 *  \n",
       "TimePoint           2    0.2099 0.10493  2.7432 0.05582  0.001 ***\n",
       "Planted:TimePoint   2    0.0675 0.03373  0.8818 0.01794  0.772    \n",
       "Genotype:TimePoint 10    0.3837 0.03837  1.0030 0.10204  0.440    \n",
       "Residuals          60    2.2950 0.03825         0.61040           \n",
       "Total              83    3.7599                 1.00000           \n",
       "---\n",
       "Signif. codes:  0 ‘***’ 0.001 ‘**’ 0.01 ‘*’ 0.05 ‘.’ 0.1 ‘ ’ 1\n"
      ]
     },
     "metadata": {},
     "output_type": "display_data"
    }
   ],
   "source": [
    "%%R\n",
    "set.seed(101)\n",
    "\n",
    "df = as(sample_data(phy.core), \"data.frame\")\n",
    "d = bray.dist\n",
    "df$Fert = as.factor(df$Fert)\n",
    "Fulladonis = adonis(formula = d ~ Rep + Planted + Genotype + TimePoint + Planted:TimePoint + Genotype:TimePoint, df, \n",
    "                    permutations = 999)\n",
    "Fulladonis"
   ]
  },
  {
   "cell_type": "code",
   "execution_count": null,
   "metadata": {
    "collapsed": true
   },
   "outputs": [],
   "source": []
  },
  {
   "cell_type": "markdown",
   "metadata": {},
   "source": [
    "# Dissimiliarity by time point"
   ]
  },
  {
   "cell_type": "markdown",
   "metadata": {},
   "source": [
    "## T1 adonis"
   ]
  },
  {
   "cell_type": "code",
   "execution_count": 24,
   "metadata": {
    "collapsed": false,
    "scrolled": false
   },
   "outputs": [
    {
     "data": {
      "text/plain": [
       "phyloseq-class experiment-level object\n",
       "otu_table()   OTU Table:         [ 4592 taxa and 72 samples ]\n",
       "sample_data() Sample Data:       [ 72 samples by 47 sample variables ]\n",
       "tax_table()   Taxonomy Table:    [ 4592 taxa by 8 taxonomic ranks ]\n",
       "phy_tree()    Phylogenetic Tree: [ 4592 tips and 4591 internal nodes ]\n"
      ]
     },
     "metadata": {},
     "output_type": "display_data"
    }
   ],
   "source": [
    "%%R\n",
    "physeq.plantT1 = subset_samples(physeq,  Planted == \"Rhizosphere\" & TimePoint == \"T1\")\n",
    "physeq.plantT1"
   ]
  },
  {
   "cell_type": "code",
   "execution_count": 25,
   "metadata": {
    "collapsed": false
   },
   "outputs": [],
   "source": [
    "%%R\n",
    "registerDoParallel(cores=28)\n",
    "T1.wunif.dist = distance(physeq.plantT1, \n",
    "                      method = \"unifrac\", \n",
    "                      weighted = TRUE,\n",
    "                      fast = TRUE, \n",
    "                      parallel = TRUE, \n",
    "                      normalized = FALSE)\n",
    "\n",
    "T1.bray.dist = distance(physeq.plantT1, \n",
    "                      method = \"bray\", \n",
    "                      weighted = TRUE,\n",
    "                      fast = TRUE, \n",
    "                      parallel = TRUE, \n",
    "                      normalized = FALSE)"
   ]
  },
  {
   "cell_type": "code",
   "execution_count": 26,
   "metadata": {
    "collapsed": false,
    "scrolled": true
   },
   "outputs": [
    {
     "data": {
      "text/plain": [
       "[1] \"Bray-curtis\"\n",
       "\n",
       "Call:\n",
       "adonis(formula = d ~ Rep + Fert + Genotype, data = df, permutations = 999) \n",
       "\n",
       "Permutation: free\n",
       "Number of permutations: 999\n",
       "\n",
       "Terms added sequentially (first to last)\n",
       "\n",
       "          Df SumsOfSqs  MeanSqs F.Model      R2 Pr(>F)    \n",
       "Rep        3   0.25265 0.084216 2.19360 0.08753  0.001 ***\n",
       "Fert       2   0.07153 0.035766 0.93162 0.02478  0.740    \n",
       "Genotype   5   0.22049 0.044098 1.14864 0.07639  0.026 *  \n",
       "Residuals 61   2.34189 0.038392         0.81131           \n",
       "Total     71   2.88656                  1.00000           \n",
       "---\n",
       "Signif. codes:  0 ‘***’ 0.001 ‘**’ 0.01 ‘*’ 0.05 ‘.’ 0.1 ‘ ’ 1\n",
       "[1] \"w-UniFrac\"\n",
       "\n",
       "Call:\n",
       "adonis(formula = d ~ Rep + Fert + Genotype, data = df, permutations = 999) \n",
       "\n",
       "Permutation: free\n",
       "Number of permutations: 999\n",
       "\n",
       "Terms added sequentially (first to last)\n",
       "\n",
       "          Df SumsOfSqs   MeanSqs F.Model      R2 Pr(>F)    \n",
       "Rep        3  0.037211 0.0124038  3.2048 0.12446  0.001 ***\n",
       "Fert       2  0.005278 0.0026391  0.6819 0.01765  0.915    \n",
       "Genotype   5  0.020408 0.0040816  1.0545 0.06825  0.365    \n",
       "Residuals 61  0.236096 0.0038704         0.78964           \n",
       "Total     71  0.298993                   1.00000           \n",
       "---\n",
       "Signif. codes:  0 ‘***’ 0.001 ‘**’ 0.01 ‘*’ 0.05 ‘.’ 0.1 ‘ ’ 1\n"
      ]
     },
     "metadata": {},
     "output_type": "display_data"
    }
   ],
   "source": [
    "%%R\n",
    "set.seed(101)\n",
    "\n",
    "df = as(sample_data(physeq.plantT1), \"data.frame\")\n",
    "\n",
    "print(\"Bray-curtis\")\n",
    "\n",
    "d = T1.bray.dist\n",
    "T1adonis = adonis(formula = d ~ Rep + Fert + Genotype, df, permutations = 999)\n",
    "T1adonis %>% print\n",
    "\n",
    "print(\"w-UniFrac\")\n",
    "d = T1.wunif.dist\n",
    "T1adonis = adonis(formula = d ~ Rep + Fert + Genotype, df, permutations = 999)\n",
    "T1adonis\n"
   ]
  },
  {
   "cell_type": "markdown",
   "metadata": {},
   "source": [
    "* Genotype has a significant effect on Bray-curtis distance, but not weighted unifrac\n",
    "* Fertilization and genotype do not predict MCC at T1, nor does R_Year\n"
   ]
  },
  {
   "cell_type": "code",
   "execution_count": 27,
   "metadata": {
    "collapsed": true
   },
   "outputs": [],
   "source": [
    "### Ordinate T1"
   ]
  },
  {
   "cell_type": "code",
   "execution_count": 28,
   "metadata": {
    "collapsed": false,
    "scrolled": true
   },
   "outputs": [
    {
     "data": {
      "text/plain": [
       "Run 0 stress 0.1451364 \n",
       "Run 1 stress 0.1467465 \n",
       "Run 2 stress 0.149555 \n",
       "Run 3 stress 0.1478534 \n",
       "Run 4 stress 0.1478523 \n",
       "Run 5 stress 0.1476905 \n",
       "Run 6 stress 0.1453912 \n",
       "... Procrustes: rmse 0.0290442  max resid 0.1283431 \n",
       "Run 7 stress 0.1477762 \n",
       "Run 8 stress 0.1484775 \n",
       "Run 9 stress 0.1477834 \n",
       "Run 10 stress 0.1449198 \n",
       "... New best solution\n",
       "... Procrustes: rmse 0.01150246  max resid 0.07912025 \n",
       "Run 11 stress 0.1469508 \n",
       "Run 12 stress 0.1463599 \n",
       "Run 13 stress 0.1464097 \n",
       "Run 14 stress 0.1448661 \n",
       "... New best solution\n",
       "... Procrustes: rmse 0.01494519  max resid 0.08698069 \n",
       "Run 15 stress 0.1481362 \n",
       "Run 16 stress 0.1477838 \n",
       "Run 17 stress 0.1478307 \n",
       "Run 18 stress 0.1470326 \n",
       "Run 19 stress 0.1485094 \n",
       "Run 20 stress 0.1481361 \n",
       "Run 21 stress 0.1457989 \n",
       "Run 22 stress 0.1481131 \n",
       "Run 23 stress 0.1448862 \n",
       "... Procrustes: rmse 0.002699791  max resid 0.01820588 \n",
       "Run 24 stress 0.1449165 \n",
       "... Procrustes: rmse 0.00466223  max resid 0.03179257 \n",
       "Run 25 stress 0.1450687 \n",
       "... Procrustes: rmse 0.00748379  max resid 0.04074644 \n",
       "Run 26 stress 0.1463288 \n",
       "Run 27 stress 0.1449259 \n",
       "... Procrustes: rmse 0.01457525  max resid 0.08615354 \n",
       "Run 28 stress 0.1460801 \n",
       "Run 29 stress 0.1464102 \n",
       "Run 30 stress 0.1448658 \n",
       "... New best solution\n",
       "... Procrustes: rmse 0.0008847195  max resid 0.004182471 \n",
       "... Similar to previous best\n",
       "*** Solution reached\n"
      ]
     },
     "metadata": {},
     "output_type": "display_data"
    }
   ],
   "source": [
    "%%R\n",
    "## Taking distance matrix and making NNMDS rank values with vegan function metaMDS\n",
    "### k = dimensions (usually 2 or 3 used), trymax can give more attempts to reach solution than the default that phyloseq uses\n",
    "\n",
    "dist.bray.nmds = metaMDS(T1.bray.dist,autotransform=F,k=3,trymax=50)\n",
    "\n"
   ]
  },
  {
   "cell_type": "code",
   "execution_count": 29,
   "metadata": {
    "collapsed": false,
    "scrolled": true
   },
   "outputs": [
    {
     "data": {
      "image/png": "[encoded data removed]"
     },
     "metadata": {},
     "output_type": "display_data"
    }
   ],
   "source": [
    "%%R\n",
    "p.t1 = plot_ordination(physeq.plantT1, dist.bray.nmds, justDF = TRUE)\n",
    "\n",
    "\n",
    "p = ggplot(p.t1,aes(x = NMDS1, y = NMDS2)) +\n",
    "        geom_point(aes(color=as.factor(R_Year), size = kgdw_ha)) +\n",
    "    theme_pub()\n",
    "        \n",
    "p"
   ]
  },
  {
   "cell_type": "code",
   "execution_count": null,
   "metadata": {
    "collapsed": true
   },
   "outputs": [],
   "source": []
  },
  {
   "cell_type": "code",
   "execution_count": 30,
   "metadata": {
    "collapsed": false
   },
   "outputs": [],
   "source": [
    "%%R\n",
    "ordMean = p.t1 %>% \n",
    "    group_by(Genotype, R_Year) %>%\n",
    "    summarize(mAxis.1 = mean(NMDS1),\n",
    "                seAxis.1 = sd(NMDS1)/sqrt(length(NMDS1)),\n",
    "             mAxis.2 = mean(NMDS2), \n",
    "             seAxis.2 = sd(NMDS2)/sqrt(length(NMDS2)))\n",
    "\n",
    "\n"
   ]
  },
  {
   "cell_type": "code",
   "execution_count": 31,
   "metadata": {
    "collapsed": false
   },
   "outputs": [
    {
     "data": {
      "image/png": "[encoded data removed]"
     },
     "metadata": {},
     "output_type": "display_data"
    }
   ],
   "source": [
    "%%R -w 800 -h 400\n",
    "pT1 = ggplot(ordMean, aes(x = mAxis.1, y = mAxis.2, label = R_Year)) +\n",
    "    geom_point()+\n",
    "    theme_pub()+\n",
    "    geom_errorbar(aes(ymin = mAxis.2 - seAxis.2, ymax = mAxis.2 + seAxis.2),      \n",
    "                color = \"black\",\n",
    "                width = .002) +\n",
    "    geom_errorbarh(aes(xmin = mAxis.1 - seAxis.1, xmax = mAxis.1 + seAxis.1),color = \"black\",\n",
    "                height = .002)+\n",
    "    geom_label(aes(color = R_Year), check_overlap = TRUE) +\n",
    "    theme(legend.position = \"none\")+\n",
    "    xlab(\"NMDS1\")+\n",
    "    ylab(\"NMDS2\")+\n",
    "   # facet_wrap(~Fert)+\n",
    "    ggtitle(\"T1\")\n",
    "\n",
    "pT1"
   ]
  },
  {
   "cell_type": "markdown",
   "metadata": {},
   "source": [
    "### Mantel of T1 "
   ]
  },
  {
   "cell_type": "code",
   "execution_count": 32,
   "metadata": {
    "collapsed": false
   },
   "outputs": [
    {
     "data": {
      "text/plain": [
       "\n",
       "Partial Mantel statistic based on Pearson's product-moment correlation \n",
       "\n",
       "Call:\n",
       "mantel.partial(xdis = T1.bray.dist, ydis = Yd, zdis = Rd, method = \"pearson\",      permutations = 999) \n",
       "\n",
       "Mantel statistic r: 0.07992 \n",
       "      Significance: 0.023 \n",
       "\n",
       "Upper quantiles of permutations (null model):\n",
       "   90%    95%  97.5%    99% \n",
       "0.0479 0.0643 0.0745 0.0912 \n",
       "Permutation: free\n",
       "Number of permutations: 999\n",
       "\n",
       "\n",
       "Partial Mantel statistic based on Pearson's product-moment correlation \n",
       "\n",
       "Call:\n",
       "mantel.partial(xdis = T1.wunif.dist, ydis = Yd, zdis = Rd, method = \"pearson\",      permutations = 999) \n",
       "\n",
       "Mantel statistic r: 0.06282 \n",
       "      Significance: 0.065 \n",
       "\n",
       "Upper quantiles of permutations (null model):\n",
       "   90%    95%  97.5%    99% \n",
       "0.0543 0.0671 0.0796 0.0926 \n",
       "Permutation: free\n",
       "Number of permutations: 999\n",
       "\n"
      ]
     },
     "metadata": {},
     "output_type": "display_data"
    }
   ],
   "source": [
    "%%R\n",
    "\n",
    "#Test on soil activity/rhizosphere effect\n",
    "Sd = sample_data(physeq.plantT1)\n",
    "\n",
    "# Generate distance matrix of year of release\n",
    "Yd = dist(Sd[,\"R_Year\"], method = \"euclidian\")\n",
    "#hist(Yd)\n",
    "\n",
    "# generate distance matrix of rep and change all values > 1 to 1\n",
    "Rd = dist(Sd[,\"Rep\"])\n",
    "Rd[Rd > 1] <- 1\n",
    "\n",
    "\n",
    "M1 = mantel.partial(T1.bray.dist, Yd, Rd, method=\"pearson\", permutations=999)\n",
    "M1 %>% print\n",
    "\n",
    "M2 =  mantel.partial(T1.wunif.dist, Yd, Rd, method=\"pearson\", permutations=999)\n",
    "M2 %>% print\n",
    "#Model is not significant within T3"
   ]
  },
  {
   "cell_type": "code",
   "execution_count": null,
   "metadata": {
    "collapsed": true
   },
   "outputs": [],
   "source": []
  },
  {
   "cell_type": "markdown",
   "metadata": {},
   "source": [
    "##  T2 ADONIS"
   ]
  },
  {
   "cell_type": "code",
   "execution_count": 33,
   "metadata": {
    "collapsed": false
   },
   "outputs": [],
   "source": [
    "%%R\n",
    "# subset phyloseq object\n",
    "physeq.plantT2 = subset_samples(physeq,  Planted == \"Rhizosphere\" & TimePoint == \"T2\" & SeedTreatment == \"Treated\")\n",
    "physeq.plantT2\n",
    "\n",
    "# create unifrac distance matrix\n",
    "registerDoParallel(cores=28)\n",
    "T2.wunif.dist = distance(physeq.plantT2, \n",
    "                      method = \"unifrac\", \n",
    "                      weighted = TRUE,\n",
    "                      fast = TRUE, \n",
    "                      parallel = TRUE, \n",
    "                      normalized = FALSE)\n",
    "\n",
    "T2.bray.dist = distance(physeq.plantT2, \n",
    "                      method = \"bray\", \n",
    "                      weighted = TRUE,\n",
    "                      fast = TRUE, \n",
    "                      parallel = TRUE, \n",
    "                      normalized = FALSE)"
   ]
  },
  {
   "cell_type": "code",
   "execution_count": 34,
   "metadata": {
    "collapsed": false,
    "scrolled": true
   },
   "outputs": [
    {
     "data": {
      "text/plain": [
       "[1] \"Bray-Curtis\"\n",
       "\n",
       "Call:\n",
       "adonis(formula = d ~ Rep + Genotype, data = df, permutations = 999) \n",
       "\n",
       "Permutation: free\n",
       "Number of permutations: 999\n",
       "\n",
       "Terms added sequentially (first to last)\n",
       "\n",
       "          Df SumsOfSqs  MeanSqs F.Model      R2 Pr(>F)    \n",
       "Rep        3   0.23615 0.078717   2.054 0.12000  0.001 ***\n",
       "Genotype  11   0.46708 0.042462   1.108 0.23735  0.039 *  \n",
       "Residuals 33   1.26467 0.038323         0.64265           \n",
       "Total     47   1.96790                  1.00000           \n",
       "---\n",
       "Signif. codes:  0 ‘***’ 0.001 ‘**’ 0.01 ‘*’ 0.05 ‘.’ 0.1 ‘ ’ 1\n",
       "[1] \"w-UniFrac\"\n",
       "\n",
       "Call:\n",
       "adonis(formula = d ~ Rep + Genotype, data = df, permutations = 999) \n",
       "\n",
       "Permutation: free\n",
       "Number of permutations: 999\n",
       "\n",
       "Terms added sequentially (first to last)\n",
       "\n",
       "          Df SumsOfSqs   MeanSqs F.Model      R2 Pr(>F)    \n",
       "Rep        3  0.031581 0.0105269  3.1315 0.16598  0.001 ***\n",
       "Genotype  11  0.047754 0.0043413  1.2914 0.25098  0.024 *  \n",
       "Residuals 33  0.110935 0.0033617         0.58304           \n",
       "Total     47  0.190270                   1.00000           \n",
       "---\n",
       "Signif. codes:  0 ‘***’ 0.001 ‘**’ 0.01 ‘*’ 0.05 ‘.’ 0.1 ‘ ’ 1\n"
      ]
     },
     "metadata": {},
     "output_type": "display_data"
    }
   ],
   "source": [
    "%%R\n",
    "set.seed(101)\n",
    "\n",
    "\n",
    "df = as(sample_data(physeq.plantT2), \"data.frame\")\n",
    "\n",
    "print(\"Bray-Curtis\")\n",
    "d = T2.bray.dist\n",
    "T2adonis = adonis(formula = d ~ Rep + Genotype, df, permutations = 999)\n",
    "T2adonis %>% print\n",
    "\n",
    "print(\"w-UniFrac\")\n",
    "d = T2.wunif.dist\n",
    "T2adonis = adonis(formula = d ~ Rep + Genotype, df, permutations = 999)\n",
    "T2adonis\n"
   ]
  },
  {
   "cell_type": "markdown",
   "metadata": {
    "collapsed": true
   },
   "source": [
    "* Genotype has a significant effect on community composition at R1, but ADONIS is not significant for R_Year"
   ]
  },
  {
   "cell_type": "markdown",
   "metadata": {},
   "source": [
    "## T2 ordination "
   ]
  },
  {
   "cell_type": "code",
   "execution_count": 35,
   "metadata": {
    "collapsed": false
   },
   "outputs": [
    {
     "data": {
      "text/plain": [
       "Run 0 stress 0.111785 \n",
       "Run 1 stress 0.111786 \n",
       "... Procrustes: rmse 0.0005269393  max resid 0.002701488 \n",
       "... Similar to previous best\n",
       "Run 2 stress 0.1117869 \n",
       "... Procrustes: rmse 0.0005494032  max resid 0.002695254 \n",
       "... Similar to previous best\n",
       "Run 3 stress 0.1117856 \n",
       "... Procrustes: rmse 0.0003200912  max resid 0.001288098 \n",
       "... Similar to previous best\n",
       "Run 4 stress 0.111785 \n",
       "... New best solution\n",
       "... Procrustes: rmse 0.0003985006  max resid 0.00205871 \n",
       "... Similar to previous best\n",
       "Run 5 stress 0.1187453 \n",
       "Run 6 stress 0.1117855 \n",
       "... Procrustes: rmse 0.0005935915  max resid 0.002320255 \n",
       "... Similar to previous best\n",
       "Run 7 stress 0.111785 \n",
       "... Procrustes: rmse 0.0004214552  max resid 0.00176901 \n",
       "... Similar to previous best\n",
       "Run 8 stress 0.111789 \n",
       "... Procrustes: rmse 0.001152439  max resid 0.005196215 \n",
       "... Similar to previous best\n",
       "Run 9 stress 0.1117852 \n",
       "... Procrustes: rmse 0.0005795116  max resid 0.002854013 \n",
       "... Similar to previous best\n",
       "Run 10 stress 0.1117873 \n",
       "... Procrustes: rmse 0.0002879254  max resid 0.0008859368 \n",
       "... Similar to previous best\n",
       "Run 11 stress 0.1117851 \n",
       "... Procrustes: rmse 0.0003942962  max resid 0.001532562 \n",
       "... Similar to previous best\n",
       "Run 12 stress 0.1117888 \n",
       "... Procrustes: rmse 0.001115829  max resid 0.005263532 \n",
       "... Similar to previous best\n",
       "Run 13 stress 0.1241174 \n",
       "Run 14 stress 0.1117868 \n",
       "... Procrustes: rmse 0.0007378945  max resid 0.002776921 \n",
       "... Similar to previous best\n",
       "Run 15 stress 0.1117856 \n",
       "... Procrustes: rmse 0.0005829937  max resid 0.002782524 \n",
       "... Similar to previous best\n",
       "Run 16 stress 0.1182783 \n",
       "Run 17 stress 0.1187489 \n",
       "Run 18 stress 0.1117889 \n",
       "... Procrustes: rmse 0.001065432  max resid 0.004242826 \n",
       "... Similar to previous best\n",
       "Run 19 stress 0.1117882 \n",
       "... Procrustes: rmse 0.0007317801  max resid 0.002758322 \n",
       "... Similar to previous best\n",
       "Run 20 stress 0.1117857 \n",
       "... Procrustes: rmse 0.0005969463  max resid 0.002756091 \n",
       "... Similar to previous best\n",
       "*** Solution reached\n"
      ]
     },
     "metadata": {},
     "output_type": "display_data"
    }
   ],
   "source": [
    "%%R\n",
    "##Calculating wunifrac distances\n",
    "\n",
    "#dist.unif = distance(ps, method = \"weighted_unifrac\")\n",
    "\n",
    "## Taking distance matrix and making NNMDS rank values with vegan function metaMDS\n",
    "### k = dimensions (usually 2 or 3 used), trymax can give more attempts to reach solution than the default that phyloseq uses\n",
    "\n",
    "dist.bray.nmds = metaMDS(T2.bray.dist,autotransform=F,k=3,trymax=50)\n",
    "\n",
    "\n"
   ]
  },
  {
   "cell_type": "code",
   "execution_count": 36,
   "metadata": {
    "collapsed": false
   },
   "outputs": [],
   "source": [
    "%%R\n",
    "#Plot NMDS\n",
    "\n",
    "p = plot_ordination(physeq.plantT2, dist.bray.nmds, justDF = TRUE)\n"
   ]
  },
  {
   "cell_type": "code",
   "execution_count": 37,
   "metadata": {
    "collapsed": false,
    "scrolled": true
   },
   "outputs": [
    {
     "data": {
      "image/png": "[encoded data removed]"
     },
     "metadata": {},
     "output_type": "display_data"
    }
   ],
   "source": [
    "%%R\n",
    "\n",
    "p1 = ggplot(p,aes(x = NMDS1, y = NMDS2)) +\n",
    "        geom_point(aes(color=R_Year, shape = SeedTreatment, size = kgdw_ha))\n",
    "        \n",
    "p1"
   ]
  },
  {
   "cell_type": "code",
   "execution_count": 38,
   "metadata": {
    "collapsed": true
   },
   "outputs": [],
   "source": [
    "%%R\n",
    "ordMean = p %>% \n",
    "    group_by(Genotype, R_Year) %>%\n",
    "    summarize(mAxis.1 = mean(NMDS1),\n",
    "                seAxis.1 = sd(NMDS1)/sqrt(length(NMDS1)),\n",
    "             mAxis.2 = mean(NMDS2), \n",
    "             seAxis.2 = sd(NMDS2)/sqrt(length(NMDS2)))\n",
    "\n",
    "\n"
   ]
  },
  {
   "cell_type": "code",
   "execution_count": 39,
   "metadata": {
    "collapsed": false
   },
   "outputs": [
    {
     "data": {
      "image/png": "[encoded data removed]"
     },
     "metadata": {},
     "output_type": "display_data"
    }
   ],
   "source": [
    "%%R -w 800 -h 400\n",
    "ggplot(ordMean, aes(x = mAxis.1, y = mAxis.2, label = R_Year)) +\n",
    "    geom_point()+\n",
    "    theme_pub()+\n",
    "    geom_errorbar(aes(ymin = mAxis.2 - seAxis.2, ymax = mAxis.2 + seAxis.2),      \n",
    "                color = \"black\",\n",
    "                width = .002) +\n",
    "    geom_errorbarh(aes(xmin = mAxis.1 - seAxis.1, xmax = mAxis.1 + seAxis.1),color = \"black\",\n",
    "                height = .002)+\n",
    "    geom_label(aes(color = R_Year), check_overlap = TRUE) +\n",
    "    theme(legend.position = \"none\")+\n",
    "    xlab(\"NMDS1\")+\n",
    "    ylab(\"NMDS2\")"
   ]
  },
  {
   "cell_type": "code",
   "execution_count": 40,
   "metadata": {
    "collapsed": false
   },
   "outputs": [
    {
     "data": {
      "text/plain": [
       "        NMDS1       NMDS2     X.sampleID TubeID ExtractionPlate PooledDNAPlate\n",
       "1 -0.04125156 -0.25324060 ERA-T2_1-4c_85    380            ERA1              A\n",
       "2 -0.25419760 -0.01785013 ERA-T2_4-4d_85    474            ERA4              B\n",
       "  Sample.Well.ID PrimerPlate Primer.Number Primer.Well.ID  X primerFwdLoc\n",
       "1             E6           1            45             E6 NA          1-E\n",
       "2             C1           2             3             C1 NA          2-C\n",
       "  primerRevLoc fwd_barcode rev_barcode  PlotID TimePoint Rep Row Pos Fert\n",
       "1          1-6    TCATCGAG    CTACGCAG 1-4c_85        T2   1   4   c   85\n",
       "2          2-1    AGAGTCAC    AACTCTCG 4-4d_85        T2   4   4   d   85\n",
       "  PlotIndex Plant Genotype SeedTreatment R_Year ERA BG_activity.g BX_activity.g\n",
       "1        44   339      339       Treated   1942   1      88.21732      19.60371\n",
       "2       226  3618     3618       Treated   1961   2      76.78400      19.61642\n",
       "  CB_activity.g LAP_activity.g NAG_activity.g Stage kgdw_ha FracN.leco\n",
       "1      24.49390       157.6215       29.70118    R1  5313.0  0.0138430\n",
       "2      17.49004       121.8317       23.38762    R1  6523.5  0.0050007\n",
       "  FracC.leco   kgN_ha       RGR      AGR    Nprod      NupR d15N X15N_AtPercent\n",
       "1  0.4339200 73.54786 0.1042213 161.1097 2.190542 2.4647842   NA             NA\n",
       "2  0.2176692 32.62207 0.0769772 184.1032 5.643518 0.5574522   NA             NA\n",
       "  FracN FracN_fromSoil FracN_fromFert kgFertN_ha kgSoilN_ha     Planted\n",
       "1    NA             NA             NA         NA         NA Rhizosphere\n",
       "2    NA             NA             NA         NA         NA Rhizosphere\n"
      ]
     },
     "metadata": {},
     "output_type": "display_data"
    }
   ],
   "source": [
    "%%R\n",
    "filter(p, NMDS2 < -0.2 | NMDS1 < -0.2)"
   ]
  },
  {
   "cell_type": "markdown",
   "metadata": {},
   "source": [
    "## T2 without outliers"
   ]
  },
  {
   "cell_type": "code",
   "execution_count": 41,
   "metadata": {
    "collapsed": false
   },
   "outputs": [],
   "source": [
    "%%R\n",
    "# subset phyloseq object\n",
    "physeq.plantT2 = subset_samples(physeq,  \n",
    "            Planted == \"Rhizosphere\" & TimePoint == \"T2\" & SeedTreatment == \"Treated\") #& !X.sampleID %in% \n",
    "                              #  c(\"ERA-T2_1-4c_85\", \"ERA-T2_4-4d_85\"))\n",
    "\n",
    "\n",
    "# create unifrac distance matrix\n",
    "registerDoParallel(cores=28)\n",
    "T2.wunif.dist = distance(physeq.plantT2, \n",
    "                      method = \"unifrac\", \n",
    "                      weighted = TRUE,\n",
    "                      fast = TRUE, \n",
    "                      parallel = TRUE, \n",
    "                      normalized = FALSE)\n",
    "\n",
    "T2.bray.dist = distance(physeq.plantT2, \n",
    "                      method = \"bray\", \n",
    "                      weighted = TRUE,\n",
    "                      fast = TRUE, \n",
    "                      parallel = TRUE, \n",
    "                      normalized = FALSE)"
   ]
  },
  {
   "cell_type": "code",
   "execution_count": 42,
   "metadata": {
    "collapsed": false,
    "scrolled": true
   },
   "outputs": [
    {
     "data": {
      "text/plain": [
       "[1] \"Bray-Curtis\"\n",
       "\n",
       "Call:\n",
       "adonis(formula = d ~ Rep + Genotype, data = df, permutations = 999) \n",
       "\n",
       "Permutation: free\n",
       "Number of permutations: 999\n",
       "\n",
       "Terms added sequentially (first to last)\n",
       "\n",
       "          Df SumsOfSqs  MeanSqs F.Model      R2 Pr(>F)    \n",
       "Rep        3   0.23615 0.078717   2.054 0.12000  0.001 ***\n",
       "Genotype  11   0.46708 0.042462   1.108 0.23735  0.039 *  \n",
       "Residuals 33   1.26467 0.038323         0.64265           \n",
       "Total     47   1.96790                  1.00000           \n",
       "---\n",
       "Signif. codes:  0 ‘***’ 0.001 ‘**’ 0.01 ‘*’ 0.05 ‘.’ 0.1 ‘ ’ 1\n",
       "[1] \"w-UniFrac\"\n",
       "\n",
       "Call:\n",
       "adonis(formula = d ~ Rep + Genotype, data = df, permutations = 999) \n",
       "\n",
       "Permutation: free\n",
       "Number of permutations: 999\n",
       "\n",
       "Terms added sequentially (first to last)\n",
       "\n",
       "          Df SumsOfSqs   MeanSqs F.Model      R2 Pr(>F)    \n",
       "Rep        3  0.031581 0.0105269  3.1315 0.16598  0.001 ***\n",
       "Genotype  11  0.047754 0.0043413  1.2914 0.25098  0.024 *  \n",
       "Residuals 33  0.110935 0.0033617         0.58304           \n",
       "Total     47  0.190270                   1.00000           \n",
       "---\n",
       "Signif. codes:  0 ‘***’ 0.001 ‘**’ 0.01 ‘*’ 0.05 ‘.’ 0.1 ‘ ’ 1\n"
      ]
     },
     "metadata": {},
     "output_type": "display_data"
    }
   ],
   "source": [
    "%%R\n",
    "set.seed(101)\n",
    "\n",
    "\n",
    "df = as(sample_data(physeq.plantT2), \"data.frame\")\n",
    "\n",
    "print(\"Bray-Curtis\")\n",
    "d = T2.bray.dist\n",
    "T2adonis = adonis(formula = d ~ Rep + Genotype, df, permutations = 999)\n",
    "T2adonis %>% print\n",
    "\n",
    "print(\"w-UniFrac\")\n",
    "d = T2.wunif.dist\n",
    "T2adonis = adonis(formula = d ~ Rep + Genotype, df, permutations = 999)\n",
    "T2adonis"
   ]
  },
  {
   "cell_type": "markdown",
   "metadata": {},
   "source": [
    "### Ordinate T2 with nmds"
   ]
  },
  {
   "cell_type": "code",
   "execution_count": 43,
   "metadata": {
    "collapsed": false,
    "scrolled": true
   },
   "outputs": [
    {
     "data": {
      "text/plain": [
       "Run 0 stress 0.111785 \n",
       "Run 1 stress 0.111786 \n",
       "... Procrustes: rmse 0.0005269393  max resid 0.002701488 \n",
       "... Similar to previous best\n",
       "Run 2 stress 0.1117869 \n",
       "... Procrustes: rmse 0.0005494032  max resid 0.002695254 \n",
       "... Similar to previous best\n",
       "Run 3 stress 0.1117856 \n",
       "... Procrustes: rmse 0.0003200912  max resid 0.001288098 \n",
       "... Similar to previous best\n",
       "Run 4 stress 0.111785 \n",
       "... New best solution\n",
       "... Procrustes: rmse 0.0003985006  max resid 0.00205871 \n",
       "... Similar to previous best\n",
       "Run 5 stress 0.1187453 \n",
       "Run 6 stress 0.1117855 \n",
       "... Procrustes: rmse 0.0005935915  max resid 0.002320255 \n",
       "... Similar to previous best\n",
       "Run 7 stress 0.111785 \n",
       "... Procrustes: rmse 0.0004214552  max resid 0.00176901 \n",
       "... Similar to previous best\n",
       "Run 8 stress 0.111789 \n",
       "... Procrustes: rmse 0.001152439  max resid 0.005196215 \n",
       "... Similar to previous best\n",
       "Run 9 stress 0.1117852 \n",
       "... Procrustes: rmse 0.0005795116  max resid 0.002854013 \n",
       "... Similar to previous best\n",
       "Run 10 stress 0.1117873 \n",
       "... Procrustes: rmse 0.0002879254  max resid 0.0008859368 \n",
       "... Similar to previous best\n",
       "Run 11 stress 0.1117851 \n",
       "... Procrustes: rmse 0.0003942962  max resid 0.001532562 \n",
       "... Similar to previous best\n",
       "Run 12 stress 0.1117888 \n",
       "... Procrustes: rmse 0.001115829  max resid 0.005263532 \n",
       "... Similar to previous best\n",
       "Run 13 stress 0.1241174 \n",
       "Run 14 stress 0.1117868 \n",
       "... Procrustes: rmse 0.0007378945  max resid 0.002776921 \n",
       "... Similar to previous best\n",
       "Run 15 stress 0.1117856 \n",
       "... Procrustes: rmse 0.0005829937  max resid 0.002782524 \n",
       "... Similar to previous best\n",
       "Run 16 stress 0.1182783 \n",
       "Run 17 stress 0.1187489 \n",
       "Run 18 stress 0.1117889 \n",
       "... Procrustes: rmse 0.001065432  max resid 0.004242826 \n",
       "... Similar to previous best\n",
       "Run 19 stress 0.1117882 \n",
       "... Procrustes: rmse 0.0007317801  max resid 0.002758322 \n",
       "... Similar to previous best\n",
       "Run 20 stress 0.1117857 \n",
       "... Procrustes: rmse 0.0005969463  max resid 0.002756091 \n",
       "... Similar to previous best\n",
       "*** Solution reached\n"
      ]
     },
     "metadata": {},
     "output_type": "display_data"
    }
   ],
   "source": [
    "%%R\n",
    "## Taking distance matrix and making NNMDS rank values with vegan function metaMDS\n",
    "### k = dimensions (usually 2 or 3 used), trymax can give more attempts to reach solution than the default that phyloseq uses\n",
    "\n",
    "dist.bray.nmds = metaMDS(T2.bray.dist,autotransform=F,k=3,trymax=50)\n",
    "\n"
   ]
  },
  {
   "cell_type": "code",
   "execution_count": 44,
   "metadata": {
    "collapsed": false,
    "scrolled": false
   },
   "outputs": [
    {
     "data": {
      "image/png": "[encoded data removed]"
     },
     "metadata": {},
     "output_type": "display_data"
    }
   ],
   "source": [
    "%%R\n",
    "p.t2 = plot_ordination(physeq.plantT2, dist.bray.nmds, justDF = TRUE)\n",
    "\n",
    "\n",
    "p = ggplot(p.t2,aes(x = NMDS1, y = NMDS2)) +\n",
    "        geom_point(aes(color=as.factor(R_Year), size = kgdw_ha)) +\n",
    "    theme_pub()\n",
    "        \n",
    "p"
   ]
  },
  {
   "cell_type": "code",
   "execution_count": 45,
   "metadata": {
    "collapsed": true
   },
   "outputs": [],
   "source": [
    "%%R\n",
    "ordMean = p.t2 %>% \n",
    "    group_by(Genotype, R_Year) %>%\n",
    "    summarize(mAxis.1 = mean(NMDS1),\n",
    "                seAxis.1 = sd(NMDS1)/sqrt(length(NMDS1)),\n",
    "             mAxis.2 = mean(NMDS2), \n",
    "             seAxis.2 = sd(NMDS2)/sqrt(length(NMDS2)))\n",
    "\n",
    "\n"
   ]
  },
  {
   "cell_type": "code",
   "execution_count": null,
   "metadata": {
    "collapsed": false,
    "scrolled": false
   },
   "outputs": [],
   "source": [
    "%%R -w 800 -h 400\n",
    "pT2 = ggplot(ordMean, aes(x = mAxis.1, y = mAxis.2, label = R_Year)) +\n",
    "    geom_point()+\n",
    "    theme_pub()+\n",
    "    geom_errorbar(aes(ymin = mAxis.2 - seAxis.2, ymax = mAxis.2 + seAxis.2),      \n",
    "                color = \"black\",\n",
    "                width = .002) +\n",
    "    geom_errorbarh(aes(xmin = mAxis.1 - seAxis.1, xmax = mAxis.1 + seAxis.1),color = \"black\",\n",
    "                height = .002)+\n",
    "    geom_label(aes(color = R_Year), check_overlap = TRUE) +\n",
    "    theme(legend.position = \"none\")+\n",
    "    xlab(\"NMDS1\")+\n",
    "    ylab(\"NMDS2\")+\n",
    "    ggtitle(\"R1\")\n",
    "pT2"
   ]
  },
  {
   "cell_type": "markdown",
   "metadata": {},
   "source": [
    "* Is there a curvilinear relationship?"
   ]
  },
  {
   "cell_type": "markdown",
   "metadata": {},
   "source": [
    "* Careful whether or not using outliers "
   ]
  },
  {
   "cell_type": "markdown",
   "metadata": {},
   "source": [
    "## Curvilinear relationship between year of release and MCC?"
   ]
  },
  {
   "cell_type": "code",
   "execution_count": 47,
   "metadata": {
    "collapsed": false,
    "scrolled": true
   },
   "outputs": [
    {
     "data": {
      "image/png": "[encoded data removed]"
     },
     "metadata": {},
     "output_type": "display_data"
    }
   ],
   "source": [
    "%%R -w 700 -h 350\n",
    "p1 = ggplot(p.t2, aes(x = R_Year, y = NMDS1)) +\n",
    "    geom_point(aes(color =Rep))+\n",
    "    theme_pub()+\n",
    "#     geom_errorbar(aes(ymin = mAxis.2 - seAxis.2, ymax = mAxis.2 + seAxis.2),      \n",
    "#                 color = \"black\",\n",
    "#                 width = .002) +\n",
    "#     geom_errorbarh(aes(xmin = mAxis.1 - seAxis.1, xmax = mAxis.1 + seAxis.1),color = \"black\",\n",
    "#                 height = .002)+\n",
    "#    geom_label(aes(color = R_Year), check_overlap = TRUE) +\n",
    "    theme(legend.position = \"bottom\")+\n",
    "    xlab(\"Year of release\")+\n",
    "    ylab(\"NMDS1\")+\n",
    "    ggtitle(\"R1\")\n",
    "\n",
    "p2 = ggplot(p.t2, aes(x = R_Year, y = NMDS2)) +\n",
    "    geom_point(aes(color = Rep))+\n",
    "    theme_pub()+\n",
    "#     geom_errorbar(aes(ymin = mAxis.2 - seAxis.2, ymax = mAxis.2 + seAxis.2),      \n",
    "#                 color = \"black\",\n",
    "#                 width = .002) +\n",
    "#     geom_errorbarh(aes(xmin = mAxis.1 - seAxis.1, xmax = mAxis.1 + seAxis.1),color = \"black\",\n",
    "#                 height = .002)+\n",
    "#    geom_label(aes(color = R_Year), check_overlap = TRUE) +\n",
    "    theme(legend.position = \"bottom\")+\n",
    "    xlab(\"Year of release\")+\n",
    "    ylab(\"NMDS2\")+\n",
    "    ggtitle(\"R1\")\n",
    "grid.arrange(p1, p2, ncol =2)"
   ]
  },
  {
   "cell_type": "markdown",
   "metadata": {
    "collapsed": false
   },
   "source": [
    "* hmm, movement along axis 1 is interesting, try in PCoA"
   ]
  },
  {
   "cell_type": "code",
   "execution_count": null,
   "metadata": {
    "collapsed": false
   },
   "outputs": [],
   "source": [
    "%%R\n",
    "pcoa = ordinate(physeq.plantT2, \n",
    "                method = \"PCoA\", \n",
    "                distance = T2.bray.dist)\n",
    "\n",
    "p = plot_ordination(physeq, pcoa, justDF = TRUE)\n"
   ]
  },
  {
   "cell_type": "code",
   "execution_count": null,
   "metadata": {
    "collapsed": false,
    "scrolled": true
   },
   "outputs": [],
   "source": [
    "%%R -w 700 -h 350\n",
    "p1 = ggplot(p, aes(x = R_Year, y = Axis.1)) +\n",
    "    geom_point(aes(color =Rep))+\n",
    "    theme_pub()+\n",
    "#     geom_errorbar(aes(ymin = mAxis.2 - seAxis.2, ymax = mAxis.2 + seAxis.2),      \n",
    "#                 color = \"black\",\n",
    "#                 width = .002) +\n",
    "#     geom_errorbarh(aes(xmin = mAxis.1 - seAxis.1, xmax = mAxis.1 + seAxis.1),color = \"black\",\n",
    "#                 height = .002)+\n",
    "#    geom_label(aes(color = R_Year), check_overlap = TRUE) +\n",
    "    theme(legend.position = \"bottom\")+\n",
    "    xlab(\"Year of release\")+\n",
    "    ylab(\"Axis.1\")+\n",
    "    ggtitle(\"R1\")\n",
    "\n",
    "p2 = ggplot(p, aes(x = R_Year, y = Axis.2)) +\n",
    "    geom_point(aes(color = Rep))+\n",
    "    theme_pub()+\n",
    "#     geom_errorbar(aes(ymin = mAxis.2 - seAxis.2, ymax = mAxis.2 + seAxis.2),      \n",
    "#                 color = \"black\",\n",
    "#                 width = .002) +\n",
    "#     geom_errorbarh(aes(xmin = mAxis.1 - seAxis.1, xmax = mAxis.1 + seAxis.1),color = \"black\",\n",
    "#                 height = .002)+\n",
    "#    geom_label(aes(color = R_Year), check_overlap = TRUE) +\n",
    "    theme(legend.position = \"bottom\")+\n",
    "    xlab(\"Year of release\")+\n",
    "    ylab(\"Axis.2\")+\n",
    "    ggtitle(\"R1\")\n",
    "grid.arrange(p1, p2, ncol =2)"
   ]
  },
  {
   "cell_type": "markdown",
   "metadata": {},
   "source": [
    "### plot of merged samples"
   ]
  },
  {
   "cell_type": "code",
   "execution_count": null,
   "metadata": {
    "collapsed": false,
    "scrolled": false
   },
   "outputs": [],
   "source": [
    "%%R\n",
    "tmp = p %>% group_by(R_Year) %>%\n",
    "    summarize(mAxis.1 = mean(Axis.1),\n",
    "                seAxis.1 = sd(Axis.1)/sqrt(length(Axis.1))) \n",
    "    ggplot(tmp, aes(x = R_Year, y = mAxis.1)) +\n",
    "    geom_point() +\n",
    "    stat_smooth(method = \"lm\", formula = y ~ poly(x,2))"
   ]
  },
  {
   "cell_type": "code",
   "execution_count": null,
   "metadata": {
    "collapsed": false
   },
   "outputs": [],
   "source": [
    "%%R\n",
    "m = lm(mAxis.1~poly(R_Year,2), data = tmp)\n",
    "anova(m)\n",
    "summary(m)"
   ]
  },
  {
   "cell_type": "markdown",
   "metadata": {},
   "source": [
    "* but axis 1 only accounts for 10% of the variation in MCC"
   ]
  },
  {
   "cell_type": "code",
   "execution_count": null,
   "metadata": {
    "collapsed": false,
    "scrolled": true
   },
   "outputs": [],
   "source": [
    "%%R\n",
    "# on raw data\n",
    "m = lmer(Axis.1~poly(R_Year,2) + (1|Rep), data = p)\n",
    "anova(m)\n",
    "summary(m)"
   ]
  },
  {
   "cell_type": "code",
   "execution_count": null,
   "metadata": {
    "collapsed": false
   },
   "outputs": [],
   "source": [
    "%%R\n",
    "r.squaredGLMM(m)"
   ]
  },
  {
   "cell_type": "markdown",
   "metadata": {},
   "source": [
    "### Mantel test at T2"
   ]
  },
  {
   "cell_type": "code",
   "execution_count": null,
   "metadata": {
    "collapsed": false
   },
   "outputs": [],
   "source": [
    "%%R\n",
    "\n",
    "#Test on soil activity/rhizosphere effect\n",
    "Sd = sample_data(physeq.plantT2)\n",
    "\n",
    "# Generate distance matrix of year of release\n",
    "Yd = dist(Sd[,\"R_Year\"], method = \"euclidian\")\n",
    "#hist(Yd)\n",
    "\n",
    "# generate distance matrix of rep and change all values > 1 to 1\n",
    "Rd = dist(Sd[,\"Rep\"])\n",
    "Rd[Rd > 1] <- 1\n",
    "\n",
    "\n",
    "M1 = mantel.partial(T2.bray.dist, Yd, Rd, method=\"pearson\", permutations=999)\n",
    "M1 %>% print\n",
    "\n",
    "M2 =  mantel.partial(T2.wunif.dist, Yd, Rd, method=\"pearson\", permutations=999)\n",
    "M2 %>% print\n",
    "#Model is not significant within T2"
   ]
  },
  {
   "cell_type": "markdown",
   "metadata": {},
   "source": [
    "## T3"
   ]
  },
  {
   "cell_type": "code",
   "execution_count": null,
   "metadata": {
    "collapsed": false
   },
   "outputs": [],
   "source": [
    "%%R\n",
    "# subset phyloseq object\n",
    "physeq.plantT3 = subset_samples(physeq,  Planted == \"Rhizosphere\" & TimePoint == \"T3\")\n",
    "physeq.plantT3\n",
    "\n",
    "# create unifrac distance matrix\n",
    "registerDoParallel(cores=28)\n",
    "T3.wunif.dist = distance(physeq.plantT3, \n",
    "                      method = \"unifrac\", \n",
    "                      weighted = TRUE,\n",
    "                      fast = TRUE, \n",
    "                      parallel = TRUE, \n",
    "                      normalized = FALSE)\n",
    "\n",
    "T3.bray.dist = distance(physeq.plantT3, \n",
    "                      method = \"bray\", \n",
    "                      weighted = TRUE,\n",
    "                      fast = TRUE, \n",
    "                      parallel = TRUE, \n",
    "                      normalized = FALSE)\n"
   ]
  },
  {
   "cell_type": "code",
   "execution_count": null,
   "metadata": {
    "collapsed": false,
    "scrolled": true
   },
   "outputs": [],
   "source": [
    "%%R\n",
    "set.seed(101)\n",
    "\n",
    "df = as(sample_data(physeq.plantT3), \"data.frame\")\n",
    "d = T3.bray.dist\n",
    "print(\"Bray-curtis\")\n",
    "T3adonis = adonis(formula = d ~ Rep + Fert + Genotype, df, permutations = 999)\n",
    "T3adonis %>% print\n",
    "\n",
    "print(\"\")\n",
    "print(\"weighted UniFrac\")\n",
    "d = T3.wunif.dist\n",
    "T3adonis = adonis(formula = d ~ Rep + Fert + Genotype, df, permutations = 999)\n",
    "T3adonis"
   ]
  },
  {
   "cell_type": "markdown",
   "metadata": {},
   "source": [
    "* Genotype is significant at T3 when interaction term is not included.  However it describes a lower portion of variance than the untransformed data"
   ]
  },
  {
   "cell_type": "markdown",
   "metadata": {},
   "source": [
    "### Ordinate T3 with nmds"
   ]
  },
  {
   "cell_type": "code",
   "execution_count": null,
   "metadata": {
    "collapsed": false,
    "scrolled": false
   },
   "outputs": [],
   "source": [
    "%%R\n",
    "## Taking distance matrix and making NNMDS rank values with vegan function metaMDS\n",
    "### k = dimensions (usually 2 or 3 used), trymax can give more attempts to reach solution than the default that phyloseq uses\n",
    "\n",
    "dist.bray.nmds = metaMDS(T3.bray.dist,autotransform=F,k=3,trymax=50)\n",
    "\n"
   ]
  },
  {
   "cell_type": "code",
   "execution_count": null,
   "metadata": {
    "collapsed": false,
    "scrolled": false
   },
   "outputs": [],
   "source": [
    "%%R\n",
    "p.t3 = plot_ordination(physeq.plantT3, dist.bray.nmds, justDF = TRUE)\n",
    "\n",
    "\n",
    "p2 = ggplot(p.t3,aes(x = NMDS1, y = NMDS2)) +\n",
    "        geom_point(aes(color=Genotype, size = kgdw_ha)) +\n",
    "    theme_pub()\n",
    "        \n",
    "p2"
   ]
  },
  {
   "cell_type": "code",
   "execution_count": null,
   "metadata": {
    "collapsed": false
   },
   "outputs": [],
   "source": [
    "%%R\n",
    "ordMean = p.t3 %>% \n",
    "    group_by(Genotype, R_Year) %>%\n",
    "    summarize(mAxis.1 = mean(NMDS1),\n",
    "                seAxis.1 = sd(NMDS1)/sqrt(length(NMDS1)),\n",
    "             mAxis.2 = mean(NMDS2), \n",
    "             seAxis.2 = sd(NMDS2)/sqrt(length(NMDS2)))\n",
    "\n",
    "\n"
   ]
  },
  {
   "cell_type": "code",
   "execution_count": null,
   "metadata": {
    "collapsed": false,
    "scrolled": true
   },
   "outputs": [],
   "source": [
    "%%R -w 800 -h 400\n",
    "pT3 = ggplot(ordMean, aes(x = mAxis.1, y = mAxis.2, label = R_Year)) +\n",
    "    geom_point()+\n",
    "    theme_pub()+\n",
    "    geom_errorbar(aes(ymin = mAxis.2 - seAxis.2, ymax = mAxis.2 + seAxis.2),      \n",
    "                color = \"black\",\n",
    "                width = .002) +\n",
    "    geom_errorbarh(aes(xmin = mAxis.1 - seAxis.1, xmax = mAxis.1 + seAxis.1),color = \"black\",\n",
    "                height = .002)+\n",
    "    geom_label(aes(color = R_Year), check_overlap = TRUE) +\n",
    "    theme(legend.position = \"none\")+\n",
    "    xlab(\"NMDS1\")+\n",
    "    ylab(\"NMDS2\") +\n",
    "    ggtitle(\"R3\")\n",
    "pT3"
   ]
  },
  {
   "cell_type": "code",
   "execution_count": null,
   "metadata": {
    "collapsed": false
   },
   "outputs": [],
   "source": [
    "%%R -w 800 -h 600\n",
    "grid.arrange(pT3, p2, ncol = 1)"
   ]
  },
  {
   "cell_type": "markdown",
   "metadata": {},
   "source": [
    "### Mantel test at T3"
   ]
  },
  {
   "cell_type": "code",
   "execution_count": null,
   "metadata": {
    "collapsed": false
   },
   "outputs": [],
   "source": [
    "%%R\n",
    "\n",
    "#Test on soil activity/rhizosphere effect\n",
    "Sd = sample_data(physeq.plantT3)\n",
    "\n",
    "# Generate distance matrix of year of release\n",
    "Yd = dist(Sd[,\"R_Year\"], method = \"euclidian\")\n",
    "#hist(Yd)\n",
    "\n",
    "# generate distance matrix of rep and change all values > 1 to 1\n",
    "Rd = dist(Sd[,\"Rep\"])\n",
    "Rd[Rd > 1] <- 1\n",
    "\n",
    "\n",
    "M1 = mantel.partial(T3.bray.dist, Yd, Rd, method=\"pearson\", permutations=999)\n",
    "M1 %>% print\n",
    "\n",
    "M2 =  mantel.partial(T3.wunif.dist, Yd, Rd, method=\"pearson\", permutations=999)\n",
    "M2 %>% print\n",
    "#Model is not significant within T3"
   ]
  },
  {
   "cell_type": "markdown",
   "metadata": {},
   "source": [
    "# Plot  figures with grid.arrange"
   ]
  },
  {
   "cell_type": "markdown",
   "metadata": {},
   "source": [
    "# CAP"
   ]
  },
  {
   "cell_type": "code",
   "execution_count": null,
   "metadata": {
    "collapsed": false
   },
   "outputs": [],
   "source": [
    "%%R\n",
    "# subset phyloseq object to just rhizosphere plants, time point 2 and only treated seeds\n",
    "phy = subset_samples(physeq, Planted == \"Rhizosphere\" & TimePoint == \"T2\" & SeedTreatment == \"Treated\")\n",
    "phy"
   ]
  },
  {
   "cell_type": "code",
   "execution_count": null,
   "metadata": {
    "collapsed": true
   },
   "outputs": [],
   "source": [
    "%%R\n",
    "T2.wunif.dist = phyloseq::distance(phy, \n",
    "                      method = \"unifrac\", \n",
    "                      weighted = TRUE,\n",
    "                      fast = TRUE, \n",
    "                      parallel = TRUE, \n",
    "                      normalized = FALSE)"
   ]
  },
  {
   "cell_type": "code",
   "execution_count": null,
   "metadata": {
    "collapsed": false
   },
   "outputs": [],
   "source": [
    "%%R\n",
    "sample_data(phy) %>% colnames"
   ]
  },
  {
   "cell_type": "code",
   "execution_count": null,
   "metadata": {
    "collapsed": false,
    "scrolled": false
   },
   "outputs": [],
   "source": [
    "%%R\n",
    "sample_data(phy)$Rep = as.factor(sample_data(phy)$Rep)\n",
    "# cap.ord = ordinate(\n",
    "#     physeq = phy, \n",
    "#     method = \"CAP\",\n",
    "#     distance = T2.wunif.dist,\n",
    "#     formula = ~ R_Year + Rep + Condition())\n",
    "\n",
    "ordcap = ordinate(phy, \"CAP\", \"bray\", ~poly(R_Year,2) + Condition(Rep))\n",
    "plot_ordination(phy, ordcap, \"samples\", color=\"R_Year\")\n",
    "\n",
    "\n",
    "\n",
    "\n",
    "# # CAP plot\n",
    "# cap.plot <- plot_ordination(phy, cap.ord, axes = c(1,2)) + \n",
    "#     geom_point(aes(fill = Genotype), pch= 21,alpha= 1) \n",
    "    #geom_point(colour = \"grey90\", \n",
    "    #    size = 1.5) + \n",
    "    \n",
    "    #scale_color_manual(values = c(\"#1CE6FF\",\"#B79762\", \"#004D43\", \"#8FB0FF\", \"#997D87\", \"#5A0007\"), name = \"Genotype\",\n",
    " #                      labels = c(\"B73xB97\", \"B73xTx303\", \"ECHES\",\"FAGES\",\"HELAN\",     \"SORSUD\")) \n",
    "\n",
    "\n",
    "\n",
    "\n",
    "# Now add the environmental variables as arrows\n",
    "# arrowmat <- vegan::scores(cap.ord, display = \"bp\")\n",
    "\n",
    "# rownames(arrowmat) = c(\"R_Year\", \"Rep\")\n",
    "# #rownames(arrowmat) = c(\"BX\", \"CB\", \"LAP\", \"NAG\")\n",
    "\n",
    "# # Add labels, make a data.frame\n",
    "# arrowdf <- data.frame(labels = rownames(arrowmat), arrowmat)\n",
    "\n",
    "# Define the arrow aesthetic mapping\n",
    "# arrow_map <- aes(xend = CAP1, \n",
    "#     yend = CAP2, \n",
    "#     x = 0, \n",
    "#     y = 0, \n",
    "#     shape = NULL, \n",
    "#     color = NULL, \n",
    "#     label = labels)\n",
    "\n",
    "# label_map <- aes(x = 1.3 * CAP1, \n",
    "#     y = 1.3 * CAP2, \n",
    "#     shape = NULL, \n",
    "#     color = NULL, \n",
    "#     label = labels)\n",
    "\n",
    "# arrowhead = arrow(length = unit(0.02, \"npc\"))\n",
    "\n",
    "# # Make a new graphic\n",
    "# p = cap.plot + \n",
    "# geom_segment(arrow_map, \n",
    "#     size = .5, \n",
    "#     data = arrowdf, \n",
    "#     color = \"gray\", \n",
    "#     arrow = arrowhead\n",
    "#     ) + \n",
    "# geom_text(label_map,   \n",
    "#     data = arrowdf, \n",
    "#     show_guide = FALSE) \n",
    "# p = p + theme_pub() \n",
    "# #p = p + theme(panel.border = element_blank(), legend.position = \"right\", legend.text = element_text(size = 10)) \n",
    "# p = p + theme(legend.position = \"left\", legend.text = element_text()) \n",
    "\n",
    "#save legend for independent formatting\n",
    "# g_legend<-function(a.gplot){\n",
    "#     tmp <- ggplot_gtable(ggplot_build(a.gplot))\n",
    "#     leg <- which(sapply(tmp$grobs, function(x) x$name) == \"guide-box\")\n",
    "#     legend <- tmp$grobs[[leg]]\n",
    "#     legend\n",
    "# }\n",
    "# \n",
    "\n",
    "                        \n",
    "#legend1 <- g_legend(p)\n",
    "\n",
    "                     \n",
    "# p =  p + theme(axis.line.x = element_line(color=\"black\", size = 1),\n",
    "#     axis.line.y = element_line(color=\"black\", size = 1), legend.position = \"left\")\n",
    "# p = p + theme(legend.position = \"bottom\")\n",
    "# p"
   ]
  },
  {
   "cell_type": "code",
   "execution_count": null,
   "metadata": {
    "collapsed": false,
    "scrolled": true
   },
   "outputs": [],
   "source": [
    "%%R\n",
    "anova(ordcap)"
   ]
  },
  {
   "cell_type": "markdown",
   "metadata": {},
   "source": [
    "## Finally try DESeq2"
   ]
  },
  {
   "cell_type": "code",
   "execution_count": 49,
   "metadata": {
    "collapsed": false,
    "scrolled": false
   },
   "outputs": [
    {
     "data": {
      "text/plain": [
       "phyloseq-class experiment-level object\n",
       "otu_table()   OTU Table:         [ 4592 taxa and 48 samples ]\n",
       "sample_data() Sample Data:       [ 48 samples by 46 sample variables ]\n",
       "tax_table()   Taxonomy Table:    [ 4592 taxa by 8 taxonomic ranks ]\n",
       "phy_tree()    Phylogenetic Tree: [ 4592 tips and 4591 internal nodes ]\n"
      ]
     },
     "metadata": {},
     "output_type": "display_data"
    }
   ],
   "source": [
    "%%R \n",
    "# loading\n",
    "\n",
    "phy.thresh = readRDS('ERA_thresh.rds')\n",
    "\n",
    "#Subset to T2\n",
    "phy.thresh = subset_samples(phy.thresh, TimePoint == \"T2\" & SeedTreatment == \"Treated\", TRUE)\n",
    "phy.thresh"
   ]
  },
  {
   "cell_type": "code",
   "execution_count": 50,
   "metadata": {
    "collapsed": false
   },
   "outputs": [],
   "source": [
    "%%R\n",
    "sample_data(phy.thresh)$Rep = as.factor(sample_data(phy.thresh)$Rep)\n",
    "sample_data(phy.thresh)$Row = as.factor(sample_data(phy.thresh)$Row)\n",
    "sample_data(phy.thresh)$Fert = as.factor(sample_data(phy.thresh)$Fert)\n",
    "sample_data(phy.thresh)$ERA = as.factor(sample_data(phy.thresh)$ERA)\n",
    "sample_data(phy.thresh)$R_Year.c = sample_data(phy.thresh)$R_Year - 1935"
   ]
  },
  {
   "cell_type": "code",
   "execution_count": 70,
   "metadata": {
    "collapsed": false
   },
   "outputs": [
    {
     "data": {
      "text/plain": [
       "[1] \"Intercept\"          \"Rep1\"               \"Rep2\"              \n",
       "[4] \"Rep3\"               \"Rep4\"               \"poly.R_Year.c..2.1\"\n",
       "[7] \"poly.R_Year.c..2.2\"\n"
      ]
     },
     "metadata": {},
     "output_type": "display_data"
    }
   ],
   "source": [
    "%%R\n",
    "dds = phyloseq_to_deseq2(phy.thresh, ~Rep + poly(R_Year.c,2))\n",
    "d_dds = DESeq(dds, parallel = TRUE)\n",
    "resultsNames(d_dds) %>% print"
   ]
  },
  {
   "cell_type": "code",
   "execution_count": 71,
   "metadata": {
    "collapsed": false,
    "scrolled": true
   },
   "outputs": [
    {
     "data": {
      "text/plain": [
       "\n",
       "out of 4589 with nonzero total read count\n",
       "adjusted p-value < 0.05\n",
       "LFC > 0 (up)     : 0, 0% \n",
       "LFC < 0 (down)   : 0, 0% \n",
       "outliers [1]     : 0, 0% \n",
       "low counts [2]   : 0, 0% \n",
       "(mean count < 0)\n",
       "[1] see 'cooksCutoff' argument of ?results\n",
       "[2] see 'independentFiltering' argument of ?results\n",
       "\n"
      ]
     },
     "metadata": {},
     "output_type": "display_data"
    }
   ],
   "source": [
    "%%R\n",
    "Year.x.res = results(d_dds, name=\"poly.R_Year.c..2.1\", alpha = 0.05, \n",
    "                independentFiltering = TRUE, parallel = TRUE)\n",
    "summary(Year.x.res) \n",
    "\n"
   ]
  },
  {
   "cell_type": "code",
   "execution_count": 72,
   "metadata": {
    "collapsed": false
   },
   "outputs": [
    {
     "data": {
      "text/plain": [
       "\n",
       "out of 4589 with nonzero total read count\n",
       "adjusted p-value < 0.05\n",
       "LFC > 0 (up)     : 2, 0.044% \n",
       "LFC < 0 (down)   : 11, 0.24% \n",
       "outliers [1]     : 0, 0% \n",
       "low counts [2]   : 2758, 60% \n",
       "(mean count < 2)\n",
       "[1] see 'cooksCutoff' argument of ?results\n",
       "[2] see 'independentFiltering' argument of ?results\n",
       "\n"
      ]
     },
     "metadata": {},
     "output_type": "display_data"
    }
   ],
   "source": [
    "%%R\n",
    "Year.x2.res = results(d_dds, name=\"poly.R_Year.c..2.2\", alpha = 0.05, \n",
    "                independentFiltering = TRUE, parallel = TRUE)\n",
    "summary(Year.x2.res) \n",
    "\n"
   ]
  },
  {
   "cell_type": "code",
   "execution_count": 84,
   "metadata": {
    "collapsed": false
   },
   "outputs": [],
   "source": [
    "%%R\n",
    "toKeep = Year.x2.res %>% as.data.frame %>% mutate(OTU = rownames(Year.x2.res)) %>% filter(padj < 0.05) %>% .$OTU"
   ]
  },
  {
   "cell_type": "code",
   "execution_count": 87,
   "metadata": {
    "collapsed": false
   },
   "outputs": [],
   "source": [
    "%%R\n",
    "ToPlot = physeq.plantT2 %>%\n",
    "        prune_taxa(toKeep, .) %>%\n",
    "        psmelt()\n",
    "        "
   ]
  },
  {
   "cell_type": "code",
   "execution_count": 90,
   "metadata": {
    "collapsed": false,
    "scrolled": true
   },
   "outputs": [
    {
     "data": {
      "image/png": "[encoded data removed]"
     },
     "metadata": {},
     "output_type": "display_data"
    }
   ],
   "source": [
    "%%R -w 700 -h 900\n",
    "require(scales)\n",
    "p = ggplot(ToPlot, aes(x = R_Year, y = Abundance))+\n",
    "       geom_point()+\n",
    "     \n",
    "       facet_wrap(~OTU, scales = \"free_y\", ncol = 3)+\n",
    "        scale_y_continuous(trans=log2_trans())\n",
    "p"
   ]
  },
  {
   "cell_type": "code",
   "execution_count": 103,
   "metadata": {
    "collapsed": false
   },
   "outputs": [
    {
     "data": {
      "text/plain": [
       " [1] \"OTU\"             \"Sample\"          \"Abundance\"       \"X.sampleID\"     \n",
       " [5] \"TubeID\"          \"ExtractionPlate\" \"PooledDNAPlate\"  \"Sample.Well.ID\" \n",
       " [9] \"PrimerPlate\"     \"Primer.Number\"   \"Primer.Well.ID\"  \"X\"              \n",
       "[13] \"primerFwdLoc\"    \"primerRevLoc\"    \"fwd_barcode\"     \"rev_barcode\"    \n",
       "[17] \"PlotID\"          \"TimePoint\"       \"Rep\"             \"Row\"            \n",
       "[21] \"Pos\"             \"Fert\"            \"PlotIndex\"       \"Plant\"          \n",
       "[25] \"Genotype\"        \"SeedTreatment\"   \"R_Year\"          \"ERA\"            \n",
       "[29] \"BG_activity.g\"   \"BX_activity.g\"   \"CB_activity.g\"   \"LAP_activity.g\" \n",
       "[33] \"NAG_activity.g\"  \"Stage\"           \"kgdw_ha\"         \"FracN.leco\"     \n",
       "[37] \"FracC.leco\"      \"kgN_ha\"          \"RGR\"             \"AGR\"            \n",
       "[41] \"Nprod\"           \"NupR\"            \"d15N\"            \"X15N_AtPercent\" \n",
       "[45] \"FracN\"           \"FracN_fromSoil\"  \"FracN_fromFert\"  \"kgFertN_ha\"     \n",
       "[49] \"kgSoilN_ha\"      \"Planted\"         \"Rank1\"           \"Rank2\"          \n",
       "[53] \"Rank3\"           \"Rank4\"           \"Rank5\"           \"Rank6\"          \n",
       "[57] \"Rank7\"          \n"
      ]
     },
     "metadata": {},
     "output_type": "display_data"
    }
   ],
   "source": [
    "%%R\n",
    "colnames(ToPlot)"
   ]
  },
  {
   "cell_type": "code",
   "execution_count": 129,
   "metadata": {
    "collapsed": false
   },
   "outputs": [
    {
     "data": {
      "text/plain": [
       "          OTU             Rank2                 Rank3                  Rank4\n",
       "574   OTU.938  __Proteobacteria __Deltaproteobacteria         __Myxococcales\n",
       "430   OTU.494  __Actinobacteria   __Micromonosporales   __Micromonosporaceae\n",
       "320   OTU.371 __Verrucomicrobia    __OPB35_soil_group __uncultured_bacterium\n",
       "371   OTU.444     __Chloroflexi      __Thermomicrobia         __JG30-KF-CM45\n",
       "148  OTU.1703  __Proteobacteria __Deltaproteobacteria         __Myxococcales\n",
       "511   OTU.881     __Chloroflexi      __Chloroflexales      __Chloroflexaceae\n",
       "20   OTU.1039     __Chloroflexi        __Anaerolineae       __Anaerolineales\n",
       "466   OTU.836     __Chloroflexi        __Anaerolineae       __Anaerolineales\n",
       "96  OTU.12859   __Acidobacteria               __DA023 __uncultured_bacterium\n",
       "616   OTU.966     __Chloroflexi        __Anaerolineae       __Anaerolineales\n",
       "257  OTU.2090 __Verrucomicrobia      __Spartobacteria   __Chthoniobacterales\n",
       "101  OTU.1649   __Bacteroidetes    __Sphingobacteriia   __Sphingobacteriales\n",
       "225  OTU.1772  __Planctomycetes    __Planctomycetacia     __Planctomycetales\n",
       "                     Rank5                              Rank6\n",
       "574         __Sorangiineae                       __uncultured\n",
       "430       __Micromonospora                               <NA>\n",
       "320                   <NA>                               <NA>\n",
       "371 __uncultured_bacterium                               <NA>\n",
       "148         __Sorangiineae                       __uncultured\n",
       "511          __Roseiflexus __uncultured_Chloroflexi_bacterium\n",
       "20       __Anaerolineaceae                       __uncultured\n",
       "466      __Anaerolineaceae                       __uncultured\n",
       "96                    <NA>                               <NA>\n",
       "616      __Anaerolineaceae                       __uncultured\n",
       "257     __DA101_soil_group             __uncultured_bacterium\n",
       "101     __Chitinophagaceae                  __Flavisolibacter\n",
       "225    __Planctomycetaceae                       __uncultured\n",
       "                     Rank7\n",
       "574                   <NA>\n",
       "430                   <NA>\n",
       "320                   <NA>\n",
       "371                   <NA>\n",
       "148                   <NA>\n",
       "511                   <NA>\n",
       "20  __uncultured_bacterium\n",
       "466 __uncultured_bacterium\n",
       "96                    <NA>\n",
       "616 __uncultured_bacterium\n",
       "257                   <NA>\n",
       "101 __uncultured_bacterium\n",
       "225 __uncultured_bacterium\n"
      ]
     },
     "metadata": {},
     "output_type": "display_data"
    }
   ],
   "source": [
    "%%R\n",
    "ToPlot %>%\n",
    "    select(OTU, Rank2, Rank3, Rank4, Rank5, Rank6, Rank7) %>%\n",
    "    unique %>% print\n",
    "\n",
    "PolyTaxa = ToPlot %>% .$OTU %>% unique"
   ]
  },
  {
   "cell_type": "code",
   "execution_count": 122,
   "metadata": {
    "collapsed": false
   },
   "outputs": [
    {
     "data": {
      "text/plain": [
       "                                                                 1936\n",
       "OTU.1039:___Anaerolineaceae___uncultured                  0.001231781\n",
       "OTU.12859:_NA_NA                                          0.009322367\n",
       "OTU.1649:___Chitinophagaceae___Flavisolibacter            0.004514325\n",
       "OTU.1703:___Sorangiineae___uncultured                     0.006189560\n",
       "OTU.1772:___Planctomycetaceae___uncultured                0.011079897\n",
       "OTU.2090:___DA101_soil_group___uncultured_bacterium       0.013552187\n",
       "OTU.371:_NA_NA                                            0.020544173\n",
       "OTU.444:___uncultured_bacterium_NA                        0.010760814\n",
       "OTU.494:___Micromonospora_NA                              0.016972468\n",
       "OTU.836:___Anaerolineaceae___uncultured                   0.006992521\n",
       "OTU.881:___Roseiflexus___uncultured_Chloroflexi_bacterium 0.009467945\n",
       "OTU.938:___Sorangiineae___uncultured                      0.014752191\n",
       "OTU.966:___Anaerolineaceae___uncultured                   0.004447558\n",
       "                                                                 1939\n",
       "OTU.1039:___Anaerolineaceae___uncultured                  0.000000000\n",
       "OTU.12859:_NA_NA                                          0.006475806\n",
       "OTU.1649:___Chitinophagaceae___Flavisolibacter            0.003180320\n",
       "OTU.1703:___Sorangiineae___uncultured                     0.004187836\n",
       "OTU.1772:___Planctomycetaceae___uncultured                0.007765688\n",
       "OTU.2090:___DA101_soil_group___uncultured_bacterium       0.015995187\n",
       "OTU.371:_NA_NA                                            0.021122197\n",
       "OTU.444:___uncultured_bacterium_NA                        0.009586744\n",
       "OTU.494:___Micromonospora_NA                              0.014586298\n",
       "OTU.836:___Anaerolineaceae___uncultured                   0.003573768\n",
       "OTU.881:___Roseiflexus___uncultured_Chloroflexi_bacterium 0.009333126\n",
       "OTU.938:___Sorangiineae___uncultured                      0.009115125\n",
       "OTU.966:___Anaerolineaceae___uncultured                   0.001202048\n",
       "                                                                 1942\n",
       "OTU.1039:___Anaerolineaceae___uncultured                  0.004429245\n",
       "OTU.12859:_NA_NA                                          0.007773428\n",
       "OTU.1649:___Chitinophagaceae___Flavisolibacter            0.007220649\n",
       "OTU.1703:___Sorangiineae___uncultured                     0.003718537\n",
       "OTU.1772:___Planctomycetaceae___uncultured                0.009336632\n",
       "OTU.2090:___DA101_soil_group___uncultured_bacterium       0.010994906\n",
       "OTU.371:_NA_NA                                            0.028191048\n",
       "OTU.444:___uncultured_bacterium_NA                        0.017950203\n",
       "OTU.494:___Micromonospora_NA                              0.021008608\n",
       "OTU.836:___Anaerolineaceae___uncultured                   0.006270990\n",
       "OTU.881:___Roseiflexus___uncultured_Chloroflexi_bacterium 0.010643277\n",
       "OTU.938:___Sorangiineae___uncultured                      0.011236566\n",
       "OTU.966:___Anaerolineaceae___uncultured                   0.003366655\n",
       "                                                                 1953\n",
       "OTU.1039:___Anaerolineaceae___uncultured                  0.005348806\n",
       "OTU.12859:_NA_NA                                          0.014574624\n",
       "OTU.1649:___Chitinophagaceae___Flavisolibacter            0.012400965\n",
       "OTU.1703:___Sorangiineae___uncultured                     0.004894213\n",
       "OTU.1772:___Planctomycetaceae___uncultured                0.010060688\n",
       "OTU.2090:___DA101_soil_group___uncultured_bacterium       0.009757627\n",
       "OTU.371:_NA_NA                                            0.029744105\n",
       "OTU.444:___uncultured_bacterium_NA                        0.016052954\n",
       "OTU.494:___Micromonospora_NA                              0.021564505\n",
       "OTU.836:___Anaerolineaceae___uncultured                   0.009878066\n",
       "OTU.881:___Roseiflexus___uncultured_Chloroflexi_bacterium 0.010199977\n",
       "OTU.938:___Sorangiineae___uncultured                      0.016347342\n",
       "OTU.966:___Anaerolineaceae___uncultured                   0.005360434\n",
       "                                                                 1961\n",
       "OTU.1039:___Anaerolineaceae___uncultured                  0.004807963\n",
       "OTU.12859:_NA_NA                                          0.015817098\n",
       "OTU.1649:___Chitinophagaceae___Flavisolibacter            0.010232032\n",
       "OTU.1703:___Sorangiineae___uncultured                     0.017641983\n",
       "OTU.1772:___Planctomycetaceae___uncultured                0.002014623\n",
       "OTU.2090:___DA101_soil_group___uncultured_bacterium       0.008138382\n",
       "OTU.371:_NA_NA                                            0.026097738\n",
       "OTU.444:___uncultured_bacterium_NA                        0.018076122\n",
       "OTU.494:___Micromonospora_NA                              0.016800562\n",
       "OTU.836:___Anaerolineaceae___uncultured                   0.014524156\n",
       "OTU.881:___Roseiflexus___uncultured_Chloroflexi_bacterium 0.015636791\n",
       "OTU.938:___Sorangiineae___uncultured                      0.029124601\n",
       "OTU.966:___Anaerolineaceae___uncultured                   0.010422458\n",
       "                                                                 1971\n",
       "OTU.1039:___Anaerolineaceae___uncultured                  0.012560353\n",
       "OTU.12859:_NA_NA                                          0.015641598\n",
       "OTU.1649:___Chitinophagaceae___Flavisolibacter            0.009901142\n",
       "OTU.1703:___Sorangiineae___uncultured                     0.016709812\n",
       "OTU.1772:___Planctomycetaceae___uncultured                0.006699266\n",
       "OTU.2090:___DA101_soil_group___uncultured_bacterium       0.003653664\n",
       "OTU.371:_NA_NA                                            0.033672918\n",
       "OTU.444:___uncultured_bacterium_NA                        0.022722305\n",
       "OTU.494:___Micromonospora_NA                              0.028440798\n",
       "OTU.836:___Anaerolineaceae___uncultured                   0.019211707\n",
       "OTU.881:___Roseiflexus___uncultured_Chloroflexi_bacterium 0.016049304\n",
       "OTU.938:___Sorangiineae___uncultured                      0.029774138\n",
       "OTU.966:___Anaerolineaceae___uncultured                   0.016394233\n",
       "                                                                 1975\n",
       "OTU.1039:___Anaerolineaceae___uncultured                  0.013876348\n",
       "OTU.12859:_NA_NA                                          0.017581247\n",
       "OTU.1649:___Chitinophagaceae___Flavisolibacter            0.012537595\n",
       "OTU.1703:___Sorangiineae___uncultured                     0.010819445\n",
       "OTU.1772:___Planctomycetaceae___uncultured                0.007176259\n",
       "OTU.2090:___DA101_soil_group___uncultured_bacterium       0.009947341\n",
       "OTU.371:_NA_NA                                            0.030891023\n",
       "OTU.444:___uncultured_bacterium_NA                        0.019230494\n",
       "OTU.494:___Micromonospora_NA                              0.023993747\n",
       "OTU.836:___Anaerolineaceae___uncultured                   0.010361651\n",
       "OTU.881:___Roseiflexus___uncultured_Chloroflexi_bacterium 0.014080308\n",
       "OTU.938:___Sorangiineae___uncultured                      0.020975548\n",
       "OTU.966:___Anaerolineaceae___uncultured                   0.010132806\n",
       "                                                                 1984\n",
       "OTU.1039:___Anaerolineaceae___uncultured                  0.010932107\n",
       "OTU.12859:_NA_NA                                          0.013160753\n",
       "OTU.1649:___Chitinophagaceae___Flavisolibacter            0.012787458\n",
       "OTU.1703:___Sorangiineae___uncultured                     0.014005700\n",
       "OTU.1772:___Planctomycetaceae___uncultured                0.005231929\n",
       "OTU.2090:___DA101_soil_group___uncultured_bacterium       0.010457245\n",
       "OTU.371:_NA_NA                                            0.031104419\n",
       "OTU.444:___uncultured_bacterium_NA                        0.020863763\n",
       "OTU.494:___Micromonospora_NA                              0.025204112\n",
       "OTU.836:___Anaerolineaceae___uncultured                   0.010063871\n",
       "OTU.881:___Roseiflexus___uncultured_Chloroflexi_bacterium 0.013445250\n",
       "OTU.938:___Sorangiineae___uncultured                      0.027384365\n",
       "OTU.966:___Anaerolineaceae___uncultured                   0.013822153\n",
       "                                                                 1991\n",
       "OTU.1039:___Anaerolineaceae___uncultured                  0.008775256\n",
       "OTU.12859:_NA_NA                                          0.012160315\n",
       "OTU.1649:___Chitinophagaceae___Flavisolibacter            0.009040246\n",
       "OTU.1703:___Sorangiineae___uncultured                     0.009696802\n",
       "OTU.1772:___Planctomycetaceae___uncultured                0.004291887\n",
       "OTU.2090:___DA101_soil_group___uncultured_bacterium       0.010075259\n",
       "OTU.371:_NA_NA                                            0.031965301\n",
       "OTU.444:___uncultured_bacterium_NA                        0.021257658\n",
       "OTU.494:___Micromonospora_NA                              0.026549557\n",
       "OTU.836:___Anaerolineaceae___uncultured                   0.011134661\n",
       "OTU.881:___Roseiflexus___uncultured_Chloroflexi_bacterium 0.014956584\n",
       "OTU.938:___Sorangiineae___uncultured                      0.018688158\n",
       "OTU.966:___Anaerolineaceae___uncultured                   0.009000873\n",
       "                                                                 2001\n",
       "OTU.1039:___Anaerolineaceae___uncultured                  0.001343436\n",
       "OTU.12859:_NA_NA                                          0.012691473\n",
       "OTU.1649:___Chitinophagaceae___Flavisolibacter            0.008106157\n",
       "OTU.1703:___Sorangiineae___uncultured                     0.005716717\n",
       "OTU.1772:___Planctomycetaceae___uncultured                0.011280716\n",
       "OTU.2090:___DA101_soil_group___uncultured_bacterium       0.014636633\n",
       "OTU.371:_NA_NA                                            0.021042124\n",
       "OTU.444:___uncultured_bacterium_NA                        0.014621359\n",
       "OTU.494:___Micromonospora_NA                              0.016369078\n",
       "OTU.836:___Anaerolineaceae___uncultured                   0.006503684\n",
       "OTU.881:___Roseiflexus___uncultured_Chloroflexi_bacterium 0.010549117\n",
       "OTU.938:___Sorangiineae___uncultured                      0.011267311\n",
       "OTU.966:___Anaerolineaceae___uncultured                   0.002923153\n",
       "                                                                 2003\n",
       "OTU.1039:___Anaerolineaceae___uncultured                  0.003140987\n",
       "OTU.12859:_NA_NA                                          0.008565961\n",
       "OTU.1649:___Chitinophagaceae___Flavisolibacter            0.006556768\n",
       "OTU.1703:___Sorangiineae___uncultured                     0.008864494\n",
       "OTU.1772:___Planctomycetaceae___uncultured                0.010463881\n",
       "OTU.2090:___DA101_soil_group___uncultured_bacterium       0.013555318\n",
       "OTU.371:_NA_NA                                            0.024393698\n",
       "OTU.444:___uncultured_bacterium_NA                        0.017246564\n",
       "OTU.494:___Micromonospora_NA                              0.018890624\n",
       "OTU.836:___Anaerolineaceae___uncultured                   0.009260974\n",
       "OTU.881:___Roseiflexus___uncultured_Chloroflexi_bacterium 0.005547366\n",
       "OTU.938:___Sorangiineae___uncultured                      0.012120722\n",
       "OTU.966:___Anaerolineaceae___uncultured                   0.006767663\n",
       "                                                                 2011\n",
       "OTU.1039:___Anaerolineaceae___uncultured                  0.003577975\n",
       "OTU.12859:_NA_NA                                          0.010617538\n",
       "OTU.1649:___Chitinophagaceae___Flavisolibacter            0.006413336\n",
       "OTU.1703:___Sorangiineae___uncultured                     0.010778159\n",
       "OTU.1772:___Planctomycetaceae___uncultured                0.013649127\n",
       "OTU.2090:___DA101_soil_group___uncultured_bacterium       0.015472330\n",
       "OTU.371:_NA_NA                                            0.027713140\n",
       "OTU.444:___uncultured_bacterium_NA                        0.015093663\n",
       "OTU.494:___Micromonospora_NA                              0.016678139\n",
       "OTU.836:___Anaerolineaceae___uncultured                   0.004501701\n",
       "OTU.881:___Roseiflexus___uncultured_Chloroflexi_bacterium 0.007826252\n",
       "OTU.938:___Sorangiineae___uncultured                      0.010506993\n",
       "OTU.966:___Anaerolineaceae___uncultured                   0.005912670\n"
      ]
     },
     "metadata": {},
     "output_type": "display_data"
    }
   ],
   "source": [
    "%%R\n",
    "mat = ToPlot %>%\n",
    "    group_by(OTU, Rank2, Rank5, Rank6, Plant, R_Year) %>%\n",
    "    summarize(mAbund = mean(Abundance)) %>%\n",
    "    as.data.frame() %>%\n",
    "       mutate(Taxa = paste(OTU, \":_\", Rank5, \"_\", Rank6, sep = \"\")) %>%\n",
    "    select(Taxa, R_Year, mAbund) %>%\n",
    "    spread(R_Year,mAbund) \n",
    "\n",
    "rownames(mat) = mat$Taxa\n",
    "mat = mat[,-1]\n",
    "head(mat)\n",
    "mat = data.matrix(mat, rownames.force = TRUE)\n",
    "mat"
   ]
  },
  {
   "cell_type": "code",
   "execution_count": 124,
   "metadata": {
    "collapsed": false
   },
   "outputs": [
    {
     "data": {
      "image/png": "[encoded data removed]"
     },
     "metadata": {},
     "output_type": "display_data"
    }
   ],
   "source": [
    "%%R -w 800\n",
    "pheatmap::pheatmap(mat,\n",
    "         cluster_col=FALSE)"
   ]
  },
  {
   "cell_type": "markdown",
   "metadata": {},
   "source": [
    "## are these taxa rhizosphere responders or background?"
   ]
  },
  {
   "cell_type": "code",
   "execution_count": 132,
   "metadata": {
    "collapsed": false
   },
   "outputs": [],
   "source": [
    "%%R\n",
    "l2f.rhiz = read.csv(file = \"/home/bryan/ERA/data/MiSeq/20170417_run1/DESeq2/BarevsHybrid.csv\", header = TRUE)"
   ]
  },
  {
   "cell_type": "code",
   "execution_count": 161,
   "metadata": {
    "collapsed": false
   },
   "outputs": [],
   "source": [
    "%%R\n",
    "mat = l2f.rhiz %>% filter(OTU %in% PolyTaxa & TimePoint == \"T2\") %>%\n",
    " select(OTU, Plant, log2FoldChange) %>%\n",
    "    spread(Plant, log2FoldChange) %>%\n",
    "    .[,c(\"OTU\", \"322\",\"330\"  ,   \"339\" ,    \"354\"   ,  \"3618\"  ,  \"3517\"  ,  \"3541\" ,   \"3475\" ,  \n",
    " \"3394\",    \"34M95\" ,  \"34N42\" ,  \"P1151HR\")]\n",
    "\n"
   ]
  },
  {
   "cell_type": "code",
   "execution_count": 162,
   "metadata": {
    "collapsed": false
   },
   "outputs": [
    {
     "data": {
      "text/plain": [
       "                 322        330         339         354       3618       3517\n",
       "OTU.1039   0.2908125         NA  2.18205771  1.61656212  2.0510700  3.2540991\n",
       "OTU.12859 -0.2397460 -0.5754415  0.38721026  1.11154761  1.5169609  1.4313313\n",
       "OTU.1649  -0.5159308 -0.3407492 -0.21854781  1.06830720  0.7357834  0.9866756\n",
       "OTU.1703   0.1534538 -0.3352692 -0.67550266 -0.07204963  2.5593706  2.3710454\n",
       "OTU.1772  -0.5228727 -1.1074167 -0.71203634 -0.75595338 -2.7317692 -1.4725948\n",
       "OTU.2090   0.6692167  0.7237254  0.37662535 -0.50265549 -0.4286481 -1.9297279\n",
       "OTU.371   -0.1695206 -0.0257923  0.96797779  1.00239875  0.7180361  1.5250980\n",
       "OTU.444   -0.4953284 -0.3602583  1.10514355  0.77263783  1.2268522  1.7480014\n",
       "OTU.494    0.2290707  0.3247341  1.10276956  0.96659137  0.5220282  1.9066422\n",
       "OTU.836    0.1369107 -0.6309979  0.01551551  1.00756768  1.9947083  2.6895855\n",
       "OTU.881    1.0760508  1.4617163  1.87836357  1.31169583  2.9257842  3.0186452\n",
       "OTU.938    0.4555728 -0.3795342  0.24484203  0.78325659  2.9236656  2.6631038\n",
       "OTU.966    1.0806823  0.4343074  1.37201102  1.71799997  4.2287092  5.2143781\n",
       "                3541         3475        3394       34M95      34N42\n",
       "OTU.1039   4.5262003  1.840120869  3.23067758  0.36472421  0.6113878\n",
       "OTU.12859  1.5971327  0.774605527  0.63851411  0.76484459 -0.3963459\n",
       "OTU.1649   1.2236728  1.114904906  0.86124616  0.01038757 -0.5865662\n",
       "OTU.1703   1.0980259  2.118849677  1.15205116 -0.28300938  0.4045115\n",
       "OTU.1772  -1.5338358 -1.866096512 -2.47201769 -0.49802264 -0.7172275\n",
       "OTU.2090  -0.3206656  0.006130096  0.05707818  0.53433895  0.3405172\n",
       "OTU.371    1.1492133  1.106593636  1.28868049 -0.04624507  0.3681930\n",
       "OTU.444    1.2291422  1.475134530  1.56113667  0.32353434  0.6919487\n",
       "OTU.494    1.3360784  1.423075919  1.80425283  0.25238081  0.5878131\n",
       "OTU.836    1.1336228  1.454411784  1.08963711  0.01924751  0.4482369\n",
       "OTU.881    2.4738947  2.275974582  2.61988387  1.44321687  0.8158510\n",
       "OTU.938    1.4164937  2.235191586  1.29983264 -0.29408074 -0.2285611\n",
       "OTU.966    3.7278197  4.409180085  3.27084227  0.54235981  1.7363604\n",
       "              P1151HR\n",
       "OTU.1039   1.01294192\n",
       "OTU.12859  0.35731157\n",
       "OTU.1649  -0.29418370\n",
       "OTU.1703   0.92487737\n",
       "OTU.1772   0.06351133\n",
       "OTU.2090   0.82381254\n",
       "OTU.371    0.75349655\n",
       "OTU.444    0.48445520\n",
       "OTU.494    0.42245922\n",
       "OTU.836   -0.09275762\n",
       "OTU.881    1.01850665\n",
       "OTU.938    0.35106171\n",
       "OTU.966    1.95895920\n"
      ]
     },
     "metadata": {},
     "output_type": "display_data"
    }
   ],
   "source": [
    "%%R\n",
    "rownames(mat) = mat$OTU\n",
    "mat = mat[,-1]\n",
    "head(mat)\n",
    "mat = data.matrix(mat, rownames.force = TRUE)\n",
    "mat"
   ]
  },
  {
   "cell_type": "code",
   "execution_count": 163,
   "metadata": {
    "collapsed": false
   },
   "outputs": [
    {
     "data": {
      "image/png": "[encoded data removed]"
     },
     "metadata": {},
     "output_type": "display_data"
    }
   ],
   "source": [
    "%%R\n",
    "pheatmap::pheatmap(mat,\n",
    "         cluster_col=FALSE)"
   ]
  },
  {
   "cell_type": "code",
   "execution_count": 57,
   "metadata": {
    "collapsed": false
   },
   "outputs": [
    {
     "data": {
      "text/plain": [
       "    baseMean log2FoldChange      lfcSE     stat       pvalue        padj\n",
       "1  57.336477      0.3088018 0.09036034 3.417448 6.321110e-04 0.049772638\n",
       "2  31.608509      1.3851356 0.33690111 4.111401 3.932652e-05 0.005594198\n",
       "3  33.698029      1.1325439 0.32376969 3.497992 4.687744e-04 0.041035789\n",
       "4 175.345301      0.7820358 0.19220954 4.068663 4.728373e-05 0.006330458\n",
       "5  95.511586      0.8416117 0.21868204 3.848563 1.188125e-04 0.013520866\n",
       "6   6.678833      1.4443268 0.34166679 4.227296 2.365160e-05 0.004364670\n",
       "        OTU Contrast    Rank1            Rank2                 Rank3\n",
       "1  OTU.2489     0_85 Bacteria __Proteobacteria __Deltaproteobacteria\n",
       "2 OTU.14139     0_85 Bacteria __Proteobacteria __Alphaproteobacteria\n",
       "3 OTU.15685     0_85 Bacteria __Proteobacteria __Alphaproteobacteria\n",
       "4    OTU.69     0_85 Bacteria __Proteobacteria __Alphaproteobacteria\n",
       "5    OTU.78     0_85 Bacteria __Proteobacteria __Alphaproteobacteria\n",
       "6  OTU.3468     0_85 Bacteria __Proteobacteria __Alphaproteobacteria\n",
       "          Rank4               Rank5       Rank6                  Rank7 Rank8\n",
       "1  __GR-WP33-30                <NA>        <NA>                   <NA>  <NA>\n",
       "2 __Rhizobiales      __Rhizobiaceae __Rhizobium __uncultured_bacterium  <NA>\n",
       "3 __Rhizobiales      __Rhizobiaceae __Rhizobium                   <NA>  <NA>\n",
       "4 __Rhizobiales      __Rhizobiaceae  __Shinella __uncultured_bacterium  <NA>\n",
       "5 __Rhizobiales      __Rhizobiaceae __Rhizobium                   <NA>  <NA>\n",
       "6 __Rhizobiales __Hyphomicrobiaceae   __Devosia __uncultured_bacterium  <NA>\n"
      ]
     },
     "metadata": {},
     "output_type": "display_data"
    }
   ],
   "source": [
    "%%R\n",
    "Fert.sig = l2f.Fert %>% filter(padj < .05)\n",
    "    Fert.sig %>% head %>% print\n",
    "Rhiz.sig = l2f.rhiz %>% filter(p.adj < .05)"
   ]
  },
  {
   "cell_type": "code",
   "execution_count": 63,
   "metadata": {
    "collapsed": false
   },
   "outputs": [
    {
     "data": {
      "text/plain": [
       "[1] \"Intercept\"          \"Rep1\"               \"Rep2\"              \n",
       "[4] \"Rep3\"               \"Rep4\"               \"poly.R_Year.c..2.1\"\n",
       "[7] \"poly.R_Year.c..2.2\"\n"
      ]
     },
     "metadata": {},
     "output_type": "display_data"
    }
   ],
   "source": [
    "%%R\n",
    "betas <- coef(d_dds)\n",
    "colnames(betas)"
   ]
  },
  {
   "cell_type": "code",
   "execution_count": 102,
   "metadata": {
    "collapsed": false
   },
   "outputs": [
    {
     "data": {
      "text/plain": [
       " num [1:4592, 1:7] 2.728 -0.989 3.925 1.453 -0.197 ...\n",
       " - attr(*, \"dimnames\")=List of 2\n",
       "  ..$ : chr [1:4592] \"OTU.871\" \"OTU.9547\" \"OTU.523\" \"OTU.1107\" ...\n",
       "  ..$ : chr [1:7] \"Intercept\" \"Rep1\" \"Rep2\" \"Rep3\" ...\n"
      ]
     },
     "metadata": {},
     "output_type": "display_data"
    }
   ],
   "source": [
    "%%R\n",
    "str(betas)"
   ]
  },
  {
   "cell_type": "code",
   "execution_count": 98,
   "metadata": {
    "collapsed": false
   },
   "outputs": [
    {
     "data": {
      "text/plain": [
       "          Intercept        Rep1        Rep2         Rep3          Rep4\n",
       "OTU.1039   1.041147  0.05714519  0.02532954  0.257559939 -0.3400340833\n",
       "OTU.966    1.330184  0.29385895 -0.26922230  0.011685566 -0.0363214611\n",
       "OTU.836    1.874405  0.32653771  0.33899453 -0.341953467 -0.3235777175\n",
       "OTU.938    3.701478 -0.25990367 -0.06701055 -0.031728763  0.3586450750\n",
       "OTU.1649   1.538524  0.07841166 -0.59854121  0.519433438  0.0006969883\n",
       "OTU.1772   1.356840 -0.14485261  0.27019866  0.011954963 -0.1373002463\n",
       "OTU.1703   1.971579  0.06299148  0.26585231 -0.336931575  0.0080889035\n",
       "OTU.12859  2.393299 -0.16554469  0.15336188 -0.185677355  0.1978615130\n",
       "OTU.2090   2.195215 -0.89135610  0.17231439  0.205546381  0.5134965788\n",
       "OTU.881    2.346700  0.53335660 -0.31229839 -0.264681857  0.0436249821\n",
       "OTU.494    3.835234  0.54253796 -0.10938098 -0.006567204 -0.4265876139\n",
       "OTU.371    4.612532  0.13079330 -0.16518455 -0.108040761  0.1424346239\n",
       "OTU.444    3.332480  0.14005337 -0.24351899  0.033769527  0.0696979819\n",
       "OTU.830    1.681792  0.97225531 -0.25097515 -0.700181733 -0.0210974662\n",
       "OTU.891    2.257607  0.23083049 -0.04212556 -0.236463156  0.0477595038\n",
       "OTU.9372   3.306122  0.56892785 -0.37997694 -0.340921920  0.1519728765\n",
       "OTU.11869  1.642515  0.22818166 -0.18894869  0.068590494 -0.1078225335\n",
       "OTU.597    4.020200  0.68634481 -0.60034358 -0.286928749  0.2009297994\n",
       "OTU.776    1.179199 -0.53715525  0.50049910 -0.091971927  0.1286287438\n",
       "OTU.417    1.905409  0.20866744 -0.86800366 -0.256088466  0.9154257661\n",
       "          poly.R_Year.c..2.1 poly.R_Year.c..2.2\n",
       "OTU.1039         0.475512003          -3.816198\n",
       "OTU.966          0.632009953          -4.032126\n",
       "OTU.836          0.108026635          -3.807740\n",
       "OTU.938         -0.184172390          -3.609004\n",
       "OTU.1649         0.002906258          -3.142581\n",
       "OTU.1772         0.371432695           2.967512\n",
       "OTU.1703         0.663687638          -3.017583\n",
       "OTU.12859        0.286008914          -2.829342\n",
       "OTU.2090         0.264086799           2.747002\n",
       "OTU.881         -0.198907315          -2.943039\n",
       "OTU.494          0.249873911          -2.449714\n",
       "OTU.371          0.533293224          -2.108491\n",
       "OTU.444          0.835426216          -2.661784\n",
       "OTU.830          0.175570037          -2.742281\n",
       "OTU.891         -0.018834851          -2.691546\n",
       "OTU.9372         0.452854616          -2.594188\n",
       "OTU.11869        1.719930025          -2.697228\n",
       "OTU.597         -0.929570023          -2.367858\n",
       "OTU.776         -0.255300413           2.707502\n",
       "OTU.417          0.896001664          -2.641415\n"
      ]
     },
     "metadata": {},
     "output_type": "display_data"
    }
   ],
   "source": [
    "%%R\n",
    "betas[topGenes,]"
   ]
  },
  {
   "cell_type": "code",
   "execution_count": 66,
   "metadata": {
    "collapsed": false
   },
   "outputs": [
    {
     "data": {
      "image/png": "[encoded data removed]"
     },
     "metadata": {},
     "output_type": "display_data"
    }
   ],
   "source": [
    "%%R\n",
    "topGenes <- head(order(Year.x2.res$padj),20)\n",
    "mat <- betas[topGenes, -c(1,2)]\n",
    "thr <- 3 \n",
    "mat[mat < -thr] <- -thr\n",
    "mat[mat > thr] <- thr\n",
    "pheatmap::pheatmap(mat, breaks=seq(from=-thr, to=thr, length=101),\n",
    "         cluster_col=FALSE)"
   ]
  },
  {
   "cell_type": "code",
   "execution_count": null,
   "metadata": {
    "collapsed": true
   },
   "outputs": [],
   "source": [
    "DF = results(d_dds)\n",
    "\n",
    "supp = tax_table(phy.thresh)\n",
    "            if (!setequal(row.names(supp), row.names(DF))) {\n",
    "            stop(\"Ordination and supplementary data indices differ on the following:\\n.\",\n",
    "            setdiff(row.names(DF), row.names(supp)))\n",
    "        }  \n",
    "\n",
    "        DF = data.frame(DF, supp)\n",
    "        DF$OTU = rownames(DF)\n",
    "\n",
    "DF$Test = \"R_Year\"\n",
    "        YR = DF"
   ]
  },
  {
   "cell_type": "code",
   "execution_count": 147,
   "metadata": {
    "collapsed": false,
    "scrolled": true
   },
   "outputs": [
    {
     "data": {
      "image/png": "[encoded data removed]"
     },
     "metadata": {},
     "output_type": "display_data"
    }
   ],
   "source": [
    "%%R\n",
    "sigtab = YR %>% filter(padj < 0.05)\n",
    "x = tapply(sigtab$log2FoldChange, sigtab$Rank4, function(x) max(x))\n",
    "x = sort(x, TRUE)\n",
    "sigtab$Rank4 = factor(as.character(sigtab$Rank4), levels=names(x))\n",
    "# x = tapply(sigtab$log2FoldChange, sigtab$Rank3, function(x) max(x))\n",
    "# x = sort(x, TRUE)\n",
    "# sigtab$Rank3 = factor(as.character(sigtab$Rank3), levels=names(x))\n",
    "    \n",
    "p2 = ggplot(sigtab, aes(x=Rank4, y=log2FoldChange, size = baseMean)) + \n",
    "    geom_point(aes(color = Rank2))+\n",
    "  theme_pub() +\n",
    "  theme(axis.text.x = element_text(angle = -90, hjust = 0, vjust=0.5)) + \n",
    "    ggtitle(\"OTUs correlated with Year of Release\")  +\n",
    "   theme(legend.position=\"right\")\n",
    "#x = tapply(sigtab$log2FoldChange, sigtab$Rank2, function(x) max(x))\n",
    "#x = sort(x, TRUE)\n",
    "#x\n",
    "    p2"
   ]
  },
  {
   "cell_type": "code",
   "execution_count": 152,
   "metadata": {
    "collapsed": false
   },
   "outputs": [
    {
     "data": {
      "image/png": "[encoded data removed]"
     },
     "metadata": {},
     "output_type": "display_data"
    }
   ],
   "source": [
    "%%R\n",
    "plotDispEsts(d_dds)"
   ]
  },
  {
   "cell_type": "code",
   "execution_count": 177,
   "metadata": {
    "collapsed": false
   },
   "outputs": [],
   "source": [
    "%%R\n",
    "DF = results(d_dds, contrast = c(\"ERA\", \"1\", \"3\"))\n",
    "\n",
    "supp = tax_table(phy.thresh)\n",
    "            if (!setequal(row.names(supp), row.names(DF))) {\n",
    "            stop(\"Ordination and supplementary data indices differ on the following:\\n.\",\n",
    "            setdiff(row.names(DF), row.names(supp)))\n",
    "        }  \n",
    "\n",
    "        DF = data.frame(DF, supp)\n",
    "        DF$OTU = rownames(DF)\n",
    "\n",
    "DF$Test = \"R_Year_poly1\"\n",
    "        RYear_poly1 = DF"
   ]
  },
  {
   "cell_type": "code",
   "execution_count": null,
   "metadata": {
    "collapsed": false
   },
   "outputs": [],
   "source": [
    "%%R\n",
    "sigtab = RYear_poly1 %>% filter(padj < 0.05)\n",
    "x = tapply(sigtab$log2FoldChange, sigtab$Rank4, function(x) max(x))\n",
    "x = sort(x, TRUE)\n",
    "sigtab$Rank4 = factor(as.character(sigtab$Rank4), levels=names(x))\n",
    "# x = tapply(sigtab$log2FoldChange, sigtab$Rank3, function(x) max(x))\n",
    "# x = sort(x, TRUE)\n",
    "# sigtab$Rank3 = factor(as.character(sigtab$Rank3), levels=names(x))\n",
    "    \n",
    "p2 = ggplot(sigtab, aes(x=Rank4, y=log2FoldChange, size = baseMean)) + \n",
    "    geom_point(aes(color = Rank2))+\n",
    "  theme_pub() +\n",
    "  theme(axis.text.x = element_text(angle = -90, hjust = 0, vjust=0.5)) + \n",
    "    ggtitle(\"OTUs correlated with Year of Release\")  +\n",
    "   theme(legend.position=\"right\")\n",
    "#x = tapply(sigtab$log2FoldChange, sigtab$Rank2, function(x) max(x))\n",
    "#x = sort(x, TRUE)\n",
    "#x\n",
    "    p2"
   ]
  },
  {
   "cell_type": "code",
   "execution_count": 170,
   "metadata": {
    "collapsed": false
   },
   "outputs": [
    {
     "data": {
      "text/plain": [
       "   baseMean log2FoldChange     lfcSE     stat       pvalue         padj\n",
       "1 15.988529       1.148456 0.2812720 4.083080 4.444272e-05 0.0269471017\n",
       "2  4.498885       1.388474 0.2797634 4.963029 6.940227e-07 0.0006312136\n",
       "3  5.727666       1.093523 0.2758620 3.964023 7.369722e-05 0.0335138089\n",
       "4  3.188988       1.467852 0.2810343 5.223036 1.760134e-07 0.0003201684\n",
       "     Rank1            Rank2                 Rank3               Rank4\n",
       "1 Bacteria __Proteobacteria __Deltaproteobacteria      __Myxococcales\n",
       "2 Bacteria __Proteobacteria __Deltaproteobacteria      __Myxococcales\n",
       "3 Bacteria __Proteobacteria __Gammaproteobacteria __Oceanospirillales\n",
       "4 Bacteria    __Chloroflexi        __Anaerolineae    __Anaerolineales\n",
       "                 Rank5             Rank6                              Rank7\n",
       "1       __Sorangiineae      __uncultured                               <NA>\n",
       "2       __Sorangiineae      __uncultured                               <NA>\n",
       "3 __Oceanospirillaceae __Pseudospirillum __uncultured_gamma_proteobacterium\n",
       "4    __Anaerolineaceae      __uncultured             __uncultured_bacterium\n",
       "  Rank8      OTU         Test\n",
       "1  <NA>  OTU.938 R_Year_poly1\n",
       "2  <NA> OTU.1703 R_Year_poly1\n",
       "3  <NA>  OTU.891 R_Year_poly1\n",
       "4  <NA>  OTU.966 R_Year_poly1\n"
      ]
     },
     "metadata": {},
     "output_type": "display_data"
    }
   ],
   "source": [
    "%%R\n",
    "head(sigtab)"
   ]
  },
  {
   "cell_type": "code",
   "execution_count": 150,
   "metadata": {
    "collapsed": false
   },
   "outputs": [
    {
     "name": "stdout",
     "output_type": "stream",
     "text": [
      "\n",
      "Error in .local(object, ...) : \n",
      "  first calculate size factors, add normalizationFactors, or set normalized=FALSE\n"
     ]
    },
    {
     "name": "stderr",
     "output_type": "stream",
     "text": [
      "/opt/anaconda2/lib/python2.7/site-packages/rpy2/rinterface/__init__.py:186: RRuntimeWarning: Error in .local(object, ...) : \n",
      "  first calculate size factors, add normalizationFactors, or set normalized=FALSE\n",
      "\n",
      "  warnings.warn(x, RRuntimeWarning)\n"
     ]
    }
   ],
   "source": [
    "%%R\n",
    "library(\"vsn\")\n",
    "notAllZero <- (rowSums(counts(dds))>0)\n",
    "meanSdPlot(log2(counts(dds,normalized=TRUE)[notAllZero,] + 1))"
   ]
  },
  {
   "cell_type": "markdown",
   "metadata": {},
   "source": [
    "# Pseudomonas"
   ]
  },
  {
   "cell_type": "code",
   "execution_count": null,
   "metadata": {
    "collapsed": false
   },
   "outputs": [],
   "source": [
    "%%R\n",
    "physeq.core %>% \n",
    "    tax_table() %>% \n",
    "    head()"
   ]
  },
  {
   "cell_type": "code",
   "execution_count": null,
   "metadata": {
    "collapsed": false
   },
   "outputs": [],
   "source": [
    "%%R\n",
    "pdms = subset_taxa(physeq.snorm, Rank6==\"__Pseudomonas\") %>%\n",
    "    subset_samples(Ntreat == \"Nneg\")\n",
    "pdms"
   ]
  },
  {
   "cell_type": "code",
   "execution_count": null,
   "metadata": {
    "collapsed": false,
    "scrolled": true
   },
   "outputs": [],
   "source": [
    "%%R\n",
    "title = \"plot_bar; Pseudomonas-only\"\n",
    "plot_bar(pdms, \"Genotype\", \"Abundance\", title=title)"
   ]
  },
  {
   "cell_type": "code",
   "execution_count": null,
   "metadata": {
    "collapsed": true
   },
   "outputs": [],
   "source": [
    "%%R\n",
    "pdms.mean = psmelt(pdms) %>%\n",
    "        group_by(OTU,TimePoint, Genotype) %>%\n",
    "         summarize(relAbundance = mean(Abundance))"
   ]
  },
  {
   "cell_type": "code",
   "execution_count": null,
   "metadata": {
    "collapsed": false,
    "scrolled": false
   },
   "outputs": [],
   "source": [
    "%%R -w 700 -h 700\n",
    "ggplot(pdms.mean, aes(x = Genotype, y = relAbundance)) +\n",
    "    geom_bar(stat = \"identity\") + \n",
    "    facet_grid(OTU~TimePoint, scales = \"free_x\")+\n",
    "    theme(axis.text.x = element_text(angle = 60))\n",
    "   # geom_text(aes(y = relAbundance + .001, label=sig))"
   ]
  },
  {
   "cell_type": "code",
   "execution_count": null,
   "metadata": {
    "collapsed": false
   },
   "outputs": [],
   "source": [
    "%%R\n",
    "tax_table(pdms)"
   ]
  }
 ],
 "metadata": {
  "anaconda-cloud": {},
  "hide_input": true,
  "kernelspec": {
   "display_name": "Python 2",
   "language": "python",
   "name": "python2"
  },
  "language_info": {
   "codemirror_mode": {
    "name": "ipython",
    "version": 2
   },
   "file_extension": ".py",
   "mimetype": "text/x-python",
   "name": "python",
   "nbconvert_exporter": "python",
   "pygments_lexer": "ipython2",
   "version": "2.7.13"
  }
 },
 "nbformat": 4,
 "nbformat_minor": 0
}
