{
 "cells": [
  {
   "cell_type": "markdown",
   "metadata": {},
   "source": [
    "# Description:\n",
    "\n",
    "    Investigate OTU abundances\n",
    "\n"
   ]
  },
  {
   "cell_type": "markdown",
   "metadata": {},
   "source": [
    "# Setting variables"
   ]
  },
  {
   "cell_type": "markdown",
   "metadata": {},
   "source": [
    "# Init"
   ]
  },
  {
   "cell_type": "code",
   "execution_count": 2,
   "metadata": {
    "collapsed": false
   },
   "outputs": [
    {
     "name": "stdout",
     "output_type": "stream",
     "text": [
      "The rpy2.ipython extension is already loaded. To reload it, use:\n",
      "  %reload_ext rpy2.ipython\n"
     ]
    }
   ],
   "source": [
    "%load_ext rpy2.ipython"
   ]
  },
  {
   "cell_type": "code",
   "execution_count": 3,
   "metadata": {
    "collapsed": false
   },
   "outputs": [],
   "source": [
    "%%R\n",
    "workDir = '/home/bryan/ERA/data/figures/'\n",
    "setwd(workDir)"
   ]
  },
  {
   "cell_type": "code",
   "execution_count": 6,
   "metadata": {
    "collapsed": false,
    "scrolled": true
   },
   "outputs": [],
   "source": [
    "%%R\n",
    "library(phyloseq)\n",
    "library(ggplot2)\n",
    "library(foreach)\n",
    "library(doParallel)\n",
    "library(gridExtra)\n",
    "library(dplyr)\n",
    "library(tidyr)"
   ]
  },
  {
   "cell_type": "markdown",
   "metadata": {},
   "source": [
    "# Load phyloseq object"
   ]
  },
  {
   "cell_type": "code",
   "execution_count": 7,
   "metadata": {
    "collapsed": false
   },
   "outputs": [
    {
     "data": {
      "text/plain": [
       "phyloseq-class experiment-level object\n",
       "otu_table()   OTU Table:         [ 4592 taxa and 243 samples ]\n",
       "sample_data() Sample Data:       [ 243 samples by 46 sample variables ]\n",
       "tax_table()   Taxonomy Table:    [ 4592 taxa by 8 taxonomic ranks ]\n",
       "phy_tree()    Phylogenetic Tree: [ 4592 tips and 4591 internal nodes ]\n"
      ]
     },
     "metadata": {},
     "output_type": "display_data"
    }
   ],
   "source": [
    "%%R \n",
    "physeq = readRDS(file = '/home/bryan/ERA/data/MiSeq/20170417_run1/phyloseq/ERA_snorm.rds')\n",
    "physeq"
   ]
  },
  {
   "cell_type": "markdown",
   "metadata": {
    "collapsed": false
   },
   "source": [
    "### apply gsub across columns replacing __ w/ \"\" reload tax_table to phyloseq object"
   ]
  },
  {
   "cell_type": "code",
   "execution_count": 8,
   "metadata": {
    "collapsed": true
   },
   "outputs": [],
   "source": [
    "%%R\n",
    "t = tax_table(physeq)\n",
    "t = apply(t, 2, function(y) gsub(\"__\", \"\", y))\n",
    "tax_table(physeq) = t"
   ]
  },
  {
   "cell_type": "markdown",
   "metadata": {},
   "source": [
    "# Taxa distribution"
   ]
  },
  {
   "cell_type": "markdown",
   "metadata": {
    "collapsed": true
   },
   "source": [
    "## Rank Abundance"
   ]
  },
  {
   "cell_type": "code",
   "execution_count": 9,
   "metadata": {
    "collapsed": false
   },
   "outputs": [
    {
     "data": {
      "text/plain": [
       "[1] \"/home/bryan/ERA/data/figures\"\n"
      ]
     },
     "metadata": {},
     "output_type": "display_data"
    }
   ],
   "source": [
    "%%R\n",
    "getwd()"
   ]
  },
  {
   "cell_type": "code",
   "execution_count": 13,
   "metadata": {
    "collapsed": false
   },
   "outputs": [
    {
     "data": {
      "image/png": "[encoded data removed]"
     },
     "metadata": {},
     "output_type": "display_data"
    }
   ],
   "source": [
    "%%R -w 700 -h 500\n",
    "par(mar = c(10, 4, 4, 2) + 0.1) # make more room on bottom margin\n",
    "N <- 50\n",
    "\n",
    "#print to file\n",
    "pdf(file = \"RankAbundance.pdf\")\n",
    "barplot(sort(taxa_sums(physeq), TRUE)[1:N], las=2, \n",
    "        main = \"Rank Abundance \\n Sparsity Threshold x > 3 in 5%\")\n",
    "dev.off()\n",
    "\n",
    "#print to screen\n",
    "barplot(sort(taxa_sums(physeq), TRUE)[1:N], las=2, \n",
    "        main = \"Rank Abundance \\n Sparsity Threshold x > 3 in 5%\")"
   ]
  },
  {
   "cell_type": "markdown",
   "metadata": {},
   "source": [
    "## Generate abundance bar plots for each sample"
   ]
  },
  {
   "cell_type": "code",
   "execution_count": 14,
   "metadata": {
    "collapsed": true
   },
   "outputs": [],
   "source": [
    "%%R\n",
    "# Multiple plot function\n",
    "#\n",
    "# ggplot objects can be passed in ..., or to plotlist (as a list of ggplot objects)\n",
    "# - cols:   Number of columns in layout\n",
    "# - layout: A matrix specifying the layout. If present, 'cols' is ignored.\n",
    "#\n",
    "# If the layout is something like matrix(c(1,2,3,3), nrow=2, byrow=TRUE),\n",
    "# then plot 1 will go in the upper left, 2 will go in the upper right, and\n",
    "# 3 will go all the way across the bottom.\n",
    "\n",
    "multiplot <- function(..., plotlist=NULL, file, cols=1, layout=NULL) {\n",
    "  library(grid)\n",
    "\n",
    "  # Make a list from the ... arguments and plotlist\n",
    "  plots <- c(list(...), plotlist)\n",
    "\n",
    "  numPlots = length(plots)\n",
    "\n",
    "  # If layout is NULL, then use 'cols' to determine layout\n",
    "  if (is.null(layout)) {\n",
    "    # Make the panel\n",
    "    # ncol: Number of columns of plots\n",
    "    # nrow: Number of rows needed, calculated from # of cols\n",
    "    layout <- matrix(seq(1, cols * ceiling(numPlots/cols)),\n",
    "                    ncol = cols, nrow = ceiling(numPlots/cols))\n",
    "  }\n",
    "\n",
    " if (numPlots==1) {\n",
    "    print(plots[[1]])\n",
    "\n",
    "  } else {\n",
    "    # Set up the page\n",
    "    grid.newpage()\n",
    "    pushViewport(viewport(layout = grid.layout(nrow(layout), ncol(layout))))\n",
    "\n",
    "    # Make each plot, in the correct location\n",
    "    for (i in 1:numPlots) {\n",
    "      # Get the i,j matrix positions of the regions that contain this subplot\n",
    "      matchidx <- as.data.frame(which(layout == i, arr.ind = TRUE))\n",
    "\n",
    "      print(plots[[i]], vp = viewport(layout.pos.row = matchidx$row,\n",
    "                                      layout.pos.col = matchidx$col))\n",
    "    }\n",
    "  }\n",
    "}"
   ]
  },
  {
   "cell_type": "code",
   "execution_count": 16,
   "metadata": {
    "collapsed": false,
    "scrolled": true
   },
   "outputs": [
    {
     "data": {
      "text/plain": [
       "                 X.sampleID  TubeID ExtractionPlate PooledDNAPlate\n",
       "ERA-T0_1-5a_0 ERA-T0_1-5a_0 BD - 25            ERA3              C\n",
       "ERA-T0_4-3d_0 ERA-T0_4-3d_0 BD - 16            ERA3              C\n",
       "ERA-T0_2-3b_0 ERA-T0_2-3b_0 BD - 19            ERA3              C\n",
       "ERA-T0_3-2c_0 ERA-T0_3-2c_0 BD - 12            ERA3              C\n",
       "ERA-T0_2-2c_0 ERA-T0_2-2c_0 BD - 26            ERA3              C\n",
       "ERA-T0_3-4c_0 ERA-T0_3-4c_0  BD - 7            ERA3              C\n",
       "              Sample.Well.ID PrimerPlate Primer.Number Primer.Well.ID  X\n",
       "ERA-T0_1-5a_0             C6           3            22             F3 NA\n",
       "ERA-T0_4-3d_0             D9           3            47             G6 NA\n",
       "ERA-T0_2-3b_0             H5           3            20             D3 NA\n",
       "ERA-T0_3-2c_0             B9           3            45             E6 NA\n",
       "ERA-T0_2-2c_0             B7           3            29             E4 NA\n",
       "ERA-T0_3-4c_0             C9           3            46             F6 NA\n",
       "              primerFwdLoc primerRevLoc fwd_barcode rev_barcode PlotID\n",
       "ERA-T0_1-5a_0          3-F          3-3    CGTGAGTG    AGCTGCTA 1-5a_0\n",
       "ERA-T0_4-3d_0          3-G          3-6    GGATATCT    CTCGTTAC 4-3d_0\n",
       "ERA-T0_2-3b_0          3-D          3-3    CTGCGTGT    AGCTGCTA 2-3b_0\n",
       "ERA-T0_3-2c_0          3-E          3-6    TCATCGAG    CTCGTTAC 3-2c_0\n",
       "ERA-T0_2-2c_0          3-E          3-4    TCATCGAG    CATAGAGA 2-2c_0\n",
       "ERA-T0_3-4c_0          3-F          3-6    CGTGAGTG    CTCGTTAC 3-4c_0\n",
       "              TimePoint Rep Row Pos Fert PlotIndex   Plant Genotype\n",
       "ERA-T0_1-5a_0        T0   1   5   a    0        50    Bare     Bare\n",
       "ERA-T0_4-3d_0        T0   4   3   d    0       215    Bare     Bare\n",
       "ERA-T0_2-3b_0        T0   2   3   b    0        90    Bare     Bare\n",
       "ERA-T0_3-2c_0        T0   3   2   c    0       139    Bare     Bare\n",
       "ERA-T0_2-2c_0        T0   2   2   c    0        79 P1151HR  P1151HR\n",
       "ERA-T0_3-4c_0        T0   3   4   c    0       163 P1151HR  P1151HR\n",
       "              SeedTreatment R_Year ERA BG_activity.g BX_activity.g\n",
       "ERA-T0_1-5a_0                   NA  NA      68.59212      13.73848\n",
       "ERA-T0_4-3d_0                   NA  NA      58.41218      12.24270\n",
       "ERA-T0_2-3b_0                   NA  NA      58.50092      11.77377\n",
       "ERA-T0_3-2c_0                   NA  NA      69.37503      15.43594\n",
       "ERA-T0_2-2c_0       Treated   2011   3      69.62831      16.06054\n",
       "ERA-T0_3-4c_0       Treated   2011   3      81.05257      19.30230\n",
       "              CB_activity.g LAP_activity.g NAG_activity.g    Stage kgdw_ha\n",
       "ERA-T0_1-5a_0      13.81744       115.5497       14.20163 Planting      NA\n",
       "ERA-T0_4-3d_0      11.58262       155.5272       11.33472 Planting      NA\n",
       "ERA-T0_2-3b_0      11.74892       103.3675       10.88638 Planting      NA\n",
       "ERA-T0_3-2c_0      16.04796       116.6292       12.45643 Planting      NA\n",
       "ERA-T0_2-2c_0      14.87243       124.0577       10.99591 Planting      NA\n",
       "ERA-T0_3-4c_0      20.61582       107.9080       14.94647 Planting      NA\n",
       "              FracN.leco FracC.leco kgN_ha RGR AGR Nprod NupR d15N\n",
       "ERA-T0_1-5a_0         NA         NA     NA  NA  NA    NA   NA   NA\n",
       "ERA-T0_4-3d_0         NA         NA     NA  NA  NA    NA   NA   NA\n",
       "ERA-T0_2-3b_0         NA         NA     NA  NA  NA    NA   NA   NA\n",
       "ERA-T0_3-2c_0         NA         NA     NA  NA  NA    NA   NA   NA\n",
       "ERA-T0_2-2c_0         NA         NA     NA  NA  NA    NA   NA   NA\n",
       "ERA-T0_3-4c_0         NA         NA     NA  NA  NA    NA   NA   NA\n",
       "              X15N_AtPercent FracN FracN_fromSoil FracN_fromFert kgFertN_ha\n",
       "ERA-T0_1-5a_0             NA    NA             NA             NA         NA\n",
       "ERA-T0_4-3d_0             NA    NA             NA             NA         NA\n",
       "ERA-T0_2-3b_0             NA    NA             NA             NA         NA\n",
       "ERA-T0_3-2c_0             NA    NA             NA             NA         NA\n",
       "ERA-T0_2-2c_0             NA    NA             NA             NA         NA\n",
       "ERA-T0_3-4c_0             NA    NA             NA             NA         NA\n",
       "              kgSoilN_ha\n",
       "ERA-T0_1-5a_0         NA\n",
       "ERA-T0_4-3d_0         NA\n",
       "ERA-T0_2-3b_0         NA\n",
       "ERA-T0_3-2c_0         NA\n",
       "ERA-T0_2-2c_0         NA\n",
       "ERA-T0_3-4c_0         NA\n"
      ]
     },
     "metadata": {},
     "output_type": "display_data"
    }
   ],
   "source": [
    "%%R\n",
    "s.df = sample_data(physeq)\n",
    "s.df.o =  s.df[with(s.df, order(TimePoint, Plant, Fert))]\n",
    "head(s.df.o) %>% print\n",
    "samples = sample_names(s.df.o)"
   ]
  },
  {
   "cell_type": "code",
   "execution_count": 19,
   "metadata": {
    "collapsed": false
   },
   "outputs": [
    {
     "data": {
      "text/plain": [
       "  [1] \"T0-Bare-0\"      \"T0-Bare-0\"      \"T0-Bare-0\"      \"T0-Bare-0\"     \n",
       "  [5] \"T0-P1151HR-0\"   \"T0-P1151HR-0\"   \"T0-P1151HR-0\"   \"T1-330-0\"      \n",
       "  [9] \"T1-330-0\"       \"T1-330-0\"       \"T1-330-0\"       \"T1-330-85\"     \n",
       " [13] \"T1-330-85\"      \"T1-330-85\"      \"T1-330-85\"      \"T1-330-170\"    \n",
       " [17] \"T1-330-170\"     \"T1-330-170\"     \"T1-330-170\"     \"T1-3475-0\"     \n",
       " [21] \"T1-3475-0\"      \"T1-3475-0\"      \"T1-3475-0\"      \"T1-3475-85\"    \n",
       " [25] \"T1-3475-85\"     \"T1-3475-85\"     \"T1-3475-85\"     \"T1-3475-170\"   \n",
       " [29] \"T1-3475-170\"    \"T1-3475-170\"    \"T1-3475-170\"    \"T1-34M95-0\"    \n",
       " [33] \"T1-34M95-0\"     \"T1-34M95-0\"     \"T1-34M95-0\"     \"T1-34M95-85\"   \n",
       " [37] \"T1-34M95-85\"    \"T1-34M95-85\"    \"T1-34M95-85\"    \"T1-34M95-170\"  \n",
       " [41] \"T1-34M95-170\"   \"T1-34M95-170\"   \"T1-34M95-170\"   \"T1-3517-0\"     \n",
       " [45] \"T1-3517-0\"      \"T1-3517-0\"      \"T1-3517-0\"      \"T1-3517-85\"    \n",
       " [49] \"T1-3517-85\"     \"T1-3517-85\"     \"T1-3517-85\"     \"T1-3517-170\"   \n",
       " [53] \"T1-3517-170\"    \"T1-3517-170\"    \"T1-3517-170\"    \"T1-354-0\"      \n",
       " [57] \"T1-354-0\"       \"T1-354-0\"       \"T1-354-0\"       \"T1-354-85\"     \n",
       " [61] \"T1-354-85\"      \"T1-354-85\"      \"T1-354-85\"      \"T1-354-170\"    \n",
       " [65] \"T1-354-170\"     \"T1-354-170\"     \"T1-354-170\"     \"T1-Bare-0\"     \n",
       " [69] \"T1-Bare-0\"      \"T1-Bare-0\"      \"T1-Bare-0\"      \"T1-Bare-85\"    \n",
       " [73] \"T1-Bare-85\"     \"T1-Bare-85\"     \"T1-Bare-85\"     \"T1-Bare-170\"   \n",
       " [77] \"T1-Bare-170\"    \"T1-Bare-170\"    \"T1-Bare-170\"    \"T1-P1151HR-0\"  \n",
       " [81] \"T1-P1151HR-0\"   \"T1-P1151HR-0\"   \"T1-P1151HR-0\"   \"T1-P1151HR-85\" \n",
       " [85] \"T1-P1151HR-85\"  \"T1-P1151HR-85\"  \"T1-P1151HR-85\"  \"T1-P1151HR-170\"\n",
       " [89] \"T1-P1151HR-170\" \"T1-P1151HR-170\" \"T1-P1151HR-170\" \"T2-322-85\"     \n",
       " [93] \"T2-322-85\"      \"T2-322-85\"      \"T2-322-85\"      \"T2-322U-85\"    \n",
       " [97] \"T2-322U-85\"     \"T2-322U-85\"     \"T2-322U-85\"     \"T2-330-85\"     \n",
       "[101] \"T2-330-85\"      \"T2-330-85\"      \"T2-330-85\"      \"T2-339-85\"     \n",
       "[105] \"T2-339-85\"      \"T2-339-85\"      \"T2-339-85\"      \"T2-3394-85\"    \n",
       "[109] \"T2-3394-85\"     \"T2-3394-85\"     \"T2-3394-85\"     \"T2-3475-85\"    \n",
       "[113] \"T2-3475-85\"     \"T2-3475-85\"     \"T2-3475-85\"     \"T2-3475U-85\"   \n",
       "[117] \"T2-3475U-85\"    \"T2-3475U-85\"    \"T2-3475U-85\"    \"T2-34M95-85\"   \n",
       "[121] \"T2-34M95-85\"    \"T2-34M95-85\"    \"T2-34M95-85\"    \"T2-34N42-85\"   \n",
       "[125] \"T2-34N42-85\"    \"T2-34N42-85\"    \"T2-34N42-85\"    \"T2-34N42U-85\"  \n",
       "[129] \"T2-34N42U-85\"   \"T2-34N42U-85\"   \"T2-34N42U-85\"   \"T2-3517-85\"    \n",
       "[133] \"T2-3517-85\"     \"T2-3517-85\"     \"T2-3517-85\"     \"T2-354-85\"     \n",
       "[137] \"T2-354-85\"      \"T2-354-85\"      \"T2-354-85\"      \"T2-3541-85\"    \n",
       "[141] \"T2-3541-85\"     \"T2-3541-85\"     \"T2-3541-85\"     \"T2-354U-85\"    \n",
       "[145] \"T2-354U-85\"     \"T2-354U-85\"     \"T2-354U-85\"     \"T2-3618-85\"    \n",
       "[149] \"T2-3618-85\"     \"T2-3618-85\"     \"T2-3618-85\"     \"T2-Bare-85\"    \n",
       "[153] \"T2-Bare-85\"     \"T2-Bare-85\"     \"T2-Bare-85\"     \"T2-P1151HR-85\" \n",
       "[157] \"T2-P1151HR-85\"  \"T2-P1151HR-85\"  \"T2-P1151HR-85\"  \"T3-330-0\"      \n",
       "[161] \"T3-330-0\"       \"T3-330-0\"       \"T3-330-0\"       \"T3-330-85\"     \n",
       "[165] \"T3-330-85\"      \"T3-330-85\"      \"T3-330-85\"      \"T3-330-170\"    \n",
       "[169] \"T3-330-170\"     \"T3-330-170\"     \"T3-330-170\"     \"T3-3475-0\"     \n",
       "[173] \"T3-3475-0\"      \"T3-3475-0\"      \"T3-3475-0\"      \"T3-3475-85\"    \n",
       "[177] \"T3-3475-85\"     \"T3-3475-85\"     \"T3-3475-85\"     \"T3-3475-170\"   \n",
       "[181] \"T3-3475-170\"    \"T3-3475-170\"    \"T3-3475-170\"    \"T3-34M95-0\"    \n",
       "[185] \"T3-34M95-0\"     \"T3-34M95-0\"     \"T3-34M95-0\"     \"T3-34M95-85\"   \n",
       "[189] \"T3-34M95-85\"    \"T3-34M95-85\"    \"T3-34M95-85\"    \"T3-34M95-170\"  \n",
       "[193] \"T3-34M95-170\"   \"T3-34M95-170\"   \"T3-34M95-170\"   \"T3-3517-0\"     \n",
       "[197] \"T3-3517-0\"      \"T3-3517-0\"      \"T3-3517-0\"      \"T3-3517-85\"    \n",
       "[201] \"T3-3517-85\"     \"T3-3517-85\"     \"T3-3517-85\"     \"T3-3517-170\"   \n",
       "[205] \"T3-3517-170\"    \"T3-3517-170\"    \"T3-3517-170\"    \"T3-354-0\"      \n",
       "[209] \"T3-354-0\"       \"T3-354-0\"       \"T3-354-0\"       \"T3-354-85\"     \n",
       "[213] \"T3-354-85\"      \"T3-354-85\"      \"T3-354-85\"      \"T3-354-170\"    \n",
       "[217] \"T3-354-170\"     \"T3-354-170\"     \"T3-354-170\"     \"T3-Bare-0\"     \n",
       "[221] \"T3-Bare-0\"      \"T3-Bare-0\"      \"T3-Bare-0\"      \"T3-Bare-85\"    \n",
       "[225] \"T3-Bare-85\"     \"T3-Bare-85\"     \"T3-Bare-85\"     \"T3-Bare-170\"   \n",
       "[229] \"T3-Bare-170\"    \"T3-Bare-170\"    \"T3-Bare-170\"    \"T3-P1151HR-0\"  \n",
       "[233] \"T3-P1151HR-0\"   \"T3-P1151HR-0\"   \"T3-P1151HR-0\"   \"T3-P1151HR-85\" \n",
       "[237] \"T3-P1151HR-85\"  \"T3-P1151HR-85\"  \"T3-P1151HR-85\"  \"T3-P1151HR-170\"\n",
       "[241] \"T3-P1151HR-170\" \"T3-P1151HR-170\" \"T3-P1151HR-170\"\n"
      ]
     },
     "metadata": {},
     "output_type": "display_data"
    }
   ],
   "source": [
    "%%R\n",
    "Title = paste(s.df.o$TimePoint, s.df.o$Plant, s.df.o$Fert, sep = \"-\")\n",
    "Title"
   ]
  },
  {
   "cell_type": "markdown",
   "metadata": {},
   "source": [
    "# Explore OTU relative abundance"
   ]
  },
  {
   "cell_type": "code",
   "execution_count": 20,
   "metadata": {
    "collapsed": false
   },
   "outputs": [
    {
     "data": {
      "text/plain": [
       "png \n",
       "  2 \n"
      ]
     },
     "metadata": {},
     "output_type": "display_data"
    }
   ],
   "source": [
    "%%R \n",
    "\n",
    "pdf(\"sample_rel-abundance.pdf\", onefile = TRUE)\n",
    "\n",
    "N = nsamples(physeq)\n",
    "\n",
    "s.df = sample_data(physeq)\n",
    "s.df.o =  s.df[with(s.df, order(TimePoint, Plant, Fert))]\n",
    "samples = sample_names(s.df.o)\n",
    "Title = paste(s.df.o$TimePoint, s.df.o$Plant, s.df.o$Fert, sep = \"-\")\n",
    "\n",
    "for(i in 1:N){\n",
    "    samplename = samples[i]\n",
    "    sample = subset_samples(physeq, X.sampleID == samplename)\n",
    "  \n",
    "\n",
    "    TopOTUs = names(sort(taxa_sums(sample), TRUE)[1:50])\n",
    "    Top = prune_taxa(TopOTUs, sample)\n",
    "    #title = paste(sample_data(Top)$Plant, samplename, sample_sums(Top), sep = \" \")\n",
    "    plot =  barplot(sort(taxa_sums(Top), TRUE), las=2, \n",
    "        main = Title[i])\n",
    "    plot\n",
    "}\n",
    "\n",
    "dev.off()\n",
    "\n"
   ]
  }
 ],
 "metadata": {
  "hide_input": true,
  "kernelspec": {
   "display_name": "Python 2",
   "language": "python",
   "name": "python2"
  },
  "language_info": {
   "codemirror_mode": {
    "name": "ipython",
    "version": 2
   },
   "file_extension": ".py",
   "mimetype": "text/x-python",
   "name": "python",
   "nbconvert_exporter": "python",
   "pygments_lexer": "ipython2",
   "version": "2.7.13"
  }
 },
 "nbformat": 4,
 "nbformat_minor": 0
}
