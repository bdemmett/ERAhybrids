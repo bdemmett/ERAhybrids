{
 "cells": [
  {
   "cell_type": "markdown",
   "metadata": {},
   "source": [
    "## Description:\n",
    "\n",
    "    A quick and dirty ordination of all OTUs\n",
    "\n"
   ]
  },
  {
   "cell_type": "markdown",
   "metadata": {},
   "source": [
    "# Init"
   ]
  },
  {
   "cell_type": "code",
   "execution_count": 1,
   "metadata": {
    "collapsed": true
   },
   "outputs": [],
   "source": [
    "%load_ext rpy2.ipython"
   ]
  },
  {
   "cell_type": "code",
   "execution_count": 3,
   "metadata": {
    "collapsed": false
   },
   "outputs": [],
   "source": [
    "%%R\n",
    "library(ggplot2)\n",
    "library(foreach)\n",
    "library(doParallel)\n",
    "library(gridExtra)\n",
    "library(dplyr)\n",
    "library(tidyr)\n",
    "library(vegan)\n",
    "library(DESeq2)\n",
    "library(phyloseq)"
   ]
  },
  {
   "cell_type": "code",
   "execution_count": 4,
   "metadata": {
    "collapsed": true
   },
   "outputs": [],
   "source": [
    "%%R\n",
    "# set theme for ggplot\n",
    "\n",
    "theme_pub = function (base_size = 11, base_family = \"Helvetica\") \n",
    "{\n",
    "    theme_grey(base_size = base_size, base_family = base_family) %+replace% \n",
    "        theme(\n",
    "            axis.line.x = element_line(size = .5),\n",
    "            axis.line.y = element_line(size = .5),\n",
    "            panel.background = element_rect(fill = \"white\", colour = NA), \n",
    "            panel.border = element_rect(fill = NA, color = \"black\", size = .5), \n",
    "            panel.grid.major = element_blank(), \n",
    "            panel.grid.minor = element_blank(), \n",
    "            strip.background = element_rect(fill = \"grey85\", \n",
    "                colour = \"grey20\"), \n",
    "            legend.key = element_rect(fill = \"white\", \n",
    "                colour = NA), complete = TRUE)\n",
    "    }\n"
   ]
  },
  {
   "cell_type": "markdown",
   "metadata": {},
   "source": [
    "# Loading phyloseq object"
   ]
  },
  {
   "cell_type": "code",
   "execution_count": 5,
   "metadata": {
    "collapsed": true
   },
   "outputs": [],
   "source": [
    "%%R\n",
    "setwd('/home/bryan/ERA/data/MiSeq/20170417_run1/phyloseq/')"
   ]
  },
  {
   "cell_type": "code",
   "execution_count": 6,
   "metadata": {
    "collapsed": false,
    "scrolled": false
   },
   "outputs": [
    {
     "data": {
      "text/plain": [
       "phyloseq-class experiment-level object\n",
       "otu_table()   OTU Table:         [ 4597 taxa and 236 samples ]\n",
       "sample_data() Sample Data:       [ 236 samples by 33 sample variables ]\n",
       "tax_table()   Taxonomy Table:    [ 4597 taxa by 8 taxonomic ranks ]\n",
       "phy_tree()    Phylogenetic Tree: [ 4597 tips and 4596 internal nodes ]\n"
      ]
     },
     "metadata": {},
     "output_type": "display_data"
    }
   ],
   "source": [
    "%%R \n",
    "# loading\n",
    "\n",
    "physeq = readRDS('ERA_snorm.rds')\n",
    "\n",
    "#remove T0, not necessary\n",
    "physeq = subset_samples(physeq, !is.na(Genotype), TRUE)\n",
    "physeq"
   ]
  },
  {
   "cell_type": "code",
   "execution_count": 7,
   "metadata": {
    "collapsed": false,
    "scrolled": true
   },
   "outputs": [
    {
     "data": {
      "text/plain": [
       " [1] \"X.sampleID\"      \"TubeID\"          \"ExtractionPlate\" \"PooledDNAPlate\" \n",
       " [5] \"Sample.Well.ID\"  \"PrimerPlate\"     \"Primer.Number\"   \"Primer.Well.ID\" \n",
       " [9] \"X\"               \"primerFwdLoc\"    \"primerRevLoc\"    \"fwd_barcode\"    \n",
       "[13] \"rev_barcode\"     \"PlotID\"          \"TimePoint\"       \"Rep\"            \n",
       "[17] \"Row\"             \"Pos\"             \"Fert\"            \"PlotIndex\"      \n",
       "[21] \"Plant\"           \"Genotype\"        \"SeedTreatment\"   \"R_Year\"         \n",
       "[25] \"ERA\"             \"kgdw_ha\"         \"FracN.leco\"      \"FracC.leco\"     \n",
       "[29] \"d15N\"            \"X15N_AtPercent\"  \"FracN\"           \"FracN_fromSoil\" \n",
       "[33] \"FracN_fromFert\" \n"
      ]
     },
     "metadata": {},
     "output_type": "display_data"
    }
   ],
   "source": [
    "%%R\n",
    "sd =sample_data(physeq)\n",
    "colnames(sd)"
   ]
  },
  {
   "cell_type": "code",
   "execution_count": 9,
   "metadata": {
    "collapsed": false
   },
   "outputs": [
    {
     "data": {
      "text/plain": [
       "      X.sampleID TubeID ExtractionPlate PooledDNAPlate Sample.Well.ID\n",
       "1 ERA-T2_2-1d_85    390            ERA2              A            G10\n",
       "  PrimerPlate Primer.Number Primer.Well.ID  X primerFwdLoc primerRevLoc\n",
       "1           1            79            G10 NA          1-G         1-10\n",
       "  fwd_barcode rev_barcode  PlotID TimePoint Rep Row Pos Fert PlotIndex  Plant\n",
       "1    GGATATCT    TAGCAGAC 2-1d_85        T2   2   1   d   85        70 34N42U\n",
       "  Genotype SeedTreatment R_Year ERA kgdw_ha FracN.leco FracC.leco d15N\n",
       "1    34N42     Untreated   2003   3    7518    0.01191    0.43927   NA\n",
       "  X15N_AtPercent FracN FracN_fromSoil FracN_fromFert\n",
       "1             NA    NA             NA             NA\n"
      ]
     },
     "metadata": {},
     "output_type": "display_data"
    }
   ],
   "source": [
    "%%R\n",
    "sd %>%\n",
    "    filter(TubeID == \"390\") "
   ]
  },
  {
   "cell_type": "code",
   "execution_count": 10,
   "metadata": {
    "collapsed": false
   },
   "outputs": [],
   "source": [
    "%%R\n",
    "sample_data(physeq)$Rep = as.factor(sample_data(physeq)$Rep)\n",
    "sample_data(physeq)$Row = as.factor(sample_data(physeq)$Row)\n",
    "sample_data(physeq)$Fert = as.factor(sample_data(physeq)$Fert)"
   ]
  },
  {
   "cell_type": "markdown",
   "metadata": {},
   "source": [
    "## Calculate pairwise weighted Unifrac distances between samples"
   ]
  },
  {
   "cell_type": "code",
   "execution_count": 11,
   "metadata": {
    "collapsed": false
   },
   "outputs": [],
   "source": [
    "%%R\n",
    "registerDoParallel(cores=28)\n",
    "wunif.dist = phyloseq::distance(physeq, \n",
    "                      method = \"unifrac\", \n",
    "                      weighted = TRUE,\n",
    "                      fast = TRUE, \n",
    "                      parallel = TRUE, \n",
    "                      normalized = FALSE)"
   ]
  },
  {
   "cell_type": "code",
   "execution_count": 12,
   "metadata": {
    "collapsed": false
   },
   "outputs": [],
   "source": [
    "%%R\n",
    "registerDoParallel(cores=28)\n",
    "bray.dist = distance(physeq, \n",
    "                      method = \"bray\", \n",
    "                      weighted = TRUE,\n",
    "                      fast = TRUE, \n",
    "                      parallel = TRUE, \n",
    "                      normalized = FALSE)"
   ]
  },
  {
   "cell_type": "code",
   "execution_count": 13,
   "metadata": {
    "collapsed": false,
    "scrolled": true
   },
   "outputs": [
    {
     "data": {
      "text/plain": [
       " [1] \"322\"     \"330\"     \"339\"     \"3394\"    \"3475\"    \"34M95\"   \"34N42\"  \n",
       " [8] \"3517\"    \"354\"     \"3541\"    \"3618\"    \"Bare\"    \"P1151HR\"\n"
      ]
     },
     "metadata": {},
     "output_type": "display_data"
    }
   ],
   "source": [
    "%%R\n",
    "physeq %>% \n",
    "    sample_data() %>%\n",
    "    .$Genotype %>%\n",
    "    levels()"
   ]
  },
  {
   "cell_type": "code",
   "execution_count": 14,
   "metadata": {
    "collapsed": false
   },
   "outputs": [],
   "source": [
    "%%R\n",
    "sd = sample_data(physeq)\n",
    "sd = mutate(sd, Planted = ifelse(Genotype == \"Bare\" | TimePoint == \"T0\", \"BARE\", \"Rhizosphere\"))\n",
    "rownames(sd) = sd$X.sampleID\n",
    "sd %>% head\n",
    "sample_data(physeq) = sd"
   ]
  },
  {
   "cell_type": "markdown",
   "metadata": {},
   "source": [
    "## NMDS of w-Unifrac"
   ]
  },
  {
   "cell_type": "code",
   "execution_count": 15,
   "metadata": {
    "collapsed": false
   },
   "outputs": [
    {
     "data": {
      "text/plain": [
       "Run 0 stress 0.128471 \n",
       "Run 1 stress 0.1522578 \n",
       "Run 2 stress 0.1442885 \n",
       "Run 3 stress 0.1465753 \n",
       "Run 4 stress 0.145956 \n",
       "Run 5 stress 0.1436643 \n",
       "Run 6 stress 0.1314236 \n",
       "Run 7 stress 0.1606893 \n",
       "Run 8 stress 0.1493357 \n",
       "Run 9 stress 0.1545424 \n",
       "Run 10 stress 0.130335 \n",
       "Run 11 stress 0.1636047 \n",
       "Run 12 stress 0.1371252 \n",
       "Run 13 stress 0.1693278 \n",
       "Run 14 stress 0.1550342 \n",
       "Run 15 stress 0.1666188 \n",
       "Run 16 stress 0.1330407 \n",
       "Run 17 stress 0.1556264 \n",
       "Run 18 stress 0.1422 \n",
       "Run 19 stress 0.1638919 \n",
       "Run 20 stress 0.1460812 \n",
       "*** No convergence -- monoMDS stopping criteria:\n",
       "    19: stress ratio > sratmax\n",
       "     1: scale factor of the gradient < sfgrmin\n"
      ]
     },
     "metadata": {},
     "output_type": "display_data"
    }
   ],
   "source": [
    "%%R -w 800 -h 350\n",
    "\n",
    "nmds = ordinate(physeq, \n",
    "                method = \"NMDS\", \n",
    "                distance = wunif.dist)\n",
    "\n",
    "p = plot_ordination(physeq, nmds, justDF = TRUE)\n",
    "\n"
   ]
  },
  {
   "cell_type": "code",
   "execution_count": 16,
   "metadata": {
    "collapsed": false
   },
   "outputs": [
    {
     "data": {
      "image/png": "[encoded data removed]"
     },
     "metadata": {},
     "output_type": "display_data"
    }
   ],
   "source": [
    "%%R\n",
    "## generating plots\n",
    "p1 = ggplot(p, aes(x = NMDS1, y = NMDS2)) +\n",
    "        geom_point(aes(fill=R_Year), pch = 21, size = 3)\n",
    "        #scale_size(range=c(2,8))\n",
    "\n",
    "#p2 = ggplot(p, aes(x = NMDS1, y = NMDS2)) +\n",
    "        #geom_point(aes(fill=Plant, size = BD), pch=21) +\n",
    "        #scale_size(range=c(2,8))\n",
    "\n",
    "grid.arrange(p1, ncol=1)"
   ]
  },
  {
   "cell_type": "code",
   "execution_count": 17,
   "metadata": {
    "collapsed": false,
    "scrolled": true
   },
   "outputs": [
    {
     "data": {
      "image/png": "[encoded data removed]"
     },
     "metadata": {},
     "output_type": "display_data"
    }
   ],
   "source": [
    "%%R -w 600 -h 350\n",
    "p2 = p1 + facet_wrap(~TimePoint)+\n",
    "theme_pub()\n",
    "p2"
   ]
  },
  {
   "cell_type": "markdown",
   "metadata": {},
   "source": [
    "# Adonis testing treatment effects"
   ]
  },
  {
   "cell_type": "code",
   "execution_count": 19,
   "metadata": {
    "collapsed": false,
    "scrolled": true
   },
   "outputs": [
    {
     "data": {
      "text/plain": [
       "\n",
       "Call:\n",
       "adonis(formula = d ~ Planted + TimePoint + Genotype * TimePoint +      SeedTreatment, data = df, permutations = 999) \n",
       "\n",
       "Permutation: free\n",
       "Number of permutations: 999\n",
       "\n",
       "Terms added sequentially (first to last)\n",
       "\n",
       "                    Df SumsOfSqs MeanSqs F.Model      R2 Pr(>F)    \n",
       "Planted              1   0.44703 0.44703  69.041 0.19985  0.001 ***\n",
       "TimePoint            2   0.23251 0.11625  17.955 0.10395  0.001 ***\n",
       "Genotype            11   0.09509 0.00864   1.335 0.04251  0.059 .  \n",
       "SeedTreatment        1   0.00684 0.00684   1.056 0.00306  0.328    \n",
       "TimePoint:Genotype  12   0.10858 0.00905   1.397 0.04854  0.036 *  \n",
       "Residuals          208   1.34678 0.00647         0.60209           \n",
       "Total              235   2.23683                 1.00000           \n",
       "---\n",
       "Signif. codes:  0 ‘***’ 0.001 ‘**’ 0.01 ‘*’ 0.05 ‘.’ 0.1 ‘ ’ 1\n"
      ]
     },
     "metadata": {},
     "output_type": "display_data"
    }
   ],
   "source": [
    "%%R\n",
    "set.seed(101)\n",
    "\n",
    "df = as(sample_data(physeq), \"data.frame\")\n",
    "d = wunif.dist\n",
    "df$Fert = as.factor(df$Fert)\n",
    "Fulladonis = adonis(formula = d ~ Planted + TimePoint + Genotype*TimePoint + SeedTreatment, df, \n",
    "                    permutations = 999)\n",
    "Fulladonis"
   ]
  },
  {
   "cell_type": "markdown",
   "metadata": {},
   "source": [
    "## subset of rhizosphere samples at three time points "
   ]
  },
  {
   "cell_type": "code",
   "execution_count": 20,
   "metadata": {
    "collapsed": false,
    "scrolled": false
   },
   "outputs": [
    {
     "data": {
      "text/plain": [
       "phyloseq-class experiment-level object\n",
       "otu_table()   OTU Table:         [ 4597 taxa and 72 samples ]\n",
       "sample_data() Sample Data:       [ 72 samples by 34 sample variables ]\n",
       "tax_table()   Taxonomy Table:    [ 4597 taxa by 8 taxonomic ranks ]\n",
       "phy_tree()    Phylogenetic Tree: [ 4597 tips and 4596 internal nodes ]\n"
      ]
     },
     "metadata": {},
     "output_type": "display_data"
    }
   ],
   "source": [
    "%%R\n",
    "physeq.plantT1 = subset_samples(physeq,  Planted == \"Rhizosphere\" & TimePoint == \"T1\")\n",
    "physeq.plantT1"
   ]
  },
  {
   "cell_type": "code",
   "execution_count": 21,
   "metadata": {
    "collapsed": false
   },
   "outputs": [],
   "source": [
    "%%R\n",
    "registerDoParallel(cores=28)\n",
    "T1.wunif.dist = distance(physeq.plantT1, \n",
    "                      method = \"unifrac\", \n",
    "                      weighted = TRUE,\n",
    "                      fast = TRUE, \n",
    "                      parallel = TRUE, \n",
    "                      normalized = FALSE)"
   ]
  },
  {
   "cell_type": "code",
   "execution_count": 22,
   "metadata": {
    "collapsed": false,
    "scrolled": true
   },
   "outputs": [
    {
     "data": {
      "text/plain": [
       "\n",
       "Call:\n",
       "adonis(formula = d ~ Rep + Genotype * Fert, data = df, permutations = 999) \n",
       "\n",
       "Permutation: free\n",
       "Number of permutations: 999\n",
       "\n",
       "Terms added sequentially (first to last)\n",
       "\n",
       "              Df SumsOfSqs   MeanSqs F.Model      R2 Pr(>F)    \n",
       "Rep            3   0.07255 0.0241830  3.8398 0.14962  0.001 ***\n",
       "Genotype       5   0.03152 0.0063033  1.0008 0.06500  0.455    \n",
       "Fert           2   0.00844 0.0042195  0.6700 0.01740  0.842    \n",
       "Genotype:Fert 10   0.05119 0.0051186  0.8127 0.10556  0.870    \n",
       "Residuals     51   0.32120 0.0062980         0.66242           \n",
       "Total         71   0.48489                   1.00000           \n",
       "---\n",
       "Signif. codes:  0 ‘***’ 0.001 ‘**’ 0.01 ‘*’ 0.05 ‘.’ 0.1 ‘ ’ 1\n"
      ]
     },
     "metadata": {},
     "output_type": "display_data"
    }
   ],
   "source": [
    "%%R\n",
    "set.seed(101)\n",
    "\n",
    "df = as(sample_data(physeq.plantT1), \"data.frame\")\n",
    "d = T1.wunif.dist\n",
    "T1adonis = adonis(formula = d ~ Rep + Genotype*Fert, df, permutations = 999)\n",
    "T1adonis"
   ]
  },
  {
   "cell_type": "markdown",
   "metadata": {},
   "source": [
    "## ADONIS at T2"
   ]
  },
  {
   "cell_type": "code",
   "execution_count": 23,
   "metadata": {
    "collapsed": false
   },
   "outputs": [],
   "source": [
    "%%R\n",
    "# subset phyloseq object\n",
    "physeq.plantT2 = subset_samples(physeq,  Planted == \"Rhizosphere\" & TimePoint == \"T2\" & SeedTreatment == \"Treated\")\n",
    "physeq.plantT2\n",
    "\n",
    "# create unifrac distance matrix\n",
    "registerDoParallel(cores=28)\n",
    "T2.wunif.dist = distance(physeq.plantT2, \n",
    "                      method = \"unifrac\", \n",
    "                      weighted = TRUE,\n",
    "                      fast = TRUE, \n",
    "                      parallel = TRUE, \n",
    "                      normalized = FALSE)"
   ]
  },
  {
   "cell_type": "code",
   "execution_count": 25,
   "metadata": {
    "collapsed": false,
    "scrolled": false
   },
   "outputs": [
    {
     "data": {
      "text/plain": [
       "\n",
       "Call:\n",
       "adonis(formula = d ~ Rep + Genotype, data = df, permutations = 999) \n",
       "\n",
       "Permutation: free\n",
       "Number of permutations: 999\n",
       "\n",
       "Terms added sequentially (first to last)\n",
       "\n",
       "          Df SumsOfSqs   MeanSqs F.Model      R2 Pr(>F)    \n",
       "Rep        3   0.05696 0.0189852  3.2821 0.17198  0.001 ***\n",
       "Genotype  11   0.08334 0.0075761  1.3098 0.25164  0.049 *  \n",
       "Residuals 33   0.19089 0.0057844         0.57638           \n",
       "Total     47   0.33118                   1.00000           \n",
       "---\n",
       "Signif. codes:  0 ‘***’ 0.001 ‘**’ 0.01 ‘*’ 0.05 ‘.’ 0.1 ‘ ’ 1\n"
      ]
     },
     "metadata": {},
     "output_type": "display_data"
    }
   ],
   "source": [
    "%%R\n",
    "set.seed(101)\n",
    "\n",
    "df = as(sample_data(physeq.plantT2), \"data.frame\")\n",
    "d = T2.wunif.dist\n",
    "T2adonis = adonis(formula = d ~ Rep + Genotype, df, permutations = 999)\n",
    "T2adonis"
   ]
  },
  {
   "cell_type": "markdown",
   "metadata": {
    "collapsed": true
   },
   "source": [
    "* Genotype has a significant effect on community composition at R1"
   ]
  },
  {
   "cell_type": "code",
   "execution_count": 27,
   "metadata": {
    "collapsed": false
   },
   "outputs": [],
   "source": [
    "%%R\n",
    "# subset phyloseq object\n",
    "physeq.plantT2 = subset_samples(physeq,  Planted == \"Rhizosphere\" & TimePoint == \"T2\" & SeedTreatment == \"Untreated\")\n",
    "physeq.plantT2\n",
    "\n",
    "# create unifrac distance matrix\n",
    "registerDoParallel(cores=28)\n",
    "T2.wunif.dist = distance(physeq.plantT2, \n",
    "                      method = \"unifrac\", \n",
    "                      weighted = TRUE,\n",
    "                      fast = TRUE, \n",
    "                      parallel = TRUE, \n",
    "                      normalized = FALSE)"
   ]
  },
  {
   "cell_type": "code",
   "execution_count": 28,
   "metadata": {
    "collapsed": false,
    "scrolled": true
   },
   "outputs": [
    {
     "data": {
      "text/plain": [
       "\n",
       "Call:\n",
       "adonis(formula = d ~ Rep + Genotype, data = df, permutations = 999) \n",
       "\n",
       "Permutation: free\n",
       "Number of permutations: 999\n",
       "\n",
       "Terms added sequentially (first to last)\n",
       "\n",
       "          Df SumsOfSqs   MeanSqs F.Model      R2 Pr(>F)\n",
       "Rep        3  0.024695 0.0082315 1.26983 0.24525  0.225\n",
       "Genotype   3  0.017655 0.0058848 0.90782 0.17533  0.544\n",
       "Residuals  9  0.058341 0.0064824         0.57941       \n",
       "Total     15  0.100690                   1.00000       \n"
      ]
     },
     "metadata": {},
     "output_type": "display_data"
    }
   ],
   "source": [
    "%%R\n",
    "set.seed(101)\n",
    "\n",
    "df = as(sample_data(physeq.plantT2), \"data.frame\")\n",
    "d = T2.wunif.dist\n",
    "T2adonis = adonis(formula = d ~ Rep + Genotype, df, permutations = 999)\n",
    "T2adonis"
   ]
  },
  {
   "cell_type": "markdown",
   "metadata": {},
   "source": [
    "* But not in the four untreated seeds; see seed treatment notebook for greater detail"
   ]
  },
  {
   "cell_type": "markdown",
   "metadata": {},
   "source": [
    "# T3"
   ]
  },
  {
   "cell_type": "code",
   "execution_count": 56,
   "metadata": {
    "collapsed": false
   },
   "outputs": [],
   "source": [
    "%%R\n",
    "# subset phyloseq object\n",
    "physeq.plantT3 = subset_samples(physeq,  Planted == \"Rhizosphere\" & TimePoint == \"T3\")\n",
    "physeq.plantT3\n",
    "\n",
    "# create unifrac distance matrix\n",
    "registerDoParallel(cores=28)\n",
    "T3.wunif.dist = distance(physeq.plantT3, \n",
    "                      method = \"unifrac\", \n",
    "                      weighted = TRUE,\n",
    "                      fast = TRUE, \n",
    "                      parallel = TRUE, \n",
    "                      normalized = FALSE)"
   ]
  },
  {
   "cell_type": "code",
   "execution_count": 58,
   "metadata": {
    "collapsed": false,
    "scrolled": true
   },
   "outputs": [
    {
     "data": {
      "text/plain": [
       "\n",
       "Call:\n",
       "adonis(formula = d ~ Rep + Fert + Genotype, data = df, permutations = 999) \n",
       "\n",
       "Permutation: free\n",
       "Number of permutations: 999\n",
       "\n",
       "Terms added sequentially (first to last)\n",
       "\n",
       "          Df SumsOfSqs  MeanSqs F.Model      R2 Pr(>F)    \n",
       "Rep        3   0.05121 0.017069  2.8515 0.09640  0.001 ***\n",
       "Fert       2   0.07269 0.036343  6.0713 0.13683  0.001 ***\n",
       "Genotype   5   0.04218 0.008436  1.4094 0.07941  0.066 .  \n",
       "Residuals 61   0.36515 0.005986         0.68737           \n",
       "Total     71   0.53122                  1.00000           \n",
       "---\n",
       "Signif. codes:  0 ‘***’ 0.001 ‘**’ 0.01 ‘*’ 0.05 ‘.’ 0.1 ‘ ’ 1\n"
      ]
     },
     "metadata": {},
     "output_type": "display_data"
    }
   ],
   "source": [
    "%%R\n",
    "set.seed(101)\n",
    "\n",
    "df = as(sample_data(physeq.plantT3), \"data.frame\")\n",
    "d = T3.wunif.dist\n",
    "T3adonis = adonis(formula = d ~ Rep + Fert + Genotype, df, permutations = 999)\n",
    "T3adonis"
   ]
  },
  {
   "cell_type": "markdown",
   "metadata": {},
   "source": [
    "* Genotype is not quite significant at T3, but fertilizer describes nearly 14% of MCC variation"
   ]
  },
  {
   "cell_type": "markdown",
   "metadata": {},
   "source": [
    "## Ordinate "
   ]
  },
  {
   "cell_type": "code",
   "execution_count": 34,
   "metadata": {
    "collapsed": false
   },
   "outputs": [],
   "source": [
    "%%R\n",
    "# subset phyloseq object\n",
    "physeq.plantT2 = subset_samples(physeq,  Planted == \"Rhizosphere\" & TimePoint == \"T2\")\n",
    "physeq.plantT2\n",
    "\n",
    "# create unifrac distance matrix\n",
    "registerDoParallel(cores=28)\n",
    "w.unif.dist = distance(physeq.plantT2, \n",
    "                      method = \"unifrac\", \n",
    "                      weighted = TRUE,\n",
    "                      fast = TRUE, \n",
    "                      parallel = TRUE, \n",
    "                      normalized = FALSE)"
   ]
  },
  {
   "cell_type": "code",
   "execution_count": 35,
   "metadata": {
    "collapsed": false
   },
   "outputs": [],
   "source": [
    "%%R -w 800 -h 350\n",
    "\n",
    "pcoa = ordinate(physeq.plantT2, \n",
    "                method = \"PCoA\", \n",
    "                distance = w.unif.dist)\n",
    "\n",
    "p = plot_ordination(physeq, pcoa, justDF = TRUE)"
   ]
  },
  {
   "cell_type": "code",
   "execution_count": 38,
   "metadata": {
    "collapsed": false,
    "scrolled": true
   },
   "outputs": [
    {
     "data": {
      "image/png": "[encoded data removed]"
     },
     "metadata": {},
     "output_type": "display_data"
    }
   ],
   "source": [
    "%%R\n",
    "p1 = ggplot(subset(p, SeedTreatment == \"Treated\"), aes(x = Axis.1, y = Axis.2)) +\n",
    "        geom_point(aes(color=R_Year, shape = SeedTreatment, size = kgdw_ha)) + \n",
    "        facet_wrap(~Rep)\n",
    "        \n",
    "p1"
   ]
  },
  {
   "cell_type": "markdown",
   "metadata": {},
   "source": [
    "# T3"
   ]
  },
  {
   "cell_type": "code",
   "execution_count": 40,
   "metadata": {
    "collapsed": false
   },
   "outputs": [],
   "source": [
    "%%R\n",
    "# subset phyloseq object\n",
    "physeq.plantT3 = subset_samples(physeq,  Planted == \"Rhizosphere\" & TimePoint == \"T3\")\n",
    "physeq.plantT3\n",
    "\n",
    "# create unifrac distance matrix\n",
    "registerDoParallel(cores=28)\n",
    "w.unif.dist = distance(physeq.plantT3, \n",
    "                      method = \"unifrac\", \n",
    "                      weighted = TRUE,\n",
    "                      fast = TRUE, \n",
    "                      parallel = TRUE, \n",
    "                      normalized = FALSE)\n",
    "\n",
    "\n"
   ]
  },
  {
   "cell_type": "code",
   "execution_count": 45,
   "metadata": {
    "collapsed": false
   },
   "outputs": [
    {
     "data": {
      "image/png": "[encoded data removed]"
     },
     "metadata": {},
     "output_type": "display_data"
    }
   ],
   "source": [
    "%%R\n",
    "pcoa = ordinate(physeq.plantT3, \n",
    "                method = \"PCoA\", \n",
    "                distance = w.unif.dist)\n",
    "\n",
    "p = plot_ordination(physeq, pcoa, justDF = TRUE)\n",
    "\n",
    "p1 = ggplot(p, aes(x = Axis.1, y = Axis.2)) +\n",
    "        geom_point(aes(color=R_Year, size = kgdw_ha)) +\n",
    "        facet_wrap(~Fert)\n",
    "        \n",
    "p1\n"
   ]
  },
  {
   "cell_type": "markdown",
   "metadata": {},
   "source": [
    "# Mantel tests"
   ]
  },
  {
   "cell_type": "markdown",
   "metadata": {},
   "source": [
    "## T1"
   ]
  },
  {
   "cell_type": "code",
   "execution_count": null,
   "metadata": {
    "collapsed": false
   },
   "outputs": [],
   "source": [
    "%%R\n",
    "phy = subset_samples(physeq, Planted == \"Rhizosphere\" & TimePoint == \"T1\")\n",
    "phy"
   ]
  },
  {
   "cell_type": "markdown",
   "metadata": {},
   "source": [
    "* generate distance matrices\n"
   ]
  },
  {
   "cell_type": "code",
   "execution_count": null,
   "metadata": {
    "collapsed": true
   },
   "outputs": [],
   "source": [
    "%%R\n",
    "\n",
    "registerDoParallel(cores=28)\n",
    "\n",
    "Time.wunif.dist = phyloseq::distance(phy, \n",
    "                      method = \"unifrac\", \n",
    "                      weighted = TRUE,\n",
    "                      fast = TRUE, \n",
    "                      parallel = TRUE, \n",
    "                      normalized = FALSE)\n",
    "\n",
    "Time.bray.dist = phyloseq::distance(phy, \n",
    "                      method = \"bray\", \n",
    "                      weighted = TRUE,\n",
    "                      fast = TRUE, \n",
    "                      parallel = TRUE, \n",
    "                      normalized = FALSE)"
   ]
  },
  {
   "cell_type": "code",
   "execution_count": null,
   "metadata": {
    "collapsed": false
   },
   "outputs": [],
   "source": [
    "%%R\n",
    "#Test on soil activity/rhizosphere effect\n",
    "Sd = sample_data(phy)\n",
    "\n",
    "# Generate distance matrix of year of release\n",
    "Yd = dist(Sd[,\"R_Year\"], method = \"euclidian\")\n",
    "hist(Yd)\n",
    "\n",
    "# generate distance matrix of rep and change all values > 1 to 1\n",
    "Rd = dist(Sd[,\"Rep\"])\n",
    "Rd[Rd > 1] <- 1\n",
    "\n",
    "\n",
    "M1 = mantel.partial(Time.wunif.dist, Yd, Rd, method=\"pearson\", permutations=999)\n",
    "M1\n",
    "#Model is not significant within T1 "
   ]
  },
  {
   "cell_type": "markdown",
   "metadata": {},
   "source": [
    "## T2"
   ]
  },
  {
   "cell_type": "code",
   "execution_count": null,
   "metadata": {
    "collapsed": false
   },
   "outputs": [],
   "source": [
    "%%R\n",
    "# subset phyloseq object to just rhizosphere plants, time point 2 and only treated seeds\n",
    "phy = subset_samples(physeq, Planted == \"Rhizosphere\" & TimePoint == \"T2\" & SeedTreatment == \"Treated\")\n",
    "phy"
   ]
  },
  {
   "cell_type": "markdown",
   "metadata": {},
   "source": [
    "* generate distance matrices\n"
   ]
  },
  {
   "cell_type": "code",
   "execution_count": null,
   "metadata": {
    "collapsed": true
   },
   "outputs": [],
   "source": [
    "%%R\n",
    "\n",
    "registerDoParallel(cores=28)\n",
    "\n",
    "Time.wunif.dist = phyloseq::distance(phy, \n",
    "                      method = \"unifrac\", \n",
    "                      weighted = TRUE,\n",
    "                      fast = TRUE, \n",
    "                      parallel = TRUE, \n",
    "                      normalized = FALSE)\n",
    "\n",
    "Time.bray.dist = phyloseq::distance(phy, \n",
    "                      method = \"bray\", \n",
    "                      weighted = TRUE,\n",
    "                      fast = TRUE, \n",
    "                      parallel = TRUE, \n",
    "                      normalized = FALSE)"
   ]
  },
  {
   "cell_type": "code",
   "execution_count": null,
   "metadata": {
    "collapsed": false,
    "scrolled": true
   },
   "outputs": [],
   "source": [
    "%%R\n",
    "#Test on soil activity/rhizosphere effect\n",
    "Sd = sample_data(phy)\n",
    "\n",
    "# Generate distance matrix of year of release\n",
    "Yd = dist(Sd[,\"R_Year\"], method = \"euclidian\")\n",
    "hist(Yd)\n",
    "\n",
    "# generate distance matrix of rep and change all values > 1 to 1\n",
    "Rd = dist(Sd[,\"Rep\"])\n",
    "Rd[Rd > 1] <- 1\n",
    "\n",
    "\n",
    "M1 = mantel.partial(Time.bray.dist, Yd, Rd, method=\"pearson\", permutations=999)\n",
    "M1\n",
    "#Model is not significant within T2"
   ]
  },
  {
   "cell_type": "markdown",
   "metadata": {},
   "source": [
    "## T3"
   ]
  },
  {
   "cell_type": "code",
   "execution_count": null,
   "metadata": {
    "collapsed": false
   },
   "outputs": [],
   "source": [
    "%%R\n",
    "# subset phyloseq object to just rhizosphere plants, time point 2 and only treated seeds\n",
    "phy = subset_samples(physeq, Planted == \"Rhizosphere\" & TimePoint == \"T3\")\n",
    "phy"
   ]
  },
  {
   "cell_type": "markdown",
   "metadata": {},
   "source": [
    "* generate distance matrices\n"
   ]
  },
  {
   "cell_type": "code",
   "execution_count": null,
   "metadata": {
    "collapsed": true
   },
   "outputs": [],
   "source": [
    "%%R\n",
    "\n",
    "registerDoParallel(cores=28)\n",
    "\n",
    "Time.wunif.dist = phyloseq::distance(phy, \n",
    "                      method = \"unifrac\", \n",
    "                      weighted = TRUE,\n",
    "                      fast = TRUE, \n",
    "                      parallel = TRUE, \n",
    "                      normalized = FALSE)\n",
    "\n",
    "Time.bray.dist = phyloseq::distance(phy, \n",
    "                      method = \"bray\", \n",
    "                      weighted = TRUE,\n",
    "                      fast = TRUE, \n",
    "                      parallel = TRUE, \n",
    "                      normalized = FALSE)"
   ]
  },
  {
   "cell_type": "code",
   "execution_count": null,
   "metadata": {
    "collapsed": false,
    "scrolled": true
   },
   "outputs": [],
   "source": [
    "%%R\n",
    "#Test on soil activity/rhizosphere effect\n",
    "Sd = sample_data(phy)\n",
    "\n",
    "# Generate distance matrix of year of release\n",
    "Yd = dist(Sd[,\"R_Year\"], method = \"euclidian\")\n",
    "hist(Yd)\n",
    "\n",
    "# generate distance matrix of rep and change all values > 1 to 1\n",
    "Rd = dist(Sd[,\"Rep\"])\n",
    "Rd[Rd > 1] <- 1\n",
    "\n",
    "\n",
    "M1 = mantel.partial(Time.bray.dist, Yd, Rd, method=\"pearson\", permutations=999)\n",
    "M1\n",
    "#Model is not significant within T3"
   ]
  },
  {
   "cell_type": "code",
   "execution_count": null,
   "metadata": {
    "collapsed": true
   },
   "outputs": [],
   "source": [
    "* Partial mantel test is not significant at any time point"
   ]
  },
  {
   "cell_type": "markdown",
   "metadata": {},
   "source": [
    "# CAP"
   ]
  },
  {
   "cell_type": "code",
   "execution_count": null,
   "metadata": {
    "collapsed": false
   },
   "outputs": [],
   "source": [
    "%%R\n",
    "# subset phyloseq object to just rhizosphere plants, time point 2 and only treated seeds\n",
    "phy = subset_samples(physeq, Planted == \"Rhizosphere\" & TimePoint == \"T2\" & SeedTreatment == \"Treated\")\n",
    "phy"
   ]
  },
  {
   "cell_type": "code",
   "execution_count": null,
   "metadata": {
    "collapsed": true
   },
   "outputs": [],
   "source": [
    "%%R\n",
    "T2.wunif.dist = phyloseq::distance(phy, \n",
    "                      method = \"unifrac\", \n",
    "                      weighted = TRUE,\n",
    "                      fast = TRUE, \n",
    "                      parallel = TRUE, \n",
    "                      normalized = FALSE)"
   ]
  },
  {
   "cell_type": "code",
   "execution_count": null,
   "metadata": {
    "collapsed": false
   },
   "outputs": [],
   "source": [
    "%%R\n",
    "sample_data(phy) %>% colnames"
   ]
  },
  {
   "cell_type": "code",
   "execution_count": null,
   "metadata": {
    "collapsed": false,
    "scrolled": true
   },
   "outputs": [],
   "source": [
    "%%R\n",
    "sample_data(phy)$Rep = as.factor(sample_data(phy)$Rep)\n",
    "# cap.ord = ordinate(\n",
    "#     physeq = phy, \n",
    "#     method = \"CAP\",\n",
    "#     distance = T2.wunif.dist,\n",
    "#     formula = ~ R_Year + Rep + Condition())\n",
    "\n",
    "ordcap = ordinate(phy, \"CAP\", \"bray\", ~R_Year + Condition(ExtractionPlate))\n",
    "plot_ordination(phy, ordcap, \"samples\", color=\"R_Year\")\n",
    "\n",
    "\n",
    "\n",
    "\n",
    "# # CAP plot\n",
    "# cap.plot <- plot_ordination(phy, cap.ord, axes = c(1,2)) + \n",
    "#     geom_point(aes(fill = Genotype), pch= 21,alpha= 1) \n",
    "    #geom_point(colour = \"grey90\", \n",
    "    #    size = 1.5) + \n",
    "    \n",
    "    #scale_color_manual(values = c(\"#1CE6FF\",\"#B79762\", \"#004D43\", \"#8FB0FF\", \"#997D87\", \"#5A0007\"), name = \"Genotype\",\n",
    " #                      labels = c(\"B73xB97\", \"B73xTx303\", \"ECHES\",\"FAGES\",\"HELAN\",     \"SORSUD\")) \n",
    "\n",
    "\n",
    "\n",
    "\n",
    "# Now add the environmental variables as arrows\n",
    "# arrowmat <- vegan::scores(cap.ord, display = \"bp\")\n",
    "\n",
    "# rownames(arrowmat) = c(\"R_Year\", \"Rep\")\n",
    "# #rownames(arrowmat) = c(\"BX\", \"CB\", \"LAP\", \"NAG\")\n",
    "\n",
    "# # Add labels, make a data.frame\n",
    "# arrowdf <- data.frame(labels = rownames(arrowmat), arrowmat)\n",
    "\n",
    "# Define the arrow aesthetic mapping\n",
    "# arrow_map <- aes(xend = CAP1, \n",
    "#     yend = CAP2, \n",
    "#     x = 0, \n",
    "#     y = 0, \n",
    "#     shape = NULL, \n",
    "#     color = NULL, \n",
    "#     label = labels)\n",
    "\n",
    "# label_map <- aes(x = 1.3 * CAP1, \n",
    "#     y = 1.3 * CAP2, \n",
    "#     shape = NULL, \n",
    "#     color = NULL, \n",
    "#     label = labels)\n",
    "\n",
    "# arrowhead = arrow(length = unit(0.02, \"npc\"))\n",
    "\n",
    "# # Make a new graphic\n",
    "# p = cap.plot + \n",
    "# geom_segment(arrow_map, \n",
    "#     size = .5, \n",
    "#     data = arrowdf, \n",
    "#     color = \"gray\", \n",
    "#     arrow = arrowhead\n",
    "#     ) + \n",
    "# geom_text(label_map,   \n",
    "#     data = arrowdf, \n",
    "#     show_guide = FALSE) \n",
    "# p = p + theme_pub() \n",
    "# #p = p + theme(panel.border = element_blank(), legend.position = \"right\", legend.text = element_text(size = 10)) \n",
    "# p = p + theme(legend.position = \"left\", legend.text = element_text()) \n",
    "\n",
    "#save legend for independent formatting\n",
    "# g_legend<-function(a.gplot){\n",
    "#     tmp <- ggplot_gtable(ggplot_build(a.gplot))\n",
    "#     leg <- which(sapply(tmp$grobs, function(x) x$name) == \"guide-box\")\n",
    "#     legend <- tmp$grobs[[leg]]\n",
    "#     legend\n",
    "# }\n",
    "# \n",
    "\n",
    "                        \n",
    "#legend1 <- g_legend(p)\n",
    "\n",
    "                     \n",
    "# p =  p + theme(axis.line.x = element_line(color=\"black\", size = 1),\n",
    "#     axis.line.y = element_line(color=\"black\", size = 1), legend.position = \"left\")\n",
    "# p = p + theme(legend.position = \"bottom\")\n",
    "# p"
   ]
  },
  {
   "cell_type": "code",
   "execution_count": null,
   "metadata": {
    "collapsed": false,
    "scrolled": true
   },
   "outputs": [],
   "source": [
    "%%R\n",
    "anova(ordcap)"
   ]
  },
  {
   "cell_type": "markdown",
   "metadata": {},
   "source": [
    "## Finally try DESeq2"
   ]
  },
  {
   "cell_type": "code",
   "execution_count": null,
   "metadata": {
    "collapsed": false,
    "scrolled": false
   },
   "outputs": [],
   "source": [
    "%%R \n",
    "# loading\n",
    "\n",
    "phy.thresh = readRDS('ERA_thresh.rds')\n",
    "\n",
    "#Subset to T2\n",
    "phy.thresh = subset_samples(phy.thresh, TimePoint == \"T2\" & SeedTreatment == \"Treated\", TRUE)\n",
    "phy.thresh"
   ]
  },
  {
   "cell_type": "code",
   "execution_count": null,
   "metadata": {
    "collapsed": false
   },
   "outputs": [],
   "source": [
    "%%R\n",
    "sample_data(phy.thresh)$Rep = as.factor(sample_data(phy.thresh)$Rep)\n",
    "sample_data(phy.thresh)$Row = as.factor(sample_data(phy.thresh)$Row)\n",
    "sample_data(phy.thresh)$Fert = as.factor(sample_data(phy.thresh)$Fert)"
   ]
  },
  {
   "cell_type": "code",
   "execution_count": null,
   "metadata": {
    "collapsed": false
   },
   "outputs": [],
   "source": [
    "%%R\n",
    "dds = phyloseq_to_deseq2(phy.thresh, ~Rep + R_Year)\n",
    "d_dds = DESeq(dds, parallel = TRUE)\n",
    "resultsNames(d_dds) %>% print\n",
    "DF = results(d_dds)\n",
    "\n",
    "supp = tax_table(phy)\n",
    "            if (!setequal(row.names(supp), row.names(DF))) {\n",
    "            stop(\"Ordination and supplementary data indices differ on the following:\\n.\",\n",
    "            setdiff(row.names(DF), row.names(supp)))\n",
    "        }  \n",
    "\n",
    "        DF = data.frame(DF, supp)\n",
    "        DF$OTU = rownames(DF)\n",
    "\n",
    "DF$Test = \"R_Year\"\n",
    "        YR = DF"
   ]
  },
  {
   "cell_type": "code",
   "execution_count": null,
   "metadata": {
    "collapsed": false
   },
   "outputs": [],
   "source": [
    "%%R\n",
    "sigtab = YR %>% filter(padj < 0.1)\n",
    "x = tapply(sigtab$log2FoldChange, sigtab$Rank4, function(x) max(x))\n",
    "x = sort(x, TRUE)\n",
    "sigtab$Rank4 = factor(as.character(sigtab$Rank4), levels=names(x))\n",
    "# x = tapply(sigtab$log2FoldChange, sigtab$Rank3, function(x) max(x))\n",
    "# x = sort(x, TRUE)\n",
    "# sigtab$Rank3 = factor(as.character(sigtab$Rank3), levels=names(x))\n",
    "    \n",
    "p2 = ggplot(sigtab, aes(x=Rank4, y=log2FoldChange, size = baseMean)) + \n",
    "    geom_point(aes(color = Rank2))+\n",
    "  theme_pub() +\n",
    "  theme(axis.text.x = element_text(angle = -90, hjust = 0, vjust=0.5)) + \n",
    "    ggtitle(\"OTUs correlated with Year of Release\")  +\n",
    "   theme(legend.position=\"right\")\n",
    "#x = tapply(sigtab$log2FoldChange, sigtab$Rank2, function(x) max(x))\n",
    "#x = sort(x, TRUE)\n",
    "#x\n",
    "    p2"
   ]
  },
  {
   "cell_type": "markdown",
   "metadata": {},
   "source": [
    "# Pseudomonas"
   ]
  },
  {
   "cell_type": "code",
   "execution_count": null,
   "metadata": {
    "collapsed": false
   },
   "outputs": [],
   "source": [
    "%%R\n",
    "physeq.core %>% \n",
    "    tax_table() %>% \n",
    "    head()"
   ]
  },
  {
   "cell_type": "code",
   "execution_count": null,
   "metadata": {
    "collapsed": false
   },
   "outputs": [],
   "source": [
    "%%R\n",
    "pdms = subset_taxa(physeq.snorm, Rank6==\"__Pseudomonas\") %>%\n",
    "    subset_samples(Ntreat == \"Nneg\")\n",
    "pdms"
   ]
  },
  {
   "cell_type": "code",
   "execution_count": null,
   "metadata": {
    "collapsed": false,
    "scrolled": true
   },
   "outputs": [],
   "source": [
    "%%R\n",
    "title = \"plot_bar; Pseudomonas-only\"\n",
    "plot_bar(pdms, \"Genotype\", \"Abundance\", title=title)"
   ]
  },
  {
   "cell_type": "code",
   "execution_count": null,
   "metadata": {
    "collapsed": true
   },
   "outputs": [],
   "source": [
    "%%R\n",
    "pdms.mean = psmelt(pdms) %>%\n",
    "        group_by(OTU,TimePoint, Genotype) %>%\n",
    "         summarize(relAbundance = mean(Abundance))"
   ]
  },
  {
   "cell_type": "code",
   "execution_count": null,
   "metadata": {
    "collapsed": false,
    "scrolled": false
   },
   "outputs": [],
   "source": [
    "%%R -w 700 -h 700\n",
    "ggplot(pdms.mean, aes(x = Genotype, y = relAbundance)) +\n",
    "    geom_bar(stat = \"identity\") + \n",
    "    facet_grid(OTU~TimePoint, scales = \"free_x\")+\n",
    "    theme(axis.text.x = element_text(angle = 60))\n",
    "   # geom_text(aes(y = relAbundance + .001, label=sig))"
   ]
  },
  {
   "cell_type": "code",
   "execution_count": null,
   "metadata": {
    "collapsed": false
   },
   "outputs": [],
   "source": [
    "%%R\n",
    "tax_table(pdms)"
   ]
  }
 ],
 "metadata": {
  "anaconda-cloud": {},
  "hide_input": true,
  "kernelspec": {
   "display_name": "Python 2",
   "language": "python",
   "name": "python2"
  },
  "language_info": {
   "codemirror_mode": {
    "name": "ipython",
    "version": 2
   },
   "file_extension": ".py",
   "mimetype": "text/x-python",
   "name": "python",
   "nbconvert_exporter": "python",
   "pygments_lexer": "ipython2",
   "version": "2.7.13"
  }
 },
 "nbformat": 4,
 "nbformat_minor": 0
}
