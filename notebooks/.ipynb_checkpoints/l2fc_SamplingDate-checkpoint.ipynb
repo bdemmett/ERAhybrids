{
 "cells": [
  {
   "cell_type": "markdown",
   "metadata": {},
   "source": [
    "## Description:\n",
    "\n",
    "    Use DeSeq2 to identify differential abundance between timepoints in core plots sampled through time\n",
    "    \n",
    "    Output time responders for heatmap\n",
    "   \n"
   ]
  },
  {
   "cell_type": "markdown",
   "metadata": {},
   "source": [
    "# Setting variables"
   ]
  },
  {
   "cell_type": "code",
   "execution_count": 1,
   "metadata": {
    "collapsed": true
   },
   "outputs": [],
   "source": [
    "workDir = '/home/bryan/ERA/data/MiSeq/20170417_run1/DESeq2'\n",
    "#using physeq file with sparsity of greater than 3 in 3 samples\n",
    "physeqFile = '/home/bryan/ERA/data/MiSeq/20170417_run1/phyloseq/ERA_thresh.rds'"
   ]
  },
  {
   "cell_type": "markdown",
   "metadata": {},
   "source": [
    "# Init"
   ]
  },
  {
   "cell_type": "code",
   "execution_count": 2,
   "metadata": {
    "collapsed": false
   },
   "outputs": [],
   "source": [
    "%load_ext rpy2.ipython"
   ]
  },
  {
   "cell_type": "code",
   "execution_count": 3,
   "metadata": {
    "collapsed": false
   },
   "outputs": [
    {
     "data": {
      "text/plain": [
       "[1] \"plyr\"\n",
       "[1] ‘1.8.4’\n",
       "[1] \"BiocParallel\"\n",
       "[1] ‘1.8.2’\n",
       "[1] \"doParallel\"\n",
       "[1] ‘1.0.10’\n",
       "[1] \"DESeq2\"\n",
       "[1] ‘1.14.1’\n",
       "[1] \"foreach\"\n",
       "[1] ‘1.4.3’\n",
       "[1] \"ggplot2\"\n",
       "[1] ‘2.2.1’\n",
       "[1] \"gridExtra\"\n",
       "[1] ‘2.2.1’\n",
       "[1] \"scales\"\n",
       "[1] ‘0.4.1’\n",
       "[1] \"phyloseq\"\n",
       "[1] ‘1.19.1’\n",
       "[1] \"dplyr\"\n",
       "[1] ‘0.5.0’\n",
       "[1] \"tidyr\"\n",
       "[1] ‘0.6.1’\n",
       "[1] \"reshape2\"\n",
       "[1] ‘1.4.2’\n",
       "[1] \"vegan\"\n",
       "[1] ‘2.4.3’\n",
       "[1] \"RColorBrewer\"\n",
       "[1] ‘1.1.2’\n"
      ]
     },
     "metadata": {},
     "output_type": "display_data"
    }
   ],
   "source": [
    "%%R\n",
    "# The required package list:\n",
    "reqpkg = c(\"plyr\",\"BiocParallel\",\"doParallel\", \"DESeq2\", \"foreach\", \"ggplot2\", \n",
    "   \"gridExtra\",\"scales\", \"phyloseq\", \"dplyr\", \"tidyr\", \n",
    "           \"reshape2\", \"vegan\", \"RColorBrewer\")\n",
    "# Load all required packages and show version\n",
    "for (i in reqpkg) {\n",
    "    print(i)\n",
    "    print(packageVersion(i))\n",
    "    suppressMessages(library(i, quietly = TRUE, verbose = FALSE, \n",
    "                             warn.conflicts = FALSE, character.only = TRUE))\n",
    "}"
   ]
  },
  {
   "cell_type": "code",
   "execution_count": 4,
   "metadata": {
    "collapsed": true
   },
   "outputs": [],
   "source": [
    "%%R\n",
    "register(MulticoreParam(14))"
   ]
  },
  {
   "cell_type": "markdown",
   "metadata": {},
   "source": [
    "# Differential abundance between OTUs in rhizosphere"
   ]
  },
  {
   "cell_type": "code",
   "execution_count": 5,
   "metadata": {
    "collapsed": false
   },
   "outputs": [
    {
     "name": "stdout",
     "output_type": "stream",
     "text": [
      "\n",
      "Error in readRDS(physeqFile) : object 'physeqFile' not found\n"
     ]
    },
    {
     "name": "stderr",
     "output_type": "stream",
     "text": [
      "/opt/anaconda2/lib/python2.7/site-packages/rpy2/rinterface/__init__.py:186: RRuntimeWarning: Error in readRDS(physeqFile) : object 'physeqFile' not found\n",
      "\n",
      "  warnings.warn(x, RRuntimeWarning)\n"
     ]
    }
   ],
   "source": [
    "%%R -i physeqFile\n",
    "# read in phyloseq object\n",
    "physeq.Full = readRDS(physeqFile)\n",
    "\n",
    "sample_data(physeq.Full)$Rep = as.factor(sample_data(physeq.Full)$Rep)\n",
    "sample_data(physeq.Full)$Fert = as.factor(sample_data(physeq.Full)$Fert)\n",
    "\n",
    "# remove T0 as rhizosphere is not established\n",
    "physeq.Full = subset_samples(physeq.Full, TimePoint != \"T0\")\n",
    "sample_data(physeq.Full)$TimePoint = droplevels(as.factor(sample_data(physeq.Full)$TimePoint))\n",
    "\n",
    "# #In Penn yan notebook I pruned to just rhizosphere responders, but am not using that approach here\n",
    "#   RespondersList = read.csv('/home/bryan/PennRhiz/data/run1/DeSeq2/RhizResponders.csv', header = TRUE, sep = \",\") \n",
    "#   RespondersList = as.character(RespondersList[,2])\n",
    "#   physeq.Full = prune_taxa(RespondersList, physeq.Full)\n",
    "  \n",
    "\n",
    "# separate bare soil and rhizosphere objects, and subset to just plots sampled on all three dates\n",
    "\n",
    "physeq.bare = subset_samples(physeq.Full, Genotype == \"Bare\" & Fert == \"85\")\n",
    "physeq.plant = subset_samples(physeq.Full, SeedTreatment != \"Untreated\" & Genotype %in% c(\"330\", \"354\", \n",
    "                                               \"3517\", \"3475\", \"34M95\", \"P1151HR\") & Fert == \"85\")\n",
    "\n",
    "physeq.plant\n"
   ]
  }
 ],
 "metadata": {
  "hide_input": true,
  "kernelspec": {
   "display_name": "Python 2",
   "language": "python",
   "name": "python2"
  },
  "language_info": {
   "codemirror_mode": {
    "name": "ipython",
    "version": 2
   },
   "file_extension": ".py",
   "mimetype": "text/x-python",
   "name": "python",
   "nbconvert_exporter": "python",
   "pygments_lexer": "ipython2",
   "version": "2.7.13"
  }
 },
 "nbformat": 4,
 "nbformat_minor": 2
}
