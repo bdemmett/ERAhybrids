{
 "cells": [
  {
   "cell_type": "markdown",
   "metadata": {},
   "source": [
    "# download seqs"
   ]
  },
  {
   "cell_type": "code",
   "execution_count": 1,
   "metadata": {
    "collapsed": true
   },
   "outputs": [],
   "source": [
    "# temporary home for sequence data in home directory\n",
    "seqDir = '/home/bryan/ERA/data/MiSeq/20170417_run1/'"
   ]
  },
  {
   "cell_type": "markdown",
   "metadata": {},
   "source": [
    "# Init"
   ]
  },
  {
   "cell_type": "code",
   "execution_count": 2,
   "metadata": {
    "collapsed": true
   },
   "outputs": [],
   "source": [
    "import os\n",
    "from glob import glob"
   ]
  },
  {
   "cell_type": "code",
   "execution_count": 3,
   "metadata": {
    "collapsed": false
   },
   "outputs": [],
   "source": [
    "if not os.path.isdir(seqDir):  \n",
    " os.makedirs(seqDir)"
   ]
  },
  {
   "cell_type": "markdown",
   "metadata": {
    "collapsed": true
   },
   "source": [
    "## Read 1"
   ]
  },
  {
   "cell_type": "code",
   "execution_count": null,
   "metadata": {
    "collapsed": false
   },
   "outputs": [
    {
     "name": "stdout",
     "output_type": "stream",
     "text": [
      "--2017-04-18 08:42:09--  http://cbsuapps.tc.cornell.edu/Sequencing/showseqfile.aspx?mode=http&cntrl=1299192041&refid=236842\n",
      "Resolving cbsuapps.tc.cornell.edu (cbsuapps.tc.cornell.edu)... 128.84.3.245\n",
      "Connecting to cbsuapps.tc.cornell.edu (cbsuapps.tc.cornell.edu)|128.84.3.245|:80... connected.\n",
      "HTTP request sent, awaiting response... 200 OK\n",
      "Length: 3903821688 (3.6G) [application/octet-stream]\n",
      "Saving to: ‘read1.fq.gz’\n",
      "\n",
      "read1.fq.gz           0%[                    ]  25.66M  64.1MB/s               "
     ]
    }
   ],
   "source": [
    "!cd $seqDir; \\\n",
    "    wget -O read1.fq.gz \\\n",
    "    \"http://cbsuapps.tc.cornell.edu/Sequencing/showseqfile.aspx?mode=http&cntrl=1299192041&refid=236842\""
   ]
  },
  {
   "cell_type": "code",
   "execution_count": 7,
   "metadata": {
    "collapsed": false
   },
   "outputs": [
    {
     "name": "stdout",
     "output_type": "stream",
     "text": [
      "--2017-01-17 11:43:45--  http://cbsuapps.tc.cornell.edu/Sequencing/showseqfile.aspx?mode=http&cntrl=143431347&refid=223431\n",
      "Resolving cbsuapps.tc.cornell.edu (cbsuapps.tc.cornell.edu)... 128.84.3.245\n",
      "Connecting to cbsuapps.tc.cornell.edu (cbsuapps.tc.cornell.edu)|128.84.3.245|:80... connected.\n",
      "HTTP request sent, awaiting response... 200 OK\n",
      "Length: 1872477657 (1.7G) [application/octet-stream]\n",
      "Saving to: `read2.fq.gz'\n",
      "\n",
      "77% [===========================>         ] 1,450,219,312 58.2M/s  eta 7s      **OUTPUT MUTED**"
     ]
    }
   ],
   "source": [
    "!cd $seqDir; \\\n",
    "    wget -O read2.fq.gz \\\n",
    "    \"http://cbsuapps.tc.cornell.edu/Sequencing/showseqfile.aspx?mode=http&cntrl=143431347&refid=223431\""
   ]
  },
  {
   "cell_type": "code",
   "execution_count": 8,
   "metadata": {
    "collapsed": false
   },
   "outputs": [
    {
     "name": "stdout",
     "output_type": "stream",
     "text": [
      "--2017-01-17 11:44:58--  http://cbsuapps.tc.cornell.edu/Sequencing/showseqfile.aspx?mode=http&cntrl=1700357200&refid=223432\n",
      "Resolving cbsuapps.tc.cornell.edu (cbsuapps.tc.cornell.edu)... 128.84.3.245\n",
      "Connecting to cbsuapps.tc.cornell.edu (cbsuapps.tc.cornell.edu)|128.84.3.245|:80... connected.\n",
      "HTTP request sent, awaiting response... 200 OK\n",
      "Length: 110867703 (106M) [application/octet-stream]\n",
      "Saving to: `index1.fq.gz'\n",
      "\n",
      "100%[======================================>] 110,867,703 81.0M/s   in 1.3s    \n",
      "\n",
      "2017-01-17 11:45:00 (81.0 MB/s) - `index1.fq.gz' saved [110867703/110867703]\n",
      "\n"
     ]
    }
   ],
   "source": [
    "!cd $seqDir; \\\n",
    "    wget -O index1.fq.gz \\\n",
    "    \"http://cbsuapps.tc.cornell.edu/Sequencing/showseqfile.aspx?mode=http&cntrl=1700357200&refid=223432\""
   ]
  },
  {
   "cell_type": "code",
   "execution_count": 9,
   "metadata": {
    "collapsed": false,
    "scrolled": true
   },
   "outputs": [
    {
     "name": "stdout",
     "output_type": "stream",
     "text": [
      "--2017-01-17 11:45:51--  http://cbsuapps.tc.cornell.edu/Sequencing/showseqfile.aspx?mode=http&cntrl=452973298&refid=223433\n",
      "Resolving cbsuapps.tc.cornell.edu (cbsuapps.tc.cornell.edu)... 128.84.3.245\n",
      "Connecting to cbsuapps.tc.cornell.edu (cbsuapps.tc.cornell.edu)|128.84.3.245|:80... connected.\n",
      "HTTP request sent, awaiting response... 200 OK\n",
      "Length: 105530264 (101M) [application/octet-stream]\n",
      "Saving to: `index2.fq.gz'\n",
      "\n",
      "100%[======================================>] 105,530,264 60.8M/s   in 1.7s    \n",
      "\n",
      "2017-01-17 11:45:53 (60.8 MB/s) - `index2.fq.gz' saved [105530264/105530264]\n",
      "\n"
     ]
    }
   ],
   "source": [
    "!cd $seqDir; \\\n",
    "    wget -O index2.fq.gz \\\n",
    "    \"http://cbsuapps.tc.cornell.edu/Sequencing/showseqfile.aspx?mode=http&cntrl=452973298&refid=223433\""
   ]
  }
 ],
 "metadata": {
  "anaconda-cloud": {},
  "hide_input": true,
  "kernelspec": {
   "display_name": "Python 2",
   "language": "python",
   "name": "python2"
  },
  "language_info": {
   "codemirror_mode": {
    "name": "ipython",
    "version": 2
   },
   "file_extension": ".py",
   "mimetype": "text/x-python",
   "name": "python",
   "nbconvert_exporter": "python",
   "pygments_lexer": "ipython2",
   "version": "2.7.13"
  }
 },
 "nbformat": 4,
 "nbformat_minor": 1
}
