{
 "cells": [
  {
   "cell_type": "markdown",
   "metadata": {},
   "source": [
    "# Beta-diversity vs breeding history with corMLPE"
   ]
  },
  {
   "cell_type": "markdown",
   "metadata": {
    "slideshow": {
     "slide_type": "skip"
    }
   },
   "source": [
    "Test hypotheses on release year vs MCC\n",
    "Test hypothesis on unmerged dataset"
   ]
  },
  {
   "cell_type": "code",
   "execution_count": 1,
   "metadata": {
    "collapsed": false
   },
   "outputs": [],
   "source": [
    "%load_ext rpy2.ipython"
   ]
  },
  {
   "cell_type": "code",
   "execution_count": 2,
   "metadata": {
    "collapsed": false,
    "hide_input": false
   },
   "outputs": [
    {
     "name": "stderr",
     "output_type": "stream",
     "text": [
      "/opt/anaconda2/lib/python2.7/site-packages/rpy2/rinterface/__init__.py:186: RRuntimeWarning: foreach: simple, scalable parallel programming from Revolution Analytics\n",
      "Use Revolution R for scalability, fault tolerance and more.\n",
      "http://www.revolutionanalytics.com\n",
      "\n",
      "  warnings.warn(x, RRuntimeWarning)\n",
      "/opt/anaconda2/lib/python2.7/site-packages/rpy2/rinterface/__init__.py:186: RRuntimeWarning: Loading required package: lattice\n",
      "\n",
      "  warnings.warn(x, RRuntimeWarning)\n",
      "/opt/anaconda2/lib/python2.7/site-packages/rpy2/rinterface/__init__.py:186: RRuntimeWarning: Loading required package: survival\n",
      "\n",
      "  warnings.warn(x, RRuntimeWarning)\n",
      "/opt/anaconda2/lib/python2.7/site-packages/rpy2/rinterface/__init__.py:186: RRuntimeWarning: Loading required package: Formula\n",
      "\n",
      "  warnings.warn(x, RRuntimeWarning)\n",
      "/opt/anaconda2/lib/python2.7/site-packages/rpy2/rinterface/__init__.py:186: RRuntimeWarning: Loading required package: ggplot2\n",
      "\n",
      "  warnings.warn(x, RRuntimeWarning)\n",
      "/opt/anaconda2/lib/python2.7/site-packages/rpy2/rinterface/__init__.py:186: RRuntimeWarning: \n",
      "Attaching package: ‘Hmisc’\n",
      "\n",
      "\n",
      "  warnings.warn(x, RRuntimeWarning)\n",
      "/opt/anaconda2/lib/python2.7/site-packages/rpy2/rinterface/__init__.py:186: RRuntimeWarning: The following objects are masked from ‘package:base’:\n",
      "\n",
      "    format.pval, round.POSIXt, trunc.POSIXt, units\n",
      "\n",
      "\n",
      "  warnings.warn(x, RRuntimeWarning)\n",
      "/opt/anaconda2/lib/python2.7/site-packages/rpy2/rinterface/__init__.py:186: RRuntimeWarning: Loading required package: Matrix\n",
      "\n",
      "  warnings.warn(x, RRuntimeWarning)\n",
      "/opt/anaconda2/lib/python2.7/site-packages/rpy2/rinterface/__init__.py:186: RRuntimeWarning: \n",
      "Attaching package: ‘lmerTest’\n",
      "\n",
      "\n",
      "  warnings.warn(x, RRuntimeWarning)\n",
      "/opt/anaconda2/lib/python2.7/site-packages/rpy2/rinterface/__init__.py:186: RRuntimeWarning: The following object is masked from ‘package:lme4’:\n",
      "\n",
      "    lmer\n",
      "\n",
      "\n",
      "  warnings.warn(x, RRuntimeWarning)\n",
      "/opt/anaconda2/lib/python2.7/site-packages/rpy2/rinterface/__init__.py:186: RRuntimeWarning: The following object is masked from ‘package:stats’:\n",
      "\n",
      "    step\n",
      "\n",
      "\n",
      "  warnings.warn(x, RRuntimeWarning)\n",
      "/opt/anaconda2/lib/python2.7/site-packages/rpy2/rinterface/__init__.py:186: RRuntimeWarning: \n",
      "Attaching package: ‘plyr’\n",
      "\n",
      "\n",
      "  warnings.warn(x, RRuntimeWarning)\n",
      "/opt/anaconda2/lib/python2.7/site-packages/rpy2/rinterface/__init__.py:186: RRuntimeWarning: The following objects are masked from ‘package:Hmisc’:\n",
      "\n",
      "    is.discrete, summarize\n",
      "\n",
      "\n",
      "  warnings.warn(x, RRuntimeWarning)\n",
      "/opt/anaconda2/lib/python2.7/site-packages/rpy2/rinterface/__init__.py:186: RRuntimeWarning: \n",
      "Attaching package: ‘dplyr’\n",
      "\n",
      "\n",
      "  warnings.warn(x, RRuntimeWarning)\n",
      "/opt/anaconda2/lib/python2.7/site-packages/rpy2/rinterface/__init__.py:186: RRuntimeWarning: The following objects are masked from ‘package:plyr’:\n",
      "\n",
      "    arrange, count, desc, failwith, id, mutate, rename, summarise,\n",
      "    summarize\n",
      "\n",
      "\n",
      "  warnings.warn(x, RRuntimeWarning)\n",
      "/opt/anaconda2/lib/python2.7/site-packages/rpy2/rinterface/__init__.py:186: RRuntimeWarning: The following objects are masked from ‘package:Hmisc’:\n",
      "\n",
      "    combine, src, summarize\n",
      "\n",
      "\n",
      "  warnings.warn(x, RRuntimeWarning)\n",
      "/opt/anaconda2/lib/python2.7/site-packages/rpy2/rinterface/__init__.py:186: RRuntimeWarning: The following objects are masked from ‘package:stats’:\n",
      "\n",
      "    filter, lag\n",
      "\n",
      "\n",
      "  warnings.warn(x, RRuntimeWarning)\n",
      "/opt/anaconda2/lib/python2.7/site-packages/rpy2/rinterface/__init__.py:186: RRuntimeWarning: The following objects are masked from ‘package:base’:\n",
      "\n",
      "    intersect, setdiff, setequal, union\n",
      "\n",
      "\n",
      "  warnings.warn(x, RRuntimeWarning)\n",
      "/opt/anaconda2/lib/python2.7/site-packages/rpy2/rinterface/__init__.py:186: RRuntimeWarning: \n",
      "Attaching package: ‘tidyr’\n",
      "\n",
      "\n",
      "  warnings.warn(x, RRuntimeWarning)\n",
      "/opt/anaconda2/lib/python2.7/site-packages/rpy2/rinterface/__init__.py:186: RRuntimeWarning: The following object is masked from ‘package:Matrix’:\n",
      "\n",
      "    expand\n",
      "\n",
      "\n",
      "  warnings.warn(x, RRuntimeWarning)\n",
      "/opt/anaconda2/lib/python2.7/site-packages/rpy2/rinterface/__init__.py:186: RRuntimeWarning: \n",
      "Attaching package: ‘gridExtra’\n",
      "\n",
      "\n",
      "  warnings.warn(x, RRuntimeWarning)\n",
      "/opt/anaconda2/lib/python2.7/site-packages/rpy2/rinterface/__init__.py:186: RRuntimeWarning: The following object is masked from ‘package:dplyr’:\n",
      "\n",
      "    combine\n",
      "\n",
      "\n",
      "  warnings.warn(x, RRuntimeWarning)\n",
      "/opt/anaconda2/lib/python2.7/site-packages/rpy2/rinterface/__init__.py:186: RRuntimeWarning: The following object is masked from ‘package:Hmisc’:\n",
      "\n",
      "    combine\n",
      "\n",
      "\n",
      "  warnings.warn(x, RRuntimeWarning)\n",
      "/opt/anaconda2/lib/python2.7/site-packages/rpy2/rinterface/__init__.py:186: RRuntimeWarning: \n",
      "Attaching package: ‘reshape2’\n",
      "\n",
      "\n",
      "  warnings.warn(x, RRuntimeWarning)\n",
      "/opt/anaconda2/lib/python2.7/site-packages/rpy2/rinterface/__init__.py:186: RRuntimeWarning: The following object is masked from ‘package:tidyr’:\n",
      "\n",
      "    smiths\n",
      "\n",
      "\n",
      "  warnings.warn(x, RRuntimeWarning)\n",
      "/opt/anaconda2/lib/python2.7/site-packages/rpy2/rinterface/__init__.py:186: RRuntimeWarning: Loading required package: iterators\n",
      "\n",
      "  warnings.warn(x, RRuntimeWarning)\n",
      "/opt/anaconda2/lib/python2.7/site-packages/rpy2/rinterface/__init__.py:186: RRuntimeWarning: Loading required package: parallel\n",
      "\n",
      "  warnings.warn(x, RRuntimeWarning)\n"
     ]
    }
   ],
   "source": [
    "%%R\n",
    "library(foreach)\n",
    "library(Hmisc)\n",
    "library(lme4)\n",
    "library(lmerTest)\n",
    "library(ggplot2)\n",
    "library(plyr)\n",
    "library(dplyr)\n",
    "library(tidyr)\n",
    "library(pbkrtest)\n",
    "library(gridExtra)\n",
    "library(reshape2)\n",
    "library(doParallel)\n",
    "library(phyloseq)\n",
    "library(MuMIn)\n"
   ]
  },
  {
   "cell_type": "code",
   "execution_count": 3,
   "metadata": {
    "collapsed": false
   },
   "outputs": [
    {
     "name": "stderr",
     "output_type": "stream",
     "text": [
      "/opt/anaconda2/lib/python2.7/site-packages/rpy2/rinterface/__init__.py:186: RRuntimeWarning: \n",
      "Attaching package: ‘nlme’\n",
      "\n",
      "\n",
      "  warnings.warn(x, RRuntimeWarning)\n",
      "/opt/anaconda2/lib/python2.7/site-packages/rpy2/rinterface/__init__.py:186: RRuntimeWarning: The following object is masked from ‘package:dplyr’:\n",
      "\n",
      "    collapse\n",
      "\n",
      "\n",
      "  warnings.warn(x, RRuntimeWarning)\n",
      "/opt/anaconda2/lib/python2.7/site-packages/rpy2/rinterface/__init__.py:186: RRuntimeWarning: The following object is masked from ‘package:lme4’:\n",
      "\n",
      "    lmList\n",
      "\n",
      "\n",
      "  warnings.warn(x, RRuntimeWarning)\n"
     ]
    }
   ],
   "source": [
    "%%R\n",
    "# Initialize corMLPE \n",
    "source('/home/bryan/corMLPE/corMLPE.R')"
   ]
  },
  {
   "cell_type": "code",
   "execution_count": 5,
   "metadata": {
    "collapsed": true
   },
   "outputs": [],
   "source": [
    "%%R\n",
    "# set theme for ggplot\n",
    "\n",
    "theme_pub = function (base_size = 11, base_family = \"Helvetica\") \n",
    "{\n",
    "    theme_grey(base_size = base_size, base_family = base_family) %+replace% \n",
    "        theme(\n",
    "            axis.line.x = element_line(size = .5),\n",
    "            axis.line.y = element_line(size = .5),\n",
    "            panel.background = element_rect(fill = \"white\", colour = NA), \n",
    "            panel.border = element_rect(fill = NA, color = \"black\", size = .5), \n",
    "            panel.grid.major = element_blank(), \n",
    "            panel.grid.minor = element_blank(), \n",
    "            strip.background = element_rect(fill = \"grey85\", \n",
    "                colour = \"grey20\"), \n",
    "            legend.key = element_rect(fill = \"white\", \n",
    "                colour = NA), complete = TRUE)\n",
    "    }\n"
   ]
  },
  {
   "cell_type": "markdown",
   "metadata": {
    "slideshow": {
     "slide_type": "skip"
    }
   },
   "source": [
    "# Set up tables"
   ]
  },
  {
   "cell_type": "markdown",
   "metadata": {},
   "source": [
    "## Loading phyloseq object"
   ]
  },
  {
   "cell_type": "code",
   "execution_count": 6,
   "metadata": {
    "collapsed": true
   },
   "outputs": [],
   "source": [
    "%%R\n",
    "setwd('/home/bryan/ERA/data/MiSeq/20170417_run1/phyloseq/')"
   ]
  },
  {
   "cell_type": "code",
   "execution_count": 14,
   "metadata": {
    "collapsed": false,
    "scrolled": true
   },
   "outputs": [
    {
     "data": {
      "text/plain": [
       "phyloseq-class experiment-level object\n",
       "otu_table()   OTU Table:         [ 4597 taxa and 96 samples ]\n",
       "sample_data() Sample Data:       [ 96 samples by 33 sample variables ]\n",
       "tax_table()   Taxonomy Table:    [ 4597 taxa by 8 taxonomic ranks ]\n",
       "phy_tree()    Phylogenetic Tree: [ 4597 tips and 4596 internal nodes ]\n"
      ]
     },
     "metadata": {},
     "output_type": "display_data"
    }
   ],
   "source": [
    "%%R \n",
    "# loading\n",
    "\n",
    "physeq = readRDS('ERA_snorm.rds')\n",
    "\n",
    "#remove T0, not necessary\n",
    "physeq = subset_samples(physeq, !is.na(Genotype), TRUE)\n",
    "physeq = transform_sample_counts(physeq, sqrt)\n",
    "physeq = subset_samples(physeq, SeedTreatment == \"Treated\" & Genotype != \"Bare\") # see seed treatment notebook for comparison\n",
    "\n",
    "\n",
    "#Just use 85kg plots to avoid spatial autocorrelation\n",
    "physeq = subset_samples(physeq, Fert == \"85\")\n",
    "physeq = filter_taxa(physeq, function(x) sum(x > 0) > 0, TRUE)  \n",
    "physeq"
   ]
  },
  {
   "cell_type": "code",
   "execution_count": 15,
   "metadata": {
    "collapsed": false
   },
   "outputs": [],
   "source": [
    "%%R\n",
    "registerDoParallel(cores=28)\n",
    "bray.dist = distance(physeq, \n",
    "                      method = \"bray\", \n",
    "                      weighted = FALSE,\n",
    "                      fast = TRUE, \n",
    "                      parallel = TRUE, \n",
    "                      normalized = FALSE)\n"
   ]
  },
  {
   "cell_type": "markdown",
   "metadata": {
    "slideshow": {
     "slide_type": "skip"
    }
   },
   "source": [
    "# Data wrangling "
   ]
  },
  {
   "cell_type": "markdown",
   "metadata": {},
   "source": [
    "### Melt unifrac distances"
   ]
  },
  {
   "cell_type": "code",
   "execution_count": 48,
   "metadata": {
    "collapsed": false,
    "hide_input": false
   },
   "outputs": [
    {
     "data": {
      "text/plain": [
       "           SampleA        SampleB bray_Dist\n",
       "97  ERA-T2_3-1d_85 ERA-T1_2-2b_85 0.2885866\n",
       "193 ERA-T2_3-1d_85 ERA-T2_2-2d_85 0.2596775\n",
       "194 ERA-T1_2-2b_85 ERA-T2_2-2d_85 0.2507218\n",
       "289 ERA-T2_3-1d_85 ERA-T1_1-3c_85 0.2643408\n",
       "290 ERA-T1_2-2b_85 ERA-T1_1-3c_85 0.2565985\n",
       "291 ERA-T2_2-2d_85 ERA-T1_1-3c_85 0.2575469\n",
       "[1] 4560    3\n"
      ]
     },
     "metadata": {},
     "output_type": "display_data"
    }
   ],
   "source": [
    "%%R\n",
    "bd = as.matrix(bray.dist) \n",
    "# remove lower triangle to remove duplicate values\n",
    "bd[ lower.tri( bd, diag = TRUE ) ]  <- NA\n",
    "head(bd)\n",
    "bd.m = melt(bd, na.rm= TRUE)\n",
    "\n",
    "# rename columns\n",
    "colnames(bd.m) = c(\"SampleA\", \"SampleB\", \"bray_Dist\")\n",
    "head(bd.m) %>% print\n",
    "dim(bd.m) %>% print"
   ]
  },
  {
   "cell_type": "code",
   "execution_count": 49,
   "metadata": {
    "collapsed": false
   },
   "outputs": [
    {
     "data": {
      "text/plain": [
       "         SampleA        SampleB Year RepComp\n",
       "1 ERA-T2_3-1d_85 ERA-T2_3-1d_85    0       0\n",
       "2 ERA-T1_2-2b_85 ERA-T2_3-1d_85   30       1\n",
       "3 ERA-T2_2-2d_85 ERA-T2_3-1d_85    0       1\n",
       "4 ERA-T1_1-3c_85 ERA-T2_3-1d_85   30       1\n",
       "5 ERA-T1_1-2d_85 ERA-T2_3-1d_85   10       1\n",
       "6 ERA-T2_1-2b_85 ERA-T2_3-1d_85   62       1\n"
      ]
     },
     "metadata": {},
     "output_type": "display_data"
    }
   ],
   "source": [
    "%%R\n",
    "## Create metadata distance variables\n",
    "\n",
    "sd = sample_data(physeq)\n",
    "\n",
    "\n",
    "#measure years between release\n",
    "RY.dist = dist(sd[,\"R_Year\"], method = \"euclidian\")\n",
    "    #melt matrix\n",
    "    RY.m = melt(as.matrix(RY.dist))\n",
    "    RY.dist = NULL\n",
    "\n",
    "    #set column names and create comparison column\n",
    "     colnames(RY.m) = c(\"SampleA\", \"SampleB\", \"Year\")\n",
    "    \n",
    "\n",
    "# Create binary variable indicating same or different rep\n",
    "Rep.dist = dist(sd[,\"Rep\"], method = \"euclidian\")\n",
    "    #melt matrix\n",
    "    Rep.m = melt(as.matrix(Rep.dist))\n",
    "    Rep.dist = NULL\n",
    "\n",
    "    #set column names and create comparison column\n",
    "     colnames(Rep.m) = c(\"SampleA\", \"SampleB\",\"RepDist\")\n",
    "\n",
    "\n",
    "\n",
    "# Join by sampleA and sampleB\n",
    "Meta.m = left_join(RY.m, Rep.m)\n",
    "Meta.m = Meta.m %>% \n",
    "    mutate(RepComp = as.factor(ifelse(RepDist == 0, 0, 1))) %>%\n",
    "    select(-RepDist)\n",
    "\n",
    "#Clean up\n",
    "Rep.m = NULL\n",
    "RY.m = NULL\n",
    "\n",
    "head(Meta.m)"
   ]
  },
  {
   "cell_type": "code",
   "execution_count": 25,
   "metadata": {
    "collapsed": false
   },
   "outputs": [
    {
     "data": {
      "text/plain": [
       "Sample Data:        [6 samples by 33 sample variables]:\n",
       "                   X.sampleID TubeID ExtractionPlate PooledDNAPlate\n",
       "ERA-T2_3-1d_85 ERA-T2_3-1d_85    425            ERA4              B\n",
       "ERA-T1_2-2b_85 ERA-T1_2-2b_85    157            ERA2              A\n",
       "ERA-T2_2-2d_85 ERA-T2_2-2d_85    397            ERA3              C\n",
       "ERA-T1_1-3c_85 ERA-T1_1-3c_85    136            ERA1              A\n",
       "ERA-T1_1-2d_85 ERA-T1_1-2d_85    131            ERA1              A\n",
       "ERA-T2_1-2b_85 ERA-T2_1-2b_85    361            ERA1              A\n",
       "               Sample.Well.ID PrimerPlate Primer.Number Primer.Well.ID  X\n",
       "ERA-T2_3-1d_85             E5           2            37             E5 NA\n",
       "ERA-T1_2-2b_85             G8           1            63             G8 NA\n",
       "ERA-T2_2-2d_85             H1           3             8             H1 NA\n",
       "ERA-T1_1-3c_85             B6           1            42             B6 NA\n",
       "ERA-T1_1-2d_85             B5           1            34             B5 NA\n",
       "ERA-T2_1-2b_85             D1           1             4             D1 NA\n",
       "               primerFwdLoc primerRevLoc fwd_barcode rev_barcode  PlotID\n",
       "ERA-T2_3-1d_85          2-E          2-5    ACGTCTCG    CGTACTCA 3-1d_85\n",
       "ERA-T1_2-2b_85          1-G          1-8    GGATATCT    GTCGCTCG 2-2b_85\n",
       "ERA-T2_2-2d_85          3-H          3-1    GACACCGT    AAGTCGAG 2-2d_85\n",
       "ERA-T1_1-3c_85          1-B          1-6    ACTATCTG    CTACGCAG 1-3c_85\n",
       "ERA-T1_1-2d_85          1-B          1-5    ACTATCTG    CGTACTCA 1-2d_85\n",
       "ERA-T2_1-2b_85          1-D          1-1    CTGCGTGT    AACTCTCG 1-2b_85\n",
       "               TimePoint Rep Row Pos Fert PlotIndex   Plant Genotype\n",
       "ERA-T2_3-1d_85        T2   3   1   d   85       130   34M95    34M95\n",
       "ERA-T1_2-2b_85        T1   2   2   b   85        77    3517     3517\n",
       "ERA-T2_2-2d_85        T2   2   2   d   85        82   34M95    34M95\n",
       "ERA-T1_1-3c_85        T1   1   3   c   85        32    3517     3517\n",
       "ERA-T1_1-2d_85        T1   1   2   d   85        22 P1151HR  P1151HR\n",
       "ERA-T2_1-2b_85        T2   1   2   b   85        17     330      330\n",
       "               SeedTreatment R_Year ERA kgdw_ha FracN.leco FracC.leco     d15N\n",
       "ERA-T2_3-1d_85       Treated   2001   3 10873.5  0.0122800    0.44145 402.5888\n",
       "ERA-T1_2-2b_85       Treated   1971   2   310.5  0.0208090    0.41495       NA\n",
       "ERA-T2_2-2d_85       Treated   2001   3  5352.0  0.0099164    0.44033 612.4547\n",
       "ERA-T1_1-3c_85       Treated   1971   2   447.6  0.0169400    0.39342       NA\n",
       "ERA-T1_1-2d_85       Treated   2011   3   426.9         NA         NA       NA\n",
       "ERA-T2_1-2b_85       Treated   1939   1  3792.0  0.0131310    0.43453 671.2750\n",
       "               X15N_AtPercent      FracN FracN_fromSoil FracN_fromFert\n",
       "ERA-T2_3-1d_85      0.5130163 0.01223815      0.7758070      0.2241930\n",
       "ERA-T1_2-2b_85             NA         NA             NA             NA\n",
       "ERA-T2_2-2d_85      0.5893253 0.01034828      0.6542402      0.3457598\n",
       "ERA-T1_1-3c_85             NA         NA             NA             NA\n",
       "ERA-T1_1-2d_85             NA         NA             NA             NA\n",
       "ERA-T2_1-2b_85      0.6106919 0.01272523      0.6202014      0.3797986\n"
      ]
     },
     "metadata": {},
     "output_type": "display_data"
    }
   ],
   "source": [
    "%%R\n",
    "head(sd)"
   ]
  },
  {
   "cell_type": "code",
   "execution_count": 50,
   "metadata": {
    "collapsed": false
   },
   "outputs": [
    {
     "data": {
      "text/plain": [
       "         SampleA        SampleB Year RepComp SA_Time SB_Time\n",
       "1 ERA-T2_3-1d_85 ERA-T2_3-1d_85    0       0      T2      T2\n",
       "2 ERA-T1_2-2b_85 ERA-T2_3-1d_85   30       1      T1      T2\n",
       "3 ERA-T2_2-2d_85 ERA-T2_3-1d_85    0       1      T2      T2\n",
       "4 ERA-T1_1-3c_85 ERA-T2_3-1d_85   30       1      T1      T2\n",
       "5 ERA-T1_1-2d_85 ERA-T2_3-1d_85   10       1      T1      T2\n",
       "6 ERA-T2_1-2b_85 ERA-T2_3-1d_85   62       1      T2      T2\n"
      ]
     },
     "metadata": {},
     "output_type": "display_data"
    }
   ],
   "source": [
    "%%R\n",
    "Dist = left_join(Meta.m, sd[,c(\"X.sampleID\", \"TimePoint\")], by = c(\"SampleA\" = \"X.sampleID\"))\n",
    "colnames(Dist)[5] = \"SA_Time\"\n",
    "\n",
    "Dist = left_join(Dist, sd[,c(\"X.sampleID\", \"TimePoint\")], by = c(\"SampleB\" = \"X.sampleID\"))\n",
    "colnames(Dist)[6] = \"SB_Time\"\n",
    "head(Dist)\n"
   ]
  },
  {
   "cell_type": "markdown",
   "metadata": {},
   "source": [
    "* Filter to just those that are comparisons within a date"
   ]
  },
  {
   "cell_type": "code",
   "execution_count": 51,
   "metadata": {
    "collapsed": false
   },
   "outputs": [
    {
     "data": {
      "text/plain": [
       "         SampleA        SampleB Year RepComp SA_Time SB_Time\n",
       "1 ERA-T2_3-1d_85 ERA-T2_3-1d_85    0       0      T2      T2\n",
       "2 ERA-T2_2-2d_85 ERA-T2_3-1d_85    0       1      T2      T2\n",
       "3 ERA-T2_1-2b_85 ERA-T2_3-1d_85   62       1      T2      T2\n",
       "4 ERA-T2_1-2d_85 ERA-T2_3-1d_85   10       1      T2      T2\n",
       "5 ERA-T2_1-3c_85 ERA-T2_3-1d_85   30       1      T2      T2\n",
       "6 ERA-T2_1-4a_85 ERA-T2_3-1d_85   48       1      T2      T2\n"
      ]
     },
     "metadata": {},
     "output_type": "display_data"
    }
   ],
   "source": [
    "%%R\n",
    "Dist = Dist %>% filter(SA_Time == SB_Time)\n",
    "head(Dist)"
   ]
  },
  {
   "cell_type": "markdown",
   "metadata": {},
   "source": [
    "### Join w/distance matrix"
   ]
  },
  {
   "cell_type": "code",
   "execution_count": 52,
   "metadata": {
    "collapsed": false
   },
   "outputs": [
    {
     "data": {
      "text/plain": [
       "           SampleA        SampleB bray_Dist\n",
       "97  ERA-T2_3-1d_85 ERA-T1_2-2b_85 0.2885866\n",
       "193 ERA-T2_3-1d_85 ERA-T2_2-2d_85 0.2596775\n",
       "194 ERA-T1_2-2b_85 ERA-T2_2-2d_85 0.2507218\n",
       "289 ERA-T2_3-1d_85 ERA-T1_1-3c_85 0.2643408\n",
       "290 ERA-T1_2-2b_85 ERA-T1_1-3c_85 0.2565985\n",
       "291 ERA-T2_2-2d_85 ERA-T1_1-3c_85 0.2575469\n"
      ]
     },
     "metadata": {},
     "output_type": "display_data"
    }
   ],
   "source": [
    "%%R\n",
    "head(bd.m)"
   ]
  },
  {
   "cell_type": "code",
   "execution_count": 53,
   "metadata": {
    "collapsed": true
   },
   "outputs": [],
   "source": [
    "%%R\n",
    "#join with bray-curtis on left since we removed the lower diagonal\n",
    "# use inner join to remove distances for plants sampled on different times\n",
    "Dist = inner_join(bd.m, Dist)"
   ]
  },
  {
   "cell_type": "code",
   "execution_count": 54,
   "metadata": {
    "collapsed": false
   },
   "outputs": [
    {
     "data": {
      "text/plain": [
       "         SampleA        SampleB bray_Dist Year RepComp SA_Time SB_Time\n",
       "1 ERA-T2_3-1d_85 ERA-T2_2-2d_85 0.2596775    0       1      T2      T2\n",
       "2 ERA-T1_2-2b_85 ERA-T1_1-3c_85 0.2565985    0       1      T1      T1\n",
       "3 ERA-T1_2-2b_85 ERA-T1_1-2d_85 0.2505155   40       1      T1      T1\n",
       "4 ERA-T1_1-3c_85 ERA-T1_1-2d_85 0.2472830   40       0      T1      T1\n",
       "5 ERA-T2_3-1d_85 ERA-T2_1-2b_85 0.3116596   62       1      T2      T2\n",
       "6 ERA-T2_2-2d_85 ERA-T2_1-2b_85 0.2524319   62       1      T2      T2\n",
       "[1] 1680    7\n"
      ]
     },
     "metadata": {},
     "output_type": "display_data"
    }
   ],
   "source": [
    "%%R\n",
    "head(Dist) %>% print\n",
    "dim(Dist)"
   ]
  },
  {
   "cell_type": "markdown",
   "metadata": {},
   "source": [
    "# Build corMLPE models"
   ]
  },
  {
   "cell_type": "markdown",
   "metadata": {},
   "source": [
    "## Null model:\n",
    "fit null model with random effect of sampling date to stratify covariance matrices"
   ]
  },
  {
   "cell_type": "code",
   "execution_count": 56,
   "metadata": {
    "collapsed": false
   },
   "outputs": [],
   "source": [
    "%%R\n",
    "fitNull =  lme(bray_Dist ~ 1, random =~ 1|SA_Time,\n",
    "               correlation = corMLPE(form= ~ SampleA + SampleB), data = Dist, method = \"ML\")\n"
   ]
  },
  {
   "cell_type": "code",
   "execution_count": 57,
   "metadata": {
    "collapsed": true
   },
   "outputs": [
    {
     "data": {
      "text/plain": [
       "Linear mixed-effects model fit by maximum likelihood\n",
       " Data: Dist \n",
       "        AIC       BIC   logLik\n",
       "  -8911.505 -8889.799 4459.753\n",
       "\n",
       "Random effects:\n",
       " Formula: ~1 | SA_Time\n",
       "         (Intercept)   Residual\n",
       "StdDev: 1.658232e-06 0.03078909\n",
       "\n",
       "Correlation Structure: corMLPE\n",
       " Formula: ~SampleA + SampleB | SA_Time \n",
       " Parameter estimate(s):\n",
       "      Rho \n",
       "0.3780729 \n",
       "Fixed effects: bray_Dist ~ 1 \n",
       "                Value   Std.Error   DF  t-value p-value\n",
       "(Intercept) 0.2895307 0.003885628 1677 74.51323       0\n",
       "\n",
       "Standardized Within-Group Residuals:\n",
       "       Min         Q1        Med         Q3        Max \n",
       "-2.4346762 -0.7246492 -0.1314557  0.5348725  4.6145755 \n",
       "\n",
       "Number of Observations: 1680\n",
       "Number of Groups: 3 \n"
      ]
     },
     "metadata": {},
     "output_type": "display_data"
    }
   ],
   "source": [
    "%%R\n",
    "summary(fitNull)"
   ]
  },
  {
   "cell_type": "code",
   "execution_count": 58,
   "metadata": {
    "collapsed": true
   },
   "outputs": [
    {
     "data": {
      "text/plain": [
       "Linear mixed-effects model fit by maximum likelihood\n",
       " Data: Dist \n",
       "        AIC       BIC   logLik\n",
       "  -9044.094 -9016.962 4527.047\n",
       "\n",
       "Random effects:\n",
       " Formula: ~1 | SA_Time\n",
       "         (Intercept)   Residual\n",
       "StdDev: 1.683755e-06 0.03049666\n",
       "\n",
       "Correlation Structure: corMLPE\n",
       " Formula: ~SampleA + SampleB | SA_Time \n",
       " Parameter estimate(s):\n",
       "      Rho \n",
       "0.3858436 \n",
       "Fixed effects: bray_Dist ~ RepComp \n",
       "                Value  Std.Error   DF  t-value p-value\n",
       "(Intercept) 0.2817607 0.00394254 1676 71.46681       0\n",
       "RepComp1    0.0100362 0.00084730 1676 11.84492       0\n",
       " Correlation: \n",
       "         (Intr)\n",
       "RepComp1 -0.166\n",
       "\n",
       "Standardized Within-Group Residuals:\n",
       "       Min         Q1        Med         Q3        Max \n",
       "-2.4716035 -0.7218957 -0.1348281  0.5314297  4.9136067 \n",
       "\n",
       "Number of Observations: 1680\n",
       "Number of Groups: 3 \n"
      ]
     },
     "metadata": {},
     "output_type": "display_data"
    }
   ],
   "source": [
    "%%R\n",
    "#Add rep comparison, though maybe it is better to have explicit comp\n",
    "fit1 =  lme(bray_Dist ~ RepComp, random =~ 1|SA_Time,\n",
    "               correlation = corMLPE(form= ~ SampleA + SampleB), data = Dist, method = \"ML\")\n",
    "summary(fit1)"
   ]
  },
  {
   "cell_type": "code",
   "execution_count": 59,
   "metadata": {
    "collapsed": true
   },
   "outputs": [
    {
     "data": {
      "text/plain": [
       "Linear mixed-effects model fit by maximum likelihood\n",
       " Data: Dist \n",
       "        AIC       BIC   logLik\n",
       "  -9044.004 -9011.445 4528.002\n",
       "\n",
       "Random effects:\n",
       " Formula: ~1 | SA_Time\n",
       "        (Intercept)   Residual\n",
       "StdDev: 1.64802e-06 0.03047977\n",
       "\n",
       "Correlation Structure: corMLPE\n",
       " Formula: ~SampleA + SampleB | SA_Time \n",
       " Parameter estimate(s):\n",
       "      Rho \n",
       "0.3858471 \n",
       "Fixed effects: bray_Dist ~ RepComp + Year \n",
       "                 Value   Std.Error   DF  t-value p-value\n",
       "(Intercept) 0.28091882 0.003988406 1675 70.43386  0.0000\n",
       "RepComp1    0.01012974 0.000849774 1675 11.92052  0.0000\n",
       "Year        0.00002589 0.000018750 1675  1.38108  0.1674\n",
       " Correlation: \n",
       "         (Intr) RpCmp1\n",
       "RepComp1 -0.176       \n",
       "Year     -0.153  0.080\n",
       "\n",
       "Standardized Within-Group Residuals:\n",
       "       Min         Q1        Med         Q3        Max \n",
       "-2.4756074 -0.7238227 -0.1306454  0.5269959  4.9252609 \n",
       "\n",
       "Number of Observations: 1680\n",
       "Number of Groups: 3 \n"
      ]
     },
     "metadata": {},
     "output_type": "display_data"
    }
   ],
   "source": [
    "%%R\n",
    "#Add rep comparison, though maybe it is better to have explicit comp\n",
    "fit2 =  lme(bray_Dist ~ RepComp + Year, random =~ 1|SA_Time,\n",
    "               correlation = corMLPE(form= ~ SampleA + SampleB), data = Dist, method = \"ML\")\n",
    "summary(fit2)"
   ]
  },
  {
   "cell_type": "code",
   "execution_count": 60,
   "metadata": {
    "collapsed": false,
    "scrolled": true
   },
   "outputs": [
    {
     "data": {
      "text/plain": [
       "Linear mixed-effects model fit by maximum likelihood\n",
       " Data: Dist \n",
       "       AIC       BIC  logLik\n",
       "  -9059.12 -9021.134 4536.56\n",
       "\n",
       "Random effects:\n",
       " Formula: ~1 | SA_Time\n",
       "         (Intercept)   Residual\n",
       "StdDev: 1.654376e-06 0.03051026\n",
       "\n",
       "Correlation Structure: corMLPE\n",
       " Formula: ~SampleA + SampleB | SA_Time \n",
       " Parameter estimate(s):\n",
       "      Rho \n",
       "0.3873373 \n",
       "Fixed effects: bray_Dist ~ RepComp + poly(Year, 2) \n",
       "                     Value   Std.Error   DF  t-value p-value\n",
       "(Intercept)     0.28147875 0.003953732 1674 71.19317  0.0000\n",
       "RepComp1        0.01040400 0.000847893 1674 12.27041  0.0000\n",
       "poly(Year, 2)1  0.00780718 0.016209712 1674  0.48164  0.6301\n",
       "poly(Year, 2)2 -0.06931601 0.016725759 1674 -4.14427  0.0000\n",
       " Correlation: \n",
       "               (Intr) RpCmp1 p(Y,2)1\n",
       "RepComp1       -0.166               \n",
       "poly(Year, 2)1 -0.011  0.061        \n",
       "poly(Year, 2)2  0.013 -0.078  0.211 \n",
       "\n",
       "Standardized Within-Group Residuals:\n",
       "       Min         Q1        Med         Q3        Max \n",
       "-2.5314453 -0.7350858 -0.1304797  0.5176169  4.8832586 \n",
       "\n",
       "Number of Observations: 1680\n",
       "Number of Groups: 3 \n"
      ]
     },
     "metadata": {},
     "output_type": "display_data"
    }
   ],
   "source": [
    "%%R\n",
    "#Add rep comparison, though maybe it is better to have explicit comp\n",
    "fit3 =  lme(bray_Dist ~ RepComp + poly(Year,2), random =~ 1|SA_Time,\n",
    "               correlation = corMLPE(form= ~ SampleA + SampleB), data = Dist, method = \"ML\")\n",
    "summary(fit3)"
   ]
  },
  {
   "cell_type": "code",
   "execution_count": 61,
   "metadata": {
    "collapsed": false
   },
   "outputs": [
    {
     "data": {
      "text/plain": [
       "[1] 0.07698743\n",
       "attr(,\"adj.r.squared\")\n",
       "[1] -0.000382652\n"
      ]
     },
     "metadata": {},
     "output_type": "display_data"
    }
   ],
   "source": [
    "%%R\n",
    "MuMIn::r.squaredLR(fit1, null = fitNull)"
   ]
  },
  {
   "cell_type": "code",
   "execution_count": 62,
   "metadata": {
    "collapsed": false
   },
   "outputs": [
    {
     "data": {
      "text/plain": [
       "[1] 0.07803605\n",
       "attr(,\"adj.r.squared\")\n",
       "[1] -0.000387864\n"
      ]
     },
     "metadata": {},
     "output_type": "display_data"
    }
   ],
   "source": [
    "%%R\n",
    "MuMIn::r.squaredLR(fit2, null = fitNull)"
   ]
  },
  {
   "cell_type": "code",
   "execution_count": 63,
   "metadata": {
    "collapsed": false
   },
   "outputs": [
    {
     "data": {
      "text/plain": [
       "[1] 0.0873813\n",
       "attr(,\"adj.r.squared\")\n",
       "[1] -0.0004343129\n"
      ]
     },
     "metadata": {},
     "output_type": "display_data"
    }
   ],
   "source": [
    "%%R\n",
    "MuMIn::r.squaredLR(fit3, null = fitNull)"
   ]
  },
  {
   "cell_type": "code",
   "execution_count": 64,
   "metadata": {
    "collapsed": false,
    "hide_input": false,
    "scrolled": false
   },
   "outputs": [
    {
     "data": {
      "text/plain": [
       "        Model df       AIC       BIC   logLik   Test   L.Ratio p-value\n",
       "fitNull     1  4 -8911.505 -8889.799 4459.753                         \n",
       "fit1        2  5 -9044.094 -9016.962 4527.047 1 vs 2 134.58888  <.0001\n",
       "fit2        3  6 -9044.004 -9011.445 4528.002 2 vs 3   1.90971   0.167\n",
       "fit3        4  7 -9059.120 -9021.134 4536.560 3 vs 4  17.11578  <.0001\n"
      ]
     },
     "metadata": {},
     "output_type": "display_data"
    }
   ],
   "source": [
    "%%R\n",
    "anova(fitNull, fit1, fit2, fit3)"
   ]
  },
  {
   "cell_type": "markdown",
   "metadata": {},
   "source": [
    "* Year of release as a polynomial function explains an amazing 1% of the variation!"
   ]
  },
  {
   "cell_type": "code",
   "execution_count": 65,
   "metadata": {
    "collapsed": false
   },
   "outputs": [
    {
     "data": {
      "image/png": "[encoded data removed]"
     },
     "metadata": {},
     "output_type": "display_data"
    }
   ],
   "source": [
    "%%R\n",
    "plot(fit3)"
   ]
  },
  {
   "cell_type": "markdown",
   "metadata": {},
   "source": [
    "## Graphs"
   ]
  },
  {
   "cell_type": "markdown",
   "metadata": {},
   "source": [
    "### phylogenetic distance vs microbial community"
   ]
  },
  {
   "cell_type": "code",
   "execution_count": 69,
   "metadata": {
    "collapsed": false,
    "hide_input": false,
    "scrolled": true
   },
   "outputs": [
    {
     "data": {
      "image/png": "[encoded data removed]"
     },
     "metadata": {},
     "output_type": "display_data"
    }
   ],
   "source": [
    "%%R -w 800 -h 600\n",
    "\n",
    "\n",
    "# test <- function(x) {-1.164889*x ^ 2 + .6266*x + .218}\n",
    "# test.semin <- function(x) {-1.3246*x ^ 2 + .558*x + .21504}\n",
    "# test.semax <- function(x) {-1.0053*x ^ 2 + .6952*x + .2210}\n",
    "\n",
    "p = ggplot(Dist, aes(y = bray_Dist, x = Year)) \n",
    "p = p + geom_point(pch = 21) #aes(size = phy_Dist), shape = 1)\n",
    "#p = p + stat_smooth(method = \"lm\", se = FALSE)\n",
    "p = p + theme_pub()\n",
    "#p = p + theme(panel.border = element_blank()) \n",
    "#p = p + theme(axis.line.x = element_line(color=\"black\", size = 1),\n",
    " #   axis.line.y = element_line(color=\"black\", size = 1))\n",
    "\n",
    "# p = p + stat_smooth(method = lm, y ~ poly(x,2), se = TRUE)\n",
    "# p = p + stat_function(fun = test)\n",
    "# p = p + stat_function(fun = test.semin, linetype = \"dashed\")\n",
    "# p = p + stat_function(fun = test.semax, linetype = \"dashed\")\n",
    "# p = p + stat_smooth(method = \"lm\", se = FALSE)\n",
    "p = p + labs(x = \"Year of release\")\n",
    "p = p + labs(y = \"Microbial community \\n Bray-Curtis Dissimilarity\")\n",
    "p = p + facet_wrap(~SA_Time, ncol = 2)\n",
    "p\n"
   ]
  },
  {
   "cell_type": "markdown",
   "metadata": {},
   "source": [
    "# corMLPE models for just T2"
   ]
  },
  {
   "cell_type": "code",
   "execution_count": 70,
   "metadata": {
    "collapsed": true
   },
   "outputs": [],
   "source": [
    "%%R\n",
    "DistT2 = Dist %>% filter(SA_Time == \"T2\")"
   ]
  },
  {
   "cell_type": "code",
   "execution_count": 72,
   "metadata": {
    "collapsed": false
   },
   "outputs": [],
   "source": [
    "%%R\n",
    "fitNull.t2 =  gls(bray_Dist ~ 1,\n",
    "               correlation = corMLPE(form= ~ SampleA + SampleB), data = DistT2, method = \"ML\")\n"
   ]
  },
  {
   "cell_type": "code",
   "execution_count": 76,
   "metadata": {
    "collapsed": false
   },
   "outputs": [
    {
     "data": {
      "text/plain": [
       "Generalized least squares fit by maximum likelihood\n",
       "  Model: bray_Dist ~ 1 \n",
       "  Data: DistT2 \n",
       "        AIC       BIC   logLik\n",
       "  -5938.692 -5923.608 2972.346\n",
       "\n",
       "Correlation Structure: corMLPE\n",
       " Formula: ~SampleA + SampleB \n",
       " Parameter estimate(s):\n",
       "      Rho \n",
       "0.3894437 \n",
       "\n",
       "Coefficients:\n",
       "                Value   Std.Error  t-value p-value\n",
       "(Intercept) 0.2875385 0.006072096 47.35407       0\n",
       "\n",
       "Standardized residuals:\n",
       "       Min         Q1        Med         Q3        Max \n",
       "-2.1723651 -0.6512117 -0.1207399  0.4623112  4.2891327 \n",
       "\n",
       "Residual standard error: 0.03358974 \n",
       "Degrees of freedom: 1128 total; 1127 residual\n"
      ]
     },
     "metadata": {},
     "output_type": "display_data"
    }
   ],
   "source": [
    "%%R\n",
    "summary(fitNull.t2)"
   ]
  },
  {
   "cell_type": "code",
   "execution_count": 82,
   "metadata": {
    "collapsed": false
   },
   "outputs": [],
   "source": [
    "%%R\n",
    "#Add rep comparison, though maybe it is better to have explicit comp\n",
    "fit1.t2 =  gls(bray_Dist ~ RepComp, \n",
    "               correlation = corMLPE(form= ~ SampleA + SampleB), data = DistT2, method = \"ML\")\n"
   ]
  },
  {
   "cell_type": "code",
   "execution_count": 83,
   "metadata": {
    "collapsed": false
   },
   "outputs": [
    {
     "data": {
      "text/plain": [
       "Generalized least squares fit by maximum likelihood\n",
       "  Model: bray_Dist ~ RepComp \n",
       "  Data: DistT2 \n",
       "        AIC       BIC   logLik\n",
       "  -6058.446 -6038.333 3033.223\n",
       "\n",
       "Correlation Structure: corMLPE\n",
       " Formula: ~SampleA + SampleB \n",
       " Parameter estimate(s):\n",
       "      Rho \n",
       "0.3989532 \n",
       "\n",
       "Coefficients:\n",
       "                Value   Std.Error  t-value p-value\n",
       "(Intercept) 0.2784093 0.006129931 45.41801       0\n",
       "RepComp1    0.0119186 0.001050786 11.34256       0\n",
       "\n",
       " Correlation: \n",
       "         (Intr)\n",
       "RepComp1 -0.131\n",
       "\n",
       "Standardized residuals:\n",
       "       Min         Q1        Med         Q3        Max \n",
       "-2.2254957 -0.6590273 -0.1286857  0.4658718  4.6131978 \n",
       "\n",
       "Residual standard error: 0.03320907 \n",
       "Degrees of freedom: 1128 total; 1126 residual\n"
      ]
     },
     "metadata": {},
     "output_type": "display_data"
    }
   ],
   "source": [
    "%%R\n",
    "summary(fit1.t2)"
   ]
  },
  {
   "cell_type": "code",
   "execution_count": 84,
   "metadata": {
    "collapsed": false
   },
   "outputs": [
    {
     "data": {
      "text/plain": [
       "Generalized least squares fit by maximum likelihood\n",
       "  Model: bray_Dist ~ RepComp + poly(Year, 2) \n",
       "  Data: DistT2 \n",
       "       AIC       BIC  logLik\n",
       "  -6073.74 -6043.571 3042.87\n",
       "\n",
       "Correlation Structure: corMLPE\n",
       " Formula: ~SampleA + SampleB \n",
       " Parameter estimate(s):\n",
       "      Rho \n",
       "0.3999114 \n",
       "\n",
       "Coefficients:\n",
       "                     Value   Std.Error  t-value p-value\n",
       "(Intercept)     0.27813846 0.006117531 45.46581  0.0000\n",
       "RepComp1        0.01227220 0.001046140 11.73093  0.0000\n",
       "poly(Year, 2)1  0.01150263 0.016509513  0.69673  0.4861\n",
       "poly(Year, 2)2 -0.07023846 0.017138018 -4.09840  0.0000\n",
       "\n",
       " Correlation: \n",
       "               (Intr) RpCmp1 p(Y,2)1\n",
       "RepComp1       -0.131               \n",
       "poly(Year, 2)1 -0.006  0.044        \n",
       "poly(Year, 2)2  0.008 -0.060  0.214 \n",
       "\n",
       "Standardized residuals:\n",
       "       Min         Q1        Med         Q3        Max \n",
       "-2.3047558 -0.6622230 -0.1419195  0.4614106  4.5979469 \n",
       "\n",
       "Residual standard error: 0.03307519 \n",
       "Degrees of freedom: 1128 total; 1124 residual\n"
      ]
     },
     "metadata": {},
     "output_type": "display_data"
    }
   ],
   "source": [
    "%%R\n",
    "#Add rep comparison, though maybe it is better to have explicit comp\n",
    "fit3.t2 =  gls(bray_Dist ~ RepComp + poly(Year,2), \n",
    "               correlation = corMLPE(form= ~ SampleA + SampleB), data = DistT2, method = \"ML\")\n",
    "summary(fit3.t2)"
   ]
  },
  {
   "cell_type": "code",
   "execution_count": null,
   "metadata": {
    "collapsed": true
   },
   "outputs": [],
   "source": []
  },
  {
   "cell_type": "code",
   "execution_count": 85,
   "metadata": {
    "collapsed": false
   },
   "outputs": [
    {
     "data": {
      "text/plain": [
       "[1] 0.1023165\n",
       "attr(,\"adj.r.squared\")\n",
       "[1] -0.0005289348\n"
      ]
     },
     "metadata": {},
     "output_type": "display_data"
    }
   ],
   "source": [
    "%%R\n",
    "MuMIn::r.squaredLR(fit1.t2, null = fitNull.t2)"
   ]
  },
  {
   "cell_type": "code",
   "execution_count": 86,
   "metadata": {
    "collapsed": false
   },
   "outputs": [
    {
     "data": {
      "text/plain": [
       "[1] 0.1175408\n",
       "attr(,\"adj.r.squared\")\n",
       "[1] -0.0006076383\n"
      ]
     },
     "metadata": {},
     "output_type": "display_data"
    }
   ],
   "source": [
    "%%R\n",
    "MuMIn::r.squaredLR(fit3.t2, null = fitNull.t2)"
   ]
  },
  {
   "cell_type": "code",
   "execution_count": 87,
   "metadata": {
    "collapsed": false
   },
   "outputs": [
    {
     "data": {
      "text/plain": [
       "           Model df       AIC       BIC   logLik   Test   L.Ratio p-value\n",
       "fitNull.t2     1  3 -5938.692 -5923.608 2972.346                         \n",
       "fit1.t2        2  4 -6058.446 -6038.333 3033.223 1 vs 2 121.75373  <.0001\n",
       "fit3.t2        3  6 -6073.740 -6043.571 3042.870 2 vs 3  19.29445   1e-04\n"
      ]
     },
     "metadata": {},
     "output_type": "display_data"
    }
   ],
   "source": [
    "%%R\n",
    "anova(fitNull.t2, fit1.t2, fit3.t2)"
   ]
  },
  {
   "cell_type": "markdown",
   "metadata": {},
   "source": [
    "* hurray! a whole 1.5% of thhe variation"
   ]
  },
  {
   "cell_type": "markdown",
   "metadata": {},
   "source": [
    "### Graph just T2"
   ]
  },
  {
   "cell_type": "code",
   "execution_count": 88,
   "metadata": {
    "collapsed": false
   },
   "outputs": [
    {
     "data": {
      "image/png": "[encoded data removed]"
     },
     "metadata": {},
     "output_type": "display_data"
    }
   ],
   "source": [
    "%%R\n",
    "# fl <- function(x) {-0.000060311*x^2 + .004525*x + .22908}\n",
    "# fl.CImin <- function(x) {-0.00007956*x^2 + .003659*x + .2209}\n",
    "#fl.CImax <- function(x) {-0.00004107*x^2 + .00539*x + .2373}\n",
    "\n",
    "p1 = ggplot(DistT2, aes(y = bray_Dist, x = Year)) \n",
    "p1 = p1 + geom_point(pch = 21) #aes(size = phy_Dist), shape = 1)\n",
    "p1 = p1 + theme_bw(base_size = 12)\n",
    "#p1 = p1 + ggtitle(\"Time\")\n",
    "# p1 = p1 + stat_function(fun = fl)\n",
    "# p1 = p1 + stat_function(fun = fl.CImin, linetype = \"dashed\")\n",
    "# p1 = p1 + stat_function(fun = fl.CImax, linetype = \"dashed\")\n",
    "\n",
    "p1 = p1 + labs(x = \"Years between hybrid release\")\n",
    "p1 = p1 + labs(y = \"Microbial community \\n Bray-Curtis dissimilarity\") \n",
    "#p1 = p1 + theme(axis.title.y = element_blank())\n",
    "#p1 = p1 + labs(y = \"Weighted UniFrac distance\")\n",
    "p1"
   ]
  },
  {
   "cell_type": "code",
   "execution_count": null,
   "metadata": {
    "collapsed": true
   },
   "outputs": [],
   "source": []
  },
  {
   "cell_type": "code",
   "execution_count": null,
   "metadata": {
    "collapsed": true
   },
   "outputs": [],
   "source": []
  },
  {
   "cell_type": "code",
   "execution_count": null,
   "metadata": {
    "collapsed": true
   },
   "outputs": [],
   "source": []
  },
  {
   "cell_type": "code",
   "execution_count": null,
   "metadata": {
    "collapsed": true
   },
   "outputs": [],
   "source": [
    "#--Old Version--"
   ]
  },
  {
   "cell_type": "code",
   "execution_count": 27,
   "metadata": {
    "collapsed": false
   },
   "outputs": [
    {
     "data": {
      "image/png": "[encoded data removed]"
     },
     "metadata": {},
     "output_type": "display_data"
    }
   ],
   "source": [
    "%%R -w 1000 -h 400\n",
    "p\n"
   ]
  },
  {
   "cell_type": "code",
   "execution_count": 647,
   "metadata": {
    "collapsed": false,
    "scrolled": true
   },
   "outputs": [
    {
     "data": {
      "text/plain": [
       "png \n",
       "  2 \n"
      ]
     },
     "metadata": {},
     "output_type": "display_data"
    }
   ],
   "source": [
    "%%R\n",
    "pdf(file = \"/home/bryan/RhizCG/figures/MCCcorr.pdf\", height = 5, width = 12)\n",
    "p %>% print\n",
    "dev.off()"
   ]
  },
  {
   "cell_type": "code",
   "execution_count": 641,
   "metadata": {
    "collapsed": false
   },
   "outputs": [
    {
     "data": {
      "text/plain": [
       "TableGrob (1 x 1) \"arrange\": 1 grobs\n",
       "  z     cells    name           grob\n",
       "1 1 (1-1,1-1) arrange gtable[layout]\n",
       "png \n",
       "  2 \n"
      ]
     },
     "metadata": {},
     "output_type": "display_data"
    }
   ],
   "source": [
    "%%R\n",
    "pdf(file = \"/home/bryan/RhizCG/figures/MCCcorr.pdf\", height = 3.5, width = 4)\n",
    "grid.arrange(p) %>% print\n",
    "dev.off()"
   ]
  },
  {
   "cell_type": "markdown",
   "metadata": {},
   "source": [
    "### intra vs interspecific variation"
   ]
  },
  {
   "cell_type": "code",
   "execution_count": 505,
   "metadata": {
    "collapsed": false
   },
   "outputs": [
    {
     "data": {
      "image/png": "[encoded data removed]"
     },
     "metadata": {},
     "output_type": "display_data"
    }
   ],
   "source": [
    "%%R\n",
    "# define subsets of genotype vs within species vs between species\n",
    "# phy dist = 0.00, 0.0002, > 0.0002\n",
    "Dist %>%\n",
    "  mutate(Related = ifelse(phy_Dist == 0, \"Self\",\n",
    "               ifelse(phy_Dist == 0.0002, \"Intra-specific\", \"Inter-specific\"))) %>%\n",
    "    group_by(Related) %>%\n",
    "    summarise(w_Unif = mean(w_Unif_Dist),\n",
    "              w_Unif.sd = sd(w_Unif_Dist),\n",
    "            w_Unif.se = sd(w_Unif_Dist)/sqrt(length(w_Unif_Dist)),\n",
    "             n = length(w_Unif_Dist)) %>% \n",
    "\n",
    "    arrange(w_Unif) %>%\n",
    "\n",
    "    mutate(Related = factor(Related, Related)) %>%\n",
    "\n",
    "    ggplot(aes(x = Related, y = w_Unif))  +\n",
    "        geom_bar(stat = \"identity\") +\n",
    "      geom_errorbar(aes(y = w_Unif,\n",
    "                  ymin = w_Unif - w_Unif.sd, ymax = w_Unif + w_Unif.sd),\n",
    "                   colour = 'black', width = 0.4) +\n",
    "        theme(axis.title.x = element_blank())+ \n",
    "        ylab(\"Weighted UniFrac\") +\n",
    "        ggtitle(\"Intra- and Inter-specific Variation\") +\n",
    "        theme_bw(base_size = 16)+\n",
    "        theme(axis.title.x = element_blank()) +\n",
    "        theme(legend.position=\"none\")\n",
    "\n"
   ]
  },
  {
   "cell_type": "code",
   "execution_count": 496,
   "metadata": {
    "collapsed": false,
    "scrolled": true
   },
   "outputs": [
    {
     "data": {
      "image/png": "[encoded data removed]"
     },
     "metadata": {},
     "output_type": "display_data"
    }
   ],
   "source": [
    "%%R\n",
    "P = ggplot(df, aes(x = Related, y = w_Unif))  +\n",
    "        geom_bar(stat = \"identity\") + \n",
    "        geom_errorbar(data = df, aes(y = w_Unif,\n",
    "                  ymin = w_Unif - w_Unif.sd, ymax = w_Unif + w_Unif.sd),\n",
    "                   colour = 'black', width = 0.4) +\n",
    "        theme(axis.title.x = element_blank())+ \n",
    "        ylab(\"Weighted UniFrac\") +\n",
    "        ggtitle(\"Intra and Interspecific Variation\") +\n",
    "        theme_bw(base_size = 16)+\n",
    "        theme(axis.title.x = element_blank()) +\n",
    "        theme(legend.position=\"none\")\n",
    "P"
   ]
  },
  {
   "cell_type": "code",
   "execution_count": 33,
   "metadata": {
    "collapsed": false,
    "hide_input": true,
    "scrolled": true
   },
   "outputs": [
    {
     "data": {
      "image/png": "[encoded data removed]"
     },
     "metadata": {},
     "output_type": "display_data"
    }
   ],
   "source": [
    "%%R -w 500 -h 400\n",
    "p4 = Dist %>%\n",
    "    mutate(Related = ifelse(phy_Dist == 0, \"Self\",\n",
    "               ifelse(phy_Dist == 0.0002, \"Intra-specific\", #\"Interspecific\"))) %>%\n",
    "                ifelse(phy_Dist < 0.1, \"Within-Family\", \"Between-Families\")))) %>%\n",
    "\n",
    "\n",
    "    mutate(Related = factor(Related, c(\"Self\",\"Intra-specific\", \"Within-Family\", \"Between-Families\" ))) %>%\n",
    "\n",
    " ggplot(aes(x = Related, y = w_Unif_Dist))  +\n",
    "       geom_boxplot() +\n",
    "\n",
    "#         ylab(\"Weighted UniFrac\") +\n",
    "        #ggtitle(\"Intra- and Interspecific Variation\") +\n",
    "        theme_bw(base_size = 16)+\n",
    "        labs(y = \"Microbial community \\n weighted UniFrac distance\") +\n",
    "       # theme(axis.title.x = element_blank()) +\n",
    "       # theme(axis.title.y = element_blank()) +\n",
    "        theme(legend.position=\"none\")+ \n",
    "        xlab(\"Levels of Host Variation\")\n",
    "p4"
   ]
  },
  {
   "cell_type": "markdown",
   "metadata": {},
   "source": [
    "## Graph of otus showing different trends"
   ]
  },
  {
   "cell_type": "code",
   "execution_count": 36,
   "metadata": {
    "collapsed": false,
    "scrolled": false
   },
   "outputs": [
    {
     "data": {
      "text/plain": [
       "phyloseq-class experiment-level object\n",
       "otu_table()   OTU Table:         [ 6 taxa and 87 samples ]\n",
       "sample_data() Sample Data:       [ 87 samples by 56 sample variables ]\n",
       "tax_table()   Taxonomy Table:    [ 6 taxa by 8 taxonomic ranks ]\n",
       "phy_tree()    Phylogenetic Tree: [ 6 tips and 5 internal nodes ]\n"
      ]
     },
     "metadata": {},
     "output_type": "display_data"
    }
   ],
   "source": [
    "%%R\n",
    "phy.sub = prune_taxa(c(\"OTU.6\", \"OTU.3\", \"OTU.53\", \"OTU.9501\", \"OTU.256\", \"OTU.197\"),phy)\n",
    "phy.sub"
   ]
  },
  {
   "cell_type": "code",
   "execution_count": 38,
   "metadata": {
    "collapsed": false
   },
   "outputs": [
    {
     "name": "stderr",
     "output_type": "stream",
     "text": [
      "/opt/anaconda/lib/python2.7/site-packages/rpy2/robjects/functions.py:106: UserWarning: mean-dispersion relationship\n",
      "\n",
      "  res = super(Function, self).__call__(*new_args, **new_kwargs)\n",
      "/opt/anaconda/lib/python2.7/site-packages/rpy2/robjects/functions.py:106: UserWarning: final dispersion estimates, MLE betas: 38 workers\n",
      "\n",
      "  res = super(Function, self).__call__(*new_args, **new_kwargs)\n",
      "/opt/anaconda/lib/python2.7/site-packages/rpy2/robjects/functions.py:106: UserWarning: fitting model and testing: 38 workers\n",
      "\n",
      "  res = super(Function, self).__call__(*new_args, **new_kwargs)\n"
     ]
    }
   ],
   "source": [
    "%%R\n",
    "# phy\n",
    "sample_data(phy.sub)$DAP = as.factor(sample_data(phy.sub)$DAP)\n",
    "dds = phyloseq_to_deseq2(phy.sub, ~DAP)\n",
    "d_dds = DESeq2::DESeq(dds, parallel = TRUE)"
   ]
  },
  {
   "cell_type": "code",
   "execution_count": 39,
   "metadata": {
    "collapsed": false
   },
   "outputs": [],
   "source": [
    "%%R -w 800 -h 1000\n",
    "#Tinfo = as(tax_table(phy.sub), \"matrix\")\n",
    "p5 <- list()\n",
    "T = c(\"OTU.6\", \"OTU.3\", \"OTU.53\")\n",
    "for (i in T){\n",
    "  d = DESeq2::plotCounts(dds, gene=i, intgroup=c(\"DAP\", \"Type\"), returnData = TRUE)  \n",
    "p[[i]] = ggplot(d, aes(x=DAP, y=count, color = Type)) +\n",
    "  geom_point(position=position_jitter(w=0.1,h=0)) +\n",
    "  theme(legend.position=\"none\")\n",
    "    #ggtitle(paste(i, \"\\n\", Tinfo[i, 2], \"\\n\", Tinfo[i, 6], sep = \"\"))\n",
    "  }\n",
    "\n",
    "#legend = get_legend(p[1])\n",
    "#do.call(grid.arrange,p5)\n",
    "#"
   ]
  },
  {
   "cell_type": "code",
   "execution_count": 40,
   "metadata": {
    "collapsed": false
   },
   "outputs": [
    {
     "data": {
      "text/plain": [
       "Taxonomy Table:     [6 taxa by 8 taxonomic ranks]:\n",
       "         Rank1      Rank2            Rank3                \n",
       "OTU.53   \"Bacteria\" \"Proteobacteria\" \"Gammaproteobacteria\"\n",
       "OTU.9501 \"Bacteria\" \"Proteobacteria\" \"Betaproteobacteria\" \n",
       "OTU.256  \"Bacteria\" \"Proteobacteria\" \"Deltaproteobacteria\"\n",
       "OTU.197  \"Bacteria\" \"Actinobacteria\" \"Streptomycetales\"   \n",
       "OTU.3    \"Bacteria\" \"Actinobacteria\" \"Streptomycetales\"   \n",
       "OTU.6    \"Bacteria\" \"Actinobacteria\" \"MB-A2-108\"          \n",
       "         Rank4                  Rank5             Rank6          \n",
       "OTU.53   \"Xanthomonadales\"      \"Sinobacteraceae\" \"uncultured\"   \n",
       "OTU.9501 \"Burkholderiales\"      \"Comamonadaceae\"  NA             \n",
       "OTU.256  \"Myxococcales\"         \"Nannocystineae\"  \"Haliangiaceae\"\n",
       "OTU.197  \"Streptomycetaceae\"    \"Streptomyces\"    NA             \n",
       "OTU.3    \"Streptomycetaceae\"    \"Streptomyces\"    NA             \n",
       "OTU.6    \"uncultured_bacterium\" NA                NA             \n",
       "         Rank7                  Rank8                 \n",
       "OTU.53   \"uncultured_bacterium\" NA                    \n",
       "OTU.9501 NA                     NA                    \n",
       "OTU.256  \"Haliangium\"           \"uncultured_bacterium\"\n",
       "OTU.197  NA                     NA                    \n",
       "OTU.3    NA                     NA                    \n",
       "OTU.6    NA                     NA                    \n"
      ]
     },
     "metadata": {},
     "output_type": "display_data"
    }
   ],
   "source": [
    "%%R\n",
    "phy.sub %>% tax_table"
   ]
  },
  {
   "cell_type": "code",
   "execution_count": 41,
   "metadata": {
    "collapsed": false
   },
   "outputs": [
    {
     "data": {
      "image/png": "[encoded data removed]"
     },
     "metadata": {},
     "output_type": "display_data"
    }
   ],
   "source": [
    "%%R\n",
    "d = DESeq2::plotCounts(dds, gene=\"OTU.3\", intgroup=c(\"DAP\", \"Type\"), returnData = TRUE)  \n",
    "O.3 = ggplot(d, aes(x=DAP, y=count, color = Type)) +\n",
    "  geom_point(position=position_jitter(w=0.1,h=0)) +\n",
    "    theme_bw(base_size = 16)+\n",
    "    scale_y_log10() +\n",
    "    ggtitle(\"Streptomyces sp. A\") +\n",
    "  theme(legend.position=\"none\") +\n",
    "theme(axis.title.x = element_blank()) \n",
    "\n",
    "\n",
    "d = DESeq2::plotCounts(dds, gene=\"OTU.197\", intgroup=c(\"DAP\", \"Type\"), returnData = TRUE)  \n",
    "O.53 = ggplot(d, aes(x=DAP, y=count, color = Type)) +\n",
    "  geom_point(position=position_jitter(w=0.1,h=0)) +\n",
    "    theme_bw(base_size = 16)+\n",
    "    #scale_y_log10() +\n",
    "  theme(legend.position=\"none\") +\n",
    "    ggtitle(\"Streptomyces sp. B\") \n",
    "   # ylim(0,100)\n",
    "p5 = grid.arrange(O.3, O.53, ncol = 1)"
   ]
  },
  {
   "cell_type": "code",
   "execution_count": 50,
   "metadata": {
    "collapsed": false,
    "hide_input": true
   },
   "outputs": [
    {
     "name": "stdout",
     "output_type": "stream",
     "text": [
      "\n",
      "Error in arrangeGrob(...) : object 'p' not found\n"
     ]
    },
    {
     "name": "stderr",
     "output_type": "stream",
     "text": [
      "/opt/anaconda2/lib/python2.7/site-packages/rpy2/rinterface/__init__.py:185: RRuntimeWarning: Error in arrangeGrob(...) : object 'p' not found\n",
      "\n",
      "  warnings.warn(x, RRuntimeWarning)\n"
     ]
    }
   ],
   "source": [
    "%%R -w 800 -h 600\n",
    "grid.arrange(p,p1,p4,p5, ncol = 2)#layout_matrix = rbind(c(1, 1), c(2,3)))"
   ]
  },
  {
   "cell_type": "markdown",
   "metadata": {},
   "source": [
    "# GLS if self comparisons are removed"
   ]
  },
  {
   "cell_type": "code",
   "execution_count": 168,
   "metadata": {
    "collapsed": false,
    "scrolled": true
   },
   "outputs": [
    {
     "data": {
      "text/plain": [
       "[1] 3741   18\n",
       "[1] 3612   18\n"
      ]
     },
     "metadata": {},
     "output_type": "display_data"
    }
   ],
   "source": [
    "%%R\n",
    "dim(Dist) %>% print\n",
    "SubDist = filter(Dist, phy_Dist > 0.000)\n",
    "dim(SubDist)"
   ]
  },
  {
   "cell_type": "code",
   "execution_count": 29,
   "metadata": {
    "collapsed": false
   },
   "outputs": [
    {
     "data": {
      "text/plain": [
       "Generalized least squares fit by REML\n",
       "  Model: w_Unif_Dist ~ TimeDist \n",
       "  Data: SubDist \n",
       "        AIC       BIC   logLik\n",
       "  -12083.28 -12058.51 6045.638\n",
       "\n",
       "Correlation Structure: corMLPE\n",
       " Formula: ~PlotA + PlotB \n",
       " Parameter estimate(s):\n",
       "      Rho \n",
       "0.2870025 \n",
       "\n",
       "Coefficients:\n",
       "                 Value   Std.Error  t-value p-value\n",
       "(Intercept) 0.22880177 0.007721744 29.63084       0\n",
       "TimeDist    0.00153702 0.000081104 18.95123       0\n",
       "\n",
       " Correlation: \n",
       "         (Intr)\n",
       "TimeDist -0.164\n",
       "\n",
       "Standardized residuals:\n",
       "       Min         Q1        Med         Q3        Max \n",
       "-2.2697804 -0.7286537 -0.1499674  0.6031972  4.2756063 \n",
       "\n",
       "Residual standard error: 0.06601678 \n",
       "Degrees of freedom: 3612 total; 3610 residual\n"
      ]
     },
     "metadata": {},
     "output_type": "display_data"
    }
   ],
   "source": [
    "%%R\n",
    "\n",
    "fit_DS_t =  gls(w_Unif_Dist ~ TimeDist, \n",
    "             correlation = corMLPE(form= ~ PlotA + PlotB), data = SubDist)\n",
    "summary(fit_DS_t)"
   ]
  },
  {
   "cell_type": "code",
   "execution_count": 171,
   "metadata": {
    "collapsed": false
   },
   "outputs": [
    {
     "data": {
      "text/plain": [
       "Generalized least squares fit by REML\n",
       "  Model: w_Unif_Dist ~ I(TimeDist) + I(TimeDist^2) \n",
       "  Data: SubDist \n",
       "        AIC       BIC  logLik\n",
       "  -12095.62 -12064.66 6052.81\n",
       "\n",
       "Correlation Structure: corMLPE\n",
       " Formula: ~PlotA + PlotB \n",
       " Parameter estimate(s):\n",
       "      Rho \n",
       "0.2863537 \n",
       "\n",
       "Coefficients:\n",
       "                    Value   Std.Error   t-value p-value\n",
       "(Intercept)    0.22359182 0.007711557 28.994380       0\n",
       "I(TimeDist)    0.00260200 0.000192309 13.530346       0\n",
       "I(TimeDist^2) -0.00002865 0.000004696 -6.101232       0\n",
       "\n",
       " Correlation: \n",
       "              (Intr) I(TmD)\n",
       "I(TimeDist)   -0.169       \n",
       "I(TimeDist^2)  0.111 -0.908\n",
       "\n",
       "Standardized residuals:\n",
       "       Min         Q1        Med         Q3        Max \n",
       "-2.3250061 -0.7339531 -0.1356121  0.5938031  4.2627414 \n",
       "\n",
       "Residual standard error: 0.06559227 \n",
       "Degrees of freedom: 3612 total; 3609 residual\n"
      ]
     },
     "metadata": {},
     "output_type": "display_data"
    }
   ],
   "source": [
    "%%R\n",
    "\n",
    "fit_DS_tt =  gls(w_Unif_Dist ~ I(TimeDist) + I(TimeDist^2), \n",
    "             correlation = corMLPE(form= ~ PlotA + PlotB), data = SubDist)\n",
    "summary(fit_DS_tt)"
   ]
  },
  {
   "cell_type": "code",
   "execution_count": 172,
   "metadata": {
    "collapsed": false
   },
   "outputs": [
    {
     "data": {
      "text/plain": [
       "Generalized least squares fit by REML\n",
       "  Model: w_Unif_Dist ~ I(phy_Dist) + I(phy_Dist^2) \n",
       "  Data: SubDist \n",
       "        AIC       BIC   logLik\n",
       "  -11804.57 -11773.62 5907.286\n",
       "\n",
       "Correlation Structure: corMLPE\n",
       " Formula: ~PlotA + PlotB \n",
       " Parameter estimate(s):\n",
       "      Rho \n",
       "0.2446601 \n",
       "\n",
       "Coefficients:\n",
       "                   Value  Std.Error  t-value p-value\n",
       "(Intercept)    0.2307937 0.00726975 31.74712       0\n",
       "I(phy_Dist)    0.4674125 0.06482560  7.21031       0\n",
       "I(phy_Dist^2) -0.9154728 0.13588406 -6.73716       0\n",
       "\n",
       " Correlation: \n",
       "              (Intr) I(p_D)\n",
       "I(phy_Dist)   -0.352       \n",
       "I(phy_Dist^2)  0.330 -0.992\n",
       "\n",
       "Standardized residuals:\n",
       "       Min         Q1        Med         Q3        Max \n",
       "-2.3669375 -0.7290327 -0.1414150  0.6117753  4.3003563 \n",
       "\n",
       "Residual standard error: 0.06296981 \n",
       "Degrees of freedom: 3612 total; 3609 residual\n"
      ]
     },
     "metadata": {},
     "output_type": "display_data"
    }
   ],
   "source": [
    "%%R\n",
    "\n",
    "fit_DS_p =  gls(w_Unif_Dist ~ I(phy_Dist) + I(phy_Dist^2), \n",
    "             correlation = corMLPE(form= ~ PlotA + PlotB), data = SubDist)\n",
    "summary(fit_DS_p)\n"
   ]
  },
  {
   "cell_type": "code",
   "execution_count": 169,
   "metadata": {
    "collapsed": false
   },
   "outputs": [],
   "source": [
    "%%R\n",
    "\n",
    "fit_DS_tp =  gls(w_Unif_Dist ~ I(TimeDist) + I(TimeDist^2) + I(phy_Dist) + I(phy_Dist^2), \n",
    "             correlation = corMLPE(form= ~ PlotA + PlotB), data = SubDist)\n"
   ]
  },
  {
   "cell_type": "code",
   "execution_count": 170,
   "metadata": {
    "collapsed": false
   },
   "outputs": [
    {
     "data": {
      "text/plain": [
       "Generalized least squares fit by REML\n",
       "  Model: w_Unif_Dist ~ I(TimeDist) + I(TimeDist^2) + I(phy_Dist) + I(phy_Dist^2) \n",
       "  Data: SubDist \n",
       "        AIC       BIC   logLik\n",
       "  -12125.11 -12081.78 6069.555\n",
       "\n",
       "Correlation Structure: corMLPE\n",
       " Formula: ~PlotA + PlotB \n",
       " Parameter estimate(s):\n",
       "      Rho \n",
       "0.2702715 \n",
       "\n",
       "Coefficients:\n",
       "                   Value  Std.Error   t-value p-value\n",
       "(Intercept)    0.2111091 0.00763468 27.651333       0\n",
       "I(TimeDist)    0.0025015 0.00019271 12.980625       0\n",
       "I(TimeDist^2) -0.0000243 0.00000473 -5.129827       0\n",
       "I(phy_Dist)    0.3847232 0.06310220  6.096828       0\n",
       "I(phy_Dist^2) -0.8454835 0.13215860 -6.397492       0\n",
       "\n",
       " Correlation: \n",
       "              (Intr) I(TmD) I(TD^2 I(p_D)\n",
       "I(TimeDist)   -0.131                     \n",
       "I(TimeDist^2)  0.090 -0.897              \n",
       "I(phy_Dist)   -0.311 -0.107  0.103       \n",
       "I(phy_Dist^2)  0.295  0.100 -0.117 -0.991\n",
       "\n",
       "Standardized residuals:\n",
       "       Min         Q1        Med         Q3        Max \n",
       "-2.4077211 -0.7295179 -0.1332669  0.5933349  4.1830892 \n",
       "\n",
       "Residual standard error: 0.06298842 \n",
       "Degrees of freedom: 3612 total; 3607 residual\n"
      ]
     },
     "metadata": {},
     "output_type": "display_data"
    }
   ],
   "source": [
    "%%R\n",
    "summary(fit_DS_tp)"
   ]
  },
  {
   "cell_type": "code",
   "execution_count": 121,
   "metadata": {
    "collapsed": false
   },
   "outputs": [
    {
     "data": {
      "image/png": "[encoded data removed]"
     },
     "metadata": {},
     "output_type": "display_data"
    }
   ],
   "source": [
    "%%R -w 800 -h 600\n",
    "test <- function(x) {-.701*x ^ 2 + .435*x + .217}\n",
    "\n",
    "p = ggplot(SubDist, aes(y = w_Unif_Dist, x = phy_Dist)) \n",
    "p = p + geom_point(pch = 21) #aes(size = phy_Dist), shape = 1)\n",
    "#p = p + stat_smooth(method = \"lm\", se = FALSE)\n",
    "p = p + theme_bw(base_size = 24)\n",
    "p = p + theme(panel.border = element_blank()) \n",
    "p = p + theme(axis.line.x = element_line(color=\"black\", size = 1),\n",
    "    axis.line.y = element_line(color=\"black\", size = 1))\n",
    "\n",
    "# p = p + stat_smooth(method = lm, y ~ poly(x,2), se = FALSE)\n",
    "p = p + stat_function(fun = test)\n",
    "# p = p + stat_smooth(method = \"lm\", se = FALSE)\n",
    "p = p + labs(x = \"Plant phylogenetic distance\")\n",
    "p = p + labs(y = \"Microbial community \\n weighted UniFrac distance \\n self comparisons removed\")\n",
    "p"
   ]
  },
  {
   "cell_type": "markdown",
   "metadata": {},
   "source": [
    "# GLS if intraspecific and self comparisons are removed"
   ]
  },
  {
   "cell_type": "markdown",
   "metadata": {},
   "source": [
    "## Is sample date more informative than time once self and intra-specific comparisons are removed"
   ]
  },
  {
   "cell_type": "code",
   "execution_count": 36,
   "metadata": {
    "collapsed": false
   },
   "outputs": [
    {
     "data": {
      "text/plain": [
       "[1] 3741   18\n",
       "[1] 2716   18\n"
      ]
     },
     "metadata": {},
     "output_type": "display_data"
    }
   ],
   "source": [
    "%%R\n",
    "dim(Dist) %>% print\n",
    "SubDist = filter(Dist, phy_Dist > 0.003)\n",
    "dim(SubDist) %>% print\n"
   ]
  },
  {
   "cell_type": "code",
   "execution_count": 116,
   "metadata": {
    "collapsed": false
   },
   "outputs": [
    {
     "data": {
      "text/plain": [
       "Generalized least squares fit by REML\n",
       "  Model: w_Unif_Dist ~ SameDay \n",
       "  Data: SubDist \n",
       "        AIC       BIC   logLik\n",
       "  -8748.342 -8724.718 4378.171\n",
       "\n",
       "Correlation Structure: corMLPE\n",
       " Formula: ~PlotA + PlotB \n",
       " Parameter estimate(s):\n",
       "     Rho \n",
       "0.261462 \n",
       "\n",
       "Coefficients:\n",
       "                 Value   Std.Error  t-value p-value\n",
       "(Intercept) 0.21111869 0.008114730 26.01672       0\n",
       "SameDay1    0.04879541 0.003769404 12.94513       0\n",
       "\n",
       " Correlation: \n",
       "         (Intr)\n",
       "SameDay1 -0.437\n",
       "\n",
       "Standardized residuals:\n",
       "        Min          Q1         Med          Q3         Max \n",
       "-2.11673194 -0.57448135  0.04605114  0.75999517  4.44195150 \n",
       "\n",
       "Residual standard error: 0.06588294 \n",
       "Degrees of freedom: 2716 total; 2714 residual\n"
      ]
     },
     "metadata": {},
     "output_type": "display_data"
    }
   ],
   "source": [
    "%%R\n",
    "\n",
    "fit_ds1 =  gls(w_Unif_Dist ~ SameDay, \n",
    "             correlation = corMLPE(form= ~ PlotA + PlotB), data = SubDist)\n",
    "summary(fit_ds1)"
   ]
  },
  {
   "cell_type": "code",
   "execution_count": 37,
   "metadata": {
    "collapsed": false
   },
   "outputs": [
    {
     "data": {
      "text/plain": [
       "Generalized least squares fit by REML\n",
       "  Model: w_Unif_Dist ~ TimeDist \n",
       "  Data: SubDist \n",
       "        AIC       BIC   logLik\n",
       "  -8832.812 -8809.188 4420.406\n",
       "\n",
       "Correlation Structure: corMLPE\n",
       " Formula: ~PlotA + PlotB \n",
       " Parameter estimate(s):\n",
       "      Rho \n",
       "0.2690645 \n",
       "\n",
       "Coefficients:\n",
       "                 Value   Std.Error  t-value p-value\n",
       "(Intercept) 0.23104818 0.007555870 30.57863       0\n",
       "TimeDist    0.00148255 0.000090664 16.35215       0\n",
       "\n",
       " Correlation: \n",
       "         (Intr)\n",
       "TimeDist -0.21 \n",
       "\n",
       "Standardized residuals:\n",
       "        Min          Q1         Med          Q3         Max \n",
       "-2.28999174 -0.58080086  0.02360467  0.74334256  4.27966007 \n",
       "\n",
       "Residual standard error: 0.06577294 \n",
       "Degrees of freedom: 2716 total; 2714 residual\n"
      ]
     },
     "metadata": {},
     "output_type": "display_data"
    }
   ],
   "source": [
    "%%R\n",
    "\n",
    "fit_ds2 =  gls(w_Unif_Dist ~ TimeDist, \n",
    "             correlation = corMLPE(form= ~ PlotA + PlotB), data = SubDist)\n",
    "summary(fit_ds2)"
   ]
  },
  {
   "cell_type": "code",
   "execution_count": 38,
   "metadata": {
    "collapsed": false
   },
   "outputs": [
    {
     "data": {
      "text/plain": [
       "Generalized least squares fit by REML\n",
       "  Model: w_Unif_Dist ~ poly(TimeDist, 2) \n",
       "  Data: SubDist \n",
       "        AIC       BIC   logLik\n",
       "  -8901.364 -8871.835 4455.682\n",
       "\n",
       "Correlation Structure: corMLPE\n",
       " Formula: ~PlotA + PlotB \n",
       " Parameter estimate(s):\n",
       "      Rho \n",
       "0.2704501 \n",
       "\n",
       "Coefficients:\n",
       "                        Value  Std.Error  t-value p-value\n",
       "(Intercept)         0.2578574 0.00734522 35.10549       0\n",
       "poly(TimeDist, 2)1  0.8314166 0.06349334 13.09455       0\n",
       "poly(TimeDist, 2)2 -0.4543972 0.05766800 -7.87954       0\n",
       "\n",
       " Correlation: \n",
       "                   (Intr) p(TD,2)1\n",
       "poly(TimeDist, 2)1 0.012          \n",
       "poly(TimeDist, 2)2 0.006  0.324   \n",
       "\n",
       "Standardized residuals:\n",
       "       Min         Q1        Med         Q3        Max \n",
       "-2.3807145 -0.5754508  0.0334641  0.7583578  4.2436324 \n",
       "\n",
       "Residual standard error: 0.06522988 \n",
       "Degrees of freedom: 2716 total; 2713 residual\n"
      ]
     },
     "metadata": {},
     "output_type": "display_data"
    }
   ],
   "source": [
    "%%R\n",
    "fit_ds3 =  gls(w_Unif_Dist ~ poly(TimeDist, 2), \n",
    "             correlation = corMLPE(form= ~ PlotA + PlotB), data = SubDist)\n",
    "summary(fit_ds3)"
   ]
  },
  {
   "cell_type": "code",
   "execution_count": 164,
   "metadata": {
    "collapsed": false
   },
   "outputs": [
    {
     "data": {
      "text/plain": [
       "Generalized least squares fit by REML\n",
       "  Model: w_Unif_Dist ~ I(TimeDist) + I(TimeDist^2) \n",
       "  Data: SubDist \n",
       "        AIC       BIC   logLik\n",
       "  -8869.898 -8840.369 4439.949\n",
       "\n",
       "Correlation Structure: corMLPE\n",
       " Formula: ~PlotA + PlotB \n",
       " Parameter estimate(s):\n",
       "      Rho \n",
       "0.2704501 \n",
       "\n",
       "Coefficients:\n",
       "                    Value   Std.Error   t-value p-value\n",
       "(Intercept)    0.22087663 0.007620071 28.986164       0\n",
       "I(TimeDist)    0.00324065 0.000240428 13.478636       0\n",
       "I(TimeDist^2) -0.00004475 0.000005679 -7.879539       0\n",
       "\n",
       " Correlation: \n",
       "              (Intr) I(TmD)\n",
       "I(TimeDist)   -0.234       \n",
       "I(TimeDist^2)  0.169 -0.928\n",
       "\n",
       "Standardized residuals:\n",
       "       Min         Q1        Med         Q3        Max \n",
       "-2.3807145 -0.5754508  0.0334641  0.7583578  4.2436325 \n",
       "\n",
       "Residual standard error: 0.06522988 \n",
       "Degrees of freedom: 2716 total; 2713 residual\n"
      ]
     },
     "metadata": {},
     "output_type": "display_data"
    }
   ],
   "source": [
    "%%R\n",
    "fit_ds3 =  gls(w_Unif_Dist ~ I(TimeDist) + I(TimeDist^2), \n",
    "             correlation = corMLPE(form= ~ PlotA + PlotB), data = SubDist)\n",
    "summary(fit_ds3)"
   ]
  },
  {
   "cell_type": "code",
   "execution_count": 163,
   "metadata": {
    "collapsed": false
   },
   "outputs": [
    {
     "data": {
      "text/plain": [
       "Generalized least squares fit by REML\n",
       "  Model: w_Unif_Dist ~ I(phy_Dist) + I(phy_Dist^2) \n",
       "  Data: SubDist \n",
       "        AIC       BIC   logLik\n",
       "  -8603.568 -8574.039 4306.784\n",
       "\n",
       "Correlation Structure: corMLPE\n",
       " Formula: ~PlotA + PlotB \n",
       " Parameter estimate(s):\n",
       "      Rho \n",
       "0.2299531 \n",
       "\n",
       "Coefficients:\n",
       "                   Value  Std.Error   t-value p-value\n",
       "(Intercept)    0.2366985 0.00804425 29.424553   0e+00\n",
       "I(phy_Dist)    0.3651670 0.08627919  4.232388   0e+00\n",
       "I(phy_Dist^2) -0.7108636 0.17614636 -4.035642   1e-04\n",
       "\n",
       " Correlation: \n",
       "              (Intr) I(p_D)\n",
       "I(phy_Dist)   -0.535       \n",
       "I(phy_Dist^2)  0.514 -0.994\n",
       "\n",
       "Standardized residuals:\n",
       "         Min           Q1          Med           Q3          Max \n",
       "-2.229090837 -0.609663075 -0.007727679  0.741762512  4.232338518 \n",
       "\n",
       "Residual standard error: 0.06382855 \n",
       "Degrees of freedom: 2716 total; 2713 residual\n"
      ]
     },
     "metadata": {},
     "output_type": "display_data"
    }
   ],
   "source": [
    "%%R\n",
    "\n",
    "fit_ds4 =  gls(w_Unif_Dist ~ I(phy_Dist) + I(phy_Dist^2), \n",
    "             correlation = corMLPE(form= ~ PlotA + PlotB), data = SubDist)\n",
    "summary(fit_ds4)"
   ]
  },
  {
   "cell_type": "code",
   "execution_count": null,
   "metadata": {
    "collapsed": true
   },
   "outputs": [],
   "source": [
    "%%R\n",
    "fit_ds5 =  gls(w_Unif_Dist ~ I(TimeDist) + I(TimeDist^2) + I(phy_Dist) + I(phy_Dist^2), \n",
    "             correlation = corMLPE(form= ~ PlotA + PlotB), data = SubDist)\n",
    "summary(fit_ds5)"
   ]
  },
  {
   "cell_type": "code",
   "execution_count": 161,
   "metadata": {
    "collapsed": false,
    "scrolled": false
   },
   "outputs": [
    {
     "data": {
      "text/plain": [
       "Generalized least squares fit by REML\n",
       "  Model: w_Unif_Dist ~ I(TimeDist) + I(TimeDist^2) + I(phy_Dist) + I(phy_Dist^2) \n",
       "  Data: SubDist \n",
       "        AIC       BIC   logLik\n",
       "  -8890.868 -8849.533 4452.434\n",
       "\n",
       "Correlation Structure: corMLPE\n",
       " Formula: ~PlotA + PlotB \n",
       " Parameter estimate(s):\n",
       "      Rho \n",
       "0.2588424 \n",
       "\n",
       "Coefficients:\n",
       "                   Value  Std.Error   t-value p-value\n",
       "(Intercept)    0.2019245 0.00847352 23.830071       0\n",
       "I(TimeDist)    0.0032237 0.00023926 13.473800       0\n",
       "I(TimeDist^2) -0.0000412 0.00000570 -7.238221       0\n",
       "I(phy_Dist)    0.4358598 0.08391531  5.194044       0\n",
       "I(phy_Dist^2) -0.9380151 0.17165240 -5.464620       0\n",
       "\n",
       " Correlation: \n",
       "              (Intr) I(TmD) I(TD^2 I(p_D)\n",
       "I(TimeDist)   -0.200                     \n",
       "I(TimeDist^2)  0.138 -0.919              \n",
       "I(phy_Dist)   -0.499 -0.017  0.053       \n",
       "I(phy_Dist^2)  0.482  0.016 -0.066 -0.994\n",
       "\n",
       "Standardized residuals:\n",
       "         Min           Q1          Med           Q3          Max \n",
       "-2.384940977 -0.614320397 -0.008011826  0.722063925  4.119850818 \n",
       "\n",
       "Residual standard error: 0.06335431 \n",
       "Degrees of freedom: 2716 total; 2711 residual\n"
      ]
     },
     "metadata": {},
     "output_type": "display_data"
    }
   ],
   "source": [
    "%%R\n",
    "summary(fit_ds5)"
   ]
  },
  {
   "cell_type": "code",
   "execution_count": 166,
   "metadata": {
    "collapsed": false
   },
   "outputs": [
    {
     "data": {
      "image/png": "[encoded data removed]"
     },
     "metadata": {},
     "output_type": "display_data"
    }
   ],
   "source": [
    "%%R\n",
    "test <- function(x) {-.710*x ^ 2 + .365*x + .236}\n",
    "ps = ggplot(SubDist, aes(y = w_Unif_Dist, x = phy_Dist)) \n",
    "ps= ps + geom_point(pch = 21) #aes(size = phy_Dist), shape = 1)\n",
    "#p = p + stat_smooth(method = \"lm\", se = FALSE)\n",
    "ps = ps + theme_bw(base_size = 16)\n",
    "ps = ps + theme(panel.border = element_blank()) \n",
    "ps = ps + theme(axis.line.x = element_line(color=\"black\", size = 1),\n",
    "    axis.line.y = element_line(color=\"black\", size = 1))\n",
    "\n",
    "# p = p + stat_smooth(method = lm, y ~ poly(x,2), se = FALSE)\n",
    "ps = ps + stat_function(fun = test)\n",
    "# p = p + stat_smooth(method = \"lm\", se = FALSE)\n",
    "ps = ps + labs(x = \"Plant phylogenetic distance\")\n",
    "ps = ps + labs(y = \"Microbial community \\n weighted UniFrac distance\")\n",
    "ps"
   ]
  },
  {
   "cell_type": "markdown",
   "metadata": {},
   "source": [
    "# GLS if only same day plants are compared"
   ]
  },
  {
   "cell_type": "code",
   "execution_count": 670,
   "metadata": {
    "collapsed": false
   },
   "outputs": [
    {
     "data": {
      "text/plain": [
       "[1] 3741   22\n",
       "[1] 557  22\n",
       " [1] SETFA  75-062 B73    MS71   FAGES  Oh7B   B97    H99    Il14H  GLYMA \n",
       "[11] AMAPO  ERATE  ELCOR  SORSUD SORBI  HELAN  Ki3    Hp301  ECHCG  Tx303 \n",
       "[21] Mo18   ABUTH \n",
       "22 Levels: 75-062 ABUTH AMAPO B73 B97 ECHCG ELCOR ERATE FAGES GLYMA ... Tx303\n"
      ]
     },
     "metadata": {},
     "output_type": "display_data"
    }
   ],
   "source": [
    "%%R\n",
    "dim(Dist) %>% print\n",
    "SubDist = filter(Dist, SameDay == 0)\n",
    "\n",
    "\n",
    "dim(SubDist) %>% print\n",
    "SubDist$PlantA %>% unique\n"
   ]
  },
  {
   "cell_type": "code",
   "execution_count": 671,
   "metadata": {
    "collapsed": false
   },
   "outputs": [
    {
     "data": {
      "text/plain": [
       "Generalized least squares fit by REML\n",
       "  Model: w_Unif_Dist ~ phy_Dist \n",
       "  Data: SubDist \n",
       "        AIC       BIC   logLik\n",
       "  -1845.611 -1828.335 926.8054\n",
       "\n",
       "Correlation Structure: corMLPE\n",
       " Formula: ~PlotA + PlotB \n",
       " Parameter estimate(s):\n",
       "      Rho \n",
       "0.2034893 \n",
       "\n",
       "Coefficients:\n",
       "                Value   Std.Error  t-value p-value\n",
       "(Intercept) 0.1981190 0.005544482 35.73264       0\n",
       "phy_Dist    0.1173023 0.022145088  5.29699       0\n",
       "\n",
       " Correlation: \n",
       "         (Intr)\n",
       "phy_Dist -0.243\n",
       "\n",
       "Standardized residuals:\n",
       "       Min         Q1        Med         Q3        Max \n",
       "-1.9257419 -0.6865501 -0.1091856  0.6224320  3.4666207 \n",
       "\n",
       "Residual standard error: 0.05195799 \n",
       "Degrees of freedom: 557 total; 555 residual\n"
      ]
     },
     "metadata": {},
     "output_type": "display_data"
    }
   ],
   "source": [
    "%%R\n",
    "fitSameDay0_a =  gls(w_Unif_Dist ~ phy_Dist, correlation = corMLPE(form= ~ PlotA + PlotB), data = SubDist)\n",
    "summary(fitSameDay0_a)"
   ]
  },
  {
   "cell_type": "code",
   "execution_count": 672,
   "metadata": {
    "collapsed": false,
    "scrolled": true
   },
   "outputs": [
    {
     "data": {
      "text/plain": [
       "Generalized least squares fit by REML\n",
       "  Model: w_Unif_Dist ~ poly(phy_Dist, 2) \n",
       "  Data: SubDist \n",
       "        AIC       BIC   logLik\n",
       "  -1857.397 -1835.812 933.6987\n",
       "\n",
       "Correlation Structure: corMLPE\n",
       " Formula: ~PlotA + PlotB \n",
       " Parameter estimate(s):\n",
       "     Rho \n",
       "0.203791 \n",
       "\n",
       "Coefficients:\n",
       "                        Value  Std.Error  t-value p-value\n",
       "(Intercept)         0.2042236 0.00532399 38.35910   0e+00\n",
       "poly(phy_Dist, 2)1  0.2647764 0.05357727  4.94195   0e+00\n",
       "poly(phy_Dist, 2)2 -0.2274949 0.05668382 -4.01340   1e-04\n",
       "\n",
       " Correlation: \n",
       "                   (Intr) p(_D,2)1\n",
       "poly(phy_Dist, 2)1 -0.064         \n",
       "poly(phy_Dist, 2)2 -0.033  0.100  \n",
       "\n",
       "Standardized residuals:\n",
       "       Min         Q1        Med         Q3        Max \n",
       "-1.9880361 -0.6952600 -0.1074439  0.5571841  3.5120538 \n",
       "\n",
       "Residual standard error: 0.0512834 \n",
       "Degrees of freedom: 557 total; 554 residual\n"
      ]
     },
     "metadata": {},
     "output_type": "display_data"
    }
   ],
   "source": [
    "%%R\n",
    "fitSameDay0_b =  gls(w_Unif_Dist ~ poly(phy_Dist,2), \n",
    "             correlation = corMLPE(form= ~ PlotA + PlotB), data = SubDist)\n",
    "summary(fitSameDay0_b)"
   ]
  },
  {
   "cell_type": "code",
   "execution_count": 677,
   "metadata": {
    "collapsed": false,
    "scrolled": true
   },
   "outputs": [
    {
     "data": {
      "text/plain": [
       "[1] 3741   22\n",
       "Generalized least squares fit by REML\n",
       "  Model: w_Unif_Dist ~ poly(phy_Dist, 2) \n",
       "  Data: SubDist \n",
       "        AIC       BIC   logLik\n",
       "  -1465.722 -1445.461 737.8609\n",
       "\n",
       "Correlation Structure: corMLPE\n",
       " Formula: ~PlotA + PlotB \n",
       " Parameter estimate(s):\n",
       "      Rho \n",
       "0.2501031 \n",
       "\n",
       "Coefficients:\n",
       "                        Value  Std.Error  t-value p-value\n",
       "(Intercept)         0.2125537 0.00623859 34.07080  0.0000\n",
       "poly(phy_Dist, 2)1  0.2610183 0.08379096  3.11511  0.0020\n",
       "poly(phy_Dist, 2)2 -0.1422964 0.08719410 -1.63195  0.1034\n",
       "\n",
       " Correlation: \n",
       "                   (Intr) p(_D,2)1\n",
       "poly(phy_Dist, 2)1 -0.217         \n",
       "poly(phy_Dist, 2)2 -0.004 -0.008  \n",
       "\n",
       "Standardized residuals:\n",
       "       Min         Q1        Med         Q3        Max \n",
       "-1.9310926 -0.7330344 -0.1046053  0.5836328  3.3770178 \n",
       "\n",
       "Residual standard error: 0.05122291 \n",
       "Degrees of freedom: 428 total; 425 residual\n"
      ]
     },
     "metadata": {},
     "output_type": "display_data"
    }
   ],
   "source": [
    "%%R\n",
    "dim(Dist) %>% print\n",
    "SubDist = filter(Dist, SameDay == 0 & phy_Dist > 0.000)\n",
    "dim(SubDist)\n",
    "\n",
    "\n",
    "fitSD_dropself_a =  gls(w_Unif_Dist ~ poly(phy_Dist,2), \n",
    "             correlation = corMLPE(form= ~ PlotA + PlotB), data = SubDist)\n",
    "summary(fitSD_dropself_a)"
   ]
  },
  {
   "cell_type": "code",
   "execution_count": 678,
   "metadata": {
    "collapsed": false
   },
   "outputs": [
    {
     "data": {
      "image/png": "[encoded data removed]"
     },
     "metadata": {},
     "output_type": "display_data"
    }
   ],
   "source": [
    "%%R -w 800 -h 600\n",
    "#test <- function(x) {-.858*x ^ 2 + .69*x + .213}\n",
    "\n",
    "               \n",
    "p = ggplot(SubDist, aes(y = w_Unif_Dist, x = phy_Dist)) \n",
    "p = p + geom_point(pch = 21) #aes(size = phy_Dist), shape = 1)\n",
    "p = p + stat_smooth(method = \"lm\", se = FALSE)\n",
    "p = p + theme_bw(base_size = 24)\n",
    "p = p + theme(panel.border = element_blank()) \n",
    "p = p + theme(axis.line.x = element_line(color=\"black\", size = 1),\n",
    "    axis.line.y = element_line(color=\"black\", size = 1))\n",
    "\n",
    "# p = p + stat_smooth(method = lm, y ~ poly(x,2), se = FALSE)\n",
    "# p = p + stat_function(fun = test)\n",
    "# p = p + stat_smooth(method = \"lm\", se = FALSE)\n",
    "p = p + labs(x = \"Plant phylogenetic distance\")\n",
    "p = p + labs(y = \"Microbial community \\n weighted UniFrac distance\")\n",
    "p_SD_dropself = p\n",
    "p_SD_dropself"
   ]
  },
  {
   "cell_type": "markdown",
   "metadata": {},
   "source": [
    "# GLS on species comparisons"
   ]
  },
  {
   "cell_type": "code",
   "execution_count": 93,
   "metadata": {
    "collapsed": false
   },
   "outputs": [
    {
     "data": {
      "text/plain": [
       "[1] 3741   18\n",
       "[1] 996  18\n"
      ]
     },
     "metadata": {},
     "output_type": "display_data"
    }
   ],
   "source": [
    "%%R\n",
    "dim(Dist) %>% print\n",
    "SubDist = filter(Dist, phy_Dist > 0.003)\n",
    "SubDist = filter(SubDist, PlantA %in% c(\"B73\",   \"ERATE\", \n",
    " \"ELCOR\",  \"SORSUD\",    \"SORBI\", \"HELAN\", \"FAGES\", \"AMAPO\", \"ECHCG\", \"GLYMA\", \"SETFA\", \"ABUTH\") &\n",
    "                PlantB %in% c(\"B73\",   \"ERATE\", \n",
    " \"ELCOR\",  \"SORSUD\",    \"SORBI\", \"HELAN\", \"FAGES\", \"AMAPO\", \"ECHCG\", \"GLYMA\", \"SETFA\", \"ABUTH\"))\n",
    "dim(SubDist) %>% print\n",
    "\n"
   ]
  },
  {
   "cell_type": "code",
   "execution_count": 94,
   "metadata": {
    "collapsed": true
   },
   "outputs": [],
   "source": [
    "%%R\n",
    "fit_t =  gls(w_Unif_Dist ~ TimeDist, \n",
    "             correlation = corMLPE(form= ~ PlotA + PlotB), data = SubDist)"
   ]
  },
  {
   "cell_type": "code",
   "execution_count": 98,
   "metadata": {
    "collapsed": false
   },
   "outputs": [
    {
     "data": {
      "text/plain": [
       "Generalized least squares fit by REML\n",
       "  Model: w_Unif_Dist ~ TimeDist \n",
       "  Data: SubDist \n",
       "        AIC       BIC   logLik\n",
       "  -3044.262 -3024.655 1526.131\n",
       "\n",
       "Correlation Structure: corMLPE\n",
       " Formula: ~PlotA + PlotB \n",
       " Parameter estimate(s):\n",
       "      Rho \n",
       "0.2616003 \n",
       "\n",
       "Coefficients:\n",
       "                 Value   Std.Error  t-value p-value\n",
       "(Intercept) 0.25699992 0.010813148 23.76735       0\n",
       "TimeDist    0.00157976 0.000134793 11.71992       0\n",
       "\n",
       " Correlation: \n",
       "         (Intr)\n",
       "TimeDist -0.246\n",
       "\n",
       "Standardized residuals:\n",
       "       Min         Q1        Med         Q3        Max \n",
       "-2.4870127 -0.7483588 -0.1053911  0.6205608  3.6395720 \n",
       "\n",
       "Residual standard error: 0.06948877 \n",
       "Degrees of freedom: 996 total; 994 residual\n"
      ]
     },
     "metadata": {},
     "output_type": "display_data"
    }
   ],
   "source": [
    "%%R\n",
    "summary(fit_t)"
   ]
  },
  {
   "cell_type": "code",
   "execution_count": 109,
   "metadata": {
    "collapsed": false
   },
   "outputs": [],
   "source": [
    "%%R\n",
    "fit_t1  =  gls(w_Unif_Dist ~ SameDay, \n",
    "             correlation = corMLPE(form= ~ PlotA + PlotB), data = SubDist)"
   ]
  },
  {
   "cell_type": "code",
   "execution_count": 97,
   "metadata": {
    "collapsed": false
   },
   "outputs": [],
   "source": [
    "%%R\n",
    "fit_t2 =  gls(w_Unif_Dist ~ TimeDist + SameDay, \n",
    "             correlation = corMLPE(form= ~ PlotA + PlotB), data = SubDist)"
   ]
  },
  {
   "cell_type": "code",
   "execution_count": 103,
   "metadata": {
    "collapsed": true
   },
   "outputs": [],
   "source": [
    "%%R\n",
    "fit_t3 =  gls(w_Unif_Dist ~ TimeDist + phy_Dist, \n",
    "             correlation = corMLPE(form= ~ PlotA + PlotB), data = SubDist)"
   ]
  },
  {
   "cell_type": "code",
   "execution_count": 106,
   "metadata": {
    "collapsed": true
   },
   "outputs": [],
   "source": [
    "%%R\n",
    "fit_t4 =  gls(w_Unif_Dist ~ TimeDist + phy_Dist + SameDay, \n",
    "             correlation = corMLPE(form= ~ PlotA + PlotB), data = SubDist)"
   ]
  },
  {
   "cell_type": "code",
   "execution_count": 113,
   "metadata": {
    "collapsed": true
   },
   "outputs": [],
   "source": [
    "%%R\n",
    "fit_t5 =  gls(w_Unif_Dist ~ phy_Dist + SameDay, \n",
    "             correlation = corMLPE(form= ~ PlotA + PlotB), data = SubDist)"
   ]
  },
  {
   "cell_type": "code",
   "execution_count": 114,
   "metadata": {
    "collapsed": false,
    "scrolled": true
   },
   "outputs": [
    {
     "data": {
      "text/plain": [
       "       Model df       AIC       BIC   logLik   Test   L.Ratio p-value\n",
       "fit_t      1  4 -3044.262 -3024.655 1526.131                         \n",
       "fit_t1     2  4 -3140.774 -3121.167 1574.387                         \n",
       "fit_t2     3  5 -3162.601 -3138.097 1586.300 2 vs 3  23.82681  <.0001\n",
       "fit_t4     4  6 -3162.196 -3132.798 1587.098 3 vs 4   1.59553  0.2065\n",
       "fit_t3     5  5 -3053.371 -3028.867 1531.685 4 vs 5 110.82533  <.0001\n",
       "fit_t5     6  5 -3133.507 -3109.003 1571.754                         \n"
      ]
     },
     "metadata": {},
     "output_type": "display_data"
    }
   ],
   "source": [
    "%%R\n",
    "anova(fit_t, fit_t1, fit_t2, fit_t4, fit_t3, fit_t5)"
   ]
  },
  {
   "cell_type": "markdown",
   "metadata": {},
   "source": [
    "* Once within species comparisons are removed and maize inbreds are removed only time and same day matter\n",
    "* This could be misleading since there are no dates left with comparisons"
   ]
  },
  {
   "cell_type": "markdown",
   "metadata": {
    "collapsed": true
   },
   "source": [
    "# GLS model on early subset of plants"
   ]
  },
  {
   "cell_type": "code",
   "execution_count": 420,
   "metadata": {
    "collapsed": false
   },
   "outputs": [
    {
     "data": {
      "text/plain": [
       " [1] \"75-062\" \"ABUTH\"  \"AMAPO\"  \"B73\"    \"B97\"    \"ECHCG\"  \"ELCOR\"  \"ERATE\" \n",
       " [9] \"FAGES\"  \"GLYMA\"  \"H99\"    \"HELAN\"  \"Hp301\"  \"Il14H\"  \"Ki3\"    \"Mo18\"  \n",
       "[17] \"MS71\"   \"Oh7B\"   \"SETFA\"  \"SORBI\"  \"SORSUD\" \"Tx303\" \n",
       "Importance of components:\n",
       "                          PC1    PC2     PC3     PC4\n",
       "Standard deviation     1.5581 1.1550 0.48701 0.02980\n",
       "Proportion of Variance 0.6069 0.3335 0.05929 0.00022\n",
       "Cumulative Proportion  0.6069 0.9405 0.99978 1.00000\n",
       "                        PC1         PC2       PC3        PC4\n",
       "log(SeedSize_mg)  0.5335000 -0.35762792 0.7637714  0.0642903\n",
       "A_Resid_logN     -0.5518070 -0.42993478 0.2407640 -0.6728282\n",
       "A_Resid_logCN    -0.1202952  0.82476307 0.4914675 -0.2524967\n",
       "A_Resid_logB     -0.6296157 -0.08381067 0.3422653  0.6923975\n"
      ]
     },
     "metadata": {},
     "output_type": "display_data"
    },
    {
     "data": {
      "image/png": "[encoded data removed]"
     },
     "metadata": {},
     "output_type": "display_data"
    }
   ],
   "source": [
    "%%R\n",
    "# PCA of annuals\n",
    "phy = physeq.Nneg #start from raw object\n",
    "\n",
    "sd = as(sample_data(phy), \"data.frame\")\n",
    "\n",
    "sd = left_join(sd, SS, by = \"Plant\")\n",
    "sd = left_join(sd, M_GDD, by = \"DAP\")\n",
    "\n",
    "data = filter(sd, DAP %in% c( \"53\", \"57\", \"61\"))\n",
    "data$Plant %>% levels %>% print\n",
    "\n",
    "fit = prcomp(~log(SeedSize_mg) + A_Resid_logN + A_Resid_logCN + A_Resid_logB, data = data, \n",
    "                 na.action = na.exclude, center = TRUE, scale = TRUE)\n",
    "\n",
    "summary(fit) %>% print\n",
    "fit$rotation %>% print\n",
    "biplot(fit)\n",
    " "
   ]
  },
  {
   "cell_type": "code",
   "execution_count": 421,
   "metadata": {
    "collapsed": false
   },
   "outputs": [
    {
     "data": {
      "image/png": "[encoded data removed]"
     },
     "metadata": {},
     "output_type": "display_data"
    }
   ],
   "source": [
    "%%R -w 600 -h 500\n",
    "S = predict(fit)[,1:3]\n",
    "E_Fit = cbind(data[,1:57], S)\n",
    "row.names(E_Fit) = E_Fit$X.sample\n",
    "sample_data(phy) = E_Fit\n",
    "\n",
    "\n",
    "p = ggplot(E_Fit, aes(PC1, PC2, fill = Plant))\n",
    "p = p + geom_point(pch = 21, size = 4)\n",
    "#p = p + scale_colour_brewer(palette=\"Paired\")\n",
    "p = p + ggtitle(\"PCA of Growth Residuals\")\n",
    "p"
   ]
  },
  {
   "cell_type": "code",
   "execution_count": 422,
   "metadata": {
    "collapsed": false
   },
   "outputs": [
    {
     "data": {
      "text/plain": [
       "              PlotA             PlotB    PC3Dist\n",
       "1 sample4-2.02_Nneg sample4-2.02_Nneg 0.00000000\n",
       "2 sample4-4.21_Nneg sample4-2.02_Nneg 0.33812225\n",
       "3 sample2-2.08_Nneg sample4-2.02_Nneg 0.61787646\n",
       "4 sample3-2.03_Nneg sample4-2.02_Nneg 0.03565969\n",
       "5 sample4-1.03_Nneg sample4-2.02_Nneg 0.51134978\n",
       "6 sample3-3.06_Nneg sample4-2.02_Nneg 0.86741853\n",
       "                             PlotComp\n",
       "1 sample4-2.02_Nneg-sample4-2.02_Nneg\n",
       "2 sample4-4.21_Nneg-sample4-2.02_Nneg\n",
       "3 sample2-2.08_Nneg-sample4-2.02_Nneg\n",
       "4 sample3-2.03_Nneg-sample4-2.02_Nneg\n",
       "5 sample4-1.03_Nneg-sample4-2.02_Nneg\n",
       "6 sample3-3.06_Nneg-sample4-2.02_Nneg\n",
       "              PlotA             PlotB     CNdist\n",
       "1 sample4-2.02_Nneg sample4-2.02_Nneg 0.00000000\n",
       "2 sample4-4.21_Nneg sample4-2.02_Nneg 0.09187120\n",
       "3 sample2-2.08_Nneg sample4-2.02_Nneg 0.05342428\n",
       "4 sample3-2.03_Nneg sample4-2.02_Nneg 0.34226220\n",
       "5 sample4-1.03_Nneg sample4-2.02_Nneg 0.17376359\n",
       "6 sample3-3.06_Nneg sample4-2.02_Nneg 0.11708672\n",
       "                             PlotComp\n",
       "1 sample4-2.02_Nneg-sample4-2.02_Nneg\n",
       "2 sample4-4.21_Nneg-sample4-2.02_Nneg\n",
       "3 sample2-2.08_Nneg-sample4-2.02_Nneg\n",
       "4 sample3-2.03_Nneg-sample4-2.02_Nneg\n",
       "5 sample4-1.03_Nneg-sample4-2.02_Nneg\n",
       "6 sample3-3.06_Nneg-sample4-2.02_Nneg\n",
       "              PlotA             PlotB      Bdist\n",
       "1 sample4-2.02_Nneg sample4-2.02_Nneg 0.00000000\n",
       "2 sample4-4.21_Nneg sample4-2.02_Nneg 0.09709233\n",
       "3 sample2-2.08_Nneg sample4-2.02_Nneg 0.87886047\n",
       "4 sample3-2.03_Nneg sample4-2.02_Nneg 0.62548221\n",
       "5 sample4-1.03_Nneg sample4-2.02_Nneg 0.63985774\n",
       "6 sample3-3.06_Nneg sample4-2.02_Nneg 0.37756993\n",
       "                             PlotComp\n",
       "1 sample4-2.02_Nneg-sample4-2.02_Nneg\n",
       "2 sample4-4.21_Nneg-sample4-2.02_Nneg\n",
       "3 sample2-2.08_Nneg-sample4-2.02_Nneg\n",
       "4 sample3-2.03_Nneg-sample4-2.02_Nneg\n",
       "5 sample4-1.03_Nneg-sample4-2.02_Nneg\n",
       "6 sample3-3.06_Nneg-sample4-2.02_Nneg\n",
       "              PlotA             PlotB   FunDist\n",
       "1 sample4-2.02_Nneg sample4-2.02_Nneg 0.0000000\n",
       "2 sample4-4.21_Nneg sample4-2.02_Nneg 0.5629324\n",
       "3 sample2-2.08_Nneg sample4-2.02_Nneg 3.0647645\n",
       "4 sample3-2.03_Nneg sample4-2.02_Nneg 3.2967295\n",
       "5 sample4-1.03_Nneg sample4-2.02_Nneg 2.6467680\n",
       "6 sample3-3.06_Nneg sample4-2.02_Nneg 2.4839708\n",
       "                             PlotComp\n",
       "1 sample4-2.02_Nneg-sample4-2.02_Nneg\n",
       "2 sample4-4.21_Nneg-sample4-2.02_Nneg\n",
       "3 sample2-2.08_Nneg-sample4-2.02_Nneg\n",
       "4 sample3-2.03_Nneg-sample4-2.02_Nneg\n",
       "5 sample4-1.03_Nneg-sample4-2.02_Nneg\n",
       "6 sample3-3.06_Nneg-sample4-2.02_Nneg\n",
       "              PlotA             PlotB   PC1Dist\n",
       "1 sample4-2.02_Nneg sample4-2.02_Nneg 0.0000000\n",
       "2 sample4-4.21_Nneg sample4-2.02_Nneg 0.2235571\n",
       "3 sample2-2.08_Nneg sample4-2.02_Nneg 2.7852183\n",
       "4 sample3-2.03_Nneg sample4-2.02_Nneg 2.6632558\n",
       "5 sample4-1.03_Nneg sample4-2.02_Nneg 1.9108783\n",
       "6 sample3-3.06_Nneg sample4-2.02_Nneg 2.1120570\n",
       "                             PlotComp   PC2Dist    PC3Dist   FunDist     CNdist\n",
       "1 sample4-2.02_Nneg-sample4-2.02_Nneg 0.0000000 0.00000000 0.0000000 0.00000000\n",
       "2 sample4-4.21_Nneg-sample4-2.02_Nneg 0.3906258 0.33812225 0.5629324 0.09187120\n",
       "3 sample2-2.08_Nneg-sample4-2.02_Nneg 1.1196291 0.61787646 3.0647645 0.05342428\n",
       "4 sample3-2.03_Nneg-sample4-2.02_Nneg 1.9427358 0.03565969 3.2967295 0.34226220\n",
       "5 sample4-1.03_Nneg-sample4-2.02_Nneg 1.7585353 0.51134978 2.6467680 0.17376359\n",
       "6 sample3-3.06_Nneg-sample4-2.02_Nneg 0.9782184 0.86741853 2.4839708 0.11708672\n",
       "       Bdist\n",
       "1 0.00000000\n",
       "2 0.09709233\n",
       "3 0.87886047\n",
       "4 0.62548221\n",
       "5 0.63985774\n",
       "6 0.37756993\n"
      ]
     },
     "metadata": {},
     "output_type": "display_data"
    }
   ],
   "source": [
    "%%R\n",
    "#measure distances on PC1\n",
    "sd = sample_data(phy)\n",
    "PC1dist = dist(sd[, \"PC1\"], method = \"euclidian\")\n",
    "    #melt matrix\n",
    "    PC1.m = melt(as.matrix(PC1dist))\n",
    "\n",
    "    #set column names and create comparison column\n",
    "     colnames(PC1.m) = c(\"PlotA\", \"PlotB\", \"PC1Dist\")\n",
    "    PC1.m$PlotComp = paste(PC1.m$PlotA, PC1.m$PlotB, sep = \"-\")\n",
    "    PC1.m %>% head\n",
    "\n",
    "#measure distances on PC2\n",
    "PC2dist = dist(sd[,\"PC2\"], method = \"euclidian\")\n",
    "    #melt matrix\n",
    "    PC2.m = melt(as.matrix(PC2dist))\n",
    "\n",
    "    #set column names and create comparison column\n",
    "     colnames(PC2.m) = c(\"PlotA\", \"PlotB\", \"PC2Dist\")\n",
    "    PC2.m$PlotComp = paste(PC2.m$PlotA, PC2.m$PlotB, sep = \"-\")\n",
    "    PC2.m %>% head\n",
    "\n",
    "#measure distances on PC3\n",
    "PC3dist = dist(sd[,\"PC3\"], method = \"euclidian\")\n",
    "    #melt matrix\n",
    "    PC3.m = melt(as.matrix(PC3dist))\n",
    "\n",
    "    #set column names and create comparison column\n",
    "     colnames(PC3.m) = c(\"PlotA\", \"PlotB\", \"PC3Dist\")\n",
    "    PC3.m$PlotComp = paste(PC3.m$PlotA, PC3.m$PlotB, sep = \"-\")\n",
    "    PC3.m %>% head %>% print\n",
    "\n",
    "#measure distances on residCN\n",
    "CNdist = dist(sd[,\"A_Resid_logCN\"], method = \"euclidian\")\n",
    "    #melt matrix\n",
    "    CN.m = melt(as.matrix(CNdist))\n",
    "\n",
    "    #set column names and create comparison column\n",
    "     colnames(CN.m) = c(\"PlotA\", \"PlotB\", \"CNdist\")\n",
    "    CN.m$PlotComp = paste(CN.m$PlotA, CN.m$PlotB, sep = \"-\")\n",
    "    CN.m %>% head %>% print\n",
    "\n",
    "#measure distances on residBiomass\n",
    "Bdist = dist(sd[,\"A_Resid_logB\"], method = \"euclidian\")\n",
    "    #melt matrix\n",
    "    B.m = melt(as.matrix(Bdist))\n",
    "\n",
    "    #set column names and create comparison column\n",
    "     colnames(B.m) = c(\"PlotA\", \"PlotB\", \"Bdist\")\n",
    "    B.m$PlotComp = paste(B.m$PlotA, B.m$PlotB, sep = \"-\")\n",
    "    B.m %>% head %>% print\n",
    "\n",
    "Fundist = dist(sd[,c(\"PC1\", \"PC2\", \"PC3\")], method = \"euclidian\")\n",
    "    Fun.m = melt(as.matrix(Fundist))\n",
    "\n",
    "    #set column names and create comparison column\n",
    "     colnames(Fun.m) = c(\"PlotA\", \"PlotB\", \"FunDist\")\n",
    "    Fun.m$PlotComp = paste(Fun.m$PlotA, PC3.m$PlotB, sep = \"-\")\n",
    "    Fun.m %>% head %>% print\n",
    "PCA.m = left_join(PC1.m, PC2.m[,c(3,4)], by = \"PlotComp\")\n",
    "PCA.m = left_join(PCA.m, PC3.m[,c(3,4)], by = \"PlotComp\")\n",
    "PCA.m = left_join(PCA.m, Fun.m[,c(3,4)], by = \"PlotComp\")\n",
    "PCA.m = left_join(PCA.m, CN.m[,c(3,4)], by = \"PlotComp\")\n",
    "PCA.m = left_join(PCA.m, B.m[,c(3,4)], by = \"PlotComp\")\n",
    "head(PCA.m)"
   ]
  },
  {
   "cell_type": "code",
   "execution_count": 423,
   "metadata": {
    "collapsed": false
   },
   "outputs": [
    {
     "data": {
      "text/plain": [
       "[1] 3741   21\n",
       "[1] 171  21\n",
       "[1] SETFA AMAPO GLYMA ABUTH ECHCG\n",
       "Levels: ABUTH AMAPO ECHCG GLYMA SETFA\n"
      ]
     },
     "metadata": {},
     "output_type": "display_data"
    }
   ],
   "source": [
    "%%R\n",
    "dim(Dist) %>% print\n",
    "SubDist = filter(Dist, DAY_A %in% c( \"53\", \"57\", \"61\") & DAY_B %in% c( \"53\", \"57\", \"61\"))\n",
    "\n",
    "\n",
    "dim(SubDist) %>% print\n",
    "SubDist$PlantA %>% unique"
   ]
  },
  {
   "cell_type": "code",
   "execution_count": 424,
   "metadata": {
    "collapsed": false
   },
   "outputs": [
    {
     "data": {
      "text/plain": [
       " [1] \"PlotA\"       \"PlotB\"       \"w_Unif_Dist\" \"PlantA\"      \"PlantB\"     \n",
       " [6] \"PlantComp\"   \"PlotComp\"    \"phy_Dist\"    \"LibraryA\"    \"DAY_A\"      \n",
       "[11] \"LibraryB\"    \"DAY_B\"       \"PC1Dist\"     \"PC2Dist\"     \"PC3Dist\"    \n",
       "[16] \"FunDist\"     \"CNdist\"      \"Bdist\"       \"TimeDist\"    \"LibraryComp\"\n",
       "[21] \"SameDay\"    \n",
       "[1] \"PlotA\"    \"PlotB\"    \"PC1Dist\"  \"PlotComp\" \"PC2Dist\"  \"PC3Dist\"  \"FunDist\" \n",
       "[8] \"CNdist\"   \"Bdist\"   \n"
      ]
     },
     "metadata": {},
     "output_type": "display_data"
    }
   ],
   "source": [
    "%%R\n",
    "colnames(SubDist) %>% print\n",
    "PCA.m %>% colnames %>% print"
   ]
  },
  {
   "cell_type": "code",
   "execution_count": 425,
   "metadata": {
    "collapsed": false
   },
   "outputs": [
    {
     "data": {
      "text/plain": [
       "                PlotA             PlotB w_Unif_Dist PlantA PlantB   PlantComp\n",
       "166 sample3-4.18_Nneg sample3-3.30_Nneg   0.2286788  ABUTH  ABUTH ABUTH-ABUTH\n",
       "167 sample2-2.10_Nneg sample3-3.30_Nneg   0.3542649  ECHCG  ABUTH ECHCG-ABUTH\n",
       "168 sample2-3.20_Nneg sample3-3.30_Nneg   0.1637463  ECHCG  ABUTH ECHCG-ABUTH\n",
       "169 sample3-1.20_Nneg sample3-3.30_Nneg   0.2223193  ABUTH  ABUTH ABUTH-ABUTH\n",
       "170 sample2-1.24_Nneg sample3-3.30_Nneg   0.2134040  ECHCG  ABUTH ECHCG-ABUTH\n",
       "171 sample3-2.19_Nneg sample3-3.30_Nneg   0.1662544  ABUTH  ABUTH ABUTH-ABUTH\n",
       "                               PlotComp phy_Dist LibraryA DAY_A LibraryB DAY_B\n",
       "166 sample3-4.18_Nneg-sample3-3.30_Nneg  0.00000        2    57        2    57\n",
       "167 sample2-2.10_Nneg-sample3-3.30_Nneg  0.35879        2    53        2    57\n",
       "168 sample2-3.20_Nneg-sample3-3.30_Nneg  0.35879        2    53        2    57\n",
       "169 sample3-1.20_Nneg-sample3-3.30_Nneg  0.00000        2    57        2    57\n",
       "170 sample2-1.24_Nneg-sample3-3.30_Nneg  0.35879        2    53        2    57\n",
       "171 sample3-2.19_Nneg-sample3-3.30_Nneg  0.00000        2    57        2    57\n",
       "    TimeDist LibraryComp SameDay   PC1Dist   PC2Dist    PC3Dist   FunDist\n",
       "166        0           0       0 0.3751265 0.3190071 0.11178544 0.5049568\n",
       "167        4           0       1 0.6878712 1.4894458 0.07167887 1.6421794\n",
       "168        4           0       1 0.4254656 1.8914868 0.07703002 1.9402775\n",
       "169        0           0       0 0.5330261 0.2085038 0.46580481 0.7379463\n",
       "170        4           0       1 0.6207936 2.9885496 0.14403331 3.0557420\n",
       "171        0           0       0 0.6734012 0.7360330 0.12609849 1.0055419\n",
       "        CNdist     Bdist\n",
       "166 0.02969991 0.1293350\n",
       "167 0.24231277 0.1337104\n",
       "168 0.29678558 0.0496952\n",
       "169 0.08114109 0.2146169\n",
       "170 0.41485010 0.2833452\n",
       "171 0.08300785 0.2205633\n"
      ]
     },
     "metadata": {},
     "output_type": "display_data"
    }
   ],
   "source": [
    "%%R\n",
    "SubDist = left_join(SubDist[,c(1:12,19:21)], PCA.m[,3:9], by = \"PlotComp\")\n",
    "tail(SubDist) %>% print\n"
   ]
  },
  {
   "cell_type": "code",
   "execution_count": 426,
   "metadata": {
    "collapsed": false
   },
   "outputs": [
    {
     "data": {
      "text/plain": [
       "[1] 61 53 57\n",
       "Levels: 53 57 61\n"
      ]
     },
     "metadata": {},
     "output_type": "display_data"
    }
   ],
   "source": [
    "%%R\n",
    "SubDist$DAY_A %>% unique"
   ]
  },
  {
   "cell_type": "code",
   "execution_count": 427,
   "metadata": {
    "collapsed": false
   },
   "outputs": [],
   "source": [
    "%%R\n",
    "#null model\n",
    "fit1=  gls(w_Unif_Dist ~ 1, \n",
    "             correlation = corMLPE(form= ~ PlotA + PlotB), data = SubDist)\n"
   ]
  },
  {
   "cell_type": "code",
   "execution_count": 428,
   "metadata": {
    "collapsed": false
   },
   "outputs": [
    {
     "data": {
      "text/plain": [
       "Generalized least squares fit by REML\n",
       "  Model: w_Unif_Dist ~ 1 \n",
       "  Data: SubDist \n",
       "        AIC       BIC   logLik\n",
       "  -572.9469 -563.5395 289.4734\n",
       "\n",
       "Correlation Structure: corMLPE\n",
       " Formula: ~PlotA + PlotB \n",
       " Parameter estimate(s):\n",
       "      Rho \n",
       "0.3437059 \n",
       "\n",
       "Coefficients:\n",
       "                Value  Std.Error  t-value p-value\n",
       "(Intercept) 0.2442186 0.01806515 13.51877       0\n",
       "\n",
       "Standardized residuals:\n",
       "       Min         Q1        Med         Q3        Max \n",
       "-1.9596585 -0.6918894 -0.1685355  0.7146741  2.7786870 \n",
       "\n",
       "Residual standard error: 0.06632499 \n",
       "Degrees of freedom: 171 total; 170 residual\n"
      ]
     },
     "metadata": {},
     "output_type": "display_data"
    }
   ],
   "source": [
    "%%R\n",
    "summary(fit1)"
   ]
  },
  {
   "cell_type": "code",
   "execution_count": 433,
   "metadata": {
    "collapsed": false
   },
   "outputs": [
    {
     "data": {
      "text/plain": [
       "Generalized least squares fit by REML\n",
       "  Model: w_Unif_Dist ~ SameDay \n",
       "  Data: SubDist \n",
       "        AIC       BIC   logLik\n",
       "  -578.4524 -565.9328 293.2262\n",
       "\n",
       "Correlation Structure: corMLPE\n",
       " Formula: ~PlotA + PlotB \n",
       " Parameter estimate(s):\n",
       "      Rho \n",
       "0.3583939 \n",
       "\n",
       "Coefficients:\n",
       "                 Value   Std.Error   t-value p-value\n",
       "(Intercept) 0.22766022 0.018828099 12.091513   0e+00\n",
       "SameDay1    0.02440937 0.005966594  4.091005   1e-04\n",
       "\n",
       " Correlation: \n",
       "         (Intr)\n",
       "SameDay1 -0.215\n",
       "\n",
       "Standardized residuals:\n",
       "       Min         Q1        Med         Q3        Max \n",
       "-1.7127356 -0.7151168 -0.1873108  0.6716921  2.6645671 \n",
       "\n",
       "Residual standard error: 0.06621917 \n",
       "Degrees of freedom: 171 total; 169 residual\n"
      ]
     },
     "metadata": {},
     "output_type": "display_data"
    }
   ],
   "source": [
    "%%R\n",
    "fit2=  gls(w_Unif_Dist ~ SameDay, \n",
    "             correlation = corMLPE(form= ~ PlotA + PlotB), data = SubDist)\n",
    "summary(fit2)"
   ]
  },
  {
   "cell_type": "code",
   "execution_count": 435,
   "metadata": {
    "collapsed": false
   },
   "outputs": [
    {
     "data": {
      "text/plain": [
       "Generalized least squares fit by REML\n",
       "  Model: w_Unif_Dist ~ SameDay + phy_Dist \n",
       "  Data: SubDist \n",
       "        AIC       BIC   logLik\n",
       "  -581.8775 -566.2577 295.9388\n",
       "\n",
       "Correlation Structure: corMLPE\n",
       " Formula: ~PlotA + PlotB \n",
       " Parameter estimate(s):\n",
       "      Rho \n",
       "0.3628187 \n",
       "\n",
       "Coefficients:\n",
       "                 Value   Std.Error   t-value p-value\n",
       "(Intercept) 0.21763188 0.018820106 11.563797  0.0000\n",
       "SameDay1    0.01226746 0.006772043  1.811485  0.0719\n",
       "phy_Dist    0.06743478 0.019637176  3.434037  0.0007\n",
       "\n",
       " Correlation: \n",
       "         (Intr) SamDy1\n",
       "SameDay1 -0.096       \n",
       "phy_Dist -0.155 -0.523\n",
       "\n",
       "Standardized residuals:\n",
       "       Min         Q1        Med         Q3        Max \n",
       "-1.6061678 -0.7523369 -0.1661927  0.6663387  2.6465692 \n",
       "\n",
       "Residual standard error: 0.06508475 \n",
       "Degrees of freedom: 171 total; 168 residual\n"
      ]
     },
     "metadata": {},
     "output_type": "display_data"
    }
   ],
   "source": [
    "%%R\n",
    "fit3=  gls(w_Unif_Dist ~ SameDay + phy_Dist, \n",
    "             correlation = corMLPE(form= ~ PlotA + PlotB), data = SubDist)\n",
    "summary(fit3)"
   ]
  },
  {
   "cell_type": "code",
   "execution_count": 438,
   "metadata": {
    "collapsed": false
   },
   "outputs": [
    {
     "data": {
      "text/plain": [
       "Generalized least squares fit by REML\n",
       "  Model: w_Unif_Dist ~ SameDay + poly(phy_Dist, 2) \n",
       "  Data: SubDist \n",
       "        AIC       BIC   logLik\n",
       "  -577.5192 -558.8113 294.7596\n",
       "\n",
       "Correlation Structure: corMLPE\n",
       " Formula: ~PlotA + PlotB \n",
       " Parameter estimate(s):\n",
       "      Rho \n",
       "0.3631226 \n",
       "\n",
       "Coefficients:\n",
       "                        Value  Std.Error   t-value p-value\n",
       "(Intercept)        0.23522773 0.01881830 12.499947  0.0000\n",
       "SameDay1           0.01325381 0.00691106  1.917769  0.0568\n",
       "poly(phy_Dist, 2)1 0.13798554 0.04058196  3.400170  0.0008\n",
       "poly(phy_Dist, 2)2 0.03339920 0.04538935  0.735838  0.4629\n",
       "\n",
       " Correlation: \n",
       "                   (Intr) SamDy1 p(_D,2)1\n",
       "SameDay1           -0.249                \n",
       "poly(phy_Dist, 2)1  0.130 -0.520         \n",
       "poly(phy_Dist, 2)2 -0.048  0.194 -0.037  \n",
       "\n",
       "Standardized residuals:\n",
       "       Min         Q1        Med         Q3        Max \n",
       "-1.6123310 -0.7762844 -0.1505322  0.6749722  2.6734668 \n",
       "\n",
       "Residual standard error: 0.06523585 \n",
       "Degrees of freedom: 171 total; 167 residual\n"
      ]
     },
     "metadata": {},
     "output_type": "display_data"
    }
   ],
   "source": [
    "%%R\n",
    "fit4=  gls(w_Unif_Dist ~   SameDay  + poly(phy_Dist,2), \n",
    "             correlation = corMLPE(form= ~ PlotA + PlotB), data = SubDist)\n",
    "summary(fit4)"
   ]
  },
  {
   "cell_type": "code",
   "execution_count": 443,
   "metadata": {
    "collapsed": false
   },
   "outputs": [
    {
     "data": {
      "text/plain": [
       "Generalized least squares fit by REML\n",
       "  Model: w_Unif_Dist ~ SameDay + PC1Dist + PC2Dist + PC3Dist \n",
       "  Data: SubDist \n",
       "        AIC       BIC   logLik\n",
       "  -548.1808 -526.3969 281.0904\n",
       "\n",
       "Correlation Structure: corMLPE\n",
       " Formula: ~PlotA + PlotB \n",
       " Parameter estimate(s):\n",
       "      Rho \n",
       "0.3609218 \n",
       "\n",
       "Coefficients:\n",
       "                 Value   Std.Error   t-value p-value\n",
       "(Intercept) 0.21870112 0.020964027 10.432210  0.0000\n",
       "SameDay1    0.02163216 0.006314605  3.425734  0.0008\n",
       "PC1Dist     0.00353764 0.003172665  1.115036  0.2664\n",
       "PC2Dist     0.00327086 0.003662883  0.892973  0.3732\n",
       "PC3Dist     0.00067957 0.010953650  0.062040  0.9506\n",
       "\n",
       " Correlation: \n",
       "         (Intr) SamDy1 PC1Dst PC2Dst\n",
       "SameDay1 -0.081                     \n",
       "PC1Dist  -0.246 -0.206              \n",
       "PC2Dist  -0.197 -0.254  0.031       \n",
       "PC3Dist  -0.295 -0.039  0.048  0.050\n",
       "\n",
       "Standardized residuals:\n",
       "       Min         Q1        Med         Q3        Max \n",
       "-1.6839937 -0.7294376 -0.1634110  0.7385262  2.5638398 \n",
       "\n",
       "Residual standard error: 0.06693602 \n",
       "Degrees of freedom: 171 total; 166 residual\n"
      ]
     },
     "metadata": {},
     "output_type": "display_data"
    }
   ],
   "source": [
    "%%R\n",
    "#H3: combined phylogenetic distance and functional\n",
    "fit5=  gls(w_Unif_Dist ~ SameDay +  PC1Dist + PC2Dist + PC3Dist, \n",
    "             correlation = corMLPE(form= ~ PlotA + PlotB), data = SubDist)\n",
    "summary(fit5)"
   ]
  },
  {
   "cell_type": "code",
   "execution_count": 445,
   "metadata": {
    "collapsed": false
   },
   "outputs": [
    {
     "data": {
      "text/plain": [
       "Generalized least squares fit by REML\n",
       "  Model: w_Unif_Dist ~ SameDay + phy_Dist + PC1Dist + PC2Dist + PC3Dist \n",
       "  Data: SubDist \n",
       "        AIC      BIC   logLik\n",
       "  -550.8366 -525.989 283.4183\n",
       "\n",
       "Correlation Structure: corMLPE\n",
       " Formula: ~PlotA + PlotB \n",
       " Parameter estimate(s):\n",
       "      Rho \n",
       "0.3577294 \n",
       "\n",
       "Coefficients:\n",
       "                  Value   Std.Error   t-value p-value\n",
       "(Intercept)  0.22083065 0.020179593 10.943266  0.0000\n",
       "SameDay1     0.01190287 0.006842225  1.739621  0.0838\n",
       "phy_Dist     0.07862309 0.024230233  3.244834  0.0014\n",
       "PC1Dist      0.00017759 0.003256979  0.054526  0.9566\n",
       "PC2Dist     -0.00404259 0.004213384 -0.959465  0.3387\n",
       "PC3Dist     -0.00199264 0.010684047 -0.186506  0.8523\n",
       "\n",
       " Correlation: \n",
       "         (Intr) SamDy1 phy_Ds PC1Dst PC2Dst\n",
       "SameDay1 -0.088                            \n",
       "phy_Dist  0.031 -0.438                     \n",
       "PC1Dist  -0.245 -0.036 -0.318              \n",
       "PC2Dist  -0.185  0.040 -0.533  0.195       \n",
       "PC3Dist  -0.299 -0.002 -0.075  0.069  0.083\n",
       "\n",
       "Standardized residuals:\n",
       "       Min         Q1        Med         Q3        Max \n",
       "-1.6141177 -0.7544166 -0.2037089  0.6761294  2.5938191 \n",
       "\n",
       "Residual standard error: 0.06446501 \n",
       "Degrees of freedom: 171 total; 165 residual\n"
      ]
     },
     "metadata": {},
     "output_type": "display_data"
    }
   ],
   "source": [
    "%%R\n",
    "fit6=  gls(w_Unif_Dist ~SameDay + phy_Dist + PC1Dist + PC2Dist + PC3Dist, \n",
    "             correlation = corMLPE(form= ~ PlotA + PlotB), data = SubDist)\n",
    "summary(fit6)"
   ]
  },
  {
   "cell_type": "code",
   "execution_count": 251,
   "metadata": {
    "collapsed": false
   },
   "outputs": [
    {
     "data": {
      "image/png": "[encoded data removed]"
     },
     "metadata": {},
     "output_type": "display_data"
    }
   ],
   "source": [
    "%%R\n",
    "p1 = ggplot(SubDist, aes(y = w_Unif_Dist, x = phy_Dist)) \n",
    "p1 = p1 + geom_point()\n",
    "#p = p + stat_smooth(method = \"lm\", formula = y~.29x -.236x^2 + .213, se = FALSE)\n",
    "p1 = p1 + theme_bw(base_size = 16)\n",
    "p1 = p1 + ggtitle(\"Early Season Plants \")\n",
    "#p = p + stat_function(fun = test)\n",
    "p1"
   ]
  },
  {
   "cell_type": "markdown",
   "metadata": {},
   "source": [
    "# Subset of late season plants"
   ]
  },
  {
   "cell_type": "code",
   "execution_count": 372,
   "metadata": {
    "collapsed": true
   },
   "outputs": [
    {
     "data": {
      "text/plain": [
       "[1] \"B73\"    \"ELCOR\"  \"ERATE\"  \"HELAN\"  \"SORBI\"  \"SORSUD\"\n",
       "Importance of components:\n",
       "                          PC1    PC2     PC3     PC4\n",
       "Standard deviation     1.4973 1.1837 0.59627 0.03612\n",
       "Proportion of Variance 0.5605 0.3503 0.08888 0.00033\n",
       "Cumulative Proportion  0.5605 0.9108 0.99967 1.00000\n",
       "                        PC1         PC2        PC3         PC4\n",
       "log(SeedSize_mg) -0.5549666  0.24710822 -0.7936365 -0.03302717\n",
       "A_Resid_logN     -0.4687695 -0.59539147  0.1686459 -0.63033538\n",
       "A_Resid_logCN    -0.2340853  0.76240075  0.4191288 -0.43391266\n",
       "A_Resid_logB     -0.6461202 -0.05649449  0.4074687  0.64288904\n"
      ]
     },
     "metadata": {},
     "output_type": "display_data"
    },
    {
     "data": {
      "image/png": "[encoded data removed]"
     },
     "metadata": {},
     "output_type": "display_data"
    }
   ],
   "source": [
    "%%R\n",
    "# PCA of annuals\n",
    "sd = as(sample_data(phy), \"data.frame\")\n",
    "\n",
    "# sd = left_join(sd, SS, by = \"Plant\")\n",
    "# sd = left_join(sd, M_GDD, by = \"DAP\")\n",
    "\n",
    "data = filter(sd, Plant %in% c(\"B73\", \"ERATE\", \n",
    " \"ELCOR\",  \"SORSUD\",    \"SORBI\", \"HELAN\")) \n",
    "data$Plant %>% levels %>% print\n",
    "\n",
    "fit = prcomp(~log(SeedSize_mg) + A_Resid_logN + A_Resid_logCN + A_Resid_logB, data = data, \n",
    "                 na.action = na.exclude, center = TRUE, scale = TRUE)\n",
    "\n",
    "summary(fit) %>% print\n",
    "fit$rotation %>% print\n",
    "biplot(fit)\n",
    " "
   ]
  },
  {
   "cell_type": "code",
   "execution_count": 371,
   "metadata": {
    "collapsed": true
   },
   "outputs": [
    {
     "data": {
      "text/plain": [
       " [1] \"PlotA\"       \"PlotB\"       \"w_Unif_Dist\" \"PlantA\"      \"PlantB\"     \n",
       " [6] \"PlantComp\"   \"PlotComp\"    \"phy_Dist\"    \"LibraryA\"    \"DAY_A\"      \n",
       "[11] \"LibraryB\"    \"DAY_B\"       \"TimeDist\"    \"LibraryComp\" \"SameDay\"    \n",
       "[16] \"PC1Dist\"     \"PC2Dist\"     \"PC3Dist\"     \"FunDist\"     \"CNdist\"     \n",
       "[21] \"Bdist\"      \n"
      ]
     },
     "metadata": {},
     "output_type": "display_data"
    }
   ],
   "source": [
    "%%R -w 600 -h 500\n",
    "colnames(data) # find numbers to drop"
   ]
  },
  {
   "cell_type": "code",
   "execution_count": 376,
   "metadata": {
    "collapsed": true
   },
   "outputs": [
    {
     "data": {
      "image/png": "[encoded data removed]"
     },
     "metadata": {},
     "output_type": "display_data"
    }
   ],
   "source": [
    "%%R -w 600 -h 500\n",
    "S = predict(fit)[,1:3]\n",
    "E_Fit = cbind(data[,1:57], S)\n",
    "row.names(E_Fit) = E_Fit$X.sample\n",
    "sample_data(phy) = E_Fit\n",
    "\n",
    "\n",
    "p = ggplot(E_Fit, aes(PC1, PC2, fill = Plant))\n",
    "p = p + geom_point(pch = 21, size = 4)\n",
    "#p = p + scale_colour_brewer(palette=\"Paired\")\n",
    "p = p + ggtitle(\"PCA of Growth Residuals\")\n",
    "p"
   ]
  },
  {
   "cell_type": "code",
   "execution_count": 335,
   "metadata": {
    "collapsed": true
   },
   "outputs": [
    {
     "data": {
      "text/plain": [
       "              PlotA             PlotB   PC3Dist\n",
       "1 sample6-2.26_Nneg sample6-2.26_Nneg 0.0000000\n",
       "2 sample6-3.18_Nneg sample6-2.26_Nneg 0.2178990\n",
       "3 sample5-3.11_Nneg sample6-2.26_Nneg 1.6020730\n",
       "4 sample5-4.06_Nneg sample6-2.26_Nneg 1.0377879\n",
       "5 sample5-2.18_Nneg sample6-2.26_Nneg 1.4008179\n",
       "6 sample6-4.30_Nneg sample6-2.26_Nneg 0.3642588\n",
       "                             PlotComp\n",
       "1 sample6-2.26_Nneg-sample6-2.26_Nneg\n",
       "2 sample6-3.18_Nneg-sample6-2.26_Nneg\n",
       "3 sample5-3.11_Nneg-sample6-2.26_Nneg\n",
       "4 sample5-4.06_Nneg-sample6-2.26_Nneg\n",
       "5 sample5-2.18_Nneg-sample6-2.26_Nneg\n",
       "6 sample6-4.30_Nneg-sample6-2.26_Nneg\n",
       "              PlotA             PlotB     CNdist\n",
       "1 sample6-2.26_Nneg sample6-2.26_Nneg 0.00000000\n",
       "2 sample6-3.18_Nneg sample6-2.26_Nneg 0.15821962\n",
       "3 sample5-3.11_Nneg sample6-2.26_Nneg 0.32359357\n",
       "4 sample5-4.06_Nneg sample6-2.26_Nneg 0.55719490\n",
       "5 sample5-2.18_Nneg sample6-2.26_Nneg 0.75189285\n",
       "6 sample6-4.30_Nneg sample6-2.26_Nneg 0.09339611\n",
       "                             PlotComp\n",
       "1 sample6-2.26_Nneg-sample6-2.26_Nneg\n",
       "2 sample6-3.18_Nneg-sample6-2.26_Nneg\n",
       "3 sample5-3.11_Nneg-sample6-2.26_Nneg\n",
       "4 sample5-4.06_Nneg-sample6-2.26_Nneg\n",
       "5 sample5-2.18_Nneg-sample6-2.26_Nneg\n",
       "6 sample6-4.30_Nneg-sample6-2.26_Nneg\n",
       "              PlotA             PlotB     Bdist\n",
       "1 sample6-2.26_Nneg sample6-2.26_Nneg 0.0000000\n",
       "2 sample6-3.18_Nneg sample6-2.26_Nneg 0.2739983\n",
       "3 sample5-3.11_Nneg sample6-2.26_Nneg 0.4122669\n",
       "4 sample5-4.06_Nneg sample6-2.26_Nneg 0.6928992\n",
       "5 sample5-2.18_Nneg sample6-2.26_Nneg 0.2791936\n",
       "6 sample6-4.30_Nneg sample6-2.26_Nneg 0.2230541\n",
       "                             PlotComp\n",
       "1 sample6-2.26_Nneg-sample6-2.26_Nneg\n",
       "2 sample6-3.18_Nneg-sample6-2.26_Nneg\n",
       "3 sample5-3.11_Nneg-sample6-2.26_Nneg\n",
       "4 sample5-4.06_Nneg-sample6-2.26_Nneg\n",
       "5 sample5-2.18_Nneg-sample6-2.26_Nneg\n",
       "6 sample6-4.30_Nneg-sample6-2.26_Nneg\n",
       "              PlotA             PlotB   FunDist\n",
       "1 sample6-2.26_Nneg sample6-2.26_Nneg 0.0000000\n",
       "2 sample6-3.18_Nneg sample6-2.26_Nneg 1.2355246\n",
       "3 sample5-3.11_Nneg sample6-2.26_Nneg 3.3092873\n",
       "4 sample5-4.06_Nneg sample6-2.26_Nneg 3.7853860\n",
       "5 sample5-2.18_Nneg sample6-2.26_Nneg 3.9381385\n",
       "6 sample6-4.30_Nneg sample6-2.26_Nneg 0.6312263\n",
       "                             PlotComp\n",
       "1 sample6-2.26_Nneg-sample6-2.26_Nneg\n",
       "2 sample6-3.18_Nneg-sample6-2.26_Nneg\n",
       "3 sample5-3.11_Nneg-sample6-2.26_Nneg\n",
       "4 sample5-4.06_Nneg-sample6-2.26_Nneg\n",
       "5 sample5-2.18_Nneg-sample6-2.26_Nneg\n",
       "6 sample6-4.30_Nneg-sample6-2.26_Nneg\n",
       "              PlotA             PlotB   PC1Dist\n",
       "1 sample6-2.26_Nneg sample6-2.26_Nneg 0.0000000\n",
       "2 sample6-3.18_Nneg sample6-2.26_Nneg 0.7403002\n",
       "3 sample5-3.11_Nneg sample6-2.26_Nneg 2.5784856\n",
       "4 sample5-4.06_Nneg sample6-2.26_Nneg 3.2043287\n",
       "5 sample5-2.18_Nneg sample6-2.26_Nneg 2.1126759\n",
       "6 sample6-4.30_Nneg sample6-2.26_Nneg 0.5152637\n",
       "                             PlotComp    PC2Dist   PC3Dist   FunDist     CNdist\n",
       "1 sample6-2.26_Nneg-sample6-2.26_Nneg 0.00000000 0.0000000 0.0000000 0.00000000\n",
       "2 sample6-3.18_Nneg-sample6-2.26_Nneg 0.96488162 0.2178990 1.2355246 0.15821962\n",
       "3 sample5-3.11_Nneg-sample6-2.26_Nneg 1.31763279 1.6020730 3.3092873 0.32359357\n",
       "4 sample5-4.06_Nneg-sample6-2.26_Nneg 1.72754773 1.0377879 3.7853860 0.55719490\n",
       "5 sample5-2.18_Nneg-sample6-2.26_Nneg 3.01384220 1.4008179 3.9381385 0.75189285\n",
       "6 sample6-4.30_Nneg-sample6-2.26_Nneg 0.01629619 0.3642588 0.6312263 0.09339611\n",
       "      Bdist\n",
       "1 0.0000000\n",
       "2 0.2739983\n",
       "3 0.4122669\n",
       "4 0.6928992\n",
       "5 0.2791936\n",
       "6 0.2230541\n"
      ]
     },
     "metadata": {},
     "output_type": "display_data"
    }
   ],
   "source": [
    "%%R\n",
    "#measure distances on PC1\n",
    "sd = sample_data(phy)\n",
    "PC1dist = dist(sd[, \"PC1\"], method = \"euclidian\")\n",
    "    #melt matrix\n",
    "    PC1.m = melt(as.matrix(PC1dist))\n",
    "\n",
    "    #set column names and create comparison column\n",
    "     colnames(PC1.m) = c(\"PlotA\", \"PlotB\", \"PC1Dist\")\n",
    "    PC1.m$PlotComp = paste(PC1.m$PlotA, PC1.m$PlotB, sep = \"-\")\n",
    "    PC1.m %>% head\n",
    "\n",
    "#measure distances on PC2\n",
    "PC2dist = dist(sd[,\"PC2\"], method = \"euclidian\")\n",
    "    #melt matrix\n",
    "    PC2.m = melt(as.matrix(PC2dist))\n",
    "\n",
    "    #set column names and create comparison column\n",
    "     colnames(PC2.m) = c(\"PlotA\", \"PlotB\", \"PC2Dist\")\n",
    "    PC2.m$PlotComp = paste(PC2.m$PlotA, PC2.m$PlotB, sep = \"-\")\n",
    "    PC2.m %>% head\n",
    "\n",
    "#measure distances on PC3\n",
    "PC3dist = dist(sd[,\"PC3\"], method = \"euclidian\")\n",
    "    #melt matrix\n",
    "    PC3.m = melt(as.matrix(PC3dist))\n",
    "\n",
    "    #set column names and create comparison column\n",
    "     colnames(PC3.m) = c(\"PlotA\", \"PlotB\", \"PC3Dist\")\n",
    "    PC3.m$PlotComp = paste(PC3.m$PlotA, PC3.m$PlotB, sep = \"-\")\n",
    "    PC3.m %>% head %>% print\n",
    "\n",
    "#measure distances on residCN\n",
    "CNdist = dist(sd[,\"A_Resid_logCN\"], method = \"euclidian\")\n",
    "    #melt matrix\n",
    "    CN.m = melt(as.matrix(CNdist))\n",
    "\n",
    "    #set column names and create comparison column\n",
    "     colnames(CN.m) = c(\"PlotA\", \"PlotB\", \"CNdist\")\n",
    "    CN.m$PlotComp = paste(CN.m$PlotA, CN.m$PlotB, sep = \"-\")\n",
    "    CN.m %>% head %>% print\n",
    "\n",
    "#measure distances on residBiomass\n",
    "Bdist = dist(sd[,\"A_Resid_logB\"], method = \"euclidian\")\n",
    "    #melt matrix\n",
    "    B.m = melt(as.matrix(Bdist))\n",
    "\n",
    "    #set column names and create comparison column\n",
    "     colnames(B.m) = c(\"PlotA\", \"PlotB\", \"Bdist\")\n",
    "    B.m$PlotComp = paste(B.m$PlotA, B.m$PlotB, sep = \"-\")\n",
    "    B.m %>% head %>% print\n",
    "\n",
    "Fundist = dist(sd[,c(\"PC1\", \"PC2\", \"PC3\")], method = \"euclidian\")\n",
    "    Fun.m = melt(as.matrix(Fundist))\n",
    "\n",
    "    #set column names and create comparison column\n",
    "     colnames(Fun.m) = c(\"PlotA\", \"PlotB\", \"FunDist\")\n",
    "    Fun.m$PlotComp = paste(Fun.m$PlotA, PC3.m$PlotB, sep = \"-\")\n",
    "    Fun.m %>% head %>% print\n",
    "PCA.m = left_join(PC1.m, PC2.m[,c(3,4)], by = \"PlotComp\")\n",
    "PCA.m = left_join(PCA.m, PC3.m[,c(3,4)], by = \"PlotComp\")\n",
    "PCA.m = left_join(PCA.m, Fun.m[,c(3,4)], by = \"PlotComp\")\n",
    "PCA.m = left_join(PCA.m, CN.m[,c(3,4)], by = \"PlotComp\")\n",
    "PCA.m = left_join(PCA.m, B.m[,c(3,4)], by = \"PlotComp\")\n",
    "head(PCA.m)"
   ]
  },
  {
   "cell_type": "code",
   "execution_count": 347,
   "metadata": {
    "collapsed": true
   },
   "outputs": [
    {
     "data": {
      "text/plain": [
       "[1] 3741   21\n",
       "[1] 276  21\n",
       "[1] B73    ERATE  ELCOR  SORSUD SORBI  HELAN \n",
       "Levels: B73 ELCOR ERATE HELAN SORBI SORSUD\n"
      ]
     },
     "metadata": {},
     "output_type": "display_data"
    }
   ],
   "source": [
    "%%R\n",
    "dim(Dist) %>% print\n",
    "SubDist = filter(Dist, PlantA %in% c(\"B73\",   \"ERATE\", \n",
    " \"ELCOR\",  \"SORSUD\",    \"SORBI\", \"HELAN\") & PlantB %in% c(\"B73\", \"ERATE\", \n",
    " \"ELCOR\",  \"SORSUD\",    \"SORBI\",  \"HELAN\"))\n",
    "dim(SubDist) %>% print\n",
    "SubDist$PlantA %>% unique"
   ]
  },
  {
   "cell_type": "code",
   "execution_count": 351,
   "metadata": {
    "collapsed": true
   },
   "outputs": [
    {
     "data": {
      "text/plain": [
       "                PlotA             PlotB w_Unif_Dist PlantA PlantB    PlantComp\n",
       "271 sample7-3.12_Nneg sample8-3.03_Nneg   0.3062711  HELAN  ELCOR  HELAN-ELCOR\n",
       "272 sample7-4.03_Nneg sample8-3.03_Nneg   0.3777692  HELAN  ELCOR  HELAN-ELCOR\n",
       "273 sample7-1.28_Nneg sample8-3.03_Nneg   0.3428638  HELAN  ELCOR  HELAN-ELCOR\n",
       "274 sample7-3.25_Nneg sample8-3.03_Nneg   0.2164129 SORSUD  ELCOR SORSUD-ELCOR\n",
       "275 sample8-4.01_Nneg sample8-3.03_Nneg   0.2115333  ELCOR  ELCOR  ELCOR-ELCOR\n",
       "276 sample7-4.14_Nneg sample8-3.03_Nneg   0.2893173  SORBI  ELCOR  SORBI-ELCOR\n",
       "                               PlotComp phy_Dist LibraryA DAY_A LibraryB DAY_B\n",
       "271 sample7-3.12_Nneg-sample8-3.03_Nneg  0.36765        2    84        2    88\n",
       "272 sample7-4.03_Nneg-sample8-3.03_Nneg  0.36765        2    84        2    88\n",
       "273 sample7-1.28_Nneg-sample8-3.03_Nneg  0.36765        2    84        2    88\n",
       "274 sample7-3.25_Nneg-sample8-3.03_Nneg  0.04779        2    84        2    88\n",
       "275 sample8-4.01_Nneg-sample8-3.03_Nneg  0.00000        2    88        2    88\n",
       "276 sample7-4.14_Nneg-sample8-3.03_Nneg  0.04779        2    84        2    88\n",
       "    TimeDist LibraryComp SameDay    PC1Dist  PC2Dist    PC3Dist  FunDist\n",
       "271        4           0       1 0.59050736 3.664044 0.44210255 3.737562\n",
       "272        4           0       1 1.36282174 2.410395 0.59310108 2.831794\n",
       "273        4           0       1 1.25352889 2.634933 0.58568179 2.976110\n",
       "274        4           0       1 0.23426206 2.848945 0.65068442 2.931681\n",
       "275        0           0       0 1.56470065 1.731257 0.55533979 2.398737\n",
       "276        4           0       1 0.08235865 2.316659 0.01140009 2.318150\n",
       "       CNdist      Bdist\n",
       "271 1.0598708 0.16404280\n",
       "272 0.8218207 0.43808510\n",
       "273 0.8671706 0.40568004\n",
       "274 0.8581387 0.10263196\n",
       "275 0.2448805 0.59658387\n",
       "276 0.6214847 0.05458953\n"
      ]
     },
     "metadata": {},
     "output_type": "display_data"
    }
   ],
   "source": [
    "%%R\n",
    "colnames(SubDist)\n",
    "PCA.m %>% colnames\n",
    "SubDist = left_join(SubDist[,c(1:12,19:21)], PCA.m[,3:9], by = \"PlotComp\")\n",
    "tail(SubDist) %>% print\n"
   ]
  },
  {
   "cell_type": "code",
   "execution_count": 352,
   "metadata": {
    "collapsed": false
   },
   "outputs": [],
   "source": [
    "%%R\n",
    "#null model\n",
    "fit1=  gls(w_Unif_Dist ~ 1, \n",
    "             correlation = corMLPE(form= ~ PlotA + PlotB), data = SubDist)"
   ]
  },
  {
   "cell_type": "code",
   "execution_count": 353,
   "metadata": {
    "collapsed": false
   },
   "outputs": [
    {
     "data": {
      "text/plain": [
       "Generalized least squares fit by REML\n",
       "  Model: w_Unif_Dist ~ 1 \n",
       "  Data: SubDist \n",
       "        AIC       BIC   logLik\n",
       "  -665.0201 -654.1698 335.5101\n",
       "\n",
       "Correlation Structure: corMLPE\n",
       " Formula: ~PlotA + PlotB \n",
       " Parameter estimate(s):\n",
       "      Rho \n",
       "0.1307399 \n",
       "\n",
       "Coefficients:\n",
       "                Value  Std.Error  t-value p-value\n",
       "(Intercept) 0.2681774 0.01204274 22.26881       0\n",
       "\n",
       "Standardized residuals:\n",
       "       Min         Q1        Med         Q3        Max \n",
       "-1.9814712 -0.6841784 -0.1141655  0.6066197  2.8341968 \n",
       "\n",
       "Residual standard error: 0.07699199 \n",
       "Degrees of freedom: 276 total; 275 residual\n"
      ]
     },
     "metadata": {},
     "output_type": "display_data"
    }
   ],
   "source": [
    "%%R\n",
    "summary(fit1)"
   ]
  },
  {
   "cell_type": "code",
   "execution_count": 354,
   "metadata": {
    "collapsed": false
   },
   "outputs": [
    {
     "data": {
      "text/plain": [
       "Generalized least squares fit by REML\n",
       "  Model: w_Unif_Dist ~ TimeDist + SameDay + LibraryComp \n",
       "  Data: SubDist \n",
       "        AIC       BIC   logLik\n",
       "  -869.3277 -847.6928 440.6638\n",
       "\n",
       "Correlation Structure: corMLPE\n",
       " Formula: ~PlotA + PlotB \n",
       " Parameter estimate(s):\n",
       "      Rho \n",
       "0.2552378 \n",
       "\n",
       "Coefficients:\n",
       "                  Value   Std.Error   t-value p-value\n",
       "(Intercept)  0.17954369 0.013293440 13.506187  0.0000\n",
       "TimeDist     0.00323169 0.001433143  2.254964  0.0249\n",
       "SameDay1     0.09952131 0.009430748 10.552854  0.0000\n",
       "LibraryComp1 0.00345826 0.009890229  0.349664  0.7269\n",
       "\n",
       " Correlation: \n",
       "             (Intr) TimDst SamDy1\n",
       "TimeDist     -0.078              \n",
       "SameDay1     -0.183 -0.548       \n",
       "LibraryComp1  0.055 -0.710  0.043\n",
       "\n",
       "Standardized residuals:\n",
       "        Min          Q1         Med          Q3         Max \n",
       "-2.05951849 -0.63649379 -0.05109346  0.70998688  2.78267265 \n",
       "\n",
       "Residual standard error: 0.05932584 \n",
       "Degrees of freedom: 276 total; 272 residual\n"
      ]
     },
     "metadata": {},
     "output_type": "display_data"
    }
   ],
   "source": [
    "%%R\n",
    "fit2=  gls(w_Unif_Dist ~ TimeDist + SameDay + LibraryComp, \n",
    "             correlation = corMLPE(form= ~ PlotA + PlotB), data = SubDist)\n",
    "summary(fit2)"
   ]
  },
  {
   "cell_type": "code",
   "execution_count": 355,
   "metadata": {
    "collapsed": false
   },
   "outputs": [
    {
     "data": {
      "text/plain": [
       "Generalized least squares fit by REML\n",
       "  Model: w_Unif_Dist ~ TimeDist + SameDay + LibraryComp + phy_Dist \n",
       "  Data: SubDist \n",
       "        AIC       BIC   logLik\n",
       "  -900.3415 -875.1266 457.1707\n",
       "\n",
       "Correlation Structure: corMLPE\n",
       " Formula: ~PlotA + PlotB \n",
       " Parameter estimate(s):\n",
       "      Rho \n",
       "0.2146269 \n",
       "\n",
       "Coefficients:\n",
       "                  Value   Std.Error   t-value p-value\n",
       "(Intercept)  0.16541040 0.011193372 14.777530  0.0000\n",
       "TimeDist     0.00364662 0.001324804  2.752573  0.0063\n",
       "SameDay1     0.08802806 0.008988500  9.793408  0.0000\n",
       "LibraryComp1 0.00329250 0.009222075  0.357024  0.7214\n",
       "phy_Dist     0.15981098 0.024533008  6.514121  0.0000\n",
       "\n",
       " Correlation: \n",
       "             (Intr) TimDst SamDy1 LbrrC1\n",
       "TimeDist     -0.089                     \n",
       "SameDay1     -0.169 -0.544              \n",
       "LibraryComp1  0.057 -0.702  0.031       \n",
       "phy_Dist     -0.202  0.033 -0.171  0.006\n",
       "\n",
       "Standardized residuals:\n",
       "        Min          Q1         Med          Q3         Max \n",
       "-2.24750636 -0.65451700 -0.08562476  0.56041635  2.65969617 \n",
       "\n",
       "Residual standard error: 0.0519146 \n",
       "Degrees of freedom: 276 total; 271 residual\n"
      ]
     },
     "metadata": {},
     "output_type": "display_data"
    }
   ],
   "source": [
    "%%R\n",
    "fit3=  gls(w_Unif_Dist ~ TimeDist + SameDay + LibraryComp + phy_Dist, \n",
    "             correlation = corMLPE(form= ~ PlotA + PlotB), data = SubDist)\n",
    "summary(fit3)"
   ]
  },
  {
   "cell_type": "code",
   "execution_count": 356,
   "metadata": {
    "collapsed": false
   },
   "outputs": [
    {
     "data": {
      "text/plain": [
       "Generalized least squares fit by REML\n",
       "  Model: w_Unif_Dist ~ TimeDist + SameDay + LibraryComp + poly(phy_Dist,      2) \n",
       "  Data: SubDist \n",
       "       AIC       BIC  logLik\n",
       "  -906.264 -877.4766 461.132\n",
       "\n",
       "Correlation Structure: corMLPE\n",
       " Formula: ~PlotA + PlotB \n",
       " Parameter estimate(s):\n",
       "      Rho \n",
       "0.2156526 \n",
       "\n",
       "Coefficients:\n",
       "                        Value  Std.Error   t-value p-value\n",
       "(Intercept)         0.1755202 0.01127249 15.570669  0.0000\n",
       "TimeDist            0.0054957 0.00142737  3.850244  0.0001\n",
       "SameDay1            0.0967115 0.00924638 10.459396  0.0000\n",
       "LibraryComp1       -0.0105369 0.01005832 -1.047580  0.2958\n",
       "poly(phy_Dist, 2)1  0.4405850 0.06199458  7.106830  0.0000\n",
       "poly(phy_Dist, 2)2  0.1781098 0.05588840  3.186883  0.0016\n",
       "\n",
       " Correlation: \n",
       "                   (Intr) TimDst SamDy1 LbrrC1 p(_D,2)1\n",
       "TimeDist           -0.182                              \n",
       "SameDay1           -0.282 -0.355                       \n",
       "LibraryComp1        0.169 -0.755 -0.100                \n",
       "poly(phy_Dist, 2)1  0.016  0.108 -0.105 -0.077         \n",
       "poly(phy_Dist, 2)2 -0.273  0.408  0.293 -0.432  0.192  \n",
       "\n",
       "Standardized residuals:\n",
       "        Min          Q1         Med          Q3         Max \n",
       "-2.24783296 -0.65216663 -0.06558773  0.59442156  2.80399504 \n",
       "\n",
       "Residual standard error: 0.05113535 \n",
       "Degrees of freedom: 276 total; 270 residual\n"
      ]
     },
     "metadata": {},
     "output_type": "display_data"
    }
   ],
   "source": [
    "%%R\n",
    "fit4=  gls(w_Unif_Dist ~ TimeDist + SameDay + LibraryComp + poly(phy_Dist,2), \n",
    "             correlation = corMLPE(form= ~ PlotA + PlotB), data = SubDist)\n",
    "summary(fit4)"
   ]
  },
  {
   "cell_type": "code",
   "execution_count": 378,
   "metadata": {
    "collapsed": false
   },
   "outputs": [
    {
     "data": {
      "text/plain": [
       "Generalized least squares fit by REML\n",
       "  Model: w_Unif_Dist ~ TimeDist + SameDay + LibraryComp + PC1Dist \n",
       "  Data: SubDist \n",
       "        AIC      BIC   logLik\n",
       "  -901.8768 -876.662 457.9384\n",
       "\n",
       "Correlation Structure: corMLPE\n",
       " Formula: ~PlotA + PlotB \n",
       " Parameter estimate(s):\n",
       "      Rho \n",
       "0.2304395 \n",
       "\n",
       "Coefficients:\n",
       "                   Value   Std.Error   t-value p-value\n",
       "(Intercept)   0.16482928 0.011583751 14.229353  0.0000\n",
       "TimeDist     -0.00152142 0.001488343 -1.022227  0.3076\n",
       "SameDay1      0.08788913 0.008881266  9.896014  0.0000\n",
       "LibraryComp1  0.03184962 0.010023614  3.177459  0.0017\n",
       "PC1Dist       0.02165622 0.003116164  6.949642  0.0000\n",
       "\n",
       " Correlation: \n",
       "             (Intr) TimDst SamDy1 LbrrC1\n",
       "TimeDist      0.016                     \n",
       "SameDay1     -0.161 -0.395              \n",
       "LibraryComp1 -0.025 -0.761 -0.039       \n",
       "PC1Dist      -0.187 -0.467 -0.175  0.412\n",
       "\n",
       "Standardized residuals:\n",
       "        Min          Q1         Med          Q3         Max \n",
       "-2.29992148 -0.61306651 -0.05617992  0.68437925  2.76111936 \n",
       "\n",
       "Residual standard error: 0.05260852 \n",
       "Degrees of freedom: 276 total; 271 residual\n"
      ]
     },
     "metadata": {},
     "output_type": "display_data"
    }
   ],
   "source": [
    "%%R\n",
    "#H3: combined phylogenetic distance and functional\n",
    "fit5=  gls(w_Unif_Dist ~ TimeDist + SameDay + LibraryComp  + PC1Dist, \n",
    "             correlation = corMLPE(form= ~ PlotA + PlotB), data = SubDist)\n",
    "summary(fit5)"
   ]
  },
  {
   "cell_type": "code",
   "execution_count": 379,
   "metadata": {
    "collapsed": false,
    "scrolled": true
   },
   "outputs": [
    {
     "data": {
      "text/plain": [
       "Generalized least squares fit by REML\n",
       "  Model: w_Unif_Dist ~ TimeDist + SameDay + LibraryComp + poly(phy_Dist,      2) + PC1Dist \n",
       "  Data: SubDist \n",
       "       AIC       BIC  logLik\n",
       "  -930.648 -898.2956 474.324\n",
       "\n",
       "Correlation Structure: corMLPE\n",
       " Formula: ~PlotA + PlotB \n",
       " Parameter estimate(s):\n",
       "      Rho \n",
       "0.1889258 \n",
       "\n",
       "Coefficients:\n",
       "                       Value  Std.Error   t-value p-value\n",
       "(Intercept)        0.1632054 0.01001765 16.291794  0.0000\n",
       "TimeDist           0.0011996 0.00150123  0.799092  0.4249\n",
       "SameDay1           0.0876705 0.00879333  9.970115  0.0000\n",
       "LibraryComp1       0.0149003 0.01027685  1.449887  0.1483\n",
       "poly(phy_Dist, 2)1 0.3762567 0.05832567  6.450962  0.0000\n",
       "poly(phy_Dist, 2)2 0.1581972 0.05278775  2.996854  0.0030\n",
       "PC1Dist            0.0184219 0.00294736  6.250308  0.0000\n",
       "\n",
       " Correlation: \n",
       "                   (Intr) TimDst SamDy1 LbrrC1 p(_D,2)1 p(_D,2)2\n",
       "TimeDist           -0.073                                       \n",
       "SameDay1           -0.268 -0.237                                \n",
       "LibraryComp1        0.080 -0.795 -0.158                         \n",
       "poly(phy_Dist, 2)1  0.050  0.181 -0.070 -0.144                  \n",
       "poly(phy_Dist, 2)2 -0.276  0.388  0.304 -0.419  0.194           \n",
       "PC1Dist            -0.200 -0.471 -0.148  0.405 -0.182   -0.063  \n",
       "\n",
       "Standardized residuals:\n",
       "         Min           Q1          Med           Q3          Max \n",
       "-2.524135508 -0.635036474 -0.007404583  0.553272236  2.757386997 \n",
       "\n",
       "Residual standard error: 0.04617979 \n",
       "Degrees of freedom: 276 total; 269 residual\n"
      ]
     },
     "metadata": {},
     "output_type": "display_data"
    }
   ],
   "source": [
    "%%R\n",
    "fit6=  gls(w_Unif_Dist ~ TimeDist + SameDay + LibraryComp + poly(phy_Dist,2)  + PC1Dist, \n",
    "             correlation = corMLPE(form= ~ PlotA + PlotB), data = SubDist)\n",
    "summary(fit6)"
   ]
  },
  {
   "cell_type": "code",
   "execution_count": 380,
   "metadata": {
    "collapsed": false
   },
   "outputs": [
    {
     "data": {
      "text/plain": [
       "Generalized least squares fit by REML\n",
       "  Model: w_Unif_Dist ~ SameDay + poly(phy_Dist, 2) + PC1Dist \n",
       "  Data: SubDist \n",
       "        AIC       BIC   logLik\n",
       "  -941.8657 -916.6509 477.9329\n",
       "\n",
       "Correlation Structure: corMLPE\n",
       " Formula: ~PlotA + PlotB \n",
       " Parameter estimate(s):\n",
       "      Rho \n",
       "0.1845845 \n",
       "\n",
       "Coefficients:\n",
       "                       Value  Std.Error   t-value p-value\n",
       "(Intercept)        0.1625334 0.01006010 16.156240   0e+00\n",
       "SameDay1           0.1064977 0.00704358 15.119819   0e+00\n",
       "poly(phy_Dist, 2)1 0.3678224 0.05831297  6.307729   0e+00\n",
       "poly(phy_Dist, 2)2 0.1749187 0.04864644  3.595714   4e-04\n",
       "PC1Dist            0.0190821 0.00264285  7.220260   0e+00\n",
       "\n",
       " Correlation: \n",
       "                   (Intr) SamDy1 p(_D,2)1 p(_D,2)2\n",
       "SameDay1           -0.342                         \n",
       "poly(phy_Dist, 2)1  0.065 -0.034                  \n",
       "poly(phy_Dist, 2)2 -0.272  0.412  0.139           \n",
       "PC1Dist            -0.272 -0.334 -0.111    0.163  \n",
       "\n",
       "Standardized residuals:\n",
       "       Min         Q1        Med         Q3        Max \n",
       "-2.4381118 -0.6407372 -0.0319276  0.5699355  2.9370905 \n",
       "\n",
       "Residual standard error: 0.04680051 \n",
       "Degrees of freedom: 276 total; 271 residual\n"
      ]
     },
     "metadata": {},
     "output_type": "display_data"
    }
   ],
   "source": [
    "%%R\n",
    "fit7=  gls(w_Unif_Dist ~  SameDay + poly(phy_Dist,2)  + PC1Dist, \n",
    "             correlation = corMLPE(form= ~ PlotA + PlotB), data = SubDist)\n",
    "summary(fit7)"
   ]
  },
  {
   "cell_type": "code",
   "execution_count": 360,
   "metadata": {
    "collapsed": false,
    "scrolled": true
   },
   "outputs": [
    {
     "data": {
      "text/plain": [
       "     Model df       AIC       BIC   logLik   Test   L.Ratio p-value\n",
       "fit1     1  3 -665.0201 -654.1698 335.5101                         \n",
       "fit2     2  6 -869.3277 -847.6928 440.6638 1 vs 2 210.30754  <.0001\n",
       "fit3     3  7 -900.3415 -875.1266 457.1707 2 vs 3  33.01381  <.0001\n",
       "fit4     4  8 -906.2640 -877.4766 461.1320 3 vs 4   7.92251  0.0049\n",
       "fit5     5  9 -881.3531 -849.0007 449.6766 4 vs 5  22.91086  <.0001\n",
       "fit6     6  9 -930.6480 -898.2956 474.3240                         \n"
      ]
     },
     "metadata": {},
     "output_type": "display_data"
    }
   ],
   "source": [
    "%%R\n",
    "anova(fit1, fit2, fit3, fit4, fit5, fit6)"
   ]
  },
  {
   "cell_type": "code",
   "execution_count": 385,
   "metadata": {
    "collapsed": false
   },
   "outputs": [
    {
     "data": {
      "image/png": "[encoded data removed]"
     },
     "metadata": {},
     "output_type": "display_data"
    }
   ],
   "source": [
    "%%R\n",
    "p2 = ggplot(SubDist, aes(y = w_Unif_Dist, x = phy_Dist)) \n",
    "p2 = p2 + geom_point()\n",
    "#p = p + stat_smooth(method = \"lm\", formula = y~.29x -.236x^2 + .213, se = FALSE)\n",
    "p2 = p2 + theme_bw(base_size = 16)\n",
    "p2 = p2 + ggtitle(\"Late Season Plants \")\n",
    "#p = p + stat_function(fun = test)\n",
    "p2"
   ]
  },
  {
   "cell_type": "code",
   "execution_count": 388,
   "metadata": {
    "collapsed": false,
    "hide_input": true,
    "scrolled": false
   },
   "outputs": [
    {
     "data": {
      "image/png": "[encoded data removed]"
     },
     "metadata": {},
     "output_type": "display_data"
    }
   ],
   "source": [
    "%%R\n",
    " grid.arrange(p,p1,p2, layout_matrix = rbind(c(1, 1), c(2,3)))"
   ]
  },
  {
   "cell_type": "code",
   "execution_count": 368,
   "metadata": {
    "collapsed": false,
    "scrolled": false
   },
   "outputs": [
    {
     "data": {
      "image/png": "[encoded data removed]"
     },
     "metadata": {},
     "output_type": "display_data"
    }
   ],
   "source": [
    "%%R\n",
    "data = filter(SubDist, PlantA != PlantB)\n",
    "p3 = ggplot(data, aes(y = w_Unif_Dist, x = PC1Dist, color = phy_Dist) )\n",
    "p3 = p3 + geom_point()\n",
    "#p = p + stat_smooth(method = \"lm\", formula = y~.29x -.236x^2 + .213, se = FALSE)\n",
    "p3 = p3 + theme_bw(base_size = 16)\n",
    "p3 = p3 + ggtitle(\"Late Season Species \")\n",
    "#p = p + stat_function(fun = test)\n",
    "p3"
   ]
  },
  {
   "cell_type": "markdown",
   "metadata": {},
   "source": [
    "### PCA showing just late season annuals and B73"
   ]
  },
  {
   "cell_type": "code",
   "execution_count": 318,
   "metadata": {
    "collapsed": false
   },
   "outputs": [
    {
     "data": {
      "image/png": "[encoded data removed]"
     },
     "metadata": {},
     "output_type": "display_data"
    }
   ],
   "source": [
    "%%R -w 500 -h 400\n",
    "data = filter(E_Fit, Plant %in% c(\"B73\",   \"ERATE\", \n",
    " \"ELCOR\",  \"SORSUD\",    \"SORBI\", \"HELAN\") )\n",
    "p = ggplot(data, aes(PC1, PC2, colour = Plant), pch = 21)\n",
    "p = p + geom_point()\n",
    "p = p + scale_colour_brewer(palette=\"Paired\")\n",
    "p = p + ggtitle(\"PCA of Growth Residuals\")\n",
    "p"
   ]
  },
  {
   "cell_type": "code",
   "execution_count": null,
   "metadata": {
    "collapsed": true
   },
   "outputs": [],
   "source": []
  },
  {
   "cell_type": "markdown",
   "metadata": {},
   "source": [
    "# Subset of late season plants with all maize"
   ]
  },
  {
   "cell_type": "markdown",
   "metadata": {},
   "source": [
    "## recreate functional distance variables on subset"
   ]
  },
  {
   "cell_type": "code",
   "execution_count": 261,
   "metadata": {
    "collapsed": false
   },
   "outputs": [
    {
     "data": {
      "text/plain": [
       "[1] 3741   21\n",
       "[1] 2016   21\n",
       " [1] 75-062 MS71   B73    Oh7B   B97    H99    Il14H  ERATE  ELCOR  SORSUD\n",
       "[11] Ki3    SORBI  Hp301  HELAN  Tx303  Mo18  \n",
       "16 Levels: 75-062 B73 B97 ELCOR ERATE H99 HELAN Hp301 Il14H Ki3 Mo18 ... Tx303\n"
      ]
     },
     "metadata": {},
     "output_type": "display_data"
    }
   ],
   "source": [
    "%%R\n",
    "dim(Dist) %>% print\n",
    "SubDist = filter(Dist, DAY_A %in% c( \"72\", \"79\", \"84\", \"88\") & DAY_B %in% c( \"72\", \"79\", \"84\", \"88\"))\n",
    "\n",
    "dim(SubDist) %>% print\n",
    "SubDist$PlantA %>% unique\n"
   ]
  },
  {
   "cell_type": "code",
   "execution_count": 262,
   "metadata": {
    "collapsed": true
   },
   "outputs": [],
   "source": [
    "%%R\n",
    "#null model\n",
    "fit1=  gls(w_Unif_Dist ~ 1, \n",
    "             correlation = corMLPE(form= ~ PlotA + PlotB), data = SubDist)"
   ]
  },
  {
   "cell_type": "code",
   "execution_count": 263,
   "metadata": {
    "collapsed": false
   },
   "outputs": [
    {
     "data": {
      "text/plain": [
       "Generalized least squares fit by REML\n",
       "  Model: w_Unif_Dist ~ 1 \n",
       "  Data: SubDist \n",
       "        AIC       BIC   logLik\n",
       "  -6409.249 -6392.424 3207.625\n",
       "\n",
       "Correlation Structure: corMLPE\n",
       " Formula: ~PlotA + PlotB \n",
       " Parameter estimate(s):\n",
       "     Rho \n",
       "0.251618 \n",
       "\n",
       "Coefficients:\n",
       "                Value   Std.Error  t-value p-value\n",
       "(Intercept) 0.2350195 0.008348303 28.15177       0\n",
       "\n",
       "Standardized residuals:\n",
       "       Min         Q1        Med         Q3        Max \n",
       "-1.8075544 -0.7440251 -0.1621121  0.5931403  3.8053914 \n",
       "\n",
       "Residual standard error: 0.06605584 \n",
       "Degrees of freedom: 2016 total; 2015 residual\n"
      ]
     },
     "metadata": {},
     "output_type": "display_data"
    }
   ],
   "source": [
    "%%R\n",
    "summary(fit1)"
   ]
  },
  {
   "cell_type": "code",
   "execution_count": 264,
   "metadata": {
    "collapsed": false
   },
   "outputs": [
    {
     "data": {
      "text/plain": [
       "Generalized least squares fit by REML\n",
       "  Model: w_Unif_Dist ~ TimeDist + SameDay + LibraryComp \n",
       "  Data: SubDist \n",
       "        AIC       BIC   logLik\n",
       "  -6681.806 -6648.165 3346.903\n",
       "\n",
       "Correlation Structure: corMLPE\n",
       " Formula: ~PlotA + PlotB \n",
       " Parameter estimate(s):\n",
       "      Rho \n",
       "0.2710062 \n",
       "\n",
       "Coefficients:\n",
       "                   Value   Std.Error   t-value p-value\n",
       "(Intercept)   0.20345771 0.008506148 23.918900   0e+00\n",
       "TimeDist     -0.00146817 0.000428982 -3.422450   6e-04\n",
       "SameDay1      0.04373292 0.004098648 10.670084   0e+00\n",
       "LibraryComp1  0.01768391 0.002891179  6.116504   0e+00\n",
       "\n",
       " Correlation: \n",
       "             (Intr) TimDst SamDy1\n",
       "TimeDist      0.041              \n",
       "SameDay1     -0.134 -0.782       \n",
       "LibraryComp1 -0.044 -0.658  0.292\n",
       "\n",
       "Standardized residuals:\n",
       "       Min         Q1        Med         Q3        Max \n",
       "-2.0889256 -0.7463494 -0.1253755  0.5947027  3.7627957 \n",
       "\n",
       "Residual standard error: 0.06355152 \n",
       "Degrees of freedom: 2016 total; 2012 residual\n"
      ]
     },
     "metadata": {},
     "output_type": "display_data"
    }
   ],
   "source": [
    "%%R\n",
    "fit2=  gls(w_Unif_Dist ~ TimeDist + SameDay + LibraryComp, \n",
    "             correlation = corMLPE(form= ~ PlotA + PlotB), data = SubDist)\n",
    "summary(fit2)"
   ]
  },
  {
   "cell_type": "code",
   "execution_count": 265,
   "metadata": {
    "collapsed": false
   },
   "outputs": [
    {
     "data": {
      "text/plain": [
       "Generalized least squares fit by REML\n",
       "  Model: w_Unif_Dist ~ TimeDist + SameDay + LibraryComp + phy_Dist \n",
       "  Data: SubDist \n",
       "        AIC       BIC   logLik\n",
       "  -6778.996 -6739.751 3396.498\n",
       "\n",
       "Correlation Structure: corMLPE\n",
       " Formula: ~PlotA + PlotB \n",
       " Parameter estimate(s):\n",
       "      Rho \n",
       "0.2425501 \n",
       "\n",
       "Coefficients:\n",
       "                   Value   Std.Error   t-value p-value\n",
       "(Intercept)   0.19336502 0.007535196 25.661578  0.0000\n",
       "TimeDist     -0.00091187 0.000421620 -2.162777  0.0307\n",
       "SameDay1      0.03628378 0.004061779  8.932977  0.0000\n",
       "LibraryComp1  0.01521089 0.002833924  5.367432  0.0000\n",
       "phy_Dist      0.23521826 0.022492658 10.457557  0.0000\n",
       "\n",
       " Correlation: \n",
       "             (Intr) TimDst SamDy1 LbrrC1\n",
       "TimeDist      0.028                     \n",
       "SameDay1     -0.124 -0.785              \n",
       "LibraryComp1 -0.037 -0.660  0.299       \n",
       "phy_Dist     -0.128  0.124 -0.174 -0.082\n",
       "\n",
       "Standardized residuals:\n",
       "       Min         Q1        Med         Q3        Max \n",
       "-2.5026553 -0.7282384 -0.1196183  0.6027257  3.4317787 \n",
       "\n",
       "Residual standard error: 0.05861078 \n",
       "Degrees of freedom: 2016 total; 2011 residual\n"
      ]
     },
     "metadata": {},
     "output_type": "display_data"
    }
   ],
   "source": [
    "%%R\n",
    "fit3=  gls(w_Unif_Dist ~ TimeDist + SameDay + LibraryComp + phy_Dist, \n",
    "             correlation = corMLPE(form= ~ PlotA + PlotB), data = SubDist)\n",
    "summary(fit3)"
   ]
  },
  {
   "cell_type": "code",
   "execution_count": 266,
   "metadata": {
    "collapsed": false,
    "scrolled": true
   },
   "outputs": [
    {
     "data": {
      "text/plain": [
       "Generalized least squares fit by REML\n",
       "  Model: w_Unif_Dist ~ TimeDist + SameDay + LibraryComp + poly(phy_Dist,      2) \n",
       "  Data: SubDist \n",
       "        AIC      BIC   logLik\n",
       "  -6782.227 -6737.38 3399.114\n",
       "\n",
       "Correlation Structure: corMLPE\n",
       " Formula: ~PlotA + PlotB \n",
       " Parameter estimate(s):\n",
       "      Rho \n",
       "0.2345679 \n",
       "\n",
       "Coefficients:\n",
       "                        Value  Std.Error   t-value p-value\n",
       "(Intercept)         0.2067427 0.00726010 28.476569  0.0000\n",
       "TimeDist           -0.0008803 0.00042137 -2.089043  0.0368\n",
       "SameDay1            0.0356805 0.00406570  8.775987  0.0000\n",
       "LibraryComp1        0.0149753 0.00283420  5.283792  0.0000\n",
       "poly(phy_Dist, 2)1  1.1519411 0.11496983 10.019508  0.0000\n",
       "poly(phy_Dist, 2)2 -0.1799512 0.07759734 -2.319038  0.0205\n",
       "\n",
       " Correlation: \n",
       "                   (Intr) TimDst SamDy1 LbrrC1 p(_D,2)1\n",
       "TimeDist            0.051                              \n",
       "SameDay1           -0.159 -0.785                       \n",
       "LibraryComp1       -0.054 -0.660  0.300                \n",
       "poly(phy_Dist, 2)1  0.035  0.119 -0.162 -0.076         \n",
       "poly(phy_Dist, 2)2 -0.021 -0.026  0.059  0.032  0.158  \n",
       "\n",
       "Standardized residuals:\n",
       "       Min         Q1        Med         Q3        Max \n",
       "-2.4664270 -0.7367203 -0.1174680  0.6025918  3.4466605 \n",
       "\n",
       "Residual standard error: 0.05771738 \n",
       "Degrees of freedom: 2016 total; 2010 residual\n"
      ]
     },
     "metadata": {},
     "output_type": "display_data"
    }
   ],
   "source": [
    "%%R\n",
    "fit4=  gls(w_Unif_Dist ~ TimeDist + SameDay + LibraryComp + poly(phy_Dist,2), \n",
    "             correlation = corMLPE(form= ~ PlotA + PlotB), data = SubDist)\n",
    "summary(fit4)"
   ]
  },
  {
   "cell_type": "code",
   "execution_count": 267,
   "metadata": {
    "collapsed": false
   },
   "outputs": [
    {
     "data": {
      "text/plain": [
       "Generalized least squares fit by REML\n",
       "  Model: w_Unif_Dist ~ TimeDist + SameDay + LibraryComp + PC2Dist \n",
       "  Data: SubDist \n",
       "        AIC       BIC   logLik\n",
       "  -6670.959 -6631.714 3342.479\n",
       "\n",
       "Correlation Structure: corMLPE\n",
       " Formula: ~PlotA + PlotB \n",
       " Parameter estimate(s):\n",
       "      Rho \n",
       "0.2701235 \n",
       "\n",
       "Coefficients:\n",
       "                   Value   Std.Error   t-value p-value\n",
       "(Intercept)   0.20125779 0.008585233 23.442322  0.0000\n",
       "TimeDist     -0.00140737 0.000430484 -3.269268  0.0011\n",
       "SameDay1      0.04258019 0.004159509 10.236830  0.0000\n",
       "LibraryComp1  0.01738842 0.002896085  6.004112  0.0000\n",
       "PC2Dist       0.00211841 0.001319284  1.605730  0.1085\n",
       "\n",
       " Correlation: \n",
       "             (Intr) TimDst SamDy1 LbrrC1\n",
       "TimeDist      0.026                     \n",
       "SameDay1     -0.104 -0.783              \n",
       "LibraryComp1 -0.033 -0.660  0.298       \n",
       "PC2Dist      -0.160  0.088 -0.172 -0.063\n",
       "\n",
       "Standardized residuals:\n",
       "       Min         Q1        Med         Q3        Max \n",
       "-2.0700325 -0.7397505 -0.1186156  0.5945767  3.7603069 \n",
       "\n",
       "Residual standard error: 0.06341141 \n",
       "Degrees of freedom: 2016 total; 2011 residual\n"
      ]
     },
     "metadata": {},
     "output_type": "display_data"
    }
   ],
   "source": [
    "%%R\n",
    "#H3: combined phylogenetic distance and functional\n",
    "fit5=  gls(w_Unif_Dist ~ TimeDist + SameDay + LibraryComp  + PC2Dist, \n",
    "             correlation = corMLPE(form= ~ PlotA + PlotB), data = SubDist)\n",
    "summary(fit5)\n",
    "\n"
   ]
  },
  {
   "cell_type": "code",
   "execution_count": 268,
   "metadata": {
    "collapsed": false
   },
   "outputs": [
    {
     "data": {
      "text/plain": [
       "Generalized least squares fit by REML\n",
       "  Model: w_Unif_Dist ~ TimeDist + SameDay + LibraryComp + poly(phy_Dist,      2) + PC2Dist \n",
       "  Data: SubDist \n",
       "        AIC       BIC   logLik\n",
       "  -6768.807 -6718.359 3393.404\n",
       "\n",
       "Correlation Structure: corMLPE\n",
       " Formula: ~PlotA + PlotB \n",
       " Parameter estimate(s):\n",
       "      Rho \n",
       "0.2345896 \n",
       "\n",
       "Coefficients:\n",
       "                        Value  Std.Error   t-value p-value\n",
       "(Intercept)         0.2065111 0.00739707 27.917941  0.0000\n",
       "TimeDist           -0.0008755 0.00042248 -2.072178  0.0384\n",
       "SameDay1            0.0355831 0.00410961  8.658508  0.0000\n",
       "LibraryComp1        0.0149521 0.00283838  5.267844  0.0000\n",
       "poly(phy_Dist, 2)1  1.1499523 0.11563366  9.944789  0.0000\n",
       "poly(phy_Dist, 2)2 -0.1785691 0.07806171 -2.287538  0.0223\n",
       "PC2Dist             0.0002149 0.00130386  0.164801  0.8691\n",
       "\n",
       " Correlation: \n",
       "                   (Intr) TimDst SamDy1 LbrrC1 p(_D,2)1 p(_D,2)2\n",
       "TimeDist            0.037                                       \n",
       "SameDay1           -0.127 -0.784                                \n",
       "LibraryComp1       -0.043 -0.661  0.303                         \n",
       "poly(phy_Dist, 2)1  0.054  0.111 -0.145 -0.070                  \n",
       "poly(phy_Dist, 2)2 -0.040 -0.019  0.043  0.027  0.145           \n",
       "PC2Dist            -0.190  0.069 -0.144 -0.050 -0.105    0.107  \n",
       "\n",
       "Standardized residuals:\n",
       "       Min         Q1        Med         Q3        Max \n",
       "-2.4685865 -0.7344748 -0.1167848  0.6020571  3.4500023 \n",
       "\n",
       "Residual standard error: 0.05773355 \n",
       "Degrees of freedom: 2016 total; 2009 residual\n"
      ]
     },
     "metadata": {},
     "output_type": "display_data"
    }
   ],
   "source": [
    "%%R\n",
    "fit6=  gls(w_Unif_Dist ~ TimeDist + SameDay + LibraryComp + poly(phy_Dist,2)  + PC2Dist, \n",
    "             correlation = corMLPE(form= ~ PlotA + PlotB), data = SubDist)\n",
    "summary(fit6)"
   ]
  },
  {
   "cell_type": "markdown",
   "metadata": {},
   "source": [
    "# Sandbox"
   ]
  },
  {
   "cell_type": "code",
   "execution_count": null,
   "metadata": {
    "collapsed": true
   },
   "outputs": [],
   "source": []
  },
  {
   "cell_type": "code",
   "execution_count": 18,
   "metadata": {
    "collapsed": false
   },
   "outputs": [
    {
     "data": {
      "text/plain": [
       "NULL\n"
      ]
     },
     "metadata": {},
     "output_type": "display_data"
    }
   ],
   "source": [
    "%%R\n",
    "# # PCA of annuals\n",
    "# sd = as(sample_data(phy), \"data.frame\")\n",
    "# sd$Plant %>% levels %>% print\n",
    "# sd = left_join(sd, SS, by = \"Plant\")\n",
    "# sd = left_join(sd, M_GDD, by = \"DAP\")\n",
    "\n",
    "#  fit = prcomp(~log(SeedSize_mg) + A_Resid_logN + A_Resid_logCN + A_Resid_logB, data = sd, \n",
    "#                  na.action = na.exclude, center = TRUE, scale = TRUE)\n",
    "\n",
    "# summary(fit) %>% print\n",
    "# fit$rotation %>% print\n",
    "# biplot(fit)"
   ]
  },
  {
   "cell_type": "code",
   "execution_count": 19,
   "metadata": {
    "collapsed": false,
    "scrolled": false
   },
   "outputs": [
    {
     "data": {
      "text/plain": [
       "NULL\n"
      ]
     },
     "metadata": {},
     "output_type": "display_data"
    }
   ],
   "source": [
    "%%R -w 600 -h 500\n",
    "# S = predict(fit)[,1:3]\n",
    "# E_Fit = cbind(sd, S)\n",
    "# row.names(E_Fit) = E_Fit$X.sample\n",
    "# sample_data(phy) = E_Fit\n",
    "\n",
    "\n",
    "# p = ggplot(E_Fit, aes(PC1, PC3, colour = Plant, \n",
    "#                        size = A_Resid_logN), pch = 21)\n",
    "# p = p + geom_point()\n",
    "# #p = p + scale_colour_brewer(palette=\"Paired\")\n",
    "# p = p + ggtitle(\"PCA of Growth Residuals\")\n",
    "# p"
   ]
  },
  {
   "cell_type": "code",
   "execution_count": 20,
   "metadata": {
    "collapsed": false,
    "scrolled": true
   },
   "outputs": [
    {
     "data": {
      "text/plain": [
       "NULL\n"
      ]
     },
     "metadata": {},
     "output_type": "display_data"
    }
   ],
   "source": [
    "%%R\n",
    "# p = ggplot(E_Fit, aes(PC1, PC2, colour = Plant, \n",
    "#                        size = A_Resid_logN), pch = 21)\n",
    "# p = p + geom_point()\n",
    "# #p = p + scale_colour_brewer(palette=\"Paired\")\n",
    "# p = p + ggtitle(\"PCA of Growth Residuals\")\n",
    "# p"
   ]
  },
  {
   "cell_type": "code",
   "execution_count": null,
   "metadata": {
    "collapsed": true
   },
   "outputs": [],
   "source": [
    "%%R\n",
    "# PC1dist = dist(sd[, \"PC1\"], method = \"euclidian\")\n",
    "#     #melt matrix\n",
    "#     PC1.m = melt(as.matrix(PC1dist))\n",
    "\n",
    "#     #set column names and create comparison column\n",
    "#      colnames(PC1.m) = c(\"PlotA\", \"PlotB\", \"PC1Dist\")\n",
    "#     PC1.m$PlotComp = paste(PC1.m$PlotA, PC1.m$PlotB, sep = \"-\")\n",
    "#     PC1.m %>% head\n",
    "\n",
    "# #measure distances on PC2\n",
    "# PC2dist = dist(sd[,\"PC2\"], method = \"euclidian\")\n",
    "#     #melt matrix\n",
    "#     PC2.m = melt(as.matrix(PC2dist))\n",
    "\n",
    "#     #set column names and create comparison column\n",
    "#      colnames(PC2.m) = c(\"PlotA\", \"PlotB\", \"PC2Dist\")\n",
    "#     PC2.m$PlotComp = paste(PC2.m$PlotA, PC2.m$PlotB, sep = \"-\")\n",
    "#     PC2.m %>% head\n",
    "\n",
    "# #measure distances on PC3\n",
    "# PC3dist = dist(sd[,\"PC3\"], method = \"euclidian\")\n",
    "#     #melt matrix\n",
    "#     PC3.m = melt(as.matrix(PC3dist))\n",
    "\n",
    "#     #set column names and create comparison column\n",
    "#      colnames(PC3.m) = c(\"PlotA\", \"PlotB\", \"PC3Dist\")\n",
    "#     PC3.m$PlotComp = paste(PC3.m$PlotA, PC3.m$PlotB, sep = \"-\")\n",
    "#     PC3.m %>% head %>% print"
   ]
  },
  {
   "cell_type": "markdown",
   "metadata": {},
   "source": [
    "### Not used, but if date/combo is random effect:"
   ]
  },
  {
   "cell_type": "code",
   "execution_count": null,
   "metadata": {
    "collapsed": false
   },
   "outputs": [],
   "source": [
    "%%R\n",
    "Dist$DateCombo = ifelse(as.numeric(as.character(Dist$DAY_A)) < as.numeric(as.character(Dist$DAY_B)),\n",
    "                                                                    paste(Dist$DAY_A, Dist$DAY_B, sep = \"-\"), \n",
    "                                                                   paste(Dist$DAY_B, Dist$DAY_A, sep = \"-\"))\n",
    "Dist$DateCombo %>% unique\n"
   ]
  },
  {
   "cell_type": "code",
   "execution_count": null,
   "metadata": {
    "collapsed": false,
    "hide_input": true
   },
   "outputs": [],
   "source": [
    "%%R\n",
    "\n",
    "\n",
    "fit10 <- lme(w_Unif_Dist ~ 1, random =~ 1|DateCombo, correlation = corMLPE(form= ~ PlotA + PlotB), data = Dist)\n",
    "summary(fit10) %>% print\n"
   ]
  },
  {
   "cell_type": "code",
   "execution_count": null,
   "metadata": {
    "collapsed": true
   },
   "outputs": [],
   "source": [
    "%%R\n",
    "fit11 <- lme(w_Unif_Dist ~ phy_Dist, random =~ 1|DateCombo, \n",
    "             correlation = corMLPE(form= ~ PlotA + PlotB), data = Dist)"
   ]
  },
  {
   "cell_type": "code",
   "execution_count": 123,
   "metadata": {
    "collapsed": false,
    "scrolled": false
   },
   "outputs": [
    {
     "data": {
      "image/png": "[encoded data removed]"
     },
     "metadata": {},
     "output_type": "display_data"
    }
   ],
   "source": [
    "%%R\n",
    "\n",
    "p = ggplot(Dist, aes(x = phy_Dist, y = w_Unif_Dist))\n",
    "           p = p + geom_point()\n",
    "        p = p + stat_smooth(method = \"lm\", se = FALSE)\n",
    "           p = p + facet_wrap(~DateCombo)\n",
    "           p"
   ]
  }
 ],
 "metadata": {
  "hide_input": true,
  "kernelspec": {
   "display_name": "Python 2",
   "language": "python",
   "name": "python2"
  },
  "language_info": {
   "codemirror_mode": {
    "name": "ipython",
    "version": 2
   },
   "file_extension": ".py",
   "mimetype": "text/x-python",
   "name": "python",
   "nbconvert_exporter": "python",
   "pygments_lexer": "ipython2",
   "version": "2.7.13"
  }
 },
 "nbformat": 4,
 "nbformat_minor": 0
}
