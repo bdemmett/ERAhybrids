{
 "cells": [
  {
   "cell_type": "markdown",
   "metadata": {},
   "source": [
    "## Description:\n",
    "\n",
    "    Use DeSeq2 to identify differential abundance between hybrids\n",
    "    \n",
    "    Format table of rhizosphere responders for supplemental\n",
    "   \n"
   ]
  },
  {
   "cell_type": "markdown",
   "metadata": {},
   "source": [
    "# Setting variables"
   ]
  },
  {
   "cell_type": "code",
   "execution_count": 2,
   "metadata": {
    "collapsed": true
   },
   "outputs": [],
   "source": [
    "workDir = '/home/bryan/ERA/data/MiSeq/20170417_run1/DESeq2'\n",
    "#using physeq file with sparsity of greater than 3 in 3 samples\n",
    "physeqFile = '/home/bryan/ERA/data/MiSeq/20170417_run1/phyloseq/ERA_thresh.rds'"
   ]
  },
  {
   "cell_type": "markdown",
   "metadata": {},
   "source": [
    "# Init"
   ]
  },
  {
   "cell_type": "code",
   "execution_count": 3,
   "metadata": {},
   "outputs": [],
   "source": [
    "%load_ext rpy2.ipython"
   ]
  },
  {
   "cell_type": "code",
   "execution_count": 4,
   "metadata": {},
   "outputs": [
    {
     "data": {
      "text/plain": [
       "[1] \"plyr\"\n",
       "[1] ‘1.8.4’\n",
       "[1] \"BiocParallel\"\n",
       "[1] ‘1.8.2’\n",
       "[1] \"doParallel\"\n",
       "[1] ‘1.0.10’\n",
       "[1] \"DESeq2\"\n",
       "[1] ‘1.14.1’\n",
       "[1] \"foreach\"\n",
       "[1] ‘1.4.3’\n",
       "[1] \"ggplot2\"\n",
       "[1] ‘2.2.1’\n",
       "[1] \"gridExtra\"\n",
       "[1] ‘2.2.1’\n",
       "[1] \"scales\"\n",
       "[1] ‘0.4.1’\n",
       "[1] \"phyloseq\"\n",
       "[1] ‘1.19.1’\n",
       "[1] \"dplyr\"\n",
       "[1] ‘0.5.0’\n",
       "[1] \"tidyr\"\n",
       "[1] ‘0.6.0’\n",
       "[1] \"reshape2\"\n",
       "[1] ‘1.4.2’\n",
       "[1] \"vegan\"\n",
       "[1] ‘2.4.3’\n",
       "[1] \"RColorBrewer\"\n",
       "[1] ‘1.1.2’\n"
      ]
     },
     "metadata": {},
     "output_type": "display_data"
    }
   ],
   "source": [
    "%%R\n",
    "# The required package list:\n",
    "reqpkg = c(\"plyr\",\"BiocParallel\",\"doParallel\", \"DESeq2\", \"foreach\", \"ggplot2\", \n",
    "   \"gridExtra\",\"scales\", \"phyloseq\", \"dplyr\", \"tidyr\", \n",
    "           \"reshape2\", \"vegan\", \"RColorBrewer\")\n",
    "# Load all required packages and show version\n",
    "for (i in reqpkg) {\n",
    "    print(i)\n",
    "    print(packageVersion(i))\n",
    "    suppressMessages(library(i, quietly = TRUE, verbose = FALSE, \n",
    "                             warn.conflicts = FALSE, character.only = TRUE))\n",
    "}"
   ]
  },
  {
   "cell_type": "code",
   "execution_count": 5,
   "metadata": {},
   "outputs": [],
   "source": [
    "%%R\n",
    "register(MulticoreParam(20))"
   ]
  },
  {
   "cell_type": "markdown",
   "metadata": {},
   "source": [
    "# Loading phyloseq object"
   ]
  },
  {
   "cell_type": "code",
   "execution_count": 6,
   "metadata": {},
   "outputs": [
    {
     "data": {
      "text/plain": [
       "phyloseq-class experiment-level object\n",
       "otu_table()   OTU Table:         [ 4592 taxa and 243 samples ]\n",
       "sample_data() Sample Data:       [ 243 samples by 46 sample variables ]\n",
       "tax_table()   Taxonomy Table:    [ 4592 taxa by 8 taxonomic ranks ]\n",
       "phy_tree()    Phylogenetic Tree: [ 4592 tips and 4591 internal nodes ]\n"
      ]
     },
     "metadata": {},
     "output_type": "display_data"
    }
   ],
   "source": [
    "%%R -i physeqFile\n",
    "\n",
    "physeq.Full = readRDS(physeqFile)\n",
    "physeq.Full"
   ]
  },
  {
   "cell_type": "code",
   "execution_count": 7,
   "metadata": {},
   "outputs": [
    {
     "data": {
      "text/plain": [
       " [1] \"1936\" \"1939\" \"1942\" \"1953\" \"1961\" \"1971\" \"1975\" \"1984\" \"1991\" \"2001\"\n",
       "[11] \"2003\" \"2011\" \"Bare\"\n"
      ]
     },
     "metadata": {},
     "output_type": "display_data"
    }
   ],
   "source": [
    "%%R\n",
    "\n",
    "\n",
    "\n",
    "# Set rep and R_Year as a factor\n",
    "sample_data(physeq.Full)$Rep = factor(sample_data(physeq.Full)$Rep) \n",
    "sample_data(physeq.Full)$R_Year = factor(sample_data(physeq.Full)$R_Year)\n",
    "\n",
    "sample_data(physeq.Full)$Plant %>% levels\n",
    "\n",
    "#remove BARE soil controls and untreated seeds\n",
    "phy = subset_samples(physeq.Full, Genotype == \"Bare\" | SeedTreatment == \"Treated\")\n",
    "\n",
    "\n",
    "#re-order levels \n",
    "sample_data(phy)$Plant %>% levels\n"
   ]
  },
  {
   "cell_type": "markdown",
   "metadata": {},
   "source": [
    "## Function for generating differential abundance table"
   ]
  },
  {
   "cell_type": "code",
   "execution_count": 32,
   "metadata": {
    "collapsed": true
   },
   "outputs": [],
   "source": [
    "%%R\n",
    "\n",
    "asNumeric = function(x) { as.numeric(as.character(x)) }\n",
    "\n",
    "get_Ps = function(physeq.obj) {\n",
    "    diagdds = phyloseq_to_deseq2(physeq.obj, ~Plant)\n",
    "    diagdds = DESeq(diagdds, quiet = TRUE, parallel = TRUE)\n",
    "    theta = 1\n",
    "    r = results(diagdds)\n",
    "    beta = r$log2FoldChange\n",
    "    betaSE = r$lfcSE\n",
    "    p = pnorm(beta, theta, betaSE, lower.tail = FALSE)\n",
    "    r$p = p\n",
    "    return(r[, c(\"log2FoldChange\", \"p\")])\n",
    "}\n",
    "\n",
    "get_Psv2 = function(physeq.obj) {\n",
    "    diagdds = phyloseq_to_deseq2(physeq.obj, ~Plant)\n",
    "    diagdds = DESeq(diagdds, quiet = TRUE, parallel = TRUE)\n",
    "    #theta = 1\n",
    "    r = results(diagdds, independentFiltering = TRUE, parallel = TRUE, \n",
    "                lfcThreshold=1, altHypothesis=\"greaterAbs\")\n",
    "#     beta = r$log2FoldChange\n",
    "#     betaSE = r$lfcSE\n",
    "#     p = pnorm(beta, theta, betaSE, lower.tail = FALSE)\n",
    "#    r$p = p\n",
    "   \n",
    "    return(r) #[, c(\"log2FoldChange\", \"p\")])\n",
    "}\n",
    "\n",
    "#Function to trim physeq object to just samples to include in Deseq analysis\n",
    "deseq_prune = function(physeq.obj, plant, day) {\n",
    "    physeq.md = sample_data(physeq.obj)\n",
    "    p = prune_samples((physeq.md$Plant %in% c(\"Bare\", plant))&\n",
    "                     (physeq.md$TimePoint == day), physeq.obj)\n",
    "    p.thresh = filter_taxa(p, function(x) sum(x > 0) > 0, TRUE)\n",
    "    return(p.thresh)\n",
    "}\n"
   ]
  },
  {
   "cell_type": "markdown",
   "metadata": {},
   "source": [
    "## Loop through sampling dates and plants to compare to bare soil"
   ]
  },
  {
   "cell_type": "code",
   "execution_count": 33,
   "metadata": {},
   "outputs": [
    {
     "data": {
      "text/plain": [
       "[1] \"2011\"\n",
       "[1] \"1939\" \"1953\" \"1971\" \"1984\" \"2001\" \"2011\"\n",
       " [1] \"1936\" \"1939\" \"1942\" \"1953\" \"1961\" \"1971\" \"1975\" \"1984\" \"1991\" \"2001\"\n",
       "[11] \"2003\" \"2011\"\n",
       "[1] \"1939\" \"1953\" \"1971\" \"1984\" \"2001\" \"2011\"\n"
      ]
     },
     "metadata": {},
     "output_type": "display_data"
    }
   ],
   "source": [
    "%%R\n",
    "Sd = sample_data(phy) %>% as.data.frame()\n",
    "days = levels(Sd$TimePoint)\n",
    "\n",
    "df_all = data.frame()\n",
    "df_plant = data.frame()\n",
    "\n",
    "for (day in days) {\n",
    "    #print(day) ##need to remove\n",
    "    Sd.d = Sd[Sd$TimePoint == day,]\n",
    "    Sd.d = Sd.d[Sd.d$Plant != \"Bare\"]\n",
    "    Plants = levels(Sd.d$Plant) \n",
    "    Plants %>% print\n",
    "\n",
    "    for (plant in Plants) {\n",
    "        DF = NULL\n",
    "        \n",
    "        #Trim physeq object by to day-plant combo \n",
    "        physeq.plant = deseq_prune(phy, plant, day)\n",
    "        \n",
    "        #re-order levels \n",
    "        sample_data(physeq.plant)$Plant = relevel(sample_data(physeq.plant)$Plant, \"Bare\")\n",
    "        \n",
    "        #convert to deseq using function above\n",
    "        # using second function to test difference with manual calculations vs internal DESeq calculations\n",
    "        DF = get_Psv2(physeq.plant)\n",
    "        \n",
    "        supp = tax_table(physeq.plant)\n",
    "            if (!setequal(row.names(DF), row.names(supp))) {\n",
    "            stop(\"Ordination and supplementary data indices differ on the following:\\n.\",\n",
    "            setdiff(row.names(DF), row.names(supp)))\n",
    "        }  \n",
    "   \n",
    "        DF = data.frame(DF, supp)\n",
    "        DF$OTU = rownames(DF)\n",
    "        DF$TimePoint = day\n",
    "        DF$Plant = plant\n",
    "        df_plant = rbind(df_plant, DF)     \n",
    "    }\n",
    "\n",
    "}\n",
    "df_all = df_plant  \n"
   ]
  },
  {
   "cell_type": "code",
   "execution_count": 34,
   "metadata": {
    "collapsed": true
   },
   "outputs": [],
   "source": [
    "%%R\n",
    "BareHybrid = df_all"
   ]
  },
  {
   "cell_type": "code",
   "execution_count": 35,
   "metadata": {
    "collapsed": true
   },
   "outputs": [],
   "source": [
    "%%R\n",
    "BareHybrid$p.adj = p.adjust(BareHybrid$pvalue, \"BH\")"
   ]
  },
  {
   "cell_type": "code",
   "execution_count": 36,
   "metadata": {},
   "outputs": [
    {
     "data": {
      "text/plain": [
       "[1] \"OTUs significantly enriched in the rhizosphere of any genotype: 284\"\n",
       "[1] \"OTUs significantly enriched in the rhizosphere at T1: 125\"\n",
       "[1] \"OTUs significantly enriched in the rhizosphere at T2: 78\"\n",
       "[1] \"OTUs significantly enriched in the rhizosphere at T3: 242\"\n",
       "[1] \"OTUs significantly enriched in the rhizosphere at T0: 0\"\n"
      ]
     },
     "metadata": {},
     "output_type": "display_data"
    }
   ],
   "source": [
    "%%R\n",
    "# Explore rhizosphere responders after multiple comparison correction across all comps\n",
    "sig.up = BareHybrid %>% filter(p.adj < 0.05 & log2FoldChange > 0)\n",
    "\n",
    "print(paste(\"OTUs significantly enriched in the rhizosphere of any genotype: \", \n",
    "            sig.up$OTU %>% unique %>% length, sep = \"\"))\n",
    "\n",
    "sig.up.t1 = BareHybrid %>% filter(p.adj < 0.05 & log2FoldChange > 0 & TimePoint == \"T1\")\n",
    "print(paste(\"OTUs significantly enriched in the rhizosphere at T1: \", sig.up.t1$OTU %>% unique %>% length, sep = \"\"))\n",
    "\n",
    "sig.up.t2 = BareHybrid %>% filter(p.adj < 0.05 & log2FoldChange > 0 & TimePoint == \"T2\")\n",
    "print(paste(\"OTUs significantly enriched in the rhizosphere at T2: \", sig.up.t2$OTU %>% unique %>% length, sep = \"\"))\n",
    "\n",
    "sig.up.t3 = BareHybrid %>% filter(p.adj < 0.05 & log2FoldChange > 0 & TimePoint == \"T3\")\n",
    "print(paste(\"OTUs significantly enriched in the rhizosphere at T3: \", sig.up.t3$OTU %>% unique %>% length, sep = \"\"))\n",
    "\n",
    "sig.up.t0 = BareHybrid %>% filter(p.adj < 0.05 & log2FoldChange > 0 & TimePoint == \"T0\")\n",
    "print(paste(\"OTUs significantly enriched in the rhizosphere at T0: \", sig.up.t0$OTU %>% unique %>% length, sep = \"\"))\n",
    "\n",
    "#sig.up"
   ]
  },
  {
   "cell_type": "code",
   "execution_count": 37,
   "metadata": {},
   "outputs": [],
   "source": [
    "%%R -i workDir\n",
    "\n",
    "\n",
    "write.csv(BareHybrid, file = \"/home/bryan/ERA/data/MiSeq/20170417_run1/DESeq2/BarevsHybrid.csv\", row.names = FALSE, sep = \",\")"
   ]
  },
  {
   "cell_type": "code",
   "execution_count": 38,
   "metadata": {},
   "outputs": [
    {
     "data": {
      "text/plain": [
       "R version 3.3.2 (2016-10-31)\n",
       "Platform: x86_64-pc-linux-gnu (64-bit)\n",
       "Running under: Ubuntu 16.04.3 LTS\n",
       "\n",
       "locale:\n",
       " [1] LC_CTYPE=en_US.UTF-8       LC_NUMERIC=C              \n",
       " [3] LC_TIME=en_US.UTF-8        LC_COLLATE=en_US.UTF-8    \n",
       " [5] LC_MONETARY=en_US.UTF-8    LC_MESSAGES=en_US.UTF-8   \n",
       " [7] LC_PAPER=en_US.UTF-8       LC_NAME=C                 \n",
       " [9] LC_ADDRESS=C               LC_TELEPHONE=C            \n",
       "[11] LC_MEASUREMENT=en_US.UTF-8 LC_IDENTIFICATION=C       \n",
       "\n",
       "attached base packages:\n",
       " [1] stats4    parallel  tools     stats     graphics  grDevices utils    \n",
       " [8] datasets  methods   base     \n",
       "\n",
       "other attached packages:\n",
       " [1] RColorBrewer_1.1-2         vegan_2.4-3               \n",
       " [3] lattice_0.20-35            permute_0.9-4             \n",
       " [5] reshape2_1.4.2             tidyr_0.6.0               \n",
       " [7] dplyr_0.5.0                phyloseq_1.19.1           \n",
       " [9] scales_0.4.1               gridExtra_2.2.1           \n",
       "[11] ggplot2_2.2.1              DESeq2_1.14.1             \n",
       "[13] SummarizedExperiment_1.4.0 Biobase_2.34.0            \n",
       "[15] GenomicRanges_1.26.4       GenomeInfoDb_1.10.3       \n",
       "[17] IRanges_2.8.2              S4Vectors_0.12.2          \n",
       "[19] BiocGenerics_0.20.0        doParallel_1.0.10         \n",
       "[21] iterators_1.0.8            foreach_1.4.3             \n",
       "[23] BiocParallel_1.8.2         plyr_1.8.4                \n",
       "\n",
       "loaded via a namespace (and not attached):\n",
       " [1] jsonlite_1.1         splines_3.3.2        Formula_1.2-1       \n",
       " [4] assertthat_0.1       latticeExtra_0.6-28  RSQLite_1.1-1       \n",
       " [7] backports_1.0.4      digest_0.6.10        XVector_0.14.1      \n",
       "[10] checkmate_1.8.2      colorspace_1.3-1     htmltools_0.3.5     \n",
       "[13] Matrix_1.2-10        XML_3.98-1.9         genefilter_1.58.1   \n",
       "[16] zlibbioc_1.20.0      xtable_1.8-2         htmlTable_1.9       \n",
       "[19] tibble_1.2           annotate_1.50.0      mgcv_1.8-16         \n",
       "[22] nnet_7.3-12          lazyeval_0.2.0       survival_2.41-3     \n",
       "[25] magrittr_1.5         memoise_1.1.0        nlme_3.1-131        \n",
       "[28] MASS_7.3-47          foreign_0.8-67       data.table_1.10.0   \n",
       "[31] stringr_1.1.0        munsell_0.4.3        locfit_1.5-9.1      \n",
       "[34] cluster_2.0.5        AnnotationDbi_1.38.0 Biostrings_2.42.1   \n",
       "[37] ade4_1.7-6           rhdf5_2.18.0         grid_3.3.2          \n",
       "[40] RCurl_1.95-4.8       biomformat_1.2.0     htmlwidgets_0.8     \n",
       "[43] igraph_1.0.1         bitops_1.0-6         base64enc_0.1-3     \n",
       "[46] gtable_0.2.0         codetools_0.2-15     multtest_2.30.0     \n",
       "[49] DBI_0.5-1            R6_2.2.0             knitr_1.15.1        \n",
       "[52] Hmisc_4.0-3          ape_4.1              stringi_1.1.2       \n",
       "[55] Rcpp_0.12.12         geneplotter_1.50.0   rpart_4.1-10        \n",
       "[58] acepack_1.4.1       \n"
      ]
     },
     "metadata": {},
     "output_type": "display_data"
    }
   ],
   "source": [
    "%%R\n",
    "sessionInfo()"
   ]
  }
 ],
 "metadata": {
  "hide_input": true,
  "kernelspec": {
   "display_name": "Python 3",
   "language": "python",
   "name": "python3"
  },
  "language_info": {
   "codemirror_mode": {
    "name": "ipython",
    "version": 3
   },
   "file_extension": ".py",
   "mimetype": "text/x-python",
   "name": "python",
   "nbconvert_exporter": "python",
   "pygments_lexer": "ipython3",
   "version": "3.6.1"
  }
 },
 "nbformat": 4,
 "nbformat_minor": 1
}
