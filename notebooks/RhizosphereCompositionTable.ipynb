{
 "cells": [
  {
   "cell_type": "markdown",
   "metadata": {},
   "source": [
    "# Create table of rhizosphere composition by sampling date"
   ]
  },
  {
   "cell_type": "markdown",
   "metadata": {},
   "source": [
    "One table for each time point with the following columns:\n",
    "* Rhizopshere Family\n",
    "* Family relative abundance\n",
    "* Number of OTUs /Num of OTUs responders\n"
   ]
  },
  {
   "cell_type": "markdown",
   "metadata": {},
   "source": [
    "# Init"
   ]
  },
  {
   "cell_type": "code",
   "execution_count": 1,
   "metadata": {
    "collapsed": true
   },
   "outputs": [],
   "source": [
    "%load_ext rpy2.ipython"
   ]
  },
  {
   "cell_type": "code",
   "execution_count": 2,
   "metadata": {
    "collapsed": false
   },
   "outputs": [
    {
     "data": {
      "text/plain": [
       "[1] \"ggplot2\"\n",
       "[1] ‘2.2.1’\n",
       "[1] \"phyloseq\"\n",
       "[1] ‘1.19.1’\n",
       "[1] \"dplyr\"\n",
       "[1] ‘0.5.0’\n",
       "[1] \"tidyr\"\n",
       "[1] ‘0.6.1’\n",
       "[1] \"reshape2\"\n",
       "[1] ‘1.4.2’\n"
      ]
     },
     "metadata": {},
     "output_type": "display_data"
    }
   ],
   "source": [
    "%%R\n",
    "reqpkg = c(\"ggplot2\", \"phyloseq\", \"dplyr\", \"tidyr\", \n",
    "           \"reshape2\")\n",
    "# Load all required packages and show version\n",
    "for (i in reqpkg) {\n",
    "    print(i)\n",
    "    print(packageVersion(i))\n",
    "    suppressMessages(library(i, quietly = TRUE, verbose = FALSE, \n",
    "                             warn.conflicts = FALSE, character.only = TRUE))\n",
    "}"
   ]
  },
  {
   "cell_type": "markdown",
   "metadata": {},
   "source": [
    "## load phyloseq object "
   ]
  },
  {
   "cell_type": "code",
   "execution_count": 3,
   "metadata": {
    "collapsed": false
   },
   "outputs": [],
   "source": [
    "%%R\n",
    "physeq.snorm = readRDS('/home/bryan/ERA/data/MiSeq/20170417_run1/phyloseq/ERA_snorm.rds')\n",
    "phy.plant = subset_samples(physeq.snorm, Plant != \"Bare\" & TimePoint != \"T0\" & SeedTreatment != \"Untreated\")\n",
    "phy.plant.t1 = subset_samples(phy.plant, TimePoint == \"T1\")\n",
    "phy.plant.t2 = subset_samples(phy.plant, TimePoint == \"T2\")\n",
    "phy.plant.t3 = subset_samples(phy.plant, TimePoint == \"T3\")"
   ]
  },
  {
   "cell_type": "markdown",
   "metadata": {},
   "source": [
    "## load log2foldchange table "
   ]
  },
  {
   "cell_type": "code",
   "execution_count": 4,
   "metadata": {
    "collapsed": true
   },
   "outputs": [],
   "source": [
    "%%R\n",
    "df.l2fc = read.csv(\"/home/bryan/ERA/data/MiSeq/20170417_run1/DESeq2/BarevsHybrid.csv\", header = TRUE)"
   ]
  },
  {
   "cell_type": "code",
   "execution_count": 5,
   "metadata": {
    "collapsed": false,
    "scrolled": true
   },
   "outputs": [
    {
     "data": {
      "text/plain": [
       "    baseMean log2FoldChange     lfcSE        stat    pvalue padj    Rank1\n",
       "1  6.8726577      0.1300310 0.6832738  0.00000000 1.0000000    1 Bacteria\n",
       "2  0.6131857      0.1269938 0.6180803  0.00000000 1.0000000    1 Bacteria\n",
       "3 23.9158212     -1.0456672 0.5212742 -0.08760687 0.9301891    1 Bacteria\n",
       "4  6.4121877     -0.3889837 0.7521553  0.00000000 1.0000000    1 Bacteria\n",
       "5  0.9485324     -0.5321542 0.7581169  0.00000000 1.0000000    1 Bacteria\n",
       "6  5.7901305     -0.8500811 0.7360680  0.00000000 1.0000000    1 Bacteria\n",
       "             Rank2                 Rank3          Rank4            Rank5\n",
       "1 __Proteobacteria __Deltaproteobacteria __Myxococcales __Nannocystineae\n",
       "2 __Proteobacteria __Deltaproteobacteria __Myxococcales __Nannocystineae\n",
       "3 __Proteobacteria __Deltaproteobacteria __Myxococcales __Nannocystineae\n",
       "4 __Proteobacteria __Deltaproteobacteria __Myxococcales __Nannocystineae\n",
       "5 __Proteobacteria __Deltaproteobacteria __Myxococcales __Nannocystineae\n",
       "6 __Proteobacteria __Deltaproteobacteria __Myxococcales __Nannocystineae\n",
       "            Rank6        Rank7                              Rank8       OTU\n",
       "1 __Haliangiaceae __Haliangium             __uncultured_bacterium   OTU.871\n",
       "2 __Haliangiaceae __Haliangium                               <NA>  OTU.9547\n",
       "3 __Haliangiaceae __Haliangium __uncultured_delta_proteobacterium   OTU.523\n",
       "4 __Haliangiaceae __Haliangium __uncultured_delta_proteobacterium  OTU.1107\n",
       "5 __Haliangiaceae __Haliangium             __uncultured_bacterium OTU.11742\n",
       "6 __Haliangiaceae __Haliangium            __uncultured_prokaryote  OTU.1889\n",
       "  TimePoint   Plant p.adj\n",
       "1        T0 P1151HR     1\n",
       "2        T0 P1151HR     1\n",
       "3        T0 P1151HR     1\n",
       "4        T0 P1151HR     1\n",
       "5        T0 P1151HR     1\n",
       "6        T0 P1151HR     1\n"
      ]
     },
     "metadata": {},
     "output_type": "display_data"
    }
   ],
   "source": [
    "%%R\n",
    "head(df.l2fc)"
   ]
  },
  {
   "cell_type": "markdown",
   "metadata": {},
   "source": [
    "## family designations"
   ]
  },
  {
   "cell_type": "markdown",
   "metadata": {},
   "source": [
    "* Generate list of phyla that need family level designation shifted "
   ]
  },
  {
   "cell_type": "code",
   "execution_count": 6,
   "metadata": {
    "collapsed": false
   },
   "outputs": [],
   "source": [
    "%%R\n",
    "taxacorrect = df.l2fc %>%\n",
    "    filter(TimePoint == \"T1\") %>%\n",
    "            as.data.frame() %>%\n",
    "            select(Rank2, Rank3, Rank4) %>%\n",
    "            filter(grepl(\"ceae\",Rank4)) %>%\n",
    "               unique()"
   ]
  },
  {
   "cell_type": "markdown",
   "metadata": {},
   "source": [
    "# Generate relative abundances by family: T1"
   ]
  },
  {
   "cell_type": "code",
   "execution_count": 7,
   "metadata": {
    "collapsed": false
   },
   "outputs": [
    {
     "data": {
      "text/plain": [
       "phyloseq-class experiment-level object\n",
       "otu_table()   OTU Table:         [ 4592 taxa and 72 samples ]\n",
       "sample_data() Sample Data:       [ 72 samples by 46 sample variables ]\n",
       "tax_table()   Taxonomy Table:    [ 4592 taxa by 8 taxonomic ranks ]\n",
       "phy_tree()    Phylogenetic Tree: [ 4592 tips and 4591 internal nodes ]\n"
      ]
     },
     "metadata": {},
     "output_type": "display_data"
    }
   ],
   "source": [
    "%%R\n",
    "phy.plant.t1"
   ]
  },
  {
   "cell_type": "code",
   "execution_count": 8,
   "metadata": {
    "collapsed": false
   },
   "outputs": [
    {
     "data": {
      "text/plain": [
       "        OTU Responder\n",
       "1   OTU.313         1\n",
       "2   OTU.613         1\n",
       "3   OTU.844         1\n",
       "4  OTU.6864         1\n",
       "5 OTU.12001         1\n",
       "6   OTU.546         1\n",
       "[1] 125   2\n"
      ]
     },
     "metadata": {},
     "output_type": "display_data"
    }
   ],
   "source": [
    "%%R\n",
    "# identify rhizosphere responders at T1\n",
    "df.l2fc.t1 = filter(df.l2fc, TimePoint == \"T1\")\n",
    "responders.t1 = filter(df.l2fc, TimePoint == \"T1\" & log2FoldChange > 0 & p.adj < 0.05) %>%\n",
    "    select(OTU) %>%\n",
    "    mutate(Responder = 1) %>%\n",
    "    unique()\n",
    "head(responders.t1) %>% print\n",
    "dim(responders.t1)"
   ]
  },
  {
   "cell_type": "code",
   "execution_count": 23,
   "metadata": {
    "collapsed": false
   },
   "outputs": [
    {
     "data": {
      "text/plain": [
       "[1] \"Relative abundance of rhizosphere responders from any time point at T1:  0.0921444006159518\"\n",
       "[1] \"Relative abundance of rhizosphere responders from any time point at T1:  0.134224011185206\"\n"
      ]
     },
     "metadata": {},
     "output_type": "display_data"
    }
   ],
   "source": [
    "%%R\n",
    "#Calculate portion of rhizosphere samples occupied by responders at T1\n",
    "phy.resp.t1 = prune_taxa(as.character(responders.t1$OTU), phy.plant.t1)\n",
    "Val = sample_sums(phy.resp.t1) %>% mean\n",
    "paste(\"Relative abundance of rhizosphere responders from any time point at T1: \", Val) %>% print\n",
    "\n",
    "#Calculate portion of rhizosphere samples occupied by responders at any time point\n",
    "phy.resp.t1 = prune_taxa(responders.any, phy.plant.t1)\n",
    "Val = sample_sums(phy.resp.t1) %>% mean\n",
    "paste(\"Relative abundance of rhizosphere responders from any time point at T1: \", Val) %>% print"
   ]
  },
  {
   "cell_type": "code",
   "execution_count": 21,
   "metadata": {
    "collapsed": true
   },
   "outputs": [
    {
     "data": {
      "text/plain": [
       "           OTU         Sample  Abundance     X.sampleID TubeID ExtractionPlate\n",
       "212930 OTU.362 ERA-T1_3-5c_85 0.03765148 ERA-T1_3-5c_85    212            ERA3\n",
       "57546   OTU.14  ERA-T1_2-2c_0 0.03701122  ERA-T1_2-2c_0    159            ERA2\n",
       "246638 OTU.481 ERA-T1_1-2c_85 0.03670899 ERA-T1_1-2c_85    129            ERA1\n",
       "80229  OTU.163 ERA-T1_1-4b_85 0.03526324 ERA-T1_1-4b_85    143            ERA1\n",
       "57562   OTU.14 ERA-T1_4-1a_85 0.03169648 ERA-T1_4-1a_85    214            ERA5\n",
       "30083   OTU.12 ERA-T1_2-5c_85 0.03058624 ERA-T1_2-5c_85    181            ERA2\n",
       "       PooledDNAPlate Sample.Well.ID PrimerPlate Primer.Number Primer.Well.ID\n",
       "212930              C            A11           3            49             A7\n",
       "57546               A            C10           1            75            C10\n",
       "246638              A             A4           1            25             A4\n",
       "80229               A             F1           1             6             F1\n",
       "57562               B            A12           2            89            A12\n",
       "30083               A             F7           1            54             F7\n",
       "        X primerFwdLoc primerRevLoc fwd_barcode rev_barcode  PlotID TimePoint\n",
       "212930 NA          3-A          3-7    ATCGTACG    GCGCACGT 3-5c_85        T1\n",
       "57546  NA          1-C         1-10    TAGCGAGT    TAGCAGAC  2-2c_0        T1\n",
       "246638 NA          1-A          1-4    ATCGTACG    CAGTGAGT 1-2c_85        T1\n",
       "80229  NA          1-F          1-1    CGTGAGTG    AACTCTCG 1-4b_85        T1\n",
       "57562  NA          2-A         2-12    CTACTATA    TCGCTATA 4-1a_85        T1\n",
       "30083  NA          1-F          1-7    CGTGAGTG    GGAGACTA 2-5c_85        T1\n",
       "       Rep Row Pos Fert PlotIndex   Plant Genotype SeedTreatment R_Year ERA\n",
       "212930   3   5   c   85       176     330      330       Treated   1939   1\n",
       "57546    2   2   c    0        79 P1151HR  P1151HR       Treated   2011   3\n",
       "246638   1   2   c   85        20    3475     3475       Treated   1984   2\n",
       "80229    1   4   b   85        41   34M95    34M95       Treated   2001   3\n",
       "57562    4   1   a   85       181 P1151HR  P1151HR       Treated   2011   3\n",
       "30083    2   5   c   85       116     354      354       Treated   1953   1\n",
       "       BG_activity.g BX_activity.g CB_activity.g LAP_activity.g NAG_activity.g\n",
       "212930      83.76845      25.10458      23.55988       49.22810       22.77455\n",
       "57546       94.67527      24.34020      27.79316       42.40203       19.94460\n",
       "246638      65.94436      17.43092      13.43597       30.97004       14.82590\n",
       "80229       76.97188      15.50771      14.67479       35.56935       17.22165\n",
       "57562       81.71980      21.73304      19.98582       40.51841       19.20859\n",
       "30083      133.03277      28.10638      30.24194       60.32270       30.71819\n",
       "       Stage kgdw_ha FracN.leco FracC.leco    kgN_ha        RGR       AGR\n",
       "212930    V6   189.9   0.024337    0.41986  4.621596 0.05085165  4.791667\n",
       "57546     V6   183.6   0.023203    0.40318  4.260071 0.05013381  4.616667\n",
       "246638    V6   190.8   0.024618    0.41398  4.697114 0.05095225  4.816667\n",
       "80229     V6   454.2   0.024509    0.43649 11.131988 0.06940569 12.133333\n",
       "57562     V6   348.6   0.030974    0.41939 10.797536 0.06377564  9.200000\n",
       "30083     V6   379.2   0.027262    0.41985 10.337750 0.06556582 10.050000\n",
       "           Nprod       NupR d15N X15N_AtPercent FracN FracN_fromSoil\n",
       "212930 1.0367991 0.09222333   NA             NA    NA             NA\n",
       "57546  1.0837066 0.08453129   NA             NA    NA             NA\n",
       "246638 1.0254523 0.09383009   NA             NA    NA             NA\n",
       "80229  1.0899521 0.23074229   NA             NA    NA             NA\n",
       "57562  0.8520462 0.22362631   NA             NA    NA             NA\n",
       "30083  0.9721651 0.21384363   NA             NA    NA             NA\n",
       "       FracN_fromFert kgFertN_ha kgSoilN_ha    Rank1            Rank2\n",
       "212930             NA         NA         NA Bacteria  __Cyanobacteria\n",
       "57546              NA         NA         NA Bacteria __Proteobacteria\n",
       "246638             NA         NA         NA Bacteria __Proteobacteria\n",
       "80229              NA         NA         NA Bacteria __Proteobacteria\n",
       "57562              NA         NA         NA Bacteria __Proteobacteria\n",
       "30083              NA         NA         NA Bacteria __Proteobacteria\n",
       "                       Rank3              Rank4               Rank5\n",
       "212930       __SubsectionIII          __FamilyI        __Phormidium\n",
       "57546   __Betaproteobacteria  __Burkholderiales    __Comamonadaceae\n",
       "246638 __Gammaproteobacteria  __Pseudomonadales     __Moraxellaceae\n",
       "80229  __Gammaproteobacteria  __Pseudomonadales  __Pseudomonadaceae\n",
       "57562   __Betaproteobacteria  __Burkholderiales    __Comamonadaceae\n",
       "30083  __Alphaproteobacteria __Sphingomonadales __Sphingomonadaceae\n",
       "                 Rank6                  Rank7 Rank8\n",
       "212930            <NA>                   <NA>  <NA>\n",
       "57546      __Pelomonas                   <NA>  <NA>\n",
       "246638 __Acinetobacter                   <NA>  <NA>\n",
       "80229    __Pseudomonas __uncultured_bacterium  <NA>\n",
       "57562      __Pelomonas                   <NA>  <NA>\n",
       "30083    __Sphingobium         __Sphingomonas  <NA>\n"
      ]
     },
     "metadata": {},
     "output_type": "display_data"
    }
   ],
   "source": [
    "%%R\n",
    "mdf = psmelt(phy.plant.t1)\n",
    "head(mdf)"
   ]
  },
  {
   "cell_type": "code",
   "execution_count": 49,
   "metadata": {
    "collapsed": true
   },
   "outputs": [
    {
     "data": {
      "text/plain": [
       "      OTU         Sample  Abundance     X.sampleID TubeID ExtractionPlate\n",
       "1 OTU.362 ERA-T1_3-5c_85 0.03765148 ERA-T1_3-5c_85    212            ERA3\n",
       "2  OTU.14  ERA-T1_2-2c_0 0.03701122  ERA-T1_2-2c_0    159            ERA2\n",
       "3 OTU.481 ERA-T1_1-2c_85 0.03670899 ERA-T1_1-2c_85    129            ERA1\n",
       "4 OTU.163 ERA-T1_1-4b_85 0.03526324 ERA-T1_1-4b_85    143            ERA1\n",
       "5  OTU.14 ERA-T1_4-1a_85 0.03169648 ERA-T1_4-1a_85    214            ERA5\n",
       "6  OTU.12 ERA-T1_2-5c_85 0.03058624 ERA-T1_2-5c_85    181            ERA2\n",
       "  PooledDNAPlate Sample.Well.ID PrimerPlate Primer.Number Primer.Well.ID  X\n",
       "1              C            A11           3            49             A7 NA\n",
       "2              A            C10           1            75            C10 NA\n",
       "3              A             A4           1            25             A4 NA\n",
       "4              A             F1           1             6             F1 NA\n",
       "5              B            A12           2            89            A12 NA\n",
       "6              A             F7           1            54             F7 NA\n",
       "  primerFwdLoc primerRevLoc fwd_barcode rev_barcode  PlotID TimePoint Rep Row\n",
       "1          3-A          3-7    ATCGTACG    GCGCACGT 3-5c_85        T1   3   5\n",
       "2          1-C         1-10    TAGCGAGT    TAGCAGAC  2-2c_0        T1   2   2\n",
       "3          1-A          1-4    ATCGTACG    CAGTGAGT 1-2c_85        T1   1   2\n",
       "4          1-F          1-1    CGTGAGTG    AACTCTCG 1-4b_85        T1   1   4\n",
       "5          2-A         2-12    CTACTATA    TCGCTATA 4-1a_85        T1   4   1\n",
       "6          1-F          1-7    CGTGAGTG    GGAGACTA 2-5c_85        T1   2   5\n",
       "  Pos Fert PlotIndex   Plant Genotype SeedTreatment R_Year ERA BG_activity.g\n",
       "1   c   85       176     330      330       Treated   1939   1      83.76845\n",
       "2   c    0        79 P1151HR  P1151HR       Treated   2011   3      94.67527\n",
       "3   c   85        20    3475     3475       Treated   1984   2      65.94436\n",
       "4   b   85        41   34M95    34M95       Treated   2001   3      76.97188\n",
       "5   a   85       181 P1151HR  P1151HR       Treated   2011   3      81.71980\n",
       "6   c   85       116     354      354       Treated   1953   1     133.03277\n",
       "  BX_activity.g CB_activity.g LAP_activity.g NAG_activity.g Stage kgdw_ha\n",
       "1      25.10458      23.55988       49.22810       22.77455    V6   189.9\n",
       "2      24.34020      27.79316       42.40203       19.94460    V6   183.6\n",
       "3      17.43092      13.43597       30.97004       14.82590    V6   190.8\n",
       "4      15.50771      14.67479       35.56935       17.22165    V6   454.2\n",
       "5      21.73304      19.98582       40.51841       19.20859    V6   348.6\n",
       "6      28.10638      30.24194       60.32270       30.71819    V6   379.2\n",
       "  FracN.leco FracC.leco    kgN_ha        RGR       AGR     Nprod       NupR\n",
       "1   0.024337    0.41986  4.621596 0.05085165  4.791667 1.0367991 0.09222333\n",
       "2   0.023203    0.40318  4.260071 0.05013381  4.616667 1.0837066 0.08453129\n",
       "3   0.024618    0.41398  4.697114 0.05095225  4.816667 1.0254523 0.09383009\n",
       "4   0.024509    0.43649 11.131988 0.06940569 12.133333 1.0899521 0.23074229\n",
       "5   0.030974    0.41939 10.797536 0.06377564  9.200000 0.8520462 0.22362631\n",
       "6   0.027262    0.41985 10.337750 0.06556582 10.050000 0.9721651 0.21384363\n",
       "  d15N X15N_AtPercent FracN FracN_fromSoil FracN_fromFert kgFertN_ha kgSoilN_ha\n",
       "1   NA             NA    NA             NA             NA         NA         NA\n",
       "2   NA             NA    NA             NA             NA         NA         NA\n",
       "3   NA             NA    NA             NA             NA         NA         NA\n",
       "4   NA             NA    NA             NA             NA         NA         NA\n",
       "5   NA             NA    NA             NA             NA         NA         NA\n",
       "6   NA             NA    NA             NA             NA         NA         NA\n",
       "     Rank1            Rank2                 Rank3              Rank4\n",
       "1 Bacteria  __Cyanobacteria       __SubsectionIII          __FamilyI\n",
       "2 Bacteria __Proteobacteria  __Betaproteobacteria  __Burkholderiales\n",
       "3 Bacteria __Proteobacteria __Gammaproteobacteria  __Pseudomonadales\n",
       "4 Bacteria __Proteobacteria __Gammaproteobacteria  __Pseudomonadales\n",
       "5 Bacteria __Proteobacteria  __Betaproteobacteria  __Burkholderiales\n",
       "6 Bacteria __Proteobacteria __Alphaproteobacteria __Sphingomonadales\n",
       "                Rank5           Rank6                  Rank7 Rank8 Responder\n",
       "1        __Phormidium            <NA>                   <NA>  <NA>        NA\n",
       "2    __Comamonadaceae     __Pelomonas                   <NA>  <NA>         1\n",
       "3     __Moraxellaceae __Acinetobacter                   <NA>  <NA>        NA\n",
       "4  __Pseudomonadaceae   __Pseudomonas __uncultured_bacterium  <NA>         1\n",
       "5    __Comamonadaceae     __Pelomonas                   <NA>  <NA>         1\n",
       "6 __Sphingomonadaceae   __Sphingobium         __Sphingomonas  <NA>         1\n"
      ]
     },
     "metadata": {},
     "output_type": "display_data"
    }
   ],
   "source": [
    "%%R\n",
    "mdf.r = left_join(mdf, responders.t1, by = \"OTU\")\n",
    "head(mdf.r)"
   ]
  },
  {
   "cell_type": "code",
   "execution_count": 50,
   "metadata": {
    "collapsed": false
   },
   "outputs": [],
   "source": [
    "%%R\n",
    "byFam = mdf.r %>%\n",
    "    mutate(., Family = ifelse(grepl(\"ceae\",Rank4), as.character(Rank4), as.character(Rank5))) %>%\n",
    "    group_by(X.sampleID, Rank2,  Rank3, Rank4, Family) %>% #first sum otus to get family abundances within a sample\n",
    "    summarize(fAbund = sum(Abundance),\n",
    "             nOTU = length(Abundance),\n",
    "             nOTUresp = sum(Responder, na.rm = TRUE)) %>%\n",
    "    group_by(Rank2, Rank3, Rank4, Family) %>%\n",
    "    summarize(mAbund = mean(fAbund),\n",
    "             nOTU = max(nOTU),\n",
    "             nResponder = max(nOTUresp))"
   ]
  },
  {
   "cell_type": "code",
   "execution_count": 51,
   "metadata": {
    "collapsed": false
   },
   "outputs": [],
   "source": [
    "%%R\n",
    "Top30.t1 = byFam %>% \n",
    "    arrange(desc(mAbund)) %>%\n",
    "    .[1:30,]"
   ]
  },
  {
   "cell_type": "code",
   "execution_count": 54,
   "metadata": {
    "collapsed": false
   },
   "outputs": [
    {
     "data": {
      "text/plain": [
       "Source: local data frame [30 x 7]\n",
       "Groups: Rank2, Rank3, Rank4 [27]\n",
       "\n",
       "                Rank2                 Rank3\n",
       "               <fctr>                <fctr>\n",
       "1     __Acidobacteria               __DA023\n",
       "2    __Actinobacteria     __Thermoleophilia\n",
       "3    __Planctomycetes    __Planctomycetacia\n",
       "4    __Proteobacteria  __Betaproteobacteria\n",
       "5     __Acidobacteria               __DA023\n",
       "6    __Actinobacteria     __Thermoleophilia\n",
       "7       __Chloroflexi              __KD4-96\n",
       "8    __Actinobacteria    __Streptomycetales\n",
       "9    __Actinobacteria __Propionibacteriales\n",
       "10 __Gemmatimonadetes    __Gemmatimonadales\n",
       "11   __Proteobacteria __Gammaproteobacteria\n",
       "12   __Proteobacteria  __Betaproteobacteria\n",
       "13   __Proteobacteria __Alphaproteobacteria\n",
       "14       __Firmicutes             __Bacilli\n",
       "15    __Bacteroidetes    __Sphingobacteriia\n",
       "16    __Acidobacteria               __DA023\n",
       "17   __Proteobacteria __Alphaproteobacteria\n",
       "18   __Proteobacteria __Deltaproteobacteria\n",
       "19  __Verrucomicrobia    __Verrucomicrobiae\n",
       "20   __Actinobacteria     __Thermoleophilia\n",
       "21   __Actinobacteria           __MB-A2-108\n",
       "22   __Actinobacteria     __Thermoleophilia\n",
       "23   __Actinobacteria       __Micrococcales\n",
       "24    __Bacteroidetes          __Cytophagia\n",
       "25  __Verrucomicrobia    __OPB35_soil_group\n",
       "26   __Proteobacteria __Alphaproteobacteria\n",
       "27      __Nitrospirae          __Nitrospira\n",
       "28   __Actinobacteria       __Micrococcales\n",
       "29   __Proteobacteria __Alphaproteobacteria\n",
       "30   __Actinobacteria   __Micromonosporales\n",
       "# ... with 5 more variables: Rank4 <fctr>, Family <chr>, mAbund <dbl>,\n",
       "#   nOTU <int>, nResponder <dbl>\n"
      ]
     },
     "metadata": {},
     "output_type": "display_data"
    }
   ],
   "source": [
    "%%R\n",
    "print(Top30.t1, n = 30)"
   ]
  },
  {
   "cell_type": "code",
   "execution_count": 56,
   "metadata": {
    "collapsed": false
   },
   "outputs": [],
   "source": [
    "%%R\n",
    "write.csv(Top30.t1, file = \"/home/bryan/ERA/data/figures/Top30_t1.csv\", row.names = FALSE)"
   ]
  },
  {
   "cell_type": "markdown",
   "metadata": {},
   "source": [
    "# Generate relative abundances by Family: T2"
   ]
  },
  {
   "cell_type": "code",
   "execution_count": 14,
   "metadata": {
    "collapsed": false
   },
   "outputs": [
    {
     "data": {
      "text/plain": [
       "phyloseq-class experiment-level object\n",
       "otu_table()   OTU Table:         [ 4592 taxa and 48 samples ]\n",
       "sample_data() Sample Data:       [ 48 samples by 46 sample variables ]\n",
       "tax_table()   Taxonomy Table:    [ 4592 taxa by 8 taxonomic ranks ]\n",
       "phy_tree()    Phylogenetic Tree: [ 4592 tips and 4591 internal nodes ]\n"
      ]
     },
     "metadata": {},
     "output_type": "display_data"
    }
   ],
   "source": [
    "%%R\n",
    "phy.plant.t2"
   ]
  },
  {
   "cell_type": "code",
   "execution_count": 19,
   "metadata": {
    "collapsed": false
   },
   "outputs": [
    {
     "data": {
      "text/plain": [
       "      OTU Responder\n",
       "1  OTU.91         1\n",
       "2  OTU.78         1\n",
       "3  OTU.12         1\n",
       "4 OTU.132         1\n",
       "5  OTU.82         1\n",
       "6 OTU.166         1\n"
      ]
     },
     "metadata": {},
     "output_type": "display_data"
    }
   ],
   "source": [
    "%%R\n",
    "# identify rhizosphere responders at T1\n",
    "responders.t2 = filter(df.l2fc, TimePoint == \"T2\" & log2FoldChange > 0 & p.adj < 0.05) %>%\n",
    "    select(OTU) %>%\n",
    "    mutate(Responder = 1) %>%\n",
    "    unique()\n",
    "head(responders.t2) %>% print\n",
    "dim(responders.t2)\n",
    "\n",
    "responders.any = filter(df.l2fc, log2FoldChange > 0 & p.adj < 0.05) %>%\n",
    "    select(OTU) %>%\n",
    "    unique() %>%\n",
    "    .$OTU %>%\n",
    "    as.character()\n",
    "    \n",
    "    "
   ]
  },
  {
   "cell_type": "code",
   "execution_count": 22,
   "metadata": {
    "collapsed": false
   },
   "outputs": [
    {
     "data": {
      "text/plain": [
       "[1] \"Relative abundance of rhizosphere responders at T2:  0.139980804986853\"\n",
       "[1] \"Relative abundance of rhizosphere responders from any time point at T2:  0.200801116096239\"\n"
      ]
     },
     "metadata": {},
     "output_type": "display_data"
    }
   ],
   "source": [
    "%%R\n",
    "#Calculate portion of rhizosphere samples occupied by responders at T2\n",
    "phy.resp.t2 = prune_taxa(as.character(responders.t2$OTU), phy.plant.t2)\n",
    "Val = sample_sums(phy.resp.t2) %>% mean\n",
    "paste(\"Relative abundance of rhizosphere responders at T2: \", Val) %>% print\n",
    "\n",
    "#Calculate portion of rhizosphere samples occupied by responders at any time point\n",
    "phy.resp.t2 = prune_taxa(responders.any, phy.plant.t2)\n",
    "Val = sample_sums(phy.resp.t2) %>% mean\n",
    "paste(\"Relative abundance of rhizosphere responders from any time point at T2: \", Val)\n"
   ]
  },
  {
   "cell_type": "code",
   "execution_count": 59,
   "metadata": {
    "collapsed": true
   },
   "outputs": [
    {
     "data": {
      "text/plain": [
       "          OTU         Sample  Abundance     X.sampleID TubeID ExtractionPlate\n",
       "20035  OTU.12 ERA-T2_1-4c_85 0.07297909 ERA-T2_1-4c_85    380            ERA1\n",
       "39     OTU.10 ERA-T2_4-2c_85 0.06577100 ERA-T2_4-2c_85    458            ERA5\n",
       "41583 OTU.145 ERA-T2_3-3d_85 0.06225060 ERA-T2_3-3d_85    439            ERA4\n",
       "38356  OTU.14 ERA-T2_1-2c_85 0.05279312 ERA-T2_1-2c_85    364            ERA1\n",
       "19048 OTU.119 ERA-T2_3-3d_85 0.04827036 ERA-T2_3-3d_85    439            ERA4\n",
       "9872   OTU.11 ERA-T2_4-4a_85 0.04645880 ERA-T2_4-4a_85    469            ERA5\n",
       "      PooledDNAPlate Sample.Well.ID PrimerPlate Primer.Number Primer.Well.ID  X\n",
       "20035              A             E6           1            45             E6 NA\n",
       "39                 B            G12           2            95            G12 NA\n",
       "41583              B             A4           2            25             A4 NA\n",
       "38356              A             D2           1            12             D2 NA\n",
       "19048              B             A4           2            25             A4 NA\n",
       "9872               B            B12           2            90            B12 NA\n",
       "      primerFwdLoc primerRevLoc fwd_barcode rev_barcode  PlotID TimePoint Rep\n",
       "20035          1-E          1-6    TCATCGAG    CTACGCAG 1-4c_85        T2   1\n",
       "39             2-G         2-12    GATCGTGT    TCGCTATA 4-2c_85        T2   4\n",
       "41583          2-A          2-4    CTACTATA    CAGTGAGT 3-3d_85        T2   3\n",
       "38356          1-D          1-2    CTGCGTGT    ACTATGTC 1-2c_85        T2   1\n",
       "19048          2-A          2-4    CTACTATA    CAGTGAGT 3-3d_85        T2   3\n",
       "9872           2-B         2-12    CGTTACTA    TCGCTATA 4-4a_85        T2   4\n",
       "      Row Pos Fert PlotIndex Plant Genotype SeedTreatment R_Year ERA\n",
       "20035   4   c   85        44   339      339       Treated   1942   1\n",
       "39      2   c   85       200  3517     3517       Treated   1971   2\n",
       "41583   3   d   85       154  3618     3618       Treated   1961   2\n",
       "38356   2   c   85        20  3475     3475       Treated   1984   2\n",
       "19048   3   d   85       154  3618     3618       Treated   1961   2\n",
       "9872    4   a   85       217  3475     3475       Treated   1984   2\n",
       "      BG_activity.g BX_activity.g CB_activity.g LAP_activity.g NAG_activity.g\n",
       "20035      88.21732      19.60371      24.49390       157.6215       29.70118\n",
       "39        127.28582      28.67373      34.45178       203.3777       38.40611\n",
       "41583      87.68829      20.85906      21.64224       153.6730       23.51848\n",
       "38356      57.55634      14.67689      10.90388       133.0995       14.75659\n",
       "19048      87.68829      20.85906      21.64224       153.6730       23.51848\n",
       "9872       59.28800      17.93663      12.35256       156.9130       19.22640\n",
       "      Stage kgdw_ha FracN.leco FracC.leco    kgN_ha        RGR      AGR\n",
       "20035    R1  5313.0   0.013843    0.43392  73.54786 0.10422132 161.1097\n",
       "39       R1  4473.0   0.011728    0.43366  52.45934 0.10108901 134.8742\n",
       "41583    R1  9186.0   0.012519    0.43780 114.99953 0.06475193 244.7419\n",
       "38356    R1  5143.5   0.010947    0.43558  56.30589 0.12200975 159.7645\n",
       "19048    R1  9186.0   0.012519    0.43780 114.99953 0.06475193 244.7419\n",
       "9872     R1  8137.5   0.010812    0.44064  87.98265 0.07150166 224.4194\n",
       "         Nprod     NupR     d15N X15N_AtPercent      FracN FracN_fromSoil\n",
       "20035 2.190542 2.464784       NA             NA         NA             NA\n",
       "39    2.571023 1.708878 701.2666      0.6215828 0.01170188      0.6052724\n",
       "41583 2.128199 2.630453       NA             NA         NA             NA\n",
       "38356 2.837439 1.911436 666.0965      0.6088111 0.01140551      0.6257006\n",
       "19048 2.128199 2.630453       NA             NA         NA             NA\n",
       "9872  2.550723 2.152969 499.3243      0.5482047 0.01025764      0.7226396\n",
       "      FracN_fromFert kgFertN_ha kgSoilN_ha    Rank1             Rank2\n",
       "20035             NA         NA         NA Bacteria  __Proteobacteria\n",
       "39         0.3947276   20.66103   31.68148 Bacteria __Verrucomicrobia\n",
       "41583             NA         NA         NA Bacteria  __Actinobacteria\n",
       "38356      0.3742994   21.95799   36.70625 Bacteria  __Proteobacteria\n",
       "19048             NA         NA         NA Bacteria  __Proteobacteria\n",
       "9872       0.2773604   23.15170   60.31984 Bacteria  __Proteobacteria\n",
       "                      Rank3                Rank4                 Rank5\n",
       "20035 __Alphaproteobacteria   __Sphingomonadales   __Sphingomonadaceae\n",
       "39       __Verrucomicrobiae __Verrucomicrobiales __Verrucomicrobiaceae\n",
       "41583    __Streptomycetales  __Streptomycetaceae        __Streptomyces\n",
       "38356  __Betaproteobacteria    __Burkholderiales      __Comamonadaceae\n",
       "19048  __Betaproteobacteria    __Burkholderiales    __Oxalobacteraceae\n",
       "9872   __Betaproteobacteria    __Burkholderiales    __Oxalobacteraceae\n",
       "                Rank6                  Rank7 Rank8\n",
       "20035   __Sphingobium         __Sphingomonas  <NA>\n",
       "39    __Luteolibacter __uncultured_bacterium  <NA>\n",
       "41583            <NA>                   <NA>  <NA>\n",
       "38356     __Pelomonas                   <NA>  <NA>\n",
       "19048      __Massilia                   <NA>  <NA>\n",
       "9872             <NA>                   <NA>  <NA>\n"
      ]
     },
     "metadata": {},
     "output_type": "display_data"
    }
   ],
   "source": [
    "%%R\n",
    "mdf = psmelt(phy.plant.t2)\n",
    "head(mdf)"
   ]
  },
  {
   "cell_type": "code",
   "execution_count": 60,
   "metadata": {
    "collapsed": true
   },
   "outputs": [
    {
     "data": {
      "text/plain": [
       "      OTU         Sample  Abundance     X.sampleID TubeID ExtractionPlate\n",
       "1  OTU.12 ERA-T2_1-4c_85 0.07297909 ERA-T2_1-4c_85    380            ERA1\n",
       "2  OTU.10 ERA-T2_4-2c_85 0.06577100 ERA-T2_4-2c_85    458            ERA5\n",
       "3 OTU.145 ERA-T2_3-3d_85 0.06225060 ERA-T2_3-3d_85    439            ERA4\n",
       "4  OTU.14 ERA-T2_1-2c_85 0.05279312 ERA-T2_1-2c_85    364            ERA1\n",
       "5 OTU.119 ERA-T2_3-3d_85 0.04827036 ERA-T2_3-3d_85    439            ERA4\n",
       "6  OTU.11 ERA-T2_4-4a_85 0.04645880 ERA-T2_4-4a_85    469            ERA5\n",
       "  PooledDNAPlate Sample.Well.ID PrimerPlate Primer.Number Primer.Well.ID  X\n",
       "1              A             E6           1            45             E6 NA\n",
       "2              B            G12           2            95            G12 NA\n",
       "3              B             A4           2            25             A4 NA\n",
       "4              A             D2           1            12             D2 NA\n",
       "5              B             A4           2            25             A4 NA\n",
       "6              B            B12           2            90            B12 NA\n",
       "  primerFwdLoc primerRevLoc fwd_barcode rev_barcode  PlotID TimePoint Rep Row\n",
       "1          1-E          1-6    TCATCGAG    CTACGCAG 1-4c_85        T2   1   4\n",
       "2          2-G         2-12    GATCGTGT    TCGCTATA 4-2c_85        T2   4   2\n",
       "3          2-A          2-4    CTACTATA    CAGTGAGT 3-3d_85        T2   3   3\n",
       "4          1-D          1-2    CTGCGTGT    ACTATGTC 1-2c_85        T2   1   2\n",
       "5          2-A          2-4    CTACTATA    CAGTGAGT 3-3d_85        T2   3   3\n",
       "6          2-B         2-12    CGTTACTA    TCGCTATA 4-4a_85        T2   4   4\n",
       "  Pos Fert PlotIndex Plant Genotype SeedTreatment R_Year ERA BG_activity.g\n",
       "1   c   85        44   339      339       Treated   1942   1      88.21732\n",
       "2   c   85       200  3517     3517       Treated   1971   2     127.28582\n",
       "3   d   85       154  3618     3618       Treated   1961   2      87.68829\n",
       "4   c   85        20  3475     3475       Treated   1984   2      57.55634\n",
       "5   d   85       154  3618     3618       Treated   1961   2      87.68829\n",
       "6   a   85       217  3475     3475       Treated   1984   2      59.28800\n",
       "  BX_activity.g CB_activity.g LAP_activity.g NAG_activity.g Stage kgdw_ha\n",
       "1      19.60371      24.49390       157.6215       29.70118    R1  5313.0\n",
       "2      28.67373      34.45178       203.3777       38.40611    R1  4473.0\n",
       "3      20.85906      21.64224       153.6730       23.51848    R1  9186.0\n",
       "4      14.67689      10.90388       133.0995       14.75659    R1  5143.5\n",
       "5      20.85906      21.64224       153.6730       23.51848    R1  9186.0\n",
       "6      17.93663      12.35256       156.9130       19.22640    R1  8137.5\n",
       "  FracN.leco FracC.leco    kgN_ha        RGR      AGR    Nprod     NupR\n",
       "1   0.013843    0.43392  73.54786 0.10422132 161.1097 2.190542 2.464784\n",
       "2   0.011728    0.43366  52.45934 0.10108901 134.8742 2.571023 1.708878\n",
       "3   0.012519    0.43780 114.99953 0.06475193 244.7419 2.128199 2.630453\n",
       "4   0.010947    0.43558  56.30589 0.12200975 159.7645 2.837439 1.911436\n",
       "5   0.012519    0.43780 114.99953 0.06475193 244.7419 2.128199 2.630453\n",
       "6   0.010812    0.44064  87.98265 0.07150166 224.4194 2.550723 2.152969\n",
       "      d15N X15N_AtPercent      FracN FracN_fromSoil FracN_fromFert kgFertN_ha\n",
       "1       NA             NA         NA             NA             NA         NA\n",
       "2 701.2666      0.6215828 0.01170188      0.6052724      0.3947276   20.66103\n",
       "3       NA             NA         NA             NA             NA         NA\n",
       "4 666.0965      0.6088111 0.01140551      0.6257006      0.3742994   21.95799\n",
       "5       NA             NA         NA             NA             NA         NA\n",
       "6 499.3243      0.5482047 0.01025764      0.7226396      0.2773604   23.15170\n",
       "  kgSoilN_ha    Rank1             Rank2                 Rank3\n",
       "1         NA Bacteria  __Proteobacteria __Alphaproteobacteria\n",
       "2   31.68148 Bacteria __Verrucomicrobia    __Verrucomicrobiae\n",
       "3         NA Bacteria  __Actinobacteria    __Streptomycetales\n",
       "4   36.70625 Bacteria  __Proteobacteria  __Betaproteobacteria\n",
       "5         NA Bacteria  __Proteobacteria  __Betaproteobacteria\n",
       "6   60.31984 Bacteria  __Proteobacteria  __Betaproteobacteria\n",
       "                 Rank4                 Rank5           Rank6\n",
       "1   __Sphingomonadales   __Sphingomonadaceae   __Sphingobium\n",
       "2 __Verrucomicrobiales __Verrucomicrobiaceae __Luteolibacter\n",
       "3  __Streptomycetaceae        __Streptomyces            <NA>\n",
       "4    __Burkholderiales      __Comamonadaceae     __Pelomonas\n",
       "5    __Burkholderiales    __Oxalobacteraceae      __Massilia\n",
       "6    __Burkholderiales    __Oxalobacteraceae            <NA>\n",
       "                   Rank7 Rank8 Responder\n",
       "1         __Sphingomonas  <NA>         1\n",
       "2 __uncultured_bacterium  <NA>         1\n",
       "3                   <NA>  <NA>        NA\n",
       "4                   <NA>  <NA>         1\n",
       "5                   <NA>  <NA>         1\n",
       "6                   <NA>  <NA>         1\n"
      ]
     },
     "metadata": {},
     "output_type": "display_data"
    }
   ],
   "source": [
    "%%R\n",
    "mdf.r = left_join(mdf, responders.t2, by = \"OTU\")\n",
    "head(mdf.r)"
   ]
  },
  {
   "cell_type": "code",
   "execution_count": 61,
   "metadata": {
    "collapsed": false
   },
   "outputs": [],
   "source": [
    "%%R\n",
    "byFam = mdf.r %>%\n",
    "    mutate(., Family = ifelse(grepl(\"ceae\",Rank4), as.character(Rank4), as.character(Rank5))) %>%\n",
    "    group_by(X.sampleID, Rank2,  Rank3, Rank4, Family) %>% #first sum otus to get family abundances within a sample\n",
    "    summarize(fAbund = sum(Abundance),\n",
    "             nOTU = length(Abundance),\n",
    "             nOTUresp = sum(Responder, na.rm = TRUE)) %>%\n",
    "    group_by(Rank2, Rank3, Rank4, Family) %>%\n",
    "    summarize(mAbund = mean(fAbund),\n",
    "             nOTU = max(nOTU),\n",
    "             nResponder = max(nOTUresp))"
   ]
  },
  {
   "cell_type": "code",
   "execution_count": 63,
   "metadata": {
    "collapsed": false
   },
   "outputs": [
    {
     "data": {
      "text/plain": [
       "[1] \"mean abundance of familes sums to: 1\"\n",
       "[1] \"number of OTUs sums to: 4592\"\n",
       "[1] \"number of rhizosphere responders sums to: 78\"\n"
      ]
     },
     "metadata": {},
     "output_type": "display_data"
    }
   ],
   "source": [
    "%%R\n",
    "# Check that calculations add up \n",
    "paste(\"mean abundance of familes sums to: \", sum(byFam$mAbund), sep = \"\") %>% print\n",
    "paste(\"number of OTUs sums to: \", sum(byFam$nOTU), sep = \"\") %>% print\n",
    "paste(\"number of rhizosphere responders sums to: \", sum(byFam$nResponder), sep = \"\") %>% print"
   ]
  },
  {
   "cell_type": "code",
   "execution_count": 64,
   "metadata": {
    "collapsed": false
   },
   "outputs": [],
   "source": [
    "%%R\n",
    "Top30.t2 = byFam %>% \n",
    "    arrange(desc(mAbund)) %>%\n",
    "    .[1:30,]"
   ]
  },
  {
   "cell_type": "code",
   "execution_count": 66,
   "metadata": {
    "collapsed": false
   },
   "outputs": [
    {
     "data": {
      "text/plain": [
       "Source: local data frame [30 x 7]\n",
       "Groups: Rank2, Rank3, Rank4 [25]\n",
       "\n",
       "                Rank2                 Rank3\n",
       "               <fctr>                <fctr>\n",
       "1     __Acidobacteria               __DA023\n",
       "2    __Actinobacteria    __Streptomycetales\n",
       "3    __Actinobacteria     __Thermoleophilia\n",
       "4    __Planctomycetes    __Planctomycetacia\n",
       "5    __Proteobacteria  __Betaproteobacteria\n",
       "6     __Acidobacteria               __DA023\n",
       "7    __Actinobacteria __Propionibacteriales\n",
       "8    __Actinobacteria     __Thermoleophilia\n",
       "9       __Chloroflexi              __KD4-96\n",
       "10 __Gemmatimonadetes    __Gemmatimonadales\n",
       "11   __Proteobacteria  __Betaproteobacteria\n",
       "12   __Proteobacteria __Alphaproteobacteria\n",
       "13  __Verrucomicrobia    __Verrucomicrobiae\n",
       "14   __Proteobacteria __Gammaproteobacteria\n",
       "15   __Proteobacteria  __Betaproteobacteria\n",
       "16  __Verrucomicrobia    __OPB35_soil_group\n",
       "17   __Actinobacteria   __Pseudonocardiales\n",
       "18    __Bacteroidetes          __Cytophagia\n",
       "19   __Actinobacteria     __Thermoleophilia\n",
       "20    __Acidobacteria               __DA023\n",
       "21   __Actinobacteria       __Micrococcales\n",
       "22    __Bacteroidetes    __Sphingobacteriia\n",
       "23   __Actinobacteria     __Thermoleophilia\n",
       "24   __Proteobacteria __Alphaproteobacteria\n",
       "25   __Actinobacteria       __Micrococcales\n",
       "26   __Actinobacteria       __Micrococcales\n",
       "27   __Actinobacteria           __MB-A2-108\n",
       "28   __Proteobacteria __Deltaproteobacteria\n",
       "29   __Proteobacteria __Alphaproteobacteria\n",
       "30   __Proteobacteria __Gammaproteobacteria\n",
       "# ... with 5 more variables: Rank4 <fctr>, Family <chr>, mAbund <dbl>,\n",
       "#   nOTU <int>, nResponder <dbl>\n"
      ]
     },
     "metadata": {},
     "output_type": "display_data"
    }
   ],
   "source": [
    "%%R\n",
    "print(Top30.t2, n = 30)"
   ]
  },
  {
   "cell_type": "code",
   "execution_count": null,
   "metadata": {
    "collapsed": true
   },
   "outputs": [],
   "source": []
  },
  {
   "cell_type": "code",
   "execution_count": 67,
   "metadata": {
    "collapsed": true
   },
   "outputs": [],
   "source": [
    "%%R\n",
    "write.csv(Top30.t2, file = \"/home/bryan/ERA/data/figures/Top30_t2.csv\", row.names = FALSE)"
   ]
  },
  {
   "cell_type": "markdown",
   "metadata": {},
   "source": [
    "# Generate relative abundances by Family: T3"
   ]
  },
  {
   "cell_type": "code",
   "execution_count": 24,
   "metadata": {
    "collapsed": false
   },
   "outputs": [
    {
     "data": {
      "text/plain": [
       "phyloseq-class experiment-level object\n",
       "otu_table()   OTU Table:         [ 4592 taxa and 72 samples ]\n",
       "sample_data() Sample Data:       [ 72 samples by 46 sample variables ]\n",
       "tax_table()   Taxonomy Table:    [ 4592 taxa by 8 taxonomic ranks ]\n",
       "phy_tree()    Phylogenetic Tree: [ 4592 tips and 4591 internal nodes ]\n"
      ]
     },
     "metadata": {},
     "output_type": "display_data"
    }
   ],
   "source": [
    "%%R\n",
    "phy.plant.t3"
   ]
  },
  {
   "cell_type": "code",
   "execution_count": 25,
   "metadata": {
    "collapsed": false
   },
   "outputs": [
    {
     "data": {
      "text/plain": [
       "       OTU Responder\n",
       "1 OTU.1012         1\n",
       "2 OTU.1495         1\n",
       "3  OTU.314         1\n",
       "4 OTU.1098         1\n",
       "5   OTU.91         1\n",
       "6  OTU.388         1\n",
       "[1] 241   2\n"
      ]
     },
     "metadata": {},
     "output_type": "display_data"
    }
   ],
   "source": [
    "%%R\n",
    "# identify rhizosphere responders at T3\n",
    "responders.t3 = filter(df.l2fc, TimePoint == \"T3\" & log2FoldChange > 0 & p.adj < 0.05) %>%\n",
    "    select(OTU) %>%\n",
    "    mutate(Responder = 1) %>%\n",
    "    unique()\n",
    "head(responders.t3) %>% print\n",
    "dim(responders.t3)"
   ]
  },
  {
   "cell_type": "code",
   "execution_count": 26,
   "metadata": {
    "collapsed": false
   },
   "outputs": [
    {
     "data": {
      "text/plain": [
       "[1] \"Relative abundance of rhizosphere responders from any time point at T3:  0.18539440050168\"\n",
       "[1] \"Relative abundance of rhizosphere responders from any time point at T3:  0.264744740653749\"\n"
      ]
     },
     "metadata": {},
     "output_type": "display_data"
    }
   ],
   "source": [
    "%%R\n",
    "#Calculate portion of rhizosphere samples occupied by responders at T1\n",
    "phy.resp.t3 = prune_taxa(as.character(responders.t1$OTU), phy.plant.t3)\n",
    "Val = sample_sums(phy.resp.t3) %>% mean\n",
    "paste(\"Relative abundance of rhizosphere responders from any time point at T3: \", Val) %>% print\n",
    "\n",
    "#Calculate portion of rhizosphere samples occupied by responders at any time point\n",
    "phy.resp.t3 = prune_taxa(responders.any, phy.plant.t3)\n",
    "Val = sample_sums(phy.resp.t3) %>% mean\n",
    "paste(\"Relative abundance of rhizosphere responders from any time point at T3: \", Val) %>% print"
   ]
  },
  {
   "cell_type": "code",
   "execution_count": 70,
   "metadata": {
    "collapsed": true
   },
   "outputs": [
    {
     "data": {
      "text/plain": [
       "            OTU          Sample  Abundance      X.sampleID TubeID\n",
       "226175    OTU.4 ERA-T3_4-2c_170 0.06991515 ERA-T3_4-2c_170    575\n",
       "226941 OTU.4019 ERA-T3_4-5b_170 0.06578727 ERA-T3_4-5b_170    585\n",
       "226931 OTU.4019 ERA-T3_4-2c_170 0.06525578 ERA-T3_4-2c_170    575\n",
       "226185    OTU.4  ERA-T3_2-5a_85 0.06388878  ERA-T3_2-5a_85    555\n",
       "226157    OTU.4  ERA-T3_1-4a_85 0.05863104  ERA-T3_1-4a_85    540\n",
       "226154    OTU.4  ERA-T3_3-1c_85 0.05862398  ERA-T3_3-1c_85    559\n",
       "       ExtractionPlate PooledDNAPlate Sample.Well.ID PrimerPlate Primer.Number\n",
       "226175            ERA5              B             E8           2            61\n",
       "226941            ERA5              B            D10           2            76\n",
       "226931            ERA5              B             E8           2            61\n",
       "226185            ERA2              A            B11           1            82\n",
       "226157            ERA2              A             A7           1            49\n",
       "226154            ERA4              B             E2           2            13\n",
       "       Primer.Well.ID  X primerFwdLoc primerRevLoc fwd_barcode rev_barcode\n",
       "226175             E8 NA          2-E          2-8    ACGTCTCG    GTCGCTCG\n",
       "226941            D10 NA          2-D         2-10    TACGAGAC    TAGCAGAC\n",
       "226931             E8 NA          2-E          2-8    ACGTCTCG    GTCGCTCG\n",
       "226185            B11 NA          1-B         1-11    ACTATCTG    TCATAGAC\n",
       "226157             A7 NA          1-A          1-7    ATCGTACG    GGAGACTA\n",
       "226154             E2 NA          2-E          2-2    ACGTCTCG    ACTATGTC\n",
       "         PlotID TimePoint Rep Row Pos Fert PlotIndex Plant Genotype\n",
       "226175 4-2c_170        T3   4   2   c  170       201  3517     3517\n",
       "226941 4-5b_170        T3   4   5   b  170       232 34M95    34M95\n",
       "226931 4-2c_170        T3   4   2   c  170       201  3517     3517\n",
       "226185  2-5a_85        T3   2   5   a   85       109  3475     3475\n",
       "226157  1-4a_85        T3   1   4   a   85        37   354      354\n",
       "226154  3-1c_85        T3   3   1   c   85       128  3475     3475\n",
       "       SeedTreatment R_Year ERA BG_activity.g BX_activity.g CB_activity.g\n",
       "226175       Treated   1971   2      84.57769      26.04576      24.26900\n",
       "226941       Treated   2001   3     153.19322      33.18853      41.66629\n",
       "226931       Treated   1971   2      84.57769      26.04576      24.26900\n",
       "226185       Treated   1984   2      86.90080      26.08306      19.71749\n",
       "226157       Treated   1953   1     102.51403      26.03077      27.91100\n",
       "226154       Treated   1984   2      87.91716      24.32274      20.54803\n",
       "       LAP_activity.g NAG_activity.g Stage kgdw_ha FracN.leco FracC.leco\n",
       "226175       212.9520       23.03383    R3   13947         NA         NA\n",
       "226941       244.2621       35.50504    R3   15255  0.0087750    0.43572\n",
       "226931       212.9520       23.03383    R3   13947         NA         NA\n",
       "226185       198.1861       24.57937    R3    9444  0.0063257    0.43708\n",
       "226157       208.8781       23.32548    R3    9786  0.0064663    0.43738\n",
       "226154       184.5332       32.97663    R3    9240  0.0071656    0.43628\n",
       "          kgN_ha        RGR      AGR    Nprod      NupR d15N X15N_AtPercent\n",
       "226175        NA 0.03489676 352.9565       NA        NA   NA             NA\n",
       "226941 11.561940 0.02905348 342.4565 29.61930 -3.235627   NA             NA\n",
       "226931        NA 0.03489676 352.9565       NA        NA   NA             NA\n",
       "226185  2.070402 0.01207031 106.9565 51.65979 -2.996010   NA             NA\n",
       "226157  3.687731 0.02802127 214.3043 58.11279 -1.757464   NA             NA\n",
       "226154  4.310108 0.01507283 126.1304 29.26387 -2.350467   NA             NA\n",
       "       FracN FracN_fromSoil FracN_fromFert kgFertN_ha kgSoilN_ha    Rank1\n",
       "226175    NA             NA             NA         NA         NA Bacteria\n",
       "226941    NA             NA             NA         NA         NA Bacteria\n",
       "226931    NA             NA             NA         NA         NA Bacteria\n",
       "226185    NA             NA             NA         NA         NA Bacteria\n",
       "226157    NA             NA             NA         NA         NA Bacteria\n",
       "226154    NA             NA             NA         NA         NA Bacteria\n",
       "                  Rank2              Rank3               Rank4          Rank5\n",
       "226175 __Actinobacteria __Streptomycetales __Streptomycetaceae __Streptomyces\n",
       "226941 __Actinobacteria __Streptomycetales __Streptomycetaceae __Streptomyces\n",
       "226931 __Actinobacteria __Streptomycetales __Streptomycetaceae __Streptomyces\n",
       "226185 __Actinobacteria __Streptomycetales __Streptomycetaceae __Streptomyces\n",
       "226157 __Actinobacteria __Streptomycetales __Streptomycetaceae __Streptomyces\n",
       "226154 __Actinobacteria __Streptomycetales __Streptomycetaceae __Streptomyces\n",
       "       Rank6 Rank7 Rank8\n",
       "226175  <NA>  <NA>  <NA>\n",
       "226941  <NA>  <NA>  <NA>\n",
       "226931  <NA>  <NA>  <NA>\n",
       "226185  <NA>  <NA>  <NA>\n",
       "226157  <NA>  <NA>  <NA>\n",
       "226154  <NA>  <NA>  <NA>\n"
      ]
     },
     "metadata": {},
     "output_type": "display_data"
    }
   ],
   "source": [
    "%%R\n",
    "mdf = psmelt(phy.plant.t3)\n",
    "head(mdf)"
   ]
  },
  {
   "cell_type": "code",
   "execution_count": 71,
   "metadata": {
    "collapsed": true
   },
   "outputs": [
    {
     "data": {
      "text/plain": [
       "       OTU          Sample  Abundance      X.sampleID TubeID ExtractionPlate\n",
       "1    OTU.4 ERA-T3_4-2c_170 0.06991515 ERA-T3_4-2c_170    575            ERA5\n",
       "2 OTU.4019 ERA-T3_4-5b_170 0.06578727 ERA-T3_4-5b_170    585            ERA5\n",
       "3 OTU.4019 ERA-T3_4-2c_170 0.06525578 ERA-T3_4-2c_170    575            ERA5\n",
       "4    OTU.4  ERA-T3_2-5a_85 0.06388878  ERA-T3_2-5a_85    555            ERA2\n",
       "5    OTU.4  ERA-T3_1-4a_85 0.05863104  ERA-T3_1-4a_85    540            ERA2\n",
       "6    OTU.4  ERA-T3_3-1c_85 0.05862398  ERA-T3_3-1c_85    559            ERA4\n",
       "  PooledDNAPlate Sample.Well.ID PrimerPlate Primer.Number Primer.Well.ID  X\n",
       "1              B             E8           2            61             E8 NA\n",
       "2              B            D10           2            76            D10 NA\n",
       "3              B             E8           2            61             E8 NA\n",
       "4              A            B11           1            82            B11 NA\n",
       "5              A             A7           1            49             A7 NA\n",
       "6              B             E2           2            13             E2 NA\n",
       "  primerFwdLoc primerRevLoc fwd_barcode rev_barcode   PlotID TimePoint Rep Row\n",
       "1          2-E          2-8    ACGTCTCG    GTCGCTCG 4-2c_170        T3   4   2\n",
       "2          2-D         2-10    TACGAGAC    TAGCAGAC 4-5b_170        T3   4   5\n",
       "3          2-E          2-8    ACGTCTCG    GTCGCTCG 4-2c_170        T3   4   2\n",
       "4          1-B         1-11    ACTATCTG    TCATAGAC  2-5a_85        T3   2   5\n",
       "5          1-A          1-7    ATCGTACG    GGAGACTA  1-4a_85        T3   1   4\n",
       "6          2-E          2-2    ACGTCTCG    ACTATGTC  3-1c_85        T3   3   1\n",
       "  Pos Fert PlotIndex Plant Genotype SeedTreatment R_Year ERA BG_activity.g\n",
       "1   c  170       201  3517     3517       Treated   1971   2      84.57769\n",
       "2   b  170       232 34M95    34M95       Treated   2001   3     153.19322\n",
       "3   c  170       201  3517     3517       Treated   1971   2      84.57769\n",
       "4   a   85       109  3475     3475       Treated   1984   2      86.90080\n",
       "5   a   85        37   354      354       Treated   1953   1     102.51403\n",
       "6   c   85       128  3475     3475       Treated   1984   2      87.91716\n",
       "  BX_activity.g CB_activity.g LAP_activity.g NAG_activity.g Stage kgdw_ha\n",
       "1      26.04576      24.26900       212.9520       23.03383    R3   13947\n",
       "2      33.18853      41.66629       244.2621       35.50504    R3   15255\n",
       "3      26.04576      24.26900       212.9520       23.03383    R3   13947\n",
       "4      26.08306      19.71749       198.1861       24.57937    R3    9444\n",
       "5      26.03077      27.91100       208.8781       23.32548    R3    9786\n",
       "6      24.32274      20.54803       184.5332       32.97663    R3    9240\n",
       "  FracN.leco FracC.leco    kgN_ha        RGR      AGR    Nprod      NupR d15N\n",
       "1         NA         NA        NA 0.03489676 352.9565       NA        NA   NA\n",
       "2  0.0087750    0.43572 11.561940 0.02905348 342.4565 29.61930 -3.235627   NA\n",
       "3         NA         NA        NA 0.03489676 352.9565       NA        NA   NA\n",
       "4  0.0063257    0.43708  2.070402 0.01207031 106.9565 51.65979 -2.996010   NA\n",
       "5  0.0064663    0.43738  3.687731 0.02802127 214.3043 58.11279 -1.757464   NA\n",
       "6  0.0071656    0.43628  4.310108 0.01507283 126.1304 29.26387 -2.350467   NA\n",
       "  X15N_AtPercent FracN FracN_fromSoil FracN_fromFert kgFertN_ha kgSoilN_ha\n",
       "1             NA    NA             NA             NA         NA         NA\n",
       "2             NA    NA             NA             NA         NA         NA\n",
       "3             NA    NA             NA             NA         NA         NA\n",
       "4             NA    NA             NA             NA         NA         NA\n",
       "5             NA    NA             NA             NA         NA         NA\n",
       "6             NA    NA             NA             NA         NA         NA\n",
       "     Rank1            Rank2              Rank3               Rank4\n",
       "1 Bacteria __Actinobacteria __Streptomycetales __Streptomycetaceae\n",
       "2 Bacteria __Actinobacteria __Streptomycetales __Streptomycetaceae\n",
       "3 Bacteria __Actinobacteria __Streptomycetales __Streptomycetaceae\n",
       "4 Bacteria __Actinobacteria __Streptomycetales __Streptomycetaceae\n",
       "5 Bacteria __Actinobacteria __Streptomycetales __Streptomycetaceae\n",
       "6 Bacteria __Actinobacteria __Streptomycetales __Streptomycetaceae\n",
       "           Rank5 Rank6 Rank7 Rank8 Responder\n",
       "1 __Streptomyces  <NA>  <NA>  <NA>         1\n",
       "2 __Streptomyces  <NA>  <NA>  <NA>         1\n",
       "3 __Streptomyces  <NA>  <NA>  <NA>         1\n",
       "4 __Streptomyces  <NA>  <NA>  <NA>         1\n",
       "5 __Streptomyces  <NA>  <NA>  <NA>         1\n",
       "6 __Streptomyces  <NA>  <NA>  <NA>         1\n"
      ]
     },
     "metadata": {},
     "output_type": "display_data"
    }
   ],
   "source": [
    "%%R\n",
    "mdf.r = left_join(mdf, responders.t3, by = \"OTU\")\n",
    "head(mdf.r)"
   ]
  },
  {
   "cell_type": "code",
   "execution_count": 72,
   "metadata": {
    "collapsed": false
   },
   "outputs": [],
   "source": [
    "%%R\n",
    "byFam = mdf.r %>%\n",
    "    mutate(., Family = ifelse(grepl(\"ceae\",Rank4), as.character(Rank4), as.character(Rank5))) %>%\n",
    "    group_by(X.sampleID, Rank2,  Rank3, Rank4, Family) %>% #first sum otus to get family abundances within a sample\n",
    "    summarize(fAbund = sum(Abundance),\n",
    "             nOTU = length(Abundance),\n",
    "             nOTUresp = sum(Responder, na.rm = TRUE)) %>%\n",
    "    group_by(Rank2, Rank3, Rank4, Family) %>%\n",
    "    summarize(mAbund = mean(fAbund),\n",
    "             nOTU = max(nOTU),\n",
    "             nResponder = max(nOTUresp))"
   ]
  },
  {
   "cell_type": "code",
   "execution_count": 73,
   "metadata": {
    "collapsed": false
   },
   "outputs": [
    {
     "data": {
      "text/plain": [
       "[1] \"mean abundance of familes sums to: 1\"\n",
       "[1] \"number of OTUs sums to: 4592\"\n",
       "[1] \"number of rhizosphere responders sums to: 241\"\n"
      ]
     },
     "metadata": {},
     "output_type": "display_data"
    }
   ],
   "source": [
    "%%R\n",
    "# Check that calculations add up \n",
    "paste(\"mean abundance of familes sums to: \", sum(byFam$mAbund), sep = \"\") %>% print\n",
    "paste(\"number of OTUs sums to: \", sum(byFam$nOTU), sep = \"\") %>% print\n",
    "paste(\"number of rhizosphere responders sums to: \", sum(byFam$nResponder), sep = \"\") %>% print"
   ]
  },
  {
   "cell_type": "code",
   "execution_count": 74,
   "metadata": {
    "collapsed": false
   },
   "outputs": [],
   "source": [
    "%%R\n",
    "Top30.t3= byFam %>% \n",
    "    arrange(desc(mAbund)) %>%\n",
    "    .[1:30,]"
   ]
  },
  {
   "cell_type": "code",
   "execution_count": 75,
   "metadata": {
    "collapsed": false,
    "scrolled": true
   },
   "outputs": [
    {
     "data": {
      "text/plain": [
       "Source: local data frame [30 x 7]\n",
       "Groups: Rank2, Rank3, Rank4 [24]\n",
       "\n",
       "                Rank2                 Rank3\n",
       "               <fctr>                <fctr>\n",
       "1    __Actinobacteria    __Streptomycetales\n",
       "2     __Acidobacteria               __DA023\n",
       "3    __Proteobacteria  __Betaproteobacteria\n",
       "4    __Actinobacteria     __Thermoleophilia\n",
       "5    __Planctomycetes    __Planctomycetacia\n",
       "6    __Actinobacteria __Propionibacteriales\n",
       "7    __Actinobacteria   __Pseudonocardiales\n",
       "8     __Acidobacteria               __DA023\n",
       "9    __Actinobacteria     __Thermoleophilia\n",
       "10      __Chloroflexi              __KD4-96\n",
       "11   __Proteobacteria __Alphaproteobacteria\n",
       "12 __Gemmatimonadetes    __Gemmatimonadales\n",
       "13   __Proteobacteria __Gammaproteobacteria\n",
       "14  __Verrucomicrobia    __OPB35_soil_group\n",
       "15    __Bacteroidetes          __Cytophagia\n",
       "16   __Proteobacteria  __Betaproteobacteria\n",
       "17   __Proteobacteria  __Betaproteobacteria\n",
       "18  __Verrucomicrobia    __Verrucomicrobiae\n",
       "19    __Bacteroidetes    __Sphingobacteriia\n",
       "20   __Actinobacteria       __Micrococcales\n",
       "21   __Actinobacteria   __Micromonosporales\n",
       "22   __Actinobacteria     __Thermoleophilia\n",
       "23   __Actinobacteria     __Thermoleophilia\n",
       "24    __Acidobacteria               __DA023\n",
       "25   __Proteobacteria __Alphaproteobacteria\n",
       "26   __Proteobacteria __Alphaproteobacteria\n",
       "27   __Actinobacteria       __Micrococcales\n",
       "28   __Proteobacteria __Gammaproteobacteria\n",
       "29   __Actinobacteria       __Micrococcales\n",
       "30   __Proteobacteria __Alphaproteobacteria\n",
       "# ... with 5 more variables: Rank4 <fctr>, Family <chr>, mAbund <dbl>,\n",
       "#   nOTU <int>, nResponder <dbl>\n"
      ]
     },
     "metadata": {},
     "output_type": "display_data"
    }
   ],
   "source": [
    "%%R\n",
    "print(Top30.t3, n = 30)"
   ]
  },
  {
   "cell_type": "code",
   "execution_count": 76,
   "metadata": {
    "collapsed": true
   },
   "outputs": [],
   "source": [
    "%%R\n",
    "write.csv(Top30.t3, file = \"/home/bryan/ERA/data/figures/Top30_t3.csv\", row.names = FALSE)"
   ]
  },
  {
   "cell_type": "code",
   "execution_count": null,
   "metadata": {
    "collapsed": true
   },
   "outputs": [],
   "source": [
    "# Composition of rhizosphere responders"
   ]
  },
  {
   "cell_type": "code",
   "execution_count": 80,
   "metadata": {
    "collapsed": false,
    "scrolled": true
   },
   "outputs": [],
   "source": [
    "%%R\n",
    "OTUl2f = filter(df.l2fc,log2FoldChange > 0 & p.adj < 0.05) %>%\n",
    "    group_by(Rank2, Rank3, Rank4, Rank5) %>%\n",
    "    summarize(numOTUs = length(OTU),\n",
    "             maxl2fc_withinFamily = max(log2FoldChange))%>%\n",
    "    arrange(Rank5)\n",
    "\n"
   ]
  },
  {
   "cell_type": "code",
   "execution_count": 81,
   "metadata": {
    "collapsed": true
   },
   "outputs": [],
   "source": [
    "%%R\n",
    "write.csv(OTUl2f, file = '/home/bryan/ERA/data/figures/l2f_byFamily_table.csv')"
   ]
  },
  {
   "cell_type": "markdown",
   "metadata": {},
   "source": [
    "# Composition of rhizosphere samples by OTU"
   ]
  },
  {
   "cell_type": "code",
   "execution_count": 83,
   "metadata": {
    "collapsed": false
   },
   "outputs": [],
   "source": [
    "%%R\n",
    "mdf.1 = psmelt(phy.plant.t1)\n",
    "mdf.2 = psmelt(phy.plant.t2)\n",
    "mdf.3 = psmelt(phy.plant.t3)"
   ]
  },
  {
   "cell_type": "code",
   "execution_count": 85,
   "metadata": {
    "collapsed": false
   },
   "outputs": [],
   "source": [
    "%%R\n",
    "mdf.1.r = left_join(mdf.1, responders.t1, by = \"OTU\")\n",
    "mdf.2.r = left_join(mdf.2, responders.t2, by = \"OTU\")\n",
    "mdf.3.r = left_join(mdf.3, responders.t3, by = \"OTU\")"
   ]
  },
  {
   "cell_type": "code",
   "execution_count": 90,
   "metadata": {
    "collapsed": false
   },
   "outputs": [],
   "source": [
    "%%R\n",
    "byOTU.1 = mdf.1.r %>% \n",
    "    group_by(OTU, Rank2, Rank3, Rank4, Rank5, Rank6, Rank7) %>%\n",
    "    summarize(relAbund = mean(Abundance)*100,\n",
    "             responder = max(Responder, na.rm = TRUE)) %>%\n",
    "    arrange(desc(relAbund)) %>%\n",
    "    .[1:30,] %>%\n",
    "    mutate(TimePoint = \"T1\")\n",
    "\n",
    "byOTU.2 = mdf.2.r %>% \n",
    "     group_by(OTU, Rank2, Rank3, Rank4, Rank5, Rank6, Rank7) %>%\n",
    "    summarize(relAbund = mean(Abundance)*100,\n",
    "             responder = max(Responder, na.rm = TRUE)) %>%\n",
    "    arrange(desc(relAbund))%>%\n",
    "    .[1:30,]%>%\n",
    "    mutate(TimePoint = \"T2\")\n",
    "\n",
    "byOTU.3 = mdf.3.r %>% \n",
    "    group_by(OTU, Rank2, Rank3, Rank4, Rank5, Rank6, Rank7) %>%\n",
    "    summarize(relAbund = mean(Abundance)*100,\n",
    "             responder = max(Responder, na.rm = TRUE)) %>%\n",
    "    arrange(desc(relAbund))%>%\n",
    "    .[1:30,] %>%\n",
    "    mutate(TimePoint = \"T3\")\n",
    "\n",
    "Top30 = bind_rows(byOTU.1, byOTU.2, byOTU.3)"
   ]
  },
  {
   "cell_type": "code",
   "execution_count": 91,
   "metadata": {
    "collapsed": false,
    "scrolled": true
   },
   "outputs": [
    {
     "data": {
      "text/plain": [
       "Source: local data frame [6 x 10]\n",
       "Groups: OTU, Rank2, Rank3, Rank4, Rank5, Rank6 [6]\n",
       "\n",
       "     OTU            Rank2                Rank3                  Rank4\n",
       "   <chr>           <fctr>               <fctr>                 <fctr>\n",
       "1 OTU.16    __Chloroflexi             __KD4-96 __uncultured_bacterium\n",
       "2 OTU.27 __Actinobacteria    __Thermoleophilia           __Gaiellales\n",
       "3  OTU.6 __Actinobacteria          __MB-A2-108 __uncultured_bacterium\n",
       "4 OTU.17 __Actinobacteria      __Micrococcales   __Intrasporangiaceae\n",
       "5 OTU.13 __Actinobacteria    __Thermoleophilia           __Gaiellales\n",
       "6 OTU.30 __Proteobacteria __Betaproteobacteria      __Burkholderiales\n",
       "# ... with 6 more variables: Rank5 <fctr>, Rank6 <fctr>, Rank7 <fctr>,\n",
       "#   relAbund <dbl>, responder <dbl>, TimePoint <chr>\n"
      ]
     },
     "metadata": {},
     "output_type": "display_data"
    }
   ],
   "source": [
    "%%R\n",
    "head(Top30)"
   ]
  },
  {
   "cell_type": "code",
   "execution_count": 92,
   "metadata": {
    "collapsed": true
   },
   "outputs": [],
   "source": [
    "%%R\n",
    "write.csv(Top30, file = '/home/bryan/ERA/data/figures/Top30_rhizOTUs.csv')"
   ]
  },
  {
   "cell_type": "code",
   "execution_count": 77,
   "metadata": {
    "collapsed": false
   },
   "outputs": [
    {
     "data": {
      "text/plain": [
       "R version 3.3.2 (2016-10-31)\n",
       "Platform: x86_64-pc-linux-gnu (64-bit)\n",
       "Running under: Ubuntu 16.04.2 LTS\n",
       "\n",
       "locale:\n",
       " [1] LC_CTYPE=en_US.UTF-8       LC_NUMERIC=C              \n",
       " [3] LC_TIME=en_US.UTF-8        LC_COLLATE=en_US.UTF-8    \n",
       " [5] LC_MONETARY=en_US.UTF-8    LC_MESSAGES=en_US.UTF-8   \n",
       " [7] LC_PAPER=en_US.UTF-8       LC_NAME=C                 \n",
       " [9] LC_ADDRESS=C               LC_TELEPHONE=C            \n",
       "[11] LC_MEASUREMENT=en_US.UTF-8 LC_IDENTIFICATION=C       \n",
       "\n",
       "attached base packages:\n",
       "[1] tools     stats     graphics  grDevices utils     datasets  methods  \n",
       "[8] base     \n",
       "\n",
       "other attached packages:\n",
       "[1] reshape2_1.4.2  tidyr_0.6.1     dplyr_0.5.0     phyloseq_1.19.1\n",
       "[5] ggplot2_2.2.1  \n",
       "\n",
       "loaded via a namespace (and not attached):\n",
       " [1] Rcpp_0.12.10        plyr_1.8.4          XVector_0.14.1     \n",
       " [4] iterators_1.0.8     zlibbioc_1.20.0     jsonlite_1.4       \n",
       " [7] tibble_1.3.0        gtable_0.2.0        nlme_3.1-131       \n",
       "[10] rhdf5_2.18.0        lattice_0.20-35     mgcv_1.8-17        \n",
       "[13] Matrix_1.2-8        foreach_1.4.3       igraph_1.0.1       \n",
       "[16] DBI_0.6-1           parallel_3.3.2      stringr_1.2.0      \n",
       "[19] cluster_2.0.6       Biostrings_2.42.1   S4Vectors_0.12.2   \n",
       "[22] IRanges_2.8.2       stats4_3.3.2        ade4_1.7-6         \n",
       "[25] multtest_2.30.0     grid_3.3.2          Biobase_2.34.0     \n",
       "[28] data.table_1.10.4   R6_2.2.0            survival_2.41-3    \n",
       "[31] magrittr_1.5        scales_0.4.1        codetools_0.2-15   \n",
       "[34] BiocGenerics_0.20.0 splines_3.3.2       MASS_7.3-45        \n",
       "[37] assertthat_0.2.0    biomformat_1.2.0    permute_0.9-4      \n",
       "[40] ape_4.1             colorspace_1.3-2    stringi_1.1.5      \n",
       "[43] lazyeval_0.2.0      munsell_0.4.3       vegan_2.4-3        \n"
      ]
     },
     "metadata": {},
     "output_type": "display_data"
    }
   ],
   "source": [
    "%%R\n",
    "sessionInfo()"
   ]
  }
 ],
 "metadata": {
  "hide_input": true,
  "kernelspec": {
   "display_name": "Python 2",
   "language": "python",
   "name": "python2"
  },
  "language_info": {
   "codemirror_mode": {
    "name": "ipython",
    "version": 2
   },
   "file_extension": ".py",
   "mimetype": "text/x-python",
   "name": "python",
   "nbconvert_exporter": "python",
   "pygments_lexer": "ipython2",
   "version": "2.7.13"
  }
 },
 "nbformat": 4,
 "nbformat_minor": 2
}
