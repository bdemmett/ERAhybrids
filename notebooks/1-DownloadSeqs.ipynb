{
 "cells": [
  {
   "cell_type": "markdown",
   "metadata": {},
   "source": [
    "# download seqs"
   ]
  },
  {
   "cell_type": "code",
   "execution_count": 1,
   "metadata": {
    "collapsed": true
   },
   "outputs": [],
   "source": [
    "# temporary home for sequence data in home directory\n",
    "seqDir = '/home/bryan/ERA/data/MiSeq/20170417_run1/'"
   ]
  },
  {
   "cell_type": "markdown",
   "metadata": {},
   "source": [
    "# Init"
   ]
  },
  {
   "cell_type": "code",
   "execution_count": 2,
   "metadata": {
    "collapsed": true
   },
   "outputs": [],
   "source": [
    "import os\n",
    "from glob import glob"
   ]
  },
  {
   "cell_type": "code",
   "execution_count": 3,
   "metadata": {
    "collapsed": false
   },
   "outputs": [],
   "source": [
    "if not os.path.isdir(seqDir):  \n",
    " os.makedirs(seqDir)"
   ]
  },
  {
   "cell_type": "markdown",
   "metadata": {
    "collapsed": true
   },
   "source": [
    "## Read 1"
   ]
  },
  {
   "cell_type": "code",
   "execution_count": 4,
   "metadata": {
    "collapsed": false
   },
   "outputs": [
    {
     "name": "stdout",
     "output_type": "stream",
     "text": [
      "--2017-04-18 08:42:09--  http://cbsuapps.tc.cornell.edu/Sequencing/showseqfile.aspx?mode=http&cntrl=1299192041&refid=236842\n",
      "Resolving cbsuapps.tc.cornell.edu (cbsuapps.tc.cornell.edu)... 128.84.3.245\n",
      "Connecting to cbsuapps.tc.cornell.edu (cbsuapps.tc.cornell.edu)|128.84.3.245|:80... connected.\n",
      "HTTP request sent, awaiting response... 200 OK\n",
      "Length: 3903821688 (3.6G) [application/octet-stream]\n",
      "Saving to: ‘read1.fq.gz’\n",
      "\n",
      "read1.fq.gz          20%[===>                ] 778.81M  23.7MB/s    eta 1m 53s **OUTPUT MUTED**"
     ]
    }
   ],
   "source": [
    "!cd $seqDir; \\\n",
    "    wget -O read1.fq.gz \\\n",
    "    \"http://cbsuapps.tc.cornell.edu/Sequencing/showseqfile.aspx?mode=http&cntrl=1299192041&refid=236842\""
   ]
  },
  {
   "cell_type": "code",
   "execution_count": null,
   "metadata": {
    "collapsed": true
   },
   "outputs": [],
   "source": [
    "## Read 2"
   ]
  },
  {
   "cell_type": "code",
   "execution_count": 5,
   "metadata": {
    "collapsed": false
   },
   "outputs": [
    {
     "name": "stdout",
     "output_type": "stream",
     "text": [
      "--2017-04-18 08:44:31--  http://cbsuapps.tc.cornell.edu/Sequencing/showseqfile.aspx?mode=http&cntrl=1607115503&refid=236843\n",
      "Resolving cbsuapps.tc.cornell.edu (cbsuapps.tc.cornell.edu)... 128.84.3.245\n",
      "Connecting to cbsuapps.tc.cornell.edu (cbsuapps.tc.cornell.edu)|128.84.3.245|:80... connected.\n",
      "HTTP request sent, awaiting response... 200 OK\n",
      "Length: 4165070833 (3.9G) [application/octet-stream]\n",
      "Saving to: ‘read2.fq.gz’\n",
      "\n",
      "read2.fq.gz          17%[==>                 ] 686.04M  13.5MB/s    eta 3m 8s  **OUTPUT MUTED**"
     ]
    }
   ],
   "source": [
    "!cd $seqDir; \\\n",
    "    wget -O read2.fq.gz \\\n",
    "    \"http://cbsuapps.tc.cornell.edu/Sequencing/showseqfile.aspx?mode=http&cntrl=1607115503&refid=236843\""
   ]
  },
  {
   "cell_type": "markdown",
   "metadata": {},
   "source": [
    "## Index 1"
   ]
  },
  {
   "cell_type": "code",
   "execution_count": 6,
   "metadata": {
    "collapsed": false
   },
   "outputs": [
    {
     "name": "stdout",
     "output_type": "stream",
     "text": [
      "--2017-04-18 08:48:39--  http://cbsuapps.tc.cornell.edu/Sequencing/showseqfile.aspx?mode=http&cntrl=673651107&refid=236844\n",
      "Resolving cbsuapps.tc.cornell.edu (cbsuapps.tc.cornell.edu)... 128.84.3.245\n",
      "Connecting to cbsuapps.tc.cornell.edu (cbsuapps.tc.cornell.edu)|128.84.3.245|:80... connected.\n",
      "HTTP request sent, awaiting response... 200 OK\n",
      "Length: 241946641 (231M) [application/octet-stream]\n",
      "Saving to: ‘index1.fq.gz’\n",
      "\n",
      "index1.fq.gz        100%[===================>] 230.74M  27.8MB/s    in 12s     \n",
      "\n",
      "2017-04-18 08:48:52 (19.5 MB/s) - ‘index1.fq.gz’ saved [241946641/241946641]\n",
      "\n"
     ]
    }
   ],
   "source": [
    "!cd $seqDir; \\\n",
    "    wget -O index1.fq.gz \\\n",
    "    \"http://cbsuapps.tc.cornell.edu/Sequencing/showseqfile.aspx?mode=http&cntrl=673651107&refid=236844\""
   ]
  },
  {
   "cell_type": "markdown",
   "metadata": {},
   "source": [
    "## Index 2"
   ]
  },
  {
   "cell_type": "code",
   "execution_count": 7,
   "metadata": {
    "collapsed": false,
    "scrolled": true
   },
   "outputs": [
    {
     "name": "stdout",
     "output_type": "stream",
     "text": [
      "--2017-04-18 08:48:52--  http://cbsuapps.tc.cornell.edu/Sequencing/showseqfile.aspx?mode=http&cntrl=319106620&refid=236845\n",
      "Resolving cbsuapps.tc.cornell.edu (cbsuapps.tc.cornell.edu)... 128.84.3.245\n",
      "Connecting to cbsuapps.tc.cornell.edu (cbsuapps.tc.cornell.edu)|128.84.3.245|:80... connected.\n",
      "HTTP request sent, awaiting response... 200 OK\n",
      "Length: 237092002 (226M) [application/octet-stream]\n",
      "Saving to: ‘index2.fq.gz’\n",
      "\n",
      "index2.fq.gz        100%[===================>] 226.11M  23.1MB/s    in 9.2s    \n",
      "\n",
      "2017-04-18 08:49:02 (24.7 MB/s) - ‘index2.fq.gz’ saved [237092002/237092002]\n",
      "\n"
     ]
    }
   ],
   "source": [
    "!cd $seqDir; \\\n",
    "    wget -O index2.fq.gz \\\n",
    "    \"http://cbsuapps.tc.cornell.edu/Sequencing/showseqfile.aspx?mode=http&cntrl=319106620&refid=236845\""
   ]
  }
 ],
 "metadata": {
  "anaconda-cloud": {},
  "hide_input": true,
  "kernelspec": {
   "display_name": "Python 2",
   "language": "python",
   "name": "python2"
  },
  "language_info": {
   "codemirror_mode": {
    "name": "ipython",
    "version": 2
   },
   "file_extension": ".py",
   "mimetype": "text/x-python",
   "name": "python",
   "nbconvert_exporter": "python",
   "pygments_lexer": "ipython2",
   "version": "2.7.13"
  }
 },
 "nbformat": 4,
 "nbformat_minor": 1
}
