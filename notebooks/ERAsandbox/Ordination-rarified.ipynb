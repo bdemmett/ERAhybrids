{
 "cells": [
  {
   "cell_type": "markdown",
   "metadata": {},
   "source": [
    "## Description:\n",
    "\n",
    "    Determine if rarification influences conclusions from ordination and dissimilarity analysis\n",
    "\n"
   ]
  },
  {
   "cell_type": "markdown",
   "metadata": {},
   "source": [
    "# Init"
   ]
  },
  {
   "cell_type": "code",
   "execution_count": 1,
   "metadata": {
    "collapsed": true
   },
   "outputs": [],
   "source": [
    "%load_ext rpy2.ipython"
   ]
  },
  {
   "cell_type": "code",
   "execution_count": 2,
   "metadata": {
    "collapsed": false
   },
   "outputs": [
    {
     "name": "stderr",
     "output_type": "stream",
     "text": [
      "/opt/anaconda2/lib/python2.7/site-packages/rpy2/rinterface/__init__.py:186: RRuntimeWarning: foreach: simple, scalable parallel programming from Revolution Analytics\n",
      "Use Revolution R for scalability, fault tolerance and more.\n",
      "http://www.revolutionanalytics.com\n",
      "\n",
      "  warnings.warn(x, RRuntimeWarning)\n",
      "/opt/anaconda2/lib/python2.7/site-packages/rpy2/rinterface/__init__.py:186: RRuntimeWarning: Loading required package: iterators\n",
      "\n",
      "  warnings.warn(x, RRuntimeWarning)\n",
      "/opt/anaconda2/lib/python2.7/site-packages/rpy2/rinterface/__init__.py:186: RRuntimeWarning: Loading required package: parallel\n",
      "\n",
      "  warnings.warn(x, RRuntimeWarning)\n",
      "/opt/anaconda2/lib/python2.7/site-packages/rpy2/rinterface/__init__.py:186: RRuntimeWarning: \n",
      "Attaching package: ‘dplyr’\n",
      "\n",
      "\n",
      "  warnings.warn(x, RRuntimeWarning)\n",
      "/opt/anaconda2/lib/python2.7/site-packages/rpy2/rinterface/__init__.py:186: RRuntimeWarning: The following object is masked from ‘package:gridExtra’:\n",
      "\n",
      "    combine\n",
      "\n",
      "\n",
      "  warnings.warn(x, RRuntimeWarning)\n",
      "/opt/anaconda2/lib/python2.7/site-packages/rpy2/rinterface/__init__.py:186: RRuntimeWarning: The following objects are masked from ‘package:stats’:\n",
      "\n",
      "    filter, lag\n",
      "\n",
      "\n",
      "  warnings.warn(x, RRuntimeWarning)\n",
      "/opt/anaconda2/lib/python2.7/site-packages/rpy2/rinterface/__init__.py:186: RRuntimeWarning: The following objects are masked from ‘package:base’:\n",
      "\n",
      "    intersect, setdiff, setequal, union\n",
      "\n",
      "\n",
      "  warnings.warn(x, RRuntimeWarning)\n",
      "/opt/anaconda2/lib/python2.7/site-packages/rpy2/rinterface/__init__.py:186: RRuntimeWarning: Loading required package: permute\n",
      "\n",
      "  warnings.warn(x, RRuntimeWarning)\n",
      "/opt/anaconda2/lib/python2.7/site-packages/rpy2/rinterface/__init__.py:186: RRuntimeWarning: Loading required package: lattice\n",
      "\n",
      "  warnings.warn(x, RRuntimeWarning)\n",
      "/opt/anaconda2/lib/python2.7/site-packages/rpy2/rinterface/__init__.py:186: RRuntimeWarning: This is vegan 2.4-3\n",
      "\n",
      "  warnings.warn(x, RRuntimeWarning)\n",
      "/opt/anaconda2/lib/python2.7/site-packages/rpy2/rinterface/__init__.py:186: RRuntimeWarning: Loading required package: S4Vectors\n",
      "\n",
      "  warnings.warn(x, RRuntimeWarning)\n",
      "/opt/anaconda2/lib/python2.7/site-packages/rpy2/rinterface/__init__.py:186: RRuntimeWarning: Loading required package: stats4\n",
      "\n",
      "  warnings.warn(x, RRuntimeWarning)\n",
      "/opt/anaconda2/lib/python2.7/site-packages/rpy2/rinterface/__init__.py:186: RRuntimeWarning: Loading required package: BiocGenerics\n",
      "\n",
      "  warnings.warn(x, RRuntimeWarning)\n",
      "/opt/anaconda2/lib/python2.7/site-packages/rpy2/rinterface/__init__.py:186: RRuntimeWarning: \n",
      "Attaching package: ‘BiocGenerics’\n",
      "\n",
      "\n",
      "  warnings.warn(x, RRuntimeWarning)\n",
      "/opt/anaconda2/lib/python2.7/site-packages/rpy2/rinterface/__init__.py:186: RRuntimeWarning: The following objects are masked from ‘package:dplyr’:\n",
      "\n",
      "    combine, intersect, setdiff, union\n",
      "\n",
      "\n",
      "  warnings.warn(x, RRuntimeWarning)\n",
      "/opt/anaconda2/lib/python2.7/site-packages/rpy2/rinterface/__init__.py:186: RRuntimeWarning: The following objects are masked from ‘package:parallel’:\n",
      "\n",
      "    clusterApply, clusterApplyLB, clusterCall, clusterEvalQ,\n",
      "    clusterExport, clusterMap, parApply, parCapply, parLapply,\n",
      "    parLapplyLB, parRapply, parSapply, parSapplyLB\n",
      "\n",
      "\n",
      "  warnings.warn(x, RRuntimeWarning)\n",
      "/opt/anaconda2/lib/python2.7/site-packages/rpy2/rinterface/__init__.py:186: RRuntimeWarning: The following objects are masked from ‘package:stats’:\n",
      "\n",
      "    IQR, mad, xtabs\n",
      "\n",
      "\n",
      "  warnings.warn(x, RRuntimeWarning)\n",
      "/opt/anaconda2/lib/python2.7/site-packages/rpy2/rinterface/__init__.py:186: RRuntimeWarning: The following objects are masked from ‘package:base’:\n",
      "\n",
      "    anyDuplicated, append, as.data.frame, cbind, colnames, do.call,\n",
      "    duplicated, eval, evalq, Filter, Find, get, grep, grepl, intersect,\n",
      "    is.unsorted, lapply, lengths, Map, mapply, match, mget, order,\n",
      "    paste, pmax, pmax.int, pmin, pmin.int, Position, rank, rbind,\n",
      "    Reduce, rownames, sapply, setdiff, sort, table, tapply, union,\n",
      "    unique, unsplit, which, which.max, which.min\n",
      "\n",
      "\n",
      "  warnings.warn(x, RRuntimeWarning)\n",
      "/opt/anaconda2/lib/python2.7/site-packages/rpy2/rinterface/__init__.py:186: RRuntimeWarning: \n",
      "Attaching package: ‘S4Vectors’\n",
      "\n",
      "\n",
      "  warnings.warn(x, RRuntimeWarning)\n",
      "/opt/anaconda2/lib/python2.7/site-packages/rpy2/rinterface/__init__.py:186: RRuntimeWarning: The following object is masked from ‘package:tidyr’:\n",
      "\n",
      "    expand\n",
      "\n",
      "\n",
      "  warnings.warn(x, RRuntimeWarning)\n",
      "/opt/anaconda2/lib/python2.7/site-packages/rpy2/rinterface/__init__.py:186: RRuntimeWarning: The following objects are masked from ‘package:dplyr’:\n",
      "\n",
      "    first, rename\n",
      "\n",
      "\n",
      "  warnings.warn(x, RRuntimeWarning)\n",
      "/opt/anaconda2/lib/python2.7/site-packages/rpy2/rinterface/__init__.py:186: RRuntimeWarning: The following objects are masked from ‘package:base’:\n",
      "\n",
      "    colMeans, colSums, expand.grid, rowMeans, rowSums\n",
      "\n",
      "\n",
      "  warnings.warn(x, RRuntimeWarning)\n",
      "/opt/anaconda2/lib/python2.7/site-packages/rpy2/rinterface/__init__.py:186: RRuntimeWarning: Loading required package: IRanges\n",
      "\n",
      "  warnings.warn(x, RRuntimeWarning)\n",
      "/opt/anaconda2/lib/python2.7/site-packages/rpy2/rinterface/__init__.py:186: RRuntimeWarning: \n",
      "Attaching package: ‘IRanges’\n",
      "\n",
      "\n",
      "  warnings.warn(x, RRuntimeWarning)\n",
      "/opt/anaconda2/lib/python2.7/site-packages/rpy2/rinterface/__init__.py:186: RRuntimeWarning: The following objects are masked from ‘package:dplyr’:\n",
      "\n",
      "    collapse, desc, regroup, slice\n",
      "\n",
      "\n",
      "  warnings.warn(x, RRuntimeWarning)\n",
      "/opt/anaconda2/lib/python2.7/site-packages/rpy2/rinterface/__init__.py:186: RRuntimeWarning: Loading required package: GenomicRanges\n",
      "\n",
      "  warnings.warn(x, RRuntimeWarning)\n",
      "/opt/anaconda2/lib/python2.7/site-packages/rpy2/rinterface/__init__.py:186: RRuntimeWarning: Loading required package: GenomeInfoDb\n",
      "\n",
      "  warnings.warn(x, RRuntimeWarning)\n",
      "/opt/anaconda2/lib/python2.7/site-packages/rpy2/rinterface/__init__.py:186: RRuntimeWarning: Loading required package: SummarizedExperiment\n",
      "\n",
      "  warnings.warn(x, RRuntimeWarning)\n",
      "/opt/anaconda2/lib/python2.7/site-packages/rpy2/rinterface/__init__.py:186: RRuntimeWarning: Loading required package: Biobase\n",
      "\n",
      "  warnings.warn(x, RRuntimeWarning)\n",
      "/opt/anaconda2/lib/python2.7/site-packages/rpy2/rinterface/__init__.py:186: RRuntimeWarning: Welcome to Bioconductor\n",
      "\n",
      "    Vignettes contain introductory material; view with\n",
      "    'browseVignettes()'. To cite Bioconductor, see\n",
      "    'citation(\"Biobase\")', and for packages 'citation(\"pkgname\")'.\n",
      "\n",
      "\n",
      "  warnings.warn(x, RRuntimeWarning)\n",
      "/opt/anaconda2/lib/python2.7/site-packages/rpy2/rinterface/__init__.py:186: RRuntimeWarning: \n",
      "Attaching package: ‘phyloseq’\n",
      "\n",
      "\n",
      "  warnings.warn(x, RRuntimeWarning)\n",
      "/opt/anaconda2/lib/python2.7/site-packages/rpy2/rinterface/__init__.py:186: RRuntimeWarning: The following object is masked from ‘package:SummarizedExperiment’:\n",
      "\n",
      "    distance\n",
      "\n",
      "\n",
      "  warnings.warn(x, RRuntimeWarning)\n",
      "/opt/anaconda2/lib/python2.7/site-packages/rpy2/rinterface/__init__.py:186: RRuntimeWarning: The following object is masked from ‘package:Biobase’:\n",
      "\n",
      "    sampleNames\n",
      "\n",
      "\n",
      "  warnings.warn(x, RRuntimeWarning)\n",
      "/opt/anaconda2/lib/python2.7/site-packages/rpy2/rinterface/__init__.py:186: RRuntimeWarning: The following object is masked from ‘package:GenomicRanges’:\n",
      "\n",
      "    distance\n",
      "\n",
      "\n",
      "  warnings.warn(x, RRuntimeWarning)\n",
      "/opt/anaconda2/lib/python2.7/site-packages/rpy2/rinterface/__init__.py:186: RRuntimeWarning: The following object is masked from ‘package:IRanges’:\n",
      "\n",
      "    distance\n",
      "\n",
      "\n",
      "  warnings.warn(x, RRuntimeWarning)\n"
     ]
    }
   ],
   "source": [
    "%%R\n",
    "library(ggplot2)\n",
    "library(foreach)\n",
    "library(doParallel)\n",
    "library(gridExtra)\n",
    "library(dplyr)\n",
    "library(tidyr)\n",
    "library(vegan)\n",
    "library(DESeq2)\n",
    "library(phyloseq)"
   ]
  },
  {
   "cell_type": "code",
   "execution_count": 3,
   "metadata": {
    "collapsed": true
   },
   "outputs": [],
   "source": [
    "%%R\n",
    "# set theme for ggplot\n",
    "\n",
    "theme_pub = function (base_size = 11, base_family = \"Helvetica\") \n",
    "{\n",
    "    theme_grey(base_size = base_size, base_family = base_family) %+replace% \n",
    "        theme(\n",
    "            axis.line.x = element_line(size = .5),\n",
    "            axis.line.y = element_line(size = .5),\n",
    "            panel.background = element_rect(fill = \"white\", colour = NA), \n",
    "            panel.border = element_rect(fill = NA, color = \"black\", size = .5), \n",
    "            panel.grid.major = element_blank(), \n",
    "            panel.grid.minor = element_blank(), \n",
    "            strip.background = element_rect(fill = \"grey85\", \n",
    "                colour = \"grey20\"), \n",
    "            legend.key = element_rect(fill = \"white\", \n",
    "                colour = NA), complete = TRUE)\n",
    "    }\n"
   ]
  },
  {
   "cell_type": "markdown",
   "metadata": {},
   "source": [
    "# Loading phyloseq object"
   ]
  },
  {
   "cell_type": "code",
   "execution_count": 5,
   "metadata": {
    "collapsed": true
   },
   "outputs": [],
   "source": [
    "%%R\n",
    "setwd('/home/bryan/ERA/data/MiSeq/20170417_run1/phyloseq/')"
   ]
  },
  {
   "cell_type": "code",
   "execution_count": 6,
   "metadata": {
    "collapsed": false,
    "scrolled": true
   },
   "outputs": [
    {
     "data": {
      "text/plain": [
       "phyloseq-class experiment-level object\n",
       "otu_table()   OTU Table:         [ 4597 taxa and 236 samples ]\n",
       "sample_data() Sample Data:       [ 236 samples by 33 sample variables ]\n",
       "tax_table()   Taxonomy Table:    [ 4597 taxa by 8 taxonomic ranks ]\n",
       "phy_tree()    Phylogenetic Tree: [ 4597 tips and 4596 internal nodes ]\n"
      ]
     },
     "metadata": {},
     "output_type": "display_data"
    }
   ],
   "source": [
    "%%R \n",
    "# loading\n",
    "\n",
    "physeq.t = readRDS('ERA_thresh.rds')\n",
    "\n",
    "#remove T0, not necessary\n",
    "physeq.t = subset_samples(physeq.t, !is.na(Genotype), TRUE)\n",
    "\n",
    "physeq.t"
   ]
  },
  {
   "cell_type": "markdown",
   "metadata": {},
   "source": [
    "## Rarify dataset and sqrt transform"
   ]
  },
  {
   "cell_type": "code",
   "execution_count": 7,
   "metadata": {
    "collapsed": false
   },
   "outputs": [
    {
     "name": "stderr",
     "output_type": "stream",
     "text": [
      "/opt/anaconda2/lib/python2.7/site-packages/rpy2/rinterface/__init__.py:186: RRuntimeWarning: You set `rngseed` to FALSE. Make sure you've set & recorded\n",
      " the random seed of your session for reproducibility.\n",
      "See `?set.seed`\n",
      "\n",
      "\n",
      "  warnings.warn(x, RRuntimeWarning)\n",
      "/opt/anaconda2/lib/python2.7/site-packages/rpy2/rinterface/__init__.py:186: RRuntimeWarning: ...\n",
      "\n",
      "  warnings.warn(x, RRuntimeWarning)\n"
     ]
    }
   ],
   "source": [
    "%%R\n",
    "set.seed(45)\n",
    "phy.r = rarefy_even_depth(physeq.t)"
   ]
  },
  {
   "cell_type": "code",
   "execution_count": 8,
   "metadata": {
    "collapsed": false
   },
   "outputs": [
    {
     "data": {
      "text/plain": [
       " ERA-T2_3-1d_85 ERA-T1_3-5c_170  ERA-T2_1-5a_85 ERA-T1_1-2b_170   ERA-T1_1-4b_0 \n",
       "          11546           11546           11546           11546           11546 \n",
       "  ERA-T1_4-3d_0 ERA-T1_1-4a_170 ERA-T3_1-3c_170 ERA-T1_4-4a_170  ERA-T1_2-2b_85 \n",
       "          11546           11546           11546           11546           11546 \n",
       "  ERA-T3_3-1c_0  ERA-T2_2-2d_85 ERA-T1_1-2d_170  ERA-T1_1-3c_85 ERA-T3_3-4c_170 \n",
       "          11546           11546           11546           11546           11546 \n",
       " ERA-T2_1-3d_85  ERA-T2_4-3c_85  ERA-T1_1-2d_85 ERA-T3_3-2c_170  ERA-T3_4-3d_85 \n",
       "          11546           11546           11546           11546           11546 \n",
       "ERA-T3_2-5a_170 ERA-T3_3-1a_170 ERA-T1_1-3c_170  ERA-T2_1-2b_85  ERA-T3_2-2b_85 \n",
       "          11546           11546           11546           11546           11546 \n",
       " ERA-T2_1-2d_85  ERA-T3_4-1b_85   ERA-T3_2-5a_0   ERA-T1_4-1b_0   ERA-T3_1-4a_0 \n",
       "          11546           11546           11546           11546           11546 \n",
       "  ERA-T3_1-2d_0  ERA-T2_1-3c_85  ERA-T3_2-5a_85  ERA-T1_3-1d_85 ERA-T3_1-4a_170 \n",
       "          11546           11546           11546           11546           11546 \n",
       "  ERA-T3_1-2c_0   ERA-T1_4-3b_0 ERA-T1_1-2c_170  ERA-T3_1-5a_85 ERA-T1_3-1d_170 \n",
       "          11546           11546           11546           11546           11546 \n",
       "  ERA-T1_3-5c_0  ERA-T2_1-4a_85 ERA-T1_2-3d_170  ERA-T1_4-3d_85  ERA-T1_4-1b_85 \n",
       "          11546           11546           11546           11546           11546 \n",
       "ERA-T1_2-5a_170  ERA-T3_1-2d_85  ERA-T2_4-5c_85  ERA-T3_1-2c_85   ERA-T3_1-3c_0 \n",
       "          11546           11546           11546           11546           11546 \n",
       " ERA-T2_3-3b_85  ERA-T3_3-1a_85   ERA-T3_2-5c_0  ERA-T2_3-2a_85  ERA-T2_3-3d_85 \n",
       "          11546           11546           11546           11546           11546 \n",
       " ERA-T2_4-3a_85 ERA-T3_1-2c_170  ERA-T2_3-2d_85   ERA-T3_3-1d_0   ERA-T3_2-3d_0 \n",
       "          11546           11546           11546           11546           11546 \n",
       " ERA-T2_3-2b_85  ERA-T2_2-5a_85   ERA-T1_3-1a_0  ERA-T2_3-1b_85  ERA-T1_2-3b_85 \n",
       "          11546           11546           11546           11546           11546 \n",
       "  ERA-T1_2-3b_0 ERA-T3_3-3a_170  ERA-T2_4-2a_85  ERA-T2_3-5b_85  ERA-T2_2-5b_85 \n",
       "          11546           11546           11546           11546           11546 \n",
       " ERA-T2_1-5b_85   ERA-T3_4-5b_0  ERA-T2_4-1b_85 ERA-T3_2-3d_170  ERA-T1_3-2c_85 \n",
       "          11546           11546           11546           11546           11546 \n",
       " ERA-T2_1-2a_85 ERA-T3_2-2c_170  ERA-T2_4-5b_85  ERA-T2_4-2c_85  ERA-T2_2-4b_85 \n",
       "          11546           11546           11546           11546           11546 \n",
       "ERA-T1_3-2c_170 ERA-T3_4-4a_170  ERA-T1_1-4b_85  ERA-T3_1-3c_85  ERA-T3_3-3a_85 \n",
       "          11546           11546           11546           11546           11546 \n",
       " ERA-T2_3-4c_85  ERA-T2_4-2d_85  ERA-T1_4-2c_85  ERA-T1_4-1a_85  ERA-T2_1-2c_85 \n",
       "          11546           11546           11546           11546           11546 \n",
       "  ERA-T1_2-3d_0 ERA-T1_3-1a_170 ERA-T1_4-1b_170   ERA-T3_2-3b_0   ERA-T1_1-4a_0 \n",
       "          11546           11546           11546           11546           11546 \n",
       "ERA-T1_2-2d_170   ERA-T3_2-2d_0   ERA-T3_3-1a_0   ERA-T3_3-3a_0  ERA-T2_2-3c_85 \n",
       "          11546           11546           11546           11546           11546 \n",
       " ERA-T2_1-1c_85 ERA-T1_3-3a_170  ERA-T3_2-2c_85  ERA-T2_1-4c_85 ERA-T3_4-5b_170 \n",
       "          11546           11546           11546           11546           11546 \n",
       " ERA-T3_3-2c_85  ERA-T2_4-3b_85   ERA-T3_3-5c_0  ERA-T3_3-1d_85  ERA-T2_1-3a_85 \n",
       "          11546           11546           11546           11546           11546 \n",
       "  ERA-T1_2-5a_0  ERA-T2_2-4a_85 ERA-T3_1-5a_170  ERA-T2_1-5c_85   ERA-T1_3-1d_0 \n",
       "          11546           11546           11546           11546           11546 \n",
       "ERA-T3_4-3b_170 ERA-T3_2-5c_170  ERA-T2_2-1c_85  ERA-T3_3-5c_85   ERA-T3_4-1b_0 \n",
       "          11546           11546           11546           11546           11546 \n",
       "  ERA-T1_1-2c_0  ERA-T2_1-4d_85   ERA-T3_1-2b_0  ERA-T3_3-4c_85  ERA-T2_1-1d_85 \n",
       "          11546           11546           11546           11546           11546 \n",
       " ERA-T2_3-1a_85  ERA-T3_4-5b_85 ERA-T1_3-4c_170  ERA-T2_2-2c_85   ERA-T1_2-2c_0 \n",
       "          11546           11546           11546           11546           11546 \n",
       " ERA-T2_1-4b_85 ERA-T3_3-1c_170  ERA-T1_2-2d_85 ERA-T3_2-2d_170  ERA-T1_1-2c_85 \n",
       "          11546           11546           11546           11546           11546 \n",
       "  ERA-T1_1-2d_0   ERA-T1_1-5a_0  ERA-T2_2-1d_85 ERA-T3_4-1b_170   ERA-T1_1-2b_0 \n",
       "          11546           11546           11546           11546           11546 \n",
       " ERA-T1_2-5c_85  ERA-T2_2-3d_85 ERA-T1_4-3d_170   ERA-T1_4-2c_0   ERA-T1_2-2b_0 \n",
       "          11546           11546           11546           11546           11546 \n",
       "  ERA-T3_2-2c_0  ERA-T3_2-3b_85  ERA-T3_3-1c_85 ERA-T3_2-2b_170  ERA-T1_3-5c_85 \n",
       "          11546           11546           11546           11546           11546 \n",
       " ERA-T2_2-1b_85 ERA-T3_2-3b_170   ERA-T3_1-4b_0 ERA-T3_1-2b_170  ERA-T1_1-4a_85 \n",
       "          11546           11546           11546           11546           11546 \n",
       " ERA-T3_2-5c_85 ERA-T1_4-1a_170 ERA-T1_3-1c_170   ERA-T1_1-3c_0  ERA-T2_2-5c_85 \n",
       "          11546           11546           11546           11546           11546 \n",
       " ERA-T3_4-2c_85  ERA-T2_3-5c_85   ERA-T3_2-2b_0 ERA-T3_1-2d_170   ERA-T1_4-5b_0 \n",
       "          11546           11546           11546           11546           11546 \n",
       " ERA-T1_2-3d_85  ERA-T3_2-2d_85  ERA-T1_3-4c_85   ERA-T1_3-2c_0  ERA-T2_1-1a_85 \n",
       "          11546           11546           11546           11546           11546 \n",
       " ERA-T1_3-1a_85  ERA-T1_4-3b_85 ERA-T3_3-1d_170   ERA-T1_4-1a_0  ERA-T2_4-1d_85 \n",
       "          11546           11546           11546           11546           11546 \n",
       "  ERA-T3_4-4a_0  ERA-T2_2-2b_85  ERA-T1_3-1c_85   ERA-T1_2-5c_0 ERA-T1_4-3b_170 \n",
       "          11546           11546           11546           11546           11546 \n",
       "  ERA-T1_3-1c_0  ERA-T2_4-3d_85 ERA-T3_1-4b_170  ERA-T2_2-4d_85   ERA-T3_3-4c_0 \n",
       "          11546           11546           11546           11546           11546 \n",
       "ERA-T1_2-3b_170  ERA-T2_3-3a_85  ERA-T1_3-3a_85  ERA-T2_2-4c_85  ERA-T2_3-3c_85 \n",
       "          11546           11546           11546           11546           11546 \n",
       " ERA-T2_4-4d_85  ERA-T3_1-2b_85  ERA-T2_3-4a_85   ERA-T3_3-2c_0   ERA-T3_4-3d_0 \n",
       "          11546           11546           11546           11546           11546 \n",
       " ERA-T1_4-4a_85  ERA-T3_1-4b_85 ERA-T3_4-2c_170   ERA-T3_4-1a_0  ERA-T2_4-5a_85 \n",
       "          11546           11546           11546           11546           11546 \n",
       " ERA-T2_4-1a_85 ERA-T3_4-3d_170  ERA-T3_4-3b_85  ERA-T2_3-1c_85   ERA-T3_1-5a_0 \n",
       "          11546           11546           11546           11546           11546 \n",
       " ERA-T3_4-4a_85  ERA-T1_1-5a_85  ERA-T2_2-1a_85  ERA-T3_2-3d_85 ERA-T3_3-5c_170 \n",
       "          11546           11546           11546           11546           11546 \n",
       "  ERA-T1_2-2d_0  ERA-T2_4-4b_85  ERA-T2_4-4a_85 ERA-T1_1-4b_170   ERA-T1_3-3a_0 \n",
       "          11546           11546           11546           11546           11546 \n",
       " ERA-T2_2-3b_85  ERA-T2_3-2c_85  ERA-T1_2-5a_85   ERA-T1_4-4a_0  ERA-T2_3-4d_85 \n",
       "          11546           11546           11546           11546           11546 \n",
       " ERA-T2_4-4c_85  ERA-T1_2-2c_85 ERA-T1_4-5b_170 ERA-T1_2-2c_170 ERA-T1_2-2b_170 \n",
       "          11546           11546           11546           11546           11546 \n",
       " ERA-T3_4-1a_85  ERA-T3_1-4a_85   ERA-T3_4-2c_0   ERA-T3_4-3b_0  ERA-T1_4-5b_85 \n",
       "          11546           11546           11546           11546           11546 \n",
       "ERA-T3_4-1a_170   ERA-T1_3-4c_0 ERA-T1_2-5c_170  ERA-T1_1-2b_85 ERA-T1_1-5a_170 \n",
       "          11546           11546           11546           11546           11546 \n",
       "ERA-T1_4-2c_170 \n",
       "          11546 \n"
      ]
     },
     "metadata": {},
     "output_type": "display_data"
    }
   ],
   "source": [
    "%%R\n",
    "sample_sums(phy.r)"
   ]
  },
  {
   "cell_type": "code",
   "execution_count": 9,
   "metadata": {
    "collapsed": true
   },
   "outputs": [],
   "source": [
    "%%R\n",
    "physeq = transform_sample_counts(phy.r, sqrt)"
   ]
  },
  {
   "cell_type": "code",
   "execution_count": 10,
   "metadata": {
    "collapsed": false,
    "scrolled": true
   },
   "outputs": [
    {
     "data": {
      "text/plain": [
       " [1] \"X.sampleID\"      \"TubeID\"          \"ExtractionPlate\" \"PooledDNAPlate\" \n",
       " [5] \"Sample.Well.ID\"  \"PrimerPlate\"     \"Primer.Number\"   \"Primer.Well.ID\" \n",
       " [9] \"X\"               \"primerFwdLoc\"    \"primerRevLoc\"    \"fwd_barcode\"    \n",
       "[13] \"rev_barcode\"     \"PlotID\"          \"TimePoint\"       \"Rep\"            \n",
       "[17] \"Row\"             \"Pos\"             \"Fert\"            \"PlotIndex\"      \n",
       "[21] \"Plant\"           \"Genotype\"        \"SeedTreatment\"   \"R_Year\"         \n",
       "[25] \"ERA\"             \"kgdw_ha\"         \"FracN.leco\"      \"FracC.leco\"     \n",
       "[29] \"d15N\"            \"X15N_AtPercent\"  \"FracN\"           \"FracN_fromSoil\" \n",
       "[33] \"FracN_fromFert\" \n"
      ]
     },
     "metadata": {},
     "output_type": "display_data"
    }
   ],
   "source": [
    "%%R\n",
    "sd =sample_data(physeq)\n",
    "colnames(sd)"
   ]
  },
  {
   "cell_type": "code",
   "execution_count": 12,
   "metadata": {
    "collapsed": false
   },
   "outputs": [
    {
     "data": {
      "text/plain": [
       "      X.sampleID TubeID ExtractionPlate PooledDNAPlate Sample.Well.ID\n",
       "1 ERA-T2_2-1d_85    390            ERA2              A            G10\n",
       "  PrimerPlate Primer.Number Primer.Well.ID  X primerFwdLoc primerRevLoc\n",
       "1           1            79            G10 NA          1-G         1-10\n",
       "  fwd_barcode rev_barcode  PlotID TimePoint Rep Row Pos Fert PlotIndex  Plant\n",
       "1    GGATATCT    TAGCAGAC 2-1d_85        T2   2   1   d   85        70 34N42U\n",
       "  Genotype SeedTreatment R_Year ERA kgdw_ha FracN.leco FracC.leco d15N\n",
       "1    34N42     Untreated   2003   3    7518    0.01191    0.43927   NA\n",
       "  X15N_AtPercent FracN FracN_fromSoil FracN_fromFert\n",
       "1             NA    NA             NA             NA\n"
      ]
     },
     "metadata": {},
     "output_type": "display_data"
    }
   ],
   "source": [
    "%%R\n",
    "sd %>%\n",
    "    filter(TubeID == \"390\") "
   ]
  },
  {
   "cell_type": "code",
   "execution_count": 13,
   "metadata": {
    "collapsed": false
   },
   "outputs": [],
   "source": [
    "%%R\n",
    "sample_data(physeq)$Rep = as.factor(sample_data(physeq)$Rep)\n",
    "sample_data(physeq)$Row = as.factor(sample_data(physeq)$Row)\n",
    "sample_data(physeq)$Fert = as.factor(sample_data(physeq)$Fert)"
   ]
  },
  {
   "cell_type": "markdown",
   "metadata": {},
   "source": [
    "## Calculate pairwise weighted Unifrac distances between samples"
   ]
  },
  {
   "cell_type": "code",
   "execution_count": 14,
   "metadata": {
    "collapsed": false
   },
   "outputs": [],
   "source": [
    "%%R\n",
    "registerDoParallel(cores=28)\n",
    "wunif.dist = phyloseq::distance(physeq, \n",
    "                      method = \"unifrac\", \n",
    "                      weighted = TRUE,\n",
    "                      fast = TRUE, \n",
    "                      parallel = TRUE, \n",
    "                      normalized = FALSE)"
   ]
  },
  {
   "cell_type": "code",
   "execution_count": 15,
   "metadata": {
    "collapsed": false
   },
   "outputs": [],
   "source": [
    "%%R\n",
    "registerDoParallel(cores=28)\n",
    "bray.dist = distance(physeq, \n",
    "                      method = \"bray\", \n",
    "                      weighted = TRUE,\n",
    "                      fast = TRUE, \n",
    "                      parallel = TRUE, \n",
    "                      normalized = FALSE)"
   ]
  },
  {
   "cell_type": "code",
   "execution_count": 16,
   "metadata": {
    "collapsed": false,
    "scrolled": true
   },
   "outputs": [
    {
     "data": {
      "text/plain": [
       " [1] \"322\"     \"330\"     \"339\"     \"3394\"    \"3475\"    \"34M95\"   \"34N42\"  \n",
       " [8] \"3517\"    \"354\"     \"3541\"    \"3618\"    \"Bare\"    \"P1151HR\"\n"
      ]
     },
     "metadata": {},
     "output_type": "display_data"
    }
   ],
   "source": [
    "%%R\n",
    "physeq %>% \n",
    "    sample_data() %>%\n",
    "    .$Genotype %>%\n",
    "    levels()"
   ]
  },
  {
   "cell_type": "code",
   "execution_count": 17,
   "metadata": {
    "collapsed": false
   },
   "outputs": [],
   "source": [
    "%%R\n",
    "sd = sample_data(physeq)\n",
    "sd = mutate(sd, Planted = ifelse(Genotype == \"Bare\" | TimePoint == \"T0\", \"BARE\", \"Rhizosphere\"))\n",
    "rownames(sd) = sd$X.sampleID\n",
    "sd %>% head\n",
    "sample_data(physeq) = sd"
   ]
  },
  {
   "cell_type": "markdown",
   "metadata": {},
   "source": [
    "## NMDS of w-Unifrac"
   ]
  },
  {
   "cell_type": "code",
   "execution_count": 18,
   "metadata": {
    "collapsed": false
   },
   "outputs": [
    {
     "data": {
      "text/plain": [
       "Run 0 stress 0.1370511 \n",
       "Run 1 stress 0.1429602 \n",
       "Run 2 stress 0.1473197 \n",
       "Run 3 stress 0.1462057 \n",
       "Run 4 stress 0.1765663 \n",
       "Run 5 stress 0.1511766 \n",
       "Run 6 stress 0.1438666 \n",
       "Run 7 stress 0.1493257 \n",
       "Run 8 stress 0.1470817 \n",
       "Run 9 stress 0.1525512 \n",
       "Run 10 stress 0.1381904 \n",
       "Run 11 stress 0.1460498 \n",
       "Run 12 stress 0.1429516 \n",
       "Run 13 stress 0.1430973 \n",
       "Run 14 stress 0.4173373 \n",
       "Run 15 stress 0.151355 \n",
       "Run 16 stress 0.1488676 \n",
       "Run 17 stress 0.142061 \n",
       "Run 18 stress 0.1387462 \n",
       "Run 19 stress 0.1463541 \n",
       "Run 20 stress 0.1370508 \n",
       "... New best solution\n",
       "... Procrustes: rmse 0.0001623779  max resid 0.00157638 \n",
       "... Similar to previous best\n",
       "*** Solution reached\n"
      ]
     },
     "metadata": {},
     "output_type": "display_data"
    }
   ],
   "source": [
    "%%R -w 800 -h 350\n",
    "\n",
    "nmds = ordinate(physeq, \n",
    "                method = \"NMDS\", \n",
    "                distance = wunif.dist)\n",
    "\n",
    "p = plot_ordination(physeq, nmds, justDF = TRUE)\n",
    "\n"
   ]
  },
  {
   "cell_type": "code",
   "execution_count": 19,
   "metadata": {
    "collapsed": false
   },
   "outputs": [
    {
     "data": {
      "image/png": "[encoded data removed]"
     },
     "metadata": {},
     "output_type": "display_data"
    }
   ],
   "source": [
    "%%R\n",
    "## generating plots\n",
    "p1 = ggplot(p, aes(x = NMDS1, y = NMDS2)) +\n",
    "        geom_point(aes(fill=R_Year), pch = 21, size = 3)\n",
    "        #scale_size(range=c(2,8))\n",
    "\n",
    "#p2 = ggplot(p, aes(x = NMDS1, y = NMDS2)) +\n",
    "        #geom_point(aes(fill=Plant, size = BD), pch=21) +\n",
    "        #scale_size(range=c(2,8))\n",
    "\n",
    "grid.arrange(p1, ncol=1)"
   ]
  },
  {
   "cell_type": "code",
   "execution_count": 20,
   "metadata": {
    "collapsed": false,
    "scrolled": true
   },
   "outputs": [
    {
     "data": {
      "image/png": "[encoded data removed]"
     },
     "metadata": {},
     "output_type": "display_data"
    }
   ],
   "source": [
    "%%R -w 600 -h 350\n",
    "p2 = p1 + facet_wrap(~TimePoint)+\n",
    "theme_pub()\n",
    "p2"
   ]
  },
  {
   "cell_type": "markdown",
   "metadata": {},
   "source": [
    "# Adonis testing treatment effects"
   ]
  },
  {
   "cell_type": "code",
   "execution_count": 21,
   "metadata": {
    "collapsed": false,
    "scrolled": true
   },
   "outputs": [
    {
     "data": {
      "text/plain": [
       "\n",
       "Call:\n",
       "adonis(formula = d ~ Planted + TimePoint + Genotype * TimePoint +      SeedTreatment, data = df, permutations = 999) \n",
       "\n",
       "Permutation: free\n",
       "Number of permutations: 999\n",
       "\n",
       "Terms added sequentially (first to last)\n",
       "\n",
       "                    Df SumsOfSqs  MeanSqs F.Model      R2 Pr(>F)    \n",
       "Planted              1   0.30357 0.303572  54.369 0.17722  0.001 ***\n",
       "TimePoint            2   0.09460 0.047300   8.471 0.05523  0.001 ***\n",
       "Genotype            11   0.07434 0.006758   1.210 0.04340  0.082 .  \n",
       "SeedTreatment        1   0.00363 0.003632   0.650 0.00212  0.826    \n",
       "TimePoint:Genotype  12   0.07542 0.006285   1.126 0.04403  0.175    \n",
       "Residuals          208   1.16139 0.005584         0.67800           \n",
       "Total              235   1.71296                  1.00000           \n",
       "---\n",
       "Signif. codes:  0 ‘***’ 0.001 ‘**’ 0.01 ‘*’ 0.05 ‘.’ 0.1 ‘ ’ 1\n"
      ]
     },
     "metadata": {},
     "output_type": "display_data"
    }
   ],
   "source": [
    "%%R\n",
    "set.seed(101)\n",
    "\n",
    "df = as(sample_data(physeq), \"data.frame\")\n",
    "d = wunif.dist\n",
    "df$Fert = as.factor(df$Fert)\n",
    "Fulladonis = adonis(formula = d ~ Planted + TimePoint + Genotype*TimePoint + SeedTreatment, df, \n",
    "                    permutations = 999)\n",
    "Fulladonis"
   ]
  },
  {
   "cell_type": "markdown",
   "metadata": {},
   "source": [
    "## subset of rhizosphere samples at three time points "
   ]
  },
  {
   "cell_type": "code",
   "execution_count": 22,
   "metadata": {
    "collapsed": false,
    "scrolled": false
   },
   "outputs": [
    {
     "data": {
      "text/plain": [
       "phyloseq-class experiment-level object\n",
       "otu_table()   OTU Table:         [ 4597 taxa and 72 samples ]\n",
       "sample_data() Sample Data:       [ 72 samples by 34 sample variables ]\n",
       "tax_table()   Taxonomy Table:    [ 4597 taxa by 8 taxonomic ranks ]\n",
       "phy_tree()    Phylogenetic Tree: [ 4597 tips and 4596 internal nodes ]\n"
      ]
     },
     "metadata": {},
     "output_type": "display_data"
    }
   ],
   "source": [
    "%%R\n",
    "physeq.plantT1 = subset_samples(physeq,  Planted == \"Rhizosphere\" & TimePoint == \"T1\")\n",
    "physeq.plantT1"
   ]
  },
  {
   "cell_type": "code",
   "execution_count": 23,
   "metadata": {
    "collapsed": false
   },
   "outputs": [],
   "source": [
    "%%R\n",
    "registerDoParallel(cores=28)\n",
    "T1.wunif.dist = distance(physeq.plantT1, \n",
    "                      method = \"unifrac\", \n",
    "                      weighted = TRUE,\n",
    "                      fast = TRUE, \n",
    "                      parallel = TRUE, \n",
    "                      normalized = FALSE)"
   ]
  },
  {
   "cell_type": "code",
   "execution_count": 24,
   "metadata": {
    "collapsed": false,
    "scrolled": false
   },
   "outputs": [
    {
     "data": {
      "text/plain": [
       "\n",
       "Call:\n",
       "adonis(formula = d ~ Rep + Fert + Genotype, data = df, permutations = 999) \n",
       "\n",
       "Permutation: free\n",
       "Number of permutations: 999\n",
       "\n",
       "Terms added sequentially (first to last)\n",
       "\n",
       "          Df SumsOfSqs   MeanSqs F.Model      R2 Pr(>F)    \n",
       "Rep        3   0.04459 0.0148638 2.60574 0.10401  0.001 ***\n",
       "Fert       2   0.00753 0.0037626 0.65961 0.01755  0.969    \n",
       "Genotype   5   0.02866 0.0057321 1.00489 0.06685  0.437    \n",
       "Residuals 61   0.34796 0.0057042         0.81159           \n",
       "Total     71   0.42874                   1.00000           \n",
       "---\n",
       "Signif. codes:  0 ‘***’ 0.001 ‘**’ 0.01 ‘*’ 0.05 ‘.’ 0.1 ‘ ’ 1\n"
      ]
     },
     "metadata": {},
     "output_type": "display_data"
    }
   ],
   "source": [
    "%%R\n",
    "set.seed(101)\n",
    "\n",
    "df = as(sample_data(physeq.plantT1), \"data.frame\")\n",
    "d = T1.wunif.dist\n",
    "T1adonis = adonis(formula = d ~ Rep + Fert + Genotype, df, permutations = 999)\n",
    "T1adonis"
   ]
  },
  {
   "cell_type": "markdown",
   "metadata": {},
   "source": [
    "* Fertilization and genotype do not predict MCC at T1, nor does R_Year"
   ]
  },
  {
   "cell_type": "markdown",
   "metadata": {},
   "source": [
    "## ADONIS at T2"
   ]
  },
  {
   "cell_type": "code",
   "execution_count": 25,
   "metadata": {
    "collapsed": false
   },
   "outputs": [],
   "source": [
    "%%R\n",
    "# subset phyloseq object\n",
    "physeq.plantT2 = subset_samples(physeq,  Planted == \"Rhizosphere\" & TimePoint == \"T2\" & SeedTreatment == \"Treated\")\n",
    "physeq.plantT2\n",
    "\n",
    "# create unifrac distance matrix\n",
    "registerDoParallel(cores=28)\n",
    "T2.wunif.dist = distance(physeq.plantT2, \n",
    "                      method = \"unifrac\", \n",
    "                      weighted = TRUE,\n",
    "                      fast = TRUE, \n",
    "                      parallel = TRUE, \n",
    "                      normalized = FALSE)"
   ]
  },
  {
   "cell_type": "code",
   "execution_count": 26,
   "metadata": {
    "collapsed": false,
    "scrolled": false
   },
   "outputs": [
    {
     "data": {
      "text/plain": [
       "\n",
       "Call:\n",
       "adonis(formula = d ~ Rep + Genotype, data = df, permutations = 999) \n",
       "\n",
       "Permutation: free\n",
       "Number of permutations: 999\n",
       "\n",
       "Terms added sequentially (first to last)\n",
       "\n",
       "          Df SumsOfSqs   MeanSqs F.Model      R2 Pr(>F)    \n",
       "Rep        3  0.038680 0.0128933  2.5798 0.14391  0.001 ***\n",
       "Genotype  11  0.065177 0.0059252  1.1856 0.24249  0.066 .  \n",
       "Residuals 33  0.164926 0.0049977         0.61360           \n",
       "Total     47  0.268783                   1.00000           \n",
       "---\n",
       "Signif. codes:  0 ‘***’ 0.001 ‘**’ 0.01 ‘*’ 0.05 ‘.’ 0.1 ‘ ’ 1\n"
      ]
     },
     "metadata": {},
     "output_type": "display_data"
    }
   ],
   "source": [
    "%%R\n",
    "set.seed(101)\n",
    "\n",
    "df = as(sample_data(physeq.plantT2), \"data.frame\")\n",
    "d = T2.wunif.dist\n",
    "T2adonis = adonis(formula = d ~ Rep + Genotype, df, permutations = 999)\n",
    "T2adonis"
   ]
  },
  {
   "cell_type": "markdown",
   "metadata": {
    "collapsed": true
   },
   "source": [
    "* Genotype has a significant effect on community composition at R1, but ADONIS is not significant for R_Year"
   ]
  },
  {
   "cell_type": "code",
   "execution_count": 65,
   "metadata": {
    "collapsed": false
   },
   "outputs": [],
   "source": [
    "%%R\n",
    "# subset phyloseq object\n",
    "physeq.plantT2 = subset_samples(physeq,  Planted == \"Rhizosphere\" & TimePoint == \"T2\" & SeedTreatment == \"Treated\")\n",
    "physeq.plantT2\n",
    "\n",
    "# create unifrac distance matrix\n",
    "registerDoParallel(cores=28)\n",
    "T2.wunif.dist = distance(physeq.plantT2, \n",
    "                      method = \"unifrac\", \n",
    "                      weighted = TRUE,\n",
    "                      fast = TRUE, \n",
    "                      parallel = TRUE, \n",
    "                      normalized = FALSE)"
   ]
  },
  {
   "cell_type": "code",
   "execution_count": 66,
   "metadata": {
    "collapsed": false,
    "scrolled": true
   },
   "outputs": [
    {
     "data": {
      "text/plain": [
       "\n",
       "Call:\n",
       "adonis(formula = d ~ Rep + Genotype, data = df, permutations = 999) \n",
       "\n",
       "Permutation: free\n",
       "Number of permutations: 999\n",
       "\n",
       "Terms added sequentially (first to last)\n",
       "\n",
       "          Df SumsOfSqs   MeanSqs F.Model      R2 Pr(>F)    \n",
       "Rep        3  0.038680 0.0128933  2.5798 0.14391  0.001 ***\n",
       "Genotype  11  0.065177 0.0059252  1.1856 0.24249  0.066 .  \n",
       "Residuals 33  0.164926 0.0049977         0.61360           \n",
       "Total     47  0.268783                   1.00000           \n",
       "---\n",
       "Signif. codes:  0 ‘***’ 0.001 ‘**’ 0.01 ‘*’ 0.05 ‘.’ 0.1 ‘ ’ 1\n"
      ]
     },
     "metadata": {},
     "output_type": "display_data"
    }
   ],
   "source": [
    "%%R\n",
    "set.seed(101)\n",
    "\n",
    "df = as(sample_data(physeq.plantT2), \"data.frame\")\n",
    "d = T2.wunif.dist\n",
    "T2adonis = adonis(formula = d ~ Rep + Genotype, df, permutations = 999)\n",
    "T2adonis"
   ]
  },
  {
   "cell_type": "markdown",
   "metadata": {},
   "source": [
    "* But not in the four untreated seeds; see seed treatment notebook for greater detail"
   ]
  },
  {
   "cell_type": "markdown",
   "metadata": {},
   "source": [
    "# T3"
   ]
  },
  {
   "cell_type": "code",
   "execution_count": 69,
   "metadata": {
    "collapsed": false
   },
   "outputs": [],
   "source": [
    "%%R\n",
    "# subset phyloseq object\n",
    "physeq.plantT3 = subset_samples(physeq,  Planted == \"Rhizosphere\" & TimePoint == \"T3\")\n",
    "physeq.plantT3\n",
    "\n",
    "# create unifrac distance matrix\n",
    "registerDoParallel(cores=28)\n",
    "T3.wunif.dist = distance(physeq.plantT3, \n",
    "                      method = \"unifrac\", \n",
    "                      weighted = TRUE,\n",
    "                      fast = TRUE, \n",
    "                      parallel = TRUE, \n",
    "                      normalized = FALSE)\n",
    "\n",
    "T3.bray.dist = distance(physeq.plantT3, \n",
    "                      method = \"bray\", \n",
    "                      weighted = TRUE,\n",
    "                      fast = TRUE, \n",
    "                      parallel = TRUE, \n",
    "                      normalized = FALSE)\n"
   ]
  },
  {
   "cell_type": "code",
   "execution_count": 70,
   "metadata": {
    "collapsed": false,
    "scrolled": true
   },
   "outputs": [
    {
     "data": {
      "text/plain": [
       "[1] \"Bray-curtis\"\n",
       "\n",
       "Call:\n",
       "adonis(formula = d ~ Rep + Fert * Genotype, data = df, permutations = 999) \n",
       "\n",
       "Permutation: free\n",
       "Number of permutations: 999\n",
       "\n",
       "Terms added sequentially (first to last)\n",
       "\n",
       "              Df SumsOfSqs  MeanSqs F.Model      R2 Pr(>F)    \n",
       "Rep            3    0.3661 0.122018 1.83424 0.07315  0.001 ***\n",
       "Fert           2    0.2135 0.106739 1.60454 0.04266  0.001 ***\n",
       "Genotype       5    0.3833 0.076651 1.15225 0.07659  0.006 ** \n",
       "Fert:Genotype 10    0.6484 0.064841 0.97472 0.12958  0.733    \n",
       "Residuals     51    3.3927 0.066523         0.67801           \n",
       "Total         71    5.0039                  1.00000           \n",
       "---\n",
       "Signif. codes:  0 ‘***’ 0.001 ‘**’ 0.01 ‘*’ 0.05 ‘.’ 0.1 ‘ ’ 1\n",
       "[1] \"\"\n",
       "[1] \"weighted UniFrac\"\n",
       "\n",
       "Call:\n",
       "adonis(formula = d ~ Rep + Fert * Genotype, data = df, permutations = 999) \n",
       "\n",
       "Permutation: free\n",
       "Number of permutations: 999\n",
       "\n",
       "Terms added sequentially (first to last)\n",
       "\n",
       "              Df SumsOfSqs   MeanSqs F.Model      R2 Pr(>F)    \n",
       "Rep            3   0.04232 0.0141061 2.62198 0.09860  0.001 ***\n",
       "Fert           2   0.02726 0.0136295 2.53340 0.06351  0.001 ***\n",
       "Genotype       5   0.03249 0.0064980 1.20782 0.07570  0.104    \n",
       "Fert:Genotype 10   0.05274 0.0052737 0.98025 0.12288  0.562    \n",
       "Residuals     51   0.27438 0.0053799         0.63930           \n",
       "Total         71   0.42918                   1.00000           \n",
       "---\n",
       "Signif. codes:  0 ‘***’ 0.001 ‘**’ 0.01 ‘*’ 0.05 ‘.’ 0.1 ‘ ’ 1\n"
      ]
     },
     "metadata": {},
     "output_type": "display_data"
    }
   ],
   "source": [
    "%%R\n",
    "set.seed(101)\n",
    "\n",
    "df = as(sample_data(physeq.plantT3), \"data.frame\")\n",
    "d = T3.bray.dist\n",
    "print(\"Bray-curtis\")\n",
    "T3adonis = adonis(formula = d ~ Rep + Fert*Genotype, df, permutations = 999)\n",
    "T3adonis %>% print\n",
    "\n",
    "print(\"\")\n",
    "print(\"weighted UniFrac\")\n",
    "d = T3.wunif.dist\n",
    "T3adonis = adonis(formula = d ~ Rep + Fert*Genotype, df, permutations = 999)\n",
    "T3adonis"
   ]
  },
  {
   "cell_type": "markdown",
   "metadata": {},
   "source": [
    "* Genotype is not quite significant at T3, but fertilizer is.  However it describes a lower portion of variance than the untransformed data"
   ]
  },
  {
   "cell_type": "markdown",
   "metadata": {},
   "source": [
    "## Ordinate "
   ]
  },
  {
   "cell_type": "code",
   "execution_count": 31,
   "metadata": {
    "collapsed": false
   },
   "outputs": [],
   "source": [
    "%%R\n",
    "# subset phyloseq object\n",
    "physeq.plantT3 = subset_samples(physeq,  Planted == \"Rhizosphere\" & TimePoint == \"T3\")\n",
    "physeq.plantT3\n",
    "\n",
    "# create unifrac distance matrix\n",
    "registerDoParallel(cores=28)\n",
    "T3.wunif.dist = distance(physeq.plantT3, \n",
    "                      method = \"unifrac\", \n",
    "                      weighted = TRUE,\n",
    "                      fast = TRUE, \n",
    "                      parallel = TRUE, \n",
    "                      normalized = FALSE)\n",
    "\n",
    "T3.bray.dist = distance(physeq.plantT3, \n",
    "                      method = \"bray\", \n",
    "                      weighted = TRUE,\n",
    "                      fast = TRUE, \n",
    "                      parallel = TRUE, \n",
    "                      normalized = FALSE)\n",
    "\n",
    "%%R\n",
    "set.seed(101)\n",
    "\n",
    "df = as(sample_data(physeq.plantT3), \"data.frame\")\n",
    "d = T3.bray.dist\n",
    "print(\"Bray-curtis\")\n",
    "T3adonis = adonis(formula = d ~ Rep + Fert*Genotype, df, permutations = 999)\n",
    "T3adonis %>% print\n",
    "\n",
    "print(\"\")\n",
    "print(\"weighted UniFrac\")\n",
    "d = T3.wunif.dist\n",
    "T3adonis = adonis(formula = d ~ Rep + Fert*Genotype, df, permutations = 999)\n",
    "T3adonis\n",
    "%%R\n",
    "# subset phyloseq object\n",
    "physeq.plantT2 = subset_samples(physeq,  Planted == \"Rhizosphere\" & TimePoint == \"T2\")\n",
    "physeq.plantT2\n",
    "\n",
    "# create unifrac distance matrix\n",
    "registerDoParallel(cores=28)\n",
    "w.unif.dist = distance(physeq.plantT2, \n",
    "                      method = \"unifrac\", \n",
    "                      weighted = TRUE,\n",
    "                      fast = TRUE, \n",
    "                      parallel = TRUE, \n",
    "                      normalized = FALSE)"
   ]
  },
  {
   "cell_type": "code",
   "execution_count": 32,
   "metadata": {
    "collapsed": false
   },
   "outputs": [],
   "source": [
    "%%R -w 800 -h 350\n",
    "\n",
    "pcoa = ordinate(physeq.plantT2, \n",
    "                method = \"PCoA\", \n",
    "                distance = w.unif.dist)\n",
    "\n",
    "p = plot_ordination(physeq, pcoa, justDF = TRUE)"
   ]
  },
  {
   "cell_type": "code",
   "execution_count": 33,
   "metadata": {
    "collapsed": false,
    "scrolled": true
   },
   "outputs": [
    {
     "data": {
      "image/png": "[encoded data removed]"
     },
     "metadata": {},
     "output_type": "display_data"
    }
   ],
   "source": [
    "%%R\n",
    "p1 = ggplot(subset(p, SeedTreatment == \"Treated\"), aes(x = Axis.1, y = Axis.2)) +\n",
    "        geom_point(aes(color=R_Year, shape = SeedTreatment, size = kgdw_ha)) + \n",
    "        facet_wrap(~Rep)\n",
    "        \n",
    "p1"
   ]
  },
  {
   "cell_type": "markdown",
   "metadata": {},
   "source": [
    "# T3"
   ]
  },
  {
   "cell_type": "code",
   "execution_count": 34,
   "metadata": {
    "collapsed": false
   },
   "outputs": [],
   "source": [
    "%%R\n",
    "# subset phyloseq object\n",
    "physeq.plantT3 = subset_samples(physeq,  Planted == \"Rhizosphere\" & TimePoint == \"T3\")\n",
    "physeq.plantT3\n",
    "\n",
    "# create unifrac distance matrix\n",
    "registerDoParallel(cores=28)\n",
    "w.unif.dist = distance(physeq.plantT3, \n",
    "                      method = \"unifrac\", \n",
    "                      weighted = TRUE,\n",
    "                      fast = TRUE, \n",
    "                      parallel = TRUE, \n",
    "                      normalized = FALSE)\n",
    "\n",
    "\n"
   ]
  },
  {
   "cell_type": "code",
   "execution_count": 35,
   "metadata": {
    "collapsed": false
   },
   "outputs": [
    {
     "data": {
      "image/png": "[encoded data removed]"
     },
     "metadata": {},
     "output_type": "display_data"
    }
   ],
   "source": [
    "%%R\n",
    "pcoa = ordinate(physeq.plantT3, \n",
    "                method = \"PCoA\", \n",
    "                distance = w.unif.dist)\n",
    "\n",
    "p = plot_ordination(physeq, pcoa, justDF = TRUE)\n",
    "\n",
    "p1 = ggplot(p, aes(x = Axis.1, y = Axis.2)) +\n",
    "        geom_point(aes(color=R_Year, size = kgdw_ha)) +\n",
    "        facet_wrap(~Fert)\n",
    "        \n",
    "p1\n"
   ]
  },
  {
   "cell_type": "markdown",
   "metadata": {},
   "source": [
    "# Mantel tests"
   ]
  },
  {
   "cell_type": "markdown",
   "metadata": {},
   "source": [
    "## T1"
   ]
  },
  {
   "cell_type": "code",
   "execution_count": 36,
   "metadata": {
    "collapsed": false
   },
   "outputs": [
    {
     "data": {
      "text/plain": [
       "phyloseq-class experiment-level object\n",
       "otu_table()   OTU Table:         [ 4597 taxa and 72 samples ]\n",
       "sample_data() Sample Data:       [ 72 samples by 34 sample variables ]\n",
       "tax_table()   Taxonomy Table:    [ 4597 taxa by 8 taxonomic ranks ]\n",
       "phy_tree()    Phylogenetic Tree: [ 4597 tips and 4596 internal nodes ]\n"
      ]
     },
     "metadata": {},
     "output_type": "display_data"
    }
   ],
   "source": [
    "%%R\n",
    "phy = subset_samples(physeq, Planted == \"Rhizosphere\" & TimePoint == \"T1\")\n",
    "phy"
   ]
  },
  {
   "cell_type": "markdown",
   "metadata": {},
   "source": [
    "* generate distance matrices\n"
   ]
  },
  {
   "cell_type": "code",
   "execution_count": 37,
   "metadata": {
    "collapsed": true
   },
   "outputs": [],
   "source": [
    "%%R\n",
    "\n",
    "registerDoParallel(cores=28)\n",
    "\n",
    "Time.wunif.dist = phyloseq::distance(phy, \n",
    "                      method = \"unifrac\", \n",
    "                      weighted = TRUE,\n",
    "                      fast = TRUE, \n",
    "                      parallel = TRUE, \n",
    "                      normalized = FALSE)\n",
    "\n",
    "Time.bray.dist = phyloseq::distance(phy, \n",
    "                      method = \"bray\", \n",
    "                      weighted = TRUE,\n",
    "                      fast = TRUE, \n",
    "                      parallel = TRUE, \n",
    "                      normalized = FALSE)"
   ]
  },
  {
   "cell_type": "code",
   "execution_count": 38,
   "metadata": {
    "collapsed": false,
    "scrolled": true
   },
   "outputs": [
    {
     "data": {
      "text/plain": [
       "\n",
       "Partial Mantel statistic based on Pearson's product-moment correlation \n",
       "\n",
       "Call:\n",
       "mantel.partial(xdis = Time.bray.dist, ydis = Yd, zdis = Rd, method = \"pearson\",      permutations = 999) \n",
       "\n",
       "Mantel statistic r: 0.06199 \n",
       "      Significance: 0.068 \n",
       "\n",
       "Upper quantiles of permutations (null model):\n",
       "   90%    95%  97.5%    99% \n",
       "0.0534 0.0683 0.0799 0.0965 \n",
       "Permutation: free\n",
       "Number of permutations: 999\n",
       "\n"
      ]
     },
     "metadata": {},
     "output_type": "display_data"
    },
    {
     "data": {
      "image/png": "[encoded data removed]"
     },
     "metadata": {},
     "output_type": "display_data"
    }
   ],
   "source": [
    "%%R\n",
    "#Test on soil activity/rhizosphere effect\n",
    "Sd = sample_data(phy)\n",
    "\n",
    "# Generate distance matrix of year of release\n",
    "Yd = dist(Sd[,\"R_Year\"], method = \"euclidian\")\n",
    "hist(Yd)\n",
    "\n",
    "# generate distance matrix of rep and change all values > 1 to 1\n",
    "Rd = dist(Sd[,\"Rep\"])\n",
    "Rd[Rd > 1] <- 1\n",
    "\n",
    "\n",
    "M1 = mantel.partial(Time.bray.dist, Yd, Rd, method=\"pearson\", permutations=999)\n",
    "M1\n",
    "#Model is not significant within T1 "
   ]
  },
  {
   "cell_type": "markdown",
   "metadata": {},
   "source": [
    "* Mantel test at V6 is not quite significant for w-unif, but sign for Bray.  \n",
    "* Spatial autocorrelation may be an issue and Mantel problems"
   ]
  },
  {
   "cell_type": "markdown",
   "metadata": {},
   "source": [
    "## T2"
   ]
  },
  {
   "cell_type": "code",
   "execution_count": 39,
   "metadata": {
    "collapsed": false
   },
   "outputs": [
    {
     "data": {
      "text/plain": [
       "phyloseq-class experiment-level object\n",
       "otu_table()   OTU Table:         [ 4597 taxa and 48 samples ]\n",
       "sample_data() Sample Data:       [ 48 samples by 34 sample variables ]\n",
       "tax_table()   Taxonomy Table:    [ 4597 taxa by 8 taxonomic ranks ]\n",
       "phy_tree()    Phylogenetic Tree: [ 4597 tips and 4596 internal nodes ]\n"
      ]
     },
     "metadata": {},
     "output_type": "display_data"
    }
   ],
   "source": [
    "%%R\n",
    "# subset phyloseq object to just rhizosphere plants, time point 2 and only treated seeds\n",
    "phy = subset_samples(physeq, Planted == \"Rhizosphere\" & TimePoint == \"T2\" & SeedTreatment == \"Treated\")\n",
    "phy"
   ]
  },
  {
   "cell_type": "markdown",
   "metadata": {},
   "source": [
    "* generate distance matrices\n"
   ]
  },
  {
   "cell_type": "code",
   "execution_count": 40,
   "metadata": {
    "collapsed": true
   },
   "outputs": [],
   "source": [
    "%%R\n",
    "\n",
    "registerDoParallel(cores=28)\n",
    "\n",
    "Time.wunif.dist = phyloseq::distance(phy, \n",
    "                      method = \"unifrac\", \n",
    "                      weighted = TRUE,\n",
    "                      fast = TRUE, \n",
    "                      parallel = TRUE, \n",
    "                      normalized = FALSE)\n",
    "\n",
    "Time.bray.dist = phyloseq::distance(phy, \n",
    "                      method = \"bray\", \n",
    "                      weighted = TRUE,\n",
    "                      fast = TRUE, \n",
    "                      parallel = TRUE, \n",
    "                      normalized = FALSE)"
   ]
  },
  {
   "cell_type": "code",
   "execution_count": 41,
   "metadata": {
    "collapsed": false,
    "scrolled": true
   },
   "outputs": [
    {
     "data": {
      "text/plain": [
       "\n",
       "Partial Mantel statistic based on Pearson's product-moment correlation \n",
       "\n",
       "Call:\n",
       "mantel.partial(xdis = Time.wunif.dist, ydis = Yd, zdis = Rd,      method = \"pearson\", permutations = 999) \n",
       "\n",
       "Mantel statistic r: -0.05455 \n",
       "      Significance: 0.882 \n",
       "\n",
       "Upper quantiles of permutations (null model):\n",
       "   90%    95%  97.5%    99% \n",
       "0.0688 0.0850 0.1009 0.1133 \n",
       "Permutation: free\n",
       "Number of permutations: 999\n",
       "\n",
       "\n",
       "Partial Mantel statistic based on Pearson's product-moment correlation \n",
       "\n",
       "Call:\n",
       "mantel.partial(xdis = Time.bray.dist, ydis = Yd, zdis = Rd, method = \"pearson\",      permutations = 999) \n",
       "\n",
       "Mantel statistic r: -0.05738 \n",
       "      Significance: 0.89 \n",
       "\n",
       "Upper quantiles of permutations (null model):\n",
       "   90%    95%  97.5%    99% \n",
       "0.0706 0.0896 0.1030 0.1308 \n",
       "Permutation: free\n",
       "Number of permutations: 999\n",
       "\n"
      ]
     },
     "metadata": {},
     "output_type": "display_data"
    }
   ],
   "source": [
    "%%R\n",
    "#Test on soil activity/rhizosphere effect\n",
    "Sd = sample_data(phy)\n",
    "\n",
    "# Generate distance matrix of year of release\n",
    "Yd = dist(Sd[,\"R_Year\"], method = \"euclidian\")\n",
    "#hist(Yd)\n",
    "\n",
    "# generate distance matrix of rep and change all values > 1 to 1\n",
    "Rd = dist(Sd[,\"Rep\"])\n",
    "Rd[Rd > 1] <- 1\n",
    "\n",
    "\n",
    "M1 = mantel.partial(Time.wunif.dist, Yd, Rd, method=\"pearson\", permutations=999)\n",
    "M1 %>% print\n",
    "\n",
    "M2 =  mantel.partial(Time.bray.dist, Yd, Rd, method=\"pearson\", permutations=999)\n",
    "M2 %>% print\n",
    "#Model is not significant within T2"
   ]
  },
  {
   "cell_type": "markdown",
   "metadata": {},
   "source": [
    "## T3"
   ]
  },
  {
   "cell_type": "code",
   "execution_count": 42,
   "metadata": {
    "collapsed": false
   },
   "outputs": [
    {
     "data": {
      "text/plain": [
       "phyloseq-class experiment-level object\n",
       "otu_table()   OTU Table:         [ 4597 taxa and 72 samples ]\n",
       "sample_data() Sample Data:       [ 72 samples by 34 sample variables ]\n",
       "tax_table()   Taxonomy Table:    [ 4597 taxa by 8 taxonomic ranks ]\n",
       "phy_tree()    Phylogenetic Tree: [ 4597 tips and 4596 internal nodes ]\n"
      ]
     },
     "metadata": {},
     "output_type": "display_data"
    }
   ],
   "source": [
    "%%R\n",
    "# subset phyloseq object to just rhizosphere plants, time point 2 and only treated seeds\n",
    "phy = subset_samples(physeq, Planted == \"Rhizosphere\" & TimePoint == \"T3\")\n",
    "phy"
   ]
  },
  {
   "cell_type": "markdown",
   "metadata": {},
   "source": [
    "* generate distance matrices\n"
   ]
  },
  {
   "cell_type": "code",
   "execution_count": 43,
   "metadata": {
    "collapsed": true
   },
   "outputs": [],
   "source": [
    "%%R\n",
    "\n",
    "registerDoParallel(cores=28)\n",
    "\n",
    "Time.wunif.dist = phyloseq::distance(phy, \n",
    "                      method = \"unifrac\", \n",
    "                      weighted = TRUE,\n",
    "                      fast = TRUE, \n",
    "                      parallel = TRUE, \n",
    "                      normalized = FALSE)\n",
    "\n",
    "Time.bray.dist = phyloseq::distance(phy, \n",
    "                      method = \"bray\", \n",
    "                      weighted = TRUE,\n",
    "                      fast = TRUE, \n",
    "                      parallel = TRUE, \n",
    "                      normalized = FALSE)"
   ]
  },
  {
   "cell_type": "code",
   "execution_count": 44,
   "metadata": {
    "collapsed": false,
    "scrolled": true
   },
   "outputs": [
    {
     "data": {
      "text/plain": [
       "\n",
       "Partial Mantel statistic based on Pearson's product-moment correlation \n",
       "\n",
       "Call:\n",
       "mantel.partial(xdis = Time.wunif.dist, ydis = Yd, zdis = Rd,      method = \"pearson\", permutations = 999) \n",
       "\n",
       "Mantel statistic r: -0.007834 \n",
       "      Significance: 0.569 \n",
       "\n",
       "Upper quantiles of permutations (null model):\n",
       "   90%    95%  97.5%    99% \n",
       "0.0450 0.0587 0.0764 0.0884 \n",
       "Permutation: free\n",
       "Number of permutations: 999\n",
       "\n",
       "\n",
       "Partial Mantel statistic based on Pearson's product-moment correlation \n",
       "\n",
       "Call:\n",
       "mantel.partial(xdis = Time.bray.dist, ydis = Yd, zdis = Rd, method = \"pearson\",      permutations = 999) \n",
       "\n",
       "Mantel statistic r: -0.003269 \n",
       "      Significance: 0.522 \n",
       "\n",
       "Upper quantiles of permutations (null model):\n",
       "   90%    95%  97.5%    99% \n",
       "0.0452 0.0616 0.0779 0.0893 \n",
       "Permutation: free\n",
       "Number of permutations: 999\n",
       "\n"
      ]
     },
     "metadata": {},
     "output_type": "display_data"
    }
   ],
   "source": [
    "%%R\n",
    "#Test on soil activity/rhizosphere effect\n",
    "Sd = sample_data(phy)\n",
    "\n",
    "# Generate distance matrix of year of release\n",
    "Yd = dist(Sd[,\"R_Year\"], method = \"euclidian\")\n",
    "#hist(Yd)\n",
    "\n",
    "# generate distance matrix of rep and change all values > 1 to 1\n",
    "Rd = dist(Sd[,\"Rep\"])\n",
    "Rd[Rd > 1] <- 1\n",
    "\n",
    "\n",
    "M1 = mantel.partial(Time.wunif.dist, Yd, Rd, method=\"pearson\", permutations=999)\n",
    "M1 %>% print\n",
    "\n",
    "M2 =  mantel.partial(Time.bray.dist, Yd, Rd, method=\"pearson\", permutations=999)\n",
    "M2 %>% print\n"
   ]
  },
  {
   "cell_type": "markdown",
   "metadata": {
    "collapsed": true
   },
   "source": [
    "* Mantel test is not significant at T3"
   ]
  },
  {
   "cell_type": "markdown",
   "metadata": {},
   "source": [
    "# CAP"
   ]
  },
  {
   "cell_type": "code",
   "execution_count": 45,
   "metadata": {
    "collapsed": false
   },
   "outputs": [
    {
     "data": {
      "text/plain": [
       "phyloseq-class experiment-level object\n",
       "otu_table()   OTU Table:         [ 4597 taxa and 48 samples ]\n",
       "sample_data() Sample Data:       [ 48 samples by 34 sample variables ]\n",
       "tax_table()   Taxonomy Table:    [ 4597 taxa by 8 taxonomic ranks ]\n",
       "phy_tree()    Phylogenetic Tree: [ 4597 tips and 4596 internal nodes ]\n"
      ]
     },
     "metadata": {},
     "output_type": "display_data"
    }
   ],
   "source": [
    "%%R\n",
    "# subset phyloseq object to just rhizosphere plants, time point 2 and only treated seeds\n",
    "phy = subset_samples(physeq, Planted == \"Rhizosphere\" & TimePoint == \"T2\" & SeedTreatment == \"Treated\")\n",
    "phy"
   ]
  },
  {
   "cell_type": "code",
   "execution_count": 46,
   "metadata": {
    "collapsed": true
   },
   "outputs": [],
   "source": [
    "%%R\n",
    "T2.wunif.dist = phyloseq::distance(phy, \n",
    "                      method = \"unifrac\", \n",
    "                      weighted = TRUE,\n",
    "                      fast = TRUE, \n",
    "                      parallel = TRUE, \n",
    "                      normalized = FALSE)"
   ]
  },
  {
   "cell_type": "code",
   "execution_count": 47,
   "metadata": {
    "collapsed": false
   },
   "outputs": [
    {
     "data": {
      "text/plain": [
       " [1] \"X.sampleID\"      \"TubeID\"          \"ExtractionPlate\" \"PooledDNAPlate\" \n",
       " [5] \"Sample.Well.ID\"  \"PrimerPlate\"     \"Primer.Number\"   \"Primer.Well.ID\" \n",
       " [9] \"X\"               \"primerFwdLoc\"    \"primerRevLoc\"    \"fwd_barcode\"    \n",
       "[13] \"rev_barcode\"     \"PlotID\"          \"TimePoint\"       \"Rep\"            \n",
       "[17] \"Row\"             \"Pos\"             \"Fert\"            \"PlotIndex\"      \n",
       "[21] \"Plant\"           \"Genotype\"        \"SeedTreatment\"   \"R_Year\"         \n",
       "[25] \"ERA\"             \"kgdw_ha\"         \"FracN.leco\"      \"FracC.leco\"     \n",
       "[29] \"d15N\"            \"X15N_AtPercent\"  \"FracN\"           \"FracN_fromSoil\" \n",
       "[33] \"FracN_fromFert\"  \"Planted\"        \n"
      ]
     },
     "metadata": {},
     "output_type": "display_data"
    }
   ],
   "source": [
    "%%R\n",
    "sample_data(phy) %>% colnames"
   ]
  },
  {
   "cell_type": "code",
   "execution_count": 48,
   "metadata": {
    "collapsed": false,
    "scrolled": true
   },
   "outputs": [
    {
     "data": {
      "image/png": "[encoded data removed]"
     },
     "metadata": {},
     "output_type": "display_data"
    }
   ],
   "source": [
    "%%R\n",
    "sample_data(phy)$Rep = as.factor(sample_data(phy)$Rep)\n",
    "# cap.ord = ordinate(\n",
    "#     physeq = phy, \n",
    "#     method = \"CAP\",\n",
    "#     distance = T2.wunif.dist,\n",
    "#     formula = ~ R_Year + Rep + Condition())\n",
    "\n",
    "ordcap = ordinate(phy, \"CAP\", \"bray\", ~R_Year + Condition(ExtractionPlate))\n",
    "plot_ordination(phy, ordcap, \"samples\", color=\"R_Year\")\n",
    "\n",
    "\n",
    "\n",
    "\n",
    "# # CAP plot\n",
    "# cap.plot <- plot_ordination(phy, cap.ord, axes = c(1,2)) + \n",
    "#     geom_point(aes(fill = Genotype), pch= 21,alpha= 1) \n",
    "    #geom_point(colour = \"grey90\", \n",
    "    #    size = 1.5) + \n",
    "    \n",
    "    #scale_color_manual(values = c(\"#1CE6FF\",\"#B79762\", \"#004D43\", \"#8FB0FF\", \"#997D87\", \"#5A0007\"), name = \"Genotype\",\n",
    " #                      labels = c(\"B73xB97\", \"B73xTx303\", \"ECHES\",\"FAGES\",\"HELAN\",     \"SORSUD\")) \n",
    "\n",
    "\n",
    "\n",
    "\n",
    "# Now add the environmental variables as arrows\n",
    "# arrowmat <- vegan::scores(cap.ord, display = \"bp\")\n",
    "\n",
    "# rownames(arrowmat) = c(\"R_Year\", \"Rep\")\n",
    "# #rownames(arrowmat) = c(\"BX\", \"CB\", \"LAP\", \"NAG\")\n",
    "\n",
    "# # Add labels, make a data.frame\n",
    "# arrowdf <- data.frame(labels = rownames(arrowmat), arrowmat)\n",
    "\n",
    "# Define the arrow aesthetic mapping\n",
    "# arrow_map <- aes(xend = CAP1, \n",
    "#     yend = CAP2, \n",
    "#     x = 0, \n",
    "#     y = 0, \n",
    "#     shape = NULL, \n",
    "#     color = NULL, \n",
    "#     label = labels)\n",
    "\n",
    "# label_map <- aes(x = 1.3 * CAP1, \n",
    "#     y = 1.3 * CAP2, \n",
    "#     shape = NULL, \n",
    "#     color = NULL, \n",
    "#     label = labels)\n",
    "\n",
    "# arrowhead = arrow(length = unit(0.02, \"npc\"))\n",
    "\n",
    "# # Make a new graphic\n",
    "# p = cap.plot + \n",
    "# geom_segment(arrow_map, \n",
    "#     size = .5, \n",
    "#     data = arrowdf, \n",
    "#     color = \"gray\", \n",
    "#     arrow = arrowhead\n",
    "#     ) + \n",
    "# geom_text(label_map,   \n",
    "#     data = arrowdf, \n",
    "#     show_guide = FALSE) \n",
    "# p = p + theme_pub() \n",
    "# #p = p + theme(panel.border = element_blank(), legend.position = \"right\", legend.text = element_text(size = 10)) \n",
    "# p = p + theme(legend.position = \"left\", legend.text = element_text()) \n",
    "\n",
    "#save legend for independent formatting\n",
    "# g_legend<-function(a.gplot){\n",
    "#     tmp <- ggplot_gtable(ggplot_build(a.gplot))\n",
    "#     leg <- which(sapply(tmp$grobs, function(x) x$name) == \"guide-box\")\n",
    "#     legend <- tmp$grobs[[leg]]\n",
    "#     legend\n",
    "# }\n",
    "# \n",
    "\n",
    "                        \n",
    "#legend1 <- g_legend(p)\n",
    "\n",
    "                     \n",
    "# p =  p + theme(axis.line.x = element_line(color=\"black\", size = 1),\n",
    "#     axis.line.y = element_line(color=\"black\", size = 1), legend.position = \"left\")\n",
    "# p = p + theme(legend.position = \"bottom\")\n",
    "# p"
   ]
  },
  {
   "cell_type": "code",
   "execution_count": 49,
   "metadata": {
    "collapsed": false,
    "scrolled": true
   },
   "outputs": [
    {
     "data": {
      "text/plain": [
       "Permutation test for capscale under reduced model\n",
       "Permutation: free\n",
       "Number of permutations: 999\n",
       "\n",
       "Model: capscale(formula = OTU ~ R_Year + Condition(ExtractionPlate), data = data, distance = distance)\n",
       "         Df SumOfSqs      F Pr(>F)\n",
       "Model     1  0.06798 1.0242  0.349\n",
       "Residual 42  2.78772              \n"
      ]
     },
     "metadata": {},
     "output_type": "display_data"
    }
   ],
   "source": [
    "%%R\n",
    "anova(ordcap)"
   ]
  },
  {
   "cell_type": "markdown",
   "metadata": {},
   "source": [
    "## Finally try DESeq2"
   ]
  },
  {
   "cell_type": "code",
   "execution_count": 50,
   "metadata": {
    "collapsed": false,
    "scrolled": false
   },
   "outputs": [
    {
     "data": {
      "text/plain": [
       "phyloseq-class experiment-level object\n",
       "otu_table()   OTU Table:         [ 4597 taxa and 72 samples ]\n",
       "sample_data() Sample Data:       [ 72 samples by 33 sample variables ]\n",
       "tax_table()   Taxonomy Table:    [ 4597 taxa by 8 taxonomic ranks ]\n",
       "phy_tree()    Phylogenetic Tree: [ 4597 tips and 4596 internal nodes ]\n"
      ]
     },
     "metadata": {},
     "output_type": "display_data"
    }
   ],
   "source": [
    "%%R \n",
    "# loading\n",
    "\n",
    "phy.thresh = readRDS('ERA_thresh.rds')\n",
    "\n",
    "#Subset to T1\n",
    "phy.thresh = subset_samples(phy.thresh, TimePoint == \"T1\" & SeedTreatment == \"Treated\", TRUE)\n",
    "phy.thresh"
   ]
  },
  {
   "cell_type": "code",
   "execution_count": 51,
   "metadata": {
    "collapsed": false
   },
   "outputs": [],
   "source": [
    "%%R\n",
    "sample_data(phy.thresh)$Rep = as.factor(sample_data(phy.thresh)$Rep)\n",
    "sample_data(phy.thresh)$Row = as.factor(sample_data(phy.thresh)$Row)\n",
    "sample_data(phy.thresh)$Fert = as.factor(sample_data(phy.thresh)$Fert)\n",
    "sample_data(phy.thresh)$ERA = as.factor(sample_data(phy.thresh)$ERA)"
   ]
  },
  {
   "cell_type": "code",
   "execution_count": 61,
   "metadata": {
    "collapsed": false
   },
   "outputs": [
    {
     "data": {
      "text/plain": [
       "[1] \"Intercept\" \"Rep1\"      \"Rep2\"      \"Rep3\"      \"Rep4\"      \"ERA1\"     \n",
       "[7] \"ERA2\"      \"ERA3\"     \n"
      ]
     },
     "metadata": {},
     "output_type": "display_data"
    }
   ],
   "source": [
    "%%R\n",
    "dds = phyloseq_to_deseq2(phy.thresh, ~Rep + ERA)\n",
    "d_dds = DESeq(dds, parallel = TRUE)\n",
    "resultsNames(d_dds) %>% print\n",
    "DF = results(d_dds, independentFiltering = TRUE)\n",
    "\n",
    "supp = tax_table(phy.thresh)\n",
    "            if (!setequal(row.names(supp), row.names(DF))) {\n",
    "            stop(\"Ordination and supplementary data indices differ on the following:\\n.\",\n",
    "            setdiff(row.names(DF), row.names(supp)))\n",
    "        }  \n",
    "\n",
    "        DF = data.frame(DF, supp)\n",
    "        DF$OTU = rownames(DF)\n",
    "\n",
    "DF$Test = \"R_Year\"\n",
    "        YR = DF"
   ]
  },
  {
   "cell_type": "code",
   "execution_count": 64,
   "metadata": {
    "collapsed": false
   },
   "outputs": [
    {
     "data": {
      "text/plain": [
       "    baseMean        log2FoldChange         lfcSE              stat         \n",
       " Min.   :  0.0000   Min.   :-1.02717   Min.   :0.07078   Min.   :-3.71746  \n",
       " 1st Qu.:  0.6085   1st Qu.:-0.12724   1st Qu.:0.22750   1st Qu.:-0.51280  \n",
       " Median :  1.3175   Median : 0.01019   Median :0.26942   Median : 0.04885  \n",
       " Mean   :  6.5597   Mean   : 0.01129   Mean   :0.24897   Mean   : 0.04761  \n",
       " 3rd Qu.:  3.9825   3rd Qu.: 0.14869   3rd Qu.:0.28747   3rd Qu.: 0.61332  \n",
       " Max.   :534.7727   Max.   : 0.99023   Max.   :0.29366   Max.   : 3.54639  \n",
       "                    NA's   :9          NA's   :9         NA's   :9         \n",
       "     pvalue            padj             Rank1                   Rank2     \n",
       " Min.   :0.0002   Min.   :0.5614   Bacteria:4597   __Proteobacteria:1219  \n",
       " 1st Qu.:0.3192   1st Qu.:1.0000                   __Planctomycetes: 840  \n",
       " Median :0.5766   Median :1.0000                   __Actinobacteria: 656  \n",
       " Mean   :0.5539   Mean   :0.9985                   __Chloroflexi   : 446  \n",
       " 3rd Qu.:0.8041   3rd Qu.:1.0000                   __Acidobacteria : 385  \n",
       " Max.   :1.0000   Max.   :1.0000                   (Other)         :1046  \n",
       " NA's   :44       NA's   :44                       NA's            :   5  \n",
       "                   Rank3                         Rank4     \n",
       " __Planctomycetacia   : 571   __Planctomycetales    : 571  \n",
       " __Deltaproteobacteria: 502   __uncultured_bacterium: 561  \n",
       " __Alphaproteobacteria: 359   __Myxococcales        : 363  \n",
       " __Thermoleophilia    : 217   __Sphingobacteriales  : 153  \n",
       " __DA023              : 180   __Acidimicrobiales    : 148  \n",
       " (Other)              :2747   (Other)               :2487  \n",
       " NA's                 :  21   NA's                  : 314  \n",
       "                    Rank5                         Rank6     \n",
       " __Planctomycetaceae   : 567   __uncultured          : 873  \n",
       " __uncultured_bacterium: 264   __uncultured_bacterium: 488  \n",
       " __uncultured          : 218   __Haliangiaceae       :  81  \n",
       " __Anaerolineaceae     : 129   __Gemmata             :  77  \n",
       " __Sorangiineae        : 119   __Flexibacter         :  47  \n",
       " (Other)               :2138   (Other)               :1154  \n",
       " NA's                  :1162   NA's                  :1877  \n",
       "                                    Rank7     \n",
       " __uncultured_bacterium                :1295  \n",
       " __Haliangium                          :  80  \n",
       " __Sorangium                           :  20  \n",
       " __uncultured_Verrucomicrobia_bacterium:  14  \n",
       " __Sandaracinus                        :  12  \n",
       " (Other)                               : 172  \n",
       " NA's                                  :3004  \n",
       "                                Rank8          OTU           \n",
       " __uncultured_bacterium            :  93   Length:4597       \n",
       " __uncultured_delta_proteobacterium:   4   Class :character  \n",
       " __Polyangium                      :   3   Mode  :character  \n",
       " __Sphaerobacter                   :   2                     \n",
       " __Myxococcus_fulvus               :   1                     \n",
       " (Other)                           :   3                     \n",
       " NA's                              :4491                     \n",
       "     Test          \n",
       " Length:4597       \n",
       " Class :character  \n",
       " Mode  :character  \n",
       "                   \n",
       "                   \n",
       "                   \n",
       "                   \n"
      ]
     },
     "metadata": {},
     "output_type": "display_data"
    }
   ],
   "source": [
    "%%R\n",
    "summary(DF)"
   ]
  },
  {
   "cell_type": "code",
   "execution_count": 62,
   "metadata": {
    "collapsed": false
   },
   "outputs": [
    {
     "data": {
      "image/png": "[encoded data removed]"
     },
     "metadata": {},
     "output_type": "display_data"
    }
   ],
   "source": [
    "%%R\n",
    "sigtab = YR %>% filter(padj < 0.1)\n",
    "x = tapply(sigtab$log2FoldChange, sigtab$Rank4, function(x) max(x))\n",
    "x = sort(x, TRUE)\n",
    "sigtab$Rank4 = factor(as.character(sigtab$Rank4), levels=names(x))\n",
    "# x = tapply(sigtab$log2FoldChange, sigtab$Rank3, function(x) max(x))\n",
    "# x = sort(x, TRUE)\n",
    "# sigtab$Rank3 = factor(as.character(sigtab$Rank3), levels=names(x))\n",
    "    \n",
    "p2 = ggplot(sigtab, aes(x=Rank4, y=log2FoldChange, size = baseMean)) + \n",
    "    geom_point(aes(color = Rank2))+\n",
    "  theme_pub() +\n",
    "  theme(axis.text.x = element_text(angle = -90, hjust = 0, vjust=0.5)) + \n",
    "    ggtitle(\"OTUs correlated with Year of Release\")  +\n",
    "   theme(legend.position=\"right\")\n",
    "#x = tapply(sigtab$log2FoldChange, sigtab$Rank2, function(x) max(x))\n",
    "#x = sort(x, TRUE)\n",
    "#x\n",
    "    p2"
   ]
  },
  {
   "cell_type": "markdown",
   "metadata": {},
   "source": [
    "# Pseudomonas"
   ]
  },
  {
   "cell_type": "code",
   "execution_count": 55,
   "metadata": {
    "collapsed": false
   },
   "outputs": [
    {
     "name": "stdout",
     "output_type": "stream",
     "text": [
      "\n",
      "Error in eval(expr, envir, enclos) : object 'physeq.core' not found\n"
     ]
    },
    {
     "name": "stderr",
     "output_type": "stream",
     "text": [
      "/opt/anaconda2/lib/python2.7/site-packages/rpy2/rinterface/__init__.py:186: RRuntimeWarning: Error in eval(expr, envir, enclos) : object 'physeq.core' not found\n",
      "\n",
      "  warnings.warn(x, RRuntimeWarning)\n",
      "/opt/anaconda2/lib/python2.7/site-packages/rpy2/rinterface/__init__.py:186: RRuntimeWarning: Warning messages:\n",
      "\n",
      "  warnings.warn(x, RRuntimeWarning)\n",
      "/opt/anaconda2/lib/python2.7/site-packages/rpy2/rinterface/__init__.py:186: RRuntimeWarning: 1: \n",
      "  warnings.warn(x, RRuntimeWarning)\n",
      "/opt/anaconda2/lib/python2.7/site-packages/rpy2/rinterface/__init__.py:186: RRuntimeWarning: In class(x) <- c(\"tbl_df\", \"tbl\", \"data.frame\") :\n",
      "  warnings.warn(x, RRuntimeWarning)\n",
      "/opt/anaconda2/lib/python2.7/site-packages/rpy2/rinterface/__init__.py:186: RRuntimeWarning:  Setting class(x) to multiple strings (\"tbl_df\", \"tbl\", ...); result will no longer be an S4 object\n",
      "\n",
      "  warnings.warn(x, RRuntimeWarning)\n",
      "/opt/anaconda2/lib/python2.7/site-packages/rpy2/rinterface/__init__.py:186: RRuntimeWarning: 2: \n",
      "  warnings.warn(x, RRuntimeWarning)\n",
      "/opt/anaconda2/lib/python2.7/site-packages/rpy2/rinterface/__init__.py:186: RRuntimeWarning: 3: \n",
      "  warnings.warn(x, RRuntimeWarning)\n",
      "/opt/anaconda2/lib/python2.7/site-packages/rpy2/rinterface/__init__.py:186: RRuntimeWarning: 4: \n",
      "  warnings.warn(x, RRuntimeWarning)\n",
      "/opt/anaconda2/lib/python2.7/site-packages/rpy2/rinterface/__init__.py:186: RRuntimeWarning: In as.matrix.data.frame(x) :\n",
      "  warnings.warn(x, RRuntimeWarning)\n",
      "/opt/anaconda2/lib/python2.7/site-packages/rpy2/rinterface/__init__.py:186: RRuntimeWarning:  Setting class(x) to NULL;   result will no longer be an S4 object\n",
      "\n",
      "  warnings.warn(x, RRuntimeWarning)\n",
      "/opt/anaconda2/lib/python2.7/site-packages/rpy2/rinterface/__init__.py:186: RRuntimeWarning: 5: \n",
      "  warnings.warn(x, RRuntimeWarning)\n",
      "/opt/anaconda2/lib/python2.7/site-packages/rpy2/rinterface/__init__.py:186: RRuntimeWarning: 6: \n",
      "  warnings.warn(x, RRuntimeWarning)\n",
      "/opt/anaconda2/lib/python2.7/site-packages/rpy2/rinterface/__init__.py:186: RRuntimeWarning: 7: \n",
      "  warnings.warn(x, RRuntimeWarning)\n",
      "/opt/anaconda2/lib/python2.7/site-packages/rpy2/rinterface/__init__.py:186: RRuntimeWarning: 8: \n",
      "  warnings.warn(x, RRuntimeWarning)\n",
      "/opt/anaconda2/lib/python2.7/site-packages/rpy2/rinterface/__init__.py:186: RRuntimeWarning: 9: \n",
      "  warnings.warn(x, RRuntimeWarning)\n"
     ]
    }
   ],
   "source": [
    "%%R\n",
    "physeq.core %>% \n",
    "    tax_table() %>% \n",
    "    head()"
   ]
  },
  {
   "cell_type": "code",
   "execution_count": 56,
   "metadata": {
    "collapsed": false
   },
   "outputs": [
    {
     "name": "stdout",
     "output_type": "stream",
     "text": [
      "\n",
      "Error in tax_table(physeq) : object 'physeq.snorm' not found\n"
     ]
    },
    {
     "name": "stderr",
     "output_type": "stream",
     "text": [
      "/opt/anaconda2/lib/python2.7/site-packages/rpy2/rinterface/__init__.py:186: RRuntimeWarning: Error in tax_table(physeq) : object 'physeq.snorm' not found\n",
      "\n",
      "  warnings.warn(x, RRuntimeWarning)\n"
     ]
    }
   ],
   "source": [
    "%%R\n",
    "pdms = subset_taxa(physeq.snorm, Rank6==\"__Pseudomonas\") %>%\n",
    "    subset_samples(Ntreat == \"Nneg\")\n",
    "pdms"
   ]
  },
  {
   "cell_type": "code",
   "execution_count": 57,
   "metadata": {
    "collapsed": false,
    "scrolled": true
   },
   "outputs": [
    {
     "name": "stdout",
     "output_type": "stream",
     "text": [
      "\n",
      "Error in inherits(physeq, \"phyloseq\") : object 'pdms' not found\n"
     ]
    },
    {
     "name": "stderr",
     "output_type": "stream",
     "text": [
      "/opt/anaconda2/lib/python2.7/site-packages/rpy2/rinterface/__init__.py:186: RRuntimeWarning: Error in inherits(physeq, \"phyloseq\") : object 'pdms' not found\n",
      "\n",
      "  warnings.warn(x, RRuntimeWarning)\n"
     ]
    }
   ],
   "source": [
    "%%R\n",
    "title = \"plot_bar; Pseudomonas-only\"\n",
    "plot_bar(pdms, \"Genotype\", \"Abundance\", title=title)"
   ]
  },
  {
   "cell_type": "code",
   "execution_count": 58,
   "metadata": {
    "collapsed": false
   },
   "outputs": [
    {
     "name": "stdout",
     "output_type": "stream",
     "text": [
      "\n",
      "Error in inherits(physeq, \"phyloseq\") : object 'pdms' not found\n"
     ]
    }
   ],
   "source": [
    "%%R\n",
    "pdms.mean = psmelt(pdms) %>%\n",
    "        group_by(OTU,TimePoint, Genotype) %>%\n",
    "         summarize(relAbundance = mean(Abundance))"
   ]
  },
  {
   "cell_type": "code",
   "execution_count": 59,
   "metadata": {
    "collapsed": false,
    "scrolled": false
   },
   "outputs": [
    {
     "name": "stdout",
     "output_type": "stream",
     "text": [
      "\n",
      "Error in ggplot(pdms.mean, aes(x = Genotype, y = relAbundance)) : \n",
      "  object 'pdms.mean' not found\n"
     ]
    },
    {
     "name": "stderr",
     "output_type": "stream",
     "text": [
      "/opt/anaconda2/lib/python2.7/site-packages/rpy2/rinterface/__init__.py:186: RRuntimeWarning: Error in ggplot(pdms.mean, aes(x = Genotype, y = relAbundance)) : \n",
      "  object 'pdms.mean' not found\n",
      "\n",
      "  warnings.warn(x, RRuntimeWarning)\n"
     ]
    }
   ],
   "source": [
    "%%R -w 700 -h 700\n",
    "ggplot(pdms.mean, aes(x = Genotype, y = relAbundance)) +\n",
    "    geom_bar(stat = \"identity\") + \n",
    "    facet_grid(OTU~TimePoint, scales = \"free_x\")+\n",
    "    theme(axis.text.x = element_text(angle = 60))\n",
    "   # geom_text(aes(y = relAbundance + .001, label=sig))"
   ]
  },
  {
   "cell_type": "code",
   "execution_count": 60,
   "metadata": {
    "collapsed": false
   },
   "outputs": [
    {
     "name": "stdout",
     "output_type": "stream",
     "text": [
      "\n",
      "Error in tax_table(pdms) : object 'pdms' not found\n"
     ]
    },
    {
     "name": "stderr",
     "output_type": "stream",
     "text": [
      "/opt/anaconda2/lib/python2.7/site-packages/rpy2/rinterface/__init__.py:186: RRuntimeWarning: Error in tax_table(pdms) : object 'pdms' not found\n",
      "\n",
      "  warnings.warn(x, RRuntimeWarning)\n"
     ]
    }
   ],
   "source": [
    "%%R\n",
    "tax_table(pdms)"
   ]
  }
 ],
 "metadata": {
  "anaconda-cloud": {},
  "hide_input": true,
  "kernelspec": {
   "display_name": "Python 2",
   "language": "python",
   "name": "python2"
  },
  "language_info": {
   "codemirror_mode": {
    "name": "ipython",
    "version": 2
   },
   "file_extension": ".py",
   "mimetype": "text/x-python",
   "name": "python",
   "nbconvert_exporter": "python",
   "pygments_lexer": "ipython2",
   "version": "2.7.13"
  }
 },
 "nbformat": 4,
 "nbformat_minor": 0
}
