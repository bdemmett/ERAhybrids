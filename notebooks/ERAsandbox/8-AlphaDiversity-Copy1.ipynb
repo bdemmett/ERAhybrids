{
 "cells": [
  {
   "cell_type": "markdown",
   "metadata": {},
   "source": [
    "## Description:\n",
    "\n",
    "    Diversity estimates on samples merged by PlantxFert\n",
    "\n",
    "    Work in progress, using relative abundance errors is throwing an error in alpha diversity metric.\n",
    "    "
   ]
  },
  {
   "cell_type": "code",
   "execution_count": 1,
   "metadata": {
    "collapsed": false
   },
   "outputs": [],
   "source": [
    "\n",
    "%load_ext rpy2.ipython"
   ]
  },
  {
   "cell_type": "code",
   "execution_count": 2,
   "metadata": {
    "collapsed": false
   },
   "outputs": [
    {
     "name": "stderr",
     "output_type": "stream",
     "text": [
      "/opt/anaconda2/lib/python2.7/site-packages/rpy2/rinterface/__init__.py:186: RRuntimeWarning: foreach: simple, scalable parallel programming from Revolution Analytics\n",
      "Use Revolution R for scalability, fault tolerance and more.\n",
      "http://www.revolutionanalytics.com\n",
      "\n",
      "  warnings.warn(x, RRuntimeWarning)\n",
      "/opt/anaconda2/lib/python2.7/site-packages/rpy2/rinterface/__init__.py:186: RRuntimeWarning: Loading required package: iterators\n",
      "\n",
      "  warnings.warn(x, RRuntimeWarning)\n",
      "/opt/anaconda2/lib/python2.7/site-packages/rpy2/rinterface/__init__.py:186: RRuntimeWarning: Loading required package: parallel\n",
      "\n",
      "  warnings.warn(x, RRuntimeWarning)\n",
      "/opt/anaconda2/lib/python2.7/site-packages/rpy2/rinterface/__init__.py:186: RRuntimeWarning: \n",
      "Attaching package: ‘dplyr’\n",
      "\n",
      "\n",
      "  warnings.warn(x, RRuntimeWarning)\n",
      "/opt/anaconda2/lib/python2.7/site-packages/rpy2/rinterface/__init__.py:186: RRuntimeWarning: The following object is masked from ‘package:gridExtra’:\n",
      "\n",
      "    combine\n",
      "\n",
      "\n",
      "  warnings.warn(x, RRuntimeWarning)\n",
      "/opt/anaconda2/lib/python2.7/site-packages/rpy2/rinterface/__init__.py:186: RRuntimeWarning: The following objects are masked from ‘package:stats’:\n",
      "\n",
      "    filter, lag\n",
      "\n",
      "\n",
      "  warnings.warn(x, RRuntimeWarning)\n",
      "/opt/anaconda2/lib/python2.7/site-packages/rpy2/rinterface/__init__.py:186: RRuntimeWarning: The following objects are masked from ‘package:base’:\n",
      "\n",
      "    intersect, setdiff, setequal, union\n",
      "\n",
      "\n",
      "  warnings.warn(x, RRuntimeWarning)\n",
      "/opt/anaconda2/lib/python2.7/site-packages/rpy2/rinterface/__init__.py:186: RRuntimeWarning: Loading required package: Matrix\n",
      "\n",
      "  warnings.warn(x, RRuntimeWarning)\n",
      "/opt/anaconda2/lib/python2.7/site-packages/rpy2/rinterface/__init__.py:186: RRuntimeWarning: \n",
      "Attaching package: ‘Matrix’\n",
      "\n",
      "\n",
      "  warnings.warn(x, RRuntimeWarning)\n",
      "/opt/anaconda2/lib/python2.7/site-packages/rpy2/rinterface/__init__.py:186: RRuntimeWarning: The following object is masked from ‘package:tidyr’:\n",
      "\n",
      "    expand\n",
      "\n",
      "\n",
      "  warnings.warn(x, RRuntimeWarning)\n",
      "/opt/anaconda2/lib/python2.7/site-packages/rpy2/rinterface/__init__.py:186: RRuntimeWarning: \n",
      "Attaching package: ‘lmerTest’\n",
      "\n",
      "\n",
      "  warnings.warn(x, RRuntimeWarning)\n",
      "/opt/anaconda2/lib/python2.7/site-packages/rpy2/rinterface/__init__.py:186: RRuntimeWarning: The following object is masked from ‘package:lme4’:\n",
      "\n",
      "    lmer\n",
      "\n",
      "\n",
      "  warnings.warn(x, RRuntimeWarning)\n",
      "/opt/anaconda2/lib/python2.7/site-packages/rpy2/rinterface/__init__.py:186: RRuntimeWarning: The following object is masked from ‘package:stats’:\n",
      "\n",
      "    step\n",
      "\n",
      "\n",
      "  warnings.warn(x, RRuntimeWarning)\n"
     ]
    }
   ],
   "source": [
    "%%R\n",
    "library(phyloseq)\n",
    "library(ggplot2)\n",
    "library(foreach)\n",
    "library(doParallel)\n",
    "library(gridExtra)\n",
    "library(dplyr)\n",
    "library(tidyr)\n",
    "library(lme4)\n",
    "library(lmerTest)\n",
    "library(MuMIn)"
   ]
  },
  {
   "cell_type": "markdown",
   "metadata": {},
   "source": [
    "# Loading phyloseq object"
   ]
  },
  {
   "cell_type": "code",
   "execution_count": 3,
   "metadata": {
    "collapsed": false,
    "scrolled": true
   },
   "outputs": [
    {
     "name": "stderr",
     "output_type": "stream",
     "text": [
      "/opt/anaconda2/lib/python2.7/site-packages/rpy2/rinterface/__init__.py:186: RRuntimeWarning: You set `rngseed` to FALSE. Make sure you've set & recorded\n",
      " the random seed of your session for reproducibility.\n",
      "See `?set.seed`\n",
      "\n",
      "\n",
      "  warnings.warn(x, RRuntimeWarning)\n",
      "/opt/anaconda2/lib/python2.7/site-packages/rpy2/rinterface/__init__.py:186: RRuntimeWarning: ...\n",
      "\n",
      "  warnings.warn(x, RRuntimeWarning)\n"
     ]
    },
    {
     "data": {
      "text/plain": [
       "phyloseq-class experiment-level object\n",
       "otu_table()   OTU Table:         [ 4592 taxa and 192 samples ]\n",
       "sample_data() Sample Data:       [ 192 samples by 46 sample variables ]\n",
       "tax_table()   Taxonomy Table:    [ 4592 taxa by 8 taxonomic ranks ]\n",
       "phy_tree()    Phylogenetic Tree: [ 4592 tips and 4591 internal nodes ]\n"
      ]
     },
     "metadata": {},
     "output_type": "display_data"
    }
   ],
   "source": [
    "%%R\n",
    "F = file.path('/home/bryan/ERA/data/MiSeq/20170417_run1/phyloseq/ERA_thresh.rds')\n",
    "physeq.Full = readRDS(F)\n",
    "\n",
    "#rarefy to standard depth\n",
    "set.seed(45)\n",
    "phy.r = rarefy_even_depth(physeq.Full) %>%\n",
    "        subset_samples(SeedTreatment != \"Untreated\" & TimePoint != \"T0\" & Plant != \"Bare\")\n",
    "\n",
    "\n",
    "phy.r"
   ]
  },
  {
   "cell_type": "code",
   "execution_count": 4,
   "metadata": {
    "collapsed": false
   },
   "outputs": [],
   "source": [
    "%%R\n",
    "# add interaction of genotype and sampling date term for merge\n",
    "sd = sample_data(phy.r)\n",
    "sd = mutate(sd, TxGxF = paste(TimePoint, R_Year, Fert, sep = \"_\"))\n",
    "rownames(sd) = sd$X.sampleID\n",
    "sample_data(phy.r) = sd\n"
   ]
  },
  {
   "cell_type": "code",
   "execution_count": 5,
   "metadata": {
    "collapsed": false
   },
   "outputs": [
    {
     "data": {
      "text/plain": [
       "                     Sample R_Year TimePoint Fert\n",
       "ERA-T2_3-1d_85   T2_2001_85   2001        T2   85\n",
       "ERA-T1_3-5c_170 T1_1939_170   1939        T1  170\n",
       "ERA-T1_1-4b_0     T1_2001_0   2001        T1    0\n",
       "ERA-T1_1-4a_170 T1_1953_170   1953        T1  170\n",
       "ERA-T3_1-3c_170 T3_1971_170   1971        T3  170\n",
       "ERA-T1_4-4a_170 T1_1984_170   1984        T1  170\n"
      ]
     },
     "metadata": {},
     "output_type": "display_data"
    }
   ],
   "source": [
    "%%R\n",
    "# save TxG, R_Year and Sampling date lookup table\n",
    "\n",
    "Y.df = sd %>%\n",
    "    select(TxGxF, R_Year, TimePoint, Fert) %>%\n",
    "    unique\n",
    "colnames(Y.df) = c(\"Sample\", \"R_Year\", \"TimePoint\", \"Fert\")\n",
    "head(Y.df)\n"
   ]
  },
  {
   "cell_type": "code",
   "execution_count": 6,
   "metadata": {
    "collapsed": false
   },
   "outputs": [
    {
     "data": {
      "text/plain": [
       "[1] 48  4\n"
      ]
     },
     "metadata": {},
     "output_type": "display_data"
    }
   ],
   "source": [
    "%%R\n",
    "dim(Y.df)"
   ]
  },
  {
   "cell_type": "code",
   "execution_count": 7,
   "metadata": {
    "collapsed": false
   },
   "outputs": [
    {
     "data": {
      "text/plain": [
       "phyloseq-class experiment-level object\n",
       "otu_table()   OTU Table:         [ 4592 taxa and 48 samples ]\n",
       "sample_data() Sample Data:       [ 48 samples by 47 sample variables ]\n",
       "tax_table()   Taxonomy Table:    [ 4592 taxa by 8 taxonomic ranks ]\n",
       "phy_tree()    Phylogenetic Tree: [ 4592 tips and 4591 internal nodes ]\n"
      ]
     },
     "metadata": {},
     "output_type": "display_data"
    }
   ],
   "source": [
    "%%R\n",
    "m.phy = merge_samples(phy.r, \"TxGxF\")  %>%\n",
    "\n",
    "    transform_sample_counts(function(x) x/sum(x))\n",
    "        \n",
    "m.phy"
   ]
  },
  {
   "cell_type": "code",
   "execution_count": 8,
   "metadata": {
    "collapsed": false,
    "scrolled": true
   },
   "outputs": [
    {
     "data": {
      "text/plain": [
       "[1] 1\n"
      ]
     },
     "metadata": {},
     "output_type": "display_data"
    }
   ],
   "source": [
    "%%R\n",
    "sample_sums(m.phy) %>% min"
   ]
  },
  {
   "cell_type": "markdown",
   "metadata": {},
   "source": [
    "### set ggplot theme"
   ]
  },
  {
   "cell_type": "code",
   "execution_count": 9,
   "metadata": {
    "collapsed": true
   },
   "outputs": [],
   "source": [
    "%%R\n",
    "# set theme for ggplot\n",
    "\n",
    "theme_pub = function (base_size = 11, base_family = \"Helvetica\") \n",
    "{\n",
    "    theme_grey(base_size = base_size, base_family = base_family) %+replace% \n",
    "        theme(\n",
    "            axis.line.x = element_line(size = .5),\n",
    "            axis.line.y = element_line(size = .5),\n",
    "            panel.background = element_rect(fill = \"white\", colour = NA), \n",
    "            panel.border = element_rect(fill = NA, color = \"black\", size = .5), \n",
    "            panel.grid.major = element_blank(), \n",
    "            panel.grid.minor = element_blank(), \n",
    "            strip.background = element_rect(fill = \"grey85\", \n",
    "                colour = \"grey20\"), \n",
    "            legend.key = element_rect(fill = \"white\", \n",
    "                colour = NA), complete = TRUE)\n",
    "    }\n"
   ]
  },
  {
   "cell_type": "code",
   "execution_count": 10,
   "metadata": {
    "collapsed": false
   },
   "outputs": [],
   "source": [
    "%%R\n",
    "sample_data(m.phy)$TxGxF = rownames(sample_data(m.phy))"
   ]
  },
  {
   "cell_type": "code",
   "execution_count": 11,
   "metadata": {
    "collapsed": false
   },
   "outputs": [
    {
     "data": {
      "text/plain": [
       "  X.sampleID TubeID ExtractionPlate PooledDNAPlate Sample.Well.ID PrimerPlate\n",
       "1      36.25  37.50               3           1.50          51.50        1.50\n",
       "2      37.25  37.25               3           1.50          37.50        1.50\n",
       "3      38.25  37.00               3           2.25          18.00        2.25\n",
       "4      37.75  38.75               3           1.50          25.25        1.50\n",
       "5      38.75  39.25               3           1.50          53.50        1.50\n",
       "6      39.75  38.25               3           1.50          51.75        1.50\n",
       "  Primer.Number Primer.Well.ID  X primerFwdLoc primerRevLoc fwd_barcode\n",
       "1         48.50          51.50 NA         8.50        15.50        8.50\n",
       "2         37.50          37.50 NA         7.50        13.50       11.75\n",
       "3         36.25          19.75 NA        12.25        18.00        5.00\n",
       "4         50.50          25.25 NA         6.50        13.25        8.00\n",
       "5         44.75          53.50 NA         8.75        15.00        9.25\n",
       "6         48.75          51.75 NA         8.75        12.75        8.50\n",
       "  rev_barcode PlotID Rep  Row  Pos PlotIndex Plant Genotype SeedTreatment ERA\n",
       "1        8.75   49.0 2.5 3.25 2.75    124.50     2        2             1   1\n",
       "2        7.00   50.0 2.5 3.25 2.75    124.25     2        2             1   1\n",
       "3        7.00   51.0 2.5 3.25 2.75    124.00     2        2             1   1\n",
       "4        9.25   49.5 2.5 3.25 1.75    121.25     9        9             1   1\n",
       "5        8.25   50.5 2.5 3.25 1.75    121.75     9        9             1   1\n",
       "6        8.75   51.5 2.5 3.25 1.75    120.75     9        9             1   1\n",
       "  BG_activity.g BX_activity.g CB_activity.g LAP_activity.g NAG_activity.g Stage\n",
       "1      78.96858      18.51568      19.59010       52.55177       23.52832     3\n",
       "2      91.74886      20.19227      20.44519       48.01920       20.97224     3\n",
       "3      85.78317      23.06670      20.88878       49.93417       23.14120     3\n",
       "4      91.62239      20.91240      24.76685       49.46788       21.86281     3\n",
       "5      75.51266      16.40632      16.50086       42.19065       19.05671     3\n",
       "6      90.59774      21.37308      21.86102       50.43737       23.25209     3\n",
       "  kgdw_ha FracN.leco FracC.leco    kgN_ha        RGR       AGR     Nprod\n",
       "1 322.575 0.02064100  0.4175200  6.600685 0.05831876  8.477083 1.2489297\n",
       "2 289.950 0.02681850  0.4189425  7.750270 0.05982976  7.570833 0.9955028\n",
       "3 345.975 0.02447462  0.4194162  8.234599 0.06111946  9.127083 1.0704286\n",
       "4 324.525 0.02226725  0.4144025  7.243194 0.06174448  8.531250 1.1791281\n",
       "5 541.800 0.02915450  0.4240200 15.536177 0.06968148 14.566667 0.9254495\n",
       "6 460.350 0.02866275  0.4225600 13.113120 0.06855807 12.304167 0.9303666\n",
       "       NupR d15N X15N_AtPercent FracN FracN_fromSoil FracN_fromFert kgFertN_ha\n",
       "1 0.1343316   NA             NA    NA             NA             NA         NA\n",
       "2 0.1587908   NA             NA    NA             NA             NA         NA\n",
       "3 0.1690957   NA             NA    NA             NA             NA         NA\n",
       "4 0.1480020   NA             NA    NA             NA             NA         NA\n",
       "5 0.3244484   NA             NA    NA             NA             NA         NA\n",
       "6 0.2728940   NA             NA    NA             NA             NA         NA\n",
       "  kgSoilN_ha       TxGxF R_Year TimePoint Fert\n",
       "1         NA   T1_1939_0   1939        T1    0\n",
       "2         NA T1_1939_170   1939        T1  170\n",
       "3         NA  T1_1939_85   1939        T1   85\n",
       "4         NA   T1_1953_0   1953        T1    0\n",
       "5         NA T1_1953_170   1953        T1  170\n",
       "6         NA  T1_1953_85   1953        T1   85\n"
      ]
     },
     "metadata": {},
     "output_type": "display_data"
    }
   ],
   "source": [
    "%%R\n",
    "# add planted variable\n",
    "\n",
    "sd = sample_data(m.phy) %>%\n",
    "    select(-R_Year, -TimePoint, -Fert)\n",
    "sd = left_join(sd, Y.df, by = c(\"TxGxF\" = \"Sample\"))\n",
    "head(sd)\n",
    "# sd = mutate(sd, Planted = ifelse(Genotype == \"Bare\" | TimePoint == \"T0\", \"Bare\", \"Rhizosphere\"))\n",
    "# rownames(sd) = sd$X.sampleID\n",
    "# sd %>% head\n",
    "# sample_data(phy.r) = sd"
   ]
  },
  {
   "cell_type": "markdown",
   "metadata": {},
   "source": [
    "# Alpha Diversity"
   ]
  },
  {
   "cell_type": "code",
   "execution_count": 12,
   "metadata": {
    "collapsed": false,
    "scrolled": true
   },
   "outputs": [],
   "source": [
    "# %%R -w 800 -h 350\n",
    "# alpha_meas = c(\"Observed\", \"Chao1\", \"Shannon\", \"Simpson\")\n",
    "# (p <- plot_richness(m.phy, \"Planted\", measures=alpha_meas))"
   ]
  },
  {
   "cell_type": "markdown",
   "metadata": {},
   "source": [
    "# Alpha diversity variation among plants"
   ]
  },
  {
   "cell_type": "code",
   "execution_count": 32,
   "metadata": {
    "collapsed": false
   },
   "outputs": [
    {
     "name": "stdout",
     "output_type": "stream",
     "text": [
      "\n",
      "Error in otu_table(physeq) : object 'phy.p' not found\n"
     ]
    }
   ],
   "source": [
    "%%R\n",
    "\n",
    "#sample_data(phy.p)$Fert = as.factor(sample_data(phy.p))\n",
    "alpha_meas = c(\"Observed\", \"Chao1\", \"Shannon\", \"Simpson\")\n",
    "p = plot_richness(phy.p, measures=alpha_meas)\n",
    "\n",
    "p$data$Fert = as.factor(p$data$Fert)"
   ]
  },
  {
   "cell_type": "markdown",
   "metadata": {},
   "source": [
    "* Center year for interpretation"
   ]
  },
  {
   "cell_type": "code",
   "execution_count": 14,
   "metadata": {
    "collapsed": false
   },
   "outputs": [
    {
     "name": "stdout",
     "output_type": "stream",
     "text": [
      "\n",
      "Error in withVisible({ : object 'p' not found\n"
     ]
    },
    {
     "name": "stderr",
     "output_type": "stream",
     "text": [
      "/opt/anaconda2/lib/python2.7/site-packages/rpy2/rinterface/__init__.py:186: RRuntimeWarning: Error in withVisible({ : object 'p' not found\n",
      "\n",
      "  warnings.warn(x, RRuntimeWarning)\n"
     ]
    }
   ],
   "source": [
    "%%R\n",
    "p$data$R_Year.c = p$data$R_Year - 1935"
   ]
  },
  {
   "cell_type": "markdown",
   "metadata": {},
   "source": [
    "## alpha  T1"
   ]
  },
  {
   "cell_type": "code",
   "execution_count": 15,
   "metadata": {
    "collapsed": false
   },
   "outputs": [
    {
     "name": "stdout",
     "output_type": "stream",
     "text": [
      "\n",
      "Error in eval(expr, envir, enclos) : object 'p' not found\n"
     ]
    },
    {
     "name": "stderr",
     "output_type": "stream",
     "text": [
      "/opt/anaconda2/lib/python2.7/site-packages/rpy2/rinterface/__init__.py:186: RRuntimeWarning: Error in eval(expr, envir, enclos) : object 'p' not found\n",
      "\n",
      "  warnings.warn(x, RRuntimeWarning)\n"
     ]
    }
   ],
   "source": [
    "%%R\n",
    "p.T1 = p$data %>% filter(TimePoint == \"T1\") \n",
    "ggplot(p.T1, aes(x = as.factor(R_Year), y = value, color = as.factor(Fert))) +\n",
    "geom_boxplot() +\n",
    "geom_point()+\n",
    "facet_wrap(~variable, ncol = 2, scales = \"free_y\")"
   ]
  },
  {
   "cell_type": "code",
   "execution_count": 16,
   "metadata": {
    "collapsed": false,
    "scrolled": true
   },
   "outputs": [
    {
     "name": "stdout",
     "output_type": "stream",
     "text": [
      "\n",
      "Error in eval(expr, envir, enclos) : object 'p.T1' not found\n"
     ]
    },
    {
     "name": "stderr",
     "output_type": "stream",
     "text": [
      "/opt/anaconda2/lib/python2.7/site-packages/rpy2/rinterface/__init__.py:186: RRuntimeWarning: Error in eval(expr, envir, enclos) : object 'p.T1' not found\n",
      "\n",
      "  warnings.warn(x, RRuntimeWarning)\n"
     ]
    }
   ],
   "source": [
    "%%R\n",
    "#test library effects on microbial diversity\n",
    "tmp = p.T1 %>% filter(variable == \"Chao1\")\n",
    "\n",
    "fit1 = lmer(value~ Fert*R_Year.c + (1|Rep), data = tmp)\n",
    "anova(fit1, ddf=\"Kenward-Roger\") %>% print\n",
    "\n",
    "r.squaredGLMM(fit1) %>% print\n",
    "coef(fit1) %>% print\n",
    "confint(fit1) %>% print"
   ]
  },
  {
   "cell_type": "code",
   "execution_count": 17,
   "metadata": {
    "collapsed": false
   },
   "outputs": [
    {
     "name": "stdout",
     "output_type": "stream",
     "text": [
      "\n",
      "Error in eval(expr, envir, enclos) : object 'p.T1' not found\n"
     ]
    }
   ],
   "source": [
    "%%R\n",
    "#test library effects on microbial diversity\n",
    "tmp = p.T1 %>% filter(variable == \"Shannon\")\n",
    "\n",
    "fit1 = lmer(value~ Fert*R_Year.c + (1|Rep), data = tmp)\n",
    "anova(fit1, ddf=\"Kenward-Roger\") %>% print\n",
    "\n",
    "r.squaredGLMM(fit1) %>% print\n",
    "coef(fit1) %>% print\n",
    "confint(fit1) %>% print"
   ]
  },
  {
   "cell_type": "markdown",
   "metadata": {},
   "source": [
    "## alpha at T2"
   ]
  },
  {
   "cell_type": "code",
   "execution_count": null,
   "metadata": {
    "collapsed": true
   },
   "outputs": [],
   "source": []
  },
  {
   "cell_type": "code",
   "execution_count": 18,
   "metadata": {
    "collapsed": false
   },
   "outputs": [
    {
     "name": "stdout",
     "output_type": "stream",
     "text": [
      "\n",
      "Error in eval(expr, envir, enclos) : object 'p' not found\n"
     ]
    }
   ],
   "source": [
    "%%R\n",
    "p.T2 = p$data %>% filter(TimePoint == \"T2\") \n",
    "ggplot(p.T2, aes(x = as.factor(R_Year), y = value)) +\n",
    "geom_boxplot() +\n",
    "geom_point()+\n",
    "facet_wrap(~variable, ncol = 2, scales = \"free_y\")"
   ]
  },
  {
   "cell_type": "code",
   "execution_count": 19,
   "metadata": {
    "collapsed": false,
    "scrolled": true
   },
   "outputs": [
    {
     "name": "stdout",
     "output_type": "stream",
     "text": [
      "\n",
      "Error in eval(expr, envir, enclos) : object 'p.T2' not found\n"
     ]
    },
    {
     "name": "stderr",
     "output_type": "stream",
     "text": [
      "/opt/anaconda2/lib/python2.7/site-packages/rpy2/rinterface/__init__.py:186: RRuntimeWarning: Error in eval(expr, envir, enclos) : object 'p.T2' not found\n",
      "\n",
      "  warnings.warn(x, RRuntimeWarning)\n"
     ]
    }
   ],
   "source": [
    "%%R\n",
    "#test library effects on microbial diversity\n",
    "tmp = p.T2 %>% filter(variable == \"Chao1\")\n",
    "\n",
    "fit1 = lmer(value~ R_Year.c + (1|Rep), data = tmp)\n",
    "anova(fit1, ddf=\"Kenward-Roger\") %>% print\n",
    "\n",
    "r.squaredGLMM(fit1) %>% print\n",
    "coef(fit1) %>% print\n",
    "confint(fit1) %>% print"
   ]
  },
  {
   "cell_type": "markdown",
   "metadata": {},
   "source": [
    "* There was an increase in estimated richness (Chao1) with year of release, but overall model explained low portion of variance"
   ]
  },
  {
   "cell_type": "code",
   "execution_count": 20,
   "metadata": {
    "collapsed": false
   },
   "outputs": [
    {
     "name": "stdout",
     "output_type": "stream",
     "text": [
      "\n",
      "Error in eval(expr, envir, enclos) : object 'p.T2' not found\n"
     ]
    }
   ],
   "source": [
    "%%R\n",
    "#test library effects on microbial diversity\n",
    "tmp = p.T2 %>% filter(variable == \"Shannon\")\n",
    "\n",
    "fit1 = lmer(value~ R_Year.c + (1|Rep), data = tmp)\n",
    "anova(fit1, ddf=\"Kenward-Roger\") %>% print\n",
    "\n",
    "r.squaredGLMM(fit1) %>% print\n",
    "coef(fit1) %>% print\n",
    "confint(fit1) %>% print"
   ]
  },
  {
   "cell_type": "code",
   "execution_count": 21,
   "metadata": {
    "collapsed": false
   },
   "outputs": [
    {
     "name": "stdout",
     "output_type": "stream",
     "text": [
      "\n",
      "Error in ggplot(tmp, aes(x = kgdw_ha, y = value, color = as.factor(ERA))) : \n",
      "  object 'tmp' not found\n"
     ]
    },
    {
     "name": "stderr",
     "output_type": "stream",
     "text": [
      "/opt/anaconda2/lib/python2.7/site-packages/rpy2/rinterface/__init__.py:186: RRuntimeWarning: Error in ggplot(tmp, aes(x = kgdw_ha, y = value, color = as.factor(ERA))) : \n",
      "  object 'tmp' not found\n",
      "\n",
      "  warnings.warn(x, RRuntimeWarning)\n"
     ]
    }
   ],
   "source": [
    "%%R\n",
    "p1 = ggplot(tmp, aes(x = kgdw_ha, y = value, color = as.factor(ERA)))+\n",
    "geom_point() +\n",
    "ylab(\"Chao1\") \n",
    "\n",
    "p2 = ggplot(tmp, aes(x = as.factor(ERA), y = value))+\n",
    "geom_point() +\n",
    "geom_boxplot() +\n",
    "ylab(\"Chao1\")\n",
    "\n",
    "grid.arrange(p1, p2, ncol = 1)\n"
   ]
  },
  {
   "cell_type": "markdown",
   "metadata": {},
   "source": [
    "## alpha at T3"
   ]
  },
  {
   "cell_type": "code",
   "execution_count": 22,
   "metadata": {
    "collapsed": false
   },
   "outputs": [
    {
     "name": "stdout",
     "output_type": "stream",
     "text": [
      "\n",
      "Error in eval(expr, envir, enclos) : object 'p' not found\n"
     ]
    }
   ],
   "source": [
    "%%R\n",
    "p.T3 = p$data %>% filter(TimePoint == \"T3\") \n",
    "ggplot(p.T3, aes(x = as.factor(R_Year), y = value, color = as.factor(Fert))) +\n",
    "geom_boxplot() +\n",
    "geom_point()+\n",
    "facet_wrap(~variable, ncol = 2, scales = \"free_y\")"
   ]
  },
  {
   "cell_type": "code",
   "execution_count": 23,
   "metadata": {
    "collapsed": false,
    "scrolled": false
   },
   "outputs": [
    {
     "name": "stdout",
     "output_type": "stream",
     "text": [
      "\n",
      "Error in eval(expr, envir, enclos) : object 'p.T3' not found\n"
     ]
    },
    {
     "name": "stderr",
     "output_type": "stream",
     "text": [
      "/opt/anaconda2/lib/python2.7/site-packages/rpy2/rinterface/__init__.py:186: RRuntimeWarning: Error in eval(expr, envir, enclos) : object 'p.T3' not found\n",
      "\n",
      "  warnings.warn(x, RRuntimeWarning)\n"
     ]
    }
   ],
   "source": [
    "%%R\n",
    "#test library effects on microbial diversity\n",
    "tmp = p.T3 %>% filter(variable == \"Chao1\")\n",
    "\n",
    "fit1 = lmer(value~ Fert*R_Year.c + (1|Rep), data = tmp)\n",
    "anova(fit1, ddf=\"Kenward-Roger\") %>% print\n",
    "\n",
    "r.squaredGLMM(fit1) %>% print\n",
    "coef(fit1) %>% print\n",
    "confint(fit1) %>% print"
   ]
  },
  {
   "cell_type": "code",
   "execution_count": 24,
   "metadata": {
    "collapsed": false
   },
   "outputs": [
    {
     "name": "stdout",
     "output_type": "stream",
     "text": [
      "\n",
      "Error in eval(expr, envir, enclos) : object 'p.T3' not found\n"
     ]
    }
   ],
   "source": [
    "%%R\n",
    "#test library effects on microbial diversity\n",
    "tmp = p.T3 %>% filter(variable == \"Shannon\")\n",
    "\n",
    "fit1 = lmer(value~ Fert*R_Year.c + (1|Rep), data = tmp)\n",
    "anova(fit1, ddf=\"Kenward-Roger\") %>% print\n",
    "\n",
    "r.squaredGLMM(fit1) %>% print\n",
    "coef(fit1) %>% print\n",
    "confint(fit1) %>% print"
   ]
  },
  {
   "cell_type": "code",
   "execution_count": null,
   "metadata": {
    "collapsed": true
   },
   "outputs": [],
   "source": []
  },
  {
   "cell_type": "markdown",
   "metadata": {},
   "source": [
    "* R_Year seems to havea  significant effect on observed and estimated richness, but not diversity measures\n",
    "* Should check other timepoints and fert effects next\n",
    "* Check to see if richness or eveness is correlated with growth characteristic\n"
   ]
  },
  {
   "cell_type": "code",
   "execution_count": null,
   "metadata": {
    "collapsed": true
   },
   "outputs": [],
   "source": []
  },
  {
   "cell_type": "markdown",
   "metadata": {},
   "source": [
    "# Graph alpha patterns"
   ]
  },
  {
   "cell_type": "code",
   "execution_count": 25,
   "metadata": {
    "collapsed": false
   },
   "outputs": [
    {
     "name": "stdout",
     "output_type": "stream",
     "text": [
      "\n",
      "Error in head(p$data) : object 'p' not found\n"
     ]
    },
    {
     "name": "stderr",
     "output_type": "stream",
     "text": [
      "/opt/anaconda2/lib/python2.7/site-packages/rpy2/rinterface/__init__.py:186: RRuntimeWarning: Error in head(p$data) : object 'p' not found\n",
      "\n",
      "  warnings.warn(x, RRuntimeWarning)\n"
     ]
    }
   ],
   "source": [
    "%%R\n",
    "head(p$data)"
   ]
  },
  {
   "cell_type": "code",
   "execution_count": 26,
   "metadata": {
    "collapsed": false
   },
   "outputs": [
    {
     "name": "stdout",
     "output_type": "stream",
     "text": [
      "\n",
      "Error in eval(expr, envir, enclos) : object 'p' not found\n"
     ]
    }
   ],
   "source": [
    "%%R\n",
    "Time = c(\"T1\", \"T2\", \"T3\")\n",
    "Stage = c(\"V6\", \"R1\", \"R3\")\n",
    "dS = cbind(Time, Stage) %>% as.data.frame()\n",
    "df = p$data %>%\n",
    "    group_by(Genotype, Fert, R_Year, TimePoint, variable) %>%\n",
    "    summarize(mValue = mean(value),\n",
    "             seValue = sd(value)/sqrt(length(value)))  \n",
    "df = left_join(df, dS, by = c(\"TimePoint\" = \"Time\"))\n",
    "df$Stage = factor(df$Stage, levels = c(\"V6\", \"R1\", \"R3\"))\n",
    "head(df)"
   ]
  },
  {
   "cell_type": "code",
   "execution_count": 27,
   "metadata": {
    "collapsed": false
   },
   "outputs": [
    {
     "name": "stdout",
     "output_type": "stream",
     "text": [
      "\n",
      "Error in UseMethod(\"filter_\") : \n",
      "  no applicable method for 'filter_' applied to an object of class \"function\"\n"
     ]
    },
    {
     "name": "stderr",
     "output_type": "stream",
     "text": [
      "/opt/anaconda2/lib/python2.7/site-packages/rpy2/rinterface/__init__.py:186: RRuntimeWarning: Error in UseMethod(\"filter_\") : \n",
      "  no applicable method for 'filter_' applied to an object of class \"function\"\n",
      "\n",
      "  warnings.warn(x, RRuntimeWarning)\n"
     ]
    }
   ],
   "source": [
    "%%R\n",
    "\n",
    "tmp = df %>% filter(variable == \"Chao1\") \n",
    "pC = ggplot(tmp, aes(x = R_Year, y = mValue, color = as.factor(Fert))) +\n",
    "geom_point(position=position_dodge(width=0.9))+\n",
    "geom_errorbar(aes(ymin = mValue - seValue, ymax = mValue + seValue), width = 2, position=position_dodge(width=0.9))+\n",
    "theme_pub() +\n",
    "facet_wrap(~Stage, ncol = 1)+\n",
    "xlab(\"Year of release\") +\n",
    "ylab(\"Chao1 estimated richness\") +\n",
    "theme(legend.position = \"bottom\")\n",
    "pC"
   ]
  },
  {
   "cell_type": "code",
   "execution_count": 28,
   "metadata": {
    "collapsed": false,
    "scrolled": true
   },
   "outputs": [
    {
     "name": "stdout",
     "output_type": "stream",
     "text": [
      "\n",
      "Error in UseMethod(\"filter_\") : \n",
      "  no applicable method for 'filter_' applied to an object of class \"function\"\n"
     ]
    }
   ],
   "source": [
    "%%R\n",
    "\n",
    " tmp = df %>% filter(variable %in% c(\"Chao1\", \"Shannon\")) \n",
    "pS = ggplot(tmp, aes(x = R_Year, y = mValue, color = as.factor(Fert))) +\n",
    "geom_point(position=position_dodge(width=4))+\n",
    "geom_errorbar(aes(ymin = mValue - seValue, ymax = mValue + seValue), position=position_dodge(width=4))+\n",
    "theme_pub() +\n",
    "facet_grid(variable~Stage, scales = \"free_y\")+\n",
    "xlab(\"Year of release\") +\n",
    "ylab(\"\")+\n",
    "theme(legend.position = \"bottom\")\n",
    "pS"
   ]
  },
  {
   "cell_type": "markdown",
   "metadata": {},
   "source": [
    "# alpha diversity in seed treatments"
   ]
  },
  {
   "cell_type": "code",
   "execution_count": 29,
   "metadata": {
    "collapsed": false
   },
   "outputs": [
    {
     "data": {
      "text/plain": [
       "phyloseq-class experiment-level object\n",
       "otu_table()   OTU Table:         [ 4592 taxa and 16 samples ]\n",
       "sample_data() Sample Data:       [ 16 samples by 47 sample variables ]\n",
       "tax_table()   Taxonomy Table:    [ 4592 taxa by 8 taxonomic ranks ]\n",
       "phy_tree()    Phylogenetic Tree: [ 4592 tips and 4591 internal nodes ]\n"
      ]
     },
     "metadata": {},
     "output_type": "display_data"
    }
   ],
   "source": [
    "%%R\n",
    "phy.st = subset_samples(phy.r, Genotype %in% c(\"322\", \"3475\", \"34N42\", \"354\") & TimePoint == \"T2\")\n",
    "phy.st"
   ]
  },
  {
   "cell_type": "code",
   "execution_count": 30,
   "metadata": {
    "collapsed": true
   },
   "outputs": [],
   "source": [
    "%%R\n",
    "alpha_meas = c(\"Observed\", \"Chao1\", \"Shannon\", \"Simpson\")\n",
    "p = plot_richness(phy.st, measures=alpha_meas)\n",
    "\n",
    "p$data$Fert = as.factor(p$data$Fert)\n",
    "p$data$R_Year.c = p$data$R_Year - 1935"
   ]
  },
  {
   "cell_type": "code",
   "execution_count": 31,
   "metadata": {
    "collapsed": false
   },
   "outputs": [
    {
     "data": {
      "image/png": "[encoded data removed]"
     },
     "metadata": {},
     "output_type": "display_data"
    }
   ],
   "source": [
    "%%R\n",
    "\n",
    "ggplot(p$data, aes(x = as.factor(R_Year), y = value, color = SeedTreatment)) +\n",
    "geom_boxplot() +\n",
    "geom_point()+\n",
    "facet_wrap(~variable, ncol = 2, scales = \"free_y\")"
   ]
  },
  {
   "cell_type": "code",
   "execution_count": 183,
   "metadata": {
    "collapsed": false,
    "scrolled": false
   },
   "outputs": [
    {
     "data": {
      "text/plain": [
       "Analysis of Variance Table of type III  with  Kenward-Roger \n",
       "approximation for degrees of freedom\n",
       "                       Sum Sq Mean Sq NumDF DenDF F.value  Pr(>F)  \n",
       "Genotype               196520   65507     3    21 2.94645 0.05643 .\n",
       "SeedTreatment            2126    2126     1    21 0.09563 0.76019  \n",
       "Genotype:SeedTreatment  48453   16151     3    21 0.72646 0.54756  \n",
       "---\n",
       "Signif. codes:  0 ‘***’ 0.001 ‘**’ 0.01 ‘*’ 0.05 ‘.’ 0.1 ‘ ’ 1\n",
       "      R2m       R2c \n",
       "0.1386885 0.6131717 \n"
      ]
     },
     "metadata": {},
     "output_type": "display_data"
    }
   ],
   "source": [
    "%%R\n",
    "#test library effects on microbial diversity\n",
    "tmp = p$data %>% filter(variable == \"Chao1\")\n",
    "\n",
    "fit1 = lmer(value~ Genotype*SeedTreatment + (1|Rep), data = tmp)\n",
    "anova(fit1, ddf=\"Kenward-Roger\") %>% print\n",
    "\n",
    "r.squaredGLMM(fit1) %>% print\n"
   ]
  },
  {
   "cell_type": "code",
   "execution_count": 186,
   "metadata": {
    "collapsed": false
   },
   "outputs": [
    {
     "data": {
      "text/plain": [
       "Analysis of Variance Table of type III  with  Kenward-Roger \n",
       "approximation for degrees of freedom\n",
       "                     Sum Sq Mean Sq NumDF DenDF F.value Pr(>F)\n",
       "R_Year                35869   35869     1    25  1.4012 0.2477\n",
       "SeedTreatment         36261   36261     1    25  1.4165 0.2452\n",
       "R_Year:SeedTreatment  36035   36035     1    25  1.4077 0.2466\n",
       "       R2m        R2c \n",
       "0.04354907 0.53318643 \n"
      ]
     },
     "metadata": {},
     "output_type": "display_data"
    }
   ],
   "source": [
    "%%R\n",
    "#test library effects on microbial diversity\n",
    "tmp = p$data %>% filter(variable == \"Chao1\")\n",
    "\n",
    "fit1 = lmer(value~ R_Year*SeedTreatment + (1|Rep), data = tmp)\n",
    "anova(fit1, ddf=\"Kenward-Roger\") %>% print\n",
    "\n",
    "r.squaredGLMM(fit1) %>% print"
   ]
  },
  {
   "cell_type": "markdown",
   "metadata": {},
   "source": [
    "* among the plants sampled in treated and untreated plots, there was no effect of seed treatment on Chao1 and no interaction between year of release and chao1\n",
    "* There was also no interaction between genotype and seed treatment.  \n",
    "* The positive trend was less evident in the untreated batch, "
   ]
  },
  {
   "cell_type": "code",
   "execution_count": 187,
   "metadata": {
    "collapsed": false,
    "scrolled": false
   },
   "outputs": [
    {
     "data": {
      "text/plain": [
       "Analysis of Variance Table of type III  with  Kenward-Roger \n",
       "approximation for degrees of freedom\n",
       "                         Sum Sq  Mean Sq NumDF DenDF F.value Pr(>F)\n",
       "Genotype               0.028907 0.009636     3    21  0.5125 0.6781\n",
       "SeedTreatment          0.046196 0.046196     1    21  2.4570 0.1319\n",
       "Genotype:SeedTreatment 0.126113 0.042038     3    21  2.2359 0.1139\n",
       "      R2m       R2c \n",
       "0.2269201 0.3426992 \n"
      ]
     },
     "metadata": {},
     "output_type": "display_data"
    }
   ],
   "source": [
    "%%R\n",
    "#test library effects on microbial diversity\n",
    "tmp = p$data %>% filter(variable == \"Shannon\")\n",
    "\n",
    "fit1 = lmer(value~ Genotype*SeedTreatment + (1|Rep), data = tmp)\n",
    "anova(fit1, ddf=\"Kenward-Roger\") %>% print\n",
    "\n",
    "r.squaredGLMM(fit1) %>% print\n"
   ]
  },
  {
   "cell_type": "code",
   "execution_count": 188,
   "metadata": {
    "collapsed": false,
    "scrolled": true
   },
   "outputs": [
    {
     "data": {
      "text/plain": [
       "Analysis of Variance Table of type III  with  Kenward-Roger \n",
       "approximation for degrees of freedom\n",
       "                          Sum Sq   Mean Sq NumDF DenDF F.value Pr(>F)\n",
       "R_Year.c               0.0092985 0.0092985     1    25  0.4554 0.5060\n",
       "SeedTreatment          0.0000450 0.0000450     1    25  0.0022 0.9629\n",
       "R_Year.c:SeedTreatment 0.0300965 0.0300965     1    25  1.4740 0.2361\n",
       "      R2m       R2c \n",
       "0.1050251 0.2233130 \n"
      ]
     },
     "metadata": {},
     "output_type": "display_data"
    }
   ],
   "source": [
    "%%R\n",
    "#test library effects on microbial diversity\n",
    "tmp = p$data %>% filter(variable == \"Shannon\")\n",
    "\n",
    "fit1 = lmer(value~ R_Year.c*SeedTreatment + (1|Rep), data = tmp)\n",
    "anova(fit1, ddf=\"Kenward-Roger\") %>% print\n",
    "\n",
    "r.squaredGLMM(fit1) %>% print"
   ]
  },
  {
   "cell_type": "markdown",
   "metadata": {},
   "source": [
    "*Similarly there was not an effect of seed treatment on Shannon's H and no interaction between seed treatment and year of release, or seed treatment and genotype."
   ]
  },
  {
   "cell_type": "markdown",
   "metadata": {},
   "source": [
    "## Graph seed treatments"
   ]
  },
  {
   "cell_type": "code",
   "execution_count": 197,
   "metadata": {
    "collapsed": false
   },
   "outputs": [
    {
     "data": {
      "text/plain": [
       "Source: local data frame [6 x 8]\n",
       "Groups: Genotype, Fert, R_Year, TimePoint [3]\n",
       "\n",
       "  Genotype   Fert R_Year TimePoint variable      mValue     seValue Stage\n",
       "    <fctr> <fctr>  <int>    <fctr>   <fctr>       <dbl>       <dbl> <chr>\n",
       "1      322     85   1936        T2    Chao1 2299.601108 72.67746406    R1\n",
       "2      322     85   1936        T2  Shannon    6.496529  0.03628327    R1\n",
       "3     3475     85   1984        T2    Chao1 2333.094263 69.86645130    R1\n",
       "4     3475     85   1984        T2  Shannon    6.416202  0.05499397    R1\n",
       "5    34N42     85   2003        T2    Chao1 2469.333361 86.13739419    R1\n",
       "6    34N42     85   2003        T2  Shannon    6.449385  0.07037531    R1\n"
      ]
     },
     "metadata": {},
     "output_type": "display_data"
    }
   ],
   "source": [
    "%%R\n",
    "head(p$data)"
   ]
  },
  {
   "cell_type": "code",
   "execution_count": 200,
   "metadata": {
    "collapsed": false
   },
   "outputs": [
    {
     "data": {
      "text/plain": [
       "Source: local data frame [6 x 9]\n",
       "Groups: Genotype, Fert, R_Year, TimePoint, SeedTreatment [2]\n",
       "\n",
       "  Genotype   Fert R_Year TimePoint SeedTreatment variable       mValue\n",
       "    <fctr> <fctr>  <int>    <fctr>        <fctr>   <fctr>        <dbl>\n",
       "1      322     85   1936        T2       Treated Observed 1788.0000000\n",
       "2      322     85   1936        T2       Treated    Chao1 2270.5319714\n",
       "3      322     85   1936        T2       Treated  Shannon    6.5007564\n",
       "4      322     85   1936        T2       Treated  Simpson    0.9962788\n",
       "5      322     85   1936        T2     Untreated Observed 1803.7500000\n",
       "6      322     85   1936        T2     Untreated    Chao1 2328.6702437\n",
       "# ... with 2 more variables: seValue <dbl>, Stage <chr>\n"
      ]
     },
     "metadata": {},
     "output_type": "display_data"
    }
   ],
   "source": [
    "%%R\n",
    "\n",
    "df = p$data %>%\n",
    "    group_by(Genotype, Fert, R_Year, TimePoint, SeedTreatment, variable) %>%\n",
    "    summarize(mValue = mean(value),\n",
    "             seValue = sd(value)/sqrt(length(value)))  %>%\n",
    "    mutate(Stage = \"R1\")\n",
    "\n",
    "\n",
    "head(df)"
   ]
  },
  {
   "cell_type": "code",
   "execution_count": 201,
   "metadata": {
    "collapsed": false
   },
   "outputs": [
    {
     "data": {
      "image/png": "[encoded data removed]"
     },
     "metadata": {},
     "output_type": "display_data"
    }
   ],
   "source": [
    "%%R\n",
    "## Graph seed treatments\n",
    "\n",
    "tmp = df %>% filter(variable %in% c(\"Chao1\", \"Shannon\")) \n",
    "p = ggplot(tmp, aes(x = R_Year, y = mValue, color = SeedTreatment)) +\n",
    "geom_point(position=position_dodge(width=4))+\n",
    "geom_errorbar(aes(ymin = mValue - seValue, ymax = mValue + seValue), position=position_dodge(width=4))+\n",
    "theme_pub() +\n",
    "facet_grid(variable~Stage, scales = \"free_y\")+\n",
    "xlab(\"Year of release\") +\n",
    "ylab(\"\")+\n",
    "theme(legend.position = \"bottom\")\n",
    "p\n"
   ]
  },
  {
   "cell_type": "code",
   "execution_count": null,
   "metadata": {
    "collapsed": true
   },
   "outputs": [],
   "source": [
    "\n",
    "tmp = df %>% filter(variable %in% c(\"Chao1\", \"Shannon\")) \n",
    "pS = ggplot(tmp, aes(x = R_Year, y = mValue, color = as.factor(Fert))) +\n",
    "geom_point(position=position_dodge(width=4))+\n",
    "geom_errorbar(aes(ymin = mValue - seValue, ymax = mValue + seValue), position=position_dodge(width=4))+\n",
    "theme_pub() +\n",
    "facet_grid(variable~Stage, scales = \"free_y\")+\n",
    "xlab(\"Year of release\") +\n",
    "ylab(\"\")+\n",
    "theme(legend.position = \"bottom\")\n",
    "pS"
   ]
  }
 ],
 "metadata": {
  "hide_input": true,
  "kernelspec": {
   "display_name": "Python 2",
   "language": "python",
   "name": "python2"
  },
  "language_info": {
   "codemirror_mode": {
    "name": "ipython",
    "version": 2
   },
   "file_extension": ".py",
   "mimetype": "text/x-python",
   "name": "python",
   "nbconvert_exporter": "python",
   "pygments_lexer": "ipython2",
   "version": "2.7.13"
  }
 },
 "nbformat": 4,
 "nbformat_minor": 0
}
