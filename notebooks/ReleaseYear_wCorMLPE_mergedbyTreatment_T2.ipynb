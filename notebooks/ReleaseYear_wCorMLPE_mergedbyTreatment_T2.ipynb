{
 "cells": [
  {
   "cell_type": "markdown",
   "metadata": {},
   "source": [
    "# Beta-diversity vs breeding history with corMLPE"
   ]
  },
  {
   "cell_type": "markdown",
   "metadata": {
    "slideshow": {
     "slide_type": "skip"
    }
   },
   "source": [
    "Test hypotheses on release year vs MCC\n",
    "Test hypothesis on unmerged dataset"
   ]
  },
  {
   "cell_type": "code",
   "execution_count": 1,
   "metadata": {},
   "outputs": [],
   "source": [
    "%load_ext rpy2.ipython"
   ]
  },
  {
   "cell_type": "code",
   "execution_count": 2,
   "metadata": {
    "hide_input": false
   },
   "outputs": [
    {
     "name": "stderr",
     "output_type": "stream",
     "text": [
      "/home/bryan/anaconda3/lib/python3.6/site-packages/rpy2/rinterface/__init__.py:186: RRuntimeWarning: foreach: simple, scalable parallel programming from Revolution Analytics\n",
      "Use Revolution R for scalability, fault tolerance and more.\n",
      "http://www.revolutionanalytics.com\n",
      "\n",
      "  warnings.warn(x, RRuntimeWarning)\n",
      "/home/bryan/anaconda3/lib/python3.6/site-packages/rpy2/rinterface/__init__.py:186: RRuntimeWarning: Loading required package: lattice\n",
      "\n",
      "  warnings.warn(x, RRuntimeWarning)\n",
      "/home/bryan/anaconda3/lib/python3.6/site-packages/rpy2/rinterface/__init__.py:186: RRuntimeWarning: Loading required package: survival\n",
      "\n",
      "  warnings.warn(x, RRuntimeWarning)\n",
      "/home/bryan/anaconda3/lib/python3.6/site-packages/rpy2/rinterface/__init__.py:186: RRuntimeWarning: Loading required package: Formula\n",
      "\n",
      "  warnings.warn(x, RRuntimeWarning)\n",
      "/home/bryan/anaconda3/lib/python3.6/site-packages/rpy2/rinterface/__init__.py:186: RRuntimeWarning: Loading required package: ggplot2\n",
      "\n",
      "  warnings.warn(x, RRuntimeWarning)\n",
      "/home/bryan/anaconda3/lib/python3.6/site-packages/rpy2/rinterface/__init__.py:186: RRuntimeWarning: \n",
      "Attaching package: ‘Hmisc’\n",
      "\n",
      "\n",
      "  warnings.warn(x, RRuntimeWarning)\n",
      "/home/bryan/anaconda3/lib/python3.6/site-packages/rpy2/rinterface/__init__.py:186: RRuntimeWarning: The following objects are masked from ‘package:base’:\n",
      "\n",
      "    format.pval, round.POSIXt, trunc.POSIXt, units\n",
      "\n",
      "\n",
      "  warnings.warn(x, RRuntimeWarning)\n",
      "/home/bryan/anaconda3/lib/python3.6/site-packages/rpy2/rinterface/__init__.py:186: RRuntimeWarning: Loading required package: Matrix\n",
      "\n",
      "  warnings.warn(x, RRuntimeWarning)\n",
      "/home/bryan/anaconda3/lib/python3.6/site-packages/rpy2/rinterface/__init__.py:186: RRuntimeWarning: \n",
      "Attaching package: ‘lmerTest’\n",
      "\n",
      "\n",
      "  warnings.warn(x, RRuntimeWarning)\n",
      "/home/bryan/anaconda3/lib/python3.6/site-packages/rpy2/rinterface/__init__.py:186: RRuntimeWarning: The following object is masked from ‘package:lme4’:\n",
      "\n",
      "    lmer\n",
      "\n",
      "\n",
      "  warnings.warn(x, RRuntimeWarning)\n",
      "/home/bryan/anaconda3/lib/python3.6/site-packages/rpy2/rinterface/__init__.py:186: RRuntimeWarning: The following object is masked from ‘package:stats’:\n",
      "\n",
      "    step\n",
      "\n",
      "\n",
      "  warnings.warn(x, RRuntimeWarning)\n",
      "/home/bryan/anaconda3/lib/python3.6/site-packages/rpy2/rinterface/__init__.py:186: RRuntimeWarning: \n",
      "Attaching package: ‘plyr’\n",
      "\n",
      "\n",
      "  warnings.warn(x, RRuntimeWarning)\n",
      "/home/bryan/anaconda3/lib/python3.6/site-packages/rpy2/rinterface/__init__.py:186: RRuntimeWarning: The following objects are masked from ‘package:Hmisc’:\n",
      "\n",
      "    is.discrete, summarize\n",
      "\n",
      "\n",
      "  warnings.warn(x, RRuntimeWarning)\n",
      "/home/bryan/anaconda3/lib/python3.6/site-packages/rpy2/rinterface/__init__.py:186: RRuntimeWarning: \n",
      "Attaching package: ‘dplyr’\n",
      "\n",
      "\n",
      "  warnings.warn(x, RRuntimeWarning)\n",
      "/home/bryan/anaconda3/lib/python3.6/site-packages/rpy2/rinterface/__init__.py:186: RRuntimeWarning: The following objects are masked from ‘package:plyr’:\n",
      "\n",
      "    arrange, count, desc, failwith, id, mutate, rename, summarise,\n",
      "    summarize\n",
      "\n",
      "\n",
      "  warnings.warn(x, RRuntimeWarning)\n",
      "/home/bryan/anaconda3/lib/python3.6/site-packages/rpy2/rinterface/__init__.py:186: RRuntimeWarning: The following objects are masked from ‘package:Hmisc’:\n",
      "\n",
      "    combine, src, summarize\n",
      "\n",
      "\n",
      "  warnings.warn(x, RRuntimeWarning)\n",
      "/home/bryan/anaconda3/lib/python3.6/site-packages/rpy2/rinterface/__init__.py:186: RRuntimeWarning: The following objects are masked from ‘package:stats’:\n",
      "\n",
      "    filter, lag\n",
      "\n",
      "\n",
      "  warnings.warn(x, RRuntimeWarning)\n",
      "/home/bryan/anaconda3/lib/python3.6/site-packages/rpy2/rinterface/__init__.py:186: RRuntimeWarning: The following objects are masked from ‘package:base’:\n",
      "\n",
      "    intersect, setdiff, setequal, union\n",
      "\n",
      "\n",
      "  warnings.warn(x, RRuntimeWarning)\n",
      "/home/bryan/anaconda3/lib/python3.6/site-packages/rpy2/rinterface/__init__.py:186: RRuntimeWarning: \n",
      "Attaching package: ‘tidyr’\n",
      "\n",
      "\n",
      "  warnings.warn(x, RRuntimeWarning)\n",
      "/home/bryan/anaconda3/lib/python3.6/site-packages/rpy2/rinterface/__init__.py:186: RRuntimeWarning: The following object is masked from ‘package:Matrix’:\n",
      "\n",
      "    expand\n",
      "\n",
      "\n",
      "  warnings.warn(x, RRuntimeWarning)\n",
      "/home/bryan/anaconda3/lib/python3.6/site-packages/rpy2/rinterface/__init__.py:186: RRuntimeWarning: \n",
      "Attaching package: ‘gridExtra’\n",
      "\n",
      "\n",
      "  warnings.warn(x, RRuntimeWarning)\n",
      "/home/bryan/anaconda3/lib/python3.6/site-packages/rpy2/rinterface/__init__.py:186: RRuntimeWarning: The following object is masked from ‘package:dplyr’:\n",
      "\n",
      "    combine\n",
      "\n",
      "\n",
      "  warnings.warn(x, RRuntimeWarning)\n",
      "/home/bryan/anaconda3/lib/python3.6/site-packages/rpy2/rinterface/__init__.py:186: RRuntimeWarning: The following object is masked from ‘package:Hmisc’:\n",
      "\n",
      "    combine\n",
      "\n",
      "\n",
      "  warnings.warn(x, RRuntimeWarning)\n",
      "/home/bryan/anaconda3/lib/python3.6/site-packages/rpy2/rinterface/__init__.py:186: RRuntimeWarning: \n",
      "Attaching package: ‘reshape2’\n",
      "\n",
      "\n",
      "  warnings.warn(x, RRuntimeWarning)\n",
      "/home/bryan/anaconda3/lib/python3.6/site-packages/rpy2/rinterface/__init__.py:186: RRuntimeWarning: The following object is masked from ‘package:tidyr’:\n",
      "\n",
      "    smiths\n",
      "\n",
      "\n",
      "  warnings.warn(x, RRuntimeWarning)\n",
      "/home/bryan/anaconda3/lib/python3.6/site-packages/rpy2/rinterface/__init__.py:186: RRuntimeWarning: Loading required package: iterators\n",
      "\n",
      "  warnings.warn(x, RRuntimeWarning)\n",
      "/home/bryan/anaconda3/lib/python3.6/site-packages/rpy2/rinterface/__init__.py:186: RRuntimeWarning: Loading required package: parallel\n",
      "\n",
      "  warnings.warn(x, RRuntimeWarning)\n"
     ]
    }
   ],
   "source": [
    "%%R\n",
    "library(foreach)\n",
    "library(Hmisc)\n",
    "library(lme4)\n",
    "library(lmerTest)\n",
    "library(ggplot2)\n",
    "library(plyr)\n",
    "library(dplyr)\n",
    "library(tidyr)\n",
    "library(pbkrtest)\n",
    "library(gridExtra)\n",
    "library(reshape2)\n",
    "library(doParallel)\n",
    "library(phyloseq)\n",
    "library(MuMIn)\n"
   ]
  },
  {
   "cell_type": "code",
   "execution_count": 3,
   "metadata": {},
   "outputs": [
    {
     "name": "stderr",
     "output_type": "stream",
     "text": [
      "/home/bryan/anaconda3/lib/python3.6/site-packages/rpy2/rinterface/__init__.py:186: RRuntimeWarning: \n",
      "Attaching package: ‘nlme’\n",
      "\n",
      "\n",
      "  warnings.warn(x, RRuntimeWarning)\n",
      "/home/bryan/anaconda3/lib/python3.6/site-packages/rpy2/rinterface/__init__.py:186: RRuntimeWarning: The following object is masked from ‘package:dplyr’:\n",
      "\n",
      "    collapse\n",
      "\n",
      "\n",
      "  warnings.warn(x, RRuntimeWarning)\n",
      "/home/bryan/anaconda3/lib/python3.6/site-packages/rpy2/rinterface/__init__.py:186: RRuntimeWarning: The following object is masked from ‘package:lme4’:\n",
      "\n",
      "    lmList\n",
      "\n",
      "\n",
      "  warnings.warn(x, RRuntimeWarning)\n"
     ]
    }
   ],
   "source": [
    "%%R\n",
    "# Initialize corMLPE \n",
    "source('/home/bryan/corMLPE/corMLPE.R')"
   ]
  },
  {
   "cell_type": "code",
   "execution_count": 4,
   "metadata": {
    "collapsed": true
   },
   "outputs": [],
   "source": [
    "%%R\n",
    "# set theme for ggplot\n",
    "\n",
    "theme_pub = function (base_size = 11, base_family = \"Helvetica\") \n",
    "{\n",
    "    theme_grey(base_size = base_size, base_family = base_family) %+replace% \n",
    "        theme(\n",
    "            axis.line.x = element_line(size = .5),\n",
    "            axis.line.y = element_line(size = .5),\n",
    "            panel.background = element_rect(fill = \"white\", colour = NA), \n",
    "            panel.border = element_rect(fill = NA, color = \"black\", size = .5), \n",
    "            panel.grid.major = element_blank(), \n",
    "            panel.grid.minor = element_blank(), \n",
    "            strip.background = element_rect(fill = \"grey85\", \n",
    "                colour = \"grey20\"), \n",
    "            legend.key = element_rect(fill = \"white\", \n",
    "                colour = NA), complete = TRUE)\n",
    "    }\n"
   ]
  },
  {
   "cell_type": "markdown",
   "metadata": {
    "slideshow": {
     "slide_type": "skip"
    }
   },
   "source": [
    "# Set up tables"
   ]
  },
  {
   "cell_type": "markdown",
   "metadata": {},
   "source": [
    "## Loading phyloseq object"
   ]
  },
  {
   "cell_type": "code",
   "execution_count": 5,
   "metadata": {
    "collapsed": true
   },
   "outputs": [],
   "source": [
    "%%R\n",
    "setwd('/home/bryan/ERA/data/MiSeq/20170417_run1/phyloseq/')"
   ]
  },
  {
   "cell_type": "code",
   "execution_count": 6,
   "metadata": {
    "scrolled": true
   },
   "outputs": [
    {
     "data": {
      "text/plain": [
       "phyloseq-class experiment-level object\n",
       "otu_table()   OTU Table:         [ 4592 taxa and 96 samples ]\n",
       "sample_data() Sample Data:       [ 96 samples by 46 sample variables ]\n",
       "tax_table()   Taxonomy Table:    [ 4592 taxa by 8 taxonomic ranks ]\n",
       "phy_tree()    Phylogenetic Tree: [ 4592 tips and 4591 internal nodes ]\n"
      ]
     },
     "metadata": {},
     "output_type": "display_data"
    }
   ],
   "source": [
    "%%R \n",
    "# loading\n",
    "\n",
    "physeq = readRDS('ERA_snorm.rds')\n",
    "\n",
    "#remove T0, not necessary\n",
    "physeq = subset_samples(physeq, !is.na(Genotype), TRUE)\n",
    "physeq = transform_sample_counts(physeq, sqrt)\n",
    "physeq = subset_samples(physeq, SeedTreatment == \"Treated\" & Genotype != \"Bare\") # see seed treatment notebook for comparison\n",
    "\n",
    "\n",
    "#See what happens with all plots, can subset latter\n",
    "physeq = subset_samples(physeq, Fert == \"85\")\n",
    "physeq = filter_taxa(physeq, function(x) sum(x > 0) > 0, TRUE)  \n",
    "physeq"
   ]
  },
  {
   "cell_type": "code",
   "execution_count": 7,
   "metadata": {},
   "outputs": [
    {
     "data": {
      "text/plain": [
       "phyloseq-class experiment-level object\n",
       "otu_table()   OTU Table:         [ 4592 taxa and 12 samples ]\n",
       "sample_data() Sample Data:       [ 12 samples by 46 sample variables ]\n",
       "tax_table()   Taxonomy Table:    [ 4592 taxa by 8 taxonomic ranks ]\n",
       "phy_tree()    Phylogenetic Tree: [ 4592 tips and 4591 internal nodes ]\n"
      ]
     },
     "metadata": {},
     "output_type": "display_data"
    }
   ],
   "source": [
    "%%R\n",
    "m.phy = subset_samples(physeq, TimePoint == \"T2\") %>%\n",
    "        merge_samples(\"Plant\")  %>%\n",
    "\n",
    "    transform_sample_counts(function(x) x/sum(x))\n",
    "        \n",
    "m.phy"
   ]
  },
  {
   "cell_type": "code",
   "execution_count": 8,
   "metadata": {},
   "outputs": [],
   "source": [
    "%%R\n",
    "registerDoParallel(cores=28)\n",
    "bray.dist = distance(m.phy, \n",
    "                      method = \"bray\", \n",
    "                      weighted = FALSE,\n",
    "                      fast = TRUE, \n",
    "                      parallel = TRUE, \n",
    "                      normalized = FALSE)\n"
   ]
  },
  {
   "cell_type": "markdown",
   "metadata": {
    "slideshow": {
     "slide_type": "skip"
    }
   },
   "source": [
    "# Data wrangling "
   ]
  },
  {
   "cell_type": "markdown",
   "metadata": {},
   "source": [
    "### Melt unifrac distances"
   ]
  },
  {
   "cell_type": "code",
   "execution_count": 9,
   "metadata": {
    "hide_input": false
   },
   "outputs": [
    {
     "data": {
      "text/plain": [
       "   PlantA PlantB bray_Dist\n",
       "13    322    330 0.1416862\n",
       "25    322    339 0.1712911\n",
       "26    330    339 0.1715275\n",
       "37    322   3394 0.1487089\n",
       "38    330   3394 0.1548160\n",
       "39    339   3394 0.1537940\n",
       "[1] 66  3\n"
      ]
     },
     "metadata": {},
     "output_type": "display_data"
    }
   ],
   "source": [
    "%%R\n",
    "bd = as.matrix(bray.dist) \n",
    "# remove lower triangle to remove duplicate values\n",
    "bd[ lower.tri( bd, diag = TRUE ) ]  <- NA\n",
    "head(bd)\n",
    "bd.m = melt(bd, na.rm= TRUE)\n",
    "\n",
    "# rename columns\n",
    "colnames(bd.m) = c(\"PlantA\", \"PlantB\", \"bray_Dist\")\n",
    "head(bd.m) %>% print\n",
    "dim(bd.m) %>% print"
   ]
  },
  {
   "cell_type": "code",
   "execution_count": 10,
   "metadata": {},
   "outputs": [
    {
     "data": {
      "text/plain": [
       "  PlantA PlantB bray_Dist YearA YearB YearDist\n",
       "1    322    330 0.1416862  1936  1939        3\n",
       "2    322    339 0.1712911  1936  1942        6\n",
       "3    330    339 0.1715275  1939  1942        3\n",
       "4    322   3394 0.1487089  1936  1991       55\n",
       "5    330   3394 0.1548160  1939  1991       52\n",
       "6    339   3394 0.1537940  1942  1991       49\n"
      ]
     },
     "metadata": {},
     "output_type": "display_data"
    }
   ],
   "source": [
    "%%R\n",
    "sd = sample_data(m.phy)\n",
    "\n",
    "sd$Plant = rownames(sd)\n",
    "## add Year of plant A and plant b\n",
    "Dist= inner_join(bd.m, sd[,c(\"Plant\",\"R_Year\")], by = c(\"PlantA\" = \"Plant\"))\n",
    "colnames(Dist)[4] = \"YearA\"\n",
    "\n",
    "Dist= inner_join(Dist, sd[,c(\"Plant\",\"R_Year\")], by = c(\"PlantB\" = \"Plant\"))\n",
    "colnames(Dist)[5] = \"YearB\"\n",
    "\n",
    "Dist = mutate(Dist, YearDist = abs(YearA - YearB))\n",
    "head(Dist)"
   ]
  },
  {
   "cell_type": "code",
   "execution_count": 11,
   "metadata": {},
   "outputs": [
    {
     "data": {
      "text/plain": [
       "  PlantA  PlantB bray_Dist YearA YearB YearDist\n",
       "1   3475   34M95 0.1486369  1984  2001       17\n",
       "2   3475   34N42 0.1574890  1984  2003       19\n",
       "3   3475    3517 0.1544320  1984  1971       13\n",
       "4   3475     354 0.1416345  1984  1953       31\n",
       "5   3475    3541 0.1430688  1984  1975        9\n",
       "6   3475    3618 0.1604575  1984  1961       23\n",
       "7   3475 P1151HR 0.1492889  1984  2011       27\n"
      ]
     },
     "metadata": {},
     "output_type": "display_data"
    }
   ],
   "source": [
    "%%R\n",
    "Dist %>% filter(PlantA == \"3475\")"
   ]
  },
  {
   "cell_type": "markdown",
   "metadata": {},
   "source": [
    "# Build corMLPE models"
   ]
  },
  {
   "cell_type": "markdown",
   "metadata": {},
   "source": [
    "## Null model:\n",
    "fit null model with random effect of sampling date to stratify covariance matrices"
   ]
  },
  {
   "cell_type": "code",
   "execution_count": 12,
   "metadata": {},
   "outputs": [],
   "source": [
    "%%R\n",
    "fitNull =  gls(bray_Dist ~ 1,\n",
    "               correlation = corMLPE(form= ~ PlantA + PlantB), data = Dist, method = \"ML\")\n"
   ]
  },
  {
   "cell_type": "code",
   "execution_count": 13,
   "metadata": {},
   "outputs": [
    {
     "data": {
      "text/plain": [
       "Generalized least squares fit by maximum likelihood\n",
       "  Model: bray_Dist ~ 1 \n",
       "  Data: Dist \n",
       "        AIC       BIC   logLik\n",
       "  -414.0714 -407.5025 210.0357\n",
       "\n",
       "Correlation Structure: corMLPE\n",
       " Formula: ~PlantA + PlantB \n",
       " Parameter estimate(s):\n",
       "      Rho \n",
       "0.2426132 \n",
       "\n",
       "Coefficients:\n",
       "                Value   Std.Error t-value p-value\n",
       "(Intercept) 0.1543081 0.003564586 43.2892       0\n",
       "\n",
       "Standardized residuals:\n",
       "       Min         Q1        Med         Q3        Max \n",
       "-1.9389897 -0.7934650  0.0361539  0.5827148  2.6729660 \n",
       "\n",
       "Residual standard error: 0.01187965 \n",
       "Degrees of freedom: 66 total; 65 residual\n"
      ]
     },
     "metadata": {},
     "output_type": "display_data"
    }
   ],
   "source": [
    "%%R\n",
    "summary(fitNull)"
   ]
  },
  {
   "cell_type": "code",
   "execution_count": 14,
   "metadata": {},
   "outputs": [
    {
     "data": {
      "text/plain": [
       "Generalized least squares fit by maximum likelihood\n",
       "  Model: bray_Dist ~ poly(YearDist, 2) \n",
       "  Data: Dist \n",
       "       AIC       BIC  logLik\n",
       "  -421.596 -410.6477 215.798\n",
       "\n",
       "Correlation Structure: corMLPE\n",
       " Formula: ~PlantA + PlantB \n",
       " Parameter estimate(s):\n",
       "      Rho \n",
       "0.2726636 \n",
       "\n",
       "Coefficients:\n",
       "                         Value   Std.Error  t-value p-value\n",
       "(Intercept)         0.15430808 0.003639134 42.40242  0.0000\n",
       "poly(YearDist, 2)1 -0.00200861 0.008866009 -0.22655  0.8215\n",
       "poly(YearDist, 2)2 -0.03092781 0.008953780 -3.45416  0.0010\n",
       "\n",
       " Correlation: \n",
       "                   (Intr) p(YD,2)1\n",
       "poly(YearDist, 2)1 0.000          \n",
       "poly(YearDist, 2)2 0.000  0.222   \n",
       "\n",
       "Standardized residuals:\n",
       "       Min         Q1        Med         Q3        Max \n",
       "-2.2355498 -0.7351927 -0.0131829  0.6766430  2.4475658 \n",
       "\n",
       "Residual standard error: 0.01137047 \n",
       "Degrees of freedom: 66 total; 63 residual\n"
      ]
     },
     "metadata": {},
     "output_type": "display_data"
    }
   ],
   "source": [
    "%%R\n",
    "#Add rep comparison, though maybe it is better to have explicit comp\n",
    "fit1 =  gls(bray_Dist ~ poly(YearDist,2),\n",
    "               correlation = corMLPE(form= ~ PlantA + PlantB), data = Dist, method = \"ML\")\n",
    "summary(fit1)"
   ]
  },
  {
   "cell_type": "code",
   "execution_count": 15,
   "metadata": {},
   "outputs": [
    {
     "data": {
      "text/plain": [
       "[1] 0.1602198\n",
       "attr(,\"adj.r.squared\")\n",
       "[1] -0.0002762499\n"
      ]
     },
     "metadata": {},
     "output_type": "display_data"
    }
   ],
   "source": [
    "%%R\n",
    "MuMIn::r.squaredLR(fit1, null = fitNull)"
   ]
  },
  {
   "cell_type": "code",
   "execution_count": 16,
   "metadata": {
    "hide_input": false,
    "scrolled": false
   },
   "outputs": [
    {
     "data": {
      "text/plain": [
       "        Model df       AIC       BIC   logLik   Test  L.Ratio p-value\n",
       "fitNull     1  3 -414.0714 -407.5025 210.0357                        \n",
       "fit1        2  5 -421.5960 -410.6477 215.7980 1 vs 2 11.52459  0.0031\n"
      ]
     },
     "metadata": {},
     "output_type": "display_data"
    }
   ],
   "source": [
    "%%R\n",
    "anova(fitNull, fit1)"
   ]
  },
  {
   "cell_type": "code",
   "execution_count": 17,
   "metadata": {},
   "outputs": [],
   "source": [
    "%%R\n",
    "CS = corMLPE(form= ~ PlantA + PlantB)"
   ]
  },
  {
   "cell_type": "code",
   "execution_count": 18,
   "metadata": {
    "scrolled": true
   },
   "outputs": [
    {
     "data": {
      "text/plain": [
       "Generalized least squares fit by REML\n",
       "  Model: bray_Dist ~ I(YearDist) + I(YearDist^2) \n",
       "  Data: Dist \n",
       "        AIC       BIC   logLik\n",
       "  -370.6428 -359.9271 190.3214\n",
       "\n",
       "Correlation Structure: corMLPE\n",
       " Formula: ~PlantA + PlantB \n",
       " Parameter estimate(s):\n",
       "      Rho \n",
       "0.2824005 \n",
       "\n",
       "Coefficients:\n",
       "                    Value   Std.Error  t-value p-value\n",
       "(Intercept)    0.14607995 0.004615662 31.64875   0e+00\n",
       "I(YearDist)    0.00069752 0.000199456  3.49712   9e-04\n",
       "I(YearDist^2) -0.00000993 0.000002858 -3.47275   9e-04\n",
       "\n",
       " Correlation: \n",
       "              (Intr) I(YrD)\n",
       "I(YearDist)   -0.535       \n",
       "I(YearDist^2)  0.454 -0.963\n",
       "\n",
       "Standardized residuals:\n",
       "        Min          Q1         Med          Q3         Max \n",
       "-2.14985670 -0.70741286 -0.01308391  0.65072218  2.35329286 \n",
       "\n",
       "Residual standard error: 0.0118238 \n",
       "Degrees of freedom: 66 total; 63 residual\n"
      ]
     },
     "metadata": {},
     "output_type": "display_data"
    }
   ],
   "source": [
    "%%R\n",
    "#Add rep comparison, though maybe it is better to have explicit comp\n",
    "fit1.b =  gls(bray_Dist ~ I(YearDist) + I(YearDist^2), data = Dist,\n",
    "          correlation = CS)\n",
    "# correlation = corMLPE(form= ~ PlantA + PlantB)\n",
    "summary(fit1.b)\n"
   ]
  },
  {
   "cell_type": "markdown",
   "metadata": {},
   "source": [
    "* Year of release as a polynomial function explains  16% of the variation!"
   ]
  },
  {
   "cell_type": "code",
   "execution_count": 19,
   "metadata": {
    "scrolled": true
   },
   "outputs": [
    {
     "data": {
      "text/plain": [
       "Generalized least squares fit by REML\n",
       "  Model: bray_Dist ~ I(YearDist) + I(YearDist^2) \n",
       "  Data: Dist \n",
       "        AIC       BIC   logLik\n",
       "  -370.6428 -359.9271 190.3214\n",
       "\n",
       "Correlation Structure: corMLPE\n",
       " Formula: ~PlantA + PlantB \n",
       " Parameter estimate(s):\n",
       "      Rho \n",
       "0.2824005 \n",
       "\n",
       "Coefficients:\n",
       "                    Value   Std.Error  t-value p-value\n",
       "(Intercept)    0.14607995 0.004615662 31.64875   0e+00\n",
       "I(YearDist)    0.00069752 0.000199456  3.49712   9e-04\n",
       "I(YearDist^2) -0.00000993 0.000002858 -3.47275   9e-04\n",
       "\n",
       " Correlation: \n",
       "              (Intr) I(YrD)\n",
       "I(YearDist)   -0.535       \n",
       "I(YearDist^2)  0.454 -0.963\n",
       "\n",
       "Standardized residuals:\n",
       "        Min          Q1         Med          Q3         Max \n",
       "-2.14985670 -0.70741286 -0.01308391  0.65072218  2.35329286 \n",
       "\n",
       "Residual standard error: 0.0118238 \n",
       "Degrees of freedom: 66 total; 63 residual\n"
      ]
     },
     "metadata": {},
     "output_type": "display_data"
    }
   ],
   "source": [
    "%%R\n",
    "summary(fit1.b)"
   ]
  },
  {
   "cell_type": "code",
   "execution_count": 20,
   "metadata": {},
   "outputs": [
    {
     "data": {
      "text/plain": [
       "[1] 0.1599368\n",
       "attr(,\"adj.r.squared\")\n",
       "[1] -0.000275762\n"
      ]
     },
     "metadata": {},
     "output_type": "display_data"
    }
   ],
   "source": [
    "%%R\n",
    "MuMIn::r.squaredLR(fit1.b, null = fitNull)"
   ]
  },
  {
   "cell_type": "markdown",
   "metadata": {},
   "source": [
    "## Graphs"
   ]
  },
  {
   "cell_type": "markdown",
   "metadata": {},
   "source": [
    "### phylogenetic distance vs microbial community"
   ]
  },
  {
   "cell_type": "code",
   "execution_count": 22,
   "metadata": {
    "hide_input": false,
    "scrolled": false
   },
   "outputs": [
    {
     "data": {
      "image/png": "[encoded data removed]"
     },
     "metadata": {},
     "output_type": "display_data"
    }
   ],
   "source": [
    "%%R -w 300 -h 250\n",
    "\n",
    "\n",
    "model1 <- function(x) {-0.00000994313*x ^ 2 + 0.0006989301*x + 0.1461277}\n",
    "# model1.CImin <- function(x) {-0.00001556209*x ^ 2 + 0.0003064501*x + 0.1372617}\n",
    "# model1.CImax <- function(x) {-0.000004324189*x ^ 2 + 0.001091410*x + 0.1549937}\n",
    "\n",
    "p = ggplot(Dist, aes(y = bray_Dist, x = YearDist)) \n",
    "p = p + geom_point(pch = 21) #aes(size = phy_Dist), shape = 1)\n",
    "#p = p + stat_smooth(method = \"lm\", se = FALSE)\n",
    "p = p + theme_pub()\n",
    "#p = p + theme(panel.border = element_blank()) \n",
    "#p = p + theme(axis.line.x = element_line(color=\"black\", size = 1),\n",
    " #   axis.line.y = element_line(color=\"black\", size = 1))\n",
    "\n",
    "p = p + stat_function(fun = model1)\n",
    "# p = p + stat_function(fun = model1.CImin, linetype = \"dashed\")\n",
    "# p = p + stat_function(fun = model1.CImax, linetype = \"dashed\")\n",
    "\n",
    "p = p + labs(x = \"Years between hybrid release\")\n",
    "p = p + labs(y = \"Bacterial community \\n Bray-Curtis dissimilarity\")\n",
    "\n",
    "p\n"
   ]
  },
  {
   "cell_type": "code",
   "execution_count": null,
   "metadata": {
    "collapsed": true
   },
   "outputs": [],
   "source": []
  },
  {
   "cell_type": "markdown",
   "metadata": {},
   "source": [
    "# Repeat with outliers from ordination removed"
   ]
  },
  {
   "cell_type": "code",
   "execution_count": 23,
   "metadata": {},
   "outputs": [
    {
     "data": {
      "text/plain": [
       "phyloseq-class experiment-level object\n",
       "otu_table()   OTU Table:         [ 4592 taxa and 12 samples ]\n",
       "sample_data() Sample Data:       [ 12 samples by 46 sample variables ]\n",
       "tax_table()   Taxonomy Table:    [ 4592 taxa by 8 taxonomic ranks ]\n",
       "phy_tree()    Phylogenetic Tree: [ 4592 tips and 4591 internal nodes ]\n"
      ]
     },
     "metadata": {},
     "output_type": "display_data"
    }
   ],
   "source": [
    "%%R\n",
    "m.phy = subset_samples(physeq, TimePoint == \"T2\" & !X.sampleID %in% c(\"ERA-T2_1-4c_85\", \"ERA-T2_4-4d_85\" )) %>%\n",
    "        merge_samples(\"Plant\")  %>%\n",
    "\n",
    "\n",
    "    transform_sample_counts(function(x) x/sum(x))\n",
    "        \n",
    "m.phy"
   ]
  },
  {
   "cell_type": "code",
   "execution_count": 24,
   "metadata": {},
   "outputs": [],
   "source": [
    "%%R\n",
    "registerDoParallel(cores=28)\n",
    "bray.dist = distance(m.phy, \n",
    "                      method = \"bray\", \n",
    "                      weighted = FALSE,\n",
    "                      fast = TRUE, \n",
    "                      parallel = TRUE, \n",
    "                      normalized = FALSE)\n"
   ]
  },
  {
   "cell_type": "markdown",
   "metadata": {
    "slideshow": {
     "slide_type": "skip"
    }
   },
   "source": [
    "# Data wrangling "
   ]
  },
  {
   "cell_type": "markdown",
   "metadata": {},
   "source": [
    "### Melt unifrac distances"
   ]
  },
  {
   "cell_type": "code",
   "execution_count": 25,
   "metadata": {
    "hide_input": false
   },
   "outputs": [
    {
     "data": {
      "text/plain": [
       "   PlantA PlantB bray_Dist\n",
       "13    322    330 0.1416862\n",
       "25    322    339 0.1663718\n",
       "26    330    339 0.1690427\n",
       "37    322   3394 0.1487089\n",
       "38    330   3394 0.1548160\n",
       "39    339   3394 0.1563968\n",
       "[1] 66  3\n"
      ]
     },
     "metadata": {},
     "output_type": "display_data"
    }
   ],
   "source": [
    "%%R\n",
    "bd = as.matrix(bray.dist) \n",
    "# remove lower triangle to remove duplicate values\n",
    "bd[ lower.tri( bd, diag = TRUE ) ]  <- NA\n",
    "head(bd)\n",
    "bd.m = melt(bd, na.rm= TRUE)\n",
    "\n",
    "# rename columns\n",
    "colnames(bd.m) = c(\"PlantA\", \"PlantB\", \"bray_Dist\")\n",
    "head(bd.m) %>% print\n",
    "dim(bd.m) %>% print"
   ]
  },
  {
   "cell_type": "code",
   "execution_count": 26,
   "metadata": {},
   "outputs": [
    {
     "data": {
      "text/plain": [
       "  PlantA PlantB bray_Dist YearA YearB YearDist\n",
       "1    322    330 0.1416862  1936  1939        3\n",
       "2    322    339 0.1663718  1936  1942        6\n",
       "3    330    339 0.1690427  1939  1942        3\n",
       "4    322   3394 0.1487089  1936  1991       55\n",
       "5    330   3394 0.1548160  1939  1991       52\n",
       "6    339   3394 0.1563968  1942  1991       49\n"
      ]
     },
     "metadata": {},
     "output_type": "display_data"
    }
   ],
   "source": [
    "%%R\n",
    "sd = sample_data(m.phy)\n",
    "\n",
    "sd$Plant = rownames(sd)\n",
    "## add Year of plant A and plant b\n",
    "Dist= inner_join(bd.m, sd[,c(\"Plant\",\"R_Year\")], by = c(\"PlantA\" = \"Plant\"))\n",
    "colnames(Dist)[4] = \"YearA\"\n",
    "\n",
    "Dist= inner_join(Dist, sd[,c(\"Plant\",\"R_Year\")], by = c(\"PlantB\" = \"Plant\"))\n",
    "colnames(Dist)[5] = \"YearB\"\n",
    "\n",
    "Dist = mutate(Dist, YearDist = abs(YearA - YearB))\n",
    "head(Dist)"
   ]
  },
  {
   "cell_type": "markdown",
   "metadata": {},
   "source": [
    "## Null model:\n",
    "fit null model with random effect of sampling date to stratify covariance matrices"
   ]
  },
  {
   "cell_type": "code",
   "execution_count": 27,
   "metadata": {},
   "outputs": [],
   "source": [
    "%%R\n",
    "fitNull =  gls(bray_Dist ~ 1,\n",
    "               correlation = corMLPE(form= ~ PlantA + PlantB), data = Dist, method = \"ML\")\n"
   ]
  },
  {
   "cell_type": "code",
   "execution_count": 28,
   "metadata": {},
   "outputs": [
    {
     "data": {
      "text/plain": [
       "Generalized least squares fit by maximum likelihood\n",
       "  Model: bray_Dist ~ 1 \n",
       "  Data: Dist \n",
       "        AIC       BIC   logLik\n",
       "  -414.4698 -407.9009 210.2349\n",
       "\n",
       "Correlation Structure: corMLPE\n",
       " Formula: ~PlantA + PlantB \n",
       " Parameter estimate(s):\n",
       "      Rho \n",
       "0.3253946 \n",
       "\n",
       "Coefficients:\n",
       "                Value   Std.Error  t-value p-value\n",
       "(Intercept) 0.1553704 0.004629872 33.55825       0\n",
       "\n",
       "Standardized residuals:\n",
       "        Min          Q1         Med          Q3         Max \n",
       "-1.76885976 -0.76991474 -0.05479163  0.73493945  2.25372414 \n",
       "\n",
       "Residual standard error: 0.01362281 \n",
       "Degrees of freedom: 66 total; 65 residual\n"
      ]
     },
     "metadata": {},
     "output_type": "display_data"
    }
   ],
   "source": [
    "%%R\n",
    "summary(fitNull)"
   ]
  },
  {
   "cell_type": "code",
   "execution_count": 29,
   "metadata": {},
   "outputs": [
    {
     "data": {
      "text/plain": [
       "Generalized least squares fit by maximum likelihood\n",
       "  Model: bray_Dist ~ poly(YearDist, 2) \n",
       "  Data: Dist \n",
       "        AIC       BIC   logLik\n",
       "  -417.8035 -406.8552 213.9018\n",
       "\n",
       "Correlation Structure: corMLPE\n",
       " Formula: ~PlantA + PlantB \n",
       " Parameter estimate(s):\n",
       "      Rho \n",
       "0.3304908 \n",
       "\n",
       "Coefficients:\n",
       "                         Value   Std.Error  t-value p-value\n",
       "(Intercept)         0.15537039 0.004528621 34.30854  0.0000\n",
       "poly(YearDist, 2)1 -0.00224691 0.008862778 -0.25352  0.8007\n",
       "poly(YearDist, 2)2 -0.02412268 0.008956893 -2.69320  0.0091\n",
       "\n",
       " Correlation: \n",
       "                   (Intr) p(YD,2)1\n",
       "poly(YearDist, 2)1 0.000          \n",
       "poly(YearDist, 2)2 0.000  0.238   \n",
       "\n",
       "Standardized residuals:\n",
       "        Min          Q1         Med          Q3         Max \n",
       "-1.98669737 -0.70386622 -0.04471652  0.64155517  2.48372458 \n",
       "\n",
       "Residual standard error: 0.01303014 \n",
       "Degrees of freedom: 66 total; 63 residual\n"
      ]
     },
     "metadata": {},
     "output_type": "display_data"
    }
   ],
   "source": [
    "%%R\n",
    "#Add rep comparison, though maybe it is better to have explicit comp\n",
    "fit1 =  gls(bray_Dist ~ poly(YearDist,2),\n",
    "               correlation = corMLPE(form= ~ PlantA + PlantB), data = Dist, method = \"ML\")\n",
    "summary(fit1)"
   ]
  },
  {
   "cell_type": "code",
   "execution_count": 30,
   "metadata": {
    "scrolled": true
   },
   "outputs": [
    {
     "data": {
      "text/plain": [
       "Generalized least squares fit by maximum likelihood\n",
       "  Model: bray_Dist ~ I(YearDist) + I(YearDist^2) \n",
       "  Data: Dist \n",
       "        AIC       BIC   logLik\n",
       "  -417.8035 -406.8552 213.9018\n",
       "\n",
       "Correlation Structure: corMLPE\n",
       " Formula: ~PlantA + PlantB \n",
       " Parameter estimate(s):\n",
       "      Rho \n",
       "0.3304908 \n",
       "\n",
       "Coefficients:\n",
       "                    Value   Std.Error   t-value p-value\n",
       "(Intercept)    0.14908992 0.005261104 28.338142  0.0000\n",
       "I(YearDist)    0.00053924 0.000199594  2.701665  0.0089\n",
       "I(YearDist^2) -0.00000773 0.000002871 -2.693197  0.0091\n",
       "\n",
       " Correlation: \n",
       "              (Intr) I(YrD)\n",
       "I(YearDist)   -0.467       \n",
       "I(YearDist^2)  0.396 -0.963\n",
       "\n",
       "Standardized residuals:\n",
       "        Min          Q1         Med          Q3         Max \n",
       "-1.98669737 -0.70386622 -0.04471652  0.64155517  2.48372458 \n",
       "\n",
       "Residual standard error: 0.01303014 \n",
       "Degrees of freedom: 66 total; 63 residual\n"
      ]
     },
     "metadata": {},
     "output_type": "display_data"
    }
   ],
   "source": [
    "%%R\n",
    "#Add rep comparison, though maybe it is better to have explicit comp\n",
    "fit1.b =  gls(bray_Dist ~ I(YearDist) + I(YearDist^2),\n",
    "               correlation = corMLPE(form= ~ PlantA + PlantB), data = Dist, method = \"ML\")\n",
    "summary(fit1.b)"
   ]
  },
  {
   "cell_type": "code",
   "execution_count": 31,
   "metadata": {
    "scrolled": true
   },
   "outputs": [
    {
     "data": {
      "text/plain": [
       "Denom. DF: 63 \n",
       "                  numDF   F-value p-value\n",
       "(Intercept)           1 1177.0759  <.0001\n",
       "poly(YearDist, 2)     2    3.7064  0.0301\n"
      ]
     },
     "metadata": {},
     "output_type": "display_data"
    }
   ],
   "source": [
    "%%R\n",
    "anova(fit1)"
   ]
  },
  {
   "cell_type": "code",
   "execution_count": 32,
   "metadata": {},
   "outputs": [
    {
     "data": {
      "text/plain": [
       "[1] 0.1051653\n",
       "attr(,\"adj.r.squared\")\n",
       "[1] -0.0001802321\n"
      ]
     },
     "metadata": {},
     "output_type": "display_data"
    }
   ],
   "source": [
    "%%R\n",
    "MuMIn::r.squaredLR(fit1, null = fitNull)"
   ]
  },
  {
   "cell_type": "code",
   "execution_count": 33,
   "metadata": {},
   "outputs": [
    {
     "data": {
      "text/plain": [
       "Denom. DF: 63 \n",
       "              numDF   F-value p-value\n",
       "(Intercept)       1 1177.0759  <.0001\n",
       "I(YearDist)       1    0.1594  0.6911\n",
       "I(YearDist^2)     1    7.2533  0.0091\n"
      ]
     },
     "metadata": {},
     "output_type": "display_data"
    }
   ],
   "source": [
    "%%R\n",
    "anova(fit1.b)"
   ]
  },
  {
   "cell_type": "code",
   "execution_count": 34,
   "metadata": {},
   "outputs": [
    {
     "data": {
      "text/plain": [
       "        Model df       AIC       BIC   logLik   Test  L.Ratio p-value\n",
       "fitNull     1  3 -414.4698 -407.9009 210.2349                        \n",
       "fit1        2  5 -417.8035 -406.8552 213.9017 1 vs 2 7.333672  0.0256\n"
      ]
     },
     "metadata": {},
     "output_type": "display_data"
    }
   ],
   "source": [
    "%%R\n",
    "anova(fitNull, fit1)"
   ]
  },
  {
   "cell_type": "code",
   "execution_count": 35,
   "metadata": {
    "scrolled": true
   },
   "outputs": [
    {
     "data": {
      "image/png": "[encoded data removed]"
     },
     "metadata": {},
     "output_type": "display_data"
    }
   ],
   "source": [
    "%%R -w 800 -h 600\n",
    "\n",
    "\n",
    "model1 <- function(x) {-0.00000777*x ^ 2 + 0.00054149*x + 0.14913084}\n",
    "# model1.CImin <- function(x) {-0.00001556209*x ^ 2 + 0.0003064501*x + 0.1372617}\n",
    "# model1.CImax <- function(x) {-0.000004324189*x ^ 2 + 0.001091410*x + 0.1549937}\n",
    "\n",
    "p = ggplot(Dist, aes(y = bray_Dist, x = YearDist)) \n",
    "p = p + geom_point(pch = 21) #aes(size = phy_Dist), shape = 1)\n",
    "#p = p + stat_smooth(method = \"lm\", se = FALSE)\n",
    "p = p + theme_pub()\n",
    "#p = p + theme(panel.border = element_blank()) \n",
    "#p = p + theme(axis.line.x = element_line(color=\"black\", size = 1),\n",
    " #   axis.line.y = element_line(color=\"black\", size = 1))\n",
    "\n",
    "p = p + stat_function(fun = model1)\n",
    "p = p + stat_smooth(method = \"lm\", formula = y~ poly(x,2))\n",
    "# p = p + stat_function(fun = model1.CImin, linetype = \"dashed\")\n",
    "# p = p + stat_function(fun = model1.CImax, linetype = \"dashed\")\n",
    "\n",
    "p = p + labs(x = \"Year of release\")\n",
    "p = p + labs(y = \"Microbial community \\n Bray-Curtis Dissimilarity\")\n",
    "\n",
    "p\n"
   ]
  },
  {
   "cell_type": "markdown",
   "metadata": {},
   "source": [
    "# Ok, now T1"
   ]
  },
  {
   "cell_type": "code",
   "execution_count": 36,
   "metadata": {},
   "outputs": [
    {
     "data": {
      "text/plain": [
       "phyloseq-class experiment-level object\n",
       "otu_table()   OTU Table:         [ 4592 taxa and 6 samples ]\n",
       "sample_data() Sample Data:       [ 6 samples by 46 sample variables ]\n",
       "tax_table()   Taxonomy Table:    [ 4592 taxa by 8 taxonomic ranks ]\n",
       "phy_tree()    Phylogenetic Tree: [ 4592 tips and 4591 internal nodes ]\n"
      ]
     },
     "metadata": {},
     "output_type": "display_data"
    }
   ],
   "source": [
    "%%R\n",
    "m.phy = subset_samples(physeq, TimePoint == \"T1\") %>%\n",
    "        merge_samples(\"Plant\")  %>%\n",
    "\n",
    "\n",
    "    transform_sample_counts(function(x) x/sum(x))\n",
    "        \n",
    "m.phy"
   ]
  },
  {
   "cell_type": "code",
   "execution_count": 37,
   "metadata": {},
   "outputs": [],
   "source": [
    "%%R\n",
    "registerDoParallel(cores=28)\n",
    "bray.dist = distance(m.phy, \n",
    "                      method = \"bray\", \n",
    "                      weighted = FALSE,\n",
    "                      fast = TRUE, \n",
    "                      parallel = TRUE, \n",
    "                      normalized = FALSE)\n"
   ]
  },
  {
   "cell_type": "markdown",
   "metadata": {
    "slideshow": {
     "slide_type": "skip"
    }
   },
   "source": [
    "# Data wrangling "
   ]
  },
  {
   "cell_type": "markdown",
   "metadata": {},
   "source": [
    "### Melt unifrac distances"
   ]
  },
  {
   "cell_type": "code",
   "execution_count": 38,
   "metadata": {
    "hide_input": false,
    "scrolled": true
   },
   "outputs": [
    {
     "data": {
      "text/plain": [
       "   PlantA PlantB bray_Dist\n",
       "7     330   3475 0.1498719\n",
       "13    330  34M95 0.1690555\n",
       "14   3475  34M95 0.1570704\n",
       "19    330   3517 0.1617041\n",
       "20   3475   3517 0.1467838\n",
       "21  34M95   3517 0.1490862\n",
       "[1] 15  3\n"
      ]
     },
     "metadata": {},
     "output_type": "display_data"
    }
   ],
   "source": [
    "%%R\n",
    "bd = as.matrix(bray.dist) \n",
    "# remove lower triangle to remove duplicate values\n",
    "bd[ lower.tri( bd, diag = TRUE ) ]  <- NA\n",
    "head(bd)\n",
    "bd.m = melt(bd, na.rm= TRUE)\n",
    "\n",
    "# rename columns\n",
    "colnames(bd.m) = c(\"PlantA\", \"PlantB\", \"bray_Dist\")\n",
    "head(bd.m) %>% print\n",
    "dim(bd.m) %>% print"
   ]
  },
  {
   "cell_type": "code",
   "execution_count": 39,
   "metadata": {},
   "outputs": [
    {
     "data": {
      "text/plain": [
       "  PlantA PlantB bray_Dist YearA YearB YearDist\n",
       "1    330   3475 0.1498719  1939  1984       45\n",
       "2    330  34M95 0.1690555  1939  2001       62\n",
       "3   3475  34M95 0.1570704  1984  2001       17\n",
       "4    330   3517 0.1617041  1939  1971       32\n",
       "5   3475   3517 0.1467838  1984  1971       13\n",
       "6  34M95   3517 0.1490862  2001  1971       30\n"
      ]
     },
     "metadata": {},
     "output_type": "display_data"
    }
   ],
   "source": [
    "%%R\n",
    "sd = sample_data(m.phy)\n",
    "\n",
    "sd$Plant = rownames(sd)\n",
    "## add Year of plant A and plant b\n",
    "Dist= inner_join(bd.m, sd[,c(\"Plant\",\"R_Year\")], by = c(\"PlantA\" = \"Plant\"))\n",
    "colnames(Dist)[4] = \"YearA\"\n",
    "\n",
    "Dist= inner_join(Dist, sd[,c(\"Plant\",\"R_Year\")], by = c(\"PlantB\" = \"Plant\"))\n",
    "colnames(Dist)[5] = \"YearB\"\n",
    "\n",
    "Dist = mutate(Dist, YearDist = abs(YearA - YearB))\n",
    "head(Dist)"
   ]
  },
  {
   "cell_type": "markdown",
   "metadata": {},
   "source": [
    "## Null model:\n",
    "fit null model with random effect of sampling date to stratify covariance matrices"
   ]
  },
  {
   "cell_type": "code",
   "execution_count": 40,
   "metadata": {},
   "outputs": [],
   "source": [
    "%%R\n",
    "fitNull =  gls(bray_Dist ~ 1,\n",
    "               correlation = corMLPE(form= ~ PlantA + PlantB), data = Dist, method = \"ML\")\n"
   ]
  },
  {
   "cell_type": "code",
   "execution_count": 41,
   "metadata": {
    "scrolled": true
   },
   "outputs": [
    {
     "data": {
      "text/plain": [
       "Generalized least squares fit by maximum likelihood\n",
       "  Model: bray_Dist ~ YearDist \n",
       "  Data: Dist \n",
       "        AIC       BIC   logLik\n",
       "  -92.14564 -89.31344 50.07282\n",
       "\n",
       "Correlation Structure: corMLPE\n",
       " Formula: ~PlantA + PlantB \n",
       " Parameter estimate(s):\n",
       "      Rho \n",
       "0.3432679 \n",
       "\n",
       "Coefficients:\n",
       "                  Value   Std.Error   t-value p-value\n",
       "(Intercept)  0.15765201 0.006772761 23.277364  0.0000\n",
       "YearDist    -0.00002464 0.000104843 -0.234992  0.8179\n",
       "\n",
       " Correlation: \n",
       "         (Intr)\n",
       "YearDist -0.534\n",
       "\n",
       "Standardized residuals:\n",
       "        Min          Q1         Med          Q3         Max \n",
       "-1.56490018 -0.69946999 -0.01525646  0.43624680  1.93317272 \n",
       "\n",
       "Residual standard error: 0.01067082 \n",
       "Degrees of freedom: 15 total; 13 residual\n"
      ]
     },
     "metadata": {},
     "output_type": "display_data"
    }
   ],
   "source": [
    "%%R\n",
    "fit1 =  gls(bray_Dist ~ YearDist,\n",
    "               correlation = corMLPE(form= ~ PlantA + PlantB), data = Dist, method = \"ML\")\n",
    "summary(fit1)"
   ]
  },
  {
   "cell_type": "code",
   "execution_count": 42,
   "metadata": {},
   "outputs": [
    {
     "data": {
      "text/plain": [
       "[1] 0.003632807\n",
       "attr(,\"adj.r.squared\")\n",
       "[1] -4.601076e-06\n"
      ]
     },
     "metadata": {},
     "output_type": "display_data"
    }
   ],
   "source": [
    "%%R\n",
    "MuMIn::r.squaredLR(fit1, null = fitNull)"
   ]
  },
  {
   "cell_type": "code",
   "execution_count": 43,
   "metadata": {},
   "outputs": [
    {
     "data": {
      "text/plain": [
       "Generalized least squares fit by maximum likelihood\n",
       "  Model: bray_Dist ~ poly(YearDist, 2) \n",
       "  Data: Dist \n",
       "        AIC       BIC   logLik\n",
       "  -90.17311 -86.63286 50.08655\n",
       "\n",
       "Correlation Structure: corMLPE\n",
       " Formula: ~PlantA + PlantB \n",
       " Parameter estimate(s):\n",
       "      Rho \n",
       "0.3522087 \n",
       "\n",
       "Coefficients:\n",
       "                         Value   Std.Error   t-value p-value\n",
       "(Intercept)         0.15680285 0.006105542 25.682051  0.0000\n",
       "poly(YearDist, 2)1 -0.00233014 0.008030705 -0.290154  0.7767\n",
       "poly(YearDist, 2)2 -0.00123893 0.007416684 -0.167046  0.8701\n",
       "\n",
       " Correlation: \n",
       "                   (Intr) p(YD,2)1\n",
       "poly(YearDist, 2)1 0.000          \n",
       "poly(YearDist, 2)2 0.000  0.253   \n",
       "\n",
       "Standardized residuals:\n",
       "        Min          Q1         Med          Q3         Max \n",
       "-1.57248776 -0.69962828 -0.01685063  0.46077526  1.93117990 \n",
       "\n",
       "Residual standard error: 0.0108247 \n",
       "Degrees of freedom: 15 total; 12 residual\n"
      ]
     },
     "metadata": {},
     "output_type": "display_data"
    }
   ],
   "source": [
    "%%R\n",
    "fit2 =  gls(bray_Dist ~ poly(YearDist, 2),\n",
    "               correlation = corMLPE(form= ~ PlantA + PlantB), data = Dist, method = \"ML\")\n",
    "summary(fit2)"
   ]
  },
  {
   "cell_type": "code",
   "execution_count": 44,
   "metadata": {},
   "outputs": [
    {
     "data": {
      "text/plain": [
       "[1] 0.005455696\n",
       "attr(,\"adj.r.squared\")\n",
       "[1] -6.909828e-06\n"
      ]
     },
     "metadata": {},
     "output_type": "display_data"
    }
   ],
   "source": [
    "%%R\n",
    "MuMIn::r.squaredLR(fit2, null = fitNull)"
   ]
  },
  {
   "cell_type": "code",
   "execution_count": 45,
   "metadata": {
    "scrolled": false
   },
   "outputs": [
    {
     "data": {
      "text/plain": [
       "        Model df       AIC       BIC   logLik   Test    L.Ratio p-value\n",
       "fitNull     1  3 -94.09105 -91.96690 50.04552                          \n",
       "fit1        2  4 -92.14564 -89.31344 50.07282 1 vs 2 0.05459133  0.8153\n",
       "fit2        3  5 -90.17311 -86.63286 50.08655 2 vs 3 0.02746816  0.8684\n"
      ]
     },
     "metadata": {},
     "output_type": "display_data"
    }
   ],
   "source": [
    "%%R\n",
    "anova(fitNull, fit1, fit2)"
   ]
  },
  {
   "cell_type": "code",
   "execution_count": 46,
   "metadata": {},
   "outputs": [
    {
     "data": {
      "text/plain": [
       "Denom. DF: 13 \n",
       "            numDF  F-value p-value\n",
       "(Intercept)     1 749.3268  <.0001\n",
       "YearDist        1   0.0552  0.8179\n",
       "Denom. DF: 12 \n",
       "                  numDF  F-value p-value\n",
       "(Intercept)           1 659.5677  <.0001\n",
       "poly(YearDist, 2)     2   0.0468  0.9545\n"
      ]
     },
     "metadata": {},
     "output_type": "display_data"
    }
   ],
   "source": [
    "%%R\n",
    "anova(fit1) %>% print\n",
    "anova(fit2) %>% print"
   ]
  },
  {
   "cell_type": "markdown",
   "metadata": {},
   "source": [
    "# Finally T3"
   ]
  },
  {
   "cell_type": "code",
   "execution_count": 47,
   "metadata": {},
   "outputs": [
    {
     "data": {
      "text/plain": [
       "phyloseq-class experiment-level object\n",
       "otu_table()   OTU Table:         [ 4592 taxa and 6 samples ]\n",
       "sample_data() Sample Data:       [ 6 samples by 46 sample variables ]\n",
       "tax_table()   Taxonomy Table:    [ 4592 taxa by 8 taxonomic ranks ]\n",
       "phy_tree()    Phylogenetic Tree: [ 4592 tips and 4591 internal nodes ]\n"
      ]
     },
     "metadata": {},
     "output_type": "display_data"
    }
   ],
   "source": [
    "%%R\n",
    "m.phy = subset_samples(physeq, TimePoint == \"T3\") %>%\n",
    "        merge_samples(\"Plant\")  %>%\n",
    "\n",
    "\n",
    "    transform_sample_counts(function(x) x/sum(x))\n",
    "        \n",
    "m.phy"
   ]
  },
  {
   "cell_type": "code",
   "execution_count": 48,
   "metadata": {
    "collapsed": true
   },
   "outputs": [],
   "source": [
    "%%R\n",
    "registerDoParallel(cores=28)\n",
    "bray.dist = distance(m.phy, \n",
    "                      method = \"bray\", \n",
    "                      weighted = FALSE,\n",
    "                      fast = TRUE, \n",
    "                      parallel = TRUE, \n",
    "                      normalized = FALSE)\n"
   ]
  },
  {
   "cell_type": "markdown",
   "metadata": {
    "slideshow": {
     "slide_type": "skip"
    }
   },
   "source": [
    "# Data wrangling "
   ]
  },
  {
   "cell_type": "markdown",
   "metadata": {},
   "source": [
    "### Melt unifrac distances"
   ]
  },
  {
   "cell_type": "code",
   "execution_count": 49,
   "metadata": {
    "hide_input": false,
    "scrolled": true
   },
   "outputs": [
    {
     "data": {
      "text/plain": [
       "   PlantA PlantB bray_Dist\n",
       "7     330   3475 0.1330519\n",
       "13    330  34M95 0.1585380\n",
       "14   3475  34M95 0.1579147\n",
       "19    330   3517 0.1524254\n",
       "20   3475   3517 0.1451101\n",
       "21  34M95   3517 0.1621136\n",
       "[1] 15  3\n"
      ]
     },
     "metadata": {},
     "output_type": "display_data"
    }
   ],
   "source": [
    "%%R\n",
    "bd = as.matrix(bray.dist) \n",
    "# remove lower triangle to remove duplicate values\n",
    "bd[ lower.tri( bd, diag = TRUE ) ]  <- NA\n",
    "head(bd)\n",
    "bd.m = melt(bd, na.rm= TRUE)\n",
    "\n",
    "# rename columns\n",
    "colnames(bd.m) = c(\"PlantA\", \"PlantB\", \"bray_Dist\")\n",
    "head(bd.m) %>% print\n",
    "dim(bd.m) %>% print"
   ]
  },
  {
   "cell_type": "code",
   "execution_count": 50,
   "metadata": {},
   "outputs": [
    {
     "data": {
      "text/plain": [
       "  PlantA PlantB bray_Dist YearA YearB YearDist\n",
       "1    330   3475 0.1330519  1939  1984       45\n",
       "2    330  34M95 0.1585380  1939  2001       62\n",
       "3   3475  34M95 0.1579147  1984  2001       17\n",
       "4    330   3517 0.1524254  1939  1971       32\n",
       "5   3475   3517 0.1451101  1984  1971       13\n",
       "6  34M95   3517 0.1621136  2001  1971       30\n"
      ]
     },
     "metadata": {},
     "output_type": "display_data"
    }
   ],
   "source": [
    "%%R\n",
    "sd = sample_data(m.phy)\n",
    "\n",
    "sd$Plant = rownames(sd)\n",
    "## add Year of plant A and plant b\n",
    "Dist= inner_join(bd.m, sd[,c(\"Plant\",\"R_Year\")], by = c(\"PlantA\" = \"Plant\"))\n",
    "colnames(Dist)[4] = \"YearA\"\n",
    "\n",
    "Dist= inner_join(Dist, sd[,c(\"Plant\",\"R_Year\")], by = c(\"PlantB\" = \"Plant\"))\n",
    "colnames(Dist)[5] = \"YearB\"\n",
    "\n",
    "Dist = mutate(Dist, YearDist = abs(YearA - YearB))\n",
    "head(Dist)"
   ]
  },
  {
   "cell_type": "markdown",
   "metadata": {},
   "source": [
    "## Null model:\n",
    "fit null model with random effect of sampling date to stratify covariance matrices"
   ]
  },
  {
   "cell_type": "code",
   "execution_count": 51,
   "metadata": {},
   "outputs": [],
   "source": [
    "%%R\n",
    "fitNull =  gls(bray_Dist ~ 1,\n",
    "               correlation = corMLPE(form= ~ PlantA + PlantB), data = Dist, method = \"ML\")\n"
   ]
  },
  {
   "cell_type": "code",
   "execution_count": 52,
   "metadata": {
    "scrolled": false
   },
   "outputs": [
    {
     "data": {
      "text/plain": [
       "Generalized least squares fit by maximum likelihood\n",
       "  Model: bray_Dist ~ YearDist \n",
       "  Data: Dist \n",
       "       AIC      BIC   logLik\n",
       "  -88.4197 -85.5875 48.20985\n",
       "\n",
       "Correlation Structure: corMLPE\n",
       " Formula: ~PlantA + PlantB \n",
       " Parameter estimate(s):\n",
       "      Rho \n",
       "0.3405039 \n",
       "\n",
       "Coefficients:\n",
       "                  Value   Std.Error   t-value p-value\n",
       "(Intercept)  0.15554038 0.007634964 20.372116  0.0000\n",
       "YearDist    -0.00001474 0.000119102 -0.123731  0.9034\n",
       "\n",
       " Correlation: \n",
       "         (Intr)\n",
       "YearDist -0.538\n",
       "\n",
       "Standardized residuals:\n",
       "       Min         Q1        Med         Q3        Max \n",
       "-1.8145900 -0.7688399  0.2182315  0.5593439  1.5224886 \n",
       "\n",
       "Residual standard error: 0.01202768 \n",
       "Degrees of freedom: 15 total; 13 residual\n"
      ]
     },
     "metadata": {},
     "output_type": "display_data"
    }
   ],
   "source": [
    "%%R\n",
    "fit1 =  gls(bray_Dist ~ YearDist,\n",
    "               correlation = corMLPE(form= ~ PlantA + PlantB), data = Dist, method = \"ML\")\n",
    "summary(fit1)"
   ]
  },
  {
   "cell_type": "code",
   "execution_count": 53,
   "metadata": {},
   "outputs": [
    {
     "data": {
      "text/plain": [
       "[1] 0.001158631\n",
       "attr(,\"adj.r.squared\")\n",
       "[1] -1.877221e-06\n"
      ]
     },
     "metadata": {},
     "output_type": "display_data"
    }
   ],
   "source": [
    "%%R\n",
    "MuMIn::r.squaredLR(fit1, null = fitNull)"
   ]
  },
  {
   "cell_type": "code",
   "execution_count": 54,
   "metadata": {},
   "outputs": [
    {
     "data": {
      "text/plain": [
       "Generalized least squares fit by maximum likelihood\n",
       "  Model: bray_Dist ~ poly(YearDist, 2) \n",
       "  Data: Dist \n",
       "        AIC       BIC   logLik\n",
       "  -86.75662 -83.21637 48.37831\n",
       "\n",
       "Correlation Structure: corMLPE\n",
       " Formula: ~PlantA + PlantB \n",
       " Parameter estimate(s):\n",
       "      Rho \n",
       "0.3554215 \n",
       "\n",
       "Coefficients:\n",
       "                         Value   Std.Error   t-value p-value\n",
       "(Intercept)         0.15503245 0.006904527 22.453741  0.0000\n",
       "poly(YearDist, 2)1 -0.00241796 0.008965952 -0.269683  0.7920\n",
       "poly(YearDist, 2)2 -0.00446720 0.008275890 -0.539785  0.5992\n",
       "\n",
       " Correlation: \n",
       "                   (Intr) p(YD,2)1\n",
       "poly(YearDist, 2)1 0.000          \n",
       "poly(YearDist, 2)2 0.000  0.255   \n",
       "\n",
       "Standardized residuals:\n",
       "       Min         Q1        Med         Q3        Max \n",
       "-1.8683659 -0.7311081  0.2221399  0.4580386  1.5202263 \n",
       "\n",
       "Residual standard error: 0.01220024 \n",
       "Degrees of freedom: 15 total; 12 residual\n"
      ]
     },
     "metadata": {},
     "output_type": "display_data"
    }
   ],
   "source": [
    "%%R\n",
    "fit2 =  gls(bray_Dist ~ poly(YearDist, 2),\n",
    "               correlation = corMLPE(form= ~ PlantA + PlantB), data = Dist, method = \"ML\")\n",
    "summary(fit2)"
   ]
  },
  {
   "cell_type": "code",
   "execution_count": 55,
   "metadata": {},
   "outputs": [
    {
     "data": {
      "text/plain": [
       "[1] 0.02334388\n",
       "attr(,\"adj.r.squared\")\n",
       "[1] -3.78219e-05\n"
      ]
     },
     "metadata": {},
     "output_type": "display_data"
    }
   ],
   "source": [
    "%%R\n",
    "MuMIn::r.squaredLR(fit2, null = fitNull)"
   ]
  },
  {
   "cell_type": "code",
   "execution_count": 56,
   "metadata": {
    "scrolled": false
   },
   "outputs": [
    {
     "data": {
      "text/plain": [
       "        Model df       AIC       BIC   logLik   Test   L.Ratio p-value\n",
       "fitNull     1  3 -90.40231 -88.27816 48.20116                         \n",
       "fit1        2  4 -88.41970 -85.58750 48.20985 1 vs 2 0.0173895  0.8951\n",
       "fit2        3  5 -86.75662 -83.21637 48.37831 2 vs 3 0.3369205  0.5616\n"
      ]
     },
     "metadata": {},
     "output_type": "display_data"
    }
   ],
   "source": [
    "%%R\n",
    "anova(fitNull, fit1, fit2)"
   ]
  },
  {
   "cell_type": "code",
   "execution_count": 57,
   "metadata": {},
   "outputs": [
    {
     "data": {
      "text/plain": [
       "Denom. DF: 13 \n",
       "            numDF  F-value p-value\n",
       "(Intercept)     1 579.9778  <.0001\n",
       "YearDist        1   0.0153  0.9034\n",
       "Denom. DF: 12 \n",
       "                  numDF  F-value p-value\n",
       "(Intercept)           1 504.1705  <.0001\n",
       "poly(YearDist, 2)     2   0.1550  0.8581\n"
      ]
     },
     "metadata": {},
     "output_type": "display_data"
    }
   ],
   "source": [
    "%%R\n",
    "anova(fit1) %>% print\n",
    "anova(fit2) %>% print"
   ]
  },
  {
   "cell_type": "code",
   "execution_count": 58,
   "metadata": {},
   "outputs": [
    {
     "data": {
      "image/png": "[encoded data removed]"
     },
     "metadata": {},
     "output_type": "display_data"
    }
   ],
   "source": [
    "%%R -w 800 -h 600\n",
    "\n",
    "\n",
    "#model1 <- function(x) {-0.00000777*x ^ 2 + 0.00054149*x + 0.14913084}\n",
    "# model1.CImin <- function(x) {-0.00001556209*x ^ 2 + 0.0003064501*x + 0.1372617}\n",
    "# model1.CImax <- function(x) {-0.000004324189*x ^ 2 + 0.001091410*x + 0.1549937}\n",
    "\n",
    "p = ggplot(Dist, aes(y = bray_Dist, x = YearDist)) \n",
    "p = p + geom_point(pch = 21) #aes(size = phy_Dist), shape = 1)\n",
    "#p = p + stat_smooth(method = \"lm\", se = FALSE)\n",
    "p = p + theme_pub()\n",
    "#p = p + theme(panel.border = element_blank()) \n",
    "#p = p + theme(axis.line.x = element_line(color=\"black\", size = 1),\n",
    " #   axis.line.y = element_line(color=\"black\", size = 1))\n",
    "\n",
    "#p = p + stat_function(fun = model1)\n",
    "p = p + stat_smooth(method = \"lm\", formula = y~ poly(x,2))\n",
    "# p = p + stat_function(fun = model1.CImin, linetype = \"dashed\")\n",
    "# p = p + stat_function(fun = model1.CImax, linetype = \"dashed\")\n",
    "\n",
    "p = p + labs(x = \"Year of release\")\n",
    "p = p + labs(y = \"Microbial community \\n Bray-Curtis Dissimilarity\")\n",
    "\n",
    "p"
   ]
  }
 ],
 "metadata": {
  "hide_input": true,
  "kernelspec": {
   "display_name": "Python 3",
   "language": "python",
   "name": "python3"
  },
  "language_info": {
   "codemirror_mode": {
    "name": "ipython",
    "version": 3
   },
   "file_extension": ".py",
   "mimetype": "text/x-python",
   "name": "python",
   "nbconvert_exporter": "python",
   "pygments_lexer": "ipython3",
   "version": "3.6.1"
  }
 },
 "nbformat": 4,
 "nbformat_minor": 1
}
