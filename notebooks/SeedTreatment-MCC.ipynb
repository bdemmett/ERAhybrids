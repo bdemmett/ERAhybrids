{
 "cells": [
  {
   "cell_type": "markdown",
   "metadata": {},
   "source": [
    "## Description:\n",
    "\n",
    "    Evaluate community differences between treated seeds and untreated controlls\n",
    "\n"
   ]
  },
  {
   "cell_type": "markdown",
   "metadata": {},
   "source": [
    "# Init"
   ]
  },
  {
   "cell_type": "code",
   "execution_count": 1,
   "metadata": {
    "collapsed": false
   },
   "outputs": [],
   "source": [
    "%load_ext rpy2.ipython"
   ]
  },
  {
   "cell_type": "code",
   "execution_count": 2,
   "metadata": {
    "collapsed": false
   },
   "outputs": [
    {
     "name": "stderr",
     "output_type": "stream",
     "text": [
      "/opt/anaconda2/lib/python2.7/site-packages/rpy2/rinterface/__init__.py:186: RRuntimeWarning: foreach: simple, scalable parallel programming from Revolution Analytics\n",
      "Use Revolution R for scalability, fault tolerance and more.\n",
      "http://www.revolutionanalytics.com\n",
      "\n",
      "  warnings.warn(x, RRuntimeWarning)\n",
      "/opt/anaconda2/lib/python2.7/site-packages/rpy2/rinterface/__init__.py:186: RRuntimeWarning: Loading required package: iterators\n",
      "\n",
      "  warnings.warn(x, RRuntimeWarning)\n",
      "/opt/anaconda2/lib/python2.7/site-packages/rpy2/rinterface/__init__.py:186: RRuntimeWarning: Loading required package: parallel\n",
      "\n",
      "  warnings.warn(x, RRuntimeWarning)\n",
      "/opt/anaconda2/lib/python2.7/site-packages/rpy2/rinterface/__init__.py:186: RRuntimeWarning: \n",
      "Attaching package: ‘dplyr’\n",
      "\n",
      "\n",
      "  warnings.warn(x, RRuntimeWarning)\n",
      "/opt/anaconda2/lib/python2.7/site-packages/rpy2/rinterface/__init__.py:186: RRuntimeWarning: The following object is masked from ‘package:gridExtra’:\n",
      "\n",
      "    combine\n",
      "\n",
      "\n",
      "  warnings.warn(x, RRuntimeWarning)\n",
      "/opt/anaconda2/lib/python2.7/site-packages/rpy2/rinterface/__init__.py:186: RRuntimeWarning: The following objects are masked from ‘package:stats’:\n",
      "\n",
      "    filter, lag\n",
      "\n",
      "\n",
      "  warnings.warn(x, RRuntimeWarning)\n",
      "/opt/anaconda2/lib/python2.7/site-packages/rpy2/rinterface/__init__.py:186: RRuntimeWarning: The following objects are masked from ‘package:base’:\n",
      "\n",
      "    intersect, setdiff, setequal, union\n",
      "\n",
      "\n",
      "  warnings.warn(x, RRuntimeWarning)\n",
      "/opt/anaconda2/lib/python2.7/site-packages/rpy2/rinterface/__init__.py:186: RRuntimeWarning: Loading required package: permute\n",
      "\n",
      "  warnings.warn(x, RRuntimeWarning)\n",
      "/opt/anaconda2/lib/python2.7/site-packages/rpy2/rinterface/__init__.py:186: RRuntimeWarning: Loading required package: lattice\n",
      "\n",
      "  warnings.warn(x, RRuntimeWarning)\n",
      "/opt/anaconda2/lib/python2.7/site-packages/rpy2/rinterface/__init__.py:186: RRuntimeWarning: This is vegan 2.4-3\n",
      "\n",
      "  warnings.warn(x, RRuntimeWarning)\n",
      "/opt/anaconda2/lib/python2.7/site-packages/rpy2/rinterface/__init__.py:186: RRuntimeWarning: Loading required package: S4Vectors\n",
      "\n",
      "  warnings.warn(x, RRuntimeWarning)\n",
      "/opt/anaconda2/lib/python2.7/site-packages/rpy2/rinterface/__init__.py:186: RRuntimeWarning: Loading required package: stats4\n",
      "\n",
      "  warnings.warn(x, RRuntimeWarning)\n",
      "/opt/anaconda2/lib/python2.7/site-packages/rpy2/rinterface/__init__.py:186: RRuntimeWarning: Loading required package: BiocGenerics\n",
      "\n",
      "  warnings.warn(x, RRuntimeWarning)\n",
      "/opt/anaconda2/lib/python2.7/site-packages/rpy2/rinterface/__init__.py:186: RRuntimeWarning: \n",
      "Attaching package: ‘BiocGenerics’\n",
      "\n",
      "\n",
      "  warnings.warn(x, RRuntimeWarning)\n",
      "/opt/anaconda2/lib/python2.7/site-packages/rpy2/rinterface/__init__.py:186: RRuntimeWarning: The following objects are masked from ‘package:dplyr’:\n",
      "\n",
      "    combine, intersect, setdiff, union\n",
      "\n",
      "\n",
      "  warnings.warn(x, RRuntimeWarning)\n",
      "/opt/anaconda2/lib/python2.7/site-packages/rpy2/rinterface/__init__.py:186: RRuntimeWarning: The following objects are masked from ‘package:parallel’:\n",
      "\n",
      "    clusterApply, clusterApplyLB, clusterCall, clusterEvalQ,\n",
      "    clusterExport, clusterMap, parApply, parCapply, parLapply,\n",
      "    parLapplyLB, parRapply, parSapply, parSapplyLB\n",
      "\n",
      "\n",
      "  warnings.warn(x, RRuntimeWarning)\n",
      "/opt/anaconda2/lib/python2.7/site-packages/rpy2/rinterface/__init__.py:186: RRuntimeWarning: The following objects are masked from ‘package:stats’:\n",
      "\n",
      "    IQR, mad, xtabs\n",
      "\n",
      "\n",
      "  warnings.warn(x, RRuntimeWarning)\n",
      "/opt/anaconda2/lib/python2.7/site-packages/rpy2/rinterface/__init__.py:186: RRuntimeWarning: The following objects are masked from ‘package:base’:\n",
      "\n",
      "    anyDuplicated, append, as.data.frame, cbind, colnames, do.call,\n",
      "    duplicated, eval, evalq, Filter, Find, get, grep, grepl, intersect,\n",
      "    is.unsorted, lapply, lengths, Map, mapply, match, mget, order,\n",
      "    paste, pmax, pmax.int, pmin, pmin.int, Position, rank, rbind,\n",
      "    Reduce, rownames, sapply, setdiff, sort, table, tapply, union,\n",
      "    unique, unsplit, which, which.max, which.min\n",
      "\n",
      "\n",
      "  warnings.warn(x, RRuntimeWarning)\n",
      "/opt/anaconda2/lib/python2.7/site-packages/rpy2/rinterface/__init__.py:186: RRuntimeWarning: \n",
      "Attaching package: ‘S4Vectors’\n",
      "\n",
      "\n",
      "  warnings.warn(x, RRuntimeWarning)\n",
      "/opt/anaconda2/lib/python2.7/site-packages/rpy2/rinterface/__init__.py:186: RRuntimeWarning: The following object is masked from ‘package:tidyr’:\n",
      "\n",
      "    expand\n",
      "\n",
      "\n",
      "  warnings.warn(x, RRuntimeWarning)\n",
      "/opt/anaconda2/lib/python2.7/site-packages/rpy2/rinterface/__init__.py:186: RRuntimeWarning: The following objects are masked from ‘package:dplyr’:\n",
      "\n",
      "    first, rename\n",
      "\n",
      "\n",
      "  warnings.warn(x, RRuntimeWarning)\n",
      "/opt/anaconda2/lib/python2.7/site-packages/rpy2/rinterface/__init__.py:186: RRuntimeWarning: The following objects are masked from ‘package:base’:\n",
      "\n",
      "    colMeans, colSums, expand.grid, rowMeans, rowSums\n",
      "\n",
      "\n",
      "  warnings.warn(x, RRuntimeWarning)\n",
      "/opt/anaconda2/lib/python2.7/site-packages/rpy2/rinterface/__init__.py:186: RRuntimeWarning: Loading required package: IRanges\n",
      "\n",
      "  warnings.warn(x, RRuntimeWarning)\n",
      "/opt/anaconda2/lib/python2.7/site-packages/rpy2/rinterface/__init__.py:186: RRuntimeWarning: \n",
      "Attaching package: ‘IRanges’\n",
      "\n",
      "\n",
      "  warnings.warn(x, RRuntimeWarning)\n",
      "/opt/anaconda2/lib/python2.7/site-packages/rpy2/rinterface/__init__.py:186: RRuntimeWarning: The following objects are masked from ‘package:dplyr’:\n",
      "\n",
      "    collapse, desc, regroup, slice\n",
      "\n",
      "\n",
      "  warnings.warn(x, RRuntimeWarning)\n",
      "/opt/anaconda2/lib/python2.7/site-packages/rpy2/rinterface/__init__.py:186: RRuntimeWarning: Loading required package: GenomicRanges\n",
      "\n",
      "  warnings.warn(x, RRuntimeWarning)\n",
      "/opt/anaconda2/lib/python2.7/site-packages/rpy2/rinterface/__init__.py:186: RRuntimeWarning: Loading required package: GenomeInfoDb\n",
      "\n",
      "  warnings.warn(x, RRuntimeWarning)\n",
      "/opt/anaconda2/lib/python2.7/site-packages/rpy2/rinterface/__init__.py:186: RRuntimeWarning: Loading required package: SummarizedExperiment\n",
      "\n",
      "  warnings.warn(x, RRuntimeWarning)\n",
      "/opt/anaconda2/lib/python2.7/site-packages/rpy2/rinterface/__init__.py:186: RRuntimeWarning: Loading required package: Biobase\n",
      "\n",
      "  warnings.warn(x, RRuntimeWarning)\n",
      "/opt/anaconda2/lib/python2.7/site-packages/rpy2/rinterface/__init__.py:186: RRuntimeWarning: Welcome to Bioconductor\n",
      "\n",
      "    Vignettes contain introductory material; view with\n",
      "    'browseVignettes()'. To cite Bioconductor, see\n",
      "    'citation(\"Biobase\")', and for packages 'citation(\"pkgname\")'.\n",
      "\n",
      "\n",
      "  warnings.warn(x, RRuntimeWarning)\n",
      "/opt/anaconda2/lib/python2.7/site-packages/rpy2/rinterface/__init__.py:186: RRuntimeWarning: \n",
      "Attaching package: ‘phyloseq’\n",
      "\n",
      "\n",
      "  warnings.warn(x, RRuntimeWarning)\n",
      "/opt/anaconda2/lib/python2.7/site-packages/rpy2/rinterface/__init__.py:186: RRuntimeWarning: The following object is masked from ‘package:SummarizedExperiment’:\n",
      "\n",
      "    distance\n",
      "\n",
      "\n",
      "  warnings.warn(x, RRuntimeWarning)\n",
      "/opt/anaconda2/lib/python2.7/site-packages/rpy2/rinterface/__init__.py:186: RRuntimeWarning: The following object is masked from ‘package:Biobase’:\n",
      "\n",
      "    sampleNames\n",
      "\n",
      "\n",
      "  warnings.warn(x, RRuntimeWarning)\n",
      "/opt/anaconda2/lib/python2.7/site-packages/rpy2/rinterface/__init__.py:186: RRuntimeWarning: The following object is masked from ‘package:GenomicRanges’:\n",
      "\n",
      "    distance\n",
      "\n",
      "\n",
      "  warnings.warn(x, RRuntimeWarning)\n",
      "/opt/anaconda2/lib/python2.7/site-packages/rpy2/rinterface/__init__.py:186: RRuntimeWarning: The following object is masked from ‘package:IRanges’:\n",
      "\n",
      "    distance\n",
      "\n",
      "\n",
      "  warnings.warn(x, RRuntimeWarning)\n"
     ]
    }
   ],
   "source": [
    "%%R\n",
    "\n",
    "library(ggplot2)\n",
    "library(foreach)\n",
    "library(doParallel)\n",
    "library(gridExtra)\n",
    "library(dplyr)\n",
    "library(tidyr)\n",
    "library(vegan)\n",
    "library(DESeq2)\n",
    "library(phyloseq)"
   ]
  },
  {
   "cell_type": "code",
   "execution_count": 3,
   "metadata": {
    "collapsed": true
   },
   "outputs": [],
   "source": [
    "%%R\n",
    "# set theme for ggplot\n",
    "\n",
    "theme_pub = function (base_size = 11, base_family = \"Helvetica\") \n",
    "{\n",
    "    theme_grey(base_size = base_size, base_family = base_family) %+replace% \n",
    "        theme(\n",
    "            axis.line.x = element_line(size = .5),\n",
    "            axis.line.y = element_line(size = .5),\n",
    "            panel.background = element_rect(fill = \"white\", colour = NA), \n",
    "            panel.border = element_rect(fill = NA, color = \"black\", size = .5), \n",
    "            panel.grid.major = element_blank(), \n",
    "            panel.grid.minor = element_blank(), \n",
    "            strip.background = element_rect(fill = \"grey85\", \n",
    "                colour = \"grey20\"), \n",
    "            legend.key = element_rect(fill = \"white\", \n",
    "                colour = NA), complete = TRUE)\n",
    "    }\n"
   ]
  },
  {
   "cell_type": "markdown",
   "metadata": {},
   "source": [
    "# Loading phyloseq object"
   ]
  },
  {
   "cell_type": "code",
   "execution_count": 4,
   "metadata": {
    "collapsed": true
   },
   "outputs": [],
   "source": [
    "%%R\n",
    "setwd('/home/bryan/ERA/data/MiSeq/20170417_run1/phyloseq/')"
   ]
  },
  {
   "cell_type": "code",
   "execution_count": 5,
   "metadata": {
    "collapsed": false,
    "scrolled": false
   },
   "outputs": [
    {
     "data": {
      "text/plain": [
       "phyloseq-class experiment-level object\n",
       "otu_table()   OTU Table:         [ 4597 taxa and 236 samples ]\n",
       "sample_data() Sample Data:       [ 236 samples by 33 sample variables ]\n",
       "tax_table()   Taxonomy Table:    [ 4597 taxa by 8 taxonomic ranks ]\n",
       "phy_tree()    Phylogenetic Tree: [ 4597 tips and 4596 internal nodes ]\n"
      ]
     },
     "metadata": {},
     "output_type": "display_data"
    }
   ],
   "source": [
    "%%R \n",
    "# loading\n",
    "\n",
    "physeq = readRDS('ERA_snorm.rds')\n",
    "\n",
    "#remove T0, not necessary\n",
    "physeq = subset_samples(physeq, !is.na(Genotype), TRUE)\n",
    "physeq"
   ]
  },
  {
   "cell_type": "code",
   "execution_count": 6,
   "metadata": {
    "collapsed": false
   },
   "outputs": [],
   "source": [
    "%%R\n",
    "sample_data(physeq)$Rep = as.factor(sample_data(physeq)$Rep)\n",
    "sample_data(physeq)$Row = as.factor(sample_data(physeq)$Row)\n",
    "sample_data(physeq)$Fert = as.factor(sample_data(physeq)$Fert)"
   ]
  },
  {
   "cell_type": "code",
   "execution_count": 11,
   "metadata": {
    "collapsed": false,
    "scrolled": true
   },
   "outputs": [
    {
     "data": {
      "text/plain": [
       " [1] \"322\"     \"322U\"    \"330\"     \"339\"     \"3394\"    \"3475\"    \"3475U\"  \n",
       " [8] \"34M95\"   \"34N42\"   \"34N42U\"  \"3517\"    \"354\"     \"3541\"    \"354U\"   \n",
       "[15] \"3618\"    \"Bare\"    \"P1151HR\"\n"
      ]
     },
     "metadata": {},
     "output_type": "display_data"
    }
   ],
   "source": [
    "%%R\n",
    "sample_data(physeq)$Plant %>%\n",
    "    levels"
   ]
  },
  {
   "cell_type": "markdown",
   "metadata": {},
   "source": [
    "* 322, 3475, 34N42, and 354 have plots with both treated and untreated seeds that were sampled at T2"
   ]
  },
  {
   "cell_type": "code",
   "execution_count": 12,
   "metadata": {
    "collapsed": false
   },
   "outputs": [
    {
     "data": {
      "text/plain": [
       "phyloseq-class experiment-level object\n",
       "otu_table()   OTU Table:         [ 4597 taxa and 32 samples ]\n",
       "sample_data() Sample Data:       [ 32 samples by 33 sample variables ]\n",
       "tax_table()   Taxonomy Table:    [ 4597 taxa by 8 taxonomic ranks ]\n",
       "phy_tree()    Phylogenetic Tree: [ 4597 tips and 4596 internal nodes ]\n"
      ]
     },
     "metadata": {},
     "output_type": "display_data"
    }
   ],
   "source": [
    "%%R\n",
    "phy.st = subset_samples(physeq, Genotype %in% c(\"322\", \"3475\", \"34N42\", \"354\") & TimePoint == \"T2\")\n",
    "phy.st"
   ]
  },
  {
   "cell_type": "code",
   "execution_count": 13,
   "metadata": {
    "collapsed": false
   },
   "outputs": [
    {
     "data": {
      "text/plain": [
       "[1] 1936 2003 1953 1984\n"
      ]
     },
     "metadata": {},
     "output_type": "display_data"
    }
   ],
   "source": [
    "%%R\n",
    "sample_data(phy.st)$R_Year %>%\n",
    "    unique"
   ]
  },
  {
   "cell_type": "markdown",
   "metadata": {},
   "source": [
    "* does not include treated plants with multivariate outliers"
   ]
  },
  {
   "cell_type": "markdown",
   "metadata": {},
   "source": [
    "# Calculate distances matrices "
   ]
  },
  {
   "cell_type": "code",
   "execution_count": 14,
   "metadata": {
    "collapsed": false
   },
   "outputs": [],
   "source": [
    "%%R\n",
    "registerDoParallel(cores=28)\n",
    "wunif.dist = phyloseq::distance(phy.st, \n",
    "                      method = \"unifrac\", \n",
    "                      weighted = TRUE,\n",
    "                      fast = TRUE, \n",
    "                      parallel = TRUE, \n",
    "                      normalized = FALSE)"
   ]
  },
  {
   "cell_type": "code",
   "execution_count": 15,
   "metadata": {
    "collapsed": true
   },
   "outputs": [],
   "source": [
    "%%R\n",
    "registerDoParallel(cores=28)\n",
    "bray.dist = distance(phy.st, \n",
    "                      method = \"bray\", \n",
    "                      weighted = FALSE,\n",
    "                      fast = TRUE, \n",
    "                      parallel = TRUE, \n",
    "                      normalized = FALSE)"
   ]
  },
  {
   "cell_type": "code",
   "execution_count": 16,
   "metadata": {
    "collapsed": false
   },
   "outputs": [
    {
     "data": {
      "text/plain": [
       " [1] \"X.sampleID\"      \"TubeID\"          \"ExtractionPlate\" \"PooledDNAPlate\" \n",
       " [5] \"Sample.Well.ID\"  \"PrimerPlate\"     \"Primer.Number\"   \"Primer.Well.ID\" \n",
       " [9] \"X\"               \"primerFwdLoc\"    \"primerRevLoc\"    \"fwd_barcode\"    \n",
       "[13] \"rev_barcode\"     \"PlotID\"          \"TimePoint\"       \"Rep\"            \n",
       "[17] \"Row\"             \"Pos\"             \"Fert\"            \"PlotIndex\"      \n",
       "[21] \"Plant\"           \"Genotype\"        \"SeedTreatment\"   \"R_Year\"         \n",
       "[25] \"ERA\"             \"kgdw_ha\"         \"FracN.leco\"      \"FracC.leco\"     \n",
       "[29] \"d15N\"            \"X15N_AtPercent\"  \"FracN\"           \"FracN_fromSoil\" \n",
       "[33] \"FracN_fromFert\" \n"
      ]
     },
     "metadata": {},
     "output_type": "display_data"
    }
   ],
   "source": [
    "%%R\n",
    "phy.st %>% \n",
    "    sample_data() %>%\n",
    "    colnames()"
   ]
  },
  {
   "cell_type": "code",
   "execution_count": 17,
   "metadata": {
    "collapsed": false,
    "scrolled": true
   },
   "outputs": [
    {
     "data": {
      "text/plain": [
       "[1] \"322\"   \"3475\"  \"34N42\" \"354\"  \n"
      ]
     },
     "metadata": {},
     "output_type": "display_data"
    }
   ],
   "source": [
    "%%R\n",
    "phy.st %>% \n",
    "    sample_data() %>%\n",
    "    .$Genotype %>%\n",
    "    levels()"
   ]
  },
  {
   "cell_type": "markdown",
   "metadata": {},
   "source": [
    "# NMDS of w-Unifrac"
   ]
  },
  {
   "cell_type": "code",
   "execution_count": 18,
   "metadata": {
    "collapsed": false
   },
   "outputs": [
    {
     "data": {
      "text/plain": [
       "Run 0 stress 0.09122349 \n",
       "Run 1 stress 0.09122452 \n",
       "... Procrustes: rmse 0.0004436305  max resid 0.002132104 \n",
       "... Similar to previous best\n",
       "Run 2 stress 0.09122346 \n",
       "... New best solution\n",
       "... Procrustes: rmse 0.0001212909  max resid 0.00054307 \n",
       "... Similar to previous best\n",
       "Run 3 stress 0.09122371 \n",
       "... Procrustes: rmse 0.0002139388  max resid 0.001008933 \n",
       "... Similar to previous best\n",
       "Run 4 stress 0.09122663 \n",
       "... Procrustes: rmse 0.0009815257  max resid 0.004643621 \n",
       "... Similar to previous best\n",
       "Run 5 stress 0.09122377 \n",
       "... Procrustes: rmse 0.0002880704  max resid 0.001383258 \n",
       "... Similar to previous best\n",
       "Run 6 stress 0.09122369 \n",
       "... Procrustes: rmse 0.0002382388  max resid 0.0008187851 \n",
       "... Similar to previous best\n",
       "Run 7 stress 0.09122626 \n",
       "... Procrustes: rmse 0.0009175158  max resid 0.004365326 \n",
       "... Similar to previous best\n",
       "Run 8 stress 0.0912235 \n",
       "... Procrustes: rmse 0.0001177532  max resid 0.0005041125 \n",
       "... Similar to previous best\n",
       "Run 9 stress 0.09122354 \n",
       "... Procrustes: rmse 7.889339e-05  max resid 0.0003117295 \n",
       "... Similar to previous best\n",
       "Run 10 stress 0.09122357 \n",
       "... Procrustes: rmse 0.0001578825  max resid 0.0007089023 \n",
       "... Similar to previous best\n",
       "Run 11 stress 0.09122529 \n",
       "... Procrustes: rmse 0.0007497693  max resid 0.003577899 \n",
       "... Similar to previous best\n",
       "Run 12 stress 0.09122436 \n",
       "... Procrustes: rmse 0.0004195971  max resid 0.001718872 \n",
       "... Similar to previous best\n",
       "Run 13 stress 0.09122424 \n",
       "... Procrustes: rmse 0.0004762047  max resid 0.002224131 \n",
       "... Similar to previous best\n",
       "Run 14 stress 0.09122381 \n",
       "... Procrustes: rmse 0.0003229395  max resid 0.001510637 \n",
       "... Similar to previous best\n",
       "Run 15 stress 0.09122351 \n",
       "... Procrustes: rmse 0.0001217143  max resid 0.0005398174 \n",
       "... Similar to previous best\n",
       "Run 16 stress 0.09122519 \n",
       "... Procrustes: rmse 0.0006919235  max resid 0.003110403 \n",
       "... Similar to previous best\n",
       "Run 17 stress 0.0912241 \n",
       "... Procrustes: rmse 0.0004055202  max resid 0.001955952 \n",
       "... Similar to previous best\n",
       "Run 18 stress 0.09122382 \n",
       "... Procrustes: rmse 0.0001274429  max resid 0.0004365148 \n",
       "... Similar to previous best\n",
       "Run 19 stress 0.0912252 \n",
       "... Procrustes: rmse 0.0007215499  max resid 0.003440814 \n",
       "... Similar to previous best\n",
       "Run 20 stress 0.09122422 \n",
       "... Procrustes: rmse 0.0004560983  max resid 0.001909944 \n",
       "... Similar to previous best\n",
       "*** Solution reached\n"
      ]
     },
     "metadata": {},
     "output_type": "display_data"
    }
   ],
   "source": [
    "%%R\n",
    "## Taking distance matrix and making NNMDS rank values with vegan function metaMDS\n",
    "### k = dimensions (usually 2 or 3 used), trymax can give more attempts to reach solution than the default that phyloseq uses\n",
    "\n",
    "dist.bray.nmds = metaMDS(bray.dist,autotransform=F,k=3,trymax=50)\n",
    "\n",
    "\n"
   ]
  },
  {
   "cell_type": "code",
   "execution_count": 19,
   "metadata": {
    "collapsed": false
   },
   "outputs": [],
   "source": [
    "%%R -w 800 -h 350\n",
    "\n",
    "\n",
    "p = plot_ordination(phy.st, dist.bray.nmds, justDF = TRUE)\n",
    "\n"
   ]
  },
  {
   "cell_type": "code",
   "execution_count": 20,
   "metadata": {
    "collapsed": false
   },
   "outputs": [
    {
     "data": {
      "image/png": "[encoded data removed]"
     },
     "metadata": {},
     "output_type": "display_data"
    }
   ],
   "source": [
    "%%R\n",
    "## generating plots\n",
    "p1 = ggplot(p, aes(x = NMDS1, y = NMDS2)) +\n",
    "        geom_point(aes(fill=SeedTreatment), pch = 21, size = 3)\n",
    "        #scale_size(range=c(2,8))\n",
    "\n",
    "#p2 = ggplot(p, aes(x = NMDS1, y = NMDS2)) +\n",
    "        #geom_point(aes(fill=Plant, size = BD), pch=21) +\n",
    "        #scale_size(range=c(2,8))\n",
    "\n",
    "grid.arrange(p1, ncol=1)"
   ]
  },
  {
   "cell_type": "markdown",
   "metadata": {},
   "source": [
    "# Adonis testing treatment effects"
   ]
  },
  {
   "cell_type": "markdown",
   "metadata": {},
   "source": [
    "* Weighted UniFrac"
   ]
  },
  {
   "cell_type": "code",
   "execution_count": 21,
   "metadata": {
    "collapsed": false,
    "scrolled": true
   },
   "outputs": [
    {
     "data": {
      "text/plain": [
       "\n",
       "Call:\n",
       "adonis(formula = d ~ Rep + Genotype + SeedTreatment, data = df,      permutations = 999) \n",
       "\n",
       "Permutation: free\n",
       "Number of permutations: 999\n",
       "\n",
       "Terms added sequentially (first to last)\n",
       "\n",
       "              Df SumsOfSqs   MeanSqs F.Model      R2 Pr(>F)   \n",
       "Rep            3  0.039066 0.0130221 2.22384 0.19478  0.004 **\n",
       "Genotype       3  0.014107 0.0047024 0.80304 0.07034  0.740   \n",
       "SeedTreatment  1  0.006854 0.0068542 1.17052 0.03417  0.258   \n",
       "Residuals     24  0.140536 0.0058557         0.70071          \n",
       "Total         31  0.200564                   1.00000          \n",
       "---\n",
       "Signif. codes:  0 ‘***’ 0.001 ‘**’ 0.01 ‘*’ 0.05 ‘.’ 0.1 ‘ ’ 1\n"
      ]
     },
     "metadata": {},
     "output_type": "display_data"
    }
   ],
   "source": [
    "%%R\n",
    "set.seed(101)\n",
    "\n",
    "df = as(sample_data(phy.st), \"data.frame\")\n",
    "d = wunif.dist\n",
    "#df$Fert = as.factor(df$Fert)\n",
    "Fulladonis = adonis(formula = d ~ Rep + Genotype + SeedTreatment, df, \n",
    "                    permutations = 999)\n",
    "Fulladonis"
   ]
  },
  {
   "cell_type": "markdown",
   "metadata": {},
   "source": [
    "* Using unweighted bray-curtis distance"
   ]
  },
  {
   "cell_type": "code",
   "execution_count": 22,
   "metadata": {
    "collapsed": false,
    "scrolled": true
   },
   "outputs": [
    {
     "data": {
      "text/plain": [
       "\n",
       "Call:\n",
       "adonis(formula = d ~ Rep + Genotype + SeedTreatment, data = df,      permutations = 999) \n",
       "\n",
       "Permutation: free\n",
       "Number of permutations: 999\n",
       "\n",
       "Terms added sequentially (first to last)\n",
       "\n",
       "              Df SumsOfSqs  MeanSqs F.Model      R2 Pr(>F)    \n",
       "Rep            3   0.25236 0.084121 2.08913 0.18367  0.001 ***\n",
       "Genotype       3   0.11705 0.039018 0.96901 0.08519  0.546    \n",
       "SeedTreatment  1   0.03823 0.038230 0.94943 0.02782  0.489    \n",
       "Residuals     24   0.96638 0.040266         0.70332           \n",
       "Total         31   1.37403                  1.00000           \n",
       "---\n",
       "Signif. codes:  0 ‘***’ 0.001 ‘**’ 0.01 ‘*’ 0.05 ‘.’ 0.1 ‘ ’ 1\n"
      ]
     },
     "metadata": {},
     "output_type": "display_data"
    }
   ],
   "source": [
    "%%R\n",
    "set.seed(101)\n",
    "\n",
    "df = as(sample_data(phy.st), \"data.frame\")\n",
    "d = bray.dist\n",
    "#df$Fert = as.factor(df$Fert)\n",
    "Fulladonis = adonis(formula = d ~ Rep + Genotype + SeedTreatment, df, \n",
    "                    permutations = 999)\n",
    "Fulladonis"
   ]
  },
  {
   "cell_type": "markdown",
   "metadata": {},
   "source": [
    "* unweighted UniFrac"
   ]
  },
  {
   "cell_type": "code",
   "execution_count": 23,
   "metadata": {
    "collapsed": false
   },
   "outputs": [
    {
     "data": {
      "text/plain": [
       "\n",
       "Call:\n",
       "adonis(formula = d ~ Rep + Genotype * SeedTreatment, data = df,      permutations = 999) \n",
       "\n",
       "Permutation: free\n",
       "Number of permutations: 999\n",
       "\n",
       "Terms added sequentially (first to last)\n",
       "\n",
       "                       Df SumsOfSqs   MeanSqs F.Model      R2 Pr(>F)   \n",
       "Rep                     3  0.039066 0.0130221 2.28722 0.19478  0.004 **\n",
       "Genotype                3  0.014107 0.0047024 0.82593 0.07034  0.706   \n",
       "SeedTreatment           1  0.006854 0.0068542 1.20388 0.03417  0.246   \n",
       "Genotype:SeedTreatment  3  0.020975 0.0069915 1.22800 0.10458  0.211   \n",
       "Residuals              21  0.119562 0.0056934         0.59613          \n",
       "Total                  31  0.200564                   1.00000          \n",
       "---\n",
       "Signif. codes:  0 ‘***’ 0.001 ‘**’ 0.01 ‘*’ 0.05 ‘.’ 0.1 ‘ ’ 1\n"
      ]
     },
     "metadata": {},
     "output_type": "display_data"
    }
   ],
   "source": [
    "%%R\n",
    "set.seed(101)\n",
    "\n",
    "df = as(sample_data(phy.st), \"data.frame\")\n",
    "d = wunif.dist\n",
    "#df$Fert = as.factor(df$Fert)\n",
    "Fulladonis = adonis(formula = d ~ Rep + Genotype*SeedTreatment, df, \n",
    "                    permutations = 999)\n",
    "Fulladonis"
   ]
  },
  {
   "cell_type": "markdown",
   "metadata": {},
   "source": [
    "* SeedTreatment is not significant with any distance matrix."
   ]
  },
  {
   "cell_type": "code",
   "execution_count": 25,
   "metadata": {
    "collapsed": false
   },
   "outputs": [],
   "source": [
    "%%R\n",
    "ordMean = p %>% \n",
    "    group_by(Genotype, R_Year, SeedTreatment) %>%\n",
    "    summarize(mAxis.1 = mean(NMDS1),\n",
    "                seAxis.1 = sd(NMDS1)/sqrt(length(NMDS1)),\n",
    "             mAxis.2 = mean(NMDS2), \n",
    "             seAxis.2 = sd(NMDS2)/sqrt(length(NMDS2)))"
   ]
  },
  {
   "cell_type": "code",
   "execution_count": 32,
   "metadata": {
    "collapsed": false
   },
   "outputs": [
    {
     "data": {
      "image/png": "[encoded data removed]"
     },
     "metadata": {},
     "output_type": "display_data"
    }
   ],
   "source": [
    "%%R -w 800 -h 400\n",
    "p1 = ggplot(ordMean, aes(x = mAxis.1, y = mAxis.2, label = R_Year, color = SeedTreatment)) +\n",
    "    geom_point()+\n",
    "    theme_pub()+\n",
    "    geom_errorbar(aes(ymin = mAxis.2 - seAxis.2, ymax = mAxis.2 + seAxis.2),      \n",
    "                color = \"black\",\n",
    "                width = .002) +\n",
    "    geom_errorbarh(aes(xmin = mAxis.1 - seAxis.1, xmax = mAxis.1 + seAxis.1),color = \"black\",\n",
    "                height = .002)+\n",
    "    geom_label(aes(color = SeedTreatment)) +\n",
    "    theme(legend.position = \"none\")+\n",
    "    xlab(\"NMDS1\")+\n",
    "    ylab(\"NMDS2\")\n",
    "p1"
   ]
  },
  {
   "cell_type": "code",
   "execution_count": 31,
   "metadata": {
    "collapsed": false
   },
   "outputs": [
    {
     "data": {
      "image/png": "[encoded data removed]"
     },
     "metadata": {},
     "output_type": "display_data"
    }
   ],
   "source": [
    "%%R -w 800 -h 400\n",
    "p2 = ggplot(p, aes(x = NMDS1, y = NMDS2, label = R_Year, color = SeedTreatment)) +\n",
    "    geom_point()+\n",
    "    theme_pub()+\n",
    "    geom_text(aes(color = SeedTreatment)) +\n",
    "    #theme(legend.position = \"none\")+\n",
    "    xlab(\"NMDS1\")+\n",
    "    ylab(\"NMDS2\")\n",
    "p2"
   ]
  },
  {
   "cell_type": "code",
   "execution_count": null,
   "metadata": {
    "collapsed": true
   },
   "outputs": [],
   "source": [
    "* No detectable influence of seed treatment on overall community"
   ]
  },
  {
   "cell_type": "code",
   "execution_count": 33,
   "metadata": {
    "collapsed": false
   },
   "outputs": [
    {
     "data": {
      "image/png": "[encoded data removed]"
     },
     "metadata": {},
     "output_type": "display_data"
    }
   ],
   "source": [
    "%%R\n",
    "grid.arrange(p1, p2, ncol = 1)"
   ]
  },
  {
   "cell_type": "code",
   "execution_count": null,
   "metadata": {
    "collapsed": true
   },
   "outputs": [],
   "source": []
  },
  {
   "cell_type": "markdown",
   "metadata": {},
   "source": [
    "# DESeq2 analysis "
   ]
  },
  {
   "cell_type": "code",
   "execution_count": 34,
   "metadata": {
    "collapsed": false,
    "scrolled": false
   },
   "outputs": [
    {
     "data": {
      "text/plain": [
       "phyloseq-class experiment-level object\n",
       "otu_table()   OTU Table:         [ 4597 taxa and 32 samples ]\n",
       "sample_data() Sample Data:       [ 32 samples by 33 sample variables ]\n",
       "tax_table()   Taxonomy Table:    [ 4597 taxa by 8 taxonomic ranks ]\n",
       "phy_tree()    Phylogenetic Tree: [ 4597 tips and 4596 internal nodes ]\n"
      ]
     },
     "metadata": {},
     "output_type": "display_data"
    }
   ],
   "source": [
    "%%R \n",
    "# loading raw counts for DESeq\n",
    "\n",
    "phy.thresh = readRDS('ERA_thresh.rds')\n",
    "\n",
    "#Subset to T2\n",
    "phy.thresh = subset_samples(phy.thresh, Genotype %in% c(\"322\", \"3475\", \"34N42\", \"354\") & TimePoint == \"T2\")\n",
    "phy.thresh"
   ]
  },
  {
   "cell_type": "code",
   "execution_count": 35,
   "metadata": {
    "collapsed": false
   },
   "outputs": [],
   "source": [
    "%%R\n",
    "sample_data(phy.thresh)$Rep = as.factor(sample_data(phy.thresh)$Rep)\n",
    "sample_data(phy.thresh)$Row = as.factor(sample_data(phy.thresh)$Row)\n",
    "sample_data(phy.thresh)$Fert = as.factor(sample_data(phy.thresh)$Fert)"
   ]
  },
  {
   "cell_type": "code",
   "execution_count": 36,
   "metadata": {
    "collapsed": false
   },
   "outputs": [
    {
     "name": "stderr",
     "output_type": "stream",
     "text": [
      "/opt/anaconda2/lib/python2.7/site-packages/rpy2/rinterface/__init__.py:186: RRuntimeWarning: converting counts to integer mode\n",
      "\n",
      "  warnings.warn(x, RRuntimeWarning)\n",
      "/opt/anaconda2/lib/python2.7/site-packages/rpy2/rinterface/__init__.py:186: RRuntimeWarning: estimating size factors\n",
      "\n",
      "  warnings.warn(x, RRuntimeWarning)\n",
      "/opt/anaconda2/lib/python2.7/site-packages/rpy2/rinterface/__init__.py:186: RRuntimeWarning: estimating dispersions\n",
      "\n",
      "  warnings.warn(x, RRuntimeWarning)\n",
      "/opt/anaconda2/lib/python2.7/site-packages/rpy2/rinterface/__init__.py:186: RRuntimeWarning: gene-wise dispersion estimates: 38 workers\n",
      "\n",
      "  warnings.warn(x, RRuntimeWarning)\n",
      "/opt/anaconda2/lib/python2.7/site-packages/rpy2/rinterface/__init__.py:186: RRuntimeWarning: mean-dispersion relationship\n",
      "\n",
      "  warnings.warn(x, RRuntimeWarning)\n",
      "/opt/anaconda2/lib/python2.7/site-packages/rpy2/rinterface/__init__.py:186: RRuntimeWarning: final dispersion estimates, MLE betas: 38 workers\n",
      "\n",
      "  warnings.warn(x, RRuntimeWarning)\n",
      "/opt/anaconda2/lib/python2.7/site-packages/rpy2/rinterface/__init__.py:186: RRuntimeWarning: fitting model and testing: 38 workers\n",
      "\n",
      "  warnings.warn(x, RRuntimeWarning)\n"
     ]
    },
    {
     "data": {
      "text/plain": [
       "[1] \"Intercept\"              \"Rep1\"                   \"Rep2\"                  \n",
       "[4] \"Rep3\"                   \"Rep4\"                   \"SeedTreatmentTreated\"  \n",
       "[7] \"SeedTreatmentUntreated\"\n"
      ]
     },
     "metadata": {},
     "output_type": "display_data"
    }
   ],
   "source": [
    "%%R\n",
    "dds = phyloseq_to_deseq2(phy.thresh, ~Rep + SeedTreatment)\n",
    "d_dds = DESeq(dds, parallel = TRUE)\n",
    "resultsNames(d_dds) %>% print\n",
    "res = results(d_dds, independentFiltering = TRUE)\n",
    "DF = res\n",
    "supp = tax_table(phy.thresh)\n",
    "            if (!setequal(row.names(supp), row.names(DF))) {\n",
    "            stop(\"Ordination and supplementary data indices differ on the following:\\n.\",\n",
    "            setdiff(row.names(DF), row.names(supp)))\n",
    "        }  \n",
    "\n",
    "        DF = data.frame(DF, supp)\n",
    "        DF$OTU = rownames(DF)\n",
    "\n",
    "DF$Test = \"ST\"\n",
    "        ST = DF"
   ]
  },
  {
   "cell_type": "code",
   "execution_count": 37,
   "metadata": {
    "collapsed": false
   },
   "outputs": [
    {
     "data": {
      "image/png": "[encoded data removed]"
     },
     "metadata": {},
     "output_type": "display_data"
    }
   ],
   "source": [
    "%%R\n",
    "\n",
    "plotMA(res, main=\"DESeq2\")"
   ]
  },
  {
   "cell_type": "code",
   "execution_count": 38,
   "metadata": {
    "collapsed": false
   },
   "outputs": [
    {
     "data": {
      "image/png": "[encoded data removed]"
     },
     "metadata": {},
     "output_type": "display_data"
    }
   ],
   "source": [
    "%%R\n",
    "sigtab = ST %>% filter(padj < 0.1)\n",
    "x = tapply(sigtab$log2FoldChange, sigtab$Rank4, function(x) max(x))\n",
    "x = sort(x, TRUE)\n",
    "sigtab$Rank4 = factor(as.character(sigtab$Rank4), levels=names(x))\n",
    "# x = tapply(sigtab$log2FoldChange, sigtab$Rank3, function(x) max(x))\n",
    "# x = sort(x, TRUE)\n",
    "# sigtab$Rank3 = factor(as.character(sigtab$Rank3), levels=names(x))\n",
    "    \n",
    "p2 = ggplot(sigtab, aes(x=Rank4, y=log2FoldChange, size = baseMean)) + \n",
    "    geom_point(aes(color = Rank2))+\n",
    "  theme_pub() +\n",
    "  theme(axis.text.x = element_text(angle = -90, hjust = 0, vjust=0.5)) + \n",
    "    ggtitle(\"OTUs correlated with seed treatment\")  +\n",
    "   theme(legend.position=\"right\")\n",
    "#x = tapply(sigtab$log2FoldChange, sigtab$Rank2, function(x) max(x))\n",
    "#x = sort(x, TRUE)\n",
    "#x\n",
    "    p2"
   ]
  },
  {
   "cell_type": "code",
   "execution_count": null,
   "metadata": {
    "collapsed": true
   },
   "outputs": [],
   "source": []
  },
  {
   "cell_type": "markdown",
   "metadata": {},
   "source": [
    "## ADONIS at T2"
   ]
  },
  {
   "cell_type": "code",
   "execution_count": 114,
   "metadata": {
    "collapsed": false
   },
   "outputs": [],
   "source": [
    "%%R\n",
    "# subset phyloseq object\n",
    "physeq.plantT2 = subset_samples(physeq,  Planted == \"Rhizosphere\" & TimePoint == \"T2\" & SeedTreatment == \"Treated\")\n",
    "physeq.plantT2\n",
    "\n",
    "# create unifrac distance matrix\n",
    "registerDoParallel(cores=28)\n",
    "T2.wunif.dist = distance(physeq.plantT2, \n",
    "                      method = \"unifrac\", \n",
    "                      weighted = TRUE,\n",
    "                      fast = TRUE, \n",
    "                      parallel = TRUE, \n",
    "                      normalized = FALSE)"
   ]
  },
  {
   "cell_type": "code",
   "execution_count": 115,
   "metadata": {
    "collapsed": false,
    "scrolled": false
   },
   "outputs": [
    {
     "data": {
      "text/plain": [
       "\n",
       "Call:\n",
       "adonis(formula = d ~ Rep + ERA, data = df, permutations = 999) \n",
       "\n",
       "Permutation: free\n",
       "Number of permutations: 999\n",
       "\n",
       "Terms added sequentially (first to last)\n",
       "\n",
       "          Df SumsOfSqs   MeanSqs F.Model      R2 Pr(>F)    \n",
       "Rep        3   0.06037 0.0201233 2.96292 0.16953  0.001 ***\n",
       "ERA        1   0.00370 0.0036972 0.54438 0.01038  0.869    \n",
       "Residuals 43   0.29204 0.0067917         0.82009           \n",
       "Total     47   0.35611                   1.00000           \n",
       "---\n",
       "Signif. codes:  0 ‘***’ 0.001 ‘**’ 0.01 ‘*’ 0.05 ‘.’ 0.1 ‘ ’ 1\n"
      ]
     },
     "metadata": {},
     "output_type": "display_data"
    }
   ],
   "source": [
    "%%R\n",
    "set.seed(101)\n",
    "\n",
    "df = as(sample_data(physeq.plantT2), \"data.frame\")\n",
    "d = T2.wunif.dist\n",
    "T2adonis = adonis(formula = d ~ Rep + ERA, df, permutations = 999)\n",
    "T2adonis"
   ]
  },
  {
   "cell_type": "code",
   "execution_count": null,
   "metadata": {
    "collapsed": true
   },
   "outputs": [],
   "source": []
  },
  {
   "cell_type": "code",
   "execution_count": 87,
   "metadata": {
    "collapsed": false
   },
   "outputs": [],
   "source": [
    "%%R\n",
    "# subset phyloseq object\n",
    "physeq.plantT2 = subset_samples(physeq,  Planted == \"Rhizosphere\" & TimePoint == \"T2\" & SeedTreatment == \"Untreated\")\n",
    "physeq.plantT2\n",
    "\n",
    "# create unifrac distance matrix\n",
    "registerDoParallel(cores=28)\n",
    "T2.wunif.dist = distance(physeq.plantT2, \n",
    "                      method = \"unifrac\", \n",
    "                      weighted = TRUE,\n",
    "                      fast = TRUE, \n",
    "                      parallel = TRUE, \n",
    "                      normalized = FALSE)"
   ]
  },
  {
   "cell_type": "code",
   "execution_count": 88,
   "metadata": {
    "collapsed": false,
    "scrolled": false
   },
   "outputs": [
    {
     "data": {
      "text/plain": [
       "\n",
       "Call:\n",
       "adonis(formula = d ~ Rep + Genotype, data = df, permutations = 999) \n",
       "\n",
       "Permutation: free\n",
       "Number of permutations: 999\n",
       "\n",
       "Terms added sequentially (first to last)\n",
       "\n",
       "          Df SumsOfSqs   MeanSqs F.Model      R2 Pr(>F)\n",
       "Rep        3  0.025821 0.0086071 1.29121 0.24405  0.199\n",
       "Genotype   3  0.019987 0.0066624 0.99947 0.18891  0.471\n",
       "Residuals  9  0.059993 0.0066659         0.56703       \n",
       "Total     15  0.105802                   1.00000       \n"
      ]
     },
     "metadata": {},
     "output_type": "display_data"
    }
   ],
   "source": [
    "%%R\n",
    "set.seed(101)\n",
    "\n",
    "df = as(sample_data(physeq.plantT2), \"data.frame\")\n",
    "d = T2.wunif.dist\n",
    "T2adonis = adonis(formula = d ~ Rep + Genotype, df, permutations = 999)\n",
    "T2adonis"
   ]
  },
  {
   "cell_type": "markdown",
   "metadata": {},
   "source": [
    "# T3"
   ]
  },
  {
   "cell_type": "code",
   "execution_count": 79,
   "metadata": {
    "collapsed": false
   },
   "outputs": [],
   "source": [
    "%%R\n",
    "# subset phyloseq object\n",
    "physeq.plantT3 = subset_samples(physeq,  Planted == \"Rhizosphere\" & TimePoint == \"T3\")\n",
    "physeq.plantT3\n",
    "\n",
    "# create unifrac distance matrix\n",
    "registerDoParallel(cores=28)\n",
    "T3.wunif.dist = distance(physeq.plantT3, \n",
    "                      method = \"unifrac\", \n",
    "                      weighted = TRUE,\n",
    "                      fast = TRUE, \n",
    "                      parallel = TRUE, \n",
    "                      normalized = FALSE)"
   ]
  },
  {
   "cell_type": "code",
   "execution_count": 81,
   "metadata": {
    "collapsed": false,
    "scrolled": false
   },
   "outputs": [
    {
     "data": {
      "text/plain": [
       "\n",
       "Call:\n",
       "adonis(formula = d ~ Rep + Genotype * Fert, data = df, permutations = 999) \n",
       "\n",
       "Permutation: free\n",
       "Number of permutations: 999\n",
       "\n",
       "Terms added sequentially (first to last)\n",
       "\n",
       "              Df SumsOfSqs  MeanSqs F.Model      R2 Pr(>F)    \n",
       "Rep            3   0.05344 0.017813  2.8936 0.09583  0.001 ***\n",
       "Genotype       5   0.04636 0.009272  1.5062 0.08314  0.031 *  \n",
       "Fert           2   0.08259 0.041293  6.7076 0.14810  0.001 ***\n",
       "Genotype:Fert 10   0.06128 0.006128  0.9954 0.10989  0.508    \n",
       "Residuals     51   0.31396 0.006156         0.56303           \n",
       "Total         71   0.55763                  1.00000           \n",
       "---\n",
       "Signif. codes:  0 ‘***’ 0.001 ‘**’ 0.01 ‘*’ 0.05 ‘.’ 0.1 ‘ ’ 1\n"
      ]
     },
     "metadata": {},
     "output_type": "display_data"
    }
   ],
   "source": [
    "%%R\n",
    "set.seed(101)\n",
    "\n",
    "df = as(sample_data(physeq.plantT3), \"data.frame\")\n",
    "d = T3.wunif.dist\n",
    "T3adonis = adonis(formula = d ~ Rep + Genotype*Fert, df, permutations = 999)\n",
    "T3adonis"
   ]
  },
  {
   "cell_type": "markdown",
   "metadata": {},
   "source": [
    "## Ordinate "
   ]
  },
  {
   "cell_type": "code",
   "execution_count": 107,
   "metadata": {
    "collapsed": true
   },
   "outputs": [],
   "source": [
    "%%R\n",
    "# subset phyloseq object\n",
    "physeq.plantT2 = subset_samples(physeq,  Planted == \"Rhizosphere\" & TimePoint == \"T2\")\n",
    "physeq.plantT2\n",
    "\n",
    "# create unifrac distance matrix\n",
    "registerDoParallel(cores=28)\n",
    "bray = distance(physeq.plantT2, \n",
    "                      method = \"bray\", \n",
    "                      weighted = TRUE,\n",
    "                      fast = TRUE, \n",
    "                      parallel = TRUE, \n",
    "                      normalized = FALSE)"
   ]
  },
  {
   "cell_type": "code",
   "execution_count": 110,
   "metadata": {
    "collapsed": false
   },
   "outputs": [],
   "source": [
    "%%R -w 800 -h 350\n",
    "\n",
    "pcoa = ordinate(physeq.plantT2, \n",
    "                method = \"PCoA\", \n",
    "                distance = bray)\n",
    "\n",
    "p = plot_ordination(physeq, pcoa, justDF = TRUE)"
   ]
  },
  {
   "cell_type": "code",
   "execution_count": 117,
   "metadata": {
    "collapsed": false,
    "scrolled": true
   },
   "outputs": [
    {
     "data": {
      "image/png": "[encoded data removed]"
     },
     "metadata": {},
     "output_type": "display_data"
    }
   ],
   "source": [
    "%%R\n",
    "p1 = ggplot(subset(p, SeedTreatment == \"Treated\"), aes(x = Axis.1, y = Axis.2)) +\n",
    "        geom_point(aes(color=R_Year, shape = SeedTreatment, size = kgdw_ha))\n",
    "        \n",
    "p1"
   ]
  },
  {
   "cell_type": "code",
   "execution_count": 117,
   "metadata": {
    "collapsed": false,
    "scrolled": true
   },
   "outputs": [
    {
     "data": {
      "image/png": "[encoded data removed]"
     },
     "metadata": {},
     "output_type": "display_data"
    }
   ],
   "source": [
    "%%R\n",
    "p1 = ggplot(subset(p, SeedTreatment == \"Treated\"), aes(x = Axis.1, y = Axis.2)) +\n",
    "        geom_point(aes(color=R_Year, shape = SeedTreatment, size = kgdw_ha))\n",
    "        \n",
    "p1"
   ]
  },
  {
   "cell_type": "markdown",
   "metadata": {},
   "source": [
    "# T3"
   ]
  },
  {
   "cell_type": "code",
   "execution_count": 118,
   "metadata": {
    "collapsed": false
   },
   "outputs": [
    {
     "data": {
      "text/plain": [
       "phyloseq-class experiment-level object\n",
       "otu_table()   OTU Table:         [ 4594 taxa and 72 samples ]\n",
       "sample_data() Sample Data:       [ 72 samples by 33 sample variables ]\n",
       "tax_table()   Taxonomy Table:    [ 4594 taxa by 8 taxonomic ranks ]\n",
       "phy_tree()    Phylogenetic Tree: [ 4594 tips and 4593 internal nodes ]\n"
      ]
     },
     "metadata": {},
     "output_type": "display_data"
    }
   ],
   "source": [
    "%%R\n",
    "# subset phyloseq object\n",
    "physeq.plantT3 = subset_samples(physeq,  Planted == \"Rhizosphere\" & TimePoint == \"T3\")\n",
    "physeq.plantT3\n",
    "\n",
    "# # create unifrac distance matrix\n",
    "# registerDoParallel(cores=28)\n",
    "# bray = distance(physeq.plantT3, \n",
    "#                       method = \"bray\", \n",
    "#                       weighted = TRUE,\n",
    "#                       fast = TRUE, \n",
    "#                       parallel = TRUE, \n",
    "#                       normalized = FALSE)\n",
    "\n",
    "\n"
   ]
  },
  {
   "cell_type": "code",
   "execution_count": 120,
   "metadata": {
    "collapsed": false
   },
   "outputs": [
    {
     "data": {
      "image/png": "[encoded data removed]"
     },
     "metadata": {},
     "output_type": "display_data"
    }
   ],
   "source": [
    "%%R\n",
    "pcoa = ordinate(physeq.plantT3, \n",
    "                method = \"PCoA\", \n",
    "                distance = bray)\n",
    "\n",
    "p = plot_ordination(physeq, pcoa, justDF = TRUE)\n",
    "\n",
    "p1 = ggplot(p, aes(x = Axis.1, y = Axis.2)) +\n",
    "        geom_point(aes(color=R_Year, shape = Fert, size = kgdw_ha))\n",
    "        \n",
    "p1\n"
   ]
  },
  {
   "cell_type": "markdown",
   "metadata": {},
   "source": [
    "# Mantel tests"
   ]
  },
  {
   "cell_type": "markdown",
   "metadata": {},
   "source": [
    "## T1"
   ]
  },
  {
   "cell_type": "code",
   "execution_count": 121,
   "metadata": {
    "collapsed": false
   },
   "outputs": [
    {
     "data": {
      "text/plain": [
       "phyloseq-class experiment-level object\n",
       "otu_table()   OTU Table:         [ 4594 taxa and 72 samples ]\n",
       "sample_data() Sample Data:       [ 72 samples by 33 sample variables ]\n",
       "tax_table()   Taxonomy Table:    [ 4594 taxa by 8 taxonomic ranks ]\n",
       "phy_tree()    Phylogenetic Tree: [ 4594 tips and 4593 internal nodes ]\n"
      ]
     },
     "metadata": {},
     "output_type": "display_data"
    }
   ],
   "source": [
    "%%R\n",
    "phy = subset_samples(physeq, Planted == \"Rhizosphere\" & TimePoint == \"T1\")\n",
    "phy"
   ]
  },
  {
   "cell_type": "markdown",
   "metadata": {},
   "source": [
    "* generate distance matrices\n"
   ]
  },
  {
   "cell_type": "code",
   "execution_count": 138,
   "metadata": {
    "collapsed": true
   },
   "outputs": [],
   "source": [
    "%%R\n",
    "\n",
    "registerDoParallel(cores=28)\n",
    "\n",
    "Time.wunif.dist = phyloseq::distance(phy, \n",
    "                      method = \"unifrac\", \n",
    "                      weighted = TRUE,\n",
    "                      fast = TRUE, \n",
    "                      parallel = TRUE, \n",
    "                      normalized = FALSE)\n",
    "\n",
    "Time.bray.dist = phyloseq::distance(phy, \n",
    "                      method = \"bray\", \n",
    "                      weighted = TRUE,\n",
    "                      fast = TRUE, \n",
    "                      parallel = TRUE, \n",
    "                      normalized = FALSE)"
   ]
  },
  {
   "cell_type": "code",
   "execution_count": 137,
   "metadata": {
    "collapsed": false
   },
   "outputs": [
    {
     "data": {
      "text/plain": [
       "\n",
       "Partial Mantel statistic based on Pearson's product-moment correlation \n",
       "\n",
       "Call:\n",
       "mantel.partial(xdis = Time.bray.dist, ydis = Yd, zdis = Rd, method = \"pearson\",      permutations = 999) \n",
       "\n",
       "Mantel statistic r: 0.04811 \n",
       "      Significance: 0.113 \n",
       "\n",
       "Upper quantiles of permutations (null model):\n",
       "   90%    95%  97.5%    99% \n",
       "0.0506 0.0668 0.0784 0.0940 \n",
       "Permutation: free\n",
       "Number of permutations: 999\n",
       "\n"
      ]
     },
     "metadata": {},
     "output_type": "display_data"
    },
    {
     "data": {
      "image/png": "[encoded data removed]"
     },
     "metadata": {},
     "output_type": "display_data"
    }
   ],
   "source": [
    "%%R\n",
    "#Test on soil activity/rhizosphere effect\n",
    "Sd = sample_data(phy)\n",
    "\n",
    "# Generate distance matrix of year of release\n",
    "Yd = dist(Sd[,\"R_Year\"], method = \"euclidian\")\n",
    "hist(Yd)\n",
    "\n",
    "# generate distance matrix of rep and change all values > 1 to 1\n",
    "Rd = dist(Sd[,\"Rep\"])\n",
    "Rd[Rd > 1] <- 1\n",
    "\n",
    "\n",
    "M1 = mantel.partial(Time.wunif.dist, Yd, Rd, method=\"pearson\", permutations=999)\n",
    "M1\n",
    "#Model is not significant within T1 "
   ]
  },
  {
   "cell_type": "markdown",
   "metadata": {},
   "source": [
    "## T2"
   ]
  },
  {
   "cell_type": "code",
   "execution_count": 139,
   "metadata": {
    "collapsed": false
   },
   "outputs": [
    {
     "data": {
      "text/plain": [
       "phyloseq-class experiment-level object\n",
       "otu_table()   OTU Table:         [ 4594 taxa and 48 samples ]\n",
       "sample_data() Sample Data:       [ 48 samples by 33 sample variables ]\n",
       "tax_table()   Taxonomy Table:    [ 4594 taxa by 8 taxonomic ranks ]\n",
       "phy_tree()    Phylogenetic Tree: [ 4594 tips and 4593 internal nodes ]\n"
      ]
     },
     "metadata": {},
     "output_type": "display_data"
    }
   ],
   "source": [
    "%%R\n",
    "# subset phyloseq object to just rhizosphere plants, time point 2 and only treated seeds\n",
    "phy = subset_samples(physeq, Planted == \"Rhizosphere\" & TimePoint == \"T2\" & SeedTreatment == \"Treated\")\n",
    "phy"
   ]
  },
  {
   "cell_type": "markdown",
   "metadata": {},
   "source": [
    "* generate distance matrices\n"
   ]
  },
  {
   "cell_type": "code",
   "execution_count": 140,
   "metadata": {
    "collapsed": true
   },
   "outputs": [],
   "source": [
    "%%R\n",
    "\n",
    "registerDoParallel(cores=28)\n",
    "\n",
    "Time.wunif.dist = phyloseq::distance(phy, \n",
    "                      method = \"unifrac\", \n",
    "                      weighted = TRUE,\n",
    "                      fast = TRUE, \n",
    "                      parallel = TRUE, \n",
    "                      normalized = FALSE)\n",
    "\n",
    "Time.bray.dist = phyloseq::distance(phy, \n",
    "                      method = \"bray\", \n",
    "                      weighted = TRUE,\n",
    "                      fast = TRUE, \n",
    "                      parallel = TRUE, \n",
    "                      normalized = FALSE)"
   ]
  },
  {
   "cell_type": "code",
   "execution_count": 144,
   "metadata": {
    "collapsed": false,
    "scrolled": true
   },
   "outputs": [
    {
     "data": {
      "text/plain": [
       "\n",
       "Partial Mantel statistic based on Pearson's product-moment correlation \n",
       "\n",
       "Call:\n",
       "mantel.partial(xdis = Time.bray.dist, ydis = Yd, zdis = Rd, method = \"pearson\",      permutations = 999) \n",
       "\n",
       "Mantel statistic r: -0.06027 \n",
       "      Significance: 0.889 \n",
       "\n",
       "Upper quantiles of permutations (null model):\n",
       "   90%    95%  97.5%    99% \n",
       "0.0676 0.0818 0.0972 0.1220 \n",
       "Permutation: free\n",
       "Number of permutations: 999\n",
       "\n"
      ]
     },
     "metadata": {},
     "output_type": "display_data"
    },
    {
     "data": {
      "image/png": "[encoded data removed]"
     },
     "metadata": {},
     "output_type": "display_data"
    }
   ],
   "source": [
    "%%R\n",
    "#Test on soil activity/rhizosphere effect\n",
    "Sd = sample_data(phy)\n",
    "\n",
    "# Generate distance matrix of year of release\n",
    "Yd = dist(Sd[,\"R_Year\"], method = \"euclidian\")\n",
    "hist(Yd)\n",
    "\n",
    "# generate distance matrix of rep and change all values > 1 to 1\n",
    "Rd = dist(Sd[,\"Rep\"])\n",
    "Rd[Rd > 1] <- 1\n",
    "\n",
    "\n",
    "M1 = mantel.partial(Time.bray.dist, Yd, Rd, method=\"pearson\", permutations=999)\n",
    "M1\n",
    "#Model is not significant within T2"
   ]
  },
  {
   "cell_type": "markdown",
   "metadata": {},
   "source": [
    "## T3"
   ]
  },
  {
   "cell_type": "code",
   "execution_count": 145,
   "metadata": {
    "collapsed": false
   },
   "outputs": [
    {
     "data": {
      "text/plain": [
       "phyloseq-class experiment-level object\n",
       "otu_table()   OTU Table:         [ 4594 taxa and 72 samples ]\n",
       "sample_data() Sample Data:       [ 72 samples by 33 sample variables ]\n",
       "tax_table()   Taxonomy Table:    [ 4594 taxa by 8 taxonomic ranks ]\n",
       "phy_tree()    Phylogenetic Tree: [ 4594 tips and 4593 internal nodes ]\n"
      ]
     },
     "metadata": {},
     "output_type": "display_data"
    }
   ],
   "source": [
    "%%R\n",
    "# subset phyloseq object to just rhizosphere plants, time point 2 and only treated seeds\n",
    "phy = subset_samples(physeq, Planted == \"Rhizosphere\" & TimePoint == \"T3\")\n",
    "phy"
   ]
  },
  {
   "cell_type": "markdown",
   "metadata": {},
   "source": [
    "* generate distance matrices\n"
   ]
  },
  {
   "cell_type": "code",
   "execution_count": 146,
   "metadata": {
    "collapsed": true
   },
   "outputs": [],
   "source": [
    "%%R\n",
    "\n",
    "registerDoParallel(cores=28)\n",
    "\n",
    "Time.wunif.dist = phyloseq::distance(phy, \n",
    "                      method = \"unifrac\", \n",
    "                      weighted = TRUE,\n",
    "                      fast = TRUE, \n",
    "                      parallel = TRUE, \n",
    "                      normalized = FALSE)\n",
    "\n",
    "Time.bray.dist = phyloseq::distance(phy, \n",
    "                      method = \"bray\", \n",
    "                      weighted = TRUE,\n",
    "                      fast = TRUE, \n",
    "                      parallel = TRUE, \n",
    "                      normalized = FALSE)"
   ]
  },
  {
   "cell_type": "code",
   "execution_count": 147,
   "metadata": {
    "collapsed": false,
    "scrolled": true
   },
   "outputs": [
    {
     "data": {
      "text/plain": [
       "\n",
       "Partial Mantel statistic based on Pearson's product-moment correlation \n",
       "\n",
       "Call:\n",
       "mantel.partial(xdis = Time.bray.dist, ydis = Yd, zdis = Rd, method = \"pearson\",      permutations = 999) \n",
       "\n",
       "Mantel statistic r: -0.0175 \n",
       "      Significance: 0.67 \n",
       "\n",
       "Upper quantiles of permutations (null model):\n",
       "   90%    95%  97.5%    99% \n",
       "0.0491 0.0686 0.0804 0.0926 \n",
       "Permutation: free\n",
       "Number of permutations: 999\n",
       "\n"
      ]
     },
     "metadata": {},
     "output_type": "display_data"
    },
    {
     "data": {
      "image/png": "[encoded data removed]"
     },
     "metadata": {},
     "output_type": "display_data"
    }
   ],
   "source": [
    "%%R\n",
    "#Test on soil activity/rhizosphere effect\n",
    "Sd = sample_data(phy)\n",
    "\n",
    "# Generate distance matrix of year of release\n",
    "Yd = dist(Sd[,\"R_Year\"], method = \"euclidian\")\n",
    "hist(Yd)\n",
    "\n",
    "# generate distance matrix of rep and change all values > 1 to 1\n",
    "Rd = dist(Sd[,\"Rep\"])\n",
    "Rd[Rd > 1] <- 1\n",
    "\n",
    "\n",
    "M1 = mantel.partial(Time.bray.dist, Yd, Rd, method=\"pearson\", permutations=999)\n",
    "M1\n",
    "#Model is not significant within T3"
   ]
  },
  {
   "cell_type": "code",
   "execution_count": null,
   "metadata": {
    "collapsed": true
   },
   "outputs": [],
   "source": [
    "* Partial mantel test is not significant at any time point"
   ]
  },
  {
   "cell_type": "markdown",
   "metadata": {},
   "source": [
    "# CAP"
   ]
  },
  {
   "cell_type": "code",
   "execution_count": 148,
   "metadata": {
    "collapsed": false
   },
   "outputs": [
    {
     "data": {
      "text/plain": [
       "phyloseq-class experiment-level object\n",
       "otu_table()   OTU Table:         [ 4594 taxa and 48 samples ]\n",
       "sample_data() Sample Data:       [ 48 samples by 33 sample variables ]\n",
       "tax_table()   Taxonomy Table:    [ 4594 taxa by 8 taxonomic ranks ]\n",
       "phy_tree()    Phylogenetic Tree: [ 4594 tips and 4593 internal nodes ]\n"
      ]
     },
     "metadata": {},
     "output_type": "display_data"
    }
   ],
   "source": [
    "%%R\n",
    "# subset phyloseq object to just rhizosphere plants, time point 2 and only treated seeds\n",
    "phy = subset_samples(physeq, Planted == \"Rhizosphere\" & TimePoint == \"T2\" & SeedTreatment == \"Treated\")\n",
    "phy"
   ]
  },
  {
   "cell_type": "code",
   "execution_count": 149,
   "metadata": {
    "collapsed": true
   },
   "outputs": [],
   "source": [
    "%%R\n",
    "T2.wunif.dist = phyloseq::distance(phy, \n",
    "                      method = \"unifrac\", \n",
    "                      weighted = TRUE,\n",
    "                      fast = TRUE, \n",
    "                      parallel = TRUE, \n",
    "                      normalized = FALSE)"
   ]
  },
  {
   "cell_type": "code",
   "execution_count": 152,
   "metadata": {
    "collapsed": false
   },
   "outputs": [
    {
     "data": {
      "text/plain": [
       " [1] \"X.sampleID\"      \"TubeID\"          \"ExtractionPlate\" \"PooledDNAPlate\" \n",
       " [5] \"SampleWellID\"    \"PrimerPlate\"     \"PrimerNumber\"    \"PrimerWell\"     \n",
       " [9] \"primerFwdLoc\"    \"primerRevLoc\"    \"fwd_barcode\"     \"rev_barcode\"    \n",
       "[13] \"PlotID\"          \"TimePoint\"       \"Rep\"             \"Row\"            \n",
       "[17] \"Pos\"             \"Fert\"            \"PlotIndex\"       \"Plant\"          \n",
       "[21] \"Genotype\"        \"SeedTreatment\"   \"R_Year\"          \"ERA\"            \n",
       "[25] \"kgdw_ha\"         \"FracN.leco\"      \"FracC.leco\"      \"d15N\"           \n",
       "[29] \"X15N_AtPercent\"  \"FracN\"           \"FracN_fromSoil\"  \"FracN_fromFert\" \n",
       "[33] \"Planted\"        \n"
      ]
     },
     "metadata": {},
     "output_type": "display_data"
    }
   ],
   "source": [
    "%%R\n",
    "sample_data(phy) %>% colnames"
   ]
  },
  {
   "cell_type": "code",
   "execution_count": 171,
   "metadata": {
    "collapsed": false,
    "scrolled": true
   },
   "outputs": [
    {
     "data": {
      "image/png": "[encoded data removed]"
     },
     "metadata": {},
     "output_type": "display_data"
    }
   ],
   "source": [
    "%%R\n",
    "sample_data(phy)$Rep = as.factor(sample_data(phy)$Rep)\n",
    "# cap.ord = ordinate(\n",
    "#     physeq = phy, \n",
    "#     method = \"CAP\",\n",
    "#     distance = T2.wunif.dist,\n",
    "#     formula = ~ R_Year + Rep + Condition())\n",
    "\n",
    "ordcap = ordinate(phy, \"CAP\", \"bray\", ~R_Year + Condition(ExtractionPlate))\n",
    "plot_ordination(phy, ordcap, \"samples\", color=\"R_Year\")\n",
    "\n",
    "\n",
    "\n",
    "\n",
    "# # CAP plot\n",
    "# cap.plot <- plot_ordination(phy, cap.ord, axes = c(1,2)) + \n",
    "#     geom_point(aes(fill = Genotype), pch= 21,alpha= 1) \n",
    "    #geom_point(colour = \"grey90\", \n",
    "    #    size = 1.5) + \n",
    "    \n",
    "    #scale_color_manual(values = c(\"#1CE6FF\",\"#B79762\", \"#004D43\", \"#8FB0FF\", \"#997D87\", \"#5A0007\"), name = \"Genotype\",\n",
    " #                      labels = c(\"B73xB97\", \"B73xTx303\", \"ECHES\",\"FAGES\",\"HELAN\",     \"SORSUD\")) \n",
    "\n",
    "\n",
    "\n",
    "\n",
    "# Now add the environmental variables as arrows\n",
    "# arrowmat <- vegan::scores(cap.ord, display = \"bp\")\n",
    "\n",
    "# rownames(arrowmat) = c(\"R_Year\", \"Rep\")\n",
    "# #rownames(arrowmat) = c(\"BX\", \"CB\", \"LAP\", \"NAG\")\n",
    "\n",
    "# # Add labels, make a data.frame\n",
    "# arrowdf <- data.frame(labels = rownames(arrowmat), arrowmat)\n",
    "\n",
    "# Define the arrow aesthetic mapping\n",
    "# arrow_map <- aes(xend = CAP1, \n",
    "#     yend = CAP2, \n",
    "#     x = 0, \n",
    "#     y = 0, \n",
    "#     shape = NULL, \n",
    "#     color = NULL, \n",
    "#     label = labels)\n",
    "\n",
    "# label_map <- aes(x = 1.3 * CAP1, \n",
    "#     y = 1.3 * CAP2, \n",
    "#     shape = NULL, \n",
    "#     color = NULL, \n",
    "#     label = labels)\n",
    "\n",
    "# arrowhead = arrow(length = unit(0.02, \"npc\"))\n",
    "\n",
    "# # Make a new graphic\n",
    "# p = cap.plot + \n",
    "# geom_segment(arrow_map, \n",
    "#     size = .5, \n",
    "#     data = arrowdf, \n",
    "#     color = \"gray\", \n",
    "#     arrow = arrowhead\n",
    "#     ) + \n",
    "# geom_text(label_map,   \n",
    "#     data = arrowdf, \n",
    "#     show_guide = FALSE) \n",
    "# p = p + theme_pub() \n",
    "# #p = p + theme(panel.border = element_blank(), legend.position = \"right\", legend.text = element_text(size = 10)) \n",
    "# p = p + theme(legend.position = \"left\", legend.text = element_text()) \n",
    "\n",
    "#save legend for independent formatting\n",
    "# g_legend<-function(a.gplot){\n",
    "#     tmp <- ggplot_gtable(ggplot_build(a.gplot))\n",
    "#     leg <- which(sapply(tmp$grobs, function(x) x$name) == \"guide-box\")\n",
    "#     legend <- tmp$grobs[[leg]]\n",
    "#     legend\n",
    "# }\n",
    "# \n",
    "\n",
    "                        \n",
    "#legend1 <- g_legend(p)\n",
    "\n",
    "                     \n",
    "# p =  p + theme(axis.line.x = element_line(color=\"black\", size = 1),\n",
    "#     axis.line.y = element_line(color=\"black\", size = 1), legend.position = \"left\")\n",
    "# p = p + theme(legend.position = \"bottom\")\n",
    "# p"
   ]
  },
  {
   "cell_type": "code",
   "execution_count": 172,
   "metadata": {
    "collapsed": false,
    "scrolled": true
   },
   "outputs": [
    {
     "data": {
      "text/plain": [
       "Permutation test for capscale under reduced model\n",
       "Permutation: free\n",
       "Number of permutations: 999\n",
       "\n",
       "Model: capscale(formula = OTU ~ R_Year + Condition(ExtractionPlate), data = data, distance = distance)\n",
       "         Df SumOfSqs      F Pr(>F)\n",
       "Model     1  0.04424 1.0031  0.412\n",
       "Residual 42  1.85254              \n"
      ]
     },
     "metadata": {},
     "output_type": "display_data"
    }
   ],
   "source": [
    "%%R\n",
    "anova(ordcap)"
   ]
  },
  {
   "cell_type": "markdown",
   "metadata": {},
   "source": [
    "## Finally try DESeq2"
   ]
  },
  {
   "cell_type": "code",
   "execution_count": 184,
   "metadata": {
    "collapsed": false,
    "scrolled": false
   },
   "outputs": [
    {
     "data": {
      "text/plain": [
       "phyloseq-class experiment-level object\n",
       "otu_table()   OTU Table:         [ 4594 taxa and 48 samples ]\n",
       "sample_data() Sample Data:       [ 48 samples by 32 sample variables ]\n",
       "tax_table()   Taxonomy Table:    [ 4594 taxa by 8 taxonomic ranks ]\n",
       "phy_tree()    Phylogenetic Tree: [ 4594 tips and 4593 internal nodes ]\n"
      ]
     },
     "metadata": {},
     "output_type": "display_data"
    }
   ],
   "source": [
    "%%R \n",
    "# loading\n",
    "\n",
    "phy.thresh = readRDS('ERA_thresh.rds')\n",
    "\n",
    "#Subset to T2\n",
    "phy.thresh = subset_samples(phy.thresh, TimePoint == \"T2\" & SeedTreatment == \"Treated\", TRUE)\n",
    "phy.thresh"
   ]
  },
  {
   "cell_type": "code",
   "execution_count": 51,
   "metadata": {
    "collapsed": false
   },
   "outputs": [],
   "source": [
    "%%R\n",
    "sample_data(phy.thresh)$Rep = as.factor(sample_data(phy.thresh)$Rep)\n",
    "sample_data(phy.thresh)$Row = as.factor(sample_data(phy.thresh)$Row)\n",
    "sample_data(phy.thresh)$Fert = as.factor(sample_data(phy.thresh)$Fert)"
   ]
  },
  {
   "cell_type": "code",
   "execution_count": 186,
   "metadata": {
    "collapsed": false
   },
   "outputs": [
    {
     "name": "stderr",
     "output_type": "stream",
     "text": [
      "/opt/anaconda2/lib/python2.7/site-packages/rpy2/rinterface/__init__.py:186: RRuntimeWarning: the design formula contains a numeric variable with integer values,\n",
      "  specifying a model with increasing fold change for higher values.\n",
      "  did you mean for this to be a factor? if so, first convert\n",
      "  this variable to a factor using the factor() function\n",
      "\n",
      "  warnings.warn(x, RRuntimeWarning)\n",
      "/opt/anaconda2/lib/python2.7/site-packages/rpy2/rinterface/__init__.py:186: RRuntimeWarning: estimating size factors\n",
      "\n",
      "  warnings.warn(x, RRuntimeWarning)\n",
      "/opt/anaconda2/lib/python2.7/site-packages/rpy2/rinterface/__init__.py:186: RRuntimeWarning: estimating dispersions\n",
      "\n",
      "  warnings.warn(x, RRuntimeWarning)\n",
      "/opt/anaconda2/lib/python2.7/site-packages/rpy2/rinterface/__init__.py:186: RRuntimeWarning: gene-wise dispersion estimates: 38 workers\n",
      "\n",
      "  warnings.warn(x, RRuntimeWarning)\n",
      "/opt/anaconda2/lib/python2.7/site-packages/rpy2/rinterface/__init__.py:186: RRuntimeWarning: mean-dispersion relationship\n",
      "\n",
      "  warnings.warn(x, RRuntimeWarning)\n",
      "/opt/anaconda2/lib/python2.7/site-packages/rpy2/rinterface/__init__.py:186: RRuntimeWarning: final dispersion estimates, MLE betas: 38 workers\n",
      "\n",
      "  warnings.warn(x, RRuntimeWarning)\n",
      "/opt/anaconda2/lib/python2.7/site-packages/rpy2/rinterface/__init__.py:186: RRuntimeWarning: fitting model and testing: 38 workers\n",
      "\n",
      "  warnings.warn(x, RRuntimeWarning)\n"
     ]
    },
    {
     "data": {
      "text/plain": [
       "[1] \"Intercept\" \"Rep\"       \"R_Year\"   \n"
      ]
     },
     "metadata": {},
     "output_type": "display_data"
    }
   ],
   "source": [
    "%%R\n",
    "dds = phyloseq_to_deseq2(phy.thresh, ~Rep + R_Year)\n",
    "d_dds = DESeq(dds, parallel = TRUE)\n",
    "resultsNames(d_dds) %>% print\n",
    "DF = results(d_dds)\n",
    "\n",
    "supp = tax_table(phy)\n",
    "            if (!setequal(row.names(supp), row.names(DF))) {\n",
    "            stop(\"Ordination and supplementary data indices differ on the following:\\n.\",\n",
    "            setdiff(row.names(DF), row.names(supp)))\n",
    "        }  \n",
    "\n",
    "        DF = data.frame(DF, supp)\n",
    "        DF$OTU = rownames(DF)\n",
    "\n",
    "DF$Test = \"R_Year\"\n",
    "        YR = DF"
   ]
  },
  {
   "cell_type": "code",
   "execution_count": 189,
   "metadata": {
    "collapsed": false
   },
   "outputs": [
    {
     "data": {
      "image/png": "[encoded data removed]"
     },
     "metadata": {},
     "output_type": "display_data"
    }
   ],
   "source": [
    "%%R\n",
    "sigtab = YR %>% filter(padj < 0.1)\n",
    "x = tapply(sigtab$log2FoldChange, sigtab$Rank4, function(x) max(x))\n",
    "x = sort(x, TRUE)\n",
    "sigtab$Rank4 = factor(as.character(sigtab$Rank4), levels=names(x))\n",
    "# x = tapply(sigtab$log2FoldChange, sigtab$Rank3, function(x) max(x))\n",
    "# x = sort(x, TRUE)\n",
    "# sigtab$Rank3 = factor(as.character(sigtab$Rank3), levels=names(x))\n",
    "    \n",
    "p2 = ggplot(sigtab, aes(x=Rank4, y=log2FoldChange, size = baseMean)) + \n",
    "    geom_point(aes(color = Rank2))+\n",
    "  theme_pub() +\n",
    "  theme(axis.text.x = element_text(angle = -90, hjust = 0, vjust=0.5)) + \n",
    "    ggtitle(\"OTUs correlated with Year of Release\")  +\n",
    "   theme(legend.position=\"right\")\n",
    "#x = tapply(sigtab$log2FoldChange, sigtab$Rank2, function(x) max(x))\n",
    "#x = sort(x, TRUE)\n",
    "#x\n",
    "    p2"
   ]
  },
  {
   "cell_type": "markdown",
   "metadata": {},
   "source": [
    "# old notebook from Penn below"
   ]
  },
  {
   "cell_type": "markdown",
   "metadata": {},
   "source": [
    "### T1 with FAGES"
   ]
  },
  {
   "cell_type": "code",
   "execution_count": 185,
   "metadata": {
    "collapsed": false
   },
   "outputs": [],
   "source": [
    "%%R\n",
    "# subset phyloseq object\n",
    "physeq.core = subset_samples(physeq.snorm, Genotype %in% c(\"FAGES\", \"ECHES\", \"SORSUD\", \"HELAN\", \n",
    "                                                           \"B73xB97\", \"B73xTx303\") & TimePoint == \"T1\"\n",
    "                            & Ntreat == \"Nneg\")\n",
    "\n",
    "# create unifrac distance matrix\n",
    "registerDoParallel(cores=28)\n",
    "wunif.dist = distance(physeq.core, \n",
    "                      method = \"unifrac\", \n",
    "                      weighted = TRUE,\n",
    "                      fast = TRUE, \n",
    "                      parallel = TRUE, \n",
    "                      normalized = FALSE)"
   ]
  },
  {
   "cell_type": "code",
   "execution_count": 186,
   "metadata": {
    "collapsed": false,
    "scrolled": false
   },
   "outputs": [
    {
     "data": {
      "text/plain": [
       "\n",
       "Call:\n",
       "adonis(formula = d ~ Rep + Genotype, data = df, permutations = 999) \n",
       "\n",
       "Permutation: free\n",
       "Number of permutations: 999\n",
       "\n",
       "Terms added sequentially (first to last)\n",
       "\n",
       "          Df SumsOfSqs  MeanSqs F.Model      R2 Pr(>F)  \n",
       "Rep        3   0.07287 0.024290  1.9437 0.19680  0.041 *\n",
       "Genotype   5   0.10995 0.021991  1.7597 0.29695  0.034 *\n",
       "Residuals 15   0.18745 0.012497         0.50625         \n",
       "Total     23   0.37027                  1.00000         \n",
       "---\n",
       "Signif. codes:  0 ‘***’ 0.001 ‘**’ 0.01 ‘*’ 0.05 ‘.’ 0.1 ‘ ’ 1\n"
      ]
     },
     "metadata": {},
     "output_type": "display_data"
    }
   ],
   "source": [
    "%%R\n",
    "set.seed(101)\n",
    "\n",
    "df = as(sample_data(physeq.core), \"data.frame\")\n",
    "d = wunif.dist\n",
    "Coreadonis = adonis(formula = d ~  Rep + Genotype, df, permutations = 999)\n",
    "Coreadonis"
   ]
  },
  {
   "cell_type": "code",
   "execution_count": null,
   "metadata": {
    "collapsed": true
   },
   "outputs": [],
   "source": [
    "### Just FAGES to evaluate N treatment"
   ]
  },
  {
   "cell_type": "code",
   "execution_count": 214,
   "metadata": {
    "collapsed": true
   },
   "outputs": [],
   "source": [
    "%%R\n",
    "\n",
    "# subset phyloseq object\n",
    "physeq.core = subset_samples(physeq.snorm, Genotype %in% c(\"FAGES\") & TimePoint == \"T1\")\n",
    "\n",
    "# create unifrac distance matrix\n",
    "registerDoParallel(cores=28)\n",
    "wunif.dist = distance(physeq.core, \n",
    "                      method = \"unifrac\", \n",
    "                      weighted = TRUE,\n",
    "                      fast = TRUE, \n",
    "                      parallel = TRUE, \n",
    "                      normalized = FALSE)"
   ]
  },
  {
   "cell_type": "code",
   "execution_count": 216,
   "metadata": {
    "collapsed": false
   },
   "outputs": [
    {
     "data": {
      "text/plain": [
       "\n",
       "Call:\n",
       "adonis(formula = d ~ Rep + Ntreat, data = df, permutations = 999) \n",
       "\n",
       "Permutation: free\n",
       "Number of permutations: 999\n",
       "\n",
       "Terms added sequentially (first to last)\n",
       "\n",
       "          Df SumsOfSqs   MeanSqs F.Model      R2 Pr(>F)  \n",
       "Rep        3  0.052604 0.0175346  4.6218 0.75785  0.011 *\n",
       "Ntreat     1  0.005427 0.0054267  1.4304 0.07818  0.344  \n",
       "Residuals  3  0.011382 0.0037939         0.16397         \n",
       "Total      7  0.069412                   1.00000         \n",
       "---\n",
       "Signif. codes:  0 ‘***’ 0.001 ‘**’ 0.01 ‘*’ 0.05 ‘.’ 0.1 ‘ ’ 1\n"
      ]
     },
     "metadata": {},
     "output_type": "display_data"
    }
   ],
   "source": [
    "%%R\n",
    "set.seed(101)\n",
    "\n",
    "df = as(sample_data(physeq.core), \"data.frame\")\n",
    "d = wunif.dist\n",
    "Coreadonis = adonis(formula = d ~  Rep + Ntreat, df, permutations = 999)\n",
    "Coreadonis"
   ]
  },
  {
   "cell_type": "markdown",
   "metadata": {},
   "source": [
    "### T1 ADONIS with species effect"
   ]
  },
  {
   "cell_type": "code",
   "execution_count": 146,
   "metadata": {
    "collapsed": true
   },
   "outputs": [],
   "source": [
    "%%R\n",
    "# subset phyloseq object\n",
    "physeq.core = subset_samples(physeq.snorm, Genotype %in% c(\"FAGES\", \"ECHES\", \"SORSUD\", \"HELAN\", \n",
    "                                                           \"B73xB97\", \"B73xTx303\") & TimePoint == \"T1\"\n",
    "                            & Ntreat == \"Nneg\")\n",
    "\n",
    "# create unifrac distance matrix\n",
    "registerDoParallel(cores=28)\n",
    "wunif.dist = distance(physeq.core, \n",
    "                      method = \"unifrac\", \n",
    "                      weighted = TRUE,\n",
    "                      fast = TRUE, \n",
    "                      parallel = TRUE, \n",
    "                      normalized = FALSE)"
   ]
  },
  {
   "cell_type": "code",
   "execution_count": 147,
   "metadata": {
    "collapsed": false,
    "scrolled": true
   },
   "outputs": [
    {
     "data": {
      "text/plain": [
       "\n",
       "Call:\n",
       "adonis(formula = d ~ Rep + Species, data = df, permutations = 999) \n",
       "\n",
       "Permutation: free\n",
       "Number of permutations: 999\n",
       "\n",
       "Terms added sequentially (first to last)\n",
       "\n",
       "          Df SumsOfSqs  MeanSqs F.Model      R2 Pr(>F)  \n",
       "Rep        3  0.061788 0.020596  1.5573 0.20928  0.091 .\n",
       "Species    3  0.061532 0.020511  1.5509 0.20841  0.128  \n",
       "Residuals 13  0.171925 0.013225         0.58231         \n",
       "Total     19  0.295245                  1.00000         \n",
       "---\n",
       "Signif. codes:  0 ‘***’ 0.001 ‘**’ 0.01 ‘*’ 0.05 ‘.’ 0.1 ‘ ’ 1\n"
      ]
     },
     "metadata": {},
     "output_type": "display_data"
    }
   ],
   "source": [
    "%%R\n",
    "set.seed(101)\n",
    "\n",
    "df = as(sample_data(physeq.core), \"data.frame\")\n",
    "d = wunif.dist\n",
    "Coreadonis = adonis(formula = d ~  Rep + Species, df, permutations = 999)\n",
    "Coreadonis"
   ]
  },
  {
   "cell_type": "markdown",
   "metadata": {},
   "source": [
    "* At T1 there is a species effect largely driven by buckwheat contrasting with sorghum, but very different developmental stages\n",
    "* Analysis does not change if done by species instead of genotype"
   ]
  },
  {
   "cell_type": "markdown",
   "metadata": {},
   "source": [
    "### NMDS of T1"
   ]
  },
  {
   "cell_type": "code",
   "execution_count": 117,
   "metadata": {
    "collapsed": false
   },
   "outputs": [
    {
     "data": {
      "text/plain": [
       "Run 0 stress 0.09667845 \n",
       "Run 1 stress 0.09634453 \n",
       "... New best solution\n",
       "... Procrustes: rmse 0.0552801  max resid 0.2326979 \n",
       "Run 2 stress 0.1300506 \n",
       "Run 3 stress 0.1351778 \n",
       "Run 4 stress 0.09435499 \n",
       "... New best solution\n",
       "... Procrustes: rmse 0.02576955  max resid 0.07659165 \n",
       "Run 5 stress 0.09667822 \n",
       "Run 6 stress 0.09667372 \n",
       "Run 7 stress 0.0943568 \n",
       "... Procrustes: rmse 0.001143634  max resid 0.004066788 \n",
       "... Similar to previous best\n",
       "Run 8 stress 0.1300296 \n",
       "Run 9 stress 0.135878 \n",
       "Run 10 stress 0.1357515 \n",
       "Run 11 stress 0.1405649 \n",
       "Run 12 stress 0.1388104 \n",
       "Run 13 stress 0.09667621 \n",
       "Run 14 stress 0.09435525 \n",
       "... Procrustes: rmse 0.0006116764  max resid 0.002260726 \n",
       "... Similar to previous best\n",
       "Run 15 stress 0.09634685 \n",
       "Run 16 stress 0.3834313 \n",
       "Run 17 stress 0.09667413 \n",
       "Run 18 stress 0.09642056 \n",
       "Run 19 stress 0.09667573 \n",
       "Run 20 stress 0.09435516 \n",
       "... Procrustes: rmse 0.0005707016  max resid 0.002057922 \n",
       "... Similar to previous best\n",
       "*** Solution reached\n"
      ]
     },
     "metadata": {},
     "output_type": "display_data"
    },
    {
     "data": {
      "image/png": "[encoded data removed]"
     },
     "metadata": {},
     "output_type": "display_data"
    }
   ],
   "source": [
    "%%R -w 600 -h 400\n",
    "# subset phyloseq object, include FAGES and bare soil\n",
    "physeq.core = subset_samples(physeq.snorm, Genotype %in% c(\"BARE\", \"FAGES\", \"ECHES\", \"SORSUD\", \"HELAN\", \n",
    "                                                           \"B73xB97\", \"B73xTx303\") & TimePoint == \"T1\"\n",
    "                            & Ntreat == \"Nneg\")\n",
    "\n",
    "# create unifrac distance matrix\n",
    "registerDoParallel(cores=28)\n",
    "wunif.dist = distance(physeq.core, \n",
    "                      method = \"unifrac\", \n",
    "                      weighted = TRUE,\n",
    "                      fast = TRUE, \n",
    "                      parallel = TRUE, \n",
    "                      normalized = FALSE)\n",
    "\n",
    "nmds = ordinate(physeq.core, \n",
    "                method = \"NMDS\", \n",
    "                distance = wunif.dist)\n",
    "\n",
    "p = plot_ordination(physeq.core, nmds, justDF = TRUE)\n",
    "\n",
    "p1 = ggplot(p, aes(x = NMDS1, y = NMDS2)) +\n",
    "        geom_point(aes(color= Genotype, shape = as.factor(Rep)), size = 3)\n",
    "        #scale_size(range=c(2,8))\n",
    "p1"
   ]
  },
  {
   "cell_type": "markdown",
   "metadata": {},
   "source": [
    "## ADONIS of T3"
   ]
  },
  {
   "cell_type": "code",
   "execution_count": 259,
   "metadata": {
    "collapsed": false
   },
   "outputs": [],
   "source": [
    "%%R\n",
    "# subset phyloseq object\n",
    "physeq.core = subset_samples(physeq.snorm, Genotype %in% c(\"FAGES\", \"ECHES\", \"SORSUD\", \"HELAN\",\n",
    "                                                           \"B73xB97\", \"B73xTx303\") & TimePoint == \"T3\")\n",
    "\n",
    "# create unifrac distance matrix\n",
    "registerDoParallel(cores=28)\n",
    "wunif.dist = distance(physeq.core, \n",
    "                      method = \"unifrac\", \n",
    "                      weighted = TRUE,\n",
    "                      fast = TRUE, \n",
    "                      parallel = TRUE, \n",
    "                      normalized = FALSE)"
   ]
  },
  {
   "cell_type": "code",
   "execution_count": 260,
   "metadata": {
    "collapsed": false,
    "scrolled": false
   },
   "outputs": [
    {
     "data": {
      "text/plain": [
       "\n",
       "Call:\n",
       "adonis(formula = d ~ Rep + Rep:Genotype + Genotype * Ntreat,      data = df, permutations = 999) \n",
       "\n",
       "Permutation: free\n",
       "Number of permutations: 999\n",
       "\n",
       "Terms added sequentially (first to last)\n",
       "\n",
       "                Df SumsOfSqs  MeanSqs F.Model      R2 Pr(>F)    \n",
       "Rep              3   0.12273 0.040910  6.0051 0.21168  0.001 ***\n",
       "Genotype         5   0.14264 0.028529  4.1876 0.24602  0.001 ***\n",
       "Ntreat           1   0.01229 0.012287  1.8036 0.02119  0.071 .  \n",
       "Rep:Genotype    15   0.14873 0.009915  1.4554 0.25652  0.012 *  \n",
       "Genotype:Ntreat  5   0.03079 0.006157  0.9038 0.05310  0.631    \n",
       "Residuals       18   0.12263 0.006813         0.21150           \n",
       "Total           47   0.57980                  1.00000           \n",
       "---\n",
       "Signif. codes:  0 ‘***’ 0.001 ‘**’ 0.01 ‘*’ 0.05 ‘.’ 0.1 ‘ ’ 1\n"
      ]
     },
     "metadata": {},
     "output_type": "display_data"
    }
   ],
   "source": [
    "%%R\n",
    "set.seed(101)\n",
    "\n",
    "df = as(sample_data(physeq.core), \"data.frame\")\n",
    "d = wunif.dist\n",
    "Coreadonis = adonis(formula = d ~  Rep +  Rep:Genotype + Genotype*Ntreat, df, permutations = 999)\n",
    "Coreadonis"
   ]
  },
  {
   "cell_type": "code",
   "execution_count": null,
   "metadata": {
    "collapsed": true
   },
   "outputs": [],
   "source": []
  },
  {
   "cell_type": "markdown",
   "metadata": {},
   "source": [
    "### NMDS of T3"
   ]
  },
  {
   "cell_type": "code",
   "execution_count": 261,
   "metadata": {
    "collapsed": false,
    "scrolled": true
   },
   "outputs": [
    {
     "data": {
      "text/plain": [
       "Run 0 stress 0.1471425 \n",
       "Run 1 stress 0.2037228 \n",
       "Run 2 stress 0.180154 \n",
       "Run 3 stress 0.2010578 \n",
       "Run 4 stress 0.179921 \n",
       "Run 5 stress 0.1471414 \n",
       "... New best solution\n",
       "... Procrustes: rmse 0.0004492155  max resid 0.002238368 \n",
       "... Similar to previous best\n",
       "Run 6 stress 0.2102671 \n",
       "Run 7 stress 0.2117794 \n",
       "Run 8 stress 0.1472299 \n",
       "... Procrustes: rmse 0.004061768  max resid 0.02366752 \n",
       "Run 9 stress 0.1472298 \n",
       "... Procrustes: rmse 0.004045805  max resid 0.02358663 \n",
       "Run 10 stress 0.2130612 \n",
       "Run 11 stress 0.1485645 \n",
       "Run 12 stress 0.1518948 \n",
       "Run 13 stress 0.1485646 \n",
       "Run 14 stress 0.2107415 \n",
       "Run 15 stress 0.171597 \n",
       "Run 16 stress 0.1957077 \n",
       "Run 17 stress 0.1800069 \n",
       "Run 18 stress 0.1471417 \n",
       "... Procrustes: rmse 0.0003351704  max resid 0.001655147 \n",
       "... Similar to previous best\n",
       "Run 19 stress 0.1518934 \n",
       "Run 20 stress 0.4012686 \n",
       "*** Solution reached\n"
      ]
     },
     "metadata": {},
     "output_type": "display_data"
    }
   ],
   "source": [
    "%%R\n",
    "nmds = ordinate(physeq.core, \n",
    "                method = \"NMDS\", \n",
    "                distance = wunif.dist)\n",
    "\n",
    "p = plot_ordination(physeq.core, nmds, justDF = TRUE)"
   ]
  },
  {
   "cell_type": "code",
   "execution_count": 263,
   "metadata": {
    "collapsed": false
   },
   "outputs": [
    {
     "data": {
      "image/png": "[encoded data removed]"
     },
     "metadata": {},
     "output_type": "display_data"
    }
   ],
   "source": [
    "%%R\n",
    "p$Genotype = factor(p$Genotype, levels = c(\"B73xB97\", \"B73xTx303\",  \"ECHES\", \n",
    "                                                       \"SORSUD\", \"HELAN\", \"FAGES\"))\n",
    "p1 = ggplot(p, aes(x = NMDS1, y = NMDS2)) +\n",
    "        geom_point(aes(fill = Genotype, shape = Ntreat), size = 3) + \n",
    "           scale_shape_manual(values=c(21, 22)) +\n",
    "        scale_fill_manual(values = c(\"#FFFF00\", \"#1CE6FF\", \"#FF34FF\", \"#FF4A46\",\n",
    "                                        \"#008941\", \"#006FA6\")) +\n",
    "        theme_pub()+\n",
    "        guides(fill=guide_legend(override.aes=list(colour= c(\"#FFFF00\", \"#1CE6FF\", \"#FF34FF\", \"#FF4A46\",\n",
    "                                      \"#008941\", \"#006FA6\")))) +\n",
    "        facet_wrap(~Genotype)\n",
    "      \n",
    "p1\n"
   ]
  },
  {
   "cell_type": "markdown",
   "metadata": {},
   "source": [
    "## ADONIS of T4"
   ]
  },
  {
   "cell_type": "code",
   "execution_count": 210,
   "metadata": {
    "collapsed": false
   },
   "outputs": [],
   "source": [
    "%%R\n",
    "# subset phyloseq object\n",
    "physeq.core = subset_samples(physeq.snorm, Genotype %in% c(\"ECHES\", \"SORSUD\", \"HELAN\", \n",
    "                                                           \"B73xB97\", \"B73xTx303\") & TimePoint == \"T4\")\n",
    "\n",
    "# create unifrac distance matrix\n",
    "registerDoParallel(cores=28)\n",
    "wunif.dist = distance(physeq.core, \n",
    "                      method = \"unifrac\", \n",
    "                      weighted = TRUE,\n",
    "                      fast = TRUE, \n",
    "                      parallel = TRUE, \n",
    "                      normalized = FALSE)"
   ]
  },
  {
   "cell_type": "code",
   "execution_count": 211,
   "metadata": {
    "collapsed": false,
    "scrolled": true
   },
   "outputs": [
    {
     "data": {
      "text/plain": [
       "\n",
       "Call:\n",
       "adonis(formula = d ~ Rep + Rep:Genotype + Genotype * Ntreat,      data = df, permutations = 999) \n",
       "\n",
       "Permutation: free\n",
       "Number of permutations: 999\n",
       "\n",
       "Terms added sequentially (first to last)\n",
       "\n",
       "                Df SumsOfSqs  MeanSqs F.Model      R2 Pr(>F)    \n",
       "Rep              3   0.07774 0.025912  2.9093 0.11643  0.002 ** \n",
       "Genotype         4   0.26318 0.065796  7.3871 0.39419  0.001 ***\n",
       "Ntreat           1   0.01302 0.013025  1.4623 0.01951  0.169    \n",
       "Rep:Genotype    12   0.13270 0.011058  1.2416 0.19876  0.161    \n",
       "Genotype:Ntreat  4   0.04740 0.011851  1.3305 0.07100  0.137    \n",
       "Residuals       15   0.13360 0.008907         0.20011           \n",
       "Total           39   0.66765                  1.00000           \n",
       "---\n",
       "Signif. codes:  0 ‘***’ 0.001 ‘**’ 0.01 ‘*’ 0.05 ‘.’ 0.1 ‘ ’ 1\n"
      ]
     },
     "metadata": {},
     "output_type": "display_data"
    }
   ],
   "source": [
    "%%R\n",
    "set.seed(101)\n",
    "\n",
    "df = as(sample_data(physeq.core), \"data.frame\")\n",
    "d = wunif.dist\n",
    "Coreadonis = adonis(formula = d ~ Rep +  Rep:Genotype + Genotype*Ntreat, df, permutations = 999)\n",
    "Coreadonis"
   ]
  },
  {
   "cell_type": "markdown",
   "metadata": {},
   "source": [
    "## nmds of core plants"
   ]
  },
  {
   "cell_type": "code",
   "execution_count": 196,
   "metadata": {
    "collapsed": false
   },
   "outputs": [
    {
     "data": {
      "text/plain": [
       "Run 0 stress 0.1277908 \n",
       "Run 1 stress 0.1354406 \n",
       "Run 2 stress 0.1354415 \n",
       "Run 3 stress 0.12779 \n",
       "... New best solution\n",
       "... Procrustes: rmse 0.0003338269  max resid 0.002567065 \n",
       "... Similar to previous best\n",
       "Run 4 stress 0.1277894 \n",
       "... New best solution\n",
       "... Procrustes: rmse 0.0002413285  max resid 0.002114727 \n",
       "... Similar to previous best\n",
       "Run 5 stress 0.1277964 \n",
       "... Procrustes: rmse 0.0008001607  max resid 0.007888117 \n",
       "... Similar to previous best\n",
       "Run 6 stress 0.1354389 \n",
       "Run 7 stress 0.127798 \n",
       "... Procrustes: rmse 0.0008260246  max resid 0.007942033 \n",
       "... Similar to previous best\n",
       "Run 8 stress 0.1277899 \n",
       "... Procrustes: rmse 0.0002621751  max resid 0.002134339 \n",
       "... Similar to previous best\n",
       "Run 9 stress 0.1277904 \n",
       "... Procrustes: rmse 0.000243861  max resid 0.002085954 \n",
       "... Similar to previous best\n",
       "Run 10 stress 0.1277911 \n",
       "... Procrustes: rmse 0.0004501946  max resid 0.004835938 \n",
       "... Similar to previous best\n",
       "Run 11 stress 0.1354411 \n",
       "Run 12 stress 0.1277895 \n",
       "... Procrustes: rmse 2.186979e-05  max resid 0.0001205858 \n",
       "... Similar to previous best\n",
       "Run 13 stress 0.1277901 \n",
       "... Procrustes: rmse 0.0002404141  max resid 0.002106128 \n",
       "... Similar to previous best\n",
       "Run 14 stress 0.135439 \n",
       "Run 15 stress 0.1324215 \n",
       "Run 16 stress 0.1324233 \n",
       "Run 17 stress 0.1324189 \n",
       "Run 18 stress 0.1277903 \n",
       "... Procrustes: rmse 0.0002434176  max resid 0.002084575 \n",
       "... Similar to previous best\n",
       "Run 19 stress 0.1277961 \n",
       "... Procrustes: rmse 0.0007605489  max resid 0.007871543 \n",
       "... Similar to previous best\n",
       "Run 20 stress 0.1277976 \n",
       "... Procrustes: rmse 0.0008630527  max resid 0.00778082 \n",
       "... Similar to previous best\n",
       "*** Solution reached\n"
      ]
     },
     "metadata": {},
     "output_type": "display_data"
    }
   ],
   "source": [
    "%%R -w 800 -h 350\n",
    "# subset phyloseq object, include FAGES and bare soil\n",
    "physeq.core = subset_samples(physeq.snorm, Genotype %in% c(\"BARE\", \"FAGES\", \"ECHES\", \"SORSUD\", \"HELAN\", \n",
    "                                                           \"B73xB97\", \"B73xTx303\")  &\n",
    "                                                     TimePoint %in% c(\"T1\", \"T3\", \"T4\"))\n",
    "\n",
    "sample_data(physeq.core)$Genotype = factor(sample_data(physeq.core)$Genotype, \n",
    "                                            levels = c(\"BARE\", \"B73xB97\", \"B73xTx303\",  \"ECHES\", \n",
    "                                                       \"SORSUD\", \"HELAN\", \"FAGES\"))\n",
    "\n",
    "# create unifrac distance matrix\n",
    "registerDoParallel(cores=28)\n",
    "wunif.dist = distance(physeq.core, \n",
    "                      method = \"unifrac\", \n",
    "                      weighted = TRUE,\n",
    "                      fast = TRUE, \n",
    "                      parallel = TRUE, \n",
    "                      normalized = FALSE)\n",
    "\n",
    "nmds = ordinate(physeq.core, \n",
    "                method = \"NMDS\", \n",
    "                distance = wunif.dist)\n",
    "\n",
    "p = plot_ordination(physeq.core, nmds, justDF = TRUE)\n",
    "\n"
   ]
  },
  {
   "cell_type": "code",
   "execution_count": 200,
   "metadata": {
    "collapsed": false
   },
   "outputs": [
    {
     "data": {
      "image/png": "[encoded data removed]"
     },
     "metadata": {},
     "output_type": "display_data"
    }
   ],
   "source": [
    "%%R -w 700 -h 300\n",
    "## generating plots\n",
    "p1 = ggplot(p, aes(x = NMDS1, y = NMDS2)) +\n",
    "        geom_point(aes(shape = Planted, fill = Genotype), size = 3) + \n",
    "        scale_shape_manual(values=c(17, 21), guide = FALSE) +\n",
    "        scale_fill_manual(values = c(\"#000000\", \"#FFFF00\", \"#1CE6FF\", \"#FF34FF\", \"#FF4A46\",\n",
    "                                        \"#008941\", \"#006FA6\")) +\n",
    "        theme_pub()+\n",
    "        guides(fill=guide_legend(override.aes=list(colour= c(\"#000000\", \"#FFFF00\", \"#1CE6FF\", \"#FF34FF\", \"#FF4A46\",\n",
    "                                      \"#008941\", \"#006FA6\")))) +\n",
    "        facet_wrap(~TimePoint)\n",
    "      \n",
    "p1\n",
    "\n"
   ]
  },
  {
   "cell_type": "markdown",
   "metadata": {},
   "source": [
    "# Intraspecific variation"
   ]
  },
  {
   "cell_type": "code",
   "execution_count": 25,
   "metadata": {
    "collapsed": false
   },
   "outputs": [
    {
     "data": {
      "text/plain": [
       "Sample Data:        [14 samples by 1 sample variables]:\n",
       "                   Genotype\n",
       "Penn-T2_2-4b_Nneg       354\n",
       "Penn-T3_1-4a_Nneg   B73xB97\n",
       "Penn-T3_1-4c_Nneg     ECHES\n",
       "Penn-T3_1-3a_Npos     FAGES\n",
       "Penn-T0_4-2b_Nneg      BARE\n",
       "Penn-T2_4-3c_Nneg B73xIl14H\n",
       "Penn-T3_1-3c_Nneg    SORSUD\n",
       "Penn-T4_1-1b_Nneg B73xTx303\n",
       "Penn-T3_3-1b_Nneg     HELAN\n",
       "Penn-T2_2-3a_Nneg    EX3101\n",
       "Penn-T2_4-1a_Nneg      3475\n",
       "Penn-T3_1-4b_Nneg   M71xB73\n",
       "Penn-T2_4-5a_Nneg       322\n",
       "Penn-T3_1-1c_Nneg  B73xOh7B\n"
      ]
     },
     "metadata": {},
     "output_type": "display_data"
    }
   ],
   "source": [
    "%%R\n",
    "physeq.snorm %>% \n",
    "    sample_data() %>% \n",
    "    select(Genotype) %>%\n",
    "    unique"
   ]
  },
  {
   "cell_type": "code",
   "execution_count": 26,
   "metadata": {
    "collapsed": false
   },
   "outputs": [],
   "source": [
    "%%R\n",
    "physeq.maize = subset_samples(physeq.snorm, Genotype %in% c(\"322\", \"354\", \"3475\") & TimePoint %in% c(\"T2\", \n",
    "                                                                                                                \"T3\"))"
   ]
  },
  {
   "cell_type": "code",
   "execution_count": 27,
   "metadata": {
    "collapsed": false
   },
   "outputs": [],
   "source": [
    "%%R\n",
    "\n",
    "# create unifrac distance matrix\n",
    "registerDoParallel(cores=28)\n",
    "wunif.dist = distance(physeq.maize, \n",
    "                      method = \"unifrac\", \n",
    "                      weighted = TRUE,\n",
    "                      fast = TRUE, \n",
    "                      parallel = TRUE, \n",
    "                      normalized = FALSE)"
   ]
  },
  {
   "cell_type": "code",
   "execution_count": 28,
   "metadata": {
    "collapsed": false,
    "scrolled": false
   },
   "outputs": [
    {
     "data": {
      "text/plain": [
       "\n",
       "Call:\n",
       "adonis(formula = d ~ as.factor(Rep) + Genotype, data = df, permutations = 999) \n",
       "\n",
       "Permutation: free\n",
       "Number of permutations: 999\n",
       "\n",
       "Terms added sequentially (first to last)\n",
       "\n",
       "               Df SumsOfSqs   MeanSqs F.Model      R2 Pr(>F)   \n",
       "as.factor(Rep)  3  0.061724 0.0205748  3.5658 0.57662  0.002 **\n",
       "Genotype        2  0.010700 0.0053499  0.9272 0.09996  0.483   \n",
       "Residuals       6  0.034620 0.0057700         0.32342          \n",
       "Total          11  0.107044                   1.00000          \n",
       "---\n",
       "Signif. codes:  0 ‘***’ 0.001 ‘**’ 0.01 ‘*’ 0.05 ‘.’ 0.1 ‘ ’ 1\n"
      ]
     },
     "metadata": {},
     "output_type": "display_data"
    }
   ],
   "source": [
    "%%R\n",
    "set.seed(101)\n",
    "\n",
    "df = as(sample_data(physeq.maize), \"data.frame\")\n",
    "d = wunif.dist\n",
    "Maizeadonis = adonis(formula = d ~ as.factor(Rep) + Genotype, df, permutations = 999)\n",
    "Maizeadonis"
   ]
  },
  {
   "cell_type": "markdown",
   "metadata": {},
   "source": [
    "## Ordinate Maize"
   ]
  },
  {
   "cell_type": "code",
   "execution_count": 228,
   "metadata": {
    "collapsed": false,
    "scrolled": true
   },
   "outputs": [
    {
     "data": {
      "text/plain": [
       "Run 0 stress 0.1424988 \n",
       "Run 1 stress 0.1424988 \n",
       "... Procrustes: rmse 6.456495e-06  max resid 2.605529e-05 \n",
       "... Similar to previous best\n",
       "Run 2 stress 0.1624679 \n",
       "Run 3 stress 0.1425113 \n",
       "... Procrustes: rmse 0.00311896  max resid 0.01637097 \n",
       "Run 4 stress 0.1425113 \n",
       "... Procrustes: rmse 0.003116571  max resid 0.01636921 \n",
       "Run 5 stress 0.1425113 \n",
       "... Procrustes: rmse 0.003118038  max resid 0.01637107 \n",
       "Run 6 stress 0.1425113 \n",
       "... Procrustes: rmse 0.003116711  max resid 0.0163735 \n",
       "Run 7 stress 0.1424988 \n",
       "... New best solution\n",
       "... Procrustes: rmse 5.426444e-06  max resid 2.37253e-05 \n",
       "... Similar to previous best\n",
       "Run 8 stress 0.1425113 \n",
       "... Procrustes: rmse 0.003116718  max resid 0.01637802 \n",
       "Run 9 stress 0.1425113 \n",
       "... Procrustes: rmse 0.003117222  max resid 0.01637588 \n",
       "Run 10 stress 0.1425115 \n",
       "... Procrustes: rmse 0.003117421  max resid 0.01637346 \n",
       "Run 11 stress 0.1425113 \n",
       "... Procrustes: rmse 0.003116945  max resid 0.01637429 \n",
       "Run 12 stress 0.1624679 \n",
       "Run 13 stress 0.1425113 \n",
       "... Procrustes: rmse 0.003117551  max resid 0.01637193 \n",
       "Run 14 stress 0.1758894 \n",
       "Run 15 stress 0.1625587 \n",
       "Run 16 stress 0.1424988 \n",
       "... Procrustes: rmse 8.112128e-06  max resid 2.880101e-05 \n",
       "... Similar to previous best\n",
       "Run 17 stress 0.1927027 \n",
       "Run 18 stress 0.1425113 \n",
       "... Procrustes: rmse 0.00311685  max resid 0.01637586 \n",
       "Run 19 stress 0.1758296 \n",
       "Run 20 stress 0.1425113 \n",
       "... Procrustes: rmse 0.003116039  max resid 0.01637461 \n",
       "*** Solution reached\n"
      ]
     },
     "metadata": {},
     "output_type": "display_data"
    }
   ],
   "source": [
    "%%R\n",
    "physeq.maize = subset_samples(physeq.snorm, Genotype %in% c(\"354\", \"322\", \"3475\", \"M71xB73\", \"B73xIl14H\", \"B73xOh7B\", \n",
    "                                                           \"EX3101\", \"B73xB97\", \"B73xTx303\") & \n",
    "                                                          TimePoint %in% c(\"T2\", \"T3\"))\n",
    "\n",
    "# create unifrac distance matrix\n",
    "registerDoParallel(cores=28)\n",
    "wunif.dist = distance(physeq.maize, \n",
    "                      method = \"unifrac\", \n",
    "                      weighted = TRUE,\n",
    "                      fast = TRUE, \n",
    "                      parallel = TRUE, \n",
    "                      normalized = FALSE)\n",
    "\n",
    "\n",
    "nmds = ordinate(physeq.maize, \n",
    "                method = \"NMDS\", \n",
    "                distance = wunif.dist)\n",
    "\n",
    "p = plot_ordination(physeq.maize, nmds, justDF = TRUE)\n",
    "\n"
   ]
  },
  {
   "cell_type": "code",
   "execution_count": 229,
   "metadata": {
    "collapsed": false
   },
   "outputs": [
    {
     "data": {
      "image/png": "[encoded data removed]"
     },
     "metadata": {},
     "output_type": "display_data"
    }
   ],
   "source": [
    "%%R\n",
    "## generating plots\n",
    "p1 = ggplot(p, aes(x = NMDS1, y = NMDS2)) +\n",
    "        geom_point(aes(color=as.factor(Rep), shape = Genotype), size = 3) + \n",
    "        facet_wrap(~TimePoint)\n",
    "        #scale_size(range=c(2,8))\n",
    "p1"
   ]
  },
  {
   "cell_type": "code",
   "execution_count": 233,
   "metadata": {
    "collapsed": false
   },
   "outputs": [
    {
     "data": {
      "text/plain": [
       "    Genotype Ntreat\n",
       "1        354   Nneg\n",
       "2    B73xB97   Nneg\n",
       "3  B73xIl14H   Nneg\n",
       "5  B73xTx303   Npos\n",
       "6     EX3101   Nneg\n",
       "7       3475   Nneg\n",
       "10   M71xB73   Nneg\n",
       "12       322   Nneg\n",
       "16 B73xTx303   Nneg\n",
       "18  B73xOh7B   Nneg\n",
       "22   B73xB97   Npos\n"
      ]
     },
     "metadata": {},
     "output_type": "display_data"
    }
   ],
   "source": [
    "%%R\n",
    "physeq.maize %>% \n",
    "    sample_data() %>%\n",
    "    filter(TimePoint %in% c(\"T2\",\"T3\")) %>%\n",
    "    select(Genotype, Ntreat) %>% \n",
    "    unique"
   ]
  },
  {
   "cell_type": "code",
   "execution_count": 235,
   "metadata": {
    "collapsed": false,
    "scrolled": true
   },
   "outputs": [
    {
     "data": {
      "text/plain": [
       "\n",
       "Call:\n",
       "adonis(formula = d ~ Rep + Genotype, data = df, permutations = 999) \n",
       "\n",
       "Permutation: free\n",
       "Number of permutations: 999\n",
       "\n",
       "Terms added sequentially (first to last)\n",
       "\n",
       "          Df SumsOfSqs   MeanSqs F.Model      R2 Pr(>F)    \n",
       "Rep        3  0.092834 0.0309446  4.9812 0.31179  0.001 ***\n",
       "Genotype   8  0.055815 0.0069768  1.1231 0.18746  0.284    \n",
       "Residuals 24  0.149094 0.0062122         0.50075           \n",
       "Total     35  0.297743                   1.00000           \n",
       "---\n",
       "Signif. codes:  0 ‘***’ 0.001 ‘**’ 0.01 ‘*’ 0.05 ‘.’ 0.1 ‘ ’ 1\n"
      ]
     },
     "metadata": {},
     "output_type": "display_data"
    }
   ],
   "source": [
    "%%R\n",
    "physeq.maize = subset_samples(physeq.snorm, Genotype %in% c(\"354\", \"322\", \"3475\", \"M71xB73\", \"B73xIl14H\", \"B73xOh7B\", \n",
    "                                                           \"EX3101\", \"B73xB97\", \"B73xTx303\") & \n",
    "                                                          TimePoint %in% c(\"T2\", \"T3\") & Ntreat == \"Nneg\")\n",
    "\n",
    "# create unifrac distance matrix\n",
    "registerDoParallel(cores=28)\n",
    "wunif.dist = distance(physeq.maize, \n",
    "                      method = \"unifrac\", \n",
    "                      weighted = TRUE,\n",
    "                      fast = TRUE, \n",
    "                      parallel = TRUE, \n",
    "                      normalized = FALSE)\n",
    "\n",
    "\n",
    "df = as(sample_data(physeq.maize), \"data.frame\")\n",
    "d = wunif.dist\n",
    "Maizeadonis = adonis(formula = d ~ Rep + Genotype, df, permutations = 999)\n",
    "Maizeadonis"
   ]
  },
  {
   "cell_type": "code",
   "execution_count": 236,
   "metadata": {
    "collapsed": false,
    "scrolled": false
   },
   "outputs": [
    {
     "data": {
      "text/plain": [
       "\n",
       "Call:\n",
       "adonis(formula = d ~ Rep + Genotype * Ntreat, data = df, permutations = 999) \n",
       "\n",
       "Permutation: free\n",
       "Number of permutations: 999\n",
       "\n",
       "Terms added sequentially (first to last)\n",
       "\n",
       "                Df SumsOfSqs   MeanSqs F.Model      R2 Pr(>F)    \n",
       "Rep              3  0.039676 0.0132252 2.74535 0.37819  0.001 ***\n",
       "Genotype         1  0.004653 0.0046531 0.96590 0.04435  0.435    \n",
       "Ntreat           1  0.013518 0.0135176 2.80605 0.12885  0.018 *  \n",
       "Genotype:Ntreat  1  0.003707 0.0037066 0.76944 0.03533  0.620    \n",
       "Residuals        9  0.043356 0.0048173         0.41327           \n",
       "Total           15  0.104909                   1.00000           \n",
       "---\n",
       "Signif. codes:  0 ‘***’ 0.001 ‘**’ 0.01 ‘*’ 0.05 ‘.’ 0.1 ‘ ’ 1\n"
      ]
     },
     "metadata": {},
     "output_type": "display_data"
    }
   ],
   "source": [
    "%%R\n",
    "## Ntreat at R1 for maize  \n",
    "\n",
    "physeq.maize = subset_samples(physeq.snorm, Genotype %in% c(\"B73xB97\", \"B73xTx303\") & \n",
    "                                                          TimePoint %in% c(\"T2\", \"T3\"))\n",
    "\n",
    "# create unifrac distance matrix\n",
    "registerDoParallel(cores=28)\n",
    "wunif.dist = distance(physeq.maize, \n",
    "                      method = \"unifrac\", \n",
    "                      weighted = TRUE,\n",
    "                      fast = TRUE, \n",
    "                      parallel = TRUE, \n",
    "                      normalized = FALSE)\n",
    "\n",
    "\n",
    "df = as(sample_data(physeq.maize), \"data.frame\")\n",
    "d = wunif.dist\n",
    "Maizeadonis = adonis(formula = d ~ Rep + Genotype*Ntreat, df, permutations = 999)\n",
    "Maizeadonis"
   ]
  },
  {
   "cell_type": "markdown",
   "metadata": {},
   "source": [
    "### ordinate just core maize on R1"
   ]
  },
  {
   "cell_type": "code",
   "execution_count": 237,
   "metadata": {
    "collapsed": false,
    "scrolled": true
   },
   "outputs": [
    {
     "data": {
      "text/plain": [
       "Run 0 stress 0.09043987 \n",
       "Run 1 stress 0.09043987 \n",
       "... New best solution\n",
       "... Procrustes: rmse 1.125118e-05  max resid 2.893226e-05 \n",
       "... Similar to previous best\n",
       "Run 2 stress 0.09043989 \n",
       "... Procrustes: rmse 5.761777e-05  max resid 0.0001138624 \n",
       "... Similar to previous best\n",
       "Run 3 stress 0.09043987 \n",
       "... New best solution\n",
       "... Procrustes: rmse 1.231637e-05  max resid 2.728053e-05 \n",
       "... Similar to previous best\n",
       "Run 4 stress 0.09043987 \n",
       "... New best solution\n",
       "... Procrustes: rmse 2.870841e-06  max resid 6.5351e-06 \n",
       "... Similar to previous best\n",
       "Run 5 stress 0.09043987 \n",
       "... Procrustes: rmse 7.93517e-06  max resid 1.359864e-05 \n",
       "... Similar to previous best\n",
       "Run 6 stress 0.09043987 \n",
       "... Procrustes: rmse 1.10666e-05  max resid 2.546917e-05 \n",
       "... Similar to previous best\n",
       "Run 7 stress 0.09043987 \n",
       "... Procrustes: rmse 2.168535e-05  max resid 4.350097e-05 \n",
       "... Similar to previous best\n",
       "Run 8 stress 0.09599275 \n",
       "Run 9 stress 0.09043987 \n",
       "... Procrustes: rmse 3.120931e-06  max resid 8.307796e-06 \n",
       "... Similar to previous best\n",
       "Run 10 stress 0.09043987 \n",
       "... Procrustes: rmse 6.301759e-06  max resid 1.246647e-05 \n",
       "... Similar to previous best\n",
       "Run 11 stress 0.09043987 \n",
       "... Procrustes: rmse 5.963445e-06  max resid 1.161447e-05 \n",
       "... Similar to previous best\n",
       "Run 12 stress 0.09043987 \n",
       "... Procrustes: rmse 1.807569e-05  max resid 3.511236e-05 \n",
       "... Similar to previous best\n",
       "Run 13 stress 0.09599279 \n",
       "Run 14 stress 0.09043987 \n",
       "... Procrustes: rmse 4.256925e-06  max resid 1.146047e-05 \n",
       "... Similar to previous best\n",
       "Run 15 stress 0.09043987 \n",
       "... Procrustes: rmse 5.184181e-06  max resid 1.161371e-05 \n",
       "... Similar to previous best\n",
       "Run 16 stress 0.09599275 \n",
       "Run 17 stress 0.3112515 \n",
       "Run 18 stress 0.09043987 \n",
       "... Procrustes: rmse 1.819685e-06  max resid 4.93351e-06 \n",
       "... Similar to previous best\n",
       "Run 19 stress 0.09599275 \n",
       "Run 20 stress 0.09043987 \n",
       "... Procrustes: rmse 6.934065e-06  max resid 1.659984e-05 \n",
       "... Similar to previous best\n",
       "*** Solution reached\n"
      ]
     },
     "metadata": {},
     "output_type": "display_data"
    }
   ],
   "source": [
    "%%R\n",
    "nmds = ordinate(physeq.maize, \n",
    "                method = \"NMDS\", \n",
    "                distance = wunif.dist)\n",
    "\n",
    "p = plot_ordination(physeq.maize, nmds, justDF = TRUE)"
   ]
  },
  {
   "cell_type": "code",
   "execution_count": 244,
   "metadata": {
    "collapsed": false
   },
   "outputs": [
    {
     "data": {
      "image/png": "[encoded data removed]"
     },
     "metadata": {},
     "output_type": "display_data"
    }
   ],
   "source": [
    "%%R\n",
    "p$Genotype = factor(p$Genotype, levels = c(\"B73xB97\", \"B73xTx303\"))\n",
    "p1 = ggplot(p, aes(x = NMDS1, y = NMDS2)) +\n",
    "        geom_point(aes(fill = Genotype, shape = Ntreat), size = 3) + \n",
    "           scale_shape_manual(values=c(21, 22)) +\n",
    "        scale_fill_manual(values = c(\"#FFFF00\", \"#1CE6FF\")) +\n",
    "        theme_pub()+\n",
    "        guides(fill=guide_legend(override.aes=list(colour= c(\"#FFFF00\", \"#1CE6FF\")))) +\n",
    "        facet_wrap(~TimePoint)\n",
    "      \n",
    "p1"
   ]
  },
  {
   "cell_type": "markdown",
   "metadata": {
    "collapsed": true
   },
   "source": [
    "# Just maize lines harvested on main date"
   ]
  },
  {
   "cell_type": "code",
   "execution_count": 69,
   "metadata": {
    "collapsed": false
   },
   "outputs": [
    {
     "data": {
      "text/plain": [
       " [1] \"322\"       \"3475\"      \"354\"       \"B73xB97\"   \"B73xIl14H\" \"B73xOh7B\" \n",
       " [7] \"B73xTx303\" \"BARE\"      \"ECHES\"     \"EX3101\"    \"FAGES\"     \"HELAN\"    \n",
       "[13] \"M71xB73\"   \"SORSUD\"   \n"
      ]
     },
     "metadata": {},
     "output_type": "display_data"
    }
   ],
   "source": [
    "%%R\n",
    "physeq.snorm %>% \n",
    "    sample_data() %>%\n",
    "    .$Genotype %>%\n",
    "    levels"
   ]
  },
  {
   "cell_type": "code",
   "execution_count": 68,
   "metadata": {
    "collapsed": false
   },
   "outputs": [
    {
     "data": {
      "text/plain": [
       "    Genotype\n",
       "1        354\n",
       "2    B73xB97\n",
       "3      ECHES\n",
       "4      FAGES\n",
       "5  B73xIl14H\n",
       "6     SORSUD\n",
       "8       BARE\n",
       "11     HELAN\n",
       "13 B73xTx303\n",
       "16    EX3101\n",
       "19      3475\n",
       "25   M71xB73\n",
       "27       322\n",
       "38  B73xOh7B\n"
      ]
     },
     "metadata": {},
     "output_type": "display_data"
    }
   ],
   "source": [
    "%%R\n",
    "physeq.snorm %>% \n",
    "    sample_data() %>%\n",
    "    filter(TimePoint %in% c(\"T2\",\"T3\")) %>%\n",
    "    select(Genotype) %>% \n",
    "    unique"
   ]
  },
  {
   "cell_type": "code",
   "execution_count": 264,
   "metadata": {
    "collapsed": false
   },
   "outputs": [
    {
     "data": {
      "text/plain": [
       "[1] B73xB97   B73xTx303 M71xB73   B73xOh7B \n",
       "Levels: B73xB97 B73xOh7B B73xTx303 M71xB73\n"
      ]
     },
     "metadata": {},
     "output_type": "display_data"
    }
   ],
   "source": [
    "%%R\n",
    "physeq.maize = subset_samples(physeq.snorm, Genotype %in% c(\"322\",\"3475\",\"354\",\"B73xB97\",\"B73xIl14H\",\"B73xOh7B\", \n",
    " \"B73xTx303\", \"EX3101\",\"M71xB73\") & TimePoint == \"T3\")\n",
    "\n",
    "physeq.maize %>%\n",
    "    sample_data() %>%\n",
    "    .$Genotype %>%\n",
    "    unique %>%\n",
    "    print\n",
    "# B73xIl14H harvested on T2, so will be removed by filter"
   ]
  },
  {
   "cell_type": "code",
   "execution_count": 265,
   "metadata": {
    "collapsed": false
   },
   "outputs": [],
   "source": [
    "%%R\n",
    "\n",
    "# create unifrac distance matrix\n",
    "registerDoParallel(cores=28)\n",
    "wunif.dist = distance(physeq.maize, \n",
    "                      method = \"unifrac\", \n",
    "                      weighted = TRUE,\n",
    "                      fast = TRUE, \n",
    "                      parallel = TRUE, \n",
    "                      normalized = FALSE)"
   ]
  },
  {
   "cell_type": "code",
   "execution_count": 270,
   "metadata": {
    "collapsed": false,
    "scrolled": false
   },
   "outputs": [
    {
     "data": {
      "text/plain": [
       "\n",
       "Call:\n",
       "adonis(formula = d ~ Rep + Ntreat * Genotype, data = df, permutations = 999) \n",
       "\n",
       "Permutation: free\n",
       "Number of permutations: 999\n",
       "\n",
       "Terms added sequentially (first to last)\n",
       "\n",
       "                Df SumsOfSqs   MeanSqs F.Model      R2 Pr(>F)    \n",
       "Rep              3  0.048397 0.0161323 3.10838 0.30093  0.001 ***\n",
       "Ntreat           1  0.014028 0.0140283 2.70297 0.08723  0.010 ** \n",
       "Genotype         3  0.016845 0.0056152 1.08193 0.10474  0.329    \n",
       "Ntreat:Genotype  1  0.003707 0.0037066 0.71419 0.02305  0.707    \n",
       "Residuals       15  0.077849 0.0051900         0.48406           \n",
       "Total           23  0.160827                   1.00000           \n",
       "---\n",
       "Signif. codes:  0 ‘***’ 0.001 ‘**’ 0.01 ‘*’ 0.05 ‘.’ 0.1 ‘ ’ 1\n"
      ]
     },
     "metadata": {},
     "output_type": "display_data"
    }
   ],
   "source": [
    "%%R\n",
    "set.seed(101)\n",
    "\n",
    "df = as(sample_data(physeq.maize), \"data.frame\")\n",
    "d = wunif.dist\n",
    "Maizeadonis = adonis(formula = d ~ Rep + Ntreat*Genotype, df, permutations = 999)\n",
    "Maizeadonis"
   ]
  },
  {
   "cell_type": "markdown",
   "metadata": {},
   "source": [
    "# Maize on T1"
   ]
  },
  {
   "cell_type": "code",
   "execution_count": 227,
   "metadata": {
    "collapsed": false,
    "scrolled": true
   },
   "outputs": [
    {
     "data": {
      "text/plain": [
       "[1] B73xTx303 B73xB97   M71xB73  \n",
       "Levels: B73xB97 B73xTx303 M71xB73\n",
       "\n",
       "Call:\n",
       "adonis(formula = d ~ Rep + Genotype, data = df, permutations = 999) \n",
       "\n",
       "Permutation: free\n",
       "Number of permutations: 999\n",
       "\n",
       "Terms added sequentially (first to last)\n",
       "\n",
       "          Df SumsOfSqs  MeanSqs F.Model      R2 Pr(>F)  \n",
       "Rep        3  0.078576 0.026192  2.2879 0.45014  0.052 .\n",
       "Genotype   2  0.027293 0.013647  1.1920 0.15635  0.340  \n",
       "Residuals  6  0.068690 0.011448         0.39350         \n",
       "Total     11  0.174560                  1.00000         \n",
       "---\n",
       "Signif. codes:  0 ‘***’ 0.001 ‘**’ 0.01 ‘*’ 0.05 ‘.’ 0.1 ‘ ’ 1\n"
      ]
     },
     "metadata": {},
     "output_type": "display_data"
    }
   ],
   "source": [
    "%%R\n",
    "# subset samples and print genotypes included\n",
    "physeq.maize = subset_samples(physeq.snorm, Genotype %in% c(\"322\",\"3475\",\"354\",\"B73xB97\",\"B73xIl14H\",\"B73xOh7B\", \n",
    " \"B73xTx303\", \"EX3101\",\"M71xB73\") & TimePoint == \"T1\")\n",
    "physeq.maize %>%\n",
    "    sample_data() %>%\n",
    "    .$Genotype %>%\n",
    "    unique %>%\n",
    "    print\n",
    "\n",
    "# calculate weighted UniFrac distances\n",
    "wunif.dist = distance(physeq.maize, \n",
    "                      method = \"unifrac\", \n",
    "                      weighted = TRUE,\n",
    "                      fast = TRUE, \n",
    "                      parallel = TRUE, \n",
    "                      normalized = FALSE)\n",
    "\n",
    "# perform permanova\n",
    "set.seed(101)\n",
    "\n",
    "df = as(sample_data(physeq.maize), \"data.frame\")\n",
    "d = wunif.dist\n",
    "Maizeadonis = adonis(formula = d ~ Rep + Genotype, df, permutations = 999)\n",
    "Maizeadonis"
   ]
  },
  {
   "cell_type": "code",
   "execution_count": 225,
   "metadata": {
    "collapsed": false
   },
   "outputs": [
    {
     "data": {
      "text/plain": [
       "         X.sampleID SampleNumericID Plate primerFR_ID_byPlate primerFR_ID_total\n",
       "1 Penn-T1_2-2c_Nneg            D-99     1                  75                75\n",
       "2 Penn-T1_3-1c_Nneg           D-101     2                   7               103\n",
       "3 Penn-T1_1-4b_Nneg            D-97     1                  12                12\n",
       "4 Penn-T1_4-5b_Nneg           D-103     2                  34               130\n",
       "  PrimerWell FwdPrimerID RevPrimerID barcode_ID fwd_barcode rev_barcode\n",
       "1        C10           3          10         75    TAGCGAGT    TAGCAGAC\n",
       "2         G1           7           1        103    GATCGTGT    AACTCTCG\n",
       "3         D2           4           2         12    CTGCGTGT    ACTATGTC\n",
       "4         B5           2           5        130    CGTTACTA    CGTACTCA\n",
       "  Experiment TimePoint    PlotID Plot_loc Ntreat Genotype Rep FertStrip Row\n",
       "1       Penn        T1 2-2c_Nneg     2-2c   Nneg  M71xB73   2         2   c\n",
       "2       Penn        T1 3-1c_Nneg     3-1c   Nneg  M71xB73   3         1   c\n",
       "3       Penn        T1 1-4b_Nneg     1-4b   Nneg  M71xB73   1         4   b\n",
       "4       Penn        T1 4-5b_Nneg     4-5b   Nneg  M71xB73   4         5   b\n",
       "  Planted Species\n",
       "1 Planted   Maize\n",
       "2 Planted   Maize\n",
       "3 Planted   Maize\n",
       "4 Planted   Maize\n"
      ]
     },
     "metadata": {},
     "output_type": "display_data"
    }
   ],
   "source": [
    "%%R\n",
    "sample_data(physeq.maize) %>%\n",
    "    filter(Genotype == \"M71xB73\")"
   ]
  },
  {
   "cell_type": "markdown",
   "metadata": {},
   "source": [
    "# Maize on T4"
   ]
  },
  {
   "cell_type": "code",
   "execution_count": 217,
   "metadata": {
    "collapsed": false
   },
   "outputs": [],
   "source": [
    "%%R\n",
    "physeq.maize = subset_samples(physeq.snorm, Genotype %in% c(\"B73xB97\",\"B73xTx303\") & TimePoint == \"T4\")\n",
    "\n",
    "\n"
   ]
  },
  {
   "cell_type": "code",
   "execution_count": 218,
   "metadata": {
    "collapsed": false
   },
   "outputs": [],
   "source": [
    "%%R\n",
    "\n",
    "# create unifrac distance matrix\n",
    "registerDoParallel(cores=28)\n",
    "wunif.dist = distance(physeq.maize, \n",
    "                      method = \"unifrac\", \n",
    "                      weighted = TRUE,\n",
    "                      fast = TRUE, \n",
    "                      parallel = TRUE, \n",
    "                      normalized = FALSE)"
   ]
  },
  {
   "cell_type": "code",
   "execution_count": 219,
   "metadata": {
    "collapsed": false,
    "scrolled": false
   },
   "outputs": [
    {
     "data": {
      "text/plain": [
       "\n",
       "Call:\n",
       "adonis(formula = d ~ Rep:Genotype + Genotype * Ntreat, data = df,      permutations = 999) \n",
       "\n",
       "Permutation: free\n",
       "Number of permutations: 999\n",
       "\n",
       "Terms added sequentially (first to last)\n",
       "\n",
       "                Df SumsOfSqs   MeanSqs F.Model      R2 Pr(>F)   \n",
       "Genotype         1  0.005147 0.0051467 0.88221 0.04215  0.534   \n",
       "Ntreat           1  0.009401 0.0094010 1.61143 0.07699  0.126   \n",
       "Rep:Genotype     6  0.063434 0.0105723 1.81220 0.51951  0.010 **\n",
       "Genotype:Ntreat  1  0.009117 0.0091173 1.56281 0.07467  0.131   \n",
       "Residuals        6  0.035004 0.0058339         0.28667          \n",
       "Total           15  0.122102                   1.00000          \n",
       "---\n",
       "Signif. codes:  0 ‘***’ 0.001 ‘**’ 0.01 ‘*’ 0.05 ‘.’ 0.1 ‘ ’ 1\n"
      ]
     },
     "metadata": {},
     "output_type": "display_data"
    }
   ],
   "source": [
    "%%R\n",
    "set.seed(101)\n",
    "\n",
    "df = as(sample_data(physeq.maize), \"data.frame\")\n",
    "d = wunif.dist\n",
    "Maizeadonis = adonis(formula = d ~ Rep:Genotype + Genotype*Ntreat, df, permutations = 999)\n",
    "Maizeadonis"
   ]
  },
  {
   "cell_type": "code",
   "execution_count": 34,
   "metadata": {
    "collapsed": false
   },
   "outputs": [],
   "source": [
    "%%R\n",
    "cnts = sample_sums(physeq) %>% \n",
    "    as.data.frame \n",
    "cnts$sample = rownames(cnts)\n",
    "colnames(cnts)[1] = \"reads\"\n",
    "cnts = arrange(cnts, desc(reads))\n",
    "# ggplot() +\n",
    "    #    geom_bar(stat = \"identity\")"
   ]
  },
  {
   "cell_type": "code",
   "execution_count": 35,
   "metadata": {
    "collapsed": false,
    "scrolled": true
   },
   "outputs": [
    {
     "data": {
      "text/plain": [
       "  reads            sample\n",
       "1 38331 Penn-T4_1-2b_Npos\n",
       "2 36144 Penn-T1_1-4c_Nneg\n",
       "3 35553 Penn-T2_4-3c_Nneg\n",
       "4 33569 Penn-T4_3-4a_Npos\n",
       "5 33388 Penn-T4_1-4a_Npos\n",
       "6 30679 Penn-T4_1-1b_Npos\n"
      ]
     },
     "metadata": {},
     "output_type": "display_data"
    }
   ],
   "source": [
    "%%R\n",
    "head(cnts)"
   ]
  },
  {
   "cell_type": "code",
   "execution_count": 41,
   "metadata": {
    "collapsed": false
   },
   "outputs": [
    {
     "data": {
      "text/plain": [
       "'data.frame':\t188 obs. of  2 variables:\n",
       " $ reads : num  38331 36144 35553 33569 33388 ...\n",
       " $ sample: Factor w/ 188 levels \"Penn-T4_1-2b_Npos\",..: 1 2 3 4 5 6 7 8 9 10 ...\n"
      ]
     },
     "metadata": {},
     "output_type": "display_data"
    }
   ],
   "source": [
    "%%R\n",
    "cnts$sample = factor(cnts$sample, levels = cnts$sample)\n",
    "str(cnts)"
   ]
  },
  {
   "cell_type": "code",
   "execution_count": 43,
   "metadata": {
    "collapsed": false
   },
   "outputs": [
    {
     "data": {
      "text/plain": [
       "    reads            sample\n",
       "183  4841 Penn-T1_4-5b_Nneg\n",
       "184  4744 Penn-T2_2-1b_Nneg\n",
       "185  4241 Penn-T3_4-5b_Nneg\n",
       "186  4134 Penn-T3_2-4c_Nneg\n",
       "187  3775 Penn-T4_2-3c_Nneg\n",
       "188  3133 Penn-T1_2-5c_Nneg\n"
      ]
     },
     "metadata": {},
     "output_type": "display_data"
    }
   ],
   "source": [
    "%%R\n",
    "tail(cnts)"
   ]
  },
  {
   "cell_type": "code",
   "execution_count": 42,
   "metadata": {
    "collapsed": false,
    "scrolled": true
   },
   "outputs": [
    {
     "data": {
      "image/png": "[encoded data removed]"
     },
     "metadata": {},
     "output_type": "display_data"
    }
   ],
   "source": [
    "%%R\n",
    "ggplot(cnts, aes(x = sample, y = reads)) +\n",
    "      geom_bar(stat = \"identity\")"
   ]
  },
  {
   "cell_type": "code",
   "execution_count": null,
   "metadata": {
    "collapsed": true
   },
   "outputs": [],
   "source": []
  },
  {
   "cell_type": "markdown",
   "metadata": {},
   "source": [
    "# Pseudomonas"
   ]
  },
  {
   "cell_type": "code",
   "execution_count": 84,
   "metadata": {
    "collapsed": false
   },
   "outputs": [
    {
     "data": {
      "text/plain": [
       "Taxonomy Table:     [6 taxa by 8 taxonomic ranks]:\n",
       "         Rank1      Rank2             Rank3               \n",
       "OTU.1530 \"Bacteria\" \"__Acidobacteria\" \"__32-21\"           \n",
       "OTU.589  \"Bacteria\" \"__Acidobacteria\" \"__32-21\"           \n",
       "OTU.1589 \"Bacteria\" \"__Acidobacteria\" \"__JG37-AG-116\"     \n",
       "OTU.5273 \"Bacteria\" \"__Acidobacteria\" \"__Acidobacteriales\"\n",
       "OTU.5981 \"Bacteria\" \"__Acidobacteria\" \"__Acidobacteriales\"\n",
       "OTU.6610 \"Bacteria\" \"__Acidobacteria\" \"__Acidobacteriales\"\n",
       "         Rank4                    Rank5          Rank6                    Rank7\n",
       "OTU.1530 \"__uncultured_bacterium\" NA             NA                       NA   \n",
       "OTU.589  \"__uncultured_bacterium\" NA             NA                       NA   \n",
       "OTU.1589 NA                       NA             NA                       NA   \n",
       "OTU.5273 \"__Acidobacteriaceae\"    \"__uncultured\" \"__uncultured_bacterium\" NA   \n",
       "OTU.5981 \"__Acidobacteriaceae\"    \"__uncultured\" NA                       NA   \n",
       "OTU.6610 \"__Acidobacteriaceae\"    \"__uncultured\" \"__uncultured_bacterium\" NA   \n",
       "         Rank8\n",
       "OTU.1530 NA   \n",
       "OTU.589  NA   \n",
       "OTU.1589 NA   \n",
       "OTU.5273 NA   \n",
       "OTU.5981 NA   \n",
       "OTU.6610 NA   \n"
      ]
     },
     "metadata": {},
     "output_type": "display_data"
    }
   ],
   "source": [
    "%%R\n",
    "physeq.core %>% \n",
    "    tax_table() %>% \n",
    "    head()"
   ]
  },
  {
   "cell_type": "code",
   "execution_count": 97,
   "metadata": {
    "collapsed": false
   },
   "outputs": [
    {
     "data": {
      "text/plain": [
       "phyloseq-class experiment-level object\n",
       "otu_table()   OTU Table:         [ 5 taxa and 124 samples ]\n",
       "sample_data() Sample Data:       [ 124 samples by 21 sample variables ]\n",
       "tax_table()   Taxonomy Table:    [ 5 taxa by 8 taxonomic ranks ]\n",
       "phy_tree()    Phylogenetic Tree: [ 5 tips and 4 internal nodes ]\n"
      ]
     },
     "metadata": {},
     "output_type": "display_data"
    }
   ],
   "source": [
    "%%R\n",
    "pdms = subset_taxa(physeq.snorm, Rank6==\"__Pseudomonas\") %>%\n",
    "    subset_samples(Ntreat == \"Nneg\")\n",
    "pdms"
   ]
  },
  {
   "cell_type": "code",
   "execution_count": 98,
   "metadata": {
    "collapsed": false,
    "scrolled": true
   },
   "outputs": [
    {
     "data": {
      "image/png": "[encoded data removed]"
     },
     "metadata": {},
     "output_type": "display_data"
    }
   ],
   "source": [
    "%%R\n",
    "title = \"plot_bar; Pseudomonas-only\"\n",
    "plot_bar(pdms, \"Genotype\", \"Abundance\", title=title)"
   ]
  },
  {
   "cell_type": "code",
   "execution_count": 99,
   "metadata": {
    "collapsed": true
   },
   "outputs": [],
   "source": [
    "%%R\n",
    "pdms.mean = psmelt(pdms) %>%\n",
    "        group_by(OTU,TimePoint, Genotype) %>%\n",
    "         summarize(relAbundance = mean(Abundance))"
   ]
  },
  {
   "cell_type": "code",
   "execution_count": 100,
   "metadata": {
    "collapsed": false,
    "scrolled": false
   },
   "outputs": [
    {
     "data": {
      "image/png": "[encoded data removed]"
     },
     "metadata": {},
     "output_type": "display_data"
    }
   ],
   "source": [
    "%%R -w 700 -h 700\n",
    "ggplot(pdms.mean, aes(x = Genotype, y = relAbundance)) +\n",
    "    geom_bar(stat = \"identity\") + \n",
    "    facet_grid(OTU~TimePoint, scales = \"free_x\")+\n",
    "    theme(axis.text.x = element_text(angle = 60))\n",
    "   # geom_text(aes(y = relAbundance + .001, label=sig))"
   ]
  },
  {
   "cell_type": "code",
   "execution_count": 94,
   "metadata": {
    "collapsed": false
   },
   "outputs": [
    {
     "data": {
      "text/plain": [
       "Taxonomy Table:     [5 taxa by 8 taxonomic ranks]:\n",
       "         Rank1      Rank2              Rank3                  \n",
       "OTU.627  \"Bacteria\" \"__Proteobacteria\" \"__Gammaproteobacteria\"\n",
       "OTU.71   \"Bacteria\" \"__Proteobacteria\" \"__Gammaproteobacteria\"\n",
       "OTU.2174 \"Bacteria\" \"__Proteobacteria\" \"__Gammaproteobacteria\"\n",
       "OTU.6817 \"Bacteria\" \"__Proteobacteria\" \"__Gammaproteobacteria\"\n",
       "OTU.848  \"Bacteria\" \"__Proteobacteria\" \"__Gammaproteobacteria\"\n",
       "         Rank4               Rank5                Rank6          \n",
       "OTU.627  \"__Pseudomonadales\" \"__Pseudomonadaceae\" \"__Pseudomonas\"\n",
       "OTU.71   \"__Pseudomonadales\" \"__Pseudomonadaceae\" \"__Pseudomonas\"\n",
       "OTU.2174 \"__Pseudomonadales\" \"__Pseudomonadaceae\" \"__Pseudomonas\"\n",
       "OTU.6817 \"__Pseudomonadales\" \"__Pseudomonadaceae\" \"__Pseudomonas\"\n",
       "OTU.848  \"__Pseudomonadales\" \"__Pseudomonadaceae\" \"__Pseudomonas\"\n",
       "         Rank7                    Rank8\n",
       "OTU.627  NA                       NA   \n",
       "OTU.71   \"__uncultured_bacterium\" NA   \n",
       "OTU.2174 NA                       NA   \n",
       "OTU.6817 NA                       NA   \n",
       "OTU.848  NA                       NA   \n"
      ]
     },
     "metadata": {},
     "output_type": "display_data"
    }
   ],
   "source": [
    "%%R\n",
    "tax_table(pdms)"
   ]
  }
 ],
 "metadata": {
  "anaconda-cloud": {},
  "hide_input": true,
  "kernelspec": {
   "display_name": "Python 2",
   "language": "python",
   "name": "python2"
  },
  "language_info": {
   "codemirror_mode": {
    "name": "ipython",
    "version": 2
   },
   "file_extension": ".py",
   "mimetype": "text/x-python",
   "name": "python",
   "nbconvert_exporter": "python",
   "pygments_lexer": "ipython2",
   "version": "2.7.13"
  }
 },
 "nbformat": 4,
 "nbformat_minor": 0
}
