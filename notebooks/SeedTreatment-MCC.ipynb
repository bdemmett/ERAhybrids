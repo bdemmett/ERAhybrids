{
 "cells": [
  {
   "cell_type": "markdown",
   "metadata": {},
   "source": [
    "## Description:\n",
    "\n",
    "    Evaluate community differences between treated seeds and untreated controlls\n",
    "\n"
   ]
  },
  {
   "cell_type": "markdown",
   "metadata": {},
   "source": [
    "# Init"
   ]
  },
  {
   "cell_type": "code",
   "execution_count": 1,
   "metadata": {},
   "outputs": [],
   "source": [
    "%load_ext rpy2.ipython"
   ]
  },
  {
   "cell_type": "code",
   "execution_count": 29,
   "metadata": {},
   "outputs": [
    {
     "name": "stderr",
     "output_type": "stream",
     "text": [
      "/opt/anaconda2/lib/python2.7/site-packages/rpy2/rinterface/__init__.py:186: RRuntimeWarning: Loading required package: Matrix\n",
      "\n",
      "  warnings.warn(x, RRuntimeWarning)\n",
      "/opt/anaconda2/lib/python2.7/site-packages/rpy2/rinterface/__init__.py:186: RRuntimeWarning: \n",
      "Attaching package: ‘Matrix’\n",
      "\n",
      "\n",
      "  warnings.warn(x, RRuntimeWarning)\n",
      "/opt/anaconda2/lib/python2.7/site-packages/rpy2/rinterface/__init__.py:186: RRuntimeWarning: The following object is masked from ‘package:S4Vectors’:\n",
      "\n",
      "    expand\n",
      "\n",
      "\n",
      "  warnings.warn(x, RRuntimeWarning)\n",
      "/opt/anaconda2/lib/python2.7/site-packages/rpy2/rinterface/__init__.py:186: RRuntimeWarning: Loading required package: lme4\n",
      "\n",
      "  warnings.warn(x, RRuntimeWarning)\n",
      "/opt/anaconda2/lib/python2.7/site-packages/rpy2/rinterface/__init__.py:186: RRuntimeWarning: \n",
      "Attaching package: ‘lmerTest’\n",
      "\n",
      "\n",
      "  warnings.warn(x, RRuntimeWarning)\n",
      "/opt/anaconda2/lib/python2.7/site-packages/rpy2/rinterface/__init__.py:186: RRuntimeWarning: The following object is masked from ‘package:lme4’:\n",
      "\n",
      "    lmer\n",
      "\n",
      "\n",
      "  warnings.warn(x, RRuntimeWarning)\n",
      "/opt/anaconda2/lib/python2.7/site-packages/rpy2/rinterface/__init__.py:186: RRuntimeWarning: The following object is masked from ‘package:stats’:\n",
      "\n",
      "    step\n",
      "\n",
      "\n",
      "  warnings.warn(x, RRuntimeWarning)\n",
      "/opt/anaconda2/lib/python2.7/site-packages/rpy2/rinterface/__init__.py:186: RRuntimeWarning: Loading required package: estimability\n",
      "\n",
      "  warnings.warn(x, RRuntimeWarning)\n",
      "/opt/anaconda2/lib/python2.7/site-packages/rpy2/rinterface/__init__.py:186: RRuntimeWarning: \n",
      "Attaching package: ‘lsmeans’\n",
      "\n",
      "\n",
      "  warnings.warn(x, RRuntimeWarning)\n",
      "/opt/anaconda2/lib/python2.7/site-packages/rpy2/rinterface/__init__.py:186: RRuntimeWarning: The following object is masked from ‘package:lmerTest’:\n",
      "\n",
      "    lsmeans\n",
      "\n",
      "\n",
      "  warnings.warn(x, RRuntimeWarning)\n"
     ]
    }
   ],
   "source": [
    "%%R\n",
    "\n",
    "library(ggplot2)\n",
    "library(foreach)\n",
    "library(doParallel)\n",
    "library(gridExtra)\n",
    "library(dplyr)\n",
    "library(tidyr)\n",
    "library(vegan)\n",
    "library(DESeq2)\n",
    "library(phyloseq)\n",
    "library(lmerTest)\n",
    "library(lsmeans)"
   ]
  },
  {
   "cell_type": "code",
   "execution_count": 70,
   "metadata": {},
   "outputs": [],
   "source": [
    "%%R\n",
    "# set theme for ggplot\n",
    "\n",
    "theme_pub = function (base_size = 11, base_family = \"Helvetica\") \n",
    "{\n",
    "    theme_grey(base_size = base_size, base_family = base_family) %+replace% \n",
    "        theme(\n",
    "            axis.line.x = element_line(size = .5),\n",
    "            axis.line.y = element_line(size = .5),\n",
    "            panel.background = element_rect(fill = \"white\", colour = NA), \n",
    "            panel.border = element_rect(fill = NA, color = \"black\", size = .5), \n",
    "            panel.grid.major = element_blank(), \n",
    "            panel.grid.minor = element_blank(), \n",
    "            strip.background = element_rect(fill = \"grey85\", \n",
    "                colour = \"grey20\"), \n",
    "            legend.key = element_rect(fill = \"white\", \n",
    "                colour = NA), complete = TRUE)\n",
    "    }\n",
    "\n",
    "library(RColorBrewer)\n",
    "TreatmentColors = brewer.pal(3, 'Dark2')"
   ]
  },
  {
   "cell_type": "markdown",
   "metadata": {},
   "source": [
    "# Loading phyloseq object"
   ]
  },
  {
   "cell_type": "code",
   "execution_count": 4,
   "metadata": {
    "collapsed": true
   },
   "outputs": [],
   "source": [
    "%%R\n",
    "setwd('/home/bryan/ERA/data/MiSeq/20170417_run1/phyloseq/')"
   ]
  },
  {
   "cell_type": "code",
   "execution_count": 78,
   "metadata": {
    "scrolled": false
   },
   "outputs": [
    {
     "data": {
      "text/plain": [
       "phyloseq-class experiment-level object\n",
       "otu_table()   OTU Table:         [ 4592 taxa and 243 samples ]\n",
       "sample_data() Sample Data:       [ 243 samples by 46 sample variables ]\n",
       "tax_table()   Taxonomy Table:    [ 4592 taxa by 8 taxonomic ranks ]\n",
       "phy_tree()    Phylogenetic Tree: [ 4592 tips and 4591 internal nodes ]\n"
      ]
     },
     "metadata": {},
     "output_type": "display_data"
    }
   ],
   "source": [
    "%%R \n",
    "# loading\n",
    "\n",
    "physeq = readRDS('ERA_snorm.rds')\n",
    "\n",
    "physeq = transform_sample_counts(physeq, function(x) sqrt(x))\n",
    "#remove T0, not necessary\n",
    "physeq = subset_samples(physeq, !is.na(Genotype), TRUE)\n",
    "physeq"
   ]
  },
  {
   "cell_type": "code",
   "execution_count": 79,
   "metadata": {},
   "outputs": [],
   "source": [
    "%%R\n",
    "sample_data(physeq)$Rep = as.factor(sample_data(physeq)$Rep)\n",
    "sample_data(physeq)$Row = as.factor(sample_data(physeq)$Row)\n",
    "sample_data(physeq)$Fert = as.factor(sample_data(physeq)$Fert)"
   ]
  },
  {
   "cell_type": "code",
   "execution_count": 80,
   "metadata": {
    "scrolled": true
   },
   "outputs": [
    {
     "data": {
      "text/plain": [
       " [1] \"322\"     \"322U\"    \"330\"     \"339\"     \"3394\"    \"3475\"    \"3475U\"  \n",
       " [8] \"34M95\"   \"34N42\"   \"34N42U\"  \"3517\"    \"354\"     \"3541\"    \"354U\"   \n",
       "[15] \"3618\"    \"Bare\"    \"P1151HR\"\n"
      ]
     },
     "metadata": {},
     "output_type": "display_data"
    }
   ],
   "source": [
    "%%R\n",
    "sample_data(physeq)$Plant %>%\n",
    "    levels"
   ]
  },
  {
   "cell_type": "markdown",
   "metadata": {},
   "source": [
    "* 322, 3475, 34N42, and 354 have plots with both treated and untreated seeds that were sampled at T2"
   ]
  },
  {
   "cell_type": "code",
   "execution_count": 81,
   "metadata": {},
   "outputs": [
    {
     "data": {
      "text/plain": [
       "phyloseq-class experiment-level object\n",
       "otu_table()   OTU Table:         [ 4592 taxa and 32 samples ]\n",
       "sample_data() Sample Data:       [ 32 samples by 46 sample variables ]\n",
       "tax_table()   Taxonomy Table:    [ 4592 taxa by 8 taxonomic ranks ]\n",
       "phy_tree()    Phylogenetic Tree: [ 4592 tips and 4591 internal nodes ]\n"
      ]
     },
     "metadata": {},
     "output_type": "display_data"
    }
   ],
   "source": [
    "%%R\n",
    "phy.st = subset_samples(physeq, Genotype %in% c(\"322\", \"3475\", \"34N42\", \"354\") & TimePoint == \"T2\")\n",
    "phy.st"
   ]
  },
  {
   "cell_type": "code",
   "execution_count": 82,
   "metadata": {},
   "outputs": [
    {
     "data": {
      "text/plain": [
       "[1] 1936 2003 1953 1984\n"
      ]
     },
     "metadata": {},
     "output_type": "display_data"
    }
   ],
   "source": [
    "%%R\n",
    "sample_data(phy.st)$R_Year %>%\n",
    "    unique"
   ]
  },
  {
   "cell_type": "markdown",
   "metadata": {},
   "source": [
    "* does not include treated plants with multivariate outliers"
   ]
  },
  {
   "cell_type": "markdown",
   "metadata": {},
   "source": [
    "# Calculate distances matrices "
   ]
  },
  {
   "cell_type": "code",
   "execution_count": 83,
   "metadata": {
    "collapsed": true
   },
   "outputs": [],
   "source": [
    "%%R\n",
    "registerDoParallel(cores=28)\n",
    "bray.dist = distance(phy.st, \n",
    "                      method = \"bray\", \n",
    "                      weighted = FALSE,\n",
    "                      fast = TRUE, \n",
    "                      parallel = TRUE, \n",
    "                      normalized = FALSE)"
   ]
  },
  {
   "cell_type": "code",
   "execution_count": 84,
   "metadata": {},
   "outputs": [
    {
     "data": {
      "text/plain": [
       " [1] \"X.sampleID\"      \"TubeID\"          \"ExtractionPlate\" \"PooledDNAPlate\" \n",
       " [5] \"Sample.Well.ID\"  \"PrimerPlate\"     \"Primer.Number\"   \"Primer.Well.ID\" \n",
       " [9] \"X\"               \"primerFwdLoc\"    \"primerRevLoc\"    \"fwd_barcode\"    \n",
       "[13] \"rev_barcode\"     \"PlotID\"          \"TimePoint\"       \"Rep\"            \n",
       "[17] \"Row\"             \"Pos\"             \"Fert\"            \"PlotIndex\"      \n",
       "[21] \"Plant\"           \"Genotype\"        \"SeedTreatment\"   \"R_Year\"         \n",
       "[25] \"ERA\"             \"BG_activity.g\"   \"BX_activity.g\"   \"CB_activity.g\"  \n",
       "[29] \"LAP_activity.g\"  \"NAG_activity.g\"  \"Stage\"           \"kgdw_ha\"        \n",
       "[33] \"FracN.leco\"      \"FracC.leco\"      \"kgN_ha\"          \"RGR\"            \n",
       "[37] \"AGR\"             \"Nprod\"           \"NupR\"            \"d15N\"           \n",
       "[41] \"X15N_AtPercent\"  \"FracN\"           \"FracN_fromSoil\"  \"FracN_fromFert\" \n",
       "[45] \"kgFertN_ha\"      \"kgSoilN_ha\"     \n"
      ]
     },
     "metadata": {},
     "output_type": "display_data"
    }
   ],
   "source": [
    "%%R\n",
    "phy.st %>% \n",
    "    sample_data() %>%\n",
    "    colnames()"
   ]
  },
  {
   "cell_type": "code",
   "execution_count": 85,
   "metadata": {
    "scrolled": true
   },
   "outputs": [
    {
     "data": {
      "text/plain": [
       "[1] \"322\"   \"3475\"  \"34N42\" \"354\"  \n"
      ]
     },
     "metadata": {},
     "output_type": "display_data"
    }
   ],
   "source": [
    "%%R\n",
    "phy.st %>% \n",
    "    sample_data() %>%\n",
    "    .$Genotype %>%\n",
    "    levels()"
   ]
  },
  {
   "cell_type": "markdown",
   "metadata": {},
   "source": [
    "# PCoA of w-Unifrac"
   ]
  },
  {
   "cell_type": "code",
   "execution_count": 86,
   "metadata": {},
   "outputs": [
    {
     "data": {
      "image/png": "[encoded data removed]"
     },
     "metadata": {},
     "output_type": "display_data"
    }
   ],
   "source": [
    "%%R -w 800 -h 350\n",
    "pcoa = ordinate(phy.st, \n",
    "                method = \"PCoA\", \n",
    "                distance = bray.dist)\n",
    "plot_ordination(phy.st, pcoa) %>% print\n",
    "p.df = plot_ordination(phy.st, pcoa, justDF = TRUE)"
   ]
  },
  {
   "cell_type": "code",
   "execution_count": 87,
   "metadata": {},
   "outputs": [
    {
     "data": {
      "image/png": "[encoded data removed]"
     },
     "metadata": {},
     "output_type": "display_data"
    }
   ],
   "source": [
    "%%R\n",
    "## generating plots\n",
    "p1 = ggplot(p.df, aes(x = Axis.1, y = Axis.2)) +\n",
    "        geom_point(aes(fill=SeedTreatment), pch = 21, size = 3)\n",
    "        #scale_size(range=c(2,8))\n",
    "\n",
    "#p2 = ggplot(p, aes(x = NMDS1, y = NMDS2)) +\n",
    "        #geom_point(aes(fill=Plant, size = BD), pch=21) +\n",
    "        #scale_size(range=c(2,8))\n",
    "\n",
    "grid.arrange(p1, ncol=1)"
   ]
  },
  {
   "cell_type": "markdown",
   "metadata": {},
   "source": [
    "# Adonis testing treatment effects"
   ]
  },
  {
   "cell_type": "code",
   "execution_count": 88,
   "metadata": {
    "scrolled": false
   },
   "outputs": [
    {
     "data": {
      "text/plain": [
       "\n",
       "Call:\n",
       "adonis(formula = d ~ Rep + Genotype * SeedTreatment, data = df,      permutations = 999) \n",
       "\n",
       "Permutation: free\n",
       "Number of permutations: 999\n",
       "\n",
       "Terms added sequentially (first to last)\n",
       "\n",
       "                       Df SumsOfSqs  MeanSqs F.Model      R2 Pr(>F)    \n",
       "Rep                     3   0.19504 0.065014 1.80409 0.16148  0.001 ***\n",
       "Genotype                3   0.11583 0.038611 1.07141 0.09590  0.208    \n",
       "SeedTreatment           1   0.03695 0.036949 1.02530 0.03059  0.351    \n",
       "Genotype:SeedTreatment  3   0.10325 0.034416 0.95501 0.08548  0.673    \n",
       "Residuals              21   0.75678 0.036037         0.62655           \n",
       "Total                  31   1.20785                  1.00000           \n",
       "---\n",
       "Signif. codes:  0 ‘***’ 0.001 ‘**’ 0.01 ‘*’ 0.05 ‘.’ 0.1 ‘ ’ 1\n"
      ]
     },
     "metadata": {},
     "output_type": "display_data"
    }
   ],
   "source": [
    "%%R\n",
    "set.seed(101)\n",
    "\n",
    "df = as(sample_data(phy.st), \"data.frame\")\n",
    "d = bray.dist\n",
    "#df$Fert = as.factor(df$Fert)\n",
    "Fulladonis = adonis(formula = d ~ Rep + Genotype*SeedTreatment, df, \n",
    "                    permutations = 999)\n",
    "Fulladonis"
   ]
  },
  {
   "cell_type": "code",
   "execution_count": 89,
   "metadata": {},
   "outputs": [],
   "source": [
    "%%R\n",
    "ordMean = p.df %>% \n",
    "    group_by(Genotype, R_Year, SeedTreatment) %>%\n",
    "    summarize(mAxis.1 = mean(Axis.1),\n",
    "                seAxis.1 = sd(Axis.1)/sqrt(length(Axis.1)),\n",
    "             mAxis.2 = mean(Axis.2), \n",
    "             seAxis.2 = sd(Axis.2)/sqrt(length(Axis.2)))"
   ]
  },
  {
   "cell_type": "code",
   "execution_count": 90,
   "metadata": {},
   "outputs": [
    {
     "data": {
      "image/png": "[encoded data removed]"
     },
     "metadata": {},
     "output_type": "display_data"
    }
   ],
   "source": [
    "%%R -w 300 -h 250\n",
    "p1 = ggplot(ordMean, aes(x = mAxis.1, y = mAxis.2, label = R_Year, color = SeedTreatment)) +\n",
    "    geom_point()+\n",
    "    theme_pub()+\n",
    "    scale_color_manual(values = TreatmentColors)+\n",
    "    geom_errorbar(aes(ymin = mAxis.2 - seAxis.2, ymax = mAxis.2 + seAxis.2),      \n",
    "                color = \"black\",\n",
    "                width = .002) +\n",
    "    geom_errorbarh(aes(xmin = mAxis.1 - seAxis.1, xmax = mAxis.1 + seAxis.1),color = \"black\",\n",
    "                height = .002)+\n",
    "    geom_label(aes(color = SeedTreatment)) +\n",
    "    theme(legend.position = \"none\")+\n",
    "    xlab(\"PCoA1 [10.3.8%]\")+\n",
    "    ylab(\"PCoA1 [7.8%]\")\n",
    "p1"
   ]
  },
  {
   "cell_type": "code",
   "execution_count": 31,
   "metadata": {
    "scrolled": true
   },
   "outputs": [
    {
     "data": {
      "image/png": "[encoded data removed]"
     },
     "metadata": {},
     "output_type": "display_data"
    }
   ],
   "source": [
    "%%R -w 800 -h 400\n",
    "p2 = ggplot(p, aes(x = NMDS1, y = NMDS2, label = R_Year, color = SeedTreatment)) +\n",
    "    geom_point()+\n",
    "    theme_pub()+\n",
    "    geom_text(aes(color = SeedTreatment)) +\n",
    "    #theme(legend.position = \"none\")+\n",
    "    xlab(\"NMDS1\")+\n",
    "    ylab(\"NMDS2\")\n",
    "p2"
   ]
  },
  {
   "cell_type": "markdown",
   "metadata": {},
   "source": [
    "# Alpha diversity"
   ]
  },
  {
   "cell_type": "code",
   "execution_count": 24,
   "metadata": {},
   "outputs": [
    {
     "data": {
      "text/plain": [
       "phyloseq-class experiment-level object\n",
       "otu_table()   OTU Table:         [ 4592 taxa and 32 samples ]\n",
       "sample_data() Sample Data:       [ 32 samples by 46 sample variables ]\n",
       "tax_table()   Taxonomy Table:    [ 4592 taxa by 8 taxonomic ranks ]\n",
       "phy_tree()    Phylogenetic Tree: [ 4592 tips and 4591 internal nodes ]\n"
      ]
     },
     "metadata": {},
     "output_type": "display_data"
    }
   ],
   "source": [
    "%%R\n",
    "F = file.path('/home/bryan/ERA/data/MiSeq/20170417_run1/phyloseq/ERA_thresh.rds')\n",
    "physeq.Full = readRDS(F)\n",
    "\n",
    "#rarefy to standard depth\n",
    "set.seed(45)\n",
    "phy.st.r = rarefy_even_depth(physeq.Full) %>%\n",
    "    subset_samples(Genotype %in% c(\"322\", \"3475\", \"34N42\", \"354\") & TimePoint == \"T2\")\n",
    "   \n",
    "\n",
    "\n",
    "phy.st.r"
   ]
  },
  {
   "cell_type": "code",
   "execution_count": 26,
   "metadata": {},
   "outputs": [],
   "source": [
    "%%R\n",
    "alpha_meas = c(\"Observed\", \"Chao1\", \"Shannon\", \"Simpson\")\n",
    "p = plot_richness(phy.st.r, measures=alpha_meas)\n",
    "\n",
    "p$data$Fert = as.factor(p$data$Fert)\n",
    "p$data$R_Year.c = p$data$R_Year - 1935"
   ]
  },
  {
   "cell_type": "code",
   "execution_count": 27,
   "metadata": {},
   "outputs": [
    {
     "data": {
      "image/png": "[encoded data removed]"
     },
     "metadata": {},
     "output_type": "display_data"
    }
   ],
   "source": [
    "%%R\n",
    "\n",
    "ggplot(p$data, aes(x = as.factor(R_Year), y = value, color = SeedTreatment)) +\n",
    "geom_boxplot() +\n",
    "geom_point()+\n",
    "facet_wrap(~variable, ncol = 2, scales = \"free_y\")"
   ]
  },
  {
   "cell_type": "code",
   "execution_count": 44,
   "metadata": {
    "scrolled": false
   },
   "outputs": [
    {
     "data": {
      "text/plain": [
       "Analysis of Variance Table of type III  with  Kenward-Roger \n",
       "approximation for degrees of freedom\n",
       "                       Sum Sq Mean Sq NumDF DenDF F.value Pr(>F)\n",
       "Genotype               200138   66713     3    21 2.36366 0.1001\n",
       "SeedTreatment            8436    8436     1    21 0.29888 0.5903\n",
       "Genotype:SeedTreatment  38258   12753     3    21 0.45183 0.7187\n"
      ]
     },
     "metadata": {},
     "output_type": "display_data"
    }
   ],
   "source": [
    "%%R\n",
    "#test library effects on microbial diversity\n",
    "tmp = p$data %>% filter(variable == \"Chao1\")\n",
    "\n",
    "fit1 = lmer(value~ Genotype*SeedTreatment + (1|Rep), data = tmp)\n",
    "anova(fit1, ddf=\"Kenward-Roger\") %>% print\n"
   ]
  },
  {
   "cell_type": "code",
   "execution_count": 45,
   "metadata": {},
   "outputs": [
    {
     "data": {
      "text/plain": [
       "  SeedTreatment Genotype   lsmean       SE       df lower.CL upper.CL\n",
       "1       Treated      322 2352.354 112.4149 10.14809 2102.373 2602.335\n",
       "2     Untreated      322 2283.947 112.4149 10.14809 2033.966 2533.929\n",
       "3       Treated     3475 2280.376 112.4149 10.14809 2030.395 2530.357\n",
       "4     Untreated     3475 2294.203 112.4149 10.14809 2044.222 2544.185\n",
       "5       Treated    34N42 2499.486 112.4149 10.14809 2249.504 2749.467\n",
       "6     Untreated    34N42 2373.399 112.4149 10.14809 2123.418 2623.380\n",
       "7       Treated      354 2451.624 112.4149 10.14809 2201.642 2701.605\n",
       "8     Untreated      354 2502.399 112.4149 10.14809 2252.418 2752.381\n"
      ]
     },
     "metadata": {},
     "output_type": "display_data"
    }
   ],
   "source": [
    "%%R\n",
    "dfC = lsmeans(fit1, pairwise~SeedTreatment|Genotype, ddf=\"Kenward-Roger\") %>%\n",
    "    summary %>%\n",
    "        .$lsmeans %>%\n",
    "        as.data.frame()\n",
    "     \n",
    "dfC"
   ]
  },
  {
   "cell_type": "code",
   "execution_count": 46,
   "metadata": {},
   "outputs": [
    {
     "data": {
      "text/plain": [
       "Analysis of Variance Table of type III  with  Kenward-Roger \n",
       "approximation for degrees of freedom\n",
       "                         Sum Sq  Mean Sq NumDF DenDF F.value Pr(>F)\n",
       "Genotype               0.031649 0.010550     3    21 0.59993 0.6222\n",
       "SeedTreatment          0.050375 0.050375     1    21 2.86463 0.1053\n",
       "Genotype:SeedTreatment 0.120751 0.040250     3    21 2.28889 0.1079\n"
      ]
     },
     "metadata": {},
     "output_type": "display_data"
    }
   ],
   "source": [
    "%%R\n",
    "#test library effects on microbial diversity\n",
    "tmp = p$data %>% filter(variable == \"Shannon\")\n",
    "\n",
    "fit1 = lmer(value~ Genotype*SeedTreatment + (1|Rep), data = tmp)\n",
    "anova(fit1, ddf=\"Kenward-Roger\") %>% print\n"
   ]
  },
  {
   "cell_type": "code",
   "execution_count": 47,
   "metadata": {},
   "outputs": [
    {
     "data": {
      "text/plain": [
       "  SeedTreatment Genotype   lsmean         SE       df lower.CL upper.CL\n",
       "1       Treated      322 6.499230 0.07301219 19.75111 6.346806 6.651654\n",
       "2     Untreated      322 6.493715 0.07301219 19.75111 6.341291 6.646138\n",
       "3       Treated     3475 6.384224 0.07301219 19.75111 6.231800 6.536648\n",
       "4     Untreated     3475 6.438621 0.07301219 19.75111 6.286197 6.591045\n",
       "5       Treated    34N42 6.581627 0.07301219 19.75111 6.429203 6.734051\n",
       "6     Untreated    34N42 6.310480 0.07301219 19.75111 6.158056 6.462904\n",
       "7       Treated      354 6.478959 0.07301219 19.75111 6.326535 6.631383\n",
       "8     Untreated      354 6.383813 0.07301219 19.75111 6.231389 6.536237\n"
      ]
     },
     "metadata": {},
     "output_type": "display_data"
    }
   ],
   "source": [
    "%%R\n",
    "dfS = lsmeans(fit1, pairwise~SeedTreatment|Genotype, ddf=\"Kenward-Roger\") %>%\n",
    "    summary %>%\n",
    "        .$lsmeans %>%\n",
    "        as.data.frame()\n",
    "     \n",
    "dfS"
   ]
  },
  {
   "cell_type": "code",
   "execution_count": 53,
   "metadata": {
    "collapsed": true
   },
   "outputs": [],
   "source": [
    "%%R\n",
    "dfS$Variable = \"Shannon\"\n",
    "dfC$Variable = \"Chao 1\"\n",
    "df = bind_rows(dfS, dfC)\n",
    "dfS = NULL\n",
    "dfC = NULL"
   ]
  },
  {
   "cell_type": "code",
   "execution_count": 54,
   "metadata": {},
   "outputs": [
    {
     "data": {
      "text/plain": [
       "  SeedTreatment Genotype   lsmean         SE       df lower.CL upper.CL\n",
       "1       Treated      322 6.499230 0.07301219 19.75111 6.346806 6.651654\n",
       "2     Untreated      322 6.493715 0.07301219 19.75111 6.341291 6.646138\n",
       "3       Treated     3475 6.384224 0.07301219 19.75111 6.231800 6.536648\n",
       "4     Untreated     3475 6.438621 0.07301219 19.75111 6.286197 6.591045\n",
       "5       Treated    34N42 6.581627 0.07301219 19.75111 6.429203 6.734051\n",
       "6     Untreated    34N42 6.310480 0.07301219 19.75111 6.158056 6.462904\n",
       "  Variable\n",
       "1  Shannon\n",
       "2  Shannon\n",
       "3  Shannon\n",
       "4  Shannon\n",
       "5  Shannon\n",
       "6  Shannon\n"
      ]
     },
     "metadata": {},
     "output_type": "display_data"
    }
   ],
   "source": [
    "%%R\n",
    "df %>% head"
   ]
  },
  {
   "cell_type": "code",
   "execution_count": 77,
   "metadata": {},
   "outputs": [
    {
     "data": {
      "image/png": "[encoded data removed]"
     },
     "metadata": {},
     "output_type": "display_data"
    }
   ],
   "source": [
    "%%R -w 300 -h 250\n",
    "## Graph seed treatments\n",
    "\n",
    "df = df %>% mutate(Genotype = factor(Genotype, levels = c(\"322\", \"354\", \"3475\", \"34N42\")))\n",
    "\n",
    "p = ggplot(tmp, aes(x = Genotype, y = lsmean, color = SeedTreatment)) +\n",
    "geom_point(position=position_dodge(width=.2))+\n",
    "geom_errorbar(aes(ymin = lsmean - SE, ymax = lsmean + SE), position=position_dodge(width=.2))+\n",
    "theme_pub() +\n",
    "scale_color_manual(values = TreatmentColors)+\n",
    "facet_wrap(~Variable, scales = \"free_y\")+\n",
    "xlab(\"Year of release\") +\n",
    "ylab(\"\")+\n",
    "theme(legend.position = \"none\")\n",
    "p\n"
   ]
  }
 ],
 "metadata": {
  "anaconda-cloud": {},
  "hide_input": true,
  "kernelspec": {
   "display_name": "Python 3",
   "language": "python",
   "name": "python3"
  },
  "language_info": {
   "codemirror_mode": {
    "name": "ipython",
    "version": 3
   },
   "file_extension": ".py",
   "mimetype": "text/x-python",
   "name": "python",
   "nbconvert_exporter": "python",
   "pygments_lexer": "ipython3",
   "version": "3.6.1"
  }
 },
 "nbformat": 4,
 "nbformat_minor": 1
}
