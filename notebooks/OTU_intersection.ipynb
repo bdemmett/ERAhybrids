{
 "cells": [
  {
   "cell_type": "markdown",
   "metadata": {},
   "source": [
    "## Description:\n",
    "\n",
    "    Which OTUs are responding to multiple treatment effects or covariates \n",
    "   \n"
   ]
  },
  {
   "cell_type": "markdown",
   "metadata": {},
   "source": [
    "# Setting variables"
   ]
  },
  {
   "cell_type": "code",
   "execution_count": 1,
   "metadata": {
    "collapsed": true
   },
   "outputs": [],
   "source": [
    "workDir = '/home/bryan/ERA/data/MiSeq/20170417_run1/DESeq2'\n",
    "#using physeq file with sparsity of greater than 3 in 3 samples\n",
    "physeqFile = '/home/bryan/ERA/data/MiSeq/20170417_run1/phyloseq/ERA_thresh.rds'"
   ]
  },
  {
   "cell_type": "markdown",
   "metadata": {},
   "source": [
    "# Init"
   ]
  },
  {
   "cell_type": "code",
   "execution_count": 2,
   "metadata": {
    "collapsed": true
   },
   "outputs": [],
   "source": [
    "%load_ext rpy2.ipython"
   ]
  },
  {
   "cell_type": "code",
   "execution_count": 3,
   "metadata": {},
   "outputs": [
    {
     "data": {
      "text/plain": [
       "[1] \"plyr\"\n",
       "[1] ‘1.8.4’\n",
       "[1] \"BiocParallel\"\n",
       "[1] ‘1.8.2’\n",
       "[1] \"doParallel\"\n",
       "[1] ‘1.0.10’\n",
       "[1] \"DESeq2\"\n",
       "[1] ‘1.14.1’\n",
       "[1] \"foreach\"\n",
       "[1] ‘1.4.3’\n",
       "[1] \"ggplot2\"\n",
       "[1] ‘2.2.1’\n",
       "[1] \"gridExtra\"\n",
       "[1] ‘2.2.1’\n",
       "[1] \"scales\"\n",
       "[1] ‘0.4.1’\n",
       "[1] \"phyloseq\"\n",
       "[1] ‘1.19.1’\n",
       "[1] \"dplyr\"\n",
       "[1] ‘0.5.0’\n",
       "[1] \"tidyr\"\n",
       "[1] ‘0.6.0’\n",
       "[1] \"reshape2\"\n",
       "[1] ‘1.4.2’\n",
       "[1] \"vegan\"\n",
       "[1] ‘2.4.3’\n",
       "[1] \"RColorBrewer\"\n",
       "[1] ‘1.1.2’\n",
       "[1] \"VennDiagram\"\n",
       "[1] ‘1.6.17’\n"
      ]
     },
     "metadata": {},
     "output_type": "display_data"
    }
   ],
   "source": [
    "%%R\n",
    "# The required package list:\n",
    "reqpkg = c(\"plyr\",\"BiocParallel\",\"doParallel\", \"DESeq2\", \"foreach\", \"ggplot2\", \n",
    "   \"gridExtra\",\"scales\", \"phyloseq\", \"dplyr\", \"tidyr\", \n",
    "           \"reshape2\", \"vegan\", \"RColorBrewer\", \"VennDiagram\")\n",
    "# Load all required packages and show version\n",
    "for (i in reqpkg) {\n",
    "    print(i)\n",
    "    print(packageVersion(i))\n",
    "    suppressMessages(library(i, quietly = TRUE, verbose = FALSE, \n",
    "                             warn.conflicts = FALSE, character.only = TRUE))\n",
    "}"
   ]
  },
  {
   "cell_type": "code",
   "execution_count": 4,
   "metadata": {
    "collapsed": true
   },
   "outputs": [],
   "source": [
    "%%R\n",
    "register(MulticoreParam(20))"
   ]
  },
  {
   "cell_type": "markdown",
   "metadata": {},
   "source": [
    "# Read log2fold change tables"
   ]
  },
  {
   "cell_type": "code",
   "execution_count": 5,
   "metadata": {},
   "outputs": [
    {
     "name": "stdout",
     "output_type": "stream",
     "text": [
      " [1] \"baseMean\"       \"log2FoldChange\" \"lfcSE\"          \"stat\"          \n",
      " [5] \"pvalue\"         \"padj\"           \"OTU\"            \"Rank1\"         \n",
      " [9] \"Rank2\"          \"Rank3\"          \"Rank4\"          \"Rank5\"         \n",
      "[13] \"Rank6\"          \"Rank7\"          \"Rank8\"          \"test\"          \n",
      " [1] \"X\"              \"baseMean\"       \"log2FoldChange\" \"lfcSE\"         \n",
      " [5] \"stat\"           \"pvalue\"         \"padj\"           \"OTU\"           \n",
      " [9] \"Contrast\"       \"Rank1\"          \"Rank2\"          \"Rank3\"         \n",
      "[13] \"Rank4\"          \"Rank5\"          \"Rank6\"          \"Rank7\"         \n",
      "[17] \"Rank8\"\n",
      "Error in colnames(l2f.hybrid1939) : object 'l2f.hybrid1939' not found\n"
     ]
    },
    {
     "name": "stderr",
     "output_type": "stream",
     "text": [
      "/home/bryan/anaconda3/lib/python3.6/site-packages/rpy2/rinterface/__init__.py:186: RRuntimeWarning: Error in colnames(l2f.hybrid1939) : object 'l2f.hybrid1939' not found\n",
      "\n",
      "  warnings.warn(x, RRuntimeWarning)\n",
      "/home/bryan/anaconda3/lib/python3.6/site-packages/rpy2/rinterface/__init__.py:186: RRuntimeWarning: In addition: \n",
      "  warnings.warn(x, RRuntimeWarning)\n",
      "/home/bryan/anaconda3/lib/python3.6/site-packages/rpy2/rinterface/__init__.py:186: RRuntimeWarning: Warning messages:\n",
      "\n",
      "  warnings.warn(x, RRuntimeWarning)\n",
      "/home/bryan/anaconda3/lib/python3.6/site-packages/rpy2/rinterface/__init__.py:186: RRuntimeWarning: 1: package ‘S4Vectors’ was built under R version 3.3.3 \n",
      "\n",
      "  warnings.warn(x, RRuntimeWarning)\n",
      "/home/bryan/anaconda3/lib/python3.6/site-packages/rpy2/rinterface/__init__.py:186: RRuntimeWarning: 2: package ‘IRanges’ was built under R version 3.3.3 \n",
      "\n",
      "  warnings.warn(x, RRuntimeWarning)\n",
      "/home/bryan/anaconda3/lib/python3.6/site-packages/rpy2/rinterface/__init__.py:186: RRuntimeWarning: 3: package ‘GenomicRanges’ was built under R version 3.3.3 \n",
      "\n",
      "  warnings.warn(x, RRuntimeWarning)\n"
     ]
    }
   ],
   "source": [
    "%%R\n",
    "enzT1 = read.csv('/home/bryan/ERA/data/MiSeq/20170417_run1/DESeq2/l2f_enzyme_t1_sig.csv')\n",
    "enzT2 = read.csv('/home/bryan/ERA/data/MiSeq/20170417_run1/DESeq2/l2f_enzyme_t2_sig.csv')\n",
    "enzT3 = read.csv('/home/bryan/ERA/data/MiSeq/20170417_run1/DESeq2/l2f_enzyme_t3_sig.csv')\n",
    "fertT3 = read.csv('/home/bryan/ERA/data/MiSeq/20170417_run1/DESeq2/l2f_fert_t3.csv') %>%\n",
    "    filter(padj < 0.05)\n",
    "\n",
    "\n",
    "l2f.hybrid = read.csv('/home/bryan/ERA/data/MiSeq/20170417_run1/DESeq2/EarlyReleasevsYear.csv') %>%\n",
    "    filter(padj < 0.05)\n",
    "l2f.RYear.2 = read.csv('/home/bryan/ERA/data/MiSeq/20170417_run1/DESeq2/l2f_Year2.csv') %>%\n",
    "    filter(padj < 0.05)\n",
    "\n",
    "colnames(enzT1) %>% print\n",
    "colnames(fertT3)%>% print\n",
    "colnames(l2f.hybrid1939)%>% print\n",
    "colnames(l2f.RYear.2) %>% print"
   ]
  },
  {
   "cell_type": "markdown",
   "metadata": {},
   "source": [
    "## OTUs positively correlated with enzyme activity"
   ]
  },
  {
   "cell_type": "code",
   "execution_count": 6,
   "metadata": {
    "collapsed": true
   },
   "outputs": [],
   "source": [
    "%%R\n",
    "enzT1$TimePoint = \"T1\"\n",
    "enzT2$TimePoint = \"T2\"\n",
    "enzT3$TimePoint = \"T3\""
   ]
  },
  {
   "cell_type": "markdown",
   "metadata": {
    "collapsed": true
   },
   "source": [
    "* Axis 1 is positively correlated with total activity at T1 and negatively correlated at T2 and T3\n",
    "* Axis 2 is negatively correlated with LAP at T1, T2 and postively correlated at T3\n",
    "* We are interested in all OTUs correlated as even a negative correlation indicates a shift in activity.  "
   ]
  },
  {
   "cell_type": "code",
   "execution_count": 7,
   "metadata": {
    "collapsed": true
   },
   "outputs": [],
   "source": [
    "%%R\n",
    "enzT1$TimePoint = \"T1\"\n",
    "enzT2$TimePoint = \"T2\"\n",
    "enzT3$TimePoint = \"T3\"\n"
   ]
  },
  {
   "cell_type": "code",
   "execution_count": 8,
   "metadata": {},
   "outputs": [
    {
     "data": {
      "text/plain": [
       "[1] \"34  OTUs correlated with changes in enzyme activity\"\n"
      ]
     },
     "metadata": {},
     "output_type": "display_data"
    }
   ],
   "source": [
    "%%R\n",
    "Enz = bind_rows(enzT1, enzT2, enzT3)\n",
    "dim(Enz)\n",
    "\n",
    "EnzOTUs = Enz %>% select(OTU, Rank2, Rank3, Rank4, Rank5, Rank6, Rank7, Rank8) %>% unique \n",
    "paste(EnzOTUs %>% dim %>% .[1], \" OTUs correlated with changes in enzyme activity\")"
   ]
  },
  {
   "cell_type": "markdown",
   "metadata": {},
   "source": [
    "## OTUs differentially abundant between early release and any other genotype "
   ]
  },
  {
   "cell_type": "markdown",
   "metadata": {},
   "source": [
    "* Currently 1939 comparison at V6 and R3 and 1936 comparison at R1"
   ]
  },
  {
   "cell_type": "code",
   "execution_count": 9,
   "metadata": {},
   "outputs": [
    {
     "data": {
      "text/plain": [
       "[1] \"48  OTUs differntially abundant between genotypes\"\n"
      ]
     },
     "metadata": {},
     "output_type": "display_data"
    }
   ],
   "source": [
    "%%R\n",
    "\n",
    "# l2f.hybridT2 not necessary?\n",
    "HybridOTUs = l2f.hybrid %>%\n",
    "#bind_rows(l2f.hybrid,  l2f.RYear.2) %>% \n",
    "        select(OTU, Rank2, Rank3, Rank4, Rank5, Rank6, Rank7, Rank8) %>% unique\n",
    "        #.$OTU %>% unique\n",
    "paste(HybridOTUs  %>% dim %>% .[1], \" OTUs differntially abundant between genotypes\")\n"
   ]
  },
  {
   "cell_type": "markdown",
   "metadata": {},
   "source": [
    "## OTUs responding to fertilizer at T3"
   ]
  },
  {
   "cell_type": "code",
   "execution_count": 10,
   "metadata": {},
   "outputs": [
    {
     "data": {
      "text/plain": [
       "[1] \"88  OTUs enriched in fertilized rhizosphere at T3\"\n",
       "[1] \"23  OTUs enriched in depleted in rhizosphere at T3\"\n"
      ]
     },
     "metadata": {},
     "output_type": "display_data"
    }
   ],
   "source": [
    "%%R\n",
    "FertIncrease = fertT3 %>% filter(padj < 0.05 & log2FoldChange > 0) %>% \n",
    "     select(OTU, Rank2, Rank3, Rank4, Rank5, Rank6, Rank7, Rank8) %>% unique\n",
    "FertDecrease = fertT3 %>% filter(padj < 0.05 & log2FoldChange < 0) %>% \n",
    "     select(OTU, Rank2, Rank3, Rank4, Rank5, Rank6, Rank7, Rank8) %>% unique\n",
    "paste(FertIncrease %>% dim %>% .[1], \" OTUs enriched in fertilized rhizosphere at T3\") %>% print\n",
    "paste(FertDecrease %>% dim %>% .[1], \" OTUs enriched in depleted in rhizosphere at T3\")"
   ]
  },
  {
   "cell_type": "markdown",
   "metadata": {},
   "source": [
    "## Rhizosphere responders"
   ]
  },
  {
   "cell_type": "code",
   "execution_count": 11,
   "metadata": {},
   "outputs": [
    {
     "data": {
      "text/plain": [
       "[1] \"284  OTUs enriched in rhizosphere\"\n"
      ]
     },
     "metadata": {},
     "output_type": "display_data"
    }
   ],
   "source": [
    "%%R\n",
    "RhizResp = read.csv('/home/bryan/ERA/data/MiSeq/20170417_run1/DESeq2/BarevsHybrid.csv') %>%\n",
    "    filter(p.adj < 0.05 & log2FoldChange > 0) %>% \n",
    "    select(OTU, Rank2, Rank3, Rank4, Rank5, Rank6, Rank7, Rank8) %>% unique\n",
    "    \n",
    "\n",
    "paste(RhizResp %>% dim %>% .[1], \" OTUs enriched in rhizosphere\")\n"
   ]
  },
  {
   "cell_type": "markdown",
   "metadata": {},
   "source": [
    "# Shared OTUs"
   ]
  },
  {
   "cell_type": "code",
   "execution_count": 12,
   "metadata": {},
   "outputs": [
    {
     "data": {
      "text/plain": [
       "      OTU            Rank2                 Rank3              Rank4\n",
       "1 OTU.314 __Proteobacteria __Alphaproteobacteria  __Caulobacterales\n",
       "2 OTU.630 __Proteobacteria __Alphaproteobacteria __Sphingomonadales\n",
       "3 OTU.311 __Actinobacteria      __Acidimicrobiia __Acidimicrobiales\n",
       "                 Rank5                Rank6                  Rank7 Rank8\n",
       "1   __Caulobacteraceae      __Asticcacaulis                   <NA>    NA\n",
       "2 __Erythrobacteraceae __Altererythrobacter                   <NA>    NA\n",
       "3          __Iamiaceae              __Iamia __uncultured_bacterium    NA\n"
      ]
     },
     "metadata": {},
     "output_type": "display_data"
    }
   ],
   "source": [
    "%%R\n",
    "# OTUs that are related to enzyme activity and differentially abundant between genotypes\n",
    "semi_join(EnzOTUs,HybridOTUs, by = \"OTU\")"
   ]
  },
  {
   "cell_type": "code",
   "execution_count": 13,
   "metadata": {},
   "outputs": [
    {
     "data": {
      "text/plain": [
       "      OTU            Rank2                 Rank3             Rank4\n",
       "1 OTU.314 __Proteobacteria __Alphaproteobacteria __Caulobacterales\n",
       "               Rank5           Rank6 Rank7 Rank8\n",
       "1 __Caulobacteraceae __Asticcacaulis  <NA>    NA\n"
      ]
     },
     "metadata": {},
     "output_type": "display_data"
    }
   ],
   "source": [
    "%%R\n",
    "# OTUs that are related to enzyme activity and enriched in fertilizer treatment\n",
    "semi_join(EnzOTUs,FertIncrease, by = \"OTU\")"
   ]
  },
  {
   "cell_type": "code",
   "execution_count": 14,
   "metadata": {},
   "outputs": [
    {
     "data": {
      "text/plain": [
       "[1] OTU   Rank2 Rank3 Rank4 Rank5 Rank6 Rank7 Rank8\n",
       "<0 rows> (or 0-length row.names)\n"
      ]
     },
     "metadata": {},
     "output_type": "display_data"
    }
   ],
   "source": [
    "%%R\n",
    "# OTUs that are related to enzyme activity and decreased abundance in fertilizer treatment\n",
    "semi_join(EnzOTUs,FertDecrease, by = \"OTU\")"
   ]
  },
  {
   "cell_type": "code",
   "execution_count": 15,
   "metadata": {
    "scrolled": true
   },
   "outputs": [
    {
     "data": {
      "text/plain": [
       "         OTU             Rank2                 Rank3                  Rank4\n",
       "1  OTU.14139  __Proteobacteria __Alphaproteobacteria          __Rhizobiales\n",
       "2    OTU.119  __Proteobacteria  __Betaproteobacteria      __Burkholderiales\n",
       "3   OTU.3521  __Proteobacteria  __Betaproteobacteria      __Burkholderiales\n",
       "4   OTU.4313  __Proteobacteria __Gammaproteobacteria      __Pseudomonadales\n",
       "5    OTU.371 __Verrucomicrobia    __OPB35_soil_group __uncultured_bacterium\n",
       "6    OTU.314  __Proteobacteria __Alphaproteobacteria      __Caulobacterales\n",
       "7    OTU.357  __Proteobacteria __Gammaproteobacteria    __Enterobacteriales\n",
       "8    OTU.923  __Proteobacteria __Gammaproteobacteria      __Xanthomonadales\n",
       "9     OTU.93  __Proteobacteria __Gammaproteobacteria      __Xanthomonadales\n",
       "10   OTU.459      __Firmicutes             __Bacilli           __Bacillales\n",
       "11    OTU.80  __Actinobacteria __Propionibacteriales      __Nocardioidaceae\n",
       "                      Rank5                  Rank6                     Rank7\n",
       "1            __Rhizobiaceae            __Rhizobium    __uncultured_bacterium\n",
       "2        __Oxalobacteraceae             __Massilia                      <NA>\n",
       "3        __Oxalobacteraceae             __Massilia __uncultured_Massilia_sp.\n",
       "4        __Pseudomonadaceae          __Pseudomonas    __uncultured_bacterium\n",
       "5                      <NA>                   <NA>                      <NA>\n",
       "6        __Caulobacteraceae        __Asticcacaulis                      <NA>\n",
       "7      __Enterobacteriaceae                   <NA>                      <NA>\n",
       "8        __Xanthomonadaceae     __Stenotrophomonas                      <NA>\n",
       "9        __Xanthomonadaceae           __Lysobacter                      <NA>\n",
       "10 __Thermoactinomycetaceae          __Shimazuella    __uncultured_bacterium\n",
       "11           __Nocardioides __uncultured_bacterium                      <NA>\n",
       "   Rank8\n",
       "1   <NA>\n",
       "2   <NA>\n",
       "3   <NA>\n",
       "4   <NA>\n",
       "5   <NA>\n",
       "6   <NA>\n",
       "7   <NA>\n",
       "8   <NA>\n",
       "9   <NA>\n",
       "10  <NA>\n",
       "11  <NA>\n"
      ]
     },
     "metadata": {},
     "output_type": "display_data"
    }
   ],
   "source": [
    "%%R\n",
    "# OTUs differentially abundant between genotypes and enriched in fertilizer treatments\n",
    "semi_join(HybridOTUs,FertIncrease, by = \"OTU\") %>% unique "
   ]
  },
  {
   "cell_type": "code",
   "execution_count": 16,
   "metadata": {},
   "outputs": [
    {
     "data": {
      "text/plain": [
       "[1] OTU   Rank2 Rank3 Rank4 Rank5 Rank6 Rank7 Rank8\n",
       "<0 rows> (or 0-length row.names)\n"
      ]
     },
     "metadata": {},
     "output_type": "display_data"
    }
   ],
   "source": [
    "%%R\n",
    "# OTUs differentially abundant between genotypes and depleted in fertilizer treatments\n",
    "semi_join(HybridOTUs,FertDecrease, by = \"OTU\")"
   ]
  },
  {
   "cell_type": "markdown",
   "metadata": {},
   "source": [
    "** There was no overlap between OTUs depleted in fertilized plots and those OTUs correlated with enzyme activity or those differentially abundant between hybrids"
   ]
  },
  {
   "cell_type": "markdown",
   "metadata": {},
   "source": [
    "# Three way venn diagram\n",
    "* Enzyme OTUs\n",
    "* Fertilizer OTUs\n",
    "* Genotype OTUs"
   ]
  },
  {
   "cell_type": "code",
   "execution_count": 17,
   "metadata": {
    "scrolled": true
   },
   "outputs": [
    {
     "data": {
      "text/plain": [
       "(polygon[GRID.polygon.11], polygon[GRID.polygon.12], polygon[GRID.polygon.13], polygon[GRID.polygon.14], polygon[GRID.polygon.15], polygon[GRID.polygon.16], text[GRID.text.17], text[GRID.text.18], text[GRID.text.19], text[GRID.text.20], text[GRID.text.21], text[GRID.text.22], text[GRID.text.23], text[GRID.text.24], text[GRID.text.25]) \n"
      ]
     },
     "metadata": {},
     "output_type": "display_data"
    },
    {
     "data": {
      "image/png": "[encoded data removed]"
     },
     "metadata": {},
     "output_type": "display_data"
    }
   ],
   "source": [
    "%%R\n",
    "#area 1 = hybrid\n",
    "#area 2 = Fert\n",
    "#area 3 = Enzyme\n",
    "draw.triple.venn(area1 = 48, area2 = 88, area3 = 34,\n",
    "n12 = 11,\n",
    "n23 = 1,\n",
    "n13 = 3,\n",
    "n123 = 1, category = c(\"Hybrid\", \"Fertilizer\", \"Enzyme\"), lty = rep(2, 3), \n",
    "                 fill = c(\"blue\", \"orange\", \"red\"), cex = 2,\n",
    "                   cat.dist = .05, cat.cex = 2, scaled = TRUE, rotation.degree = 0, euler.d = TRUE)"
   ]
  },
  {
   "cell_type": "markdown",
   "metadata": {},
   "source": [
    "* Note that there is no overlap between OTUs depleted in fertilizer treatment and either hybrids or enzymes; venn diagram only accounts for OTUs increasing in abundance"
   ]
  },
  {
   "cell_type": "markdown",
   "metadata": {},
   "source": [
    "# Expore overlap betwen hybrid and fertilizer effects"
   ]
  },
  {
   "cell_type": "code",
   "execution_count": 18,
   "metadata": {},
   "outputs": [
    {
     "data": {
      "text/plain": [
       "          OTU                    Rank2                  Rank3\n",
       "1    OTU.2489         __Proteobacteria  __Deltaproteobacteria\n",
       "2   OTU.14139         __Proteobacteria  __Alphaproteobacteria\n",
       "3   OTU.15685         __Proteobacteria  __Alphaproteobacteria\n",
       "4      OTU.69         __Proteobacteria  __Alphaproteobacteria\n",
       "5      OTU.78         __Proteobacteria  __Alphaproteobacteria\n",
       "6    OTU.3468         __Proteobacteria  __Alphaproteobacteria\n",
       "7     OTU.495         __Proteobacteria  __Alphaproteobacteria\n",
       "8     OTU.287          __Bacteroidetes     __Sphingobacteriia\n",
       "9     OTU.267          __Bacteroidetes     __Sphingobacteriia\n",
       "10    OTU.119         __Proteobacteria   __Betaproteobacteria\n",
       "11   OTU.5502         __Proteobacteria   __Betaproteobacteria\n",
       "12  OTU.11319         __Proteobacteria   __Betaproteobacteria\n",
       "13   OTU.3521         __Proteobacteria   __Betaproteobacteria\n",
       "14     OTU.11         __Proteobacteria   __Betaproteobacteria\n",
       "15   OTU.5756         __Proteobacteria   __Betaproteobacteria\n",
       "16     OTU.14         __Proteobacteria   __Betaproteobacteria\n",
       "17    OTU.484         __Proteobacteria  __Gammaproteobacteria\n",
       "18   OTU.4313         __Proteobacteria  __Gammaproteobacteria\n",
       "19     OTU.61        __Verrucomicrobia     __OPB35_soil_group\n",
       "20    OTU.371        __Verrucomicrobia     __OPB35_soil_group\n",
       "21     OTU.10        __Verrucomicrobia     __Verrucomicrobiae\n",
       "22    OTU.218         __Actinobacteria  __Streptosporangiales\n",
       "23     OTU.94         __Actinobacteria       __Glycomycetales\n",
       "24      OTU.4         __Actinobacteria     __Streptomycetales\n",
       "25   OTU.3889         __Actinobacteria  __Propionibacteriales\n",
       "26   OTU.2011         __Proteobacteria  __Deltaproteobacteria\n",
       "27   OTU.1619         __Proteobacteria  __Alphaproteobacteria\n",
       "28    OTU.314         __Proteobacteria  __Alphaproteobacteria\n",
       "29     OTU.91         __Proteobacteria  __Alphaproteobacteria\n",
       "34   OTU.1372         __Proteobacteria  __Alphaproteobacteria\n",
       "35    OTU.844         __Proteobacteria  __Alphaproteobacteria\n",
       "37   OTU.2673         __Proteobacteria  __Alphaproteobacteria\n",
       "38   OTU.2204         __Proteobacteria  __Alphaproteobacteria\n",
       "39  OTU.11679         __Proteobacteria  __Alphaproteobacteria\n",
       "40    OTU.300         __Proteobacteria  __Alphaproteobacteria\n",
       "41    OTU.553         __Proteobacteria  __Alphaproteobacteria\n",
       "42     OTU.12         __Proteobacteria  __Alphaproteobacteria\n",
       "43    OTU.260         __Proteobacteria  __Alphaproteobacteria\n",
       "45   OTU.1482         __Proteobacteria  __Alphaproteobacteria\n",
       "46   OTU.1411         __Proteobacteria  __Deltaproteobacteria\n",
       "47   OTU.1577         __Proteobacteria  __Deltaproteobacteria\n",
       "50    OTU.694          __Bacteroidetes           __Cytophagia\n",
       "51   OTU.5535         __Proteobacteria   __Betaproteobacteria\n",
       "52   OTU.4143         __Proteobacteria   __Betaproteobacteria\n",
       "58    OTU.509         __Proteobacteria   __Betaproteobacteria\n",
       "59  OTU.10087         __Proteobacteria   __Betaproteobacteria\n",
       "60  OTU.11410         __Proteobacteria   __Betaproteobacteria\n",
       "62    OTU.188         __Proteobacteria   __Betaproteobacteria\n",
       "63   OTU.3543         __Proteobacteria   __Betaproteobacteria\n",
       "64  OTU.11278         __Proteobacteria   __Betaproteobacteria\n",
       "66  OTU.11870         __Proteobacteria   __Betaproteobacteria\n",
       "67    OTU.357         __Proteobacteria  __Gammaproteobacteria\n",
       "68    OTU.163         __Proteobacteria  __Gammaproteobacteria\n",
       "69   OTU.1529         __Proteobacteria  __Gammaproteobacteria\n",
       "70    OTU.407         __Proteobacteria  __Gammaproteobacteria\n",
       "71    OTU.923         __Proteobacteria  __Gammaproteobacteria\n",
       "72     OTU.93         __Proteobacteria  __Gammaproteobacteria\n",
       "73  OTU.11123         __Proteobacteria  __Gammaproteobacteria\n",
       "74   OTU.1808         __Proteobacteria  __Gammaproteobacteria\n",
       "75   OTU.2881         __Proteobacteria  __Gammaproteobacteria\n",
       "76    OTU.172         __Proteobacteria  __Gammaproteobacteria\n",
       "77    OTU.169        __Verrucomicrobia     __Verrucomicrobiae\n",
       "79    OTU.459             __Firmicutes              __Bacilli\n",
       "80   OTU.4424 __Candidate_division_TM7 __uncultured_bacterium\n",
       "81   OTU.4414 __Candidate_division_TM7 __uncultured_bacterium\n",
       "82      OTU.7         __Actinobacteria        __Micrococcales\n",
       "83    OTU.295         __Actinobacteria        __Micrococcales\n",
       "84   OTU.5728         __Actinobacteria        __Micrococcales\n",
       "87   OTU.4019         __Actinobacteria     __Streptomycetales\n",
       "89  OTU.10034         __Actinobacteria     __Streptomycetales\n",
       "90  OTU.14827         __Actinobacteria     __Streptomycetales\n",
       "91      OTU.5         __Actinobacteria     __Streptomycetales\n",
       "92  OTU.10125         __Actinobacteria     __Streptomycetales\n",
       "93   OTU.5631         __Actinobacteria     __Streptomycetales\n",
       "94   OTU.1022         __Actinobacteria    __Corynebacteriales\n",
       "95   OTU.6657         __Actinobacteria    __Pseudonocardiales\n",
       "96     OTU.31         __Actinobacteria    __Pseudonocardiales\n",
       "97   OTU.6544         __Actinobacteria    __Pseudonocardiales\n",
       "98    OTU.743         __Actinobacteria    __Pseudonocardiales\n",
       "99    OTU.269         __Actinobacteria     __Streptomycetales\n",
       "100  OTU.6083         __Actinobacteria  __Propionibacteriales\n",
       "102  OTU.1978         __Actinobacteria  __Propionibacteriales\n",
       "103  OTU.1527         __Actinobacteria  __Propionibacteriales\n",
       "104  OTU.2760         __Actinobacteria  __Propionibacteriales\n",
       "105  OTU.1125         __Actinobacteria  __Propionibacteriales\n",
       "106    OTU.80         __Actinobacteria  __Propionibacteriales\n",
       "107   OTU.105         __Actinobacteria  __Propionibacteriales\n",
       "108  OTU.9317         __Actinobacteria      __Thermoleophilia\n",
       "                     Rank4                              Rank5\n",
       "1             __GR-WP33-30                               <NA>\n",
       "2            __Rhizobiales                     __Rhizobiaceae\n",
       "3            __Rhizobiales                     __Rhizobiaceae\n",
       "4            __Rhizobiales                     __Rhizobiaceae\n",
       "5            __Rhizobiales                     __Rhizobiaceae\n",
       "6            __Rhizobiales                __Hyphomicrobiaceae\n",
       "7            __Rhizobiales                __Hyphomicrobiaceae\n",
       "8     __Sphingobacteriales              __Sphingobacteriaceae\n",
       "9     __Sphingobacteriales              __Sphingobacteriaceae\n",
       "10       __Burkholderiales                 __Oxalobacteraceae\n",
       "11       __Burkholderiales                 __Oxalobacteraceae\n",
       "12       __Burkholderiales                 __Oxalobacteraceae\n",
       "13       __Burkholderiales                 __Oxalobacteraceae\n",
       "14       __Burkholderiales                 __Oxalobacteraceae\n",
       "15       __Burkholderiales                   __Comamonadaceae\n",
       "16       __Burkholderiales                   __Comamonadaceae\n",
       "17     __Enterobacteriales               __Enterobacteriaceae\n",
       "18       __Pseudomonadales                 __Pseudomonadaceae\n",
       "19  __uncultured_bacterium                               <NA>\n",
       "20  __uncultured_bacterium                               <NA>\n",
       "21    __Verrucomicrobiales              __Verrucomicrobiaceae\n",
       "22   __Thermomonosporaceae                     __Actinomadura\n",
       "23       __Glycomycetaceae             __uncultured_bacterium\n",
       "24     __Streptomycetaceae                     __Streptomyces\n",
       "25       __Nocardioidaceae                     __Nocardioides\n",
       "26     __Bdellovibrionales               __Bacteriovoracaceae\n",
       "27       __Caulobacterales                 __Caulobacteraceae\n",
       "28       __Caulobacterales                 __Caulobacteraceae\n",
       "29       __Caulobacterales                 __Caulobacteraceae\n",
       "34           __Rhizobiales                __Hyphomicrobiaceae\n",
       "35           __Rhizobiales                __Hyphomicrobiaceae\n",
       "37           __Rhizobiales                     __Rhizobiaceae\n",
       "38           __Rhizobiales                     __Rhizobiaceae\n",
       "39           __Rhizobiales               __Phyllobacteriaceae\n",
       "40      __Sphingomonadales                __Sphingomonadaceae\n",
       "41      __Sphingomonadales                __Sphingomonadaceae\n",
       "42      __Sphingomonadales                __Sphingomonadaceae\n",
       "43         __Rickettsiales                           __SM2D12\n",
       "45                __DB1-14 __uncultured_alpha_proteobacterium\n",
       "46     __Bdellovibrionales               __Bdellovibrionaceae\n",
       "47     __Bdellovibrionales               __Bdellovibrionaceae\n",
       "50          __Cytophagales                               <NA>\n",
       "51       __Burkholderiales                   __Comamonadaceae\n",
       "52       __Burkholderiales                 __Oxalobacteraceae\n",
       "58       __Methylophilales                 __Methylophilaceae\n",
       "59                    <NA>                               <NA>\n",
       "60       __Burkholderiales                   __Comamonadaceae\n",
       "62       __Burkholderiales                   __Comamonadaceae\n",
       "63       __Burkholderiales                   __Comamonadaceae\n",
       "64       __Burkholderiales                   __Comamonadaceae\n",
       "66       __Burkholderiales                               <NA>\n",
       "67     __Enterobacteriales               __Enterobacteriaceae\n",
       "68       __Pseudomonadales                 __Pseudomonadaceae\n",
       "69       __Pseudomonadales                 __Pseudomonadaceae\n",
       "70       __Xanthomonadales                 __Xanthomonadaceae\n",
       "71       __Xanthomonadales                 __Xanthomonadaceae\n",
       "72       __Xanthomonadales                 __Xanthomonadaceae\n",
       "73       __Xanthomonadales                 __Xanthomonadaceae\n",
       "74       __Xanthomonadales                 __Xanthomonadaceae\n",
       "75       __Xanthomonadales                 __Xanthomonadaceae\n",
       "76       __Xanthomonadales                 __Xanthomonadaceae\n",
       "77    __Verrucomicrobiales              __Verrucomicrobiaceae\n",
       "79            __Bacillales           __Thermoactinomycetaceae\n",
       "80                    <NA>                               <NA>\n",
       "81                    <NA>                               <NA>\n",
       "82        __Micrococcaceae                     __Arthrobacter\n",
       "83        __Micrococcaceae                     __Arthrobacter\n",
       "84    __Intrasporangiaceae                               <NA>\n",
       "87     __Streptomycetaceae                     __Streptomyces\n",
       "89     __Streptomycetaceae                     __Streptomyces\n",
       "90     __Streptomycetaceae                     __Streptomyces\n",
       "91     __Streptomycetaceae                     __Streptomyces\n",
       "92     __Streptomycetaceae                     __Streptomyces\n",
       "93     __Streptomycetaceae                     __Streptomyces\n",
       "94          __Nocardiaceae                         __Nocardia\n",
       "95    __Pseudonocardiaceae                    __Actinosynnema\n",
       "96    __Pseudonocardiaceae                          __Lentzea\n",
       "97    __Pseudonocardiaceae                               <NA>\n",
       "98    __Pseudonocardiaceae                               <NA>\n",
       "99     __Streptomycetaceae                     __Streptomyces\n",
       "100      __Nocardioidaceae                     __Nocardioides\n",
       "102      __Nocardioidaceae                     __Nocardioides\n",
       "103      __Nocardioidaceae                     __Nocardioides\n",
       "104      __Nocardioidaceae                     __Nocardioides\n",
       "105      __Nocardioidaceae                     __Nocardioides\n",
       "106      __Nocardioidaceae                     __Nocardioides\n",
       "107      __Nocardioidaceae                        __Kribbella\n",
       "108           __Gaiellales                       __uncultured\n",
       "                     Rank6                              Rank7 Rank8\n",
       "1                     <NA>                               <NA>  <NA>\n",
       "2              __Rhizobium             __uncultured_bacterium  <NA>\n",
       "3              __Rhizobium                               <NA>  <NA>\n",
       "4               __Shinella             __uncultured_bacterium  <NA>\n",
       "5              __Rhizobium                               <NA>  <NA>\n",
       "6                __Devosia             __uncultured_bacterium  <NA>\n",
       "7          __Filomicrobium                               <NA>  <NA>\n",
       "8       __Sphingobacterium                               <NA>  <NA>\n",
       "9                     <NA>                               <NA>  <NA>\n",
       "10              __Massilia                               <NA>  <NA>\n",
       "11              __Massilia                               <NA>  <NA>\n",
       "12              __Massilia                               <NA>  <NA>\n",
       "13              __Massilia          __uncultured_Massilia_sp.  <NA>\n",
       "14                    <NA>                               <NA>  <NA>\n",
       "15                    <NA>                               <NA>  <NA>\n",
       "16             __Pelomonas                               <NA>  <NA>\n",
       "17  __Escherichia-Shigella             __uncultured_bacterium  <NA>\n",
       "18           __Pseudomonas             __uncultured_bacterium  <NA>\n",
       "19                    <NA>                               <NA>  <NA>\n",
       "20                    <NA>                               <NA>  <NA>\n",
       "21         __Luteolibacter             __uncultured_bacterium  <NA>\n",
       "22                    <NA>                               <NA>  <NA>\n",
       "23                    <NA>                               <NA>  <NA>\n",
       "24                    <NA>                               <NA>  <NA>\n",
       "25  __uncultured_bacterium                               <NA>  <NA>\n",
       "26         __Bacteriovorax                               <NA>  <NA>\n",
       "27         __Brevundimonas                               <NA>  <NA>\n",
       "28         __Asticcacaulis                               <NA>  <NA>\n",
       "29           __Caulobacter                               <NA>  <NA>\n",
       "34               __Devosia             __uncultured_bacterium  <NA>\n",
       "35            __uncultured                               <NA>  <NA>\n",
       "37             __Rhizobium             __uncultured_bacterium  <NA>\n",
       "38             __Rhizobium                               <NA>  <NA>\n",
       "39       __Phyllobacterium                               <NA>  <NA>\n",
       "40          __Sphingomonas             __uncultured_bacterium  <NA>\n",
       "41          __Sphingomonas                               <NA>  <NA>\n",
       "42           __Sphingobium                     __Sphingomonas  <NA>\n",
       "43  __uncultured_bacterium                               <NA>  <NA>\n",
       "45                    <NA>                               <NA>  <NA>\n",
       "46          __Bdellovibrio __uncultured_delta_proteobacterium  <NA>\n",
       "47          __Bdellovibrio             __uncultured_bacterium  <NA>\n",
       "50                    <NA>                               <NA>  <NA>\n",
       "51        __Hydrogenophaga                               <NA>  <NA>\n",
       "52              __Massilia             __uncultured_bacterium  <NA>\n",
       "58                    <NA>                               <NA>  <NA>\n",
       "59                    <NA>                               <NA>  <NA>\n",
       "60            __Variovorax        __uncultured_soil_bacterium  <NA>\n",
       "62            __uncultured             __uncultured_bacterium  <NA>\n",
       "63            __uncultured                               <NA>  <NA>\n",
       "64            __uncultured             __uncultured_bacterium  <NA>\n",
       "66                    <NA>                               <NA>  <NA>\n",
       "67                    <NA>                               <NA>  <NA>\n",
       "68           __Pseudomonas             __uncultured_bacterium  <NA>\n",
       "69           __Pseudomonas                               <NA>  <NA>\n",
       "70      __Stenotrophomonas             __uncultured_bacterium  <NA>\n",
       "71      __Stenotrophomonas                               <NA>  <NA>\n",
       "72            __Lysobacter                               <NA>  <NA>\n",
       "73           __Thermomonas             __uncultured_bacterium  <NA>\n",
       "74           __Thermomonas                               <NA>  <NA>\n",
       "75           __Xanthomonas                               <NA>  <NA>\n",
       "76            __Arenimonas             __uncultured_bacterium  <NA>\n",
       "77            __Haloferula                               <NA>  <NA>\n",
       "79           __Shimazuella             __uncultured_bacterium  <NA>\n",
       "80                    <NA>                               <NA>  <NA>\n",
       "81                    <NA>                               <NA>  <NA>\n",
       "82  __uncultured_bacterium                               <NA>  <NA>\n",
       "83                    <NA>                               <NA>  <NA>\n",
       "84                    <NA>                               <NA>  <NA>\n",
       "87                    <NA>                               <NA>  <NA>\n",
       "89                    <NA>                               <NA>  <NA>\n",
       "90                    <NA>                               <NA>  <NA>\n",
       "91                    <NA>                               <NA>  <NA>\n",
       "92                    <NA>                               <NA>  <NA>\n",
       "93                    <NA>                               <NA>  <NA>\n",
       "94                    <NA>                               <NA>  <NA>\n",
       "95                    <NA>                               <NA>  <NA>\n",
       "96                    <NA>                               <NA>  <NA>\n",
       "97                    <NA>                               <NA>  <NA>\n",
       "98                    <NA>                               <NA>  <NA>\n",
       "99                    <NA>                               <NA>  <NA>\n",
       "100                   <NA>                               <NA>  <NA>\n",
       "102                   <NA>                               <NA>  <NA>\n",
       "103                   <NA>                               <NA>  <NA>\n",
       "104 __uncultured_bacterium                               <NA>  <NA>\n",
       "105 __uncultured_bacterium                               <NA>  <NA>\n",
       "106 __uncultured_bacterium                               <NA>  <NA>\n",
       "107                   <NA>                               <NA>  <NA>\n",
       "108 __uncultured_bacterium                               <NA>  <NA>\n"
      ]
     },
     "metadata": {},
     "output_type": "display_data"
    }
   ],
   "source": [
    "%%R\n",
    "FertIncrease"
   ]
  },
  {
   "cell_type": "code",
   "execution_count": 19,
   "metadata": {
    "scrolled": true
   },
   "outputs": [
    {
     "name": "stderr",
     "output_type": "stream",
     "text": [
      "/home/bryan/anaconda3/lib/python3.6/site-packages/rpy2/rinterface/__init__.py:186: RRuntimeWarning: Joining, by = c(\"OTU\", \"Rank2\", \"Rank3\", \"Rank4\", \"Rank5\", \"Rank6\", \"Rank7\", \"Rank8\")\n",
      "\n",
      "  warnings.warn(x, RRuntimeWarning)\n"
     ]
    },
    {
     "data": {
      "text/plain": [
       "     baseMean log2FoldChange     lfcSE       pvalue        padj       OTU Plant\n",
       "1    7.665748      -1.698689 0.3993900 2.107304e-05 0.024764686  OTU.3521  3517\n",
       "2    9.123596      -1.644914 0.4071804 5.350445e-05 0.032784852  OTU.4313  3517\n",
       "3    7.972103       2.616176 0.6373699 4.049390e-05 0.008090792   OTU.314  3517\n",
       "4    5.084167       2.656703 0.6070984 1.208401e-05 0.006355854   OTU.923  3517\n",
       "5   25.658440       1.502952 0.3960808 1.479053e-04 0.021224417   OTU.371  3517\n",
       "6   59.221234       1.651126 0.3807162 1.445099e-05 0.008391211    OTU.80  3541\n",
       "7   15.672988       2.732895 0.6408571 2.004064e-05 0.025773286 OTU.14139  3618\n",
       "8  112.795336       2.697696 0.6168771 1.224662e-05 0.025773286   OTU.119  3618\n",
       "9   14.281718       2.673511 0.6364114 2.658379e-05 0.025773286   OTU.357  3618\n",
       "10  15.568230       2.646539 0.6318672 2.808771e-05 0.025773286   OTU.459  3618\n",
       "11  87.711152       1.023373 0.2088300 9.558852e-07 0.004387513    OTU.93  3475\n",
       "   TimePoint    Rank1             Rank2                 Rank3\n",
       "1         T1 Bacteria  __Proteobacteria  __Betaproteobacteria\n",
       "2         T1 Bacteria  __Proteobacteria __Gammaproteobacteria\n",
       "3         T2 Bacteria  __Proteobacteria __Alphaproteobacteria\n",
       "4         T2 Bacteria  __Proteobacteria __Gammaproteobacteria\n",
       "5         T2 Bacteria __Verrucomicrobia    __OPB35_soil_group\n",
       "6         T2 Bacteria  __Actinobacteria __Propionibacteriales\n",
       "7         T2 Bacteria  __Proteobacteria __Alphaproteobacteria\n",
       "8         T2 Bacteria  __Proteobacteria  __Betaproteobacteria\n",
       "9         T2 Bacteria  __Proteobacteria __Gammaproteobacteria\n",
       "10        T2 Bacteria      __Firmicutes             __Bacilli\n",
       "11        T3 Bacteria  __Proteobacteria __Gammaproteobacteria\n",
       "                    Rank4                    Rank5                  Rank6\n",
       "1       __Burkholderiales       __Oxalobacteraceae             __Massilia\n",
       "2       __Pseudomonadales       __Pseudomonadaceae          __Pseudomonas\n",
       "3       __Caulobacterales       __Caulobacteraceae        __Asticcacaulis\n",
       "4       __Xanthomonadales       __Xanthomonadaceae     __Stenotrophomonas\n",
       "5  __uncultured_bacterium                     <NA>                   <NA>\n",
       "6       __Nocardioidaceae           __Nocardioides __uncultured_bacterium\n",
       "7           __Rhizobiales           __Rhizobiaceae            __Rhizobium\n",
       "8       __Burkholderiales       __Oxalobacteraceae             __Massilia\n",
       "9     __Enterobacteriales     __Enterobacteriaceae                   <NA>\n",
       "10           __Bacillales __Thermoactinomycetaceae          __Shimazuella\n",
       "11      __Xanthomonadales       __Xanthomonadaceae           __Lysobacter\n",
       "                       Rank7 Rank8\n",
       "1  __uncultured_Massilia_sp.  <NA>\n",
       "2     __uncultured_bacterium  <NA>\n",
       "3                       <NA>  <NA>\n",
       "4                       <NA>  <NA>\n",
       "5                       <NA>  <NA>\n",
       "6                       <NA>  <NA>\n",
       "7     __uncultured_bacterium  <NA>\n",
       "8                       <NA>  <NA>\n",
       "9                       <NA>  <NA>\n",
       "10    __uncultured_bacterium  <NA>\n",
       "11                      <NA>  <NA>\n"
      ]
     },
     "metadata": {},
     "output_type": "display_data"
    }
   ],
   "source": [
    "%%R\n",
    "inner_join(l2f.hybrid,FertIncrease) "
   ]
  },
  {
   "cell_type": "markdown",
   "metadata": {},
   "source": [
    "# Format tables for supplementary\n",
    "* Start with hybrid effects, then add fertilizer and enzymes"
   ]
  },
  {
   "cell_type": "code",
   "execution_count": 20,
   "metadata": {
    "collapsed": true
   },
   "outputs": [],
   "source": [
    "%%R\n",
    "H = l2f.hybrid %>% mutate(Test = \"Hybrid\") %>%\n",
    "    arrange(desc(OTU)) \n",
    "colnames(H)[c(1:5,7,8,17)] = paste(\"hybrid\", \"-\",colnames(H[c(1:5,7,8,17)]) )"
   ]
  },
  {
   "cell_type": "code",
   "execution_count": 21,
   "metadata": {
    "collapsed": true
   },
   "outputs": [],
   "source": [
    "%%R\n",
    "F = fertT3 %>% \n",
    "    select(-X) %>% #-Rank1,-Rank2, -Rank3, -Rank4, -Rank5, -Rank6,-Rank7, -Rank8 ) %>%\n",
    "    mutate(Test = \"Fertilizer\") %>%\n",
    "    arrange(desc(OTU)) \n",
    "#colnames(F)\n",
    "colnames(F)[c(1:6,8,17)] = paste(\"Fertilizer\", \"-\",colnames(F[c(1:6,8,17)]) )"
   ]
  },
  {
   "cell_type": "code",
   "execution_count": 22,
   "metadata": {},
   "outputs": [
    {
     "data": {
      "text/plain": [
       "[1] \"33535.0243078956 normalized reads at each contrast\"\n"
      ]
     },
     "metadata": {},
     "output_type": "display_data"
    }
   ],
   "source": [
    "%%R\n",
    "\n",
    "read.csv('/home/bryan/ERA/data/MiSeq/20170417_run1/DESeq2/l2f_fert_t3.csv') %>% \n",
    "    group_by(Contrast) %>%\n",
    "    summarize(Ndepth = sum(baseMean)) %>%\n",
    "    .$Ndepth %>%\n",
    "    unique() %>%\n",
    "paste(.,\"normalized reads at each contrast\") %>% print\n",
    "\n",
    "\n"
   ]
  },
  {
   "cell_type": "code",
   "execution_count": 23,
   "metadata": {},
   "outputs": [
    {
     "data": {
      "text/plain": [
       " [1] \"Enzyme - baseMean\"       \"Enzyme - log2FoldChange\"\n",
       " [3] \"Enzyme - lfcSE\"          \"Enzyme - stat\"          \n",
       " [5] \"Enzyme - pvalue\"         \"Enzyme - padj\"          \n",
       " [7] \"OTU\"                     \"Rank1\"                  \n",
       " [9] \"Rank2\"                   \"Rank3\"                  \n",
       "[11] \"Rank4\"                   \"Rank5\"                  \n",
       "[13] \"Rank6\"                   \"Rank7\"                  \n",
       "[15] \"Rank8\"                   \"Enzyme - Rank1\"         \n",
       "[17] \"Enzyme - test\"          \n"
      ]
     },
     "metadata": {},
     "output_type": "display_data"
    }
   ],
   "source": [
    "%%R\n",
    "E = Enz %>% \n",
    "   # select(-Rank1,-Rank2, -Rank3, -Rank4, -Rank5, -Rank6,-Rank7, -Rank8 ) %>%\n",
    "    arrange(desc(OTU)) \n",
    "\n",
    "colnames(E)[c(1:6,16,17)] = paste(\"Enzyme\", \"-\",colnames(E[c(1:6,8,16,17)]) )\n",
    "colnames(E)"
   ]
  },
  {
   "cell_type": "markdown",
   "metadata": {},
   "source": [
    "* Make enzyme axis explicit? "
   ]
  },
  {
   "cell_type": "code",
   "execution_count": 24,
   "metadata": {},
   "outputs": [
    {
     "data": {
      "text/plain": [
       "  hybrid - baseMean hybrid - log2FoldChange hybrid - lfcSE hybrid - pvalue\n",
       "1          2.990913                2.244707      0.6177892    2.796550e-04\n",
       "2          9.298076                1.709678      0.4059691    2.538494e-05\n",
       "3          3.337030               -1.662755      0.3549319    2.803505e-06\n",
       "4         87.711152                1.023373      0.2088300    9.558852e-07\n",
       "5          7.368062                1.888453      0.4201406    6.963110e-06\n",
       "6          5.084167                2.656703      0.6070984    1.208401e-05\n",
       "  hybrid - padj      OTU hybrid - Plant hybrid - TimePoint    Rank1\n",
       "1   0.031212606  OTU.966           3517                 T2 Bacteria\n",
       "2   0.038838954  OTU.950           3475                 T3 Bacteria\n",
       "3   0.006372368  OTU.948          34M95                 T1 Bacteria\n",
       "4   0.004387513   OTU.93           3475                 T3 Bacteria\n",
       "5   0.031960676 OTU.9266          34M95                 T3 Bacteria\n",
       "6   0.006355854  OTU.923           3517                 T2 Bacteria\n",
       "             Rank2                 Rank3               Rank4\n",
       "1    __Chloroflexi        __Anaerolineae    __Anaerolineales\n",
       "2 __Proteobacteria __Deltaproteobacteria      __Myxococcales\n",
       "3 __Proteobacteria __Alphaproteobacteria  __Rhodospirillales\n",
       "4 __Proteobacteria __Gammaproteobacteria   __Xanthomonadales\n",
       "5 __Actinobacteria    __Streptomycetales __Streptomycetaceae\n",
       "6 __Proteobacteria __Gammaproteobacteria   __Xanthomonadales\n",
       "                Rank5                  Rank6                  Rank7 Rank8\n",
       "1   __Anaerolineaceae           __uncultured __uncultured_bacterium  <NA>\n",
       "2         __0319-6G20 __uncultured_bacterium                   <NA>  <NA>\n",
       "3 __Rhodospirillaceae       __Defluviicoccus __uncultured_bacterium  <NA>\n",
       "4  __Xanthomonadaceae           __Lysobacter                   <NA>  <NA>\n",
       "5      __Streptomyces                   <NA>                   <NA>  <NA>\n",
       "6  __Xanthomonadaceae     __Stenotrophomonas                   <NA>  <NA>\n",
       "  hybrid - Test\n",
       "1        Hybrid\n",
       "2        Hybrid\n",
       "3        Hybrid\n",
       "4        Hybrid\n",
       "5        Hybrid\n",
       "6        Hybrid\n"
      ]
     },
     "metadata": {},
     "output_type": "display_data"
    }
   ],
   "source": [
    "%%R\n",
    "H %>% head"
   ]
  },
  {
   "cell_type": "code",
   "execution_count": 25,
   "metadata": {
    "collapsed": true
   },
   "outputs": [],
   "source": [
    "%%R\n",
    "tmp = NULL\n",
    "Tbl = NULL"
   ]
  },
  {
   "cell_type": "code",
   "execution_count": 26,
   "metadata": {
    "scrolled": true
   },
   "outputs": [
    {
     "data": {
      "text/plain": [
       "[1] 204  37\n",
       "  hybrid - baseMean hybrid - log2FoldChange hybrid - lfcSE hybrid - pvalue\n",
       "1          2.990913                2.244707      0.6177892    2.796550e-04\n",
       "2          9.298076                1.709678      0.4059691    2.538494e-05\n",
       "3          3.337030               -1.662755      0.3549319    2.803505e-06\n",
       "4         87.711152                1.023373      0.2088300    9.558852e-07\n",
       "5          7.368062                1.888453      0.4201406    6.963110e-06\n",
       "6          5.084167                2.656703      0.6070984    1.208401e-05\n",
       "  hybrid - padj      OTU hybrid - Plant hybrid - TimePoint  Rank1.x\n",
       "1   0.031212606  OTU.966           3517                 T2 Bacteria\n",
       "2   0.038838954  OTU.950           3475                 T3 Bacteria\n",
       "3   0.006372368  OTU.948          34M95                 T1 Bacteria\n",
       "4   0.004387513   OTU.93           3475                 T3 Bacteria\n",
       "5   0.031960676 OTU.9266          34M95                 T3 Bacteria\n",
       "6   0.006355854  OTU.923           3517                 T2 Bacteria\n",
       "             Rank2                 Rank3               Rank4\n",
       "1    __Chloroflexi        __Anaerolineae    __Anaerolineales\n",
       "2 __Proteobacteria __Deltaproteobacteria      __Myxococcales\n",
       "3 __Proteobacteria __Alphaproteobacteria  __Rhodospirillales\n",
       "4 __Proteobacteria __Gammaproteobacteria   __Xanthomonadales\n",
       "5 __Actinobacteria    __Streptomycetales __Streptomycetaceae\n",
       "6 __Proteobacteria __Gammaproteobacteria   __Xanthomonadales\n",
       "                Rank5                  Rank6                  Rank7 Rank8.x\n",
       "1   __Anaerolineaceae           __uncultured __uncultured_bacterium    <NA>\n",
       "2         __0319-6G20 __uncultured_bacterium                   <NA>    <NA>\n",
       "3 __Rhodospirillaceae       __Defluviicoccus __uncultured_bacterium    <NA>\n",
       "4  __Xanthomonadaceae           __Lysobacter                   <NA>    <NA>\n",
       "5      __Streptomyces                   <NA>                   <NA>    <NA>\n",
       "6  __Xanthomonadaceae     __Stenotrophomonas                   <NA>    <NA>\n",
       "  hybrid - Test Fertilizer - baseMean Fertilizer - log2FoldChange\n",
       "1        Hybrid                    NA                          NA\n",
       "2        Hybrid                    NA                          NA\n",
       "3        Hybrid                    NA                          NA\n",
       "4        Hybrid             87.711152                   0.6709117\n",
       "5        Hybrid                    NA                          NA\n",
       "6        Hybrid              6.736518                   1.2117445\n",
       "  Fertilizer - lfcSE Fertilizer - stat Fertilizer - pvalue Fertilizer - padj\n",
       "1                 NA                NA                  NA                NA\n",
       "2                 NA                NA                  NA                NA\n",
       "3                 NA                NA                  NA                NA\n",
       "4          0.1515395          4.427305        9.541780e-06      0.0008885081\n",
       "5                 NA                NA                  NA                NA\n",
       "6          0.3598503          3.367357        7.589231e-04      0.0289487998\n",
       "  Fertilizer - Contrast  Rank1.y Rank8.y Fertilizer - Test Enzyme - baseMean\n",
       "1                  <NA>     <NA>    <NA>              <NA>                NA\n",
       "2                  <NA>     <NA>    <NA>              <NA>                NA\n",
       "3                  <NA>     <NA>    <NA>              <NA>                NA\n",
       "4                 0_170 Bacteria    <NA>        Fertilizer                NA\n",
       "5                  <NA>     <NA>    <NA>              <NA>                NA\n",
       "6                 0_170 Bacteria    <NA>        Fertilizer                NA\n",
       "  Enzyme - log2FoldChange Enzyme - lfcSE Enzyme - stat Enzyme - pvalue\n",
       "1                      NA             NA            NA              NA\n",
       "2                      NA             NA            NA              NA\n",
       "3                      NA             NA            NA              NA\n",
       "4                      NA             NA            NA              NA\n",
       "5                      NA             NA            NA              NA\n",
       "6                      NA             NA            NA              NA\n",
       "  Enzyme - padj Rank1 Rank8 Enzyme - Rank1 Enzyme - test\n",
       "1            NA  <NA>    NA           <NA>          <NA>\n",
       "2            NA  <NA>    NA           <NA>          <NA>\n",
       "3            NA  <NA>    NA           <NA>          <NA>\n",
       "4            NA  <NA>    NA           <NA>          <NA>\n",
       "5            NA  <NA>    NA           <NA>          <NA>\n",
       "6            NA  <NA>    NA           <NA>          <NA>\n"
      ]
     },
     "metadata": {},
     "output_type": "display_data"
    }
   ],
   "source": [
    "%%R\n",
    "tmp = full_join(H,F, by = c(\"OTU\",  \"Rank2\", \"Rank3\", \"Rank4\", \"Rank5\", \"Rank6\", \"Rank7\")) \n",
    "\n",
    "Tbl = full_join(tmp, E, by = c(\"OTU\", \"Rank2\", \"Rank3\", \"Rank4\", \"Rank5\", \"Rank6\", \"Rank7\"))\n",
    "tmp = NULL\n",
    "Tbl = Tbl %>% unique\n",
    "dim(Tbl) %>% print\n",
    "head(Tbl) "
   ]
  },
  {
   "cell_type": "code",
   "execution_count": 27,
   "metadata": {},
   "outputs": [
    {
     "data": {
      "text/plain": [
       " [1] \"hybrid - baseMean\"           \"hybrid - log2FoldChange\"    \n",
       " [3] \"hybrid - lfcSE\"              \"hybrid - pvalue\"            \n",
       " [5] \"hybrid - padj\"               \"OTU\"                        \n",
       " [7] \"hybrid - Plant\"              \"hybrid - TimePoint\"         \n",
       " [9] \"Rank1.x\"                     \"Rank2\"                      \n",
       "[11] \"Rank3\"                       \"Rank4\"                      \n",
       "[13] \"Rank5\"                       \"Rank6\"                      \n",
       "[15] \"Rank7\"                       \"Rank8.x\"                    \n",
       "[17] \"hybrid - Test\"               \"Fertilizer - baseMean\"      \n",
       "[19] \"Fertilizer - log2FoldChange\" \"Fertilizer - lfcSE\"         \n",
       "[21] \"Fertilizer - stat\"           \"Fertilizer - pvalue\"        \n",
       "[23] \"Fertilizer - padj\"           \"Fertilizer - Contrast\"      \n",
       "[25] \"Rank1.y\"                     \"Rank8.y\"                    \n",
       "[27] \"Fertilizer - Test\"           \"Enzyme - baseMean\"          \n",
       "[29] \"Enzyme - log2FoldChange\"     \"Enzyme - lfcSE\"             \n",
       "[31] \"Enzyme - stat\"               \"Enzyme - pvalue\"            \n",
       "[33] \"Enzyme - padj\"               \"Rank1\"                      \n",
       "[35] \"Rank8\"                       \"Enzyme - Rank1\"             \n",
       "[37] \"Enzyme - test\"              \n"
      ]
     },
     "metadata": {},
     "output_type": "display_data"
    }
   ],
   "source": [
    "%%R\n",
    "colnames(Tbl)"
   ]
  },
  {
   "cell_type": "code",
   "execution_count": 28,
   "metadata": {},
   "outputs": [
    {
     "data": {
      "text/plain": [
       "  hybrid - log2FoldChange hybrid - padj    OTU hybrid - Test\n",
       "1                      NA            NA OTU.10          <NA>\n",
       "2                      NA            NA OTU.10          <NA>\n",
       "  Fertilizer - log2FoldChange Fertilizer - padj Fertilizer - Contrast  Rank1.y\n",
       "1                    1.421900      4.605522e-06                  0_85 Bacteria\n",
       "2                    2.325644      8.863696e-18                 0_170 Bacteria\n",
       "  Fertilizer - Test Enzyme - stat Enzyme - pvalue Enzyme - padj\n",
       "1        Fertilizer            NA              NA            NA\n",
       "2        Fertilizer            NA              NA            NA\n"
      ]
     },
     "metadata": {},
     "output_type": "display_data"
    }
   ],
   "source": [
    "%%R\n",
    "Tbl[,c(2,5, 6, 17, 19, 23, 24, 25, 27, 31, 32, 33)] %>% filter(OTU == \"OTU.10\")# arrange(desc(OTU)) %>% head\n"
   ]
  },
  {
   "cell_type": "code",
   "execution_count": 29,
   "metadata": {
    "collapsed": true
   },
   "outputs": [],
   "source": [
    "%%R\n",
    "write.csv(Tbl, file = '/home/bryan/ERA/data/MiSeq/20170417_run1/DESeq2/OTUIntersectionTbl.csv', row.names = FALSE)"
   ]
  },
  {
   "cell_type": "markdown",
   "metadata": {},
   "source": [
    "# Explore 4 way intersection with rhizosphere responders highlighted"
   ]
  },
  {
   "cell_type": "code",
   "execution_count": 30,
   "metadata": {},
   "outputs": [
    {
     "data": {
      "text/plain": [
       "NULL\n"
      ]
     },
     "metadata": {},
     "output_type": "display_data"
    }
   ],
   "source": [
    "%%R\n",
    "# OTUs differentially abundant between genotypes and rhizosphere responders \n"
   ]
  },
  {
   "cell_type": "code",
   "execution_count": 31,
   "metadata": {
    "collapsed": true
   },
   "outputs": [],
   "source": [
    "\n",
    "# draw.quad.venn(area1, area2, area3, area4, n12, n13, n14, n23, n24,\n",
    "# n34, n123, n124, n134, n234, n1234, category = rep(\"\",\n",
    "# 4), lwd = rep(2, 4), lty = rep(\"solid\", 4), col =\n",
    "# rep(\"black\", 4), fill = NULL, alpha = rep(0.5, 4),\n",
    "# label.col = rep(\"black\", 15), cex = rep(1, 15),\n",
    "# fontface = rep(\"plain\", 15), fontfamily = rep(\"serif\",\n",
    "# 15), cat.pos = c(-15, 15, 0, 0), cat.dist = c(0.22,\n",
    "# 0.22, 0.11, 0.11), cat.col = rep(\"black\", 4), cat.cex\n",
    "# = rep(1, 4), cat.fontface = rep(\"plain\", 4),\n",
    "# cat.fontfamily = rep(\"serif\", 4), cat.just =\n",
    "# rep(list(c(0.5, 0.5)), 4), rotation.degree = 0,\n",
    "# rotation.centre = c(0.5, 0.5), ind = TRUE, cex.prop =\n",
    "# NULL, print.mode = \"raw\", sigdigs = 3, direct.area =\n",
    "\n"
   ]
  },
  {
   "cell_type": "code",
   "execution_count": 32,
   "metadata": {
    "collapsed": true
   },
   "outputs": [],
   "source": [
    "%%R\n",
    "RH = semi_join(HybridOTUs,RhizResp, by = \"OTU\")\n",
    "RF = semi_join(RhizResp, FertIncrease, by = \"OTU\")\n",
    "RE = semi_join(EnzOTUs,RhizResp, by = \"OTU\")\n",
    "HF = semi_join (HybridOTUs, FertIncrease, by = \"OTU\")\n",
    "HE = semi_join(HybridOTUs, EnzOTUs, by = \"OTU\")\n",
    "FE = semi_join(FertIncrease, EnzOTUs, by = \"OTU\")\n",
    "RHF = semi_join(RhizResp, HF, by = \"OTU\")\n",
    "RHE = semi_join(RH, EnzOTUs, by = \"OTU\")\n",
    "RFE = semi_join(RF, EnzOTUs, by = \"OTU\")\n",
    "HFE = semi_join(HF, EnzOTUs, by = \"OTU\")\n",
    "RHFE = semi_join(RhizResp, HFE, by = \"OTU\")"
   ]
  },
  {
   "cell_type": "code",
   "execution_count": 33,
   "metadata": {
    "collapsed": true
   },
   "outputs": [],
   "source": [
    "%%R\n",
    "area1 = RhizResp %>% dim %>% .[1]\n",
    "area2 = HybridOTUs %>% dim %>% .[1]\n",
    "area3 = FertIncrease %>% dim %>% .[1]\n",
    "area4 = EnzOTUs %>% dim %>% .[1]\n",
    "n12 = RH %>% dim %>% .[1] # see cells above\n",
    "n13 = RF %>% dim() %>% .[1]\n",
    "n14 = RE %>% dim() %>% .[1]\n",
    "n23 = HF %>% dim() %>% .[1]\n",
    "n24 = HE %>% dim() %>% .[1]\n",
    "n34 = FE %>% dim() %>% .[1]\n",
    "n123 = RHF %>% dim() %>% .[1]\n",
    "n124 = RHE %>% dim() %>% .[1]\n",
    "n134 = RFE %>% dim() %>% .[1]\n",
    "n234 = HFE %>% dim() %>% .[1]\n",
    "n1234 = RHFE %>% dim() %>% .[1]\n",
    "\n"
   ]
  },
  {
   "cell_type": "code",
   "execution_count": 34,
   "metadata": {},
   "outputs": [
    {
     "data": {
      "text/plain": [
       "(polygon[GRID.polygon.26], polygon[GRID.polygon.27], polygon[GRID.polygon.28], polygon[GRID.polygon.29], polygon[GRID.polygon.30], polygon[GRID.polygon.31], polygon[GRID.polygon.32], polygon[GRID.polygon.33], text[GRID.text.34], text[GRID.text.35], text[GRID.text.36], text[GRID.text.37], text[GRID.text.38], text[GRID.text.39], text[GRID.text.40], text[GRID.text.41], text[GRID.text.42], text[GRID.text.43], text[GRID.text.44], text[GRID.text.45], text[GRID.text.46], text[GRID.text.47], text[GRID.text.48], text[GRID.text.49], text[GRID.text.50], text[GRID.text.51], text[GRID.text.52]) \n"
      ]
     },
     "metadata": {},
     "output_type": "display_data"
    },
    {
     "data": {
      "image/png": "[encoded data removed]"
     },
     "metadata": {},
     "output_type": "display_data"
    }
   ],
   "source": [
    "%%R -w 355 -h 355\n",
    "draw.quad.venn(area1, area2, area3, area4, n12, n13, n14, n23, n24,\n",
    "n34, n123, n124, n134, n234, n1234, category = c(\"Rhizosphere\", \"Hybrid\", \"Fertilizer\", \"Enzyme\"), \n",
    "               lwd = rep(2, 4), lty = rep(2, 4), col = rep(\"black\", 4), \n",
    "                 fill = c(\"blue\", \"orange\", \"red\", \"green\"), alpha = rep(0.5, 4),\n",
    "label.col = rep(\"black\", 15), cex = rep(1, 15),\n",
    "fontface = rep(\"plain\", 15), fontfamily = rep(\"serif\",\n",
    "15), cat.pos = c(-15, 15, 0, 0), cat.dist = c(0.22,\n",
    "0.22, 0.11, 0.11), cat.col = rep(\"black\", 4), cat.cex\n",
    "= rep(1, 4), cat.fontface = rep(\"plain\", 4),\n",
    "cat.fontfamily = rep(\"serif\", 4), cat.just =\n",
    "rep(list(c(0.5, 0.5)), 4), rotation.degree = 0,\n",
    "rotation.centre = c(0.5, 0.5), ind = TRUE, cex.prop =\n",
    "NULL, print.mode = \"raw\", sigdigs = 3)\n"
   ]
  },
  {
   "cell_type": "code",
   "execution_count": 38,
   "metadata": {},
   "outputs": [
    {
     "name": "stdout",
     "output_type": "stream",
     "text": [
      "R Help on ‘svg’cairo                package:grDevices                 R Documentation\n",
      "\n",
      "_\bC_\ba_\bi_\br_\bo_\bg_\br_\ba_\bp_\bh_\bi_\bc_\bs-_\bb_\ba_\bs_\be_\bd _\bS_\bV_\bG, _\bP_\bD_\bF _\ba_\bn_\bd _\bP_\bo_\bs_\bt_\bS_\bc_\br_\bi_\bp_\bt _\bG_\br_\ba_\bp_\bh_\bi_\bc_\bs _\bD_\be_\bv_\bi_\bc_\be_\bs\n",
      "\n",
      "_\bD_\be_\bs_\bc_\br_\bi_\bp_\bt_\bi_\bo_\bn:\n",
      "\n",
      "     Graphics devices for SVG, PDF and PostScript graphics files using\n",
      "     the cairo graphics API.\n",
      "\n",
      "_\bU_\bs_\ba_\bg_\be:\n",
      "\n",
      "     svg(filename = if(onefile) \"Rplots.svg\" else \"Rplot%03d.svg\",\n",
      "         width = 7, height = 7, pointsize = 12,\n",
      "         onefile = FALSE, family = \"sans\", bg = \"white\",\n",
      "         antialias = c(\"default\", \"none\", \"gray\", \"subpixel\"))\n",
      "     \n",
      "     cairo_pdf(filename = if(onefile) \"Rplots.pdf\" else \"Rplot%03d.pdf\",\n",
      "               width = 7, height = 7, pointsize = 12,\n",
      "               onefile = FALSE, family = \"sans\", bg = \"white\",\n",
      "               antialias = c(\"default\", \"none\", \"gray\", \"subpixel\"),\n",
      "               fallback_resolution = 300)\n",
      "     \n",
      "     cairo_ps(filename = if(onefile) \"Rplots.ps\" else \"Rplot%03d.ps\",\n",
      "              width = 7, height = 7, pointsize = 12,\n",
      "              onefile = FALSE, family = \"sans\", bg = \"white\",\n",
      "              antialias = c(\"default\", \"none\", \"gray\", \"subpixel\"),\n",
      "              fallback_resolution = 300)\n",
      "     \n",
      "_\bA_\br_\bg_\bu_\bm_\be_\bn_\bt_\bs:\n",
      "\n",
      "filename: the name of the output file.  The page number is substituted\n",
      "          if a C integer format is included in the character string, as\n",
      "          in the default.  (The result must be less than ‘PATH_MAX’\n",
      "          characters long, and may be truncated if not.  See\n",
      "          ‘postscript’ for further details.)  Tilde expansion is\n",
      "          performed where supported by the platform.\n",
      "\n",
      "   width: the width of the device in inches.\n",
      "\n",
      "  height: the height of the device in inches.\n",
      "\n",
      "pointsize: the default pointsize of plotted text (in big points).\n",
      "\n",
      " onefile: should all plots appear in one file or in separate files?\n",
      "\n",
      "  family: one of the device-independent font families, ‘\"sans\"’,\n",
      "          ‘\"serif\"’ and ‘\"mono\"’, or a character string specify a font\n",
      "          family to be searched for in a system-dependent way.  See,\n",
      "          the ‘Cairo fonts’ section in the help for ‘X11’.\n",
      "\n",
      "      bg: the initial background colour: can be overridden by setting\n",
      "          par(\"bg\").\n",
      "\n",
      "antialias: string, the type of anti-aliasing (if any) to be used;\n",
      "          defaults to ‘\"default\"’.\n",
      "\n",
      "fallback_resolution: numeric: the resolution in dpi used when falling\n",
      "          back to bitmap output.  Prior to R 3.3.0 this depended on the\n",
      "          cairo implementation but was commonly 300.\n",
      "\n",
      "_\bD_\be_\bt_\ba_\bi_\bl_\bs:\n",
      "\n",
      "     SVG (Scalar Vector Graphics) is a W3C standard for vector\n",
      "     graphics.  See <URL: http://www.w3.org/Graphics/SVG/>.  The output\n",
      "     from ‘svg’ is SVG version 1.1 for ‘onefile = FALSE’ (the default),\n",
      "     otherwise SVG 1.2.  (Few SVG viewers are capable of displaying\n",
      "     multi-page SVG files.)\n",
      "\n",
      "     Note that unlike ‘postscript’ and ‘pdf’, ‘cairo_pdf’ and\n",
      "     ‘cairo_ps’ sometimes record _bitmaps_ and not vector graphics.  On\n",
      "     the other hand, they can (on suitable platforms) include a much\n",
      "     wider range of UTF-8 glyphs, and embed the fonts used.\n",
      "\n",
      "     The output produced by ‘cairo_ps(onefile = FALSE)’ will be\n",
      "     encapsulated postscript on a platform with cairo >= 1.6.\n",
      "\n",
      "     R can be compiled without support for any of these devices: this\n",
      "     will be reported if you attempt to use them on a system where they\n",
      "     are not supported.  They all require cairo version 1.2 (from 2006)\n",
      "     or later.\n",
      "\n",
      "     If you plot more than one page on one of these devices and do not\n",
      "     include something like ‘%d’ for the sequence number in ‘file’ (or\n",
      "     set ‘onefile = TRUE’) the file will contain the last page plotted.\n",
      "\n",
      "     There is full support of semi-transparency, but using this is one\n",
      "     of the things liable to trigger bitmap output (and will always do\n",
      "     so for ‘cairo_ps’).\n",
      "\n",
      "_\bV_\ba_\bl_\bu_\be:\n",
      "\n",
      "     A plot device is opened: nothing is returned to the R interpreter.\n",
      "\n",
      "_\bA_\bn_\bt_\bi-_\ba_\bl_\bi_\ba_\bs_\bi_\bn_\bg:\n",
      "\n",
      "     Anti-aliasing is applied to both graphics and fonts.  It is\n",
      "     generally preferable for lines and text, but can lead to\n",
      "     undesirable effects for fills, e.g. for ‘image’ plots, and so is\n",
      "     never used for fills.\n",
      "\n",
      "     ‘antialias = \"default\"’ is in principle platform-dependent, but\n",
      "     seems most often equivalent to ‘antialias = \"gray\"’.\n",
      "\n",
      "_\bC_\bo_\bn_\bv_\be_\bn_\bt_\bi_\bo_\bn_\bs:\n",
      "\n",
      "     This section describes the implementation of the conventions for\n",
      "     graphics devices set out in the “R Internals Manual”.\n",
      "\n",
      "        • The default device size is in pixels (‘svg’) or inches.\n",
      "\n",
      "        • Font sizes are in big points.\n",
      "\n",
      "        • The default font family is Helvetica.\n",
      "\n",
      "        • Line widths are multiples of 1/96 inch.\n",
      "\n",
      "        • Circle radii have a minimum of 1/72 inch.\n",
      "\n",
      "        • Colours are interpreted by the viewing application.\n",
      "\n",
      "_\bN_\bo_\bt_\be:\n",
      "\n",
      "     Cairo 1.2.4 (seen in Centos/RHEL 5) is known to give incorrect SVG\n",
      "     output.\n",
      "\n",
      "     In principle these devices are independent of X11 (as is seen by\n",
      "     their presence on Windows).  But on a Unix-alike the cairo\n",
      "     libraries may be distributed as part of the X11 system and hence\n",
      "     that (on macOS, XQuartz) may need to be installed.\n",
      "\n",
      "_\bS_\be_\be _\bA_\bl_\bs_\bo:\n",
      "\n",
      "     ‘Devices’, ‘dev.print’, ‘pdf’, ‘postscript’\n",
      "\n",
      "     ‘capabilities’ to see if cairo is supported.\n",
      "\n"
     ]
    }
   ],
   "source": [
    "%%R\n",
    "?svg"
   ]
  },
  {
   "cell_type": "code",
   "execution_count": 39,
   "metadata": {},
   "outputs": [
    {
     "data": {
      "text/plain": [
       "png \n",
       "  2 \n"
      ]
     },
     "metadata": {},
     "output_type": "display_data"
    }
   ],
   "source": [
    "%%R\n",
    "svg(filename= '/home/bryan/ERA/data/figures/ms_versions/Venn.svg', width = 3.149, height = 3.149)\n",
    "\n",
    "draw.quad.venn(area1, area2, area3, area4, n12, n13, n14, n23, n24,\n",
    "n34, n123, n124, n134, n234, n1234, category = c(\"Rhizosphere\", \"Hybrid\", \"Fertilizer\", \"Enzyme\"), \n",
    "               lwd = rep(2, 4), lty = rep(2, 4), col = rep(\"black\", 4), \n",
    "                 fill = c(\"blue\", \"orange\", \"red\", \"green\"), alpha = rep(0.5, 4),\n",
    "label.col = rep(\"black\", 15), cex = rep(1, 15),\n",
    "fontface = rep(\"plain\", 15), fontfamily = rep(\"serif\",\n",
    "15), cat.pos = c(-15, 15, 0, 0), cat.dist = c(0.22,\n",
    "0.22, 0.11, 0.11), cat.col = rep(\"black\", 4), cat.cex\n",
    "= rep(1, 4), cat.fontface = rep(\"plain\", 4),\n",
    "cat.fontfamily = rep(\"serif\", 4), cat.just =\n",
    "rep(list(c(0.5, 0.5)), 4), rotation.degree = 0,\n",
    "rotation.centre = c(0.5, 0.5), ind = TRUE, cex.prop =\n",
    "NULL, print.mode = \"raw\", sigdigs = 3)\n",
    "dev.off()"
   ]
  }
 ],
 "metadata": {
  "hide_input": true,
  "kernelspec": {
   "display_name": "Python 3",
   "language": "python",
   "name": "python3"
  },
  "language_info": {
   "codemirror_mode": {
    "name": "ipython",
    "version": 3
   },
   "file_extension": ".py",
   "mimetype": "text/x-python",
   "name": "python",
   "nbconvert_exporter": "python",
   "pygments_lexer": "ipython3",
   "version": "3.6.1"
  }
 },
 "nbformat": 4,
 "nbformat_minor": 1
}
