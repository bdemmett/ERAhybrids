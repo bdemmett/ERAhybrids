{
 "cells": [
  {
   "cell_type": "markdown",
   "metadata": {},
   "source": [
    "## Description:\n",
    "\n",
    "    Which OTUs are responding to multiple treatment effects or covariates \n",
    "   \n"
   ]
  },
  {
   "cell_type": "markdown",
   "metadata": {},
   "source": [
    "# Setting variables"
   ]
  },
  {
   "cell_type": "code",
   "execution_count": 1,
   "metadata": {
    "collapsed": true
   },
   "outputs": [],
   "source": [
    "workDir = '/home/bryan/ERA/data/MiSeq/20170417_run1/DESeq2'\n",
    "#using physeq file with sparsity of greater than 3 in 3 samples\n",
    "physeqFile = '/home/bryan/ERA/data/MiSeq/20170417_run1/phyloseq/ERA_thresh.rds'"
   ]
  },
  {
   "cell_type": "markdown",
   "metadata": {},
   "source": [
    "# Init"
   ]
  },
  {
   "cell_type": "code",
   "execution_count": 2,
   "metadata": {
    "collapsed": false
   },
   "outputs": [],
   "source": [
    "%load_ext rpy2.ipython"
   ]
  },
  {
   "cell_type": "code",
   "execution_count": 4,
   "metadata": {
    "collapsed": false
   },
   "outputs": [
    {
     "data": {
      "text/plain": [
       "[1] \"plyr\"\n",
       "[1] ‘1.8.4’\n",
       "[1] \"BiocParallel\"\n",
       "[1] ‘1.8.2’\n",
       "[1] \"doParallel\"\n",
       "[1] ‘1.0.10’\n",
       "[1] \"DESeq2\"\n",
       "[1] ‘1.14.1’\n",
       "[1] \"foreach\"\n",
       "[1] ‘1.4.3’\n",
       "[1] \"ggplot2\"\n",
       "[1] ‘2.2.1’\n",
       "[1] \"gridExtra\"\n",
       "[1] ‘2.2.1’\n",
       "[1] \"scales\"\n",
       "[1] ‘0.4.1’\n",
       "[1] \"phyloseq\"\n",
       "[1] ‘1.19.1’\n",
       "[1] \"dplyr\"\n",
       "[1] ‘0.5.0’\n",
       "[1] \"tidyr\"\n",
       "[1] ‘0.6.1’\n",
       "[1] \"reshape2\"\n",
       "[1] ‘1.4.2’\n",
       "[1] \"vegan\"\n",
       "[1] ‘2.4.3’\n",
       "[1] \"RColorBrewer\"\n",
       "[1] ‘1.1.2’\n",
       "[1] \"VennDiagram\"\n",
       "[1] ‘1.6.17’\n"
      ]
     },
     "metadata": {},
     "output_type": "display_data"
    }
   ],
   "source": [
    "%%R\n",
    "# The required package list:\n",
    "reqpkg = c(\"plyr\",\"BiocParallel\",\"doParallel\", \"DESeq2\", \"foreach\", \"ggplot2\", \n",
    "   \"gridExtra\",\"scales\", \"phyloseq\", \"dplyr\", \"tidyr\", \n",
    "           \"reshape2\", \"vegan\", \"RColorBrewer\", \"VennDiagram\")\n",
    "# Load all required packages and show version\n",
    "for (i in reqpkg) {\n",
    "    print(i)\n",
    "    print(packageVersion(i))\n",
    "    suppressMessages(library(i, quietly = TRUE, verbose = FALSE, \n",
    "                             warn.conflicts = FALSE, character.only = TRUE))\n",
    "}"
   ]
  },
  {
   "cell_type": "code",
   "execution_count": 5,
   "metadata": {
    "collapsed": false
   },
   "outputs": [],
   "source": [
    "%%R\n",
    "register(MulticoreParam(20))"
   ]
  },
  {
   "cell_type": "markdown",
   "metadata": {},
   "source": [
    "# Read log2fold change tables"
   ]
  },
  {
   "cell_type": "code",
   "execution_count": 90,
   "metadata": {
    "collapsed": false
   },
   "outputs": [
    {
     "data": {
      "text/plain": [
       " [1] \"baseMean\"       \"log2FoldChange\" \"lfcSE\"          \"stat\"          \n",
       " [5] \"pvalue\"         \"padj\"           \"OTU\"            \"Rank1\"         \n",
       " [9] \"Rank2\"          \"Rank3\"          \"Rank4\"          \"Rank5\"         \n",
       "[13] \"Rank6\"          \"Rank7\"          \"Rank8\"          \"test\"          \n",
       " [1] \"X\"              \"baseMean\"       \"log2FoldChange\" \"lfcSE\"         \n",
       " [5] \"stat\"           \"pvalue\"         \"padj\"           \"OTU\"           \n",
       " [9] \"Contrast\"       \"Rank1\"          \"Rank2\"          \"Rank3\"         \n",
       "[13] \"Rank4\"          \"Rank5\"          \"Rank6\"          \"Rank7\"         \n",
       "[17] \"Rank8\"         \n",
       " [1] \"baseMean\"       \"log2FoldChange\" \"lfcSE\"          \"pvalue\"        \n",
       " [5] \"padj\"           \"OTU\"            \"Plant\"          \"TimePoint\"     \n",
       " [9] \"Rank1\"          \"Rank2\"          \"Rank3\"          \"Rank4\"         \n",
       "[13] \"Rank5\"          \"Rank6\"          \"Rank7\"          \"Rank8\"         \n",
       " [1] \"X\"              \"baseMean\"       \"log2FoldChange\" \"lfcSE\"         \n",
       " [5] \"stat\"           \"pvalue\"         \"padj\"           \"OTU\"           \n",
       " [9] \"Rank1\"          \"Rank2\"          \"Rank3\"          \"Rank4\"         \n",
       "[13] \"Rank5\"          \"Rank6\"          \"Rank7\"          \"Rank8\"         \n"
      ]
     },
     "metadata": {},
     "output_type": "display_data"
    }
   ],
   "source": [
    "%%R\n",
    "enzT1 = read.csv('/home/bryan/ERA/data/MiSeq/20170417_run1/DESeq2/l2f_enzyme_t1_sig.csv')\n",
    "enzT2 = read.csv('/home/bryan/ERA/data/MiSeq/20170417_run1/DESeq2/l2f_enzyme_t2_sig.csv')\n",
    "enzT3 = read.csv('/home/bryan/ERA/data/MiSeq/20170417_run1/DESeq2/l2f_enzyme_t3_sig.csv')\n",
    "fertT3 = read.csv('/home/bryan/ERA/data/MiSeq/20170417_run1/DESeq2/l2f_fert_t3.csv') %>%\n",
    "    filter(padj < 0.05)\n",
    "\n",
    "\n",
    "l2f.hybrid = read.csv('/home/bryan/ERA/data/MiSeq/20170417_run1/DESeq2/EarlyReleasevsYear.csv') %>%\n",
    "    filter(padj < 0.05)\n",
    "l2f.RYear.2 = read.csv('/home/bryan/ERA/data/MiSeq/20170417_run1/DESeq2/l2f_Year2.csv') %>%\n",
    "    filter(padj < 0.05)\n",
    "\n",
    "colnames(enzT1) %>% print\n",
    "colnames(fertT3)%>% print\n",
    "colnames(l2f.hybrid1939)%>% print\n",
    "colnames(l2f.RYear.2) %>% print"
   ]
  },
  {
   "cell_type": "markdown",
   "metadata": {},
   "source": [
    "## OTUs positively correlated with enzyme activity"
   ]
  },
  {
   "cell_type": "code",
   "execution_count": 16,
   "metadata": {
    "collapsed": false
   },
   "outputs": [],
   "source": [
    "%%R\n",
    "enzT1$TimePoint = \"T1\"\n",
    "enzT2$TimePoint = \"T2\"\n",
    "enzT3$TimePoint = \"T3\""
   ]
  },
  {
   "cell_type": "code",
   "execution_count": null,
   "metadata": {
    "collapsed": true
   },
   "outputs": [],
   "source": [
    "* Axis 1 is positively correlated with total activity at T1 and negatively correlated at T2 and T3\n",
    "* Axis 2 is negatively correlated with LAP at T1, T2 and postively correlated at T3\n",
    "* We are interested in all OTUs correlated as even a negative correlation indicates a shift in activity.  "
   ]
  },
  {
   "cell_type": "code",
   "execution_count": 134,
   "metadata": {
    "collapsed": false
   },
   "outputs": [],
   "source": [
    "%%R\n",
    "enzT1$TimePoint = \"T1\"\n",
    "enzT2$TimePoint = \"T2\"\n",
    "enzT3$TimePoint = \"T3\"\n"
   ]
  },
  {
   "cell_type": "code",
   "execution_count": 135,
   "metadata": {
    "collapsed": false
   },
   "outputs": [
    {
     "data": {
      "text/plain": [
       "[1] \"34  OTUs correlated with changes in enzyme activity\"\n"
      ]
     },
     "metadata": {},
     "output_type": "display_data"
    }
   ],
   "source": [
    "%%R\n",
    "Enz = bind_rows(enzT1, enzT2, enzT3)\n",
    "dim(Enz)\n",
    "\n",
    "EnzOTUs = Enz %>% select(OTU, Rank2, Rank3, Rank4, Rank5, Rank6, Rank7, Rank8) %>% unique \n",
    "paste(EnzOTUs %>% dim %>% .[1], \" OTUs correlated with changes in enzyme activity\")"
   ]
  },
  {
   "cell_type": "markdown",
   "metadata": {},
   "source": [
    "## OTUs differentially abundant between early release and any other genotype "
   ]
  },
  {
   "cell_type": "markdown",
   "metadata": {},
   "source": [
    "* Currently 1939 comparison at V6 and R3 and 1936 comparison at R1"
   ]
  },
  {
   "cell_type": "code",
   "execution_count": 175,
   "metadata": {
    "collapsed": false
   },
   "outputs": [
    {
     "data": {
      "text/plain": [
       "[1] \"48  OTUs differntially abundant between genotypes\"\n"
      ]
     },
     "metadata": {},
     "output_type": "display_data"
    }
   ],
   "source": [
    "%%R\n",
    "\n",
    "# l2f.hybridT2 not necessary?\n",
    "HybridOTUs = l2f.hybrid %>%\n",
    "#bind_rows(l2f.hybrid,  l2f.RYear.2) %>% \n",
    "        select(OTU, Rank2, Rank3, Rank4, Rank5, Rank6, Rank7, Rank8) %>% unique\n",
    "        #.$OTU %>% unique\n",
    "paste(HybridOTUs  %>% dim %>% .[1], \" OTUs differntially abundant between genotypes\")\n"
   ]
  },
  {
   "cell_type": "markdown",
   "metadata": {},
   "source": [
    "## OTUs responding to fertilizer at T3"
   ]
  },
  {
   "cell_type": "code",
   "execution_count": 93,
   "metadata": {
    "collapsed": false
   },
   "outputs": [
    {
     "data": {
      "text/plain": [
       "[1] \"88  OTUs enriched in fertilized rhizosphere at T3\"\n",
       "[1] \"23  OTUs enriched in depleted in rhizosphere at T3\"\n"
      ]
     },
     "metadata": {},
     "output_type": "display_data"
    }
   ],
   "source": [
    "%%R\n",
    "FertIncrease = fertT3 %>% filter(padj < 0.05 & log2FoldChange > 0) %>% \n",
    "     select(OTU, Rank2, Rank3, Rank4, Rank5, Rank6, Rank7, Rank8) %>% unique\n",
    "FertDecrease = fertT3 %>% filter(padj < 0.05 & log2FoldChange < 0) %>% \n",
    "     select(OTU, Rank2, Rank3, Rank4, Rank5, Rank6, Rank7, Rank8) %>% unique\n",
    "paste(FertIncrease %>% dim %>% .[1], \" OTUs enriched in fertilized rhizosphere at T3\") %>% print\n",
    "paste(FertDecrease %>% dim %>% .[1], \" OTUs enriched in depleted in rhizosphere at T3\")"
   ]
  },
  {
   "cell_type": "markdown",
   "metadata": {},
   "source": [
    "## Rhizosphere responders"
   ]
  },
  {
   "cell_type": "code",
   "execution_count": 94,
   "metadata": {
    "collapsed": false
   },
   "outputs": [
    {
     "data": {
      "text/plain": [
       "[1] \"284  OTUs enriched in rhizosphere\"\n"
      ]
     },
     "metadata": {},
     "output_type": "display_data"
    }
   ],
   "source": [
    "%%R\n",
    "RhizResp = read.csv('/home/bryan/ERA/data/MiSeq/20170417_run1/DESeq2/BarevsHybrid.csv') %>%\n",
    "    filter(p.adj < 0.05 & log2FoldChange > 0) %>% \n",
    "    select(OTU, Rank2, Rank3, Rank4, Rank5, Rank6, Rank7, Rank8) %>% unique\n",
    "    \n",
    "\n",
    "paste(RhizResp %>% dim %>% .[1], \" OTUs enriched in rhizosphere\")\n"
   ]
  },
  {
   "cell_type": "markdown",
   "metadata": {},
   "source": [
    "# Shared OTUs"
   ]
  },
  {
   "cell_type": "code",
   "execution_count": 176,
   "metadata": {
    "collapsed": false
   },
   "outputs": [
    {
     "data": {
      "text/plain": [
       "      OTU            Rank2                 Rank3              Rank4\n",
       "1 OTU.314 __Proteobacteria __Alphaproteobacteria  __Caulobacterales\n",
       "2 OTU.630 __Proteobacteria __Alphaproteobacteria __Sphingomonadales\n",
       "3 OTU.311 __Actinobacteria      __Acidimicrobiia __Acidimicrobiales\n",
       "                 Rank5                Rank6                  Rank7 Rank8\n",
       "1   __Caulobacteraceae      __Asticcacaulis                   <NA>    NA\n",
       "2 __Erythrobacteraceae __Altererythrobacter                   <NA>    NA\n",
       "3          __Iamiaceae              __Iamia __uncultured_bacterium    NA\n"
      ]
     },
     "metadata": {},
     "output_type": "display_data"
    }
   ],
   "source": [
    "%%R\n",
    "# OTUs that are related to enzyme activity and differentially abundant between genotypes\n",
    "semi_join(EnzOTUs,HybridOTUs, by = \"OTU\")"
   ]
  },
  {
   "cell_type": "code",
   "execution_count": 96,
   "metadata": {
    "collapsed": false
   },
   "outputs": [
    {
     "data": {
      "text/plain": [
       "      OTU            Rank2                 Rank3             Rank4\n",
       "1 OTU.314 __Proteobacteria __Alphaproteobacteria __Caulobacterales\n",
       "               Rank5           Rank6 Rank7 Rank8\n",
       "1 __Caulobacteraceae __Asticcacaulis  <NA>    NA\n"
      ]
     },
     "metadata": {},
     "output_type": "display_data"
    }
   ],
   "source": [
    "%%R\n",
    "# OTUs that are related to enzyme activity and enriched in fertilizer treatment\n",
    "semi_join(EnzOTUs,FertIncrease, by = \"OTU\")"
   ]
  },
  {
   "cell_type": "code",
   "execution_count": 177,
   "metadata": {
    "collapsed": false
   },
   "outputs": [
    {
     "data": {
      "text/plain": [
       "[1] OTU   Rank2 Rank3 Rank4 Rank5 Rank6 Rank7 Rank8\n",
       "<0 rows> (or 0-length row.names)\n"
      ]
     },
     "metadata": {},
     "output_type": "display_data"
    }
   ],
   "source": [
    "%%R\n",
    "# OTUs that are related to enzyme activity and decreased abundance in fertilizer treatment\n",
    "semi_join(EnzOTUs,FertDecrease, by = \"OTU\")"
   ]
  },
  {
   "cell_type": "code",
   "execution_count": 178,
   "metadata": {
    "collapsed": false,
    "scrolled": true
   },
   "outputs": [
    {
     "data": {
      "text/plain": [
       "         OTU             Rank2                 Rank3                  Rank4\n",
       "1  OTU.14139  __Proteobacteria __Alphaproteobacteria          __Rhizobiales\n",
       "2    OTU.119  __Proteobacteria  __Betaproteobacteria      __Burkholderiales\n",
       "3   OTU.3521  __Proteobacteria  __Betaproteobacteria      __Burkholderiales\n",
       "4   OTU.4313  __Proteobacteria __Gammaproteobacteria      __Pseudomonadales\n",
       "5    OTU.371 __Verrucomicrobia    __OPB35_soil_group __uncultured_bacterium\n",
       "6    OTU.314  __Proteobacteria __Alphaproteobacteria      __Caulobacterales\n",
       "7    OTU.357  __Proteobacteria __Gammaproteobacteria    __Enterobacteriales\n",
       "8    OTU.923  __Proteobacteria __Gammaproteobacteria      __Xanthomonadales\n",
       "9     OTU.93  __Proteobacteria __Gammaproteobacteria      __Xanthomonadales\n",
       "10   OTU.459      __Firmicutes             __Bacilli           __Bacillales\n",
       "11    OTU.80  __Actinobacteria __Propionibacteriales      __Nocardioidaceae\n",
       "                      Rank5                  Rank6                     Rank7\n",
       "1            __Rhizobiaceae            __Rhizobium    __uncultured_bacterium\n",
       "2        __Oxalobacteraceae             __Massilia                      <NA>\n",
       "3        __Oxalobacteraceae             __Massilia __uncultured_Massilia_sp.\n",
       "4        __Pseudomonadaceae          __Pseudomonas    __uncultured_bacterium\n",
       "5                      <NA>                   <NA>                      <NA>\n",
       "6        __Caulobacteraceae        __Asticcacaulis                      <NA>\n",
       "7      __Enterobacteriaceae                   <NA>                      <NA>\n",
       "8        __Xanthomonadaceae     __Stenotrophomonas                      <NA>\n",
       "9        __Xanthomonadaceae           __Lysobacter                      <NA>\n",
       "10 __Thermoactinomycetaceae          __Shimazuella    __uncultured_bacterium\n",
       "11           __Nocardioides __uncultured_bacterium                      <NA>\n",
       "   Rank8\n",
       "1   <NA>\n",
       "2   <NA>\n",
       "3   <NA>\n",
       "4   <NA>\n",
       "5   <NA>\n",
       "6   <NA>\n",
       "7   <NA>\n",
       "8   <NA>\n",
       "9   <NA>\n",
       "10  <NA>\n",
       "11  <NA>\n"
      ]
     },
     "metadata": {},
     "output_type": "display_data"
    }
   ],
   "source": [
    "%%R\n",
    "# OTUs differentially abundant between genotypes and enriched in fertilizer treatments\n",
    "semi_join(HybridOTUs,FertIncrease, by = \"OTU\") %>% unique "
   ]
  },
  {
   "cell_type": "code",
   "execution_count": 179,
   "metadata": {
    "collapsed": false
   },
   "outputs": [
    {
     "data": {
      "text/plain": [
       "[1] OTU   Rank2 Rank3 Rank4 Rank5 Rank6 Rank7 Rank8\n",
       "<0 rows> (or 0-length row.names)\n"
      ]
     },
     "metadata": {},
     "output_type": "display_data"
    }
   ],
   "source": [
    "%%R\n",
    "# OTUs differentially abundant between genotypes and depleted in fertilizer treatments\n",
    "semi_join(HybridOTUs,FertDecrease, by = \"OTU\")"
   ]
  },
  {
   "cell_type": "markdown",
   "metadata": {},
   "source": [
    "** There was no overlap between OTUs depleted in fertilized plots and those OTUs correlated with enzyme activity or those differentially abundant between hybrids"
   ]
  },
  {
   "cell_type": "markdown",
   "metadata": {},
   "source": [
    "# Three way venn diagram\n",
    "* Enzyme OTUs\n",
    "* Fertilizer OTUs\n",
    "* Genotype OTUs"
   ]
  },
  {
   "cell_type": "code",
   "execution_count": 180,
   "metadata": {
    "collapsed": false,
    "scrolled": true
   },
   "outputs": [
    {
     "data": {
      "text/plain": [
       "(polygon[GRID.polygon.170], polygon[GRID.polygon.171], polygon[GRID.polygon.172], polygon[GRID.polygon.173], polygon[GRID.polygon.174], polygon[GRID.polygon.175], text[GRID.text.176], text[GRID.text.177], text[GRID.text.178], text[GRID.text.179], text[GRID.text.180], text[GRID.text.181], text[GRID.text.182], text[GRID.text.183], text[GRID.text.184]) \n"
      ]
     },
     "metadata": {},
     "output_type": "display_data"
    },
    {
     "data": {
      "image/png": "[encoded data removed]"
     },
     "metadata": {},
     "output_type": "display_data"
    }
   ],
   "source": [
    "%%R\n",
    "#area 1 = hybrid\n",
    "#area 2 = Fert\n",
    "#area 3 = Enzyme\n",
    "draw.triple.venn(area1 = 48, area2 = 88, area3 = 34,\n",
    "n12 = 11,\n",
    "n23 = 1,\n",
    "n13 = 3,\n",
    "n123 = 1, category = c(\"Hybrid\", \"Fertilizer\", \"Enzyme\"), lty = rep(2, 3), \n",
    "                 fill = c(\"blue\", \"orange\", \"red\"), cex = 2,\n",
    "                   cat.dist = .05, cat.cex = 2, scaled = TRUE, rotation.degree = 0, euler.d = TRUE)"
   ]
  },
  {
   "cell_type": "markdown",
   "metadata": {},
   "source": [
    "* Note that there is no overlap between OTUs depleted in fertilizer treatment and either hybrids or enzymes; venn diagram only accounts for OTUs increasing in abundance"
   ]
  },
  {
   "cell_type": "markdown",
   "metadata": {},
   "source": [
    "# Expore overlap betwen hybrid and fertilizer effects"
   ]
  },
  {
   "cell_type": "code",
   "execution_count": 108,
   "metadata": {
    "collapsed": false
   },
   "outputs": [
    {
     "data": {
      "text/plain": [
       "          OTU                    Rank2                  Rank3\n",
       "1    OTU.2489         __Proteobacteria  __Deltaproteobacteria\n",
       "2   OTU.14139         __Proteobacteria  __Alphaproteobacteria\n",
       "3   OTU.15685         __Proteobacteria  __Alphaproteobacteria\n",
       "4      OTU.69         __Proteobacteria  __Alphaproteobacteria\n",
       "5      OTU.78         __Proteobacteria  __Alphaproteobacteria\n",
       "6    OTU.3468         __Proteobacteria  __Alphaproteobacteria\n",
       "7     OTU.495         __Proteobacteria  __Alphaproteobacteria\n",
       "8     OTU.287          __Bacteroidetes     __Sphingobacteriia\n",
       "9     OTU.267          __Bacteroidetes     __Sphingobacteriia\n",
       "10    OTU.119         __Proteobacteria   __Betaproteobacteria\n",
       "11   OTU.5502         __Proteobacteria   __Betaproteobacteria\n",
       "12  OTU.11319         __Proteobacteria   __Betaproteobacteria\n",
       "13   OTU.3521         __Proteobacteria   __Betaproteobacteria\n",
       "14     OTU.11         __Proteobacteria   __Betaproteobacteria\n",
       "15   OTU.5756         __Proteobacteria   __Betaproteobacteria\n",
       "16     OTU.14         __Proteobacteria   __Betaproteobacteria\n",
       "17    OTU.484         __Proteobacteria  __Gammaproteobacteria\n",
       "18   OTU.4313         __Proteobacteria  __Gammaproteobacteria\n",
       "19     OTU.61        __Verrucomicrobia     __OPB35_soil_group\n",
       "20    OTU.371        __Verrucomicrobia     __OPB35_soil_group\n",
       "21     OTU.10        __Verrucomicrobia     __Verrucomicrobiae\n",
       "22    OTU.218         __Actinobacteria  __Streptosporangiales\n",
       "23     OTU.94         __Actinobacteria       __Glycomycetales\n",
       "24      OTU.4         __Actinobacteria     __Streptomycetales\n",
       "25   OTU.3889         __Actinobacteria  __Propionibacteriales\n",
       "26   OTU.2011         __Proteobacteria  __Deltaproteobacteria\n",
       "27   OTU.1619         __Proteobacteria  __Alphaproteobacteria\n",
       "28    OTU.314         __Proteobacteria  __Alphaproteobacteria\n",
       "29     OTU.91         __Proteobacteria  __Alphaproteobacteria\n",
       "34   OTU.1372         __Proteobacteria  __Alphaproteobacteria\n",
       "35    OTU.844         __Proteobacteria  __Alphaproteobacteria\n",
       "37   OTU.2673         __Proteobacteria  __Alphaproteobacteria\n",
       "38   OTU.2204         __Proteobacteria  __Alphaproteobacteria\n",
       "39  OTU.11679         __Proteobacteria  __Alphaproteobacteria\n",
       "40    OTU.300         __Proteobacteria  __Alphaproteobacteria\n",
       "41    OTU.553         __Proteobacteria  __Alphaproteobacteria\n",
       "42     OTU.12         __Proteobacteria  __Alphaproteobacteria\n",
       "43    OTU.260         __Proteobacteria  __Alphaproteobacteria\n",
       "45   OTU.1482         __Proteobacteria  __Alphaproteobacteria\n",
       "46   OTU.1411         __Proteobacteria  __Deltaproteobacteria\n",
       "47   OTU.1577         __Proteobacteria  __Deltaproteobacteria\n",
       "50    OTU.694          __Bacteroidetes           __Cytophagia\n",
       "51   OTU.5535         __Proteobacteria   __Betaproteobacteria\n",
       "52   OTU.4143         __Proteobacteria   __Betaproteobacteria\n",
       "58    OTU.509         __Proteobacteria   __Betaproteobacteria\n",
       "59  OTU.10087         __Proteobacteria   __Betaproteobacteria\n",
       "60  OTU.11410         __Proteobacteria   __Betaproteobacteria\n",
       "62    OTU.188         __Proteobacteria   __Betaproteobacteria\n",
       "63   OTU.3543         __Proteobacteria   __Betaproteobacteria\n",
       "64  OTU.11278         __Proteobacteria   __Betaproteobacteria\n",
       "66  OTU.11870         __Proteobacteria   __Betaproteobacteria\n",
       "67    OTU.357         __Proteobacteria  __Gammaproteobacteria\n",
       "68    OTU.163         __Proteobacteria  __Gammaproteobacteria\n",
       "69   OTU.1529         __Proteobacteria  __Gammaproteobacteria\n",
       "70    OTU.407         __Proteobacteria  __Gammaproteobacteria\n",
       "71    OTU.923         __Proteobacteria  __Gammaproteobacteria\n",
       "72     OTU.93         __Proteobacteria  __Gammaproteobacteria\n",
       "73  OTU.11123         __Proteobacteria  __Gammaproteobacteria\n",
       "74   OTU.1808         __Proteobacteria  __Gammaproteobacteria\n",
       "75   OTU.2881         __Proteobacteria  __Gammaproteobacteria\n",
       "76    OTU.172         __Proteobacteria  __Gammaproteobacteria\n",
       "77    OTU.169        __Verrucomicrobia     __Verrucomicrobiae\n",
       "79    OTU.459             __Firmicutes              __Bacilli\n",
       "80   OTU.4424 __Candidate_division_TM7 __uncultured_bacterium\n",
       "81   OTU.4414 __Candidate_division_TM7 __uncultured_bacterium\n",
       "82      OTU.7         __Actinobacteria        __Micrococcales\n",
       "83    OTU.295         __Actinobacteria        __Micrococcales\n",
       "84   OTU.5728         __Actinobacteria        __Micrococcales\n",
       "87   OTU.4019         __Actinobacteria     __Streptomycetales\n",
       "89  OTU.10034         __Actinobacteria     __Streptomycetales\n",
       "90  OTU.14827         __Actinobacteria     __Streptomycetales\n",
       "91      OTU.5         __Actinobacteria     __Streptomycetales\n",
       "92  OTU.10125         __Actinobacteria     __Streptomycetales\n",
       "93   OTU.5631         __Actinobacteria     __Streptomycetales\n",
       "94   OTU.1022         __Actinobacteria    __Corynebacteriales\n",
       "95   OTU.6657         __Actinobacteria    __Pseudonocardiales\n",
       "96     OTU.31         __Actinobacteria    __Pseudonocardiales\n",
       "97   OTU.6544         __Actinobacteria    __Pseudonocardiales\n",
       "98    OTU.743         __Actinobacteria    __Pseudonocardiales\n",
       "99    OTU.269         __Actinobacteria     __Streptomycetales\n",
       "100  OTU.6083         __Actinobacteria  __Propionibacteriales\n",
       "102  OTU.1978         __Actinobacteria  __Propionibacteriales\n",
       "103  OTU.1527         __Actinobacteria  __Propionibacteriales\n",
       "104  OTU.2760         __Actinobacteria  __Propionibacteriales\n",
       "105  OTU.1125         __Actinobacteria  __Propionibacteriales\n",
       "106    OTU.80         __Actinobacteria  __Propionibacteriales\n",
       "107   OTU.105         __Actinobacteria  __Propionibacteriales\n",
       "108  OTU.9317         __Actinobacteria      __Thermoleophilia\n",
       "                     Rank4                              Rank5\n",
       "1             __GR-WP33-30                               <NA>\n",
       "2            __Rhizobiales                     __Rhizobiaceae\n",
       "3            __Rhizobiales                     __Rhizobiaceae\n",
       "4            __Rhizobiales                     __Rhizobiaceae\n",
       "5            __Rhizobiales                     __Rhizobiaceae\n",
       "6            __Rhizobiales                __Hyphomicrobiaceae\n",
       "7            __Rhizobiales                __Hyphomicrobiaceae\n",
       "8     __Sphingobacteriales              __Sphingobacteriaceae\n",
       "9     __Sphingobacteriales              __Sphingobacteriaceae\n",
       "10       __Burkholderiales                 __Oxalobacteraceae\n",
       "11       __Burkholderiales                 __Oxalobacteraceae\n",
       "12       __Burkholderiales                 __Oxalobacteraceae\n",
       "13       __Burkholderiales                 __Oxalobacteraceae\n",
       "14       __Burkholderiales                 __Oxalobacteraceae\n",
       "15       __Burkholderiales                   __Comamonadaceae\n",
       "16       __Burkholderiales                   __Comamonadaceae\n",
       "17     __Enterobacteriales               __Enterobacteriaceae\n",
       "18       __Pseudomonadales                 __Pseudomonadaceae\n",
       "19  __uncultured_bacterium                               <NA>\n",
       "20  __uncultured_bacterium                               <NA>\n",
       "21    __Verrucomicrobiales              __Verrucomicrobiaceae\n",
       "22   __Thermomonosporaceae                     __Actinomadura\n",
       "23       __Glycomycetaceae             __uncultured_bacterium\n",
       "24     __Streptomycetaceae                     __Streptomyces\n",
       "25       __Nocardioidaceae                     __Nocardioides\n",
       "26     __Bdellovibrionales               __Bacteriovoracaceae\n",
       "27       __Caulobacterales                 __Caulobacteraceae\n",
       "28       __Caulobacterales                 __Caulobacteraceae\n",
       "29       __Caulobacterales                 __Caulobacteraceae\n",
       "34           __Rhizobiales                __Hyphomicrobiaceae\n",
       "35           __Rhizobiales                __Hyphomicrobiaceae\n",
       "37           __Rhizobiales                     __Rhizobiaceae\n",
       "38           __Rhizobiales                     __Rhizobiaceae\n",
       "39           __Rhizobiales               __Phyllobacteriaceae\n",
       "40      __Sphingomonadales                __Sphingomonadaceae\n",
       "41      __Sphingomonadales                __Sphingomonadaceae\n",
       "42      __Sphingomonadales                __Sphingomonadaceae\n",
       "43         __Rickettsiales                           __SM2D12\n",
       "45                __DB1-14 __uncultured_alpha_proteobacterium\n",
       "46     __Bdellovibrionales               __Bdellovibrionaceae\n",
       "47     __Bdellovibrionales               __Bdellovibrionaceae\n",
       "50          __Cytophagales                               <NA>\n",
       "51       __Burkholderiales                   __Comamonadaceae\n",
       "52       __Burkholderiales                 __Oxalobacteraceae\n",
       "58       __Methylophilales                 __Methylophilaceae\n",
       "59                    <NA>                               <NA>\n",
       "60       __Burkholderiales                   __Comamonadaceae\n",
       "62       __Burkholderiales                   __Comamonadaceae\n",
       "63       __Burkholderiales                   __Comamonadaceae\n",
       "64       __Burkholderiales                   __Comamonadaceae\n",
       "66       __Burkholderiales                               <NA>\n",
       "67     __Enterobacteriales               __Enterobacteriaceae\n",
       "68       __Pseudomonadales                 __Pseudomonadaceae\n",
       "69       __Pseudomonadales                 __Pseudomonadaceae\n",
       "70       __Xanthomonadales                 __Xanthomonadaceae\n",
       "71       __Xanthomonadales                 __Xanthomonadaceae\n",
       "72       __Xanthomonadales                 __Xanthomonadaceae\n",
       "73       __Xanthomonadales                 __Xanthomonadaceae\n",
       "74       __Xanthomonadales                 __Xanthomonadaceae\n",
       "75       __Xanthomonadales                 __Xanthomonadaceae\n",
       "76       __Xanthomonadales                 __Xanthomonadaceae\n",
       "77    __Verrucomicrobiales              __Verrucomicrobiaceae\n",
       "79            __Bacillales           __Thermoactinomycetaceae\n",
       "80                    <NA>                               <NA>\n",
       "81                    <NA>                               <NA>\n",
       "82        __Micrococcaceae                     __Arthrobacter\n",
       "83        __Micrococcaceae                     __Arthrobacter\n",
       "84    __Intrasporangiaceae                               <NA>\n",
       "87     __Streptomycetaceae                     __Streptomyces\n",
       "89     __Streptomycetaceae                     __Streptomyces\n",
       "90     __Streptomycetaceae                     __Streptomyces\n",
       "91     __Streptomycetaceae                     __Streptomyces\n",
       "92     __Streptomycetaceae                     __Streptomyces\n",
       "93     __Streptomycetaceae                     __Streptomyces\n",
       "94          __Nocardiaceae                         __Nocardia\n",
       "95    __Pseudonocardiaceae                    __Actinosynnema\n",
       "96    __Pseudonocardiaceae                          __Lentzea\n",
       "97    __Pseudonocardiaceae                               <NA>\n",
       "98    __Pseudonocardiaceae                               <NA>\n",
       "99     __Streptomycetaceae                     __Streptomyces\n",
       "100      __Nocardioidaceae                     __Nocardioides\n",
       "102      __Nocardioidaceae                     __Nocardioides\n",
       "103      __Nocardioidaceae                     __Nocardioides\n",
       "104      __Nocardioidaceae                     __Nocardioides\n",
       "105      __Nocardioidaceae                     __Nocardioides\n",
       "106      __Nocardioidaceae                     __Nocardioides\n",
       "107      __Nocardioidaceae                        __Kribbella\n",
       "108           __Gaiellales                       __uncultured\n",
       "                     Rank6                              Rank7 Rank8\n",
       "1                     <NA>                               <NA>  <NA>\n",
       "2              __Rhizobium             __uncultured_bacterium  <NA>\n",
       "3              __Rhizobium                               <NA>  <NA>\n",
       "4               __Shinella             __uncultured_bacterium  <NA>\n",
       "5              __Rhizobium                               <NA>  <NA>\n",
       "6                __Devosia             __uncultured_bacterium  <NA>\n",
       "7          __Filomicrobium                               <NA>  <NA>\n",
       "8       __Sphingobacterium                               <NA>  <NA>\n",
       "9                     <NA>                               <NA>  <NA>\n",
       "10              __Massilia                               <NA>  <NA>\n",
       "11              __Massilia                               <NA>  <NA>\n",
       "12              __Massilia                               <NA>  <NA>\n",
       "13              __Massilia          __uncultured_Massilia_sp.  <NA>\n",
       "14                    <NA>                               <NA>  <NA>\n",
       "15                    <NA>                               <NA>  <NA>\n",
       "16             __Pelomonas                               <NA>  <NA>\n",
       "17  __Escherichia-Shigella             __uncultured_bacterium  <NA>\n",
       "18           __Pseudomonas             __uncultured_bacterium  <NA>\n",
       "19                    <NA>                               <NA>  <NA>\n",
       "20                    <NA>                               <NA>  <NA>\n",
       "21         __Luteolibacter             __uncultured_bacterium  <NA>\n",
       "22                    <NA>                               <NA>  <NA>\n",
       "23                    <NA>                               <NA>  <NA>\n",
       "24                    <NA>                               <NA>  <NA>\n",
       "25  __uncultured_bacterium                               <NA>  <NA>\n",
       "26         __Bacteriovorax                               <NA>  <NA>\n",
       "27         __Brevundimonas                               <NA>  <NA>\n",
       "28         __Asticcacaulis                               <NA>  <NA>\n",
       "29           __Caulobacter                               <NA>  <NA>\n",
       "34               __Devosia             __uncultured_bacterium  <NA>\n",
       "35            __uncultured                               <NA>  <NA>\n",
       "37             __Rhizobium             __uncultured_bacterium  <NA>\n",
       "38             __Rhizobium                               <NA>  <NA>\n",
       "39       __Phyllobacterium                               <NA>  <NA>\n",
       "40          __Sphingomonas             __uncultured_bacterium  <NA>\n",
       "41          __Sphingomonas                               <NA>  <NA>\n",
       "42           __Sphingobium                     __Sphingomonas  <NA>\n",
       "43  __uncultured_bacterium                               <NA>  <NA>\n",
       "45                    <NA>                               <NA>  <NA>\n",
       "46          __Bdellovibrio __uncultured_delta_proteobacterium  <NA>\n",
       "47          __Bdellovibrio             __uncultured_bacterium  <NA>\n",
       "50                    <NA>                               <NA>  <NA>\n",
       "51        __Hydrogenophaga                               <NA>  <NA>\n",
       "52              __Massilia             __uncultured_bacterium  <NA>\n",
       "58                    <NA>                               <NA>  <NA>\n",
       "59                    <NA>                               <NA>  <NA>\n",
       "60            __Variovorax        __uncultured_soil_bacterium  <NA>\n",
       "62            __uncultured             __uncultured_bacterium  <NA>\n",
       "63            __uncultured                               <NA>  <NA>\n",
       "64            __uncultured             __uncultured_bacterium  <NA>\n",
       "66                    <NA>                               <NA>  <NA>\n",
       "67                    <NA>                               <NA>  <NA>\n",
       "68           __Pseudomonas             __uncultured_bacterium  <NA>\n",
       "69           __Pseudomonas                               <NA>  <NA>\n",
       "70      __Stenotrophomonas             __uncultured_bacterium  <NA>\n",
       "71      __Stenotrophomonas                               <NA>  <NA>\n",
       "72            __Lysobacter                               <NA>  <NA>\n",
       "73           __Thermomonas             __uncultured_bacterium  <NA>\n",
       "74           __Thermomonas                               <NA>  <NA>\n",
       "75           __Xanthomonas                               <NA>  <NA>\n",
       "76            __Arenimonas             __uncultured_bacterium  <NA>\n",
       "77            __Haloferula                               <NA>  <NA>\n",
       "79           __Shimazuella             __uncultured_bacterium  <NA>\n",
       "80                    <NA>                               <NA>  <NA>\n",
       "81                    <NA>                               <NA>  <NA>\n",
       "82  __uncultured_bacterium                               <NA>  <NA>\n",
       "83                    <NA>                               <NA>  <NA>\n",
       "84                    <NA>                               <NA>  <NA>\n",
       "87                    <NA>                               <NA>  <NA>\n",
       "89                    <NA>                               <NA>  <NA>\n",
       "90                    <NA>                               <NA>  <NA>\n",
       "91                    <NA>                               <NA>  <NA>\n",
       "92                    <NA>                               <NA>  <NA>\n",
       "93                    <NA>                               <NA>  <NA>\n",
       "94                    <NA>                               <NA>  <NA>\n",
       "95                    <NA>                               <NA>  <NA>\n",
       "96                    <NA>                               <NA>  <NA>\n",
       "97                    <NA>                               <NA>  <NA>\n",
       "98                    <NA>                               <NA>  <NA>\n",
       "99                    <NA>                               <NA>  <NA>\n",
       "100                   <NA>                               <NA>  <NA>\n",
       "102                   <NA>                               <NA>  <NA>\n",
       "103                   <NA>                               <NA>  <NA>\n",
       "104 __uncultured_bacterium                               <NA>  <NA>\n",
       "105 __uncultured_bacterium                               <NA>  <NA>\n",
       "106 __uncultured_bacterium                               <NA>  <NA>\n",
       "107                   <NA>                               <NA>  <NA>\n",
       "108 __uncultured_bacterium                               <NA>  <NA>\n"
      ]
     },
     "metadata": {},
     "output_type": "display_data"
    }
   ],
   "source": [
    "%%R\n",
    "FertIncrease"
   ]
  },
  {
   "cell_type": "code",
   "execution_count": 109,
   "metadata": {
    "collapsed": false
   },
   "outputs": [
    {
     "data": {
      "text/plain": [
       "     baseMean log2FoldChange     lfcSE       pvalue        padj       OTU Plant\n",
       "1    7.665748      -1.698689 0.3993900 2.107304e-05 0.024764686  OTU.3521  3517\n",
       "2    9.123596      -1.644914 0.4071804 5.350445e-05 0.032784852  OTU.4313  3517\n",
       "3    7.972103       2.616176 0.6373699 4.049390e-05 0.008090792   OTU.314  3517\n",
       "4    5.084167       2.656703 0.6070984 1.208401e-05 0.006355854   OTU.923  3517\n",
       "5   25.658440       1.502952 0.3960808 1.479053e-04 0.021224417   OTU.371  3517\n",
       "6   59.221234       1.651126 0.3807162 1.445099e-05 0.008391211    OTU.80  3541\n",
       "7   15.672988       2.732895 0.6408571 2.004064e-05 0.025773286 OTU.14139  3618\n",
       "8  112.795336       2.697696 0.6168771 1.224662e-05 0.025773286   OTU.119  3618\n",
       "9   14.281718       2.673511 0.6364114 2.658379e-05 0.025773286   OTU.357  3618\n",
       "10  15.568230       2.646539 0.6318672 2.808771e-05 0.025773286   OTU.459  3618\n",
       "11  87.711152       1.023373 0.2088300 9.558852e-07 0.004387513    OTU.93  3475\n",
       "   TimePoint    Rank1             Rank2                 Rank3\n",
       "1         T1 Bacteria  __Proteobacteria  __Betaproteobacteria\n",
       "2         T1 Bacteria  __Proteobacteria __Gammaproteobacteria\n",
       "3         T2 Bacteria  __Proteobacteria __Alphaproteobacteria\n",
       "4         T2 Bacteria  __Proteobacteria __Gammaproteobacteria\n",
       "5         T2 Bacteria __Verrucomicrobia    __OPB35_soil_group\n",
       "6         T2 Bacteria  __Actinobacteria __Propionibacteriales\n",
       "7         T2 Bacteria  __Proteobacteria __Alphaproteobacteria\n",
       "8         T2 Bacteria  __Proteobacteria  __Betaproteobacteria\n",
       "9         T2 Bacteria  __Proteobacteria __Gammaproteobacteria\n",
       "10        T2 Bacteria      __Firmicutes             __Bacilli\n",
       "11        T3 Bacteria  __Proteobacteria __Gammaproteobacteria\n",
       "                    Rank4                    Rank5                  Rank6\n",
       "1       __Burkholderiales       __Oxalobacteraceae             __Massilia\n",
       "2       __Pseudomonadales       __Pseudomonadaceae          __Pseudomonas\n",
       "3       __Caulobacterales       __Caulobacteraceae        __Asticcacaulis\n",
       "4       __Xanthomonadales       __Xanthomonadaceae     __Stenotrophomonas\n",
       "5  __uncultured_bacterium                     <NA>                   <NA>\n",
       "6       __Nocardioidaceae           __Nocardioides __uncultured_bacterium\n",
       "7           __Rhizobiales           __Rhizobiaceae            __Rhizobium\n",
       "8       __Burkholderiales       __Oxalobacteraceae             __Massilia\n",
       "9     __Enterobacteriales     __Enterobacteriaceae                   <NA>\n",
       "10           __Bacillales __Thermoactinomycetaceae          __Shimazuella\n",
       "11      __Xanthomonadales       __Xanthomonadaceae           __Lysobacter\n",
       "                       Rank7 Rank8\n",
       "1  __uncultured_Massilia_sp.  <NA>\n",
       "2     __uncultured_bacterium  <NA>\n",
       "3                       <NA>  <NA>\n",
       "4                       <NA>  <NA>\n",
       "5                       <NA>  <NA>\n",
       "6                       <NA>  <NA>\n",
       "7     __uncultured_bacterium  <NA>\n",
       "8                       <NA>  <NA>\n",
       "9                       <NA>  <NA>\n",
       "10    __uncultured_bacterium  <NA>\n",
       "11                      <NA>  <NA>\n"
      ]
     },
     "metadata": {},
     "output_type": "display_data"
    }
   ],
   "source": [
    "%%R\n",
    "inner_join(l2f.hybrid,FertIncrease) "
   ]
  },
  {
   "cell_type": "markdown",
   "metadata": {},
   "source": [
    "# Format tables for supplementary\n",
    "* Start with hybrid effects, then add fertilizer and enzymes"
   ]
  },
  {
   "cell_type": "code",
   "execution_count": 117,
   "metadata": {
    "collapsed": false
   },
   "outputs": [],
   "source": [
    "%%R\n",
    "H = l2f.hybrid %>% mutate(Test = \"Hybrid\") %>%\n",
    "    arrange(desc(OTU)) \n",
    "colnames(H)[c(1:5,7,8,17)] = paste(\"hybrid\", \"-\",colnames(H[c(1:5,7,8,17)]) )"
   ]
  },
  {
   "cell_type": "code",
   "execution_count": 155,
   "metadata": {
    "collapsed": false
   },
   "outputs": [],
   "source": [
    "%%R\n",
    "F = fertT3 %>% \n",
    "    select(-X) %>% #-Rank1,-Rank2, -Rank3, -Rank4, -Rank5, -Rank6,-Rank7, -Rank8 ) %>%\n",
    "    mutate(Test = \"Fertilizer\") %>%\n",
    "    arrange(desc(OTU)) \n",
    "#colnames(F)\n",
    "colnames(F)[c(1:6,8,17)] = paste(\"Fertilizer\", \"-\",colnames(F[c(1:6,8,17)]) )"
   ]
  },
  {
   "cell_type": "code",
   "execution_count": 184,
   "metadata": {
    "collapsed": false
   },
   "outputs": [
    {
     "data": {
      "text/plain": [
       "[1] \"33535.0243078956 normalized reads at each contrast\"\n"
      ]
     },
     "metadata": {},
     "output_type": "display_data"
    }
   ],
   "source": [
    "%%R\n",
    "\n",
    "read.csv('/home/bryan/ERA/data/MiSeq/20170417_run1/DESeq2/l2f_fert_t3.csv') %>% \n",
    "    group_by(Contrast) %>%\n",
    "    summarize(Ndepth = sum(baseMean)) %>%\n",
    "    .$Ndepth %>%\n",
    "    unique() %>%\n",
    "paste(.,\"normalized reads at each contrast\") %>% print\n",
    "\n",
    "\n"
   ]
  },
  {
   "cell_type": "code",
   "execution_count": 157,
   "metadata": {
    "collapsed": false
   },
   "outputs": [
    {
     "data": {
      "text/plain": [
       " [1] \"Enzyme - baseMean\"       \"Enzyme - log2FoldChange\"\n",
       " [3] \"Enzyme - lfcSE\"          \"Enzyme - stat\"          \n",
       " [5] \"Enzyme - pvalue\"         \"Enzyme - padj\"          \n",
       " [7] \"OTU\"                     \"Rank1\"                  \n",
       " [9] \"Rank2\"                   \"Rank3\"                  \n",
       "[11] \"Rank4\"                   \"Rank5\"                  \n",
       "[13] \"Rank6\"                   \"Rank7\"                  \n",
       "[15] \"Rank8\"                   \"Enzyme - Rank1\"         \n",
       "[17] \"Enzyme - test\"          \n"
      ]
     },
     "metadata": {},
     "output_type": "display_data"
    }
   ],
   "source": [
    "%%R\n",
    "E = Enz %>% \n",
    "   # select(-Rank1,-Rank2, -Rank3, -Rank4, -Rank5, -Rank6,-Rank7, -Rank8 ) %>%\n",
    "    arrange(desc(OTU)) \n",
    "\n",
    "colnames(E)[c(1:6,16,17)] = paste(\"Enzyme\", \"-\",colnames(E[c(1:6,8,16,17)]) )\n",
    "colnames(E)"
   ]
  },
  {
   "cell_type": "markdown",
   "metadata": {},
   "source": [
    "* Make enzyme axis explicit? "
   ]
  },
  {
   "cell_type": "code",
   "execution_count": 167,
   "metadata": {
    "collapsed": false
   },
   "outputs": [
    {
     "data": {
      "text/plain": [
       "  hybrid - baseMean hybrid - log2FoldChange hybrid - lfcSE hybrid - pvalue\n",
       "1          2.990913                2.244707      0.6177892    2.796550e-04\n",
       "2          9.298076                1.709678      0.4059691    2.538494e-05\n",
       "3          3.337030               -1.662755      0.3549319    2.803505e-06\n",
       "4         87.711152                1.023373      0.2088300    9.558852e-07\n",
       "5          7.368062                1.888453      0.4201406    6.963110e-06\n",
       "6          5.084167                2.656703      0.6070984    1.208401e-05\n",
       "  hybrid - padj      OTU hybrid - Plant hybrid - TimePoint    Rank1\n",
       "1   0.031212606  OTU.966           3517                 T2 Bacteria\n",
       "2   0.038838954  OTU.950           3475                 T3 Bacteria\n",
       "3   0.006372368  OTU.948          34M95                 T1 Bacteria\n",
       "4   0.004387513   OTU.93           3475                 T3 Bacteria\n",
       "5   0.031960676 OTU.9266          34M95                 T3 Bacteria\n",
       "6   0.006355854  OTU.923           3517                 T2 Bacteria\n",
       "             Rank2                 Rank3               Rank4\n",
       "1    __Chloroflexi        __Anaerolineae    __Anaerolineales\n",
       "2 __Proteobacteria __Deltaproteobacteria      __Myxococcales\n",
       "3 __Proteobacteria __Alphaproteobacteria  __Rhodospirillales\n",
       "4 __Proteobacteria __Gammaproteobacteria   __Xanthomonadales\n",
       "5 __Actinobacteria    __Streptomycetales __Streptomycetaceae\n",
       "6 __Proteobacteria __Gammaproteobacteria   __Xanthomonadales\n",
       "                Rank5                  Rank6                  Rank7 Rank8\n",
       "1   __Anaerolineaceae           __uncultured __uncultured_bacterium  <NA>\n",
       "2         __0319-6G20 __uncultured_bacterium                   <NA>  <NA>\n",
       "3 __Rhodospirillaceae       __Defluviicoccus __uncultured_bacterium  <NA>\n",
       "4  __Xanthomonadaceae           __Lysobacter                   <NA>  <NA>\n",
       "5      __Streptomyces                   <NA>                   <NA>  <NA>\n",
       "6  __Xanthomonadaceae     __Stenotrophomonas                   <NA>  <NA>\n",
       "  hybrid - Test\n",
       "1        Hybrid\n",
       "2        Hybrid\n",
       "3        Hybrid\n",
       "4        Hybrid\n",
       "5        Hybrid\n",
       "6        Hybrid\n"
      ]
     },
     "metadata": {},
     "output_type": "display_data"
    }
   ],
   "source": [
    "%%R\n",
    "H %>% head"
   ]
  },
  {
   "cell_type": "code",
   "execution_count": 169,
   "metadata": {
    "collapsed": true
   },
   "outputs": [],
   "source": [
    "%%R\n",
    "tmp = NULL\n",
    "Tbl = NULL"
   ]
  },
  {
   "cell_type": "code",
   "execution_count": 172,
   "metadata": {
    "collapsed": false,
    "scrolled": true
   },
   "outputs": [
    {
     "data": {
      "text/plain": [
       "[1] 204  37\n",
       "  hybrid - baseMean hybrid - log2FoldChange hybrid - lfcSE hybrid - pvalue\n",
       "1          2.990913                2.244707      0.6177892    2.796550e-04\n",
       "2          9.298076                1.709678      0.4059691    2.538494e-05\n",
       "3          3.337030               -1.662755      0.3549319    2.803505e-06\n",
       "4         87.711152                1.023373      0.2088300    9.558852e-07\n",
       "5          7.368062                1.888453      0.4201406    6.963110e-06\n",
       "6          5.084167                2.656703      0.6070984    1.208401e-05\n",
       "  hybrid - padj      OTU hybrid - Plant hybrid - TimePoint  Rank1.x\n",
       "1   0.031212606  OTU.966           3517                 T2 Bacteria\n",
       "2   0.038838954  OTU.950           3475                 T3 Bacteria\n",
       "3   0.006372368  OTU.948          34M95                 T1 Bacteria\n",
       "4   0.004387513   OTU.93           3475                 T3 Bacteria\n",
       "5   0.031960676 OTU.9266          34M95                 T3 Bacteria\n",
       "6   0.006355854  OTU.923           3517                 T2 Bacteria\n",
       "             Rank2                 Rank3               Rank4\n",
       "1    __Chloroflexi        __Anaerolineae    __Anaerolineales\n",
       "2 __Proteobacteria __Deltaproteobacteria      __Myxococcales\n",
       "3 __Proteobacteria __Alphaproteobacteria  __Rhodospirillales\n",
       "4 __Proteobacteria __Gammaproteobacteria   __Xanthomonadales\n",
       "5 __Actinobacteria    __Streptomycetales __Streptomycetaceae\n",
       "6 __Proteobacteria __Gammaproteobacteria   __Xanthomonadales\n",
       "                Rank5                  Rank6                  Rank7 Rank8.x\n",
       "1   __Anaerolineaceae           __uncultured __uncultured_bacterium    <NA>\n",
       "2         __0319-6G20 __uncultured_bacterium                   <NA>    <NA>\n",
       "3 __Rhodospirillaceae       __Defluviicoccus __uncultured_bacterium    <NA>\n",
       "4  __Xanthomonadaceae           __Lysobacter                   <NA>    <NA>\n",
       "5      __Streptomyces                   <NA>                   <NA>    <NA>\n",
       "6  __Xanthomonadaceae     __Stenotrophomonas                   <NA>    <NA>\n",
       "  hybrid - Test Fertilizer - baseMean Fertilizer - log2FoldChange\n",
       "1        Hybrid                    NA                          NA\n",
       "2        Hybrid                    NA                          NA\n",
       "3        Hybrid                    NA                          NA\n",
       "4        Hybrid             87.711152                   0.6709117\n",
       "5        Hybrid                    NA                          NA\n",
       "6        Hybrid              6.736518                   1.2117445\n",
       "  Fertilizer - lfcSE Fertilizer - stat Fertilizer - pvalue Fertilizer - padj\n",
       "1                 NA                NA                  NA                NA\n",
       "2                 NA                NA                  NA                NA\n",
       "3                 NA                NA                  NA                NA\n",
       "4          0.1515395          4.427305        9.541780e-06      0.0008885081\n",
       "5                 NA                NA                  NA                NA\n",
       "6          0.3598503          3.367357        7.589231e-04      0.0289487998\n",
       "  Fertilizer - Contrast  Rank1.y Rank8.y Fertilizer - Test Enzyme - baseMean\n",
       "1                  <NA>     <NA>    <NA>              <NA>                NA\n",
       "2                  <NA>     <NA>    <NA>              <NA>                NA\n",
       "3                  <NA>     <NA>    <NA>              <NA>                NA\n",
       "4                 0_170 Bacteria    <NA>        Fertilizer                NA\n",
       "5                  <NA>     <NA>    <NA>              <NA>                NA\n",
       "6                 0_170 Bacteria    <NA>        Fertilizer                NA\n",
       "  Enzyme - log2FoldChange Enzyme - lfcSE Enzyme - stat Enzyme - pvalue\n",
       "1                      NA             NA            NA              NA\n",
       "2                      NA             NA            NA              NA\n",
       "3                      NA             NA            NA              NA\n",
       "4                      NA             NA            NA              NA\n",
       "5                      NA             NA            NA              NA\n",
       "6                      NA             NA            NA              NA\n",
       "  Enzyme - padj Rank1 Rank8 Enzyme - Rank1 Enzyme - test\n",
       "1            NA  <NA>    NA           <NA>          <NA>\n",
       "2            NA  <NA>    NA           <NA>          <NA>\n",
       "3            NA  <NA>    NA           <NA>          <NA>\n",
       "4            NA  <NA>    NA           <NA>          <NA>\n",
       "5            NA  <NA>    NA           <NA>          <NA>\n",
       "6            NA  <NA>    NA           <NA>          <NA>\n"
      ]
     },
     "metadata": {},
     "output_type": "display_data"
    }
   ],
   "source": [
    "%%R\n",
    "tmp = full_join(H,F, by = c(\"OTU\",  \"Rank2\", \"Rank3\", \"Rank4\", \"Rank5\", \"Rank6\", \"Rank7\")) \n",
    "\n",
    "Tbl = full_join(tmp, E, by = c(\"OTU\", \"Rank2\", \"Rank3\", \"Rank4\", \"Rank5\", \"Rank6\", \"Rank7\"))\n",
    "tmp = NULL\n",
    "Tbl = Tbl %>% unique\n",
    "dim(Tbl) %>% print\n",
    "head(Tbl) "
   ]
  },
  {
   "cell_type": "code",
   "execution_count": 140,
   "metadata": {
    "collapsed": false
   },
   "outputs": [
    {
     "data": {
      "text/plain": [
       " [1] \"hybrid - baseMean\"           \"hybrid - log2FoldChange\"    \n",
       " [3] \"hybrid - lfcSE\"              \"hybrid - pvalue\"            \n",
       " [5] \"hybrid - padj\"               \"OTU\"                        \n",
       " [7] \"hybrid - Plant\"              \"hybrid - TimePoint\"         \n",
       " [9] \"Rank1\"                       \"Rank2\"                      \n",
       "[11] \"Rank3\"                       \"Rank4\"                      \n",
       "[13] \"Rank5\"                       \"Rank6\"                      \n",
       "[15] \"Rank7\"                       \"Rank8\"                      \n",
       "[17] \"hybrid - Test\"               \"Fertilizer - baseMean\"      \n",
       "[19] \"Fertilizer - log2FoldChange\" \"Fertilizer - lfcSE\"         \n",
       "[21] \"Fertilizer - stat\"           \"Fertilizer - pvalue\"        \n",
       "[23] \"Fertilizer - padj\"           \"Fertilizer - Contrast\"      \n",
       "[25] \"Fertilizer - Test\"           \"Enzyme - baseMean\"          \n",
       "[27] \"Enzyme - log2FoldChange\"     \"Enzyme - lfcSE\"             \n",
       "[29] \"Enzyme - stat\"               \"Enzyme - pvalue\"            \n",
       "[31] \"Enzyme - padj\"               \"Enzyme - test\"              \n",
       "[33] \"Enzyme - TimePoint\"         \n"
      ]
     },
     "metadata": {},
     "output_type": "display_data"
    }
   ],
   "source": [
    "%%R\n",
    "colnames(Tbl)"
   ]
  },
  {
   "cell_type": "code",
   "execution_count": 173,
   "metadata": {
    "collapsed": false
   },
   "outputs": [
    {
     "data": {
      "text/plain": [
       "  hybrid - log2FoldChange hybrid - padj    OTU hybrid - Test\n",
       "1                      NA            NA OTU.10          <NA>\n",
       "2                      NA            NA OTU.10          <NA>\n",
       "  Fertilizer - log2FoldChange Fertilizer - padj Fertilizer - Contrast  Rank1.y\n",
       "1                    1.421900      4.605522e-06                  0_85 Bacteria\n",
       "2                    2.325644      8.863696e-18                 0_170 Bacteria\n",
       "  Fertilizer - Test Enzyme - stat Enzyme - pvalue Enzyme - padj\n",
       "1        Fertilizer            NA              NA            NA\n",
       "2        Fertilizer            NA              NA            NA\n"
      ]
     },
     "metadata": {},
     "output_type": "display_data"
    }
   ],
   "source": [
    "%%R\n",
    "Tbl[,c(2,5, 6, 17, 19, 23, 24, 25, 27, 31, 32, 33)] %>% filter(OTU == \"OTU.10\")# arrange(desc(OTU)) %>% head\n"
   ]
  },
  {
   "cell_type": "code",
   "execution_count": 174,
   "metadata": {
    "collapsed": false
   },
   "outputs": [],
   "source": [
    "%%R\n",
    "write.csv(Tbl, file = '/home/bryan/ERA/data/MiSeq/20170417_run1/DESeq2/OTUIntersectionTbl.csv', row.names = FALSE)"
   ]
  },
  {
   "cell_type": "markdown",
   "metadata": {},
   "source": [
    "# Loading phyloseq object"
   ]
  },
  {
   "cell_type": "code",
   "execution_count": 5,
   "metadata": {
    "collapsed": false
   },
   "outputs": [
    {
     "data": {
      "text/plain": [
       "phyloseq-class experiment-level object\n",
       "otu_table()   OTU Table:         [ 4592 taxa and 243 samples ]\n",
       "sample_data() Sample Data:       [ 243 samples by 46 sample variables ]\n",
       "tax_table()   Taxonomy Table:    [ 4592 taxa by 8 taxonomic ranks ]\n",
       "phy_tree()    Phylogenetic Tree: [ 4592 tips and 4591 internal nodes ]\n"
      ]
     },
     "metadata": {},
     "output_type": "display_data"
    }
   ],
   "source": [
    "%%R -i physeqFile\n",
    "\n",
    "physeq.Full = readRDS(physeqFile)\n",
    "physeq.Full"
   ]
  },
  {
   "cell_type": "code",
   "execution_count": 105,
   "metadata": {
    "collapsed": false
   },
   "outputs": [
    {
     "data": {
      "text/plain": [
       " [1] \"1936\" \"1939\" \"1942\" \"1953\" \"1961\" \"1971\" \"1975\" \"1984\" \"1991\" \"2001\"\n",
       "[11] \"2003\" \"2011\"\n"
      ]
     },
     "metadata": {},
     "output_type": "display_data"
    }
   ],
   "source": [
    "%%R\n",
    "\n",
    "# Set rep and R_Year as a factor\n",
    "sample_data(physeq.Full)$Rep = factor(sample_data(physeq.Full)$Rep) \n",
    "sample_data(physeq.Full)$R_Year = factor(sample_data(physeq.Full)$R_Year)  \n",
    "\n",
    "#remove BARE soil controls and untreated seeds\n",
    "physeq.bare = subset_samples(physeq.Full, Genotype == \"Bare\")\n",
    "physeq.plant = subset_samples(physeq.Full, Genotype != \"Bare\" & SeedTreatment == \"Treated\")\n",
    "\n",
    "\n",
    "\n",
    "\n",
    "\n",
    "#re-order levels \n",
    "sample_data(physeq.plant)$R_Year %>% levels\n"
   ]
  },
  {
   "cell_type": "code",
   "execution_count": 108,
   "metadata": {
    "collapsed": false
   },
   "outputs": [
    {
     "data": {
      "text/plain": [
       "phyloseq-class experiment-level object\n",
       "otu_table()   OTU Table:         [ 4592 taxa and 32 samples ]\n",
       "sample_data() Sample Data:       [ 32 samples by 46 sample variables ]\n",
       "tax_table()   Taxonomy Table:    [ 4592 taxa by 8 taxonomic ranks ]\n",
       "phy_tree()    Phylogenetic Tree: [ 4592 tips and 4591 internal nodes ]\n"
      ]
     },
     "metadata": {},
     "output_type": "display_data"
    }
   ],
   "source": [
    "%%R\n",
    "physeq.bare"
   ]
  },
  {
   "cell_type": "markdown",
   "metadata": {
    "collapsed": true
   },
   "source": [
    "# differential abundance at T3"
   ]
  },
  {
   "cell_type": "markdown",
   "metadata": {},
   "source": [
    "## bare soil"
   ]
  },
  {
   "cell_type": "code",
   "execution_count": 109,
   "metadata": {
    "collapsed": false
   },
   "outputs": [],
   "source": [
    "%%R\n",
    "physeq.bare.t3 = subset_samples(physeq.bare, TimePoint == \"T3\")\n",
    "\n",
    "sample_data(physeq.bare.t3)$Rep = factor(sample_data(physeq.bare.t3)$Rep)\n",
    "sample_data(physeq.bare.t3)$Fert = factor(sample_data(physeq.bare.t3)$Fert)"
   ]
  },
  {
   "cell_type": "code",
   "execution_count": 110,
   "metadata": {
    "collapsed": false
   },
   "outputs": [],
   "source": [
    "%%R\n",
    "\n",
    "baredds = phyloseq_to_deseq2(physeq.bare.t3, ~ Rep + Fert)\n",
    "# calculate geometric means prior to estimate size factors\n",
    "#gm_mean = function(x, na.rm=TRUE){\n",
    "#  exp(sum(log(x[x > 0]), na.rm=na.rm) / length(x))\n",
    "#}\n",
    "#geoMeans = apply(counts(diagdds), 1, gm_mean)\n",
    "#diagdds = estimateSizeFactors(diagdds, geoMeans = geoMeans)\n",
    "baredds = DESeq(baredds, fitType=\"local\")"
   ]
  },
  {
   "cell_type": "code",
   "execution_count": 111,
   "metadata": {
    "collapsed": true
   },
   "outputs": [],
   "source": [
    "%%R\n",
    "bare_res85 = results(baredds, contrast=c(\"Fert\", \"85\", \"0\"), alpha = 0.05, \n",
    "                independentFiltering = TRUE, parallel = TRUE)\n",
    "bare_res170 = results(baredds, contrast=c(\"Fert\", \"170\", \"0\"), alpha = 0.05, \n",
    "                independentFiltering = TRUE, parallel = TRUE)"
   ]
  },
  {
   "cell_type": "code",
   "execution_count": 112,
   "metadata": {
    "collapsed": false
   },
   "outputs": [
    {
     "data": {
      "text/plain": [
       "\n",
       "out of 4326 with nonzero total read count\n",
       "adjusted p-value < 0.05\n",
       "LFC > 0 (up)     : 0, 0% \n",
       "LFC < 0 (down)   : 1, 0.023% \n",
       "outliers [1]     : 0, 0% \n",
       "low counts [2]   : 0, 0% \n",
       "(mean count < 0)\n",
       "[1] see 'cooksCutoff' argument of ?results\n",
       "[2] see 'independentFiltering' argument of ?results\n",
       "\n"
      ]
     },
     "metadata": {},
     "output_type": "display_data"
    }
   ],
   "source": [
    "%%R\n",
    "summary(bare_res85)"
   ]
  },
  {
   "cell_type": "code",
   "execution_count": 113,
   "metadata": {
    "collapsed": false
   },
   "outputs": [
    {
     "data": {
      "text/plain": [
       "\n",
       "out of 4326 with nonzero total read count\n",
       "adjusted p-value < 0.05\n",
       "LFC > 0 (up)     : 0, 0% \n",
       "LFC < 0 (down)   : 0, 0% \n",
       "outliers [1]     : 0, 0% \n",
       "low counts [2]   : 0, 0% \n",
       "(mean count < 0)\n",
       "[1] see 'cooksCutoff' argument of ?results\n",
       "[2] see 'independentFiltering' argument of ?results\n",
       "\n"
      ]
     },
     "metadata": {},
     "output_type": "display_data"
    }
   ],
   "source": [
    "%%R\n",
    "summary(bare_res170)"
   ]
  },
  {
   "cell_type": "code",
   "execution_count": 114,
   "metadata": {
    "collapsed": false
   },
   "outputs": [
    {
     "data": {
      "text/plain": [
       "     Rank1            Rank2                 Rank3          Rank4\n",
       "1 Bacteria __Proteobacteria __Deltaproteobacteria __Myxococcales\n",
       "2 Bacteria __Proteobacteria __Deltaproteobacteria __Myxococcales\n",
       "3 Bacteria __Proteobacteria __Deltaproteobacteria __Myxococcales\n",
       "4 Bacteria __Proteobacteria __Deltaproteobacteria __Myxococcales\n",
       "5 Bacteria __Proteobacteria __Deltaproteobacteria __Myxococcales\n",
       "6 Bacteria __Proteobacteria __Deltaproteobacteria __Myxococcales\n",
       "             Rank5           Rank6        Rank7\n",
       "1 __Nannocystineae __Haliangiaceae __Haliangium\n",
       "2 __Nannocystineae __Haliangiaceae __Haliangium\n",
       "3 __Nannocystineae __Haliangiaceae __Haliangium\n",
       "4 __Nannocystineae __Haliangiaceae __Haliangium\n",
       "5 __Nannocystineae __Haliangiaceae __Haliangium\n",
       "6 __Nannocystineae __Haliangiaceae __Haliangium\n",
       "                               Rank8       OTU\n",
       "1             __uncultured_bacterium   OTU.871\n",
       "2                               <NA>  OTU.9547\n",
       "3 __uncultured_delta_proteobacterium   OTU.523\n",
       "4 __uncultured_delta_proteobacterium  OTU.1107\n",
       "5             __uncultured_bacterium OTU.11742\n",
       "6            __uncultured_prokaryote  OTU.1889\n"
      ]
     },
     "metadata": {},
     "output_type": "display_data"
    }
   ],
   "source": [
    "%%R\n",
    "TT = tax_table(physeq.bare.t3) %>%\n",
    "    as.data.frame %>%\n",
    "    mutate(OTU = rownames(.))\n",
    "head(TT)"
   ]
  },
  {
   "cell_type": "code",
   "execution_count": 115,
   "metadata": {
    "collapsed": true
   },
   "outputs": [],
   "source": [
    "%%R\n",
    "bare_res85$OTU = rownames(bare_res85)\n",
    "bare_res85$Contrast = \"0_85\"\n",
    "bare_res170$OTU = rownames(bare_res170)\n",
    "bare_res170$Contrast = \"0_170\"\n",
    "l2f.bare.Fert = rbind(bare_res85, bare_res170) %>% as.data.frame\n",
    "\n",
    "\n",
    "l2f.bare.Fert = left_join(l2f.bare.Fert, TT, by = \"OTU\")"
   ]
  },
  {
   "cell_type": "code",
   "execution_count": 116,
   "metadata": {
    "collapsed": false
   },
   "outputs": [
    {
     "data": {
      "text/plain": [
       "[1] \"1 OTUs depleted in bare soil fertilized plots\"\n",
       "[1] \"0 OTUs enriched in  bare soil fertilized plots\"\n",
       "[1] \"0 OTUs enriched in  bare soil fertilized plots that are also rhizosphere responders\"\n"
      ]
     },
     "metadata": {},
     "output_type": "display_data"
    }
   ],
   "source": [
    "%%R\n",
    "#Number of otus depleted in fertilized plots\n",
    "BareFert.sig = filter(l2f.bare.Fert, padj < 0.05)\n",
    "BareFert.sig %>% filter(log2FoldChange < 0) %>% .$OTU %>% unique() %>% length %>% \n",
    "        paste(., \"OTUs depleted in bare soil fertilized plots\") %>% print\n",
    "\n",
    "#Number of otus enriched in fertilized plots that are rhizosphere repsonders at any point\n",
    "BareFert.sig %>% filter(log2FoldChange > 0) %>% .$OTU %>% unique() %>% length %>% \n",
    "        paste(., \"OTUs enriched in  bare soil fertilized plots\") %>% print\n",
    "\n",
    "\n",
    "BareFert.sig %>% filter(log2FoldChange > 0 & OTU %in% RhizEnriched) %>% .$OTU %>% unique() %>% length %>% \n",
    "        paste(., \"OTUs enriched in  bare soil fertilized plots that are also rhizosphere responders\") %>% print\n",
    "\n",
    "# Depleted_responders = Fert.sig %>% filter(log2FoldChange < 0 & OTU %in% RhizEnriched.t1_2) \n",
    "\n",
    "# Depleted_responders %>% .$OTU %>% unique() %>% length %>% \n",
    "#         paste(., \"OTUs depleted in fertilized plots that are also rhizosphere responders at T1 or T2\") %>% print\n",
    "\n",
    "# Depleted_responders"
   ]
  },
  {
   "cell_type": "code",
   "execution_count": 117,
   "metadata": {
    "collapsed": false
   },
   "outputs": [
    {
     "data": {
      "text/plain": [
       "  baseMean log2FoldChange     lfcSE      stat       pvalue      padj     OTU\n",
       "1  18.6089      -1.484654 0.3366368 -4.410253 1.032499e-05 0.0446659 OTU.399\n",
       "  Contrast    Rank1            Rank2                Rank3           Rank4\n",
       "1     0_85 Bacteria __Proteobacteria __Betaproteobacteria __Rhodocyclales\n",
       "             Rank5        Rank6                  Rank7 Rank8\n",
       "1 __Rhodocyclaceae __uncultured __uncultured_bacterium  <NA>\n"
      ]
     },
     "metadata": {},
     "output_type": "display_data"
    }
   ],
   "source": [
    "%%R\n",
    "\n",
    "BareFert.sig %>% filter(log2FoldChange < 0) "
   ]
  },
  {
   "cell_type": "markdown",
   "metadata": {},
   "source": [
    "## Rhizosphere"
   ]
  },
  {
   "cell_type": "code",
   "execution_count": 12,
   "metadata": {
    "collapsed": false
   },
   "outputs": [],
   "source": [
    "%%R\n",
    "physeq.plant.t3 = subset_samples(physeq.plant, TimePoint == \"T3\")\n",
    "sample_data(physeq.plant.t3)$R_Year = factor(sample_data(physeq.plant.t3)$R_Year)\n",
    "sample_data(physeq.plant.t3)$Genotype = factor(sample_data(physeq.plant.t3)$Genotype)\n",
    "sample_data(physeq.plant.t3)$Rep = factor(sample_data(physeq.plant.t3)$Rep)\n",
    "sample_data(physeq.plant.t3)$Fert = factor(sample_data(physeq.plant.t3)$Fert)"
   ]
  },
  {
   "cell_type": "code",
   "execution_count": 13,
   "metadata": {
    "collapsed": false
   },
   "outputs": [],
   "source": [
    "%%R\n",
    "\n",
    "plantdds = phyloseq_to_deseq2(physeq.plant.t3, ~ Rep + Genotype + Fert)\n",
    "# calculate geometric means prior to estimate size factors\n",
    "#gm_mean = function(x, na.rm=TRUE){\n",
    "#  exp(sum(log(x[x > 0]), na.rm=na.rm) / length(x))\n",
    "#}\n",
    "#geoMeans = apply(counts(diagdds), 1, gm_mean)\n",
    "#diagdds = estimateSizeFactors(diagdds, geoMeans = geoMeans)\n",
    "plantdds = DESeq(plantdds, fitType=\"local\")"
   ]
  },
  {
   "cell_type": "code",
   "execution_count": 15,
   "metadata": {
    "collapsed": false
   },
   "outputs": [
    {
     "data": {
      "text/plain": [
       " [1] \"Intercept\"       \"Rep1\"            \"Rep2\"            \"Rep3\"           \n",
       " [5] \"Rep4\"            \"Genotype330\"     \"Genotype3475\"    \"Genotype34M95\"  \n",
       " [9] \"Genotype3517\"    \"Genotype354\"     \"GenotypeP1151HR\" \"Fert0\"          \n",
       "[13] \"Fert85\"          \"Fert170\"        \n"
      ]
     },
     "metadata": {},
     "output_type": "display_data"
    }
   ],
   "source": [
    "%%R\n",
    "resultsNames(plantdds)"
   ]
  },
  {
   "cell_type": "code",
   "execution_count": 16,
   "metadata": {
    "collapsed": true
   },
   "outputs": [],
   "source": [
    "%%R\n",
    "#Function for gathering results\n",
    "\n",
    "# get_res = function(diagdds, plant) {\n",
    "#     r = results(diagdds, contrast=c(\"Plant\", plant, \"330\"), independentFiltering = TRUE, parallel = TRUE)\n",
    "#     #r = results(diagdds, independentFiltering = TRUE, parallel = TRUE)\n",
    "#     df = as.data.frame(r[, c(\"baseMean\", \"log2FoldChange\", \"pvalue\", \"padj\")])\n",
    "#     df$OTU = rownames(df)\n",
    "#     df$Plant = plant\n",
    "    \n",
    "#     return(df)\n",
    "# }\n",
    "res85 = results(plantdds, contrast=c(\"Fert\", \"85\", \"0\"), alpha = 0.05, \n",
    "                independentFiltering = TRUE, parallel = TRUE)\n",
    "res170 = results(plantdds, contrast=c(\"Fert\", \"170\", \"0\"), alpha = 0.05, \n",
    "                independentFiltering = TRUE, parallel = TRUE)"
   ]
  },
  {
   "cell_type": "code",
   "execution_count": 17,
   "metadata": {
    "collapsed": false
   },
   "outputs": [
    {
     "data": {
      "text/plain": [
       "\n",
       "out of 4590 with nonzero total read count\n",
       "adjusted p-value < 0.05\n",
       "LFC > 0 (up)     : 25, 0.54% \n",
       "LFC < 0 (down)   : 4, 0.087% \n",
       "outliers [1]     : 0, 0% \n",
       "low counts [2]   : 2314, 50% \n",
       "(mean count < 1)\n",
       "[1] see 'cooksCutoff' argument of ?results\n",
       "[2] see 'independentFiltering' argument of ?results\n",
       "\n"
      ]
     },
     "metadata": {},
     "output_type": "display_data"
    }
   ],
   "source": [
    "%%R\n",
    "summary(res85)"
   ]
  },
  {
   "cell_type": "code",
   "execution_count": 46,
   "metadata": {
    "collapsed": false
   },
   "outputs": [
    {
     "data": {
      "text/plain": [
       "\n",
       "out of 4590 with nonzero total read count\n",
       "adjusted p-value < 0.05\n",
       "LFC > 0 (up)     : 83, 1.8% \n",
       "LFC < 0 (down)   : 21, 0.46% \n",
       "outliers [1]     : 0, 0% \n",
       "low counts [2]   : 1424, 31% \n",
       "(mean count < 1)\n",
       "[1] see 'cooksCutoff' argument of ?results\n",
       "[2] see 'independentFiltering' argument of ?results\n",
       "\n"
      ]
     },
     "metadata": {},
     "output_type": "display_data"
    }
   ],
   "source": [
    "%%R\n",
    "summary(res170)"
   ]
  },
  {
   "cell_type": "code",
   "execution_count": 42,
   "metadata": {
    "collapsed": false
   },
   "outputs": [
    {
     "data": {
      "text/plain": [
       "     Rank1            Rank2                 Rank3          Rank4\n",
       "1 Bacteria __Proteobacteria __Deltaproteobacteria __Myxococcales\n",
       "2 Bacteria __Proteobacteria __Deltaproteobacteria __Myxococcales\n",
       "3 Bacteria __Proteobacteria __Deltaproteobacteria __Myxococcales\n",
       "4 Bacteria __Proteobacteria __Deltaproteobacteria __Myxococcales\n",
       "5 Bacteria __Proteobacteria __Deltaproteobacteria __Myxococcales\n",
       "6 Bacteria __Proteobacteria __Deltaproteobacteria __Myxococcales\n",
       "             Rank5           Rank6        Rank7\n",
       "1 __Nannocystineae __Haliangiaceae __Haliangium\n",
       "2 __Nannocystineae __Haliangiaceae __Haliangium\n",
       "3 __Nannocystineae __Haliangiaceae __Haliangium\n",
       "4 __Nannocystineae __Haliangiaceae __Haliangium\n",
       "5 __Nannocystineae __Haliangiaceae __Haliangium\n",
       "6 __Nannocystineae __Haliangiaceae __Haliangium\n",
       "                               Rank8       OTU\n",
       "1             __uncultured_bacterium   OTU.871\n",
       "2                               <NA>  OTU.9547\n",
       "3 __uncultured_delta_proteobacterium   OTU.523\n",
       "4 __uncultured_delta_proteobacterium  OTU.1107\n",
       "5             __uncultured_bacterium OTU.11742\n",
       "6            __uncultured_prokaryote  OTU.1889\n"
      ]
     },
     "metadata": {},
     "output_type": "display_data"
    }
   ],
   "source": [
    "%%R\n",
    "TT = tax_table(physeq.plant.t3) %>%\n",
    "    as.data.frame %>%\n",
    "    mutate(OTU = rownames(.))\n",
    "head(TT)"
   ]
  },
  {
   "cell_type": "code",
   "execution_count": 43,
   "metadata": {
    "collapsed": false
   },
   "outputs": [],
   "source": [
    "%%R\n",
    "res85$OTU = rownames(res85)\n",
    "res85$Contrast = \"0_85\"\n",
    "res170$OTU = rownames(res170)\n",
    "res170$Contrast = \"0_170\"\n",
    "l2f.Fert = rbind(res85, res170) %>% as.data.frame\n",
    "\n",
    "\n",
    "l2f.Fert = left_join(l2f.Fert, TT, by = \"OTU\")"
   ]
  },
  {
   "cell_type": "code",
   "execution_count": 44,
   "metadata": {
    "collapsed": false
   },
   "outputs": [
    {
     "data": {
      "text/plain": [
       "    baseMean log2FoldChange     lfcSE       stat      pvalue      padj\n",
       "1  7.0919597     -0.5366518 0.2066106 -2.5974072 0.009393051 0.2878374\n",
       "2  0.5654074     -0.2243810 0.3850527 -0.5827281 0.560076327        NA\n",
       "3 14.6904237     -0.2146339 0.1473315 -1.4568089 0.145169139 0.7854952\n",
       "4  2.9451143     -0.2864698 0.2823308 -1.0146603 0.310267776 0.8813793\n",
       "5  1.1655532     -0.2565499 0.3659256 -0.7010985 0.483241557        NA\n",
       "6  2.4309638     -0.3636330 0.2826494 -1.2865162 0.198262978 0.8393963\n",
       "        OTU Contrast    Rank1            Rank2                 Rank3\n",
       "1   OTU.871     0_85 Bacteria __Proteobacteria __Deltaproteobacteria\n",
       "2  OTU.9547     0_85 Bacteria __Proteobacteria __Deltaproteobacteria\n",
       "3   OTU.523     0_85 Bacteria __Proteobacteria __Deltaproteobacteria\n",
       "4  OTU.1107     0_85 Bacteria __Proteobacteria __Deltaproteobacteria\n",
       "5 OTU.11742     0_85 Bacteria __Proteobacteria __Deltaproteobacteria\n",
       "6  OTU.1889     0_85 Bacteria __Proteobacteria __Deltaproteobacteria\n",
       "           Rank4            Rank5           Rank6        Rank7\n",
       "1 __Myxococcales __Nannocystineae __Haliangiaceae __Haliangium\n",
       "2 __Myxococcales __Nannocystineae __Haliangiaceae __Haliangium\n",
       "3 __Myxococcales __Nannocystineae __Haliangiaceae __Haliangium\n",
       "4 __Myxococcales __Nannocystineae __Haliangiaceae __Haliangium\n",
       "5 __Myxococcales __Nannocystineae __Haliangiaceae __Haliangium\n",
       "6 __Myxococcales __Nannocystineae __Haliangiaceae __Haliangium\n",
       "                               Rank8\n",
       "1             __uncultured_bacterium\n",
       "2                               <NA>\n",
       "3 __uncultured_delta_proteobacterium\n",
       "4 __uncultured_delta_proteobacterium\n",
       "5             __uncultured_bacterium\n",
       "6            __uncultured_prokaryote\n",
       "      baseMean log2FoldChange     lfcSE       stat     pvalue      padj\n",
       "9179 0.9768764   -0.728707088 0.3788688 -1.9233759 0.05443285 0.4499593\n",
       "9180 0.5770047   -0.150026267 0.3809575 -0.3938137 0.69371858        NA\n",
       "9181 0.2090407   -0.049328745 0.2058950 -0.2395821 0.81065427        NA\n",
       "9182 0.4657476   -0.449793886 0.3826306 -1.1755302 0.23978264        NA\n",
       "9183 0.4079362   -0.309715240 0.3694087 -0.8384080 0.40180161        NA\n",
       "9184 0.2315319   -0.004144343 0.2761147 -0.0150095 0.98802460        NA\n",
       "          OTU Contrast    Rank1           Rank2         Rank3\n",
       "9179 OTU.5560    0_170 Bacteria __Elusimicrobia __Lineage_IIa\n",
       "9180 OTU.2371    0_170 Bacteria __Elusimicrobia __Lineage_IIa\n",
       "9181 OTU.3006    0_170 Bacteria __Elusimicrobia  __Lineage_IV\n",
       "9182 OTU.2893    0_170 Bacteria __Elusimicrobia  __Lineage_IV\n",
       "9183 OTU.2526    0_170 Bacteria __Elusimicrobia  __Lineage_IV\n",
       "9184 OTU.3646    0_170 Bacteria __Elusimicrobia  __Lineage_IV\n",
       "                           Rank4 Rank5 Rank6 Rank7 Rank8\n",
       "9179 __uncultured_soil_bacterium  <NA>  <NA>  <NA>  <NA>\n",
       "9180 __uncultured_soil_bacterium  <NA>  <NA>  <NA>  <NA>\n",
       "9181                        <NA>  <NA>  <NA>  <NA>  <NA>\n",
       "9182                        <NA>  <NA>  <NA>  <NA>  <NA>\n",
       "9183      __uncultured_bacterium  <NA>  <NA>  <NA>  <NA>\n",
       "9184      __uncultured_bacterium  <NA>  <NA>  <NA>  <NA>\n"
      ]
     },
     "metadata": {},
     "output_type": "display_data"
    }
   ],
   "source": [
    "%%R\n",
    "#df_plant.t1$p.adj = p.adjust(df_plant.t1$pvalue, \"BH\")\n",
    "head(l2f.Fert) %>% print\n",
    "tail(l2f.Fert) %>% print\n",
    "\n"
   ]
  },
  {
   "cell_type": "code",
   "execution_count": 51,
   "metadata": {
    "collapsed": false
   },
   "outputs": [],
   "source": [
    "%%R\n",
    "write.csv(l2f.Fert, file = \"/home/bryan/ERA/data/MiSeq/20170417_run1/DESeq2/l2f_fert_t3.csv\")"
   ]
  },
  {
   "cell_type": "code",
   "execution_count": 56,
   "metadata": {
    "collapsed": false,
    "scrolled": true
   },
   "outputs": [
    {
     "data": {
      "image/png": "[encoded data removed]"
     },
     "metadata": {},
     "output_type": "display_data"
    }
   ],
   "source": [
    "%%R -w 900 -h 1200\n",
    "#df.adj = df_plant.t1[!is.na(df_plant.t1$padj),]\n",
    "\n",
    "df.sig = l2f.Fert %>% filter(padj < .05)\n",
    "df.ns = l2f.Fert %>% filter(padj >= .05)\n",
    "colourCount = length(unique(df.sig$Rank2))\n",
    "colourCount = length(unique(l2f.Fert$Rank2)) + 1\n",
    "getPalette = colorRampPalette(brewer.pal(10, \"Dark2\"))\n",
    "\n",
    "p = ggplot(l2f.Fert)+\n",
    "    geom_point(data = df.ns, aes(Rank2, log2FoldChange, color = \"Gray\", position = \"jitter\")) +\n",
    "    scale_shape_identity() +\n",
    "    geom_point(data = df.sig, aes(Rank2, log2FoldChange, color = Rank2, position = \"jitter\")) +\n",
    "    \n",
    "               #geom_hline(y_intercept = .4) +\n",
    "    \n",
    "    facet_wrap(~Contrast)+\n",
    "    theme(axis.text.x = element_text(angle = 90)) +\n",
    "    labs(y = \"log[2] Fold Change\") \n",
    "\n",
    "p = p + scale_color_manual(values = getPalette(colourCount))\n",
    "\n",
    "df.sig = NULL\n",
    "df.ns = NULL\n",
    "#p = p + geom_point(alpha = 1.00, shape = 21, size = 1.5)\n",
    "#p = p + theme_bw()\n",
    "\n",
    "\n",
    "\n",
    "\n",
    "#p = p + geom_hline(y = l2fc.threshold)\n",
    "\n",
    "\n",
    "\n",
    "#p = p + theme(axis.text.x = element_blank())\n",
    "\n",
    "#p = p + labs(x = \"Phylum\", color = \"Phylum\")\n",
    "\n",
    "#p = p + guides(col = guide_legend(ncol = 2))\n",
    "\n",
    "#p = p + labs(y = expression(paste(\"\", log[2],\" Fold Change\",sep=\"\")))\n",
    "\n",
    "#p = p + guides(colour = guide_legend(override.aes = list(size=4)))\n",
    "\n",
    "p"
   ]
  },
  {
   "cell_type": "code",
   "execution_count": null,
   "metadata": {
    "collapsed": true
   },
   "outputs": [],
   "source": [
    "# Compare Fert responders to rhizosphere responders"
   ]
  },
  {
   "cell_type": "code",
   "execution_count": 55,
   "metadata": {
    "collapsed": false
   },
   "outputs": [],
   "source": [
    "%%R\n",
    "l2f.rhiz = read.csv(file = \"/home/bryan/ERA/data/MiSeq/20170417_run1/DESeq2/BarevsHybrid.csv\", header = TRUE)"
   ]
  },
  {
   "cell_type": "code",
   "execution_count": null,
   "metadata": {
    "collapsed": true
   },
   "outputs": [],
   "source": []
  },
  {
   "cell_type": "code",
   "execution_count": 57,
   "metadata": {
    "collapsed": false
   },
   "outputs": [
    {
     "data": {
      "text/plain": [
       "    baseMean log2FoldChange      lfcSE     stat       pvalue        padj\n",
       "1  57.336477      0.3088018 0.09036034 3.417448 6.321110e-04 0.049772638\n",
       "2  31.608509      1.3851356 0.33690111 4.111401 3.932652e-05 0.005594198\n",
       "3  33.698029      1.1325439 0.32376969 3.497992 4.687744e-04 0.041035789\n",
       "4 175.345301      0.7820358 0.19220954 4.068663 4.728373e-05 0.006330458\n",
       "5  95.511586      0.8416117 0.21868204 3.848563 1.188125e-04 0.013520866\n",
       "6   6.678833      1.4443268 0.34166679 4.227296 2.365160e-05 0.004364670\n",
       "        OTU Contrast    Rank1            Rank2                 Rank3\n",
       "1  OTU.2489     0_85 Bacteria __Proteobacteria __Deltaproteobacteria\n",
       "2 OTU.14139     0_85 Bacteria __Proteobacteria __Alphaproteobacteria\n",
       "3 OTU.15685     0_85 Bacteria __Proteobacteria __Alphaproteobacteria\n",
       "4    OTU.69     0_85 Bacteria __Proteobacteria __Alphaproteobacteria\n",
       "5    OTU.78     0_85 Bacteria __Proteobacteria __Alphaproteobacteria\n",
       "6  OTU.3468     0_85 Bacteria __Proteobacteria __Alphaproteobacteria\n",
       "          Rank4               Rank5       Rank6                  Rank7 Rank8\n",
       "1  __GR-WP33-30                <NA>        <NA>                   <NA>  <NA>\n",
       "2 __Rhizobiales      __Rhizobiaceae __Rhizobium __uncultured_bacterium  <NA>\n",
       "3 __Rhizobiales      __Rhizobiaceae __Rhizobium                   <NA>  <NA>\n",
       "4 __Rhizobiales      __Rhizobiaceae  __Shinella __uncultured_bacterium  <NA>\n",
       "5 __Rhizobiales      __Rhizobiaceae __Rhizobium                   <NA>  <NA>\n",
       "6 __Rhizobiales __Hyphomicrobiaceae   __Devosia __uncultured_bacterium  <NA>\n"
      ]
     },
     "metadata": {},
     "output_type": "display_data"
    }
   ],
   "source": [
    "%%R\n",
    "Fert.sig = l2f.Fert %>% filter(padj < .05)\n",
    "    Fert.sig %>% head %>% print\n",
    "Rhiz.sig = l2f.rhiz %>% filter(p.adj < .05)"
   ]
  },
  {
   "cell_type": "code",
   "execution_count": 86,
   "metadata": {
    "collapsed": false,
    "scrolled": true
   },
   "outputs": [
    {
     "data": {
      "text/plain": [
       "[1] 284\n"
      ]
     },
     "metadata": {},
     "output_type": "display_data"
    }
   ],
   "source": [
    "%%R\n",
    "# list of OTUs enriched in the rhizosphere\n",
    "RhizEnriched = filter(Rhiz.sig, log2FoldChange > 0) %>%\n",
    "            .$OTU %>%\n",
    "            unique()\n",
    "\n",
    "# list of OTUs enriched in the rhizosphere at T1 or T2 so fertilizer at T3 doesn't weight\n",
    "RhizEnriched.t1_2 = filter(Rhiz.sig, log2FoldChange > 0 & TimePoint %in% c(\"T1\", \"T2\")) %>%\n",
    "            .$OTU %>%\n",
    "            unique()\n",
    "\n",
    "length(RhizEnriched)"
   ]
  },
  {
   "cell_type": "code",
   "execution_count": null,
   "metadata": {
    "collapsed": true
   },
   "outputs": [],
   "source": [
    "## OTUs depleted in fertilized treatments"
   ]
  },
  {
   "cell_type": "code",
   "execution_count": 68,
   "metadata": {
    "collapsed": false
   },
   "outputs": [
    {
     "data": {
      "text/plain": [
       "[1] \"23 OTUs depleted in fertilized plots\"\n",
       "[1] \"7 OTUs depleted in fertilized plots that are also rhizosphere responders\"\n",
       "[1] \"4 OTUs depleted in fertilized plots that are also rhizosphere responders at T1 or T2\"\n",
       "  baseMean log2FoldChange     lfcSE      stat       pvalue         padj     OTU\n",
       "1  9.04846     -0.9006545 0.2816683 -3.197572 1.385900e-03 0.0439099548 OTU.613\n",
       "2 17.19523     -1.1293054 0.2714858 -4.159723 3.186343e-05 0.0024018958 OTU.500\n",
       "3 19.06640     -0.6527816 0.2052594 -3.180277 1.471346e-03 0.0452260192 OTU.848\n",
       "4 11.64357     -1.1063480 0.2329514 -4.749265 2.041573e-06 0.0002393934 OTU.400\n",
       "  Contrast    Rank1             Rank2                 Rank3\n",
       "1    0_170 Bacteria  __Proteobacteria __Deltaproteobacteria\n",
       "2    0_170 Bacteria __Verrucomicrobia            __Opitutae\n",
       "3    0_170 Bacteria     __Chloroflexi      __Chloroflexales\n",
       "4    0_170 Bacteria     __Chloroflexi      __Chloroflexales\n",
       "                  Rank4            Rank5                  Rank6\n",
       "1        __Myxococcales   __Sorangiineae        __Polyangiaceae\n",
       "2          __Opitutales    __Opitutaceae             __Opitutus\n",
       "3     __Chloroflexaceae    __Roseiflexus __uncultured_bacterium\n",
       "4 __Oscillochloridaceae __Oscillochloris                   <NA>\n",
       "                   Rank7 Rank8\n",
       "1           __uncultured  <NA>\n",
       "2 __uncultured_bacterium  <NA>\n",
       "3                   <NA>  <NA>\n",
       "4                   <NA>  <NA>\n"
      ]
     },
     "metadata": {},
     "output_type": "display_data"
    }
   ],
   "source": [
    "%%R\n",
    "#Number of otus depleted in fertilized plots\n",
    "Fert.sig %>% filter(log2FoldChange < 0) %>% .$OTU %>% unique() %>% length %>% \n",
    "        paste(., \"OTUs depleted in fertilized plots\") %>% print\n",
    "\n",
    "#Number of otus depleted in fertilized plots that are rhizosphere repsonders at any point\n",
    "Fert.sig %>% filter(log2FoldChange < 0 & OTU %in% RhizEnriched) %>% .$OTU %>% unique() %>% length %>% \n",
    "        paste(., \"OTUs depleted in fertilized plots that are also rhizosphere responders\") %>% print\n",
    "\n",
    "Depleted_responders = Fert.sig %>% filter(log2FoldChange < 0 & OTU %in% RhizEnriched.t1_2) \n",
    "\n",
    "Depleted_responders %>% .$OTU %>% unique() %>% length %>% \n",
    "        paste(., \"OTUs depleted in fertilized plots that are also rhizosphere responders at T1 or T2\") %>% print\n",
    "\n",
    "Depleted_responders"
   ]
  },
  {
   "cell_type": "markdown",
   "metadata": {},
   "source": [
    "### %%R\n",
    "#Number of otus enriched in fertilized plots\n",
    "FertResponders = Fert.sig %>% filter(log2FoldChange > 0) %>% .$OTU %>% unique()  \n",
    "FertResponders %>% length %>% paste(., \"OTUs enriched in fertilized plots\") %>% print\n",
    "\n",
    "#Number of otus enriched at either fertilization level:\n",
    "FertResponders = Fert.sig %>% filter(log2FoldChange > 0 & Contrast == \"0_85\") %>% .$OTU %>% unique()  \n",
    "FertResponders %>% length %>% paste(., \"OTUs enriched at 85kg N/ha fertilized plots\") %>% print\n",
    "\n",
    "FertResponders = Fert.sig %>% filter(log2FoldChange > 0 & Contrast == \"0_170\") %>% .$OTU %>% unique()  \n",
    "FertResponders %>% length %>% paste(., \"OTUs enriched at 170kg N/ha fertilized plots\") %>% print\n",
    "\n",
    "#Number of otus enriched in fertilized plots that are rhizosphere repsonders at any point\n",
    "Enriched_responders = Fert.sig %>% filter(log2FoldChange > 0 & OTU %in% RhizEnriched) %>% .$OTU %>% unique()  \n",
    "        paste(length(Enriched_responders), \"OTUs enriched in fertilized plots that are also rhizosphere responders\") %>% print\n",
    "\n",
    "Enriched_responders.t1_2 = Fert.sig %>% filter(log2FoldChange > 0 & OTU %in% RhizEnriched.t1_2) %>% unique\n",
    "\n",
    "Enriched_responders.t1_2 %>% .$OTU %>% unique() %>% length %>% \n",
    "        paste(., \"OTUs enriched in fertilized plots that are also rhizosphere responders at T1 or T2\") %>% print\n",
    "\n",
    "Enriched_responders "
   ]
  },
  {
   "cell_type": "code",
   "execution_count": 72,
   "metadata": {
    "collapsed": false
   },
   "outputs": [
    {
     "data": {
      "text/plain": [
       "      baseMean log2FoldChange      lfcSE     stat       pvalue         padj\n",
       "1   57.3364770      0.3088018 0.09036034 3.417448 6.321110e-04 0.0497726377\n",
       "2    4.6717326      1.3820479 0.36249936 3.812553 1.375389e-04 0.0149065996\n",
       "3   54.3873396      0.4896057 0.13115473 3.733039 1.891835e-04 0.0187209381\n",
       "4   26.5477688      0.6811600 0.17449482 3.903612 9.476769e-05 0.0113521719\n",
       "5    2.9692605      1.4034086 0.31067578 4.517277 6.263991e-06 0.0006834449\n",
       "6    2.7249295      1.2006362 0.35842767 3.349731 8.089017e-04 0.0304878905\n",
       "7    1.5300740      1.3614809 0.36701811 3.709574 2.076083e-04 0.0109547961\n",
       "8    4.9230742      1.0731758 0.30922435 3.470541 5.194110e-04 0.0210827574\n",
       "9   22.3371557      0.5853601 0.18281168 3.201984 1.364845e-03 0.0439099548\n",
       "10   1.6826509      1.4659428 0.38181408 3.839415 1.233276e-04 0.0072306525\n",
       "11   1.3505475      1.2979404 0.36960915 3.511657 4.453232e-04 0.0193136051\n",
       "12   1.2802340      1.1918366 0.36032972 3.307628 9.408975e-04 0.0342400168\n",
       "13   1.0481749      1.3155111 0.38530960 3.414166 6.397750e-04 0.0253190971\n",
       "14  87.7111519      0.6709117 0.15153952 4.427305 9.541780e-06 0.0008885081\n",
       "15  19.5498032      0.7863941 0.21150151 3.718149 2.006879e-04 0.0109311643\n",
       "16   4.2667489      1.3622697 0.37316721 3.650561 2.616681e-04 0.0125521395\n",
       "17   0.7527306      1.2850620 0.37929698 3.388010 7.040168e-04 0.0275174979\n",
       "18   0.9075567      1.2266241 0.38264791 3.205621 1.347715e-03 0.0439099548\n",
       "19 240.7088884      0.6406024 0.15558963 4.117256 3.834096e-05 0.0027588061\n",
       "20   5.0788596      1.3141480 0.30206071 4.350609 1.357601e-05 0.0011616661\n",
       "21   1.2935060      1.5987071 0.38189754 4.186220 2.836385e-05 0.0021902428\n",
       "22  28.8706330      0.5771564 0.18324827 3.149587 1.635013e-03 0.0497735712\n",
       "23  67.7621922      0.6181604 0.19132331 3.230973 1.233697e-03 0.0419987629\n",
       "24   7.6085046      0.9058071 0.20289321 4.464452 8.027382e-06 0.0007942091\n",
       "         OTU Contrast    Rank1                    Rank2                  Rank3\n",
       "1   OTU.2489     0_85 Bacteria         __Proteobacteria  __Deltaproteobacteria\n",
       "2   OTU.4313     0_85 Bacteria         __Proteobacteria  __Gammaproteobacteria\n",
       "3     OTU.61     0_85 Bacteria        __Verrucomicrobia     __OPB35_soil_group\n",
       "4    OTU.371     0_85 Bacteria        __Verrucomicrobia     __OPB35_soil_group\n",
       "5   OTU.2011    0_170 Bacteria         __Proteobacteria  __Deltaproteobacteria\n",
       "6   OTU.1619    0_170 Bacteria         __Proteobacteria  __Alphaproteobacteria\n",
       "7   OTU.2673    0_170 Bacteria         __Proteobacteria  __Alphaproteobacteria\n",
       "8  OTU.11679    0_170 Bacteria         __Proteobacteria  __Alphaproteobacteria\n",
       "9    OTU.300    0_170 Bacteria         __Proteobacteria  __Alphaproteobacteria\n",
       "10  OTU.1577    0_170 Bacteria         __Proteobacteria  __Deltaproteobacteria\n",
       "11 OTU.10087    0_170 Bacteria         __Proteobacteria   __Betaproteobacteria\n",
       "12 OTU.11410    0_170 Bacteria         __Proteobacteria   __Betaproteobacteria\n",
       "13 OTU.11870    0_170 Bacteria         __Proteobacteria   __Betaproteobacteria\n",
       "14    OTU.93    0_170 Bacteria         __Proteobacteria  __Gammaproteobacteria\n",
       "15 OTU.11123    0_170 Bacteria         __Proteobacteria  __Gammaproteobacteria\n",
       "16  OTU.2881    0_170 Bacteria         __Proteobacteria  __Gammaproteobacteria\n",
       "17  OTU.4424    0_170 Bacteria __Candidate_division_TM7 __uncultured_bacterium\n",
       "18  OTU.4414    0_170 Bacteria __Candidate_division_TM7 __uncultured_bacterium\n",
       "19     OTU.7    0_170 Bacteria         __Actinobacteria        __Micrococcales\n",
       "20  OTU.5728    0_170 Bacteria         __Actinobacteria        __Micrococcales\n",
       "21  OTU.6544    0_170 Bacteria         __Actinobacteria    __Pseudonocardiales\n",
       "22  OTU.6083    0_170 Bacteria         __Actinobacteria  __Propionibacteriales\n",
       "23    OTU.80    0_170 Bacteria         __Actinobacteria  __Propionibacteriales\n",
       "24  OTU.9317    0_170 Bacteria         __Actinobacteria      __Thermoleophilia\n",
       "                    Rank4                Rank5                  Rank6\n",
       "1            __GR-WP33-30                 <NA>                   <NA>\n",
       "2       __Pseudomonadales   __Pseudomonadaceae          __Pseudomonas\n",
       "3  __uncultured_bacterium                 <NA>                   <NA>\n",
       "4  __uncultured_bacterium                 <NA>                   <NA>\n",
       "5     __Bdellovibrionales __Bacteriovoracaceae        __Bacteriovorax\n",
       "6       __Caulobacterales   __Caulobacteraceae        __Brevundimonas\n",
       "7           __Rhizobiales       __Rhizobiaceae            __Rhizobium\n",
       "8           __Rhizobiales __Phyllobacteriaceae      __Phyllobacterium\n",
       "9      __Sphingomonadales  __Sphingomonadaceae         __Sphingomonas\n",
       "10    __Bdellovibrionales __Bdellovibrionaceae         __Bdellovibrio\n",
       "11                   <NA>                 <NA>                   <NA>\n",
       "12      __Burkholderiales     __Comamonadaceae           __Variovorax\n",
       "13      __Burkholderiales                 <NA>                   <NA>\n",
       "14      __Xanthomonadales   __Xanthomonadaceae           __Lysobacter\n",
       "15      __Xanthomonadales   __Xanthomonadaceae          __Thermomonas\n",
       "16      __Xanthomonadales   __Xanthomonadaceae          __Xanthomonas\n",
       "17                   <NA>                 <NA>                   <NA>\n",
       "18                   <NA>                 <NA>                   <NA>\n",
       "19       __Micrococcaceae       __Arthrobacter __uncultured_bacterium\n",
       "20   __Intrasporangiaceae                 <NA>                   <NA>\n",
       "21   __Pseudonocardiaceae                 <NA>                   <NA>\n",
       "22      __Nocardioidaceae       __Nocardioides                   <NA>\n",
       "23      __Nocardioidaceae       __Nocardioides __uncultured_bacterium\n",
       "24           __Gaiellales         __uncultured __uncultured_bacterium\n",
       "                         Rank7 Rank8\n",
       "1                         <NA>  <NA>\n",
       "2       __uncultured_bacterium  <NA>\n",
       "3                         <NA>  <NA>\n",
       "4                         <NA>  <NA>\n",
       "5                         <NA>  <NA>\n",
       "6                         <NA>  <NA>\n",
       "7       __uncultured_bacterium  <NA>\n",
       "8                         <NA>  <NA>\n",
       "9       __uncultured_bacterium  <NA>\n",
       "10      __uncultured_bacterium  <NA>\n",
       "11                        <NA>  <NA>\n",
       "12 __uncultured_soil_bacterium  <NA>\n",
       "13                        <NA>  <NA>\n",
       "14                        <NA>  <NA>\n",
       "15      __uncultured_bacterium  <NA>\n",
       "16                        <NA>  <NA>\n",
       "17                        <NA>  <NA>\n",
       "18                        <NA>  <NA>\n",
       "19                        <NA>  <NA>\n",
       "20                        <NA>  <NA>\n",
       "21                        <NA>  <NA>\n",
       "22                        <NA>  <NA>\n",
       "23                        <NA>  <NA>\n",
       "24                        <NA>  <NA>\n"
      ]
     },
     "metadata": {},
     "output_type": "display_data"
    }
   ],
   "source": [
    "%%R\n",
    "#Fertilizer responders that are not rhizosphere responders at t1 or t2:\n",
    "Enriched_non_responders = Fert.sig %>% filter(log2FoldChange > 0 & !OTU %in% RhizEnriched)\n",
    "Enriched_non_responders"
   ]
  },
  {
   "cell_type": "code",
   "execution_count": 84,
   "metadata": {
    "collapsed": false
   },
   "outputs": [
    {
     "data": {
      "image/png": "[encoded data removed]"
     },
     "metadata": {},
     "output_type": "display_data"
    }
   ],
   "source": [
    "%%R\n",
    "grid.newpage()\n",
    "pV = draw.pairwise.venn(area1 = length(RhizEnriched), area2 = length(FertResponders), cross.area = length(Enriched_responders),\n",
    "                   category = c(\"Rhizosphere\", \"Fertilizer\"), lty = rep(\"blank\", 2), \n",
    "                 fill = c(\"lightblue\", \"tan\"), alpha = rep(0.5, 2), cex = 2,\n",
    "                   cat.dist = .05, cat.cex = 2, scaled = TRUE, rotation.degree = 0) %>% grobTree"
   ]
  },
  {
   "cell_type": "code",
   "execution_count": 85,
   "metadata": {
    "collapsed": false
   },
   "outputs": [
    {
     "data": {
      "text/plain": [
       "png \n",
       "  2 \n"
      ]
     },
     "metadata": {},
     "output_type": "display_data"
    }
   ],
   "source": [
    "%%R\n",
    "tiff(\"/home/bryan/ERA/data/figures/Rhiz_fert_venn.tiff\", width = 5.18, height = 5, units = \"in\", res = 300)\n",
    "draw.pairwise.venn(area1 = length(RhizEnriched), area2 = length(FertResponders), cross.area = length(Enriched_responders),\n",
    "                   category = c(\"Rhizosphere\", \"Fertilizer\"), lty = rep(\"blank\", 2), \n",
    "                 fill = c(\"lightblue\", \"tan\"), alpha = rep(0.5, 2), cex = 2,\n",
    "                   cat.dist = .05, cat.cex = 2, scaled = TRUE, rotation.degree = 0)\n",
    "dev.off()"
   ]
  },
  {
   "cell_type": "code",
   "execution_count": 49,
   "metadata": {
    "collapsed": false
   },
   "outputs": [
    {
     "data": {
      "text/plain": [
       "R version 3.3.2 (2016-10-31)\n",
       "Platform: x86_64-pc-linux-gnu (64-bit)\n",
       "Running under: Ubuntu 16.04.2 LTS\n",
       "\n",
       "locale:\n",
       " [1] LC_CTYPE=en_US.UTF-8       LC_NUMERIC=C              \n",
       " [3] LC_TIME=en_US.UTF-8        LC_COLLATE=en_US.UTF-8    \n",
       " [5] LC_MONETARY=en_US.UTF-8    LC_MESSAGES=en_US.UTF-8   \n",
       " [7] LC_PAPER=en_US.UTF-8       LC_NAME=C                 \n",
       " [9] LC_ADDRESS=C               LC_TELEPHONE=C            \n",
       "[11] LC_MEASUREMENT=en_US.UTF-8 LC_IDENTIFICATION=C       \n",
       "\n",
       "attached base packages:\n",
       " [1] stats4    parallel  tools     stats     graphics  grDevices utils    \n",
       " [8] datasets  methods   base     \n",
       "\n",
       "other attached packages:\n",
       " [1] RColorBrewer_1.1-2         vegan_2.4-3               \n",
       " [3] lattice_0.20-35            permute_0.9-4             \n",
       " [5] reshape2_1.4.2             tidyr_0.6.1               \n",
       " [7] dplyr_0.5.0                phyloseq_1.19.1           \n",
       " [9] scales_0.4.1               gridExtra_2.2.1           \n",
       "[11] ggplot2_2.2.1              DESeq2_1.14.1             \n",
       "[13] SummarizedExperiment_1.4.0 Biobase_2.34.0            \n",
       "[15] GenomicRanges_1.26.4       GenomeInfoDb_1.10.3       \n",
       "[17] IRanges_2.8.2              S4Vectors_0.12.2          \n",
       "[19] BiocGenerics_0.20.0        doParallel_1.0.10         \n",
       "[21] iterators_1.0.8            foreach_1.4.3             \n",
       "[23] BiocParallel_1.8.2         plyr_1.8.4                \n",
       "\n",
       "loaded via a namespace (and not attached):\n",
       " [1] jsonlite_1.4         splines_3.3.2        Formula_1.2-1       \n",
       " [4] assertthat_0.2.0     latticeExtra_0.6-28  RSQLite_1.1-2       \n",
       " [7] backports_1.0.5      digest_0.6.12        XVector_0.14.1      \n",
       "[10] checkmate_1.8.2      colorspace_1.3-2     htmltools_0.3.5     \n",
       "[13] Matrix_1.2-8         XML_3.98-1.6         genefilter_1.56.0   \n",
       "[16] zlibbioc_1.20.0      xtable_1.8-2         htmlTable_1.9       \n",
       "[19] tibble_1.3.0         annotate_1.52.1      mgcv_1.8-17         \n",
       "[22] nnet_7.3-12          lazyeval_0.2.0       survival_2.41-3     \n",
       "[25] magrittr_1.5         memoise_1.1.0        nlme_3.1-131        \n",
       "[28] MASS_7.3-45          foreign_0.8-67       data.table_1.10.4   \n",
       "[31] stringr_1.2.0        munsell_0.4.3        locfit_1.5-9.1      \n",
       "[34] cluster_2.0.6        AnnotationDbi_1.36.2 Biostrings_2.42.1   \n",
       "[37] ade4_1.7-6           rhdf5_2.18.0         grid_3.3.2          \n",
       "[40] RCurl_1.95-4.8       biomformat_1.2.0     htmlwidgets_0.8     \n",
       "[43] igraph_1.0.1         labeling_0.3         bitops_1.0-6        \n",
       "[46] base64enc_0.1-3      gtable_0.2.0         codetools_0.2-15    \n",
       "[49] multtest_2.30.0      DBI_0.6-1            R6_2.2.0            \n",
       "[52] knitr_1.15.1         Hmisc_4.0-2          ape_4.1             \n",
       "[55] stringi_1.1.5        Rcpp_0.12.10         geneplotter_1.52.0  \n",
       "[58] rpart_4.1-10         acepack_1.4.1       \n"
      ]
     },
     "metadata": {},
     "output_type": "display_data"
    }
   ],
   "source": [
    "%%R\n",
    "sessionInfo()"
   ]
  }
 ],
 "metadata": {
  "hide_input": true,
  "kernelspec": {
   "display_name": "Python 2",
   "language": "python",
   "name": "python2"
  },
  "language_info": {
   "codemirror_mode": {
    "name": "ipython",
    "version": 2
   },
   "file_extension": ".py",
   "mimetype": "text/x-python",
   "name": "python",
   "nbconvert_exporter": "python",
   "pygments_lexer": "ipython2",
   "version": "2.7.13"
  }
 },
 "nbformat": 4,
 "nbformat_minor": 0
}
