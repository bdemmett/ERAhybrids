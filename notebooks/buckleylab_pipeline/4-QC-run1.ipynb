{
 "cells": [
  {
   "cell_type": "markdown",
   "metadata": {},
   "source": [
    "# Description\n",
    "\n",
    "   * Quality control on PennRhiz v4bac library1 run1 post-merging and demultiplexing\n",
    "\n"
   ]
  },
  {
   "cell_type": "markdown",
   "metadata": {},
   "source": [
    "# Setting variables"
   ]
  },
  {
   "cell_type": "code",
   "execution_count": 2,
   "metadata": {
    "collapsed": false
   },
   "outputs": [],
   "source": [
    "workDir = '/home/bryan/ERA/data/MiSeq/20170417_run1/QC/'\n",
    "varSeqDir = '/home/bryan/ERA/data/MiSeq/20170417_run1/'\n",
    "databaseDir = '/home/bryan/RhizCG/data/databases/'\n",
    "\n",
    "seqFile = 'pear_merged-2017-04-18.assembled.dmult.fastq'\n",
    "nprocs = 10\n",
    "maxee = 2"
   ]
  },
  {
   "cell_type": "markdown",
   "metadata": {},
   "source": [
    "# Init"
   ]
  },
  {
   "cell_type": "code",
   "execution_count": 2,
   "metadata": {
    "collapsed": false
   },
   "outputs": [],
   "source": [
    "from screed.fasta import fasta_iter\n",
    "from pandas import DataFrame\n",
    "import os\n",
    "import re\n",
    "import pandas as pd\n",
    "from cogent import DNA\n",
    "from qiime.assign_taxonomy import UclustConsensusTaxonAssigner\n",
    "from IPython.display import Image\n"
   ]
  },
  {
   "cell_type": "code",
   "execution_count": 3,
   "metadata": {
    "collapsed": true
   },
   "outputs": [],
   "source": [
    "%load_ext rpy2.ipython"
   ]
  },
  {
   "cell_type": "code",
   "execution_count": 4,
   "metadata": {
    "collapsed": false
   },
   "outputs": [
    {
     "name": "stderr",
     "output_type": "stream",
     "text": [
      "/opt/anaconda2/lib/python2.7/site-packages/rpy2/rinterface/__init__.py:186: RRuntimeWarning: \n",
      "Attaching package: ‘dplyr’\n",
      "\n",
      "\n",
      "  warnings.warn(x, RRuntimeWarning)\n",
      "/opt/anaconda2/lib/python2.7/site-packages/rpy2/rinterface/__init__.py:186: RRuntimeWarning: The following objects are masked from ‘package:stats’:\n",
      "\n",
      "    filter, lag\n",
      "\n",
      "\n",
      "  warnings.warn(x, RRuntimeWarning)\n",
      "/opt/anaconda2/lib/python2.7/site-packages/rpy2/rinterface/__init__.py:186: RRuntimeWarning: The following objects are masked from ‘package:base’:\n",
      "\n",
      "    intersect, setdiff, setequal, union\n",
      "\n",
      "\n",
      "  warnings.warn(x, RRuntimeWarning)\n",
      "/opt/anaconda2/lib/python2.7/site-packages/rpy2/rinterface/__init__.py:186: RRuntimeWarning: \n",
      "Attaching package: ‘gridExtra’\n",
      "\n",
      "\n",
      "  warnings.warn(x, RRuntimeWarning)\n",
      "/opt/anaconda2/lib/python2.7/site-packages/rpy2/rinterface/__init__.py:186: RRuntimeWarning: The following object is masked from ‘package:dplyr’:\n",
      "\n",
      "    combine\n",
      "\n",
      "\n",
      "  warnings.warn(x, RRuntimeWarning)\n"
     ]
    }
   ],
   "source": [
    "%%R\n",
    "library(ggplot2)\n",
    "library(dplyr)\n",
    "library(tidyr)\n",
    "library(gridExtra)"
   ]
  },
  {
   "cell_type": "code",
   "execution_count": 5,
   "metadata": {
    "collapsed": false
   },
   "outputs": [
    {
     "name": "stdout",
     "output_type": "stream",
     "text": [
      "Populating the interactive namespace from numpy and matplotlib\n"
     ]
    }
   ],
   "source": [
    "%pylab inline"
   ]
  },
  {
   "cell_type": "code",
   "execution_count": 6,
   "metadata": {
    "collapsed": true
   },
   "outputs": [],
   "source": [
    "if not os.path.isdir(workDir):\n",
    "    os.mkdir(workDir)"
   ]
  },
  {
   "cell_type": "code",
   "execution_count": null,
   "metadata": {
    "collapsed": true
   },
   "outputs": [],
   "source": []
  },
  {
   "cell_type": "code",
   "execution_count": 7,
   "metadata": {
    "collapsed": true
   },
   "outputs": [],
   "source": [
    "!cd $workDir; ln -s -f ../$seqFile"
   ]
  },
  {
   "cell_type": "markdown",
   "metadata": {},
   "source": [
    "# Merged read quality filtering"
   ]
  },
  {
   "cell_type": "markdown",
   "metadata": {},
   "source": [
    "## Discard sequences that exceed max expected error threshold"
   ]
  },
  {
   "cell_type": "code",
   "execution_count": 8,
   "metadata": {
    "collapsed": false
   },
   "outputs": [],
   "source": [
    "%%bash -s \"$workDir\" \"$seqFile\" \"$nprocs\"\n",
    "\n",
    "cd $1\n",
    "\n",
    "mkdir tmp\n",
    "mkdir tmp2\n",
    "\n",
    "\n",
    "#max expected error\n",
    "maxee=2\n",
    "\n",
    "\n",
    "#tmpdir1= `mkdir tmp`\n",
    "trap \"rm -r tmp\" 1 2 3  15\n",
    "split -d -l 2000000 $1$2 tmp/Block\n",
    "\n",
    "\n",
    "\n",
    "#tmpdir2=`mkdir tmp2`\n",
    "trap \"rm -r tmp2\" 1 2 3 15\n",
    "ls tmp/Block?? | parallel --gnu -j $3 -k \"usearch -fastq_filter {} -fastq_maxee $maxee \\\n",
    "-fastaout tmp2/{#}.fasta >/dev/null 2>&1 && cat tmp2/{#}.fasta\" > $1$2_maxee1.fasta\n",
    "rm -r tmp tmp2"
   ]
  },
  {
   "cell_type": "code",
   "execution_count": 9,
   "metadata": {
    "collapsed": false
   },
   "outputs": [
    {
     "name": "stdout",
     "output_type": "stream",
     "text": [
      "number of sequences pre-filter: 14036217\n",
      "number of sequences post-filter: 35084359\n"
     ]
    }
   ],
   "source": [
    "nlines = !cd $workDir; wc -l $seqFile\n",
    "nlines = re.sub(\" .+\",\"\", nlines[0])\n",
    "nlines = int(nlines)\n",
    "print \"number of sequences pre-filter: {}\".format(nlines/4)\n",
    "\n",
    "maxee1 = seqFile + \"_maxee1.fasta\"\n",
    "nlines2 = !cd $workDir; wc -l $maxee1\n",
    "nlines2 = re.sub(\" .+\",\"\", nlines2[0])\n",
    "nlines2 = int(nlines2)\n",
    "print \"number of sequences post-filter: {}\".format(nlines2/2)"
   ]
  },
  {
   "cell_type": "code",
   "execution_count": 10,
   "metadata": {
    "collapsed": false
   },
   "outputs": [
    {
     "name": "stdout",
     "output_type": "stream",
     "text": [
      "Max expected error cutoff:2\n",
      "Number of sequence pre-filter: 14036217\n",
      "Number of sequences post-filter: 14034744\n",
      "\n",
      ">ERA-T2_1-2a_85_0 orig_name=M02465:355:000000000-B3LCK:1:1101:15651:1332\n",
      "TACGTAAGGGCCGAGCGTTGTCCGGAGTTACTGGGCGTAAAGCGCGCGCAGGCGGCTCGCTTTGCCCGGCGTGAAAGCCC\n",
      "CCGGCTCAACCGGGGAGGGTCGTCGGGGACGGGCGAGCTTGAGGCCGGCAGGGGCAGGTGGAATTCCCGGTGTAGTGGTG\n",
      "AAATGCGTAGAGATCGGGAGGAACACCCGTGGCGAAGGCGGCCTGCTGGGCCGGACCTGACGCTGAGGCGCGAAGGCGTG\n",
      "GGGAGCGAACGGG\n",
      ">ERA-T1_2-2d_85_1 orig_name=M02465:355:000000000-B3LCK:1:1101:15902:1335\n",
      "TACAGAGGGTGCAAGCGTTGTTCGGAATCATTGGGCGTAAAGGGCGTGTAGGCGGTCTGCTAAGTCATGTGTGAAATCCC\n",
      "TCGGCTCAACCGGGGAACGACGCATGAAACTGACAAGCTAGAGTACCAAAGAGGGGGGTGGAATTCCCGGTGTAGCGGTG\n"
     ]
    }
   ],
   "source": [
    "%%bash -s \"$workDir\" \"$seqFile\"  \"$nprocs\" \"$maxee\" \n",
    "\n",
    "printf \"Max expected error cutoff:\"\n",
    "echo $4\n",
    "\n",
    "printf \"Number of sequence pre-filter: \"\n",
    "grep -c \"orig_name\" $1$2 \n",
    "\n",
    "printf \"Number of sequences post-filter: \"\n",
    "grep -c \">\" $1$2_maxee1.fasta\n",
    "\n",
    "echo '' \n",
    "#head -n 8 $1$2\n",
    "head -n 8 $1$2_maxee1.fasta"
   ]
  },
  {
   "cell_type": "markdown",
   "metadata": {},
   "source": [
    "# Remove sequences with \"N\""
   ]
  },
  {
   "cell_type": "code",
   "execution_count": 11,
   "metadata": {
    "collapsed": false
   },
   "outputs": [
    {
     "name": "stdout",
     "output_type": "stream",
     "text": [
      "Number of sequence pre-filter: 14034744\n",
      "Number of sequences post-filter: 14034743\n"
     ]
    }
   ],
   "source": [
    "%%bash -s \"$workDir\" \"$seqFile\"\n",
    "\n",
    "cd $1\n",
    "\n",
    "bioawk -c fastx '{if ($seq !~ /N/){print \">\" $name \" \" $4 \"\\n\" $seq}}' $2_maxee1.fasta > $2_maxee1_noN.fasta\n",
    "\n",
    "printf \"Number of sequence pre-filter: \"\n",
    "grep -c \">\" $2_maxee1.fasta\n",
    "\n",
    "printf \"Number of sequences post-filter: \"\n",
    "grep -c \">\" $2_maxee1_noN.fasta"
   ]
  },
  {
   "cell_type": "markdown",
   "metadata": {},
   "source": [
    "## Alignment-based QC with Mothur"
   ]
  },
  {
   "cell_type": "code",
   "execution_count": 12,
   "metadata": {
    "collapsed": false,
    "scrolled": true
   },
   "outputs": [
    {
     "name": "stdout",
     "output_type": "stream",
     "text": [
      "\u001b[H\u001b[2J\n",
      "\n",
      "\n",
      "\n",
      "\n",
      "\n",
      "mothur v.1.39.5\n",
      "Last updated: 3/20/2017\n",
      "\n",
      "by\n",
      "Patrick D. Schloss\n",
      "\n",
      "Department of Microbiology & Immunology\n",
      "University of Michigan\n",
      "http://www.mothur.org\n",
      "\n",
      "When using, please cite:\n",
      "Schloss, P.D., et al., Introducing mothur: Open-source, platform-independent, community-supported software for describing and comparing microbial communities. Appl Environ Microbiol, 2009. 75(23):7537-41.\n",
      "\n",
      "Distributed under the GNU General Public License\n",
      "\n",
      "Type 'help()' for information on the commands that are available\n",
      "\n",
      "For questions and analysis support, please visit our forum at https://www.mothur.org/forum\n",
      "\n",
      "Type 'quit()' to exit program\n",
      "\n",
      "\n",
      "\n",
      "mothur > unique.seqs(fasta=pear_merged-2017-04-18.assembled.dmult.fastq_maxee1_noN.fasta)\n",
      "1000\t831\n",
      "2000\t1610\n",
      "3000\t2364\n",
      "4000\t3087\n",
      "5000\t3793\n",
      "6000\t4505\n",
      "7000\t5223\n",
      "8000\t5930\n",
      "9000\t6640\n",
      "10000\t7339\n",
      "11000\t8024\n",
      "12000\t8700\n",
      "13000\t9363\n",
      "14000\t10019\n",
      "15000\t10690\n",
      "16000\t11323\n",
      "17000\t11956\n",
      "18000\t12602\n",
      "19000\t13235\n",
      "20000\t13884\n",
      "21000\t14518\n",
      "22000\t15155\n",
      "23000\t15802\n",
      "24000\t16421\n",
      "25000\t17076\n",
      "26000\t17677\n",
      "27000\t18292\n",
      "28000\t18878\n",
      "29000\t19465\n",
      "30000\t20075\n",
      "31000\t20687\n",
      "32000\t21259\n",
      "33000\t21857\n",
      "34000\t22447\n",
      "35000\t23044\n",
      "36000\t23644\n",
      "37000\t24240\n",
      "38000\t24862\n",
      "39000\t25447\n",
      "40000\t26011\n",
      "41000\t26603\n",
      "42000\t27181\n",
      "43000\t27773\n",
      "44000\t28328\n",
      "45000\t28926\n",
      "46000\t29504\n",
      "47000\t30085\n",
      "48000\t30658\n",
      "49000\t31240\n",
      "50000\t31810\n",
      "51000\t32366\n",
      "52000\t32924\n",
      "53000\t33499\n",
      "54000\t34089\n",
      "55000\t34674\n",
      "56000\t35261\n",
      "57000\t35850\n",
      "58000\t36431\n",
      "59000\t36984\n",
      "60000\t37535\n",
      "61000\t38115\n",
      "62000\t38689\n",
      "63000\t39229\n",
      "64000\t39792\n",
      "65000\t40339\n",
      "66000\t40876\n",
      "67000\t41455\n",
      "68000\t41997\n",
      "69000\t42543\n",
      "70000\t43089\n",
      "71000\t43641\n",
      "72000\t44197\n",
      "73000\t44729\n",
      "74000\t45279\n",
      "75000\t45842\n",
      "76000\t46368\n",
      "77000\t46914\n",
      "78000\t47485\n",
      "79000\t48025\n",
      "80000\t48568\n",
      "81000\t49115\n",
      "82000\t49674\n",
      "83000\t50241\n",
      "84000\t50796\n",
      "85000\t51356\n",
      "86000\t51871\n",
      "87000\t52392\n",
      "88000\t52921\n",
      "89000\t53456\n",
      "90000\t53999\n",
      "91000\t54542\n",
      "92000\t55091\n",
      "93000\t55603\n",
      "94000\t56132\n",
      "95000\t56665\n",
      "96000\t57207\n",
      "97000\t57771\n",
      "98000\t58340\n",
      "99000\t58864\n",
      "100000\t59405\n",
      "101000\t59926\n",
      "102000\t60454\n",
      "103000\t61004\n",
      "104000\t61548\n",
      "105000\t62081\n",
      "106000\t62608\n",
      "107000\t63129\n",
      "108000\t63679\n",
      "109000\t64173\n",
      "110000\t64698\n",
      "111000\t65197\n",
      "112000\t65715\n",
      "113000\t66240\n",
      "114000\t66753\n",
      "115000\t67301\n",
      "116000\t67853\n",
      "117000\t68363\n",
      "118000\t68877\n",
      "119000\t69429\n",
      "120000\t69946\n",
      "121000\t70486\n",
      "122000\t70991\n",
      "123000\t71508\n",
      "124000\t71990\n",
      "125000\t72509\n",
      "126000\t73020\n",
      "127000\t73527\n",
      "128000\t74025\n",
      "129000\t74557\n",
      "130000\t75092\n",
      "131000\t75614\n",
      "132000\t76130\n",
      "133000\t76639\n",
      "134000\t77160\n",
      "135000\t77708\n",
      "136000\t78227\n",
      "137000\t78739\n",
      "138000\t79241\n",
      "139000\t79771\n",
      "140000\t80295\n",
      "141000\t80813\n",
      "142000\t81310\n",
      "143000\t81815\n",
      "144000\t82358\n",
      "145000\t82894\n",
      "146000\t83401\n",
      "147000\t83927\n",
      "148000\t84454\n",
      "149000\t84964\n",
      "150000\t85478\n",
      "151000\t85994\n",
      "152000\t86513\n",
      "153000\t87024\n",
      "154000\t87543\n",
      "155000\t88061\n",
      "156000\t88580\n",
      "157000\t89094\n",
      "158000\t89609\n",
      "159000\t90102\n",
      "160000\t90615\n",
      "161000\t91130\n",
      "162000\t91632\n",
      "163000\t92124\n",
      "164000\t92655\n",
      "165000\t93175\n",
      "166000\t93670\n",
      "167000\t94199\n",
      "168000\t94687\n",
      "169000\t95154\n",
      "170000\t95643\n",
      "171000\t96146\n",
      "172000\t96644\n",
      "173000\t97138\n",
      "174000\t97640\n",
      "175000\t98155\n",
      "176000\t98662\n",
      "177000\t99174\n",
      "178000\t99680\n",
      "179000\t100183\n",
      "180000\t100703\n",
      "181000\t101193\n",
      "182000\t101697\n",
      "183000\t102200\n",
      "184000\t102745\n",
      "185000\t103225\n",
      "186000\t103719\n",
      "187000\t104207\n",
      "188000\t104741\n",
      "189000\t105259\n",
      "190000\t105763\n",
      "191000\t106278\n",
      "192000\t106790\n",
      "193000\t107295\n",
      "194000\t107769\n",
      "195000\t108268\n",
      "196000\t108752\n",
      "197000\t109283\n",
      "198000\t109771\n",
      "199000\t110255\n",
      "200000\t110738\n",
      "201000\t111246\n",
      "202000\t111740\n",
      "203000\t112229\n",
      "204000\t112765\n",
      "205000\t113274\n",
      "206000\t113792\n",
      "207000\t114270\n",
      "208000\t114806\n",
      "209000\t115314\n",
      "210000\t115820\n",
      "211000\t116335\n",
      "212000\t116836\n",
      "213000\t117322\n",
      "214000\t117813\n",
      "215000\t118343\n",
      "216000\t118864\n",
      "217000\t119320\n",
      "218000\t119806\n",
      "219000\t120319\n",
      "220000\t120810\n",
      "221000\t121286\n",
      "222000\t121766\n",
      "223000\t122262\n",
      "224000\t122752\n",
      "225000\t123260\n",
      "226000\t123760\n",
      "227000\t124249\n",
      "228000\t124731\n",
      "229000\t125243\n",
      "230000\t125732\n",
      "231000\t126237\n",
      "232000\t126731\n",
      "233000\t127232\n",
      "234000\t127727\n",
      "235000\t128209\n",
      "236000\t128714\n",
      "237000\t129214\n",
      "238000\t129689\n",
      "239000\t130200\n",
      "240000\t130690\n",
      "241000\t131173\n",
      "242000\t131654\n",
      "243000\t132148\n",
      "244000\t132609\n",
      "245000\t133070\n",
      "246000\t133553\n",
      "247000\t134029\n",
      "248000\t134498\n",
      "249000\t135008\n",
      "250000\t135496\n",
      "251000\t135973\n",
      "252000\t136454\n",
      "253000\t136934\n",
      "254000\t137405\n",
      "255000\t137867\n",
      "256000\t138364\n",
      "257000\t138832\n",
      "258000\t139329\n",
      "259000\t139811\n",
      "260000\t140302\n",
      "261000\t140777\n",
      "262000\t141234\n",
      "263000\t141748\n",
      "264000\t142195\n",
      "265000\t142654\n",
      "266000\t143128\n",
      "267000\t143600\n",
      "268000\t144090\n",
      "269000\t144581\n",
      "270000\t145057\n",
      "271000\t145500\n",
      "272000\t145979\n",
      "273000\t146450\n",
      "274000\t146939\n",
      "275000\t147400\n",
      "276000\t147903\n",
      "277000\t148394\n",
      "278000\t148877\n",
      "279000\t149366\n",
      "280000\t149835\n",
      "281000\t150290\n",
      "282000\t150767\n",
      "283000\t151272\n",
      "284000\t151753\n",
      "285000\t152222\n",
      "286000\t152735\n",
      "287000\t153237\n",
      "288000\t153711\n",
      "289000\t154170\n",
      "290000\t154636\n",
      "291000\t155124\n",
      "292000\t155592\n",
      "293000\t156078\n",
      "294000\t156554\n",
      "295000\t157023\n",
      "296000\t157488\n",
      "297000\t157971\n",
      "298000\t158433\n",
      "299000\t158914\n",
      "300000\t159408\n",
      "301000\t159877\n",
      "302000\t160334\n",
      "303000\t160855\n",
      "304000\t161347\n",
      "305000\t161839\n",
      "306000\t162307\n",
      "307000\t162765\n",
      "308000\t163258\n",
      "309000\t163744\n",
      "310000\t164206\n",
      "311000\t164634\n",
      "312000\t165138\n",
      "313000\t165610\n",
      "314000\t166075\n",
      "315000\t166553\n",
      "316000\t167036\n",
      "317000\t167517\n",
      "318000\t168009\n",
      "319000\t168500\n",
      "320000\t168974\n",
      "321000\t169460\n",
      "322000\t169967\n",
      "323000\t170464\n",
      "324000\t170910\n",
      "325000\t171418\n",
      "326000\t171910\n",
      "327000\t172393\n",
      "328000\t172865\n",
      "329000\t173346\n",
      "330000\t173843\n",
      "331000\t174320\n",
      "332000\t174822\n",
      "333000\t175293\n",
      "334000\t175789\n",
      "335000\t176247\n",
      "336000\t176734\n",
      "337000\t177228\n",
      "338000\t177670\n",
      "339000\t178120\n",
      "340000\t178600\n",
      "341000\t179064\n",
      "342000\t179544\n",
      "343000\t180016\n",
      "344000\t180502\n",
      "345000\t180999\n",
      "346000\t181486\n",
      "347000\t181943\n",
      "348000\t182426\n",
      "349000\t182896\n",
      "350000\t183398\n",
      "351000\t183878\n",
      "352000\t184358\n",
      "353000\t184863\n",
      "354000\t185343\n",
      "355000\t185817\n",
      "356000\t186316\n",
      "357000\t186808\n",
      "358000\t187271\n",
      "359000\t187761\n",
      "360000\t188224\n",
      "361000\t188707\n",
      "362000\t189198\n",
      "363000\t189662\n",
      "364000\t190155\n",
      "365000\t190620\n",
      "366000\t191100\n",
      "367000\t191556\n",
      "368000\t192056\n",
      "369000\t192516\n",
      "370000\t192965\n",
      "371000\t193414\n",
      "372000\t193881\n",
      "373000\t194345\n",
      "374000\t194810\n",
      "375000\t195315\n",
      "376000\t195797\n",
      "377000\t196289\n",
      "378000\t196764\n",
      "379000\t197246\n",
      "380000\t197738\n",
      "381000\t198195\n",
      "382000\t198657\n",
      "383000\t199154\n",
      "384000\t199628\n",
      "385000\t200119\n",
      "386000\t200589\n",
      "387000\t201080\n",
      "388000\t201539\n",
      "389000\t202024\n",
      "390000\t202500\n",
      "391000\t202995\n",
      "392000\t203471\n",
      "393000\t203948\n",
      "394000\t204459\n",
      "395000\t204920\n",
      "396000\t205381\n",
      "397000\t205852\n",
      "398000\t206329\n",
      "399000\t206819\n",
      "400000\t207280\n",
      "401000\t207783\n",
      "402000\t208232\n",
      "403000\t208704\n",
      "404000\t209177\n",
      "405000\t209681\n",
      "406000\t210158\n",
      "407000\t210671\n",
      "408000\t211159\n",
      "409000\t211624\n",
      "410000\t212125\n",
      "411000\t212593\n",
      "412000\t213085\n",
      "413000\t213563\n",
      "414000\t214045\n",
      "415000\t214498\n",
      "416000\t215017\n",
      "417000\t215490\n",
      "418000\t215958\n",
      "419000\t216443\n",
      "420000\t216919\n",
      "421000\t217397\n",
      "422000\t217852\n",
      "423000\t218320\n",
      "424000\t218792\n",
      "425000\t219270\n",
      "426000\t219780\n",
      "427000\t220259\n",
      "428000\t220733\n",
      "429000\t221223\n",
      "430000\t221746\n",
      "431000\t222213\n",
      "432000\t222701\n",
      "433000\t223218\n",
      "434000\t223721\n",
      "435000\t224180\n",
      "436000\t224706\n",
      "437000\t225178\n",
      "438000\t225690\n",
      "439000\t226184\n",
      "440000\t226624\n",
      "441000\t227073\n",
      "442000\t227563\n",
      "443000\t228057\n",
      "444000\t228519\n",
      "445000\t228990\n",
      "446000\t229472\n",
      "447000\t229944\n",
      "448000\t230431\n",
      "449000\t230919\n",
      "450000\t231410\n",
      "451000\t231862\n",
      "452000\t232313\n",
      "453000\t232818\n",
      "454000\t233303\n",
      "455000\t233774\n",
      "456000\t234214\n",
      "457000\t234668\n",
      "458000\t235130\n",
      "459000\t235618\n",
      "460000\t236122\n",
      "461000\t236623\n",
      "462000\t237117\n",
      "463000\t237611\n",
      "464000\t238098\n",
      "465000\t238572\n",
      "466000\t239040\n",
      "467000\t239514\n",
      "468000\t239967\n",
      "469000\t240430\n",
      "470000\t240894\n",
      "471000\t241377\n",
      "472000\t241846\n",
      "473000\t242317\n",
      "474000\t242799\n",
      "475000\t243273\n",
      "476000\t243737\n",
      "477000\t244219\n",
      "478000\t244713\n",
      "479000\t245197\n",
      "480000\t245706\n",
      "481000\t246166\n",
      "482000\t246653\n",
      "483000\t247158\n",
      "484000\t247636\n",
      "485000\t248114\n",
      "486000\t248618\n",
      "487000\t249111\n",
      "488000\t249584\n",
      "489000\t250076\n",
      "490000\t250574\n",
      "491000\t251084\n",
      "492000\t251583\n",
      "493000\t252075\n",
      "494000\t252598\n",
      "495000\t253106\n",
      "496000\t253620\n",
      "497000\t254148\n",
      "498000\t254626\n",
      "499000\t255129\n",
      "500000\t255649\n",
      "501000\t256144\n",
      "502000\t256624\n",
      "503000\t257142\n",
      "504000\t257705\n",
      "505000\t258274\n",
      "506000\t258878\n",
      "507000\t259409\n",
      "508000\t259969\n",
      "509000\t260494\n",
      "510000\t261019\n",
      "511000\t261544\n",
      "512000\t262062\n",
      "513000\t262564\n",
      "514000\t263076\n",
      "515000\t263604\n",
      "516000\t264119\n",
      "517000\t264636\n",
      "518000\t265166\n",
      "519000\t265695\n",
      "520000\t266228\n",
      "521000\t266753\n",
      "522000\t267308\n",
      "523000\t267834\n",
      "524000\t268385\n",
      "525000\t268897\n",
      "526000\t269444\n",
      "527000\t269996\n",
      "528000\t270586\n",
      "529000\t271161\n",
      "530000\t271703\n",
      "531000\t272278\n",
      "532000\t272844\n",
      "533000\t273399\n",
      "534000\t273958\n",
      "535000\t274510\n",
      "536000\t275041\n",
      "537000\t275561\n",
      "538000\t276059\n",
      "539000\t276573\n",
      "540000\t277062\n",
      "541000\t277560\n",
      "542000\t278101\n",
      "543000\t278634\n",
      "544000\t279156\n",
      "545000\t279653\n",
      "546000\t280171\n",
      "547000\t280703\n",
      "548000\t281201\n",
      "549000\t281680\n",
      "550000\t282172\n",
      "551000\t282676\n",
      "552000\t283149\n",
      "553000\t283655\n",
      "554000\t284172\n",
      "555000\t284674\n",
      "556000\t285153\n",
      "557000\t285650\n",
      "558000\t286138\n",
      "559000\t286618\n",
      "560000\t287103\n",
      "561000\t287592\n",
      "562000\t288062\n",
      "563000\t288537\n",
      "564000\t288975\n",
      "565000\t289463\n",
      "566000\t289953\n",
      "567000\t290443\n",
      "568000\t290951\n",
      "569000\t291439\n",
      "570000\t291934\n",
      "571000\t292419\n",
      "572000\t292892\n",
      "573000\t293392\n",
      "574000\t293882\n",
      "575000\t294371\n",
      "576000\t294850\n",
      "577000\t295301\n",
      "578000\t295790\n",
      "579000\t296248\n",
      "580000\t296721\n",
      "581000\t297230\n",
      "582000\t297708\n",
      "583000\t298161\n",
      "584000\t298646\n",
      "585000\t299116\n",
      "586000\t299629\n",
      "587000\t300110\n",
      "588000\t300604\n",
      "589000\t301101\n",
      "590000\t301587\n",
      "591000\t302057\n",
      "592000\t302520\n",
      "593000\t302980\n",
      "594000\t303444\n",
      "595000\t303907\n",
      "596000\t304360\n",
      "597000\t304855\n",
      "598000\t305330\n",
      "599000\t305824\n",
      "600000\t306289\n",
      "601000\t306777\n",
      "602000\t307224\n",
      "603000\t307701\n",
      "604000\t308178\n",
      "605000\t308647\n",
      "606000\t309125\n",
      "607000\t309610\n",
      "608000\t310067\n",
      "609000\t310553\n",
      "610000\t311028\n",
      "611000\t311490\n",
      "612000\t311957\n",
      "613000\t312417\n",
      "614000\t312889\n",
      "615000\t313348\n",
      "616000\t313805\n",
      "617000\t314271\n",
      "618000\t314752\n",
      "619000\t315192\n",
      "620000\t315653\n",
      "621000\t316162\n",
      "622000\t316628\n",
      "623000\t317107\n",
      "624000\t317537\n",
      "625000\t317990\n",
      "626000\t318437\n",
      "627000\t318912\n",
      "628000\t319353\n",
      "629000\t319817\n",
      "630000\t320262\n",
      "631000\t320714\n",
      "632000\t321192\n",
      "633000\t321652\n",
      "634000\t322097\n",
      "635000\t322571\n",
      "636000\t323034\n",
      "637000\t323499\n",
      "638000\t323928\n",
      "639000\t324402\n",
      "640000\t324868\n",
      "641000\t325343\n",
      "642000\t325834\n",
      "643000\t326321\n",
      "644000\t326779\n",
      "645000\t327238\n",
      "646000\t327704\n",
      "647000\t328154\n",
      "648000\t328611\n",
      "649000\t329071\n",
      "650000\t329521\n",
      "651000\t329952\n",
      "652000\t330388\n",
      "653000\t330852\n",
      "654000\t331283\n",
      "655000\t331744\n",
      "656000\t332209\n",
      "657000\t332644\n",
      "658000\t333114\n",
      "659000\t333578\n",
      "660000\t334040\n",
      "661000\t334474\n",
      "662000\t334934\n",
      "663000\t335409\n",
      "664000\t335884\n",
      "665000\t336335\n",
      "666000\t336767\n",
      "667000\t337227\n",
      "668000\t337700\n",
      "669000\t338130\n",
      "670000\t338610\n",
      "671000\t339045\n",
      "672000\t339495\n",
      "673000\t339952\n",
      "674000\t340398\n",
      "675000\t340861\n",
      "676000\t341330\n",
      "677000\t341786\n",
      "678000\t342222\n",
      "679000\t342695\n",
      "680000\t343178\n",
      "681000\t343632\n",
      "682000\t344109\n",
      "683000\t344566\n",
      "684000\t345011**OUTPUT MUTED**"
     ]
    }
   ],
   "source": [
    "%%bash -s \"$workDir\" \"$seqFile\"\n",
    "\n",
    "cd $1\n",
    "\n",
    "mothur \"#unique.seqs(fasta=$2_maxee1_noN.fasta)\" "
   ]
  },
  {
   "cell_type": "code",
   "execution_count": 13,
   "metadata": {
    "collapsed": false
   },
   "outputs": [
    {
     "name": "stdout",
     "output_type": "stream",
     "text": [
      "Number of unique sequences: 5881633\n"
     ]
    }
   ],
   "source": [
    "%%bash -s \"$workDir\" \"$seqFile\"\n",
    "\n",
    "cd $1\n",
    "\n",
    "printf \"Number of unique sequences: \"\n",
    "grep -c \">\" $2_maxee1_noN.unique.fasta"
   ]
  },
  {
   "cell_type": "code",
   "execution_count": 14,
   "metadata": {
    "collapsed": false
   },
   "outputs": [
    {
     "name": "stdout",
     "output_type": "stream",
     "text": [
      "ERA-T2_1-2a_85_0\tERA-T2_1-2a_85\n",
      "ERA-T1_2-2d_85_1\tERA-T1_2-2d_85\n",
      "ERA-T3_4-3d_170_2\tERA-T3_4-3d_170\n",
      "ERA-T3_2-2c_170_3\tERA-T3_2-2c_170\n",
      "ERA-T3_4-2c_85_4\tERA-T3_4-2c_85\n",
      "ERA-T2_3-1b_85_5\tERA-T2_3-1b_85\n",
      "MockComm_6\tMockComm\n",
      "ERA-T2_4-4a_85_7\tERA-T2_4-4a_85\n",
      "ERA-T3_2-3d_170_8\tERA-T3_2-3d_170\n",
      "ERA-T1_2-3b_85_9\tERA-T1_2-3b_85\n"
     ]
    }
   ],
   "source": [
    "%%bash -s \"$workDir\" \"$seqFile\"\n",
    "# making mothur group file\n",
    "\n",
    "cd $1\n",
    "\n",
    "perl -ne 'if(/^>/){ s/>(.+)(_\\d+) .+/$1$2\\t$1/; print;}' $2_maxee1_noN.fasta > group_file.txt\n",
    "\n",
    "head group_file.txt"
   ]
  },
  {
   "cell_type": "code",
   "execution_count": 15,
   "metadata": {
    "collapsed": false
   },
   "outputs": [],
   "source": [
    "# %%bash -s \"$workDir\"\n",
    "# # dowloading mothur silva databases\n",
    "\n",
    "# cd $1\n",
    "\n",
    "# if ! [ -d mothur_silva_db ]; then\n",
    "#     mkdir mothur_silva_db\n",
    "# fi\n",
    "\n",
    "# cd mothur_silva_db\n",
    "\n",
    "# if ! [ -e $1silva_ref_aln_mothur.fasta ]; then\n",
    "#     curl -o silva_Bac.zip http://www.mothur.org/w/images/9/98/Silva.bacteria.zip && unzip silva_Bac.zip\n",
    "#     curl -o silva_Euk.zip http://www.mothur.org/w/images/1/1a/Silva.eukarya.zip && unzip silva_Euk.zip\n",
    "#     curl -o silva_Arc.zip http://www.mothur.org/w/images/3/3c/Silva.archaea.zip && unzip silva_Arc.zip\n",
    "# fi"
   ]
  },
  {
   "cell_type": "code",
   "execution_count": 16,
   "metadata": {
    "collapsed": true
   },
   "outputs": [],
   "source": [
    "!cd $workDir; ln -s -f $databaseDir"
   ]
  },
  {
   "cell_type": "code",
   "execution_count": 17,
   "metadata": {
    "collapsed": false
   },
   "outputs": [
    {
     "name": "stdout",
     "output_type": "stream",
     "text": [
      "Number of sequences in mothur silva fasta: 18491\n"
     ]
    }
   ],
   "source": [
    "%%bash -s \"$workDir\"\n",
    "\n",
    "cd $1'databases/mothur_silva_db'\n",
    "\n",
    "cat silva.bacteria/silva.bacteria.fasta \\\n",
    "    silva.eukarya/silva.eukarya.fasta \\\n",
    "    Silva.archaea/silva.archaea.fasta \\\n",
    "    > silva_ref_aln_mothur.fasta\n",
    "\n",
    "printf \"Number of sequences in mothur silva fasta: \"\n",
    "grep -c \">\" silva_ref_aln_mothur.fasta"
   ]
  },
  {
   "cell_type": "code",
   "execution_count": null,
   "metadata": {
    "collapsed": false
   },
   "outputs": [
    {
     "name": "stdout",
     "output_type": "stream",
     "text": [
      "Number of sequences post-filter: 18491\n"
     ]
    }
   ],
   "source": [
    "%%bash -s \"$workDir\"\n",
    "# filtering column positions in silva db\n",
    "\n",
    "cd $1'databases/mothur_silva_db'\n",
    "\n",
    "mothur \"#filter.seqs(vertical=t, \\\n",
    "    fasta=silva_ref_aln_mothur.fasta, \\\n",
    "    processors=24)\" > /dev/null\n",
    "\n",
    "printf \"Number of sequences post-filter: \"\n",
    "grep -c \">\" silva_ref_aln_mothur.filter.fasta"
   ]
  },
  {
   "cell_type": "code",
   "execution_count": null,
   "metadata": {
    "collapsed": false
   },
   "outputs": [],
   "source": [
    "%%bash -s \"$workDir\" \"$seqFile\"\n",
    "# aligning sequences\n",
    "\n",
    "cd $1\n",
    "\n",
    "mothur \"#align.seqs(candidate=pear_merged\\-2017\\-04\\-18.assembled.dmult.fastq_maxee1_noN.unique.fasta, \\\n",
    "    template=databases/mothur_silva_db/silva_ref_aln_mothur.filter.fasta, \\\n",
    "    processors=24, \\\n",
    "    flip=T)\" | head -n 100"
   ]
  },
  {
   "cell_type": "code",
   "execution_count": null,
   "metadata": {
    "collapsed": false
   },
   "outputs": [],
   "source": [
    "%%bash -s \"$workDir\" \"$seqFile\"\n",
    "# filtering out gap positions in the alignment\n",
    "\n",
    "cd $1\n",
    "\n",
    "mothur \"#filter.seqs(vertical=t, \\\n",
    "    fasta=pear_merged\\-2017\\-04\\-18.assembled.dmult.fastq_maxee1_noN.unique.align, \\\n",
    "    processors=12)\" | head -n 50"
   ]
  },
  {
   "cell_type": "code",
   "execution_count": null,
   "metadata": {
    "collapsed": false
   },
   "outputs": [],
   "source": [
    "%%bash -s \"$workDir\" \"$seqFile\"\n",
    "# filtering out gap positions in the alignment\n",
    "\n",
    "cd $1\n",
    "\n",
    "mothur \"#summary.seqs(fasta=pear_merged-2017-04-18.assembled.dmult.fastq_maxee1_noN.unique.filter.fasta, \\\n",
    "    processors=24, \\\n",
    "    name=pear_merged-2017-04-18.assembled.dmult.fastq_maxee1_noN.names)\" "
   ]
  },
  {
   "cell_type": "markdown",
   "metadata": {},
   "source": [
    "## Removing homopolymers (> 8) and screening out sequences that don't align to an amplicon region"
   ]
  },
  {
   "cell_type": "code",
   "execution_count": null,
   "metadata": {
    "collapsed": true
   },
   "outputs": [],
   "source": [
    "#continue here after checking alignment"
   ]
  },
  {
   "cell_type": "code",
   "execution_count": null,
   "metadata": {
    "collapsed": false,
    "scrolled": true
   },
   "outputs": [],
   "source": [
    "%%bash -s \"$workDir\" \"$seqFile\"\n",
    "\n",
    "cd $1\n",
    "\n",
    "mothur \"#screen.seqs(fasta=pear_merged-2017-04-18.assembled.dmult.fastq_maxee1_noN.unique.filter.fasta, \\\n",
    "    processors=12, \\\n",
    "    name=pear_merged-2017-04-18.assembled.dmult.fastq_maxee1_noN.names, \\\n",
    "    group=group_file.txt, \\\n",
    "    start=252, \\\n",
    "    end=1163, \\\n",
    "    maxhomop=8, \\\n",
    "    minlength=50)\" | tail -n 50   "
   ]
  },
  {
   "cell_type": "code",
   "execution_count": null,
   "metadata": {
    "collapsed": false
   },
   "outputs": [],
   "source": [
    "%%bash -s \"$workDir\" \"$seqFile\"\n",
    "\n",
    "cd $1\n",
    "\n",
    "printf \"Number of sequences post-filter: \"\n",
    "grep -c \">\" pear_merged-2017-04-18.assembled.dmult.fastq_maxee1_noN.unique.filter.good.fasta"
   ]
  },
  {
   "cell_type": "code",
   "execution_count": null,
   "metadata": {
    "collapsed": true
   },
   "outputs": [],
   "source": []
  },
  {
   "cell_type": "markdown",
   "metadata": {},
   "source": [
    "#### Notes:"
   ]
  },
  {
   "cell_type": "code",
   "execution_count": null,
   "metadata": {
    "collapsed": false,
    "scrolled": true
   },
   "outputs": [],
   "source": [
    "%%bash -s \"$workDir\"\n",
    "\n",
    "cd $1\n",
    "\n",
    "mothur \"#filter.seqs(fasta=pear_merged\\-2017\\-04\\-18.assembled.dmult.fastq_maxee1_noN.unique.filter.good.fasta, \\\n",
    "    processors=12, \\\n",
    "    vertical=T)\" | head -n 50"
   ]
  },
  {
   "cell_type": "code",
   "execution_count": null,
   "metadata": {
    "collapsed": false,
    "scrolled": true
   },
   "outputs": [],
   "source": [
    "%%bash -s \"$workDir\" \n",
    "\n",
    "cd $1\n",
    "\n",
    "mothur \"#summary.seqs(fasta=pear_merged-2017-04-18.assembled.dmult.fastq_maxee1_noN.unique.filter.good.fasta, \\\n",
    "    name=pear_merged-2017-04-18.assembled.dmult.fastq_maxee1_noN.good.names, processors=12)\""
   ]
  },
  {
   "cell_type": "markdown",
   "metadata": {},
   "source": [
    "__Notes:__\n",
    "\n",
    "* Not using reference-based chimera checking in Mothur with Uchime\n",
    "   "
   ]
  },
  {
   "cell_type": "markdown",
   "metadata": {},
   "source": [
    "## Deunique seqs"
   ]
  },
  {
   "cell_type": "code",
   "execution_count": null,
   "metadata": {
    "collapsed": false
   },
   "outputs": [],
   "source": [
    "%%bash -s \"$workDir\"\n",
    "\n",
    "cd $1\n",
    "\n",
    "mothur \"#deunique.seqs(fasta=pear_merged-2017-04-18.assembled.dmult.fastq_maxee1_noN.unique.filter.good.fasta, \\\n",
    "    name=pear_merged-2017-04-18.assembled.dmult.fastq_maxee1_noN.good.names)\" "
   ]
  },
  {
   "cell_type": "markdown",
   "metadata": {},
   "source": [
    "### Final QC-ed file"
   ]
  },
  {
   "cell_type": "code",
   "execution_count": null,
   "metadata": {
    "collapsed": false
   },
   "outputs": [],
   "source": [
    "!cd $workDir; \\\n",
    "    perl -pe 's/[-.]//g if ! /^>/' \\\n",
    "    pear_merged-2017-04-18.assembled.dmult.fastq_maxee1_noN.unique.filter.good.redundant.fasta \\\n",
    "    > finalQC.fasta"
   ]
  },
  {
   "cell_type": "code",
   "execution_count": null,
   "metadata": {
    "collapsed": false
   },
   "outputs": [],
   "source": [
    "!cd $workDir; \\\n",
    "    head finalQC.fasta"
   ]
  },
  {
   "cell_type": "code",
   "execution_count": null,
   "metadata": {
    "collapsed": false
   },
   "outputs": [],
   "source": [
    "!cd $workDir; \\\n",
    "    mothur \"#summary.seqs(fasta=finalQC.fasta, processors=12)\""
   ]
  },
  {
   "cell_type": "markdown",
   "metadata": {},
   "source": [
    "## Summary of number of seqs per sample"
   ]
  },
  {
   "cell_type": "code",
   "execution_count": null,
   "metadata": {
    "collapsed": false
   },
   "outputs": [],
   "source": [
    "os.chdir(workDir)\n",
    "\n",
    "inFile = 'finalQC.summary'\n",
    "\n",
    "re1 = re.compile('_\\d+.+')\n",
    "\n",
    "samp_count = dict()\n",
    "with open(inFile, 'r') as inf:\n",
    "    for line in inf.readlines():\n",
    "        if line.startswith('seqname'):\n",
    "            continue\n",
    "        line = line.rstrip().split('\\t')\n",
    "        line[0] = re.sub(re1, '', line[0])\n",
    "        try:\n",
    "            samp_count[line[0]] += 1\n",
    "        except KeyError:\n",
    "            samp_count[line[0]] = 1"
   ]
  },
  {
   "cell_type": "code",
   "execution_count": 3,
   "metadata": {
    "collapsed": false,
    "scrolled": true
   },
   "outputs": [
    {
     "name": "stdout",
     "output_type": "stream",
     "text": [
      "seqname\tstart\tend\tnbases\tambigs\tpolymer\tnumSeqs\r\n",
      "ERA-T2_1-2a_85_0\t1\t253\t253\t0\t5\t1\r\n",
      "ERA-T2_3-3a_85_4356060\t1\t253\t253\t0\t5\t1\r\n",
      "ERA-T3_3-1c_0_9817383\t1\t253\t253\t0\t5\t1\r\n",
      "ERA-T1_2-2d_85_1\t1\t253\t253\t0\t6\t1\r\n",
      "ERA-T1_3-3a_170_223529\t1\t253\t253\t0\t6\t1\r\n",
      "ERA-T1_3-3a_170_223945\t1\t253\t253\t0\t6\t1\r\n",
      "ERA-T2_2-1c_85_450563\t1\t253\t253\t0\t6\t1\r\n",
      "ERA-T1_3-3a_0_592632\t1\t253\t253\t0\t6\t1\r\n",
      "ERA-T3_1-2b_0_683789\t1\t253\t253\t0\t6\t1\r\n"
     ]
    }
   ],
   "source": [
    "!cd $workDir; \\\n",
    "    head finalQC.summary\n",
    "\n"
   ]
  },
  {
   "cell_type": "code",
   "execution_count": null,
   "metadata": {
    "collapsed": false,
    "scrolled": true
   },
   "outputs": [],
   "source": [
    "# converting to dataframe\n",
    "df_seq_cnt = pd.DataFrame(samp_count.items(), columns=['Sample', 'seq_count'])\n",
    "df_seq_cnt\n"
   ]
  },
  {
   "cell_type": "code",
   "execution_count": null,
   "metadata": {
    "collapsed": false
   },
   "outputs": [],
   "source": [
    "#Write sample sums to file\n",
    "df_seq_cnt.to_csv(\"run1_seq_cnt.csv\")\n"
   ]
  },
  {
   "cell_type": "code",
   "execution_count": null,
   "metadata": {
    "collapsed": false
   },
   "outputs": [],
   "source": [
    "%%R -i df_seq_cnt -w 800\n",
    "# plotting all\n",
    "\n",
    "df_seq_cnt$seq_count = as.numeric(df_seq_cnt$seq_count)\n",
    "\n",
    "df_seq_cnt = df_seq_cnt %>% \n",
    "    mutate(rank = min_rank(seq_count)) %>%\n",
    "    arrange(desc(rank))\n",
    "\n",
    "df_seq_cnt$Sample = factor(df_seq_cnt$Sample, levels=df_seq_cnt$Sample)\n",
    "\n",
    "ggplot(df_seq_cnt, aes(Sample, seq_count)) +\n",
    "    geom_bar(stat='identity') +\n",
    "    theme(\n",
    "        axis.text.x = element_text(angle=90)\n",
    "    )"
   ]
  },
  {
   "cell_type": "markdown",
   "metadata": {},
   "source": [
    "## Samples with a very low number of reads"
   ]
  },
  {
   "cell_type": "code",
   "execution_count": 38,
   "metadata": {
    "collapsed": false
   },
   "outputs": [
    {
     "data": {
      "text/plain": [
       "            Sample seq_count rank\n",
       "1     PosControl_B        78    5\n",
       "2     NegControl_C        75    4\n",
       "3 PostiveControl_C        45    3\n",
       "4      IndexQC_Rev         1    1\n",
       "5       MockComm_6         1    1\n"
      ]
     },
     "metadata": {},
     "output_type": "display_data"
    }
   ],
   "source": [
    "%%R\n",
    "df_seq_cnt %>% filter(seq_count < 100)"
   ]
  },
  {
   "cell_type": "code",
   "execution_count": 39,
   "metadata": {
    "collapsed": false
   },
   "outputs": [
    {
     "data": {
      "text/plain": [
       "        Sample seq_count rank\n",
       "1       ERA-T3   4829762   14\n",
       "2       ERA-T1   4601591   13\n",
       "3       ERA-T2   3750279   12\n",
       "4       ERA-T0    660197   11\n",
       "5     MockComm    118453   10\n",
       "6 NegControl_B      1432    9\n"
      ]
     },
     "metadata": {},
     "output_type": "display_data"
    }
   ],
   "source": [
    "%%R\n",
    "df_seq_cnt %>% head"
   ]
  }
 ],
 "metadata": {
  "anaconda-cloud": {},
  "hide_input": true,
  "kernelspec": {
   "display_name": "Python 2",
   "language": "python",
   "name": "python2"
  },
  "language_info": {
   "codemirror_mode": {
    "name": "ipython",
    "version": 2
   },
   "file_extension": ".py",
   "mimetype": "text/x-python",
   "name": "python",
   "nbconvert_exporter": "python",
   "pygments_lexer": "ipython2",
   "version": "2.7.13"
  }
 },
 "nbformat": 4,
 "nbformat_minor": 0
}
