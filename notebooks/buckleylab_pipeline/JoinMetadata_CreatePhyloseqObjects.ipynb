{
 "cells": [
  {
   "cell_type": "markdown",
   "metadata": {},
   "source": [
    "# Create phyloseq object"
   ]
  },
  {
   "cell_type": "code",
   "execution_count": 1,
   "metadata": {
    "collapsed": true
   },
   "outputs": [],
   "source": [
    "workDir = '/home/bryan/ERA/data/MiSeq/20170417_run1/phyloseq/'\n",
    "biomFileDir = '/home/bryan/ERA/data/MiSeq/20170417_run1/OTU_binning/'\n",
    "\n",
    "biomFile = '/home/bryan/ERA/data/MiSeq/20170417_run1/OTU_binning/otu_table_wtax.biom'\n",
    "metadataFile = '/home/bryan/ERA/ERA_Metadata.txt'\n",
    "plotdataFile = '/home/bryan/ERA/MasterLong.csv'\n",
    "mappingFile = '/home/bryan/ERA/ERA_MappingFile.txt'\n",
    "treeFile = '/home/bryan/ERA/data/MiSeq/20170417_run1/fasttree/otusn_pick_lad.nwk'"
   ]
  },
  {
   "cell_type": "markdown",
   "metadata": {},
   "source": [
    "# Init"
   ]
  },
  {
   "cell_type": "code",
   "execution_count": 2,
   "metadata": {
    "collapsed": true
   },
   "outputs": [],
   "source": [
    "import os"
   ]
  },
  {
   "cell_type": "code",
   "execution_count": 3,
   "metadata": {
    "collapsed": false
   },
   "outputs": [],
   "source": [
    "%load_ext rpy2.ipython"
   ]
  },
  {
   "cell_type": "code",
   "execution_count": 4,
   "metadata": {
    "collapsed": true
   },
   "outputs": [],
   "source": [
    "if not os.path.isdir(workDir):\n",
    "    os.mkdir(workDir)"
   ]
  },
  {
   "cell_type": "code",
   "execution_count": 5,
   "metadata": {
    "collapsed": false
   },
   "outputs": [
    {
     "name": "stderr",
     "output_type": "stream",
     "text": [
      "/opt/anaconda2/lib/python2.7/site-packages/rpy2/rinterface/__init__.py:186: RRuntimeWarning: Want to understand how all the pieces fit together? Buy the ggplot2\n",
      "book: http://ggplot2.org/book/\n",
      "\n",
      "  warnings.warn(x, RRuntimeWarning)\n",
      "/opt/anaconda2/lib/python2.7/site-packages/rpy2/rinterface/__init__.py:186: RRuntimeWarning: foreach: simple, scalable parallel programming from Revolution Analytics\n",
      "Use Revolution R for scalability, fault tolerance and more.\n",
      "http://www.revolutionanalytics.com\n",
      "\n",
      "  warnings.warn(x, RRuntimeWarning)\n",
      "/opt/anaconda2/lib/python2.7/site-packages/rpy2/rinterface/__init__.py:186: RRuntimeWarning: Loading required package: iterators\n",
      "\n",
      "  warnings.warn(x, RRuntimeWarning)\n",
      "/opt/anaconda2/lib/python2.7/site-packages/rpy2/rinterface/__init__.py:186: RRuntimeWarning: Loading required package: parallel\n",
      "\n",
      "  warnings.warn(x, RRuntimeWarning)\n",
      "/opt/anaconda2/lib/python2.7/site-packages/rpy2/rinterface/__init__.py:186: RRuntimeWarning: \n",
      "Attaching package: ‘dplyr’\n",
      "\n",
      "\n",
      "  warnings.warn(x, RRuntimeWarning)\n",
      "/opt/anaconda2/lib/python2.7/site-packages/rpy2/rinterface/__init__.py:186: RRuntimeWarning: The following object is masked from ‘package:gridExtra’:\n",
      "\n",
      "    combine\n",
      "\n",
      "\n",
      "  warnings.warn(x, RRuntimeWarning)\n",
      "/opt/anaconda2/lib/python2.7/site-packages/rpy2/rinterface/__init__.py:186: RRuntimeWarning: The following objects are masked from ‘package:stats’:\n",
      "\n",
      "    filter, lag\n",
      "\n",
      "\n",
      "  warnings.warn(x, RRuntimeWarning)\n",
      "/opt/anaconda2/lib/python2.7/site-packages/rpy2/rinterface/__init__.py:186: RRuntimeWarning: The following objects are masked from ‘package:base’:\n",
      "\n",
      "    intersect, setdiff, setequal, union\n",
      "\n",
      "\n",
      "  warnings.warn(x, RRuntimeWarning)\n"
     ]
    }
   ],
   "source": [
    "%%R\n",
    "library(phyloseq)\n",
    "library(ggplot2)\n",
    "library(foreach)\n",
    "library(doParallel)\n",
    "library(gridExtra)\n",
    "library(dplyr)\n",
    "library(tidyr)"
   ]
  },
  {
   "cell_type": "markdown",
   "metadata": {},
   "source": [
    "# Read in metadata files"
   ]
  },
  {
   "cell_type": "code",
   "execution_count": 6,
   "metadata": {
    "collapsed": false,
    "scrolled": true
   },
   "outputs": [
    {
     "data": {
      "text/plain": [
       "  Rep Row Pos Fert PlotIndex   PlotID Plant Genotype SeedTreatment R_Year ERA\n",
       "1   1   3   a   85        25  1-3a_85   322      322       Treated   1936   1\n",
       "2   1   3   a    0        26   1-3a_0   322      322       Treated   1936   1\n",
       "3   1   3   a  170        27 1-3a_170   322      322       Treated   1936   1\n",
       "4   2   5   b  170       112 2-5b_170   322      322       Treated   1936   1\n",
       "5   2   5   b   85       113  2-5b_85   322      322       Treated   1936   1\n",
       "6   2   5   b    0       114   2-5b_0   322      322       Treated   1936   1\n",
       "  BG_activity.g BX_activity.g CB_activity.g LAP_activity.g NAG_activity.g\n",
       "1            NA            NA            NA             NA             NA\n",
       "2            NA            NA            NA             NA             NA\n",
       "3            NA            NA            NA             NA             NA\n",
       "4            NA            NA            NA             NA             NA\n",
       "5            NA            NA            NA             NA             NA\n",
       "6            NA            NA            NA             NA             NA\n",
       "  TimePoint    Stage kgdw_ha FracN.leco FracC.leco kgN_ha RGR AGR Nprod NupR\n",
       "1        T0 Planting      NA         NA         NA     NA  NA  NA    NA   NA\n",
       "2        T0 Planting      NA         NA         NA     NA  NA  NA    NA   NA\n",
       "3        T0 Planting      NA         NA         NA     NA  NA  NA    NA   NA\n",
       "4        T0 Planting      NA         NA         NA     NA  NA  NA    NA   NA\n",
       "5        T0 Planting      NA         NA         NA     NA  NA  NA    NA   NA\n",
       "6        T0 Planting      NA         NA         NA     NA  NA  NA    NA   NA\n",
       "  d15N X15N_AtPercent FracN FracN_fromSoil FracN_fromFert kgFertN_ha kgSoilN_ha\n",
       "1   NA             NA    NA             NA             NA         NA         NA\n",
       "2   NA             NA    NA             NA             NA         NA         NA\n",
       "3   NA             NA    NA             NA             NA         NA         NA\n",
       "4   NA             NA    NA             NA             NA         NA         NA\n",
       "5   NA             NA    NA             NA             NA         NA         NA\n",
       "6   NA             NA    NA             NA             NA         NA         NA\n"
      ]
     },
     "metadata": {},
     "output_type": "display_data"
    }
   ],
   "source": [
    "%%R -i plotdataFile\n",
    "data = read.csv(plotdataFile, header = TRUE)\n",
    "data %>% head"
   ]
  },
  {
   "cell_type": "code",
   "execution_count": 7,
   "metadata": {
    "collapsed": false,
    "scrolled": false
   },
   "outputs": [
    {
     "data": {
      "text/plain": [
       "       X.sampleID TubeID ExtractionPlate PooledDNAPlate Sample.Well.ID\n",
       "1 ERA-T1_1-2b_170    125            ERA1              A             A1\n",
       "2 ERA-T1_1-3c_170    137            ERA1              A             B1\n",
       "3   ERA-T3_1-2b_0    530            ERA1              A             C1\n",
       "4  ERA-T2_1-2b_85    361            ERA1              A             D1\n",
       "5 ERA-T3_1-2d_170    602            ERA1              A             E1\n",
       "6  ERA-T1_1-4b_85    143            ERA1              A             F1\n",
       "  PrimerPlate Primer.Number Primer.Well.ID  X primerFwdLoc primerRevLoc\n",
       "1           1             1             A1 NA          1-A          1-1\n",
       "2           1             2             B1 NA          1-B          1-1\n",
       "3           1             3             C1 NA          1-C          1-1\n",
       "4           1             4             D1 NA          1-D          1-1\n",
       "5           1             5             E1 NA          1-E          1-1\n",
       "6           1             6             F1 NA          1-F          1-1\n",
       "  fwd_barcode rev_barcode   PlotID TimePoint\n",
       "1    ATCGTACG    AACTCTCG 1-2b_170        T1\n",
       "2    ACTATCTG    AACTCTCG 1-3c_170        T1\n",
       "3    TAGCGAGT    AACTCTCG   1-2b_0        T3\n",
       "4    CTGCGTGT    AACTCTCG  1-2b_85        T2\n",
       "5    TCATCGAG    AACTCTCG 1-2d_170        T3\n",
       "6    CGTGAGTG    AACTCTCG  1-4b_85        T1\n"
      ]
     },
     "metadata": {},
     "output_type": "display_data"
    }
   ],
   "source": [
    "%%R -i mappingFile\n",
    "Map = read.delim(mappingFile, header = TRUE, sep = \"\\t\")\n",
    "head(Map)"
   ]
  },
  {
   "cell_type": "code",
   "execution_count": 8,
   "metadata": {
    "collapsed": false,
    "scrolled": true
   },
   "outputs": [
    {
     "data": {
      "text/plain": [
       "        X.sampleID TubeID ExtractionPlate PooledDNAPlate Sample.Well.ID\n",
       "79  ERA-T2_2-1d_85    390            ERA2              A            G10\n",
       "80 ERA-T3_2-5c_170    545            ERA2              A            H10\n",
       "   PrimerPlate Primer.Number Primer.Well.ID  X primerFwdLoc primerRevLoc\n",
       "79           1            79            G10 NA          1-G         1-10\n",
       "80           1            80            H10 NA          1-H         1-10\n",
       "   fwd_barcode rev_barcode   PlotID TimePoint\n",
       "79    GGATATCT    TAGCAGAC  2-1d_85        T2\n",
       "80    GACACCGT    TAGCAGAC 2-5c_170        T3\n"
      ]
     },
     "metadata": {},
     "output_type": "display_data"
    }
   ],
   "source": [
    "%%R\n",
    "Map[Map$TubeID %in% c(\"390\", \"545\"),] "
   ]
  },
  {
   "cell_type": "markdown",
   "metadata": {},
   "source": [
    "* mapping file has been fixed"
   ]
  },
  {
   "cell_type": "code",
   "execution_count": 9,
   "metadata": {
    "collapsed": false,
    "scrolled": true
   },
   "outputs": [
    {
     "data": {
      "text/plain": [
       "[1] 244  46\n",
       "       X.sampleID TubeID ExtractionPlate PooledDNAPlate Sample.Well.ID\n",
       "1 ERA-T1_1-2b_170    125            ERA1              A             A1\n",
       "2 ERA-T1_1-3c_170    137            ERA1              A             B1\n",
       "3   ERA-T3_1-2b_0    530            ERA1              A             C1\n",
       "4  ERA-T2_1-2b_85    361            ERA1              A             D1\n",
       "5 ERA-T3_1-2d_170    602            ERA1              A             E1\n",
       "6  ERA-T1_1-4b_85    143            ERA1              A             F1\n",
       "  PrimerPlate Primer.Number Primer.Well.ID  X primerFwdLoc primerRevLoc\n",
       "1           1             1             A1 NA          1-A          1-1\n",
       "2           1             2             B1 NA          1-B          1-1\n",
       "3           1             3             C1 NA          1-C          1-1\n",
       "4           1             4             D1 NA          1-D          1-1\n",
       "5           1             5             E1 NA          1-E          1-1\n",
       "6           1             6             F1 NA          1-F          1-1\n",
       "  fwd_barcode rev_barcode   PlotID TimePoint Rep Row Pos Fert PlotIndex   Plant\n",
       "1    ATCGTACG    AACTCTCG 1-2b_170        T1   1   2   b  170        16     330\n",
       "2    ACTATCTG    AACTCTCG 1-3c_170        T1   1   3   c  170        33    3517\n",
       "3    TAGCGAGT    AACTCTCG   1-2b_0        T3   1   2   b    0        18     330\n",
       "4    CTGCGTGT    AACTCTCG  1-2b_85        T2   1   2   b   85        17     330\n",
       "5    TCATCGAG    AACTCTCG 1-2d_170        T3   1   2   d  170        24 P1151HR\n",
       "6    CGTGAGTG    AACTCTCG  1-4b_85        T1   1   4   b   85        41   34M95\n",
       "  Genotype SeedTreatment R_Year ERA BG_activity.g BX_activity.g CB_activity.g\n",
       "1      330       Treated   1939   1      96.79331      21.01421      21.70019\n",
       "2     3517       Treated   1971   2      69.91560      15.39917      14.90532\n",
       "3      330       Treated   1939   1     100.18997      25.99066      25.59635\n",
       "4      330       Treated   1939   1      86.27234      17.84434      20.13755\n",
       "5  P1151HR       Treated   2011   3      82.25222      24.89637      18.27395\n",
       "6    34M95       Treated   2001   3      76.97188      15.50771      14.67479\n",
       "  LAP_activity.g NAG_activity.g Stage kgdw_ha FracN.leco FracC.leco     kgN_ha\n",
       "1       46.58059       20.24606    V6   269.4  0.0329030    0.40984  8.8640682\n",
       "2       29.05604       13.51130    V6   610.5  0.0286850    0.42262 17.5121925\n",
       "3      232.76419       28.05134    R3  3993.0  0.0054621    0.42354  0.8438944\n",
       "4      135.27414       20.30096    R1  3792.0  0.0131310    0.43453 49.7927520\n",
       "5      198.10500       24.50423    R3 12417.0  0.0086408    0.43929  4.6945466\n",
       "6       35.56935       17.22165    V6   454.2  0.0245090    0.43649 11.1319878\n",
       "         RGR       AGR       Nprod       NupR    d15N X15N_AtPercent      FracN\n",
       "1 0.05829207   7.00000   0.7897051  0.1824887      NA             NA         NA\n",
       "2 0.07569804  16.47500   0.9407731  0.3664913      NA             NA         NA\n",
       "3 0.03545994 102.06522 120.9454777 -0.6942792      NA             NA         NA\n",
       "4 0.10516014 115.17097   2.3130067  1.6323868 671.275      0.6106919 0.01272523\n",
       "5 0.02726468 266.80435  56.8328250 -3.2315736      NA             NA         NA\n",
       "6 0.06940569  12.13333   1.0899521  0.2307423      NA             NA         NA\n",
       "  FracN_fromSoil FracN_fromFert kgFertN_ha kgSoilN_ha\n",
       "1             NA             NA         NA         NA\n",
       "2             NA             NA         NA         NA\n",
       "3             NA             NA         NA         NA\n",
       "4      0.6226923      0.3773077   18.20663   30.04744\n",
       "5             NA             NA         NA         NA\n",
       "6             NA             NA         NA         NA\n"
      ]
     },
     "metadata": {},
     "output_type": "display_data"
    }
   ],
   "source": [
    "%%R\n",
    "SampleData = inner_join(Map, data, by = c(\"PlotID\", \"TimePoint\"))\n",
    "dim(SampleData) %>% print\n",
    "SampleData %>% head"
   ]
  },
  {
   "cell_type": "code",
   "execution_count": 10,
   "metadata": {
    "collapsed": false
   },
   "outputs": [
    {
     "data": {
      "text/plain": [
       "# A tibble: 0 × 2\n",
       "# ... with 2 variables: PlotID <chr>, TimePoint <chr>\n"
      ]
     },
     "metadata": {},
     "output_type": "display_data"
    }
   ],
   "source": [
    "%%R\n",
    "# Check duplicate names\n",
    "SampleData %>% \n",
    "    group_by(X.sampleID,PlotID, TimePoint) %>%\n",
    "    summarise(Num = length(BG_activity.g)) %>%\n",
    "    ungroup() %>%\n",
    "    filter(Num > 1) %>% \n",
    "   select(PlotID, TimePoint)"
   ]
  },
  {
   "cell_type": "markdown",
   "metadata": {},
   "source": [
    "* Duplicates fixed!"
   ]
  },
  {
   "cell_type": "code",
   "execution_count": 11,
   "metadata": {
    "collapsed": false
   },
   "outputs": [
    {
     "data": {
      "text/plain": [
       "  Rep Row Pos Fert PlotIndex   PlotID Plant Genotype SeedTreatment R_Year ERA\n",
       "1   4   5   b  170       232 4-5b_170 34M95    34M95       Treated   2001   3\n",
       "2   2   3   b  170        88 2-3b_170  Bare     Bare                   NA  NA\n",
       "3   4   5   b  170       232 4-5b_170 34M95    34M95       Treated   2001   3\n",
       "4   2   3   b  170        88 2-3b_170  Bare     Bare                   NA  NA\n",
       "  BG_activity.g BX_activity.g CB_activity.g LAP_activity.g NAG_activity.g\n",
       "1      72.89345      17.18532      13.86478       30.43450       13.75206\n",
       "2      40.40948      11.38810      12.71309       23.24555       11.12396\n",
       "3     153.19322      33.18853      41.66629      244.26208       35.50504\n",
       "4      64.08162      18.07281      20.44175      199.55173       13.71814\n",
       "  TimePoint Stage kgdw_ha FracN.leco FracC.leco   kgN_ha        RGR       AGR\n",
       "1        T1    V6  1317.6   0.022403    0.42341 29.51819 0.09206589  36.11667\n",
       "2        T1    V6      NA         NA         NA       NA         NA        NA\n",
       "3        T3    R3 15255.0   0.008775    0.43572 11.56194 0.02905348 342.45652\n",
       "4        T3    R3      NA         NA         NA       NA         NA        NA\n",
       "      Nprod       NupR d15N X15N_AtPercent FracN FracN_fromSoil FracN_fromFert\n",
       "1  1.223539  0.6219381   NA             NA    NA             NA             NA\n",
       "2        NA         NA   NA             NA    NA             NA             NA\n",
       "3 29.619296 -3.2356266   NA             NA    NA             NA             NA\n",
       "4        NA         NA   NA             NA    NA             NA             NA\n",
       "  kgFertN_ha kgSoilN_ha\n",
       "1         NA         NA\n",
       "2         NA         NA\n",
       "3         NA         NA\n",
       "4         NA         NA\n"
      ]
     },
     "metadata": {},
     "output_type": "display_data"
    }
   ],
   "source": [
    "%%R\n",
    "data %>%\n",
    "    filter(PlotID %in% c(\"2-3b_170\", \"4-5b_170\") & TimePoint %in% c(\"T1\", \"T3\"))"
   ]
  },
  {
   "cell_type": "code",
   "execution_count": 12,
   "metadata": {
    "collapsed": true
   },
   "outputs": [],
   "source": [
    "# Write joined metadataFile"
   ]
  },
  {
   "cell_type": "code",
   "execution_count": 13,
   "metadata": {
    "collapsed": false
   },
   "outputs": [],
   "source": [
    "%%R\n",
    "write.table(SampleData, file = '/home/bryan/ERA/ERA_Metadata.txt', row.names = FALSE, sep = '\\t')"
   ]
  },
  {
   "cell_type": "markdown",
   "metadata": {},
   "source": [
    "# Create phyloseq objects"
   ]
  },
  {
   "cell_type": "code",
   "execution_count": 14,
   "metadata": {
    "collapsed": false
   },
   "outputs": [
    {
     "data": {
      "text/plain": [
       "phyloseq-class experiment-level object\n",
       "otu_table()   OTU Table:         [ 13919 taxa and 9 samples ]\n",
       "sample_data() Sample Data:       [ 9 samples by 15 sample variables ]\n",
       "tax_table()   Taxonomy Table:    [ 13919 taxa by 8 taxonomic ranks ]\n",
       "phy_tree()    Phylogenetic Tree: [ 13919 tips and 13918 internal nodes ]\n"
      ]
     },
     "metadata": {},
     "output_type": "display_data"
    }
   ],
   "source": [
    "%%R -i biomFile -i mappingFile -i workDir -i treeFile\n",
    "# Just controls\n",
    "# loading\n",
    "setwd(workDir)\n",
    "\n",
    "## biom file\n",
    "physeq = import_biom(biomFile, treeFile)\n",
    "\n",
    "## loading sample metadata\n",
    "sample.data = import_qiime_sample_data(mappingFile)\n",
    "physeq = merge_phyloseq(physeq,sample.data)\n",
    "physeq.controls = subset_samples(physeq, !TimePoint %in% c(\"T0\", \"T1\", \"T2\", \"T3\"), TRUE)\n",
    "physeq.controls"
   ]
  },
  {
   "cell_type": "code",
   "execution_count": 15,
   "metadata": {
    "collapsed": false
   },
   "outputs": [],
   "source": [
    "%%R\n",
    "saveRDS(physeq.controls, '/home/bryan/ERA/data/MiSeq/20170417_run1/phyloseq/controls.rds')"
   ]
  },
  {
   "cell_type": "code",
   "execution_count": 16,
   "metadata": {
    "collapsed": false
   },
   "outputs": [],
   "source": [
    "%%R -i biomFile -i metadataFile -i workDir -i treeFile\n",
    "# ERA dataset\n",
    "# loading\n",
    "setwd(workDir)\n",
    "\n",
    "## biom file\n",
    "physeq.era = import_biom(biomFile, treeFile)\n",
    "\n",
    "## loading sample metadata\n",
    "sample.data = import_qiime_sample_data(metadataFile)\n",
    "physeq.era = merge_phyloseq(physeq.era,sample.data)"
   ]
  },
  {
   "cell_type": "code",
   "execution_count": 17,
   "metadata": {
    "collapsed": false,
    "scrolled": false
   },
   "outputs": [
    {
     "data": {
      "text/plain": [
       "phyloseq-class experiment-level object\n",
       "otu_table()   OTU Table:         [ 13919 taxa and 243 samples ]\n",
       "sample_data() Sample Data:       [ 243 samples by 46 sample variables ]\n",
       "tax_table()   Taxonomy Table:    [ 13919 taxa by 8 taxonomic ranks ]\n",
       "phy_tree()    Phylogenetic Tree: [ 13919 tips and 13918 internal nodes ]\n"
      ]
     },
     "metadata": {},
     "output_type": "display_data"
    }
   ],
   "source": [
    "%%R\n",
    "physeq.era"
   ]
  },
  {
   "cell_type": "code",
   "execution_count": 18,
   "metadata": {
    "collapsed": false
   },
   "outputs": [
    {
     "data": {
      "text/plain": [
       "Sample Data:        [6 samples by 46 sample variables]:\n",
       "                     X.sampleID  TubeID ExtractionPlate PooledDNAPlate\n",
       "ERA-T0_2-2c_0     ERA-T0_2-2c_0 BD - 26            ERA3              C\n",
       "ERA-T2_3-1d_85   ERA-T2_3-1d_85     425            ERA4              B\n",
       "ERA-T1_3-5c_170 ERA-T1_3-5c_170     213            ERA4              B\n",
       "ERA-T2_1-5a_85   ERA-T2_1-5a_85     382            ERA3              C\n",
       "ERA-T1_1-2b_170 ERA-T1_1-2b_170     125            ERA1              A\n",
       "ERA-T1_1-4b_0     ERA-T1_1-4b_0     144            ERA1              A\n",
       "                Sample.Well.ID PrimerPlate Primer.Number Primer.Well.ID  X\n",
       "ERA-T0_2-2c_0               B7           3            29             E4 NA\n",
       "ERA-T2_3-1d_85              E5           2            37             E5 NA\n",
       "ERA-T1_3-5c_170             D3           2            20             D3 NA\n",
       "ERA-T2_1-5a_85              D5           3            16             H2 NA\n",
       "ERA-T1_1-2b_170             A1           1             1             A1 NA\n",
       "ERA-T1_1-4b_0               C4           1            27             C4 NA\n",
       "                primerFwdLoc primerRevLoc fwd_barcode rev_barcode   PlotID\n",
       "ERA-T0_2-2c_0            3-E          3-4    TCATCGAG    CATAGAGA   2-2c_0\n",
       "ERA-T2_3-1d_85           2-E          2-5    ACGTCTCG    CGTACTCA  3-1d_85\n",
       "ERA-T1_3-5c_170          2-D          2-3    TACGAGAC    AGTAGCGT 3-5c_170\n",
       "ERA-T2_1-5a_85           3-H          3-2    GACACCGT    ATACTTCG  1-5a_85\n",
       "ERA-T1_1-2b_170          1-A          1-1    ATCGTACG    AACTCTCG 1-2b_170\n",
       "ERA-T1_1-4b_0            1-C          1-4    TAGCGAGT    CAGTGAGT   1-4b_0\n",
       "                TimePoint Rep Row Pos Fert PlotIndex   Plant Genotype\n",
       "ERA-T0_2-2c_0          T0   2   2   c    0        79 P1151HR  P1151HR\n",
       "ERA-T2_3-1d_85         T2   3   1   d   85       130   34M95    34M95\n",
       "ERA-T1_3-5c_170        T1   3   5   c  170       177     330      330\n",
       "ERA-T2_1-5a_85         T2   1   5   a   85        49    Bare     Bare\n",
       "ERA-T1_1-2b_170        T1   1   2   b  170        16     330      330\n",
       "ERA-T1_1-4b_0          T1   1   4   b    0        42   34M95    34M95\n",
       "                SeedTreatment R_Year ERA BG_activity.g BX_activity.g\n",
       "ERA-T0_2-2c_0         Treated   2011   3      69.62831      16.06054\n",
       "ERA-T2_3-1d_85        Treated   2001   3     118.34208      15.36496\n",
       "ERA-T1_3-5c_170       Treated   1939   1      74.45039      21.77484\n",
       "ERA-T2_1-5a_85                    NA  NA      43.31686      11.52797\n",
       "ERA-T1_1-2b_170       Treated   1939   1      96.79331      21.01421\n",
       "ERA-T1_1-4b_0         Treated   2001   3      63.29524      17.04118\n",
       "                CB_activity.g LAP_activity.g NAG_activity.g    Stage kgdw_ha\n",
       "ERA-T0_2-2c_0        14.87243      124.05774      10.995909 Planting      NA\n",
       "ERA-T2_3-1d_85       18.47109      112.59693      20.604202       R1 10873.5\n",
       "ERA-T1_3-5c_170      22.76533       51.22149      20.166138       V6   301.5\n",
       "ERA-T2_1-5a_85       13.50582      207.03002       9.706186       R1      NA\n",
       "ERA-T1_1-2b_170      21.70019       46.58059      20.246058       V6   269.4\n",
       "ERA-T1_1-4b_0        13.62927       35.16869      16.516824       V6   291.6\n",
       "                FracN.leco FracC.leco     kgN_ha        RGR        AGR\n",
       "ERA-T0_2-2c_0           NA         NA         NA         NA         NA\n",
       "ERA-T2_3-1d_85    0.012280    0.44145 133.526580 0.07679324 306.648387\n",
       "ERA-T1_3-5c_170   0.025878    0.41664   7.802217 0.06068723   7.891667\n",
       "ERA-T2_1-5a_85          NA         NA         NA         NA         NA\n",
       "ERA-T1_1-2b_170   0.032903    0.40984   8.864068 0.05829207   7.000000\n",
       "ERA-T1_1-4b_0     0.018950    0.41287   5.525820 0.05997687   7.616667\n",
       "                    Nprod      NupR     d15N X15N_AtPercent      FracN\n",
       "ERA-T0_2-2c_0          NA        NA       NA             NA         NA\n",
       "ERA-T2_3-1d_85  2.2965344 3.5288531 402.5888      0.5130163 0.01223815\n",
       "ERA-T1_3-5c_170 1.0114646 0.1598961       NA             NA         NA\n",
       "ERA-T2_1-5a_85         NA        NA       NA             NA         NA\n",
       "ERA-T1_1-2b_170 0.7897051 0.1824887       NA             NA         NA\n",
       "ERA-T1_1-4b_0   1.3783776 0.1114621       NA             NA         NA\n",
       "                FracN_fromSoil FracN_fromFert kgFertN_ha kgSoilN_ha\n",
       "ERA-T0_2-2c_0               NA             NA         NA         NA\n",
       "ERA-T2_3-1d_85       0.7789229      0.2210771   29.41906   103.6524\n",
       "ERA-T1_3-5c_170             NA             NA         NA         NA\n",
       "ERA-T2_1-5a_85              NA             NA         NA         NA\n",
       "ERA-T1_1-2b_170             NA             NA         NA         NA\n",
       "ERA-T1_1-4b_0               NA             NA         NA         NA\n"
      ]
     },
     "metadata": {},
     "output_type": "display_data"
    }
   ],
   "source": [
    "%%R\n",
    "head(sample_data(physeq.era))"
   ]
  },
  {
   "cell_type": "code",
   "execution_count": 19,
   "metadata": {
    "collapsed": false
   },
   "outputs": [
    {
     "data": {
      "text/plain": [
       "        X.sampleID TubeID ExtractionPlate PooledDNAPlate Sample.Well.ID\n",
       "1  ERA-T3_1-3c_170    566            ERA1              A             D4\n",
       "2    ERA-T3_3-1c_0    558            ERA4              B             D2\n",
       "3  ERA-T3_3-4c_170    608            ERA4              B             F6\n",
       "4  ERA-T3_2-5a_170    557            ERA3              C             F1\n",
       "5  ERA-T3_3-1a_170    572            ERA4              B             G4\n",
       "6   ERA-T3_2-2b_85    568            ERA3              C             E1\n",
       "7   ERA-T3_4-1b_85    550            ERA5              B            E12\n",
       "8    ERA-T3_2-5a_0    556            ERA2              A            G11\n",
       "9    ERA-T3_1-4a_0    541            ERA1              A             D6\n",
       "10   ERA-T3_1-2d_0    601            ERA1              A             C5\n",
       "11  ERA-T3_2-5a_85    555            ERA2              A            B11\n",
       "12 ERA-T3_1-4a_170    542            ERA1              A             F3\n",
       "13   ERA-T3_1-2c_0    552            ERA1              A             G4\n",
       "14  ERA-T3_1-2d_85    600            ERA1              A             G5\n",
       "15  ERA-T3_1-2c_85    553            ERA2              A             D7\n",
       "16   ERA-T3_1-3c_0    564            ERA1              A             F5\n",
       "17  ERA-T3_3-1a_85    570            ERA4              B             H3\n",
       "18   ERA-T3_2-5c_0    543            ERA2              A             G7\n",
       "19 ERA-T3_1-2c_170    554            ERA1              A             E2\n",
       "20   ERA-T3_3-1d_0    583            ERA4              B             G6\n",
       "21   ERA-T3_2-3d_0    532            ERA2              A             A8\n",
       "22 ERA-T3_3-3a_170    548            ERA4              B             A5\n",
       "23   ERA-T3_4-5b_0    587            ERA5              B             D7\n",
       "24 ERA-T3_2-3d_170    533            ERA2              A            G12\n",
       "25 ERA-T3_2-2c_170    605            ERA2              A            B12\n",
       "26 ERA-T3_4-4a_170    563            ERA5              B            F11\n",
       "27  ERA-T3_1-3c_85    565            ERA1              A             A6\n",
       "28  ERA-T3_3-3a_85    546            ERA4              B             H5\n",
       "29   ERA-T3_2-2d_0    580            ERA3              C             C1\n",
       "30   ERA-T3_3-1a_0    571            ERA4              B             H6\n",
       "31   ERA-T3_3-3a_0    547            ERA4              B             F4\n",
       "32  ERA-T3_2-2c_85    604            ERA2              A            E11\n",
       "33 ERA-T3_4-5b_170    585            ERA5              B            D10\n",
       "34   ERA-T3_3-5c_0    534            ERA4              B             G5\n",
       "35  ERA-T3_3-1d_85    582            ERA4              B             H4\n",
       "36 ERA-T3_4-3b_170    537            ERA5              B             H9\n",
       "37 ERA-T3_2-5c_170    545            ERA2              A            H10\n",
       "38  ERA-T3_3-5c_85    535            ERA4              B             A1\n",
       "39   ERA-T3_4-1b_0    551            ERA5              B             G8\n",
       "40   ERA-T3_1-2b_0    530            ERA1              A             C1\n",
       "41  ERA-T3_3-4c_85    607            ERA3              C            H11\n",
       "42  ERA-T3_4-5b_85    586            ERA5              B            F10\n",
       "43 ERA-T3_3-1c_170    560            ERA3              C             D3\n",
       "44 ERA-T3_2-2d_170    581            ERA3              C             G1\n",
       "45 ERA-T3_4-1b_170    549            ERA5              B             A9\n",
       "46   ERA-T3_2-2c_0    603            ERA2              A             A9\n",
       "47  ERA-T3_3-1c_85    559            ERA4              B             E2\n",
       "48 ERA-T3_2-2b_170    567            ERA2              A            E12\n",
       "49   ERA-T3_1-4b_0    578            ERA1              A             B2\n",
       "50 ERA-T3_1-2b_170    528            ERA2              A             E7\n",
       "51  ERA-T3_2-5c_85    544            ERA2              A            B10\n",
       "52  ERA-T3_4-2c_85    574            ERA5              B             B9\n",
       "53   ERA-T3_2-2b_0    569            ERA2              A            H11\n",
       "54 ERA-T3_1-2d_170    602            ERA1              A             E1\n",
       "55  ERA-T3_2-2d_85    579            ERA2              A             B8\n",
       "56 ERA-T3_3-1d_170    584            ERA4              B             C5\n",
       "57   ERA-T3_4-4a_0    562            ERA5              B             A7\n",
       "58 ERA-T3_1-4b_170    576            ERA1              A             G6\n",
       "59   ERA-T3_3-4c_0    606            ERA3              C             C3\n",
       "60  ERA-T3_1-2b_85    529            ERA2              A             B7\n",
       "61  ERA-T3_1-4b_85    577            ERA1              A             G3\n",
       "62 ERA-T3_4-2c_170    575            ERA5              B             E8\n",
       "63   ERA-T3_4-1a_0    611            ERA5              B            G10\n",
       "64  ERA-T3_4-3b_85    538            ERA5              B            A10\n",
       "65  ERA-T3_4-4a_85    561            ERA5              B            H10\n",
       "66  ERA-T3_2-3d_85    531            ERA2              A            F10\n",
       "67 ERA-T3_3-5c_170    536            ERA4              B             C2\n",
       "68  ERA-T3_4-1a_85    609            ERA5              B             H7\n",
       "69  ERA-T3_1-4a_85    540            ERA2              A             A7\n",
       "70   ERA-T3_4-2c_0    573            ERA5              B            D11\n",
       "71   ERA-T3_4-3b_0    539            ERA5              B            C11\n",
       "72 ERA-T3_4-1a_170    610            ERA5              B            B11\n",
       "   PrimerPlate Primer.Number Primer.Well.ID  X primerFwdLoc primerRevLoc\n",
       "1            1            28             D4 NA          1-D          1-4\n",
       "2            2            12             D2 NA          2-D          2-2\n",
       "3            2            46             F6 NA          2-F          2-6\n",
       "4            3             6             F1 NA          3-F          3-1\n",
       "5            2            31             G4 NA          2-G          2-4\n",
       "6            3             5             E1 NA          3-E          3-1\n",
       "7            2            93            E12 NA          2-E         2-12\n",
       "8            1            87            G11 NA          1-G         1-11\n",
       "9            1            44             D6 NA          1-D          1-6\n",
       "10           1            35             C5 NA          1-C          1-5\n",
       "11           1            82            B11 NA          1-B         1-11\n",
       "12           1            22             F3 NA          1-F          1-3\n",
       "13           1            31             G4 NA          1-G          1-4\n",
       "14           1            39             G5 NA          1-G          1-5\n",
       "15           1            52             D7 NA          1-D          1-7\n",
       "16           1            38             F5 NA          1-F          1-5\n",
       "17           2            24             H3 NA          2-H          2-3\n",
       "18           1            55             G7 NA          1-G          1-7\n",
       "19           1            13             E2 NA          1-E          1-2\n",
       "20           2            47             G6 NA          2-G          2-6\n",
       "21           1            57             A8 NA          1-A          1-8\n",
       "22           2            33             A5 NA          2-A          2-5\n",
       "23           2            52             D7 NA          2-D          2-7\n",
       "24           1            95            G12 NA          1-G         1-12\n",
       "25           1            90            B12 NA          1-B         1-12\n",
       "26           2            86            F11 NA          2-F         2-11\n",
       "27           1            41             A6 NA          1-A          1-6\n",
       "28           2            40             H5 NA          2-H          2-5\n",
       "29           3             3             C1 NA          3-C          3-1\n",
       "30           2            48             H6 NA          2-H          2-6\n",
       "31           2            30             F4 NA          2-F          2-4\n",
       "32           1            85            E11 NA          1-E         1-11\n",
       "33           2            76            D10 NA          2-D         2-10\n",
       "34           2            39             G5 NA          2-G          2-5\n",
       "35           2            32             H4 NA          2-H          2-4\n",
       "36           2            72             H9 NA          2-H          2-9\n",
       "37           1            80            H10 NA          1-H         1-10\n",
       "38           2             1             A1 NA          2-A          2-1\n",
       "39           2            63             G8 NA          2-G          2-8\n",
       "40           1             3             C1 NA          1-C          1-1\n",
       "41           3            56             H7 NA          3-H          3-7\n",
       "42           2            78            F10 NA          2-F         2-10\n",
       "43           3            12             D2 NA          3-D          3-2\n",
       "44           3             7             G1 NA          3-G          3-1\n",
       "45           2            65             A9 NA          2-A          2-9\n",
       "46           1            65             A9 NA          1-A          1-9\n",
       "47           2            13             E2 NA          2-E          2-2\n",
       "48           1            93            E12 NA          1-E         1-12\n",
       "49           1            10             B2 NA          1-B          1-2\n",
       "50           1            53             E7 NA          1-E          1-7\n",
       "51           1            74            B10 NA          1-B         1-10\n",
       "52           2            66             B9 NA          2-B          2-9\n",
       "53           1            88            H11 NA          1-H         1-11\n",
       "54           1             5             E1 NA          1-E          1-1\n",
       "55           1            58             B8 NA          1-B          1-8\n",
       "56           2            35             C5 NA          2-C          2-5\n",
       "57           2            49             A7 NA          2-A          2-7\n",
       "58           1            47             G6 NA          1-G          1-6\n",
       "59           3            11             C2 NA          3-C          3-2\n",
       "60           1            50             B7 NA          1-B          1-7\n",
       "61           1            23             G3 NA          1-G          1-3\n",
       "62           2            61             E8 NA          2-E          2-8\n",
       "63           2            79            G10 NA          2-G         2-10\n",
       "64           2            73            A10 NA          2-A         2-10\n",
       "65           2            80            H10 NA          2-H         2-10\n",
       "66           1            78            F10 NA          1-F         1-10\n",
       "67           2            11             C2 NA          2-C          2-2\n",
       "68           2            56             H7 NA          2-H          2-7\n",
       "69           1            49             A7 NA          1-A          1-7\n",
       "70           2            84            D11 NA          2-D         2-11\n",
       "71           2            83            C11 NA          2-C         2-11\n",
       "72           2            82            B11 NA          2-B         2-11\n",
       "   fwd_barcode rev_barcode   PlotID TimePoint Rep Row Pos Fert PlotIndex\n",
       "1     CTGCGTGT    CAGTGAGT 1-3c_170        T3   1   3   c  170        33\n",
       "2     TACGAGAC    ACTATGTC   3-1c_0        T3   3   1   c    0       127\n",
       "3     TCGACGAG    CTACGCAG 3-4c_170        T3   3   4   c  170       165\n",
       "4     CGTGAGTG    AAGTCGAG 2-5a_170        T3   2   5   a  170       111\n",
       "5     GATCGTGT    CAGTGAGT 3-1a_170        T3   3   1   a  170       123\n",
       "6     TCATCGAG    AAGTCGAG  2-2b_85        T3   2   2   b   85        77\n",
       "7     ACGTCTCG    TCGCTATA  4-1b_85        T3   4   1   b   85       185\n",
       "8     GGATATCT    TCATAGAC   2-5a_0        T3   2   5   a    0       110\n",
       "9     CTGCGTGT    CTACGCAG   1-4a_0        T3   1   4   a    0        38\n",
       "10    TAGCGAGT    CGTACTCA   1-2d_0        T3   1   2   d    0        23\n",
       "11    ACTATCTG    TCATAGAC  2-5a_85        T3   2   5   a   85       109\n",
       "12    CGTGAGTG    AGTAGCGT 1-4a_170        T3   1   4   a  170        39\n",
       "13    GGATATCT    CAGTGAGT   1-2c_0        T3   1   2   c    0        19\n",
       "14    GGATATCT    CGTACTCA  1-2d_85        T3   1   2   d   85        22\n",
       "15    CTGCGTGT    GGAGACTA  1-2c_85        T3   1   2   c   85        20\n",
       "16    CGTGAGTG    CGTACTCA   1-3c_0        T3   1   3   c    0        31\n",
       "17    GTCAGATA    AGTAGCGT  3-1a_85        T3   3   1   a   85       121\n",
       "18    GGATATCT    GGAGACTA   2-5c_0        T3   2   5   c    0       115\n",
       "19    TCATCGAG    ACTATGTC 1-2c_170        T3   1   2   c  170        21\n",
       "20    GATCGTGT    CTACGCAG   3-1d_0        T3   3   1   d    0       131\n",
       "21    ATCGTACG    GTCGCTCG   2-3d_0        T3   2   3   d    0        95\n",
       "22    CTACTATA    CGTACTCA 3-3a_170        T3   3   3   a  170       147\n",
       "23    TACGAGAC    GGAGACTA   4-5b_0        T3   4   5   b    0       234\n",
       "24    GGATATCT    TCGCTATA 2-3d_170        T3   2   3   d  170        96\n",
       "25    ACTATCTG    TCGCTATA 2-2c_170        T3   2   2   c  170        81\n",
       "26    TCGACGAG    TCATAGAC 4-4a_170        T3   4   4   a  170       219\n",
       "27    ATCGTACG    CTACGCAG  1-3c_85        T3   1   3   c   85        32\n",
       "28    GTCAGATA    CGTACTCA  3-3a_85        T3   3   3   a   85       145\n",
       "29    TAGCGAGT    AAGTCGAG   2-2d_0        T3   2   2   d    0        83\n",
       "30    GTCAGATA    CTACGCAG   3-1a_0        T3   3   1   a    0       122\n",
       "31    TCGACGAG    CAGTGAGT   3-3a_0        T3   3   3   a    0       146\n",
       "32    TCATCGAG    TCATAGAC  2-2c_85        T3   2   2   c   85        80\n",
       "33    TACGAGAC    TAGCAGAC 4-5b_170        T3   4   5   b  170       232\n",
       "34    GATCGTGT    CGTACTCA   3-5c_0        T3   3   5   c    0       175\n",
       "35    GTCAGATA    CAGTGAGT  3-1d_85        T3   3   1   d   85       130\n",
       "36    GTCAGATA    GTCGTAGT 4-3b_170        T3   4   3   b  170       208\n",
       "37    GACACCGT    TAGCAGAC 2-5c_170        T3   2   5   c  170       117\n",
       "38    CTACTATA    AACTCTCG  3-5c_85        T3   3   5   c   85       176\n",
       "39    GATCGTGT    GTCGCTCG   4-1b_0        T3   4   1   b    0       186\n",
       "40    TAGCGAGT    AACTCTCG   1-2b_0        T3   1   2   b    0        18\n",
       "41    GACACCGT    GCGCACGT  3-4c_85        T3   3   4   c   85       164\n",
       "42    TCGACGAG    TAGCAGAC  4-5b_85        T3   4   5   b   85       233\n",
       "43    CTGCGTGT    ATACTTCG 3-1c_170        T3   3   1   c  170       129\n",
       "44    GGATATCT    AAGTCGAG 2-2d_170        T3   2   2   d  170        84\n",
       "45    CTACTATA    GTCGTAGT 4-1b_170        T3   4   1   b  170       184\n",
       "46    ATCGTACG    GTCGTAGT   2-2c_0        T3   2   2   c    0        79\n",
       "47    ACGTCTCG    ACTATGTC  3-1c_85        T3   3   1   c   85       128\n",
       "48    TCATCGAG    TCGCTATA 2-2b_170        T3   2   2   b  170        76\n",
       "49    ACTATCTG    ACTATGTC   1-4b_0        T3   1   4   b    0        42\n",
       "50    TCATCGAG    GGAGACTA 1-2b_170        T3   1   2   b  170        16\n",
       "51    ACTATCTG    TAGCAGAC  2-5c_85        T3   2   5   c   85       116\n",
       "52    CGTTACTA    GTCGTAGT  4-2c_85        T3   4   2   c   85       200\n",
       "53    GACACCGT    TCATAGAC   2-2b_0        T3   2   2   b    0        78\n",
       "54    TCATCGAG    AACTCTCG 1-2d_170        T3   1   2   d  170        24\n",
       "55    ACTATCTG    GTCGCTCG  2-2d_85        T3   2   2   d   85        82\n",
       "56    AGAGTCAC    CGTACTCA 3-1d_170        T3   3   1   d  170       132\n",
       "57    CTACTATA    GGAGACTA   4-4a_0        T3   4   4   a    0       218\n",
       "58    GGATATCT    CTACGCAG 1-4b_170        T3   1   4   b  170        40\n",
       "59    TAGCGAGT    ATACTTCG   3-4c_0        T3   3   4   c    0       163\n",
       "60    ACTATCTG    GGAGACTA  1-2b_85        T3   1   2   b   85        17\n",
       "61    GGATATCT    AGTAGCGT  1-4b_85        T3   1   4   b   85        41\n",
       "62    ACGTCTCG    GTCGCTCG 4-2c_170        T3   4   2   c  170       201\n",
       "63    GATCGTGT    TAGCAGAC   4-1a_0        T3   4   1   a    0       183\n",
       "64    CTACTATA    TAGCAGAC  4-3b_85        T3   4   3   b   85       209\n",
       "65    GTCAGATA    TAGCAGAC  4-4a_85        T3   4   4   a   85       217\n",
       "66    CGTGAGTG    TAGCAGAC  2-3d_85        T3   2   3   d   85        94\n",
       "67    AGAGTCAC    ACTATGTC 3-5c_170        T3   3   5   c  170       177\n",
       "68    GTCAGATA    GGAGACTA  4-1a_85        T3   4   1   a   85       181\n",
       "69    ATCGTACG    GGAGACTA  1-4a_85        T3   1   4   a   85        37\n",
       "70    TACGAGAC    TCATAGAC   4-2c_0        T3   4   2   c    0       199\n",
       "71    AGAGTCAC    TCATAGAC   4-3b_0        T3   4   3   b    0       210\n",
       "72    CGTTACTA    TCATAGAC 4-1a_170        T3   4   1   a  170       182\n",
       "     Plant Genotype SeedTreatment R_Year ERA BG_activity.g BX_activity.g\n",
       "1     3517     3517       Treated   1971   2     137.70346      35.49324\n",
       "2     3475     3475       Treated   1984   2      78.48752      22.13086\n",
       "3  P1151HR  P1151HR       Treated   2011   3     140.01955      32.17374\n",
       "4     3475     3475       Treated   1984   2      93.57802      21.16112\n",
       "5     3517     3517       Treated   1971   2     124.65086      38.64837\n",
       "6     3517     3517       Treated   1971   2     105.68781      39.52110\n",
       "7      354      354       Treated   1953   1      98.72871      25.13351\n",
       "8     3475     3475       Treated   1984   2      43.35953      14.74930\n",
       "9      354      354       Treated   1953   1      74.32260      18.69445\n",
       "10 P1151HR  P1151HR       Treated   2011   3      97.95364      28.70560\n",
       "11    3475     3475       Treated   1984   2      86.90080      26.08306\n",
       "12     354      354       Treated   1953   1     110.18393      27.49292\n",
       "13    3475     3475       Treated   1984   2     122.87714      29.81499\n",
       "14 P1151HR  P1151HR       Treated   2011   3      69.89936      21.62577\n",
       "15    3475     3475       Treated   1984   2      85.94895      25.46509\n",
       "16    3517     3517       Treated   1971   2      78.89075      28.67969\n",
       "17    3517     3517       Treated   1971   2      87.84578      27.70710\n",
       "18     354      354       Treated   1953   1      83.52695      19.35486\n",
       "19    3475     3475       Treated   1984   2     122.44729      29.78627\n",
       "20   34M95    34M95       Treated   2001   3      95.91909      22.24576\n",
       "21     330      330       Treated   1939   1     104.31322      33.24186\n",
       "22     354      354       Treated   1953   1     108.45928      27.15461\n",
       "23   34M95    34M95       Treated   2001   3     100.09228      29.66261\n",
       "24     330      330       Treated   1939   1     110.79352      33.56169\n",
       "25 P1151HR  P1151HR       Treated   2011   3      97.89816      27.17950\n",
       "26    3475     3475       Treated   1984   2      89.80098      26.93370\n",
       "27    3517     3517       Treated   1971   2      97.72354      23.96071\n",
       "28     354      354       Treated   1953   1      85.90602      25.19350\n",
       "29   34M95    34M95       Treated   2001   3      92.00869      22.74876\n",
       "30    3517     3517       Treated   1971   2      88.44647      28.93293\n",
       "31     354      354       Treated   1953   1      91.21338      29.86833\n",
       "32 P1151HR  P1151HR       Treated   2011   3     121.07432      37.29453\n",
       "33   34M95    34M95       Treated   2001   3     153.19322      33.18853\n",
       "34     330      330       Treated   1939   1     111.10707      29.77588\n",
       "35   34M95    34M95       Treated   2001   3      92.95870      24.39744\n",
       "36     330      330       Treated   1939   1      94.77465      24.39402\n",
       "37     354      354       Treated   1953   1     108.06298      39.98682\n",
       "38     330      330       Treated   1939   1      81.67696      25.65155\n",
       "39     354      354       Treated   1953   1     132.60191      37.99274\n",
       "40     330      330       Treated   1939   1     100.18997      25.99066\n",
       "41 P1151HR  P1151HR       Treated   2011   3      96.52598      29.60903\n",
       "42   34M95    34M95       Treated   2001   3     108.07973      27.73230\n",
       "43    3475     3475       Treated   1984   2     103.64617      31.04874\n",
       "44   34M95    34M95       Treated   2001   3      83.37839      22.79158\n",
       "45     354      354       Treated   1953   1      98.97135      28.37440\n",
       "46 P1151HR  P1151HR       Treated   2011   3      65.80624      20.52897\n",
       "47    3475     3475       Treated   1984   2      87.91716      24.32274\n",
       "48    3517     3517       Treated   1971   2      67.23998      20.34741\n",
       "49   34M95    34M95       Treated   2001   3      79.30391      20.36724\n",
       "50     330      330       Treated   1939   1     123.38978      30.13991\n",
       "51     354      354       Treated   1953   1      93.92714      30.17110\n",
       "52    3517     3517       Treated   1971   2     158.41982      39.24214\n",
       "53    3517     3517       Treated   1971   2      78.15526      20.35637\n",
       "54 P1151HR  P1151HR       Treated   2011   3      82.25222      24.89637\n",
       "55   34M95    34M95       Treated   2001   3      85.71752      23.85807\n",
       "56   34M95    34M95       Treated   2001   3     113.82190      28.35870\n",
       "57    3475     3475       Treated   1984   2      80.12816      22.83886\n",
       "58   34M95    34M95       Treated   2001   3     102.96722      34.11889\n",
       "59 P1151HR  P1151HR       Treated   2011   3     135.67347      40.07519\n",
       "60     330      330       Treated   1939   1     109.84328      30.73783\n",
       "61   34M95    34M95       Treated   2001   3      89.58990      22.74405\n",
       "62    3517     3517       Treated   1971   2      84.57769      26.04576\n",
       "63 P1151HR  P1151HR       Treated   2011   3      99.30826      25.11610\n",
       "64     330      330       Treated   1939   1     100.25183      24.27399\n",
       "65    3475     3475       Treated   1984   2      83.82872      24.21358\n",
       "66     330      330       Treated   1939   1     106.54452      39.50057\n",
       "67     330      330       Treated   1939   1      94.41679      26.39047\n",
       "68 P1151HR  P1151HR       Treated   2011   3      94.08654      27.84018\n",
       "69     354      354       Treated   1953   1     102.51403      26.03077\n",
       "70    3517     3517       Treated   1971   2      90.08872      23.22944\n",
       "71     330      330       Treated   1939   1      96.56302      23.00737\n",
       "72 P1151HR  P1151HR       Treated   2011   3      89.81676      21.72173\n",
       "   CB_activity.g LAP_activity.g NAG_activity.g Stage kgdw_ha FracN.leco\n",
       "1       34.75688       239.8700       36.71816    R3   13227 0.00852470\n",
       "2       22.79175       173.4746       33.02688    R3   12513 0.00618460\n",
       "3       41.87879       215.6237       53.04651    R3   13221 0.00806600\n",
       "4       19.19853       146.9921       20.57105    R3   12918 0.00920930\n",
       "5       48.15846       212.4546       48.32679    R3   13902 0.00934750\n",
       "6       39.23955       255.9185       26.21044    R3   11754 0.00932940\n",
       "7       30.17410       227.3327       24.49405    R3    9603 0.00734450\n",
       "8       10.53877       166.3264       14.29337    R3    4809 0.00548500\n",
       "9       21.25639       204.1834       17.03659    R3    6786 0.00610640\n",
       "10      24.23353       211.7741       19.30906    R3    9771 0.00594240\n",
       "11      19.71749       198.1861       24.57937    R3    9444 0.00632570\n",
       "12      25.95872       229.1065       26.26653    R3   13947 0.00917420\n",
       "13      31.77334       193.3270       27.17185    R3    5016 0.00639590\n",
       "14      15.34162       192.4160       23.95689    R3   12156 0.00832730\n",
       "15      17.72581       214.7536       20.07166    R3    8466 0.00703490\n",
       "16      20.18927       248.1480       14.86111    R3    4845 0.00623840\n",
       "17      27.00318       208.7838       25.85229    R3   12981 0.00705150\n",
       "18      17.45855       163.8572       23.52244    R3    6297 0.00646200\n",
       "19      34.33706       230.1577       36.04491    R3    9735 0.00777080\n",
       "20      31.33910       148.7761       35.81542    R3   11142 0.00577410\n",
       "21      37.15486       211.7653       29.04613    R3    5958 0.00574500\n",
       "22      30.44349       196.5322       30.87547    R3   10833 0.00823800\n",
       "23      29.48503       216.1455       25.78940    R3    9291 0.00697650\n",
       "24      33.95914       194.2067       32.91473    R3    9405 0.00931850\n",
       "25      30.40978       210.3126       27.39771    R3   13761 0.01112300\n",
       "26      29.45031       199.7116       36.42863    R3   17961 0.01069100\n",
       "27      22.19016       206.6468       22.86600    R3    8616 0.00664680\n",
       "28      22.55732       208.2221       25.29026    R3   11595 0.00748800\n",
       "29      27.99652       180.2842       23.64306    R3   10170 0.00623700\n",
       "30      25.20262       189.0294       29.45457    R3    8202 0.00632670\n",
       "31      28.10020       195.5818       30.94581    R3    6183 0.00651610\n",
       "32      36.94764       230.2774       34.27870    R3    8472 0.00784540\n",
       "33      41.66629       244.2621       35.50504    R3   15255 0.00877500\n",
       "34      34.45305       195.5917       32.10248    R3    5052 0.00625200\n",
       "35      25.06549       169.7722       24.47916    R3   17595 0.00802980\n",
       "36      29.21953       194.0688       38.56281    R3   11604 0.00976290\n",
       "37      33.98168       228.1862       25.83384    R3   11529 0.00997240\n",
       "38      23.84237       211.0370       28.85873    R3    9876 0.00856710\n",
       "39      44.59597       224.1397       42.76167    R3    7221 0.00607370\n",
       "40      25.59635       232.7642       28.05134    R3    3993 0.00546210\n",
       "41      30.67532       196.7295       31.06333    R3   10581 0.00840010\n",
       "42      33.35838       202.8218       40.18785    R3   11670 0.00779120\n",
       "43      30.23344       197.3824       33.72783    R3   16041 0.00986460\n",
       "44      24.87914       184.9264       22.20709    R3   15597 0.00900300\n",
       "45      28.30748       222.7300       30.60269    R3   10797 0.00909160\n",
       "46      16.73801       201.2635       21.33601    R3    6405 0.00641175\n",
       "47      20.54803       184.5332       32.97663    R3    9240 0.00716560\n",
       "48      15.56232       221.9007       14.71117    R3   12903 0.00946700\n",
       "49      16.91163       179.5860       25.78973    R3    9462 0.00647770\n",
       "50      33.29763       219.5504       35.55785    R3    8172 0.00929330\n",
       "51      26.36586       198.3458       25.20220    R3    9780 0.00815290\n",
       "52      43.15131       231.5591       36.35725    R3    8487 0.00742250\n",
       "53      24.36826       216.6759       29.81161    R3    5799 0.00628940\n",
       "54      18.27395       198.1050       24.50423    R3   12417 0.00864080\n",
       "55      26.02678       171.7418       24.63177    R3   14331 0.00716070\n",
       "56      43.41403       165.3770       50.51436    R3   13023 0.00901220\n",
       "57      22.76421       229.2406       22.89231    R3    7359 0.00646180\n",
       "58      29.48906       245.7134       22.76916    R3   13242 0.00845930\n",
       "59      50.12020       193.3681       49.11962    R3   11313 0.00731000\n",
       "60      22.81705       238.2063       26.13780    R3    8829 0.00880070\n",
       "61      25.43944       210.7009       20.80159    R3   10038 0.00775580\n",
       "62      24.26900       212.9520       23.03383    R3   13947         NA\n",
       "63      26.65351       192.0203       32.21499    R3    5286 0.00745180\n",
       "64      29.74324       190.3942       35.48290    R3   11979 0.00754030\n",
       "65      27.50630       228.3921       26.93492    R3   16662 0.00698910\n",
       "66      35.66397       243.4007       37.33738    R3    9504 0.00771040\n",
       "67      28.79327       203.5306       35.43609    R3   10656 0.01124800\n",
       "68      32.08313       231.8874       31.05650    R3   10584 0.00887810\n",
       "69      27.91100       208.8781       23.32548    R3    9786 0.00646630\n",
       "70      26.08267       197.2792       25.16800    R3    5880 0.00761780\n",
       "71      22.87655       148.9413       33.35304    R3    3438 0.00609050\n",
       "72      27.70108       182.8578       34.33381    R3   13308 0.01004300\n",
       "   FracC.leco     kgN_ha           RGR        AGR       Nprod       NupR d15N\n",
       "1    0.437110  5.2043294  0.0314922334 313.382609  60.2157526 -3.0101727   NA\n",
       "2    0.435300  4.4399243  0.0269471352 266.673913  60.0627156 -2.1126690   NA\n",
       "3    0.432960  4.6726338  0.0187402853 215.021739  46.0172460 -4.5377431   NA\n",
       "4    0.437970  3.6634595  0.0288182338 288.391304  78.7210289 -3.0935048   NA\n",
       "5    0.434370  6.5142727  0.0201877706 239.543478  36.7720984 -3.4361575   NA\n",
       "6    0.439760  2.8967787  0.0315699557 278.934783  96.2913676 -1.9278134   NA\n",
       "7    0.434210  1.9808116  0.0245212953 191.347826  96.6007172 -2.1940415   NA\n",
       "8    0.427080  1.3443735  0.0019428739   9.913043   7.3737272 -1.6756992   NA\n",
       "9    0.428680  1.7696347  0.0365765451 176.804348  99.9100808 -0.9415648   NA\n",
       "10   0.432370  3.6456624  0.0183725949 156.456522  42.9158009 -1.5237113   NA\n",
       "11   0.437080  2.0704016  0.0120703120 106.956522  51.6597945 -2.9960105   NA\n",
       "12   0.436190  4.1724262  0.0252649841 283.956522  68.0554936 -3.5873788   NA\n",
       "13   0.427670  1.2817384  0.0292621931 113.152174  88.2802430 -0.8605556   NA\n",
       "14   0.436400  3.5549244  0.0332764046 298.500000  83.9680311 -2.0349496   NA\n",
       "15   0.435440  1.3422589  0.0199329744 144.456522 107.6219495 -2.1985454   NA\n",
       "16   0.430030  1.7592288  0.0035187509  17.739130  10.0834698 -1.4655605   NA\n",
       "17   0.430280  4.8591887  0.0232277513 248.608696  51.1625939 -2.1018444   NA\n",
       "18   0.430590  2.5705836  0.0065041203  41.086957  15.9835131 -2.0157552   NA\n",
       "19   0.436580  2.6459574  0.0116513530 106.956522  40.4226167 -3.4074047   NA\n",
       "20   0.435760  5.5829773  0.0174572966 171.326087  30.6872262 -0.9059049   NA\n",
       "21   0.429400  3.9313035  0.0119528571  66.913043  17.0205743 -1.2092441   NA\n",
       "22   0.438750  7.9752078  0.0220550597 199.630435  25.0313772 -2.7775247   NA\n",
       "23   0.433680  3.8573069  0.0338854571 230.804348  59.8356202 -1.0081676   NA\n",
       "24   0.438570  2.6445903  0.0292340282 212.021739  80.1718660 -2.6412045   NA\n",
       "25   0.437820  4.0810287  0.0351497683 349.826087  85.7200752 -3.5432793   NA\n",
       "26   0.436210 14.1570222  0.0283860571 396.847826  28.0318714 -4.0084121   NA\n",
       "27   0.433535  2.9751077  0.0203912640 149.608696  50.2868171 -1.7734518   NA\n",
       "28   0.433580  4.6590336  0.0224040411 216.195652  46.4035400 -2.5423736   NA\n",
       "29   0.431400  5.9407425  0.0110458446 106.695652  17.9599860 -2.7036786   NA\n",
       "30   0.429250  2.4237588  0.0262325336 171.521739  70.7668359 -0.8595805   NA\n",
       "31   0.419380  1.4954449  0.0294916091 140.217391  93.7629909 -0.9393709   NA\n",
       "32   0.435130  2.4336431  0.0160207940 121.565217  49.9519500 -2.8160316   NA\n",
       "33   0.435720 11.5619400  0.0290534781 342.456522  29.6192959 -3.2356266   NA\n",
       "34   0.424820  1.2247668  0.0103369244  50.021739  40.8418477 -1.5793394   NA\n",
       "35   0.436750 10.9799485  0.0192514454 292.239130  26.6157104 -4.9018653   NA\n",
       "36   0.433300  2.9786608  0.0325796543 281.086957  94.3668905 -2.5212718   NA\n",
       "37   0.440970  5.6214419  0.0174472752 177.195652  31.5213883 -3.9836866   NA\n",
       "38   0.432370  1.6268923  0.0263641552 207.260870 127.3967987 -2.2836338   NA\n",
       "39   0.432670  2.3140797  0.0199293543 123.195652  53.2374283 -2.1527838   NA\n",
       "40   0.423540  0.8438944  0.0354599415 102.065217 120.9454777 -0.6942792   NA\n",
       "41   0.433940  5.1433812  0.0190162082 174.065217  33.8425657 -3.0180291   NA\n",
       "42   0.436750  6.2898358  0.0233749389 224.543478  35.6994184 -2.3471456   NA\n",
       "43   0.439230  6.8095334  0.0328422825 390.586957  57.3588431 -3.9745399   NA\n",
       "44   0.439500  4.2593193  0.0317450212 371.478261  87.2154057 -4.0083887   NA\n",
       "45   0.435460  1.6419430  0.0211695976 192.913043 117.4907096 -3.6419988   NA\n",
       "46   0.422850  1.1771973  0.0218472735 117.195652  99.5548088 -1.8714655   NA\n",
       "47   0.436280  4.3101084  0.0150728343 126.130435  29.2638660 -2.3504670   NA\n",
       "48   0.436350  4.1124648  0.0219027746 236.543478  57.5186633 -4.1133049   NA\n",
       "49   0.429900  1.8888973  0.0365281675 246.326087 130.4073463 -1.2390506   NA\n",
       "50   0.432330  2.5036150  0.0118217808  90.913043  36.3127089 -3.3509445   NA\n",
       "51   0.435470  3.0915797  0.0141969452 127.043478  41.0933864 -3.6035227   NA\n",
       "52   0.429950  2.1666277  0.0256190503 174.521739  80.5499418 -2.0117087   NA\n",
       "53   0.429570  1.7019116  0.0201683396  99.847826  58.6680435 -1.1660644   NA\n",
       "54   0.439290  4.6945466  0.0272646763 266.804348  56.8328250 -3.2315736   NA\n",
       "55   0.440220  4.7067281  0.0393981880 390.391304  82.9432453 -1.9346338   NA\n",
       "56   0.437520  7.9757970  0.0352571920 331.695652  41.5877751 -2.5717206   NA\n",
       "57   0.432150  5.4918838 -0.0001708535  -1.369565  -0.2493799 -1.8947910   NA\n",
       "58   0.439060  5.1999317  0.0326678223 321.326087  61.7942898 -2.7264130   NA\n",
       "59   0.423080  4.0351200  0.0357963465 290.869565  72.0844895 -1.5083673   NA\n",
       "60   0.434420  1.9511152  0.0338059269 219.000000 112.2435011 -1.9136655   NA\n",
       "61   0.433000  3.5226844  0.0077303929  76.695652  21.7719342 -3.3404609   NA\n",
       "62         NA         NA  0.0348967589 352.956522          NA         NA   NA\n",
       "63   0.422680  1.2317825  0.0306204163 122.934783  99.8023422 -1.0327637   NA\n",
       "64   0.432500  2.5109199  0.0296654746 272.739130 108.6211991 -2.6576154   NA\n",
       "65   0.436730  8.2506326  0.0286659068 370.630435  44.9214569 -3.1892807   NA\n",
       "66   0.439130  4.9292587  0.0215923407 172.369565  34.9686586 -2.0367992   NA\n",
       "67   0.432860  3.3912720  0.0203617671 184.826087  54.5005199 -3.6832663   NA\n",
       "68   0.434340  3.0949057  0.0308983168 247.630435  80.0122724 -3.1473924   NA\n",
       "69   0.437380  3.6877309  0.0280212732 214.304348  58.1127946 -1.7574644   NA\n",
       "70   0.429450  2.2990520  0.0230327105 111.913043  48.6779079 -0.9023373   NA\n",
       "71   0.422320  1.5567318  0.0083539324  28.173913  18.0981162 -1.1405555   NA\n",
       "72   0.437520  1.0364376  0.0241074079 261.913043 252.7050770 -4.8927241   NA\n",
       "   X15N_AtPercent FracN FracN_fromSoil FracN_fromFert kgFertN_ha kgSoilN_ha\n",
       "1              NA    NA             NA             NA         NA         NA\n",
       "2              NA    NA             NA             NA         NA         NA\n",
       "3              NA    NA             NA             NA         NA         NA\n",
       "4              NA    NA             NA             NA         NA         NA\n",
       "5              NA    NA             NA             NA         NA         NA\n",
       "6              NA    NA             NA             NA         NA         NA\n",
       "7              NA    NA             NA             NA         NA         NA\n",
       "8              NA    NA             NA             NA         NA         NA\n",
       "9              NA    NA             NA             NA         NA         NA\n",
       "10             NA    NA             NA             NA         NA         NA\n",
       "11             NA    NA             NA             NA         NA         NA\n",
       "12             NA    NA             NA             NA         NA         NA\n",
       "13             NA    NA             NA             NA         NA         NA\n",
       "14             NA    NA             NA             NA         NA         NA\n",
       "15             NA    NA             NA             NA         NA         NA\n",
       "16             NA    NA             NA             NA         NA         NA\n",
       "17             NA    NA             NA             NA         NA         NA\n",
       "18             NA    NA             NA             NA         NA         NA\n",
       "19             NA    NA             NA             NA         NA         NA\n",
       "20             NA    NA             NA             NA         NA         NA\n",
       "21             NA    NA             NA             NA         NA         NA\n",
       "22             NA    NA             NA             NA         NA         NA\n",
       "23             NA    NA             NA             NA         NA         NA\n",
       "24             NA    NA             NA             NA         NA         NA\n",
       "25             NA    NA             NA             NA         NA         NA\n",
       "26             NA    NA             NA             NA         NA         NA\n",
       "27             NA    NA             NA             NA         NA         NA\n",
       "28             NA    NA             NA             NA         NA         NA\n",
       "29             NA    NA             NA             NA         NA         NA\n",
       "30             NA    NA             NA             NA         NA         NA\n",
       "31             NA    NA             NA             NA         NA         NA\n",
       "32             NA    NA             NA             NA         NA         NA\n",
       "33             NA    NA             NA             NA         NA         NA\n",
       "34             NA    NA             NA             NA         NA         NA\n",
       "35             NA    NA             NA             NA         NA         NA\n",
       "36             NA    NA             NA             NA         NA         NA\n",
       "37             NA    NA             NA             NA         NA         NA\n",
       "38             NA    NA             NA             NA         NA         NA\n",
       "39             NA    NA             NA             NA         NA         NA\n",
       "40             NA    NA             NA             NA         NA         NA\n",
       "41             NA    NA             NA             NA         NA         NA\n",
       "42             NA    NA             NA             NA         NA         NA\n",
       "43             NA    NA             NA             NA         NA         NA\n",
       "44             NA    NA             NA             NA         NA         NA\n",
       "45             NA    NA             NA             NA         NA         NA\n",
       "46             NA    NA             NA             NA         NA         NA\n",
       "47             NA    NA             NA             NA         NA         NA\n",
       "48             NA    NA             NA             NA         NA         NA\n",
       "49             NA    NA             NA             NA         NA         NA\n",
       "50             NA    NA             NA             NA         NA         NA\n",
       "51             NA    NA             NA             NA         NA         NA\n",
       "52             NA    NA             NA             NA         NA         NA\n",
       "53             NA    NA             NA             NA         NA         NA\n",
       "54             NA    NA             NA             NA         NA         NA\n",
       "55             NA    NA             NA             NA         NA         NA\n",
       "56             NA    NA             NA             NA         NA         NA\n",
       "57             NA    NA             NA             NA         NA         NA\n",
       "58             NA    NA             NA             NA         NA         NA\n",
       "59             NA    NA             NA             NA         NA         NA\n",
       "60             NA    NA             NA             NA         NA         NA\n",
       "61             NA    NA             NA             NA         NA         NA\n",
       "62             NA    NA             NA             NA         NA         NA\n",
       "63             NA    NA             NA             NA         NA         NA\n",
       "64             NA    NA             NA             NA         NA         NA\n",
       "65             NA    NA             NA             NA         NA         NA\n",
       "66             NA    NA             NA             NA         NA         NA\n",
       "67             NA    NA             NA             NA         NA         NA\n",
       "68             NA    NA             NA             NA         NA         NA\n",
       "69             NA    NA             NA             NA         NA         NA\n",
       "70             NA    NA             NA             NA         NA         NA\n",
       "71             NA    NA             NA             NA         NA         NA\n",
       "72             NA    NA             NA             NA         NA         NA\n"
      ]
     },
     "metadata": {},
     "output_type": "display_data"
    }
   ],
   "source": [
    "%%R\n",
    "physeq.era %>%\n",
    "    sample_data %>%\n",
    "    as.data.frame %>% \n",
    "    filter(TimePoint == \"T3\" & Genotype != \"Bare\") #%>%\n",
    "   # print(n = 84)"
   ]
  },
  {
   "cell_type": "markdown",
   "metadata": {},
   "source": [
    "# Filter and partition"
   ]
  },
  {
   "cell_type": "markdown",
   "metadata": {},
   "source": [
    "* Following: \n",
    "Callahan BJ, Sankaran K, Fukuyama JA et al. Bioconductor Workflow for Microbiome Data Analysis: from raw reads to community analyses [version 2; referees: 3 approved]. F1000Research 2016, 5:1492 (doi: 10.12688/f1000research.8986.2)"
   ]
  },
  {
   "cell_type": "markdown",
   "metadata": {},
   "source": [
    "## Remove taxa with unassigned higher ranks"
   ]
  },
  {
   "cell_type": "code",
   "execution_count": 20,
   "metadata": {
    "collapsed": false,
    "scrolled": true
   },
   "outputs": [
    {
     "data": {
      "text/plain": [
       "\n",
       "          __Acidobacteria          __Actinobacteria         __Armatimonadetes \n",
       "                      895                      1558                       210 \n",
       "          __Bacteroidetes                   __BD1-5               __BHI80-139 \n",
       "                      672                        19                         9 \n",
       "__Candidate_division_BRC1  __Candidate_division_OD1 __Candidate_division_OP11 \n",
       "                       60                       155                        30 \n",
       " __Candidate_division_OP3  __Candidate_division_SR1  __Candidate_division_TM7 \n",
       "                       35                         3                        57 \n",
       " __Candidate_division_WS3              __Chlamydiae                __Chlorobi \n",
       "                      115                       229                        40 \n",
       "            __Chloroflexi           __Cyanobacteria         __Deferribacteres \n",
       "                      964                       175                         1 \n",
       "    __Deinococcus-Thermus           __Elusimicrobia           __Fibrobacteres \n",
       "                       22                       110                        18 \n",
       "             __Firmicutes            __Fusobacteria        __Gemmatimonadetes \n",
       "                      889                         5                       315 \n",
       "                 __GOUTA4             __JL-ETNP-Z39             __Kazan-3B-28 \n",
       "                        1                         6                         2 \n",
       "          __Lentisphaerae             __Nitrospirae                __NPL-UPA2 \n",
       "                       14                        92                        25 \n",
       "         __Planctomycetes          __Proteobacteria                  __SM2F11 \n",
       "                     2086                      4402                        30 \n",
       "           __Spirochaetes                    __TA06             __Tenericutes \n",
       "                       11                         1                        11 \n",
       "            __Thermotogae                     __TM6         __Verrucomicrobia \n",
       "                        7                       119                       473 \n",
       "               __WCHB1-60                      <NA> \n",
       "                       24                        29 \n"
      ]
     },
     "metadata": {},
     "output_type": "display_data"
    }
   ],
   "source": [
    "%%R\n",
    "table(tax_table(physeq.era)[, \"Rank2\"], exclude = NULL)"
   ]
  },
  {
   "cell_type": "code",
   "execution_count": 21,
   "metadata": {
    "collapsed": false
   },
   "outputs": [],
   "source": [
    "%%R\n",
    "physeq.era <- subset_taxa(physeq.era, !is.na(Rank2))\n"
   ]
  },
  {
   "cell_type": "markdown",
   "metadata": {},
   "source": [
    "### Check feature prevalance"
   ]
  },
  {
   "cell_type": "code",
   "execution_count": 22,
   "metadata": {
    "collapsed": true
   },
   "outputs": [],
   "source": [
    "%%R\n",
    "# Compute prevalence of each feature, store as data.frame\n",
    "prevdf = apply(X = otu_table(physeq.era),\n",
    " MARGIN = ifelse(taxa_are_rows(physeq.era), yes = 1, no = 2),\n",
    " FUN = function(x){sum(x > 0)})\n",
    "# Add taxonomy and total read counts to this data.frame\n",
    "prevdf = data.frame(Prevalence = prevdf,\n",
    " TotalAbundance = taxa_sums(physeq.era),\n",
    " tax_table(physeq.era))"
   ]
  },
  {
   "cell_type": "code",
   "execution_count": 23,
   "metadata": {
    "collapsed": false
   },
   "outputs": [
    {
     "data": {
      "text/plain": [
       "                       Rank2         1      2\n",
       "1            __Acidobacteria 80.143017  71728\n",
       "2           __Actinobacteria 82.666239 128794\n",
       "3          __Armatimonadetes 54.176190  11377\n",
       "4            __Bacteroidetes 57.095238  38368\n",
       "5                    __BD1-5  5.052632     96\n",
       "6                __BHI80-139 24.222222    218\n",
       "7  __Candidate_division_BRC1 36.866667   2212\n",
       "8   __Candidate_division_OD1  7.309677   1133\n",
       "9  __Candidate_division_OP11  6.033333    181\n",
       "10  __Candidate_division_OP3 10.914286    382\n",
       "11  __Candidate_division_SR1  3.666667     11\n",
       "12  __Candidate_division_TM7  6.666667    380\n",
       "13  __Candidate_division_WS3 87.930435  10112\n",
       "14              __Chlamydiae 16.065502   3679\n",
       "15                __Chlorobi 34.075000   1363\n",
       "16             __Chloroflexi 74.878631  72183\n",
       "17           __Cyanobacteria 27.748571   4856\n",
       "18         __Deferribacteres 34.000000     34\n",
       "19     __Deinococcus-Thermus 23.681818    521\n",
       "20           __Elusimicrobia 22.409091   2465\n",
       "21           __Fibrobacteres 36.611111    659\n",
       "22              __Firmicutes 27.185602  24168\n",
       "23            __Fusobacteria 18.600000     93\n",
       "24        __Gemmatimonadetes 73.866667  23268\n",
       "25                  __GOUTA4  9.000000      9\n",
       "26             __JL-ETNP-Z39 87.166667    523\n",
       "27             __Kazan-3B-28  4.500000      9\n",
       "28           __Lentisphaerae 14.928571    209\n",
       "29             __Nitrospirae 77.913043   7168\n",
       "30                __NPL-UPA2 10.920000    273\n",
       "31          __Planctomycetes 67.204698 140189\n",
       "32          __Proteobacteria 48.353476 212852\n",
       "33                  __SM2F11 11.833333    355\n",
       "34            __Spirochaetes 19.727273    217\n",
       "35                    __TA06 19.000000     19\n",
       "36             __Tenericutes  5.818182     64\n",
       "37             __Thermotogae 47.571429    333\n",
       "38                     __TM6  9.050420   1077\n",
       "39         __Verrucomicrobia 74.122622  35060\n",
       "40                __WCHB1-60 14.666667    352\n"
      ]
     },
     "metadata": {},
     "output_type": "display_data"
    }
   ],
   "source": [
    "%%R\n",
    "# compute average and total prevalence within each phyla\n",
    "plyr::ddply(prevdf, \"Rank2\", function(df1){cbind(mean(df1$Prevalence),sum(df1$Prevalence))})"
   ]
  },
  {
   "cell_type": "code",
   "execution_count": 24,
   "metadata": {
    "collapsed": false
   },
   "outputs": [
    {
     "name": "stderr",
     "output_type": "stream",
     "text": [
      "/opt/anaconda2/lib/python2.7/site-packages/rpy2/rinterface/__init__.py:186: RRuntimeWarning: Error in nsamples(ps0) : object 'ps0' not found\n",
      "\n",
      "  warnings.warn(x, RRuntimeWarning)\n",
      "/opt/anaconda2/lib/python2.7/site-packages/rpy2/rinterface/__init__.py:186: RRuntimeWarning: In addition: \n",
      "  warnings.warn(x, RRuntimeWarning)\n",
      "/opt/anaconda2/lib/python2.7/site-packages/rpy2/rinterface/__init__.py:186: RRuntimeWarning: Warning messages:\n",
      "\n",
      "  warnings.warn(x, RRuntimeWarning)\n",
      "/opt/anaconda2/lib/python2.7/site-packages/rpy2/rinterface/__init__.py:186: RRuntimeWarning: 1: \n",
      "  warnings.warn(x, RRuntimeWarning)\n",
      "/opt/anaconda2/lib/python2.7/site-packages/rpy2/rinterface/__init__.py:186: RRuntimeWarning: In inner_join_impl(x, y, by$x, by$y, suffix$x, suffix$y) :\n",
      "  warnings.warn(x, RRuntimeWarning)\n",
      "/opt/anaconda2/lib/python2.7/site-packages/rpy2/rinterface/__init__.py:186: RRuntimeWarning: \n",
      " \n",
      "  warnings.warn(x, RRuntimeWarning)\n",
      "/opt/anaconda2/lib/python2.7/site-packages/rpy2/rinterface/__init__.py:186: RRuntimeWarning:  joining factors with different levels, coercing to character vector\n",
      "\n",
      "  warnings.warn(x, RRuntimeWarning)\n",
      "/opt/anaconda2/lib/python2.7/site-packages/rpy2/rinterface/__init__.py:186: RRuntimeWarning: 2: \n",
      "  warnings.warn(x, RRuntimeWarning)\n",
      "/opt/anaconda2/lib/python2.7/site-packages/rpy2/rinterface/__init__.py:186: RRuntimeWarning: 3: \n",
      "  warnings.warn(x, RRuntimeWarning)\n",
      "/opt/anaconda2/lib/python2.7/site-packages/rpy2/rinterface/__init__.py:186: RRuntimeWarning: In strsplit(msg, \"\\n\") :\n",
      "  warnings.warn(x, RRuntimeWarning)\n",
      "/opt/anaconda2/lib/python2.7/site-packages/rpy2/rinterface/__init__.py:186: RRuntimeWarning:  input string 1 is invalid in this locale\n",
      "\n",
      "  warnings.warn(x, RRuntimeWarning)\n",
      "/opt/anaconda2/lib/python2.7/site-packages/rpy2/rinterface/__init__.py:186: RRuntimeWarning: 4: \n",
      "  warnings.warn(x, RRuntimeWarning)\n",
      "/opt/anaconda2/lib/python2.7/site-packages/rpy2/rinterface/__init__.py:186: RRuntimeWarning: 5: \n",
      "  warnings.warn(x, RRuntimeWarning)\n",
      "/opt/anaconda2/lib/python2.7/site-packages/rpy2/rinterface/__init__.py:186: RRuntimeWarning: In class(x) <- c(\"tbl_df\", \"tbl\", \"data.frame\") :\n",
      "  warnings.warn(x, RRuntimeWarning)\n",
      "/opt/anaconda2/lib/python2.7/site-packages/rpy2/rinterface/__init__.py:186: RRuntimeWarning:  Setting class(x) to multiple strings (\"tbl_df\", \"tbl\", ...); result will no longer be an S4 object\n",
      "\n",
      "  warnings.warn(x, RRuntimeWarning)\n"
     ]
    },
    {
     "ename": "RRuntimeError",
     "evalue": "Error in nsamples(ps0) : object 'ps0' not found\n",
     "output_type": "error",
     "traceback": [
      "\u001b[0;31m---------------------------------------------------------------------------\u001b[0m",
      "\u001b[0;31mRRuntimeError\u001b[0m                             Traceback (most recent call last)",
      "\u001b[0;32m<ipython-input-24-d0ab1e891645>\u001b[0m in \u001b[0;36m<module>\u001b[0;34m()\u001b[0m\n\u001b[0;32m----> 1\u001b[0;31m \u001b[0mget_ipython\u001b[0m\u001b[0;34m(\u001b[0m\u001b[0;34m)\u001b[0m\u001b[0;34m.\u001b[0m\u001b[0mrun_cell_magic\u001b[0m\u001b[0;34m(\u001b[0m\u001b[0;34mu'R'\u001b[0m\u001b[0;34m,\u001b[0m \u001b[0;34mu''\u001b[0m\u001b[0;34m,\u001b[0m \u001b[0;34mu'# Subset to the remaining phyla\\n#prevdf1 = subset(prevdf, Phylum %in% get_taxa_unique(ps1, \"Phylum\"))\\nggplot(prevdf, aes(TotalAbundance, Prevalence / nsamples(ps0),color=Rank2)) +\\n # Include a guess for parameter\\n geom_hline(yintercept = 0.05, alpha = 0.5, linetype = 2) + geom_point(size = 2, alpha = 0.7) +\\n scale_x_log10() + xlab(\"Total Abundance\") + ylab(\"Prevalence [Frac. Samples]\") +\\n facet_wrap(~Rank2) + theme(legend.position=\"none\")'\u001b[0m\u001b[0;34m)\u001b[0m\u001b[0;34m\u001b[0m\u001b[0m\n\u001b[0m",
      "\u001b[0;32m/opt/anaconda2/lib/python2.7/site-packages/IPython/core/interactiveshell.pyc\u001b[0m in \u001b[0;36mrun_cell_magic\u001b[0;34m(self, magic_name, line, cell)\u001b[0m\n\u001b[1;32m   2113\u001b[0m             \u001b[0mmagic_arg_s\u001b[0m \u001b[0;34m=\u001b[0m \u001b[0mself\u001b[0m\u001b[0;34m.\u001b[0m\u001b[0mvar_expand\u001b[0m\u001b[0;34m(\u001b[0m\u001b[0mline\u001b[0m\u001b[0;34m,\u001b[0m \u001b[0mstack_depth\u001b[0m\u001b[0;34m)\u001b[0m\u001b[0;34m\u001b[0m\u001b[0m\n\u001b[1;32m   2114\u001b[0m             \u001b[0;32mwith\u001b[0m \u001b[0mself\u001b[0m\u001b[0;34m.\u001b[0m\u001b[0mbuiltin_trap\u001b[0m\u001b[0;34m:\u001b[0m\u001b[0;34m\u001b[0m\u001b[0m\n\u001b[0;32m-> 2115\u001b[0;31m                 \u001b[0mresult\u001b[0m \u001b[0;34m=\u001b[0m \u001b[0mfn\u001b[0m\u001b[0;34m(\u001b[0m\u001b[0mmagic_arg_s\u001b[0m\u001b[0;34m,\u001b[0m \u001b[0mcell\u001b[0m\u001b[0;34m)\u001b[0m\u001b[0;34m\u001b[0m\u001b[0m\n\u001b[0m\u001b[1;32m   2116\u001b[0m             \u001b[0;32mreturn\u001b[0m \u001b[0mresult\u001b[0m\u001b[0;34m\u001b[0m\u001b[0m\n\u001b[1;32m   2117\u001b[0m \u001b[0;34m\u001b[0m\u001b[0m\n",
      "\u001b[0;32m<decorator-gen-126>\u001b[0m in \u001b[0;36mR\u001b[0;34m(self, line, cell, local_ns)\u001b[0m\n",
      "\u001b[0;32m/opt/anaconda2/lib/python2.7/site-packages/IPython/core/magic.pyc\u001b[0m in \u001b[0;36m<lambda>\u001b[0;34m(f, *a, **k)\u001b[0m\n\u001b[1;32m    186\u001b[0m     \u001b[0;31m# but it's overkill for just that one bit of state.\u001b[0m\u001b[0;34m\u001b[0m\u001b[0;34m\u001b[0m\u001b[0m\n\u001b[1;32m    187\u001b[0m     \u001b[0;32mdef\u001b[0m \u001b[0mmagic_deco\u001b[0m\u001b[0;34m(\u001b[0m\u001b[0marg\u001b[0m\u001b[0;34m)\u001b[0m\u001b[0;34m:\u001b[0m\u001b[0;34m\u001b[0m\u001b[0m\n\u001b[0;32m--> 188\u001b[0;31m         \u001b[0mcall\u001b[0m \u001b[0;34m=\u001b[0m \u001b[0;32mlambda\u001b[0m \u001b[0mf\u001b[0m\u001b[0;34m,\u001b[0m \u001b[0;34m*\u001b[0m\u001b[0ma\u001b[0m\u001b[0;34m,\u001b[0m \u001b[0;34m**\u001b[0m\u001b[0mk\u001b[0m\u001b[0;34m:\u001b[0m \u001b[0mf\u001b[0m\u001b[0;34m(\u001b[0m\u001b[0;34m*\u001b[0m\u001b[0ma\u001b[0m\u001b[0;34m,\u001b[0m \u001b[0;34m**\u001b[0m\u001b[0mk\u001b[0m\u001b[0;34m)\u001b[0m\u001b[0;34m\u001b[0m\u001b[0m\n\u001b[0m\u001b[1;32m    189\u001b[0m \u001b[0;34m\u001b[0m\u001b[0m\n\u001b[1;32m    190\u001b[0m         \u001b[0;32mif\u001b[0m \u001b[0mcallable\u001b[0m\u001b[0;34m(\u001b[0m\u001b[0marg\u001b[0m\u001b[0;34m)\u001b[0m\u001b[0;34m:\u001b[0m\u001b[0;34m\u001b[0m\u001b[0m\n",
      "\u001b[0;32m/opt/anaconda2/lib/python2.7/site-packages/rpy2/ipython/rmagic.pyc\u001b[0m in \u001b[0;36mR\u001b[0;34m(self, line, cell, local_ns)\u001b[0m\n\u001b[1;32m    680\u001b[0m                     \u001b[0mold_writeconsole_regular\u001b[0m \u001b[0;34m=\u001b[0m \u001b[0mri\u001b[0m\u001b[0;34m.\u001b[0m\u001b[0mget_writeconsole_regular\u001b[0m\u001b[0;34m(\u001b[0m\u001b[0;34m)\u001b[0m\u001b[0;34m\u001b[0m\u001b[0m\n\u001b[1;32m    681\u001b[0m                     \u001b[0mri\u001b[0m\u001b[0;34m.\u001b[0m\u001b[0mset_writeconsole_regular\u001b[0m\u001b[0;34m(\u001b[0m\u001b[0mself\u001b[0m\u001b[0;34m.\u001b[0m\u001b[0mwrite_console_regular\u001b[0m\u001b[0;34m)\u001b[0m\u001b[0;34m\u001b[0m\u001b[0m\n\u001b[0;32m--> 682\u001b[0;31m                     \u001b[0mro\u001b[0m\u001b[0;34m.\u001b[0m\u001b[0mr\u001b[0m\u001b[0;34m.\u001b[0m\u001b[0mshow\u001b[0m\u001b[0;34m(\u001b[0m\u001b[0mresult\u001b[0m\u001b[0;34m)\u001b[0m\u001b[0;34m\u001b[0m\u001b[0m\n\u001b[0m\u001b[1;32m    683\u001b[0m                     \u001b[0mtext_output\u001b[0m \u001b[0;34m+=\u001b[0m \u001b[0mself\u001b[0m\u001b[0;34m.\u001b[0m\u001b[0mflush\u001b[0m\u001b[0;34m(\u001b[0m\u001b[0;34m)\u001b[0m\u001b[0;34m\u001b[0m\u001b[0m\n\u001b[1;32m    684\u001b[0m                     \u001b[0mri\u001b[0m\u001b[0;34m.\u001b[0m\u001b[0mset_writeconsole_regular\u001b[0m\u001b[0;34m(\u001b[0m\u001b[0mold_writeconsole_regular\u001b[0m\u001b[0;34m)\u001b[0m\u001b[0;34m\u001b[0m\u001b[0m\n",
      "\u001b[0;32m/opt/anaconda2/lib/python2.7/site-packages/rpy2/robjects/functions.pyc\u001b[0m in \u001b[0;36m__call__\u001b[0;34m(self, *args, **kwargs)\u001b[0m\n\u001b[1;32m    176\u001b[0m                 \u001b[0mv\u001b[0m \u001b[0;34m=\u001b[0m \u001b[0mkwargs\u001b[0m\u001b[0;34m.\u001b[0m\u001b[0mpop\u001b[0m\u001b[0;34m(\u001b[0m\u001b[0mk\u001b[0m\u001b[0;34m)\u001b[0m\u001b[0;34m\u001b[0m\u001b[0m\n\u001b[1;32m    177\u001b[0m                 \u001b[0mkwargs\u001b[0m\u001b[0;34m[\u001b[0m\u001b[0mr_k\u001b[0m\u001b[0;34m]\u001b[0m \u001b[0;34m=\u001b[0m \u001b[0mv\u001b[0m\u001b[0;34m\u001b[0m\u001b[0m\n\u001b[0;32m--> 178\u001b[0;31m         \u001b[0;32mreturn\u001b[0m \u001b[0msuper\u001b[0m\u001b[0;34m(\u001b[0m\u001b[0mSignatureTranslatedFunction\u001b[0m\u001b[0;34m,\u001b[0m \u001b[0mself\u001b[0m\u001b[0;34m)\u001b[0m\u001b[0;34m.\u001b[0m\u001b[0m__call__\u001b[0m\u001b[0;34m(\u001b[0m\u001b[0;34m*\u001b[0m\u001b[0margs\u001b[0m\u001b[0;34m,\u001b[0m \u001b[0;34m**\u001b[0m\u001b[0mkwargs\u001b[0m\u001b[0;34m)\u001b[0m\u001b[0;34m\u001b[0m\u001b[0m\n\u001b[0m\u001b[1;32m    179\u001b[0m \u001b[0;34m\u001b[0m\u001b[0m\n\u001b[1;32m    180\u001b[0m \u001b[0mpattern_link\u001b[0m \u001b[0;34m=\u001b[0m \u001b[0mre\u001b[0m\u001b[0;34m.\u001b[0m\u001b[0mcompile\u001b[0m\u001b[0;34m(\u001b[0m\u001b[0;34mr'\\\\link\\{(.+?)\\}'\u001b[0m\u001b[0;34m)\u001b[0m\u001b[0;34m\u001b[0m\u001b[0m\n",
      "\u001b[0;32m/opt/anaconda2/lib/python2.7/site-packages/rpy2/robjects/functions.pyc\u001b[0m in \u001b[0;36m__call__\u001b[0;34m(self, *args, **kwargs)\u001b[0m\n\u001b[1;32m    104\u001b[0m         \u001b[0;32mfor\u001b[0m \u001b[0mk\u001b[0m\u001b[0;34m,\u001b[0m \u001b[0mv\u001b[0m \u001b[0;32min\u001b[0m \u001b[0mkwargs\u001b[0m\u001b[0;34m.\u001b[0m\u001b[0mitems\u001b[0m\u001b[0;34m(\u001b[0m\u001b[0;34m)\u001b[0m\u001b[0;34m:\u001b[0m\u001b[0;34m\u001b[0m\u001b[0m\n\u001b[1;32m    105\u001b[0m             \u001b[0mnew_kwargs\u001b[0m\u001b[0;34m[\u001b[0m\u001b[0mk\u001b[0m\u001b[0;34m]\u001b[0m \u001b[0;34m=\u001b[0m \u001b[0mconversion\u001b[0m\u001b[0;34m.\u001b[0m\u001b[0mpy2ri\u001b[0m\u001b[0;34m(\u001b[0m\u001b[0mv\u001b[0m\u001b[0;34m)\u001b[0m\u001b[0;34m\u001b[0m\u001b[0m\n\u001b[0;32m--> 106\u001b[0;31m         \u001b[0mres\u001b[0m \u001b[0;34m=\u001b[0m \u001b[0msuper\u001b[0m\u001b[0;34m(\u001b[0m\u001b[0mFunction\u001b[0m\u001b[0;34m,\u001b[0m \u001b[0mself\u001b[0m\u001b[0;34m)\u001b[0m\u001b[0;34m.\u001b[0m\u001b[0m__call__\u001b[0m\u001b[0;34m(\u001b[0m\u001b[0;34m*\u001b[0m\u001b[0mnew_args\u001b[0m\u001b[0;34m,\u001b[0m \u001b[0;34m**\u001b[0m\u001b[0mnew_kwargs\u001b[0m\u001b[0;34m)\u001b[0m\u001b[0;34m\u001b[0m\u001b[0m\n\u001b[0m\u001b[1;32m    107\u001b[0m         \u001b[0mres\u001b[0m \u001b[0;34m=\u001b[0m \u001b[0mconversion\u001b[0m\u001b[0;34m.\u001b[0m\u001b[0mri2ro\u001b[0m\u001b[0;34m(\u001b[0m\u001b[0mres\u001b[0m\u001b[0;34m)\u001b[0m\u001b[0;34m\u001b[0m\u001b[0m\n\u001b[1;32m    108\u001b[0m         \u001b[0;32mreturn\u001b[0m \u001b[0mres\u001b[0m\u001b[0;34m\u001b[0m\u001b[0m\n",
      "\u001b[0;31mRRuntimeError\u001b[0m: Error in nsamples(ps0) : object 'ps0' not found\n"
     ]
    }
   ],
   "source": [
    "%%R\n",
    "# Subset to the remaining phyla\n",
    "#prevdf1 = subset(prevdf, Phylum %in% get_taxa_unique(ps1, \"Phylum\"))\n",
    "ggplot(prevdf, aes(TotalAbundance, Prevalence / nsamples(ps0),color=Rank2)) +\n",
    " # Include a guess for parameter\n",
    " geom_hline(yintercept = 0.05, alpha = 0.5, linetype = 2) + geom_point(size = 2, alpha = 0.7) +\n",
    " scale_x_log10() + xlab(\"Total Abundance\") + ylab(\"Prevalence [Frac. Samples]\") +\n",
    " facet_wrap(~Rank2) + theme(legend.position=\"none\")"
   ]
  },
  {
   "cell_type": "code",
   "execution_count": null,
   "metadata": {
    "collapsed": true
   },
   "outputs": [],
   "source": [
    "### filter"
   ]
  },
  {
   "cell_type": "markdown",
   "metadata": {},
   "source": [
    "# Do we need to rarify?"
   ]
  },
  {
   "cell_type": "markdown",
   "metadata": {},
   "source": [
    "### check sequence counts"
   ]
  },
  {
   "cell_type": "code",
   "execution_count": null,
   "metadata": {
    "collapsed": false
   },
   "outputs": [],
   "source": [
    "%%R\n",
    "mdf = psmelt(physeq.era)"
   ]
  },
  {
   "cell_type": "code",
   "execution_count": null,
   "metadata": {
    "collapsed": true
   },
   "outputs": [],
   "source": [
    "%%R\n",
    "ss.df = mdf %>% group_by(Genotype, PlotID, TimePoint, Fert) %>%\n",
    "    summarise(Reads = sum(Abundance))\n",
    "mdf = NULL"
   ]
  },
  {
   "cell_type": "code",
   "execution_count": null,
   "metadata": {
    "collapsed": false
   },
   "outputs": [
    {
     "data": {
      "image/png": "[encoded data removed]"
     },
     "metadata": {},
     "output_type": "display_data"
    }
   ],
   "source": [
    "%%R\n",
    "ggplot(ss.df, aes(x = Genotype, y = Reads, color = TimePoint)) +\n",
    "    #geom_point(positition = position_dodge(0.4)) + \n",
    "    geom_boxplot() +\n",
    "    theme(axis.text.x = element_text(angle = 60))"
   ]
  },
  {
   "cell_type": "markdown",
   "metadata": {},
   "source": [
    "* Neither particular genotypes nor time points are dramatically underespresented in reads.  \n",
    "* No need to rarify for now"
   ]
  },
  {
   "cell_type": "markdown",
   "metadata": {},
   "source": [
    "## Filter"
   ]
  },
  {
   "cell_type": "code",
   "execution_count": 29,
   "metadata": {
    "collapsed": false
   },
   "outputs": [
    {
     "data": {
      "text/plain": [
       "phyloseq-class experiment-level object\n",
       "otu_table()   OTU Table:         [ 4592 taxa and 243 samples ]\n",
       "sample_data() Sample Data:       [ 243 samples by 46 sample variables ]\n",
       "tax_table()   Taxonomy Table:    [ 4592 taxa by 8 taxonomic ranks ]\n",
       "phy_tree()    Phylogenetic Tree: [ 4592 tips and 4591 internal nodes ]\n"
      ]
     },
     "metadata": {},
     "output_type": "display_data"
    }
   ],
   "source": [
    "%%R \n",
    "# filtering/normalizing\n",
    "physeq.thresh = filter_taxa(physeq.era, function(x) sum(x > 3) > 3, TRUE)\n",
    "    \n",
    "physeq.snorm = transform_sample_counts(physeq.thresh, function(x) x/sum(x))\n",
    "\n",
    "physeq.snorm"
   ]
  },
  {
   "cell_type": "code",
   "execution_count": null,
   "metadata": {
    "collapsed": false
   },
   "outputs": [],
   "source": [
    "%%R\n",
    "saveRDS(physeq.thresh, '/home/bryan/ERA/data/MiSeq/20170417_run1/phyloseq/ERA_thresh.rds')\n",
    "saveRDS(physeq.snorm, '/home/bryan/ERA/data/MiSeq/20170417_run1/phyloseq/ERA_snorm.rds') \n",
    "saveRDS(physeq.era, '/home/bryan/ERA/data/MiSeq/20170417_run1/phyloseq/ERA_full.rds')"
   ]
  },
  {
   "cell_type": "markdown",
   "metadata": {},
   "source": [
    "# Session info"
   ]
  },
  {
   "cell_type": "code",
   "execution_count": null,
   "metadata": {
    "collapsed": false
   },
   "outputs": [],
   "source": [
    "%%R\n",
    "sessionInfo()"
   ]
  }
 ],
 "metadata": {
  "anaconda-cloud": {},
  "hide_input": true,
  "kernelspec": {
   "display_name": "Python 2",
   "language": "python",
   "name": "python2"
  },
  "language_info": {
   "codemirror_mode": {
    "name": "ipython",
    "version": 2
   },
   "file_extension": ".py",
   "mimetype": "text/x-python",
   "name": "python",
   "nbconvert_exporter": "python",
   "pygments_lexer": "ipython2",
   "version": "2.7.13"
  }
 },
 "nbformat": 4,
 "nbformat_minor": 1
}
