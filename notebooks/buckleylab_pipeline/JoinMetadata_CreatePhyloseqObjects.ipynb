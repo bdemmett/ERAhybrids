{
 "cells": [
  {
   "cell_type": "markdown",
   "metadata": {},
   "source": [
    "# Create phyloseq object"
   ]
  },
  {
   "cell_type": "code",
   "execution_count": 1,
   "metadata": {
    "collapsed": true
   },
   "outputs": [],
   "source": [
    "workDir = '/home/bryan/ERA/data/MiSeq/20170417_run1/phyloseq/'\n",
    "biomFileDir = '/home/bryan/ERA/data/MiSeq/20170417_run1/OTU_binning/'\n",
    "\n",
    "biomFile = '/home/bryan/ERA/data/MiSeq/20170417_run1/OTU_binning/otu_table_wtax.biom'\n",
    "metadataFile = '/home/bryan/ERA/ERA_Metadata.txt'\n",
    "plotdataFile = '/home/bryan/ERA/MasterLong.csv'\n",
    "mappingFile = '/home/bryan/ERA/ERA_MappingFile.txt'\n",
    "treeFile = '/home/bryan/ERA/data/MiSeq/20170417_run1/fasttree/otusn_pick_lad.nwk'"
   ]
  },
  {
   "cell_type": "markdown",
   "metadata": {},
   "source": [
    "# Init"
   ]
  },
  {
   "cell_type": "code",
   "execution_count": 2,
   "metadata": {
    "collapsed": true
   },
   "outputs": [],
   "source": [
    "import os"
   ]
  },
  {
   "cell_type": "code",
   "execution_count": 3,
   "metadata": {
    "collapsed": true
   },
   "outputs": [],
   "source": [
    "%load_ext rpy2.ipython"
   ]
  },
  {
   "cell_type": "code",
   "execution_count": 4,
   "metadata": {
    "collapsed": true
   },
   "outputs": [],
   "source": [
    "if not os.path.isdir(workDir):\n",
    "    os.mkdir(workDir)"
   ]
  },
  {
   "cell_type": "code",
   "execution_count": 5,
   "metadata": {},
   "outputs": [
    {
     "name": "stderr",
     "output_type": "stream",
     "text": [
      "/home/bryan/anaconda3/lib/python3.6/site-packages/rpy2/rinterface/__init__.py:186: RRuntimeWarning: foreach: simple, scalable parallel programming from Revolution Analytics\n",
      "Use Revolution R for scalability, fault tolerance and more.\n",
      "http://www.revolutionanalytics.com\n",
      "\n",
      "  warnings.warn(x, RRuntimeWarning)\n",
      "/home/bryan/anaconda3/lib/python3.6/site-packages/rpy2/rinterface/__init__.py:186: RRuntimeWarning: Loading required package: iterators\n",
      "\n",
      "  warnings.warn(x, RRuntimeWarning)\n",
      "/home/bryan/anaconda3/lib/python3.6/site-packages/rpy2/rinterface/__init__.py:186: RRuntimeWarning: Loading required package: parallel\n",
      "\n",
      "  warnings.warn(x, RRuntimeWarning)\n",
      "/home/bryan/anaconda3/lib/python3.6/site-packages/rpy2/rinterface/__init__.py:186: RRuntimeWarning: \n",
      "Attaching package: ‘dplyr’\n",
      "\n",
      "\n",
      "  warnings.warn(x, RRuntimeWarning)\n",
      "/home/bryan/anaconda3/lib/python3.6/site-packages/rpy2/rinterface/__init__.py:186: RRuntimeWarning: The following object is masked from ‘package:gridExtra’:\n",
      "\n",
      "    combine\n",
      "\n",
      "\n",
      "  warnings.warn(x, RRuntimeWarning)\n",
      "/home/bryan/anaconda3/lib/python3.6/site-packages/rpy2/rinterface/__init__.py:186: RRuntimeWarning: The following objects are masked from ‘package:stats’:\n",
      "\n",
      "    filter, lag\n",
      "\n",
      "\n",
      "  warnings.warn(x, RRuntimeWarning)\n",
      "/home/bryan/anaconda3/lib/python3.6/site-packages/rpy2/rinterface/__init__.py:186: RRuntimeWarning: The following objects are masked from ‘package:base’:\n",
      "\n",
      "    intersect, setdiff, setequal, union\n",
      "\n",
      "\n",
      "  warnings.warn(x, RRuntimeWarning)\n"
     ]
    }
   ],
   "source": [
    "%%R\n",
    "library(phyloseq)\n",
    "library(ggplot2)\n",
    "library(foreach)\n",
    "library(doParallel)\n",
    "library(gridExtra)\n",
    "library(dplyr)\n",
    "library(tidyr)"
   ]
  },
  {
   "cell_type": "markdown",
   "metadata": {},
   "source": [
    "# Read in metadata files"
   ]
  },
  {
   "cell_type": "code",
   "execution_count": 6,
   "metadata": {
    "scrolled": true
   },
   "outputs": [
    {
     "data": {
      "text/plain": [
       "  Rep Row Pos Fert PlotIndex   PlotID Plant Genotype SeedTreatment R_Year ERA\n",
       "1   1   3   a   85        25  1-3a_85  1936     1936       Treated   1936   1\n",
       "2   1   3   a    0        26   1-3a_0  1936     1936       Treated   1936   1\n",
       "3   1   3   a  170        27 1-3a_170  1936     1936       Treated   1936   1\n",
       "4   2   5   b  170       112 2-5b_170  1936     1936       Treated   1936   1\n",
       "5   2   5   b   85       113  2-5b_85  1936     1936       Treated   1936   1\n",
       "6   2   5   b    0       114   2-5b_0  1936     1936       Treated   1936   1\n",
       "  BG_activity.g BX_activity.g CB_activity.g LAP_activity.g NAG_activity.g\n",
       "1            NA            NA            NA             NA             NA\n",
       "2            NA            NA            NA             NA             NA\n",
       "3            NA            NA            NA             NA             NA\n",
       "4            NA            NA            NA             NA             NA\n",
       "5            NA            NA            NA             NA             NA\n",
       "6            NA            NA            NA             NA             NA\n",
       "  TimePoint    Stage kgdw_ha FracN.leco FracC.leco kgN_ha RGR AGR Nprod NupR\n",
       "1        T0 Planting      NA         NA         NA     NA  NA  NA    NA   NA\n",
       "2        T0 Planting      NA         NA         NA     NA  NA  NA    NA   NA\n",
       "3        T0 Planting      NA         NA         NA     NA  NA  NA    NA   NA\n",
       "4        T0 Planting      NA         NA         NA     NA  NA  NA    NA   NA\n",
       "5        T0 Planting      NA         NA         NA     NA  NA  NA    NA   NA\n",
       "6        T0 Planting      NA         NA         NA     NA  NA  NA    NA   NA\n",
       "  d15N X15N_AtPercent FracN FracN_fromSoil FracN_fromFert kgFertN_ha kgSoilN_ha\n",
       "1   NA             NA    NA             NA             NA         NA         NA\n",
       "2   NA             NA    NA             NA             NA         NA         NA\n",
       "3   NA             NA    NA             NA             NA         NA         NA\n",
       "4   NA             NA    NA             NA             NA         NA         NA\n",
       "5   NA             NA    NA             NA             NA         NA         NA\n",
       "6   NA             NA    NA             NA             NA         NA         NA\n"
      ]
     },
     "metadata": {},
     "output_type": "display_data"
    }
   ],
   "source": [
    "%%R -i plotdataFile\n",
    "data = read.csv(plotdataFile, header = TRUE)\n",
    "data %>% head"
   ]
  },
  {
   "cell_type": "code",
   "execution_count": 7,
   "metadata": {
    "scrolled": false
   },
   "outputs": [
    {
     "data": {
      "text/plain": [
       "       X.sampleID TubeID ExtractionPlate PooledDNAPlate Sample.Well.ID\n",
       "1 ERA-T1_1-2b_170    125            ERA1              A             A1\n",
       "2 ERA-T1_1-3c_170    137            ERA1              A             B1\n",
       "3   ERA-T3_1-2b_0    530            ERA1              A             C1\n",
       "4  ERA-T2_1-2b_85    361            ERA1              A             D1\n",
       "5 ERA-T3_1-2d_170    602            ERA1              A             E1\n",
       "6  ERA-T1_1-4b_85    143            ERA1              A             F1\n",
       "  PrimerPlate Primer.Number Primer.Well.ID  X primerFwdLoc primerRevLoc\n",
       "1           1             1             A1 NA          1-A          1-1\n",
       "2           1             2             B1 NA          1-B          1-1\n",
       "3           1             3             C1 NA          1-C          1-1\n",
       "4           1             4             D1 NA          1-D          1-1\n",
       "5           1             5             E1 NA          1-E          1-1\n",
       "6           1             6             F1 NA          1-F          1-1\n",
       "  fwd_barcode rev_barcode   PlotID TimePoint\n",
       "1    ATCGTACG    AACTCTCG 1-2b_170        T1\n",
       "2    ACTATCTG    AACTCTCG 1-3c_170        T1\n",
       "3    TAGCGAGT    AACTCTCG   1-2b_0        T3\n",
       "4    CTGCGTGT    AACTCTCG  1-2b_85        T2\n",
       "5    TCATCGAG    AACTCTCG 1-2d_170        T3\n",
       "6    CGTGAGTG    AACTCTCG  1-4b_85        T1\n"
      ]
     },
     "metadata": {},
     "output_type": "display_data"
    }
   ],
   "source": [
    "%%R -i mappingFile\n",
    "Map = read.delim(mappingFile, header = TRUE, sep = \"\\t\")\n",
    "head(Map)"
   ]
  },
  {
   "cell_type": "code",
   "execution_count": 8,
   "metadata": {
    "scrolled": true
   },
   "outputs": [
    {
     "data": {
      "text/plain": [
       "        X.sampleID TubeID ExtractionPlate PooledDNAPlate Sample.Well.ID\n",
       "79  ERA-T2_2-1d_85    390            ERA2              A            G10\n",
       "80 ERA-T3_2-5c_170    545            ERA2              A            H10\n",
       "   PrimerPlate Primer.Number Primer.Well.ID  X primerFwdLoc primerRevLoc\n",
       "79           1            79            G10 NA          1-G         1-10\n",
       "80           1            80            H10 NA          1-H         1-10\n",
       "   fwd_barcode rev_barcode   PlotID TimePoint\n",
       "79    GGATATCT    TAGCAGAC  2-1d_85        T2\n",
       "80    GACACCGT    TAGCAGAC 2-5c_170        T3\n"
      ]
     },
     "metadata": {},
     "output_type": "display_data"
    }
   ],
   "source": [
    "%%R\n",
    "Map[Map$TubeID %in% c(\"390\", \"545\"),] "
   ]
  },
  {
   "cell_type": "markdown",
   "metadata": {},
   "source": [
    "* mapping file has been fixed"
   ]
  },
  {
   "cell_type": "code",
   "execution_count": 9,
   "metadata": {
    "scrolled": true
   },
   "outputs": [
    {
     "data": {
      "text/plain": [
       "[1] 244  46\n",
       "       X.sampleID TubeID ExtractionPlate PooledDNAPlate Sample.Well.ID\n",
       "1 ERA-T1_1-2b_170    125            ERA1              A             A1\n",
       "2 ERA-T1_1-3c_170    137            ERA1              A             B1\n",
       "3   ERA-T3_1-2b_0    530            ERA1              A             C1\n",
       "4  ERA-T2_1-2b_85    361            ERA1              A             D1\n",
       "5 ERA-T3_1-2d_170    602            ERA1              A             E1\n",
       "6  ERA-T1_1-4b_85    143            ERA1              A             F1\n",
       "  PrimerPlate Primer.Number Primer.Well.ID  X primerFwdLoc primerRevLoc\n",
       "1           1             1             A1 NA          1-A          1-1\n",
       "2           1             2             B1 NA          1-B          1-1\n",
       "3           1             3             C1 NA          1-C          1-1\n",
       "4           1             4             D1 NA          1-D          1-1\n",
       "5           1             5             E1 NA          1-E          1-1\n",
       "6           1             6             F1 NA          1-F          1-1\n",
       "  fwd_barcode rev_barcode   PlotID TimePoint Rep Row Pos Fert PlotIndex Plant\n",
       "1    ATCGTACG    AACTCTCG 1-2b_170        T1   1   2   b  170        16  1939\n",
       "2    ACTATCTG    AACTCTCG 1-3c_170        T1   1   3   c  170        33  1971\n",
       "3    TAGCGAGT    AACTCTCG   1-2b_0        T3   1   2   b    0        18  1939\n",
       "4    CTGCGTGT    AACTCTCG  1-2b_85        T2   1   2   b   85        17  1939\n",
       "5    TCATCGAG    AACTCTCG 1-2d_170        T3   1   2   d  170        24  2011\n",
       "6    CGTGAGTG    AACTCTCG  1-4b_85        T1   1   4   b   85        41  2001\n",
       "  Genotype SeedTreatment R_Year ERA BG_activity.g BX_activity.g CB_activity.g\n",
       "1     1939       Treated   1939   1      96.79331      21.01421      21.70019\n",
       "2     1971       Treated   1971   2      69.91560      15.39917      14.90532\n",
       "3     1939       Treated   1939   1     100.18997      25.99066      25.59635\n",
       "4     1939       Treated   1939   1      86.27234      17.84434      20.13755\n",
       "5     2011       Treated   2011   3      82.25222      24.89637      18.27395\n",
       "6     2001       Treated   2001   3      76.97188      15.50771      14.67479\n",
       "  LAP_activity.g NAG_activity.g Stage kgdw_ha FracN.leco FracC.leco     kgN_ha\n",
       "1       46.58059       20.24606    V6   269.4  0.0329030    0.40984  8.8640682\n",
       "2       29.05604       13.51130    V6   610.5  0.0286850    0.42262 17.5121925\n",
       "3      232.76419       28.05134    R3  3993.0  0.0054621    0.42354  0.8438944\n",
       "4      135.27414       20.30096    R1  3792.0  0.0131310    0.43453 49.7927520\n",
       "5      198.10500       24.50423    R3 12417.0  0.0086408    0.43929  4.6945466\n",
       "6       35.56935       17.22165    V6   454.2  0.0245090    0.43649 11.1319878\n",
       "         RGR       AGR       Nprod       NupR    d15N X15N_AtPercent      FracN\n",
       "1 0.05829206   7.00000   0.7897051  0.1824887      NA             NA         NA\n",
       "2 0.07569804  16.47500   0.9407731  0.3664913      NA             NA         NA\n",
       "3 0.03545994 102.06522 120.9454777 -0.6942792      NA             NA         NA\n",
       "4 0.10516014 115.17097   2.3130067  1.6323868 671.275      0.6106919 0.01272523\n",
       "5 0.02726468 266.80435  56.8328250 -3.2315736      NA             NA         NA\n",
       "6 0.06940569  12.13333   1.0899521  0.2307423      NA             NA         NA\n",
       "  FracN_fromSoil FracN_fromFert kgFertN_ha kgSoilN_ha\n",
       "1             NA             NA         NA         NA\n",
       "2             NA             NA         NA         NA\n",
       "3             NA             NA         NA         NA\n",
       "4      0.6226923      0.3773077   18.20663   30.04744\n",
       "5             NA             NA         NA         NA\n",
       "6             NA             NA         NA         NA\n"
      ]
     },
     "metadata": {},
     "output_type": "display_data"
    }
   ],
   "source": [
    "%%R\n",
    "SampleData = inner_join(Map, data, by = c(\"PlotID\", \"TimePoint\"))\n",
    "dim(SampleData) %>% print\n",
    "SampleData %>% head"
   ]
  },
  {
   "cell_type": "code",
   "execution_count": 10,
   "metadata": {},
   "outputs": [
    {
     "data": {
      "text/plain": [
       "# A tibble: 0 × 2\n",
       "# ... with 2 variables: PlotID <chr>, TimePoint <chr>\n"
      ]
     },
     "metadata": {},
     "output_type": "display_data"
    }
   ],
   "source": [
    "%%R\n",
    "# Check duplicate names\n",
    "SampleData %>% \n",
    "    group_by(X.sampleID,PlotID, TimePoint) %>%\n",
    "    summarise(Num = length(BG_activity.g)) %>%\n",
    "    ungroup() %>%\n",
    "    filter(Num > 1) %>% \n",
    "   select(PlotID, TimePoint)"
   ]
  },
  {
   "cell_type": "markdown",
   "metadata": {},
   "source": [
    "* Duplicates fixed!"
   ]
  },
  {
   "cell_type": "code",
   "execution_count": 11,
   "metadata": {},
   "outputs": [
    {
     "data": {
      "text/plain": [
       "  Rep Row Pos Fert PlotIndex   PlotID Plant Genotype SeedTreatment R_Year ERA\n",
       "1   4   5   b  170       232 4-5b_170  2001     2001       Treated   2001   3\n",
       "2   4   5   b  170       232 4-5b_170  2001     2001       Treated   2001   3\n",
       "3   2   3   b  170        88 2-3b_170  Bare     Bare                   NA  NA\n",
       "4   2   3   b  170        88 2-3b_170  Bare     Bare                   NA  NA\n",
       "  BG_activity.g BX_activity.g CB_activity.g LAP_activity.g NAG_activity.g\n",
       "1      72.89345      17.18532      13.86478       30.43450       13.75206\n",
       "2     153.19322      33.18853      41.66629      244.26208       35.50504\n",
       "3      40.40948      11.38810      12.71309       23.24555       11.12396\n",
       "4      64.08162      18.07281      20.44175      199.55173       13.71814\n",
       "  TimePoint Stage kgdw_ha FracN.leco FracC.leco   kgN_ha        RGR       AGR\n",
       "1        T1    V6  1317.6   0.022403    0.42341 29.51819 0.09206589  36.11667\n",
       "2        T3    R3 15255.0   0.008775    0.43572 11.56194 0.02905348 342.45652\n",
       "3        T1    V6      NA         NA         NA       NA         NA        NA\n",
       "4        T3    R3      NA         NA         NA       NA         NA        NA\n",
       "      Nprod       NupR d15N X15N_AtPercent FracN FracN_fromSoil FracN_fromFert\n",
       "1  1.223539  0.6219381   NA             NA    NA             NA             NA\n",
       "2 29.619296 -3.2356266   NA             NA    NA             NA             NA\n",
       "3        NA         NA   NA             NA    NA             NA             NA\n",
       "4        NA         NA   NA             NA    NA             NA             NA\n",
       "  kgFertN_ha kgSoilN_ha\n",
       "1         NA         NA\n",
       "2         NA         NA\n",
       "3         NA         NA\n",
       "4         NA         NA\n"
      ]
     },
     "metadata": {},
     "output_type": "display_data"
    }
   ],
   "source": [
    "%%R\n",
    "data %>%\n",
    "    filter(PlotID %in% c(\"2-3b_170\", \"4-5b_170\") & TimePoint %in% c(\"T1\", \"T3\"))"
   ]
  },
  {
   "cell_type": "code",
   "execution_count": 12,
   "metadata": {
    "collapsed": true
   },
   "outputs": [],
   "source": [
    "# Write joined metadataFile"
   ]
  },
  {
   "cell_type": "code",
   "execution_count": 13,
   "metadata": {
    "collapsed": true
   },
   "outputs": [],
   "source": [
    "%%R\n",
    "write.table(SampleData, file = '/home/bryan/ERA/ERA_Metadata.txt', row.names = FALSE, sep = '\\t')"
   ]
  },
  {
   "cell_type": "markdown",
   "metadata": {},
   "source": [
    "# Create phyloseq objects"
   ]
  },
  {
   "cell_type": "code",
   "execution_count": 14,
   "metadata": {},
   "outputs": [
    {
     "data": {
      "text/plain": [
       "phyloseq-class experiment-level object\n",
       "otu_table()   OTU Table:         [ 13919 taxa and 9 samples ]\n",
       "sample_data() Sample Data:       [ 9 samples by 15 sample variables ]\n",
       "tax_table()   Taxonomy Table:    [ 13919 taxa by 8 taxonomic ranks ]\n",
       "phy_tree()    Phylogenetic Tree: [ 13919 tips and 13918 internal nodes ]\n"
      ]
     },
     "metadata": {},
     "output_type": "display_data"
    }
   ],
   "source": [
    "%%R -i biomFile -i mappingFile -i workDir -i treeFile\n",
    "# Just controls\n",
    "# loading\n",
    "setwd(workDir)\n",
    "\n",
    "## biom file\n",
    "physeq = import_biom(biomFile, treeFile)\n",
    "\n",
    "## loading sample metadata\n",
    "sample.data = import_qiime_sample_data(mappingFile)\n",
    "physeq = merge_phyloseq(physeq,sample.data)\n",
    "physeq.controls = subset_samples(physeq, !TimePoint %in% c(\"T0\", \"T1\", \"T2\", \"T3\"), TRUE)\n",
    "physeq.controls"
   ]
  },
  {
   "cell_type": "code",
   "execution_count": 15,
   "metadata": {
    "collapsed": true
   },
   "outputs": [],
   "source": [
    "%%R\n",
    "saveRDS(physeq.controls, '/home/bryan/ERA/data/MiSeq/20170417_run1/phyloseq/controls.rds')"
   ]
  },
  {
   "cell_type": "code",
   "execution_count": 16,
   "metadata": {},
   "outputs": [
    {
     "data": {
      "text/plain": [
       "[1] \"MockComm\"         \"PostiveControl_C\" \"NegControl_Plate\" \"NegControl_A\"    \n",
       "[5] \"NegControl_B\"     \"PosControl_B\"     \"PosControl_A\"     \"NegControl_C\"    \n",
       "[9] \"IndexQC_Rev\"     \n"
      ]
     },
     "metadata": {},
     "output_type": "display_data"
    }
   ],
   "source": [
    "%%R\n",
    "sample_names(physeq.controls)"
   ]
  },
  {
   "cell_type": "code",
   "execution_count": 17,
   "metadata": {},
   "outputs": [
    {
     "data": {
      "text/plain": [
       "standardGeneric for \"sample_data\" defined from package \"phyloseq\"\n",
       "\n",
       "function (object, errorIfNULL = TRUE) \n",
       "standardGeneric(\"sample_data\")\n",
       "<environment: 0xbe1f838>\n",
       "Methods may be defined for arguments: object, errorIfNULL\n",
       "Use  showMethods(\"sample_data\")  for currently available ones.\n"
      ]
     },
     "metadata": {},
     "output_type": "display_data"
    }
   ],
   "source": [
    "%%R\n",
    "sample_data"
   ]
  },
  {
   "cell_type": "code",
   "execution_count": 18,
   "metadata": {},
   "outputs": [
    {
     "data": {
      "text/plain": [
       "  [1] \"ERA-T0_2-2c_0\"    \"ERA-T2_3-1d_85\"   \"ERA-T1_3-5c_170\" \n",
       "  [4] \"ERA-T2_1-5a_85\"   \"ERA-T1_1-2b_170\"  \"ERA-T1_1-4b_0\"   \n",
       "  [7] \"ERA-T1_4-3d_0\"    \"ERA-T1_1-4a_170\"  \"ERA-T3_1-3c_170\" \n",
       " [10] \"ERA-T1_4-4a_170\"  \"ERA-T1_2-2b_85\"   \"ERA-T3_3-1c_0\"   \n",
       " [13] \"ERA-T2_2-2d_85\"   \"ERA-T1_1-2d_170\"  \"ERA-T1_1-3c_85\"  \n",
       " [16] \"ERA-T3_3-4c_170\"  \"ERA-T2_1-3d_85\"   \"ERA-T2_4-3c_85\"  \n",
       " [19] \"ERA-T1_1-2d_85\"   \"ERA-T3_3-2c_170\"  \"ERA-T3_4-3d_85\"  \n",
       " [22] \"ERA-T0_1-5a_0\"    \"ERA-T3_2-5a_170\"  \"ERA-T3_3-1a_170\" \n",
       " [25] \"ERA-T1_1-3c_170\"  \"ERA-T2_1-2b_85\"   \"ERA-T3_2-2b_85\"  \n",
       " [28] \"ERA-T2_1-2d_85\"   \"ERA-T3_4-1b_85\"   \"ERA-T3_2-5a_0\"   \n",
       " [31] \"ERA-T1_4-1b_0\"    \"ERA-T3_1-4a_0\"    \"ERA-T3_1-2d_0\"   \n",
       " [34] \"ERA-T2_1-3c_85\"   \"ERA-T3_2-5a_85\"   \"ERA-T1_3-1d_85\"  \n",
       " [37] \"ERA-T3_1-4a_170\"  \"ERA-T3_1-2c_0\"    \"ERA-T1_4-3b_0\"   \n",
       " [40] \"ERA-T1_1-2c_170\"  \"ERA-T3_1-5a_85\"   \"ERA-T1_3-1d_170\" \n",
       " [43] \"ERA-T1_3-5c_0\"    \"ERA-T2_1-4a_85\"   \"ERA-T1_2-3d_170\" \n",
       " [46] \"ERA-T1_4-3d_85\"   \"ERA-T1_4-1b_85\"   \"ERA-T1_2-5a_170\" \n",
       " [49] \"ERA-T3_1-2d_85\"   \"ERA-T2_4-5c_85\"   \"ERA-T3_1-2c_85\"  \n",
       " [52] \"ERA-T0_3-4c_0\"    \"ERA-T3_1-3c_0\"    \"ERA-T2_3-3b_85\"  \n",
       " [55] \"ERA-T3_3-1a_85\"   \"ERA-T3_2-5c_0\"    \"ERA-T2_3-2a_85\"  \n",
       " [58] \"ERA-T2_3-3d_85\"   \"ERA-T2_4-3a_85\"   \"ERA-T3_1-2c_170\" \n",
       " [61] \"ERA-T2_3-2d_85\"   \"ERA-T3_3-1d_0\"    \"ERA-T3_2-3d_0\"   \n",
       " [64] \"ERA-T2_3-2b_85\"   \"ERA-T2_2-5a_85\"   \"ERA-T1_3-1a_0\"   \n",
       " [67] \"ERA-T2_3-1b_85\"   \"ERA-T1_2-3b_85\"   \"ERA-T1_2-3b_0\"   \n",
       " [70] \"ERA-T3_3-3a_170\"  \"ERA-T2_4-2a_85\"   \"ERA-T2_3-5b_85\"  \n",
       " [73] \"ERA-T2_2-5b_85\"   \"ERA-T2_1-5b_85\"   \"ERA-T3_4-5b_0\"   \n",
       " [76] \"ERA-T2_4-1b_85\"   \"ERA-T3_2-3d_170\"  \"ERA-T1_3-2c_85\"  \n",
       " [79] \"ERA-T2_1-2a_85\"   \"ERA-T3_2-2c_170\"  \"ERA-T2_4-5b_85\"  \n",
       " [82] \"ERA-T2_4-2c_85\"   \"ERA-T2_2-4b_85\"   \"ERA-T1_3-2c_170\" \n",
       " [85] \"ERA-T3_4-4a_170\"  \"ERA-T1_1-4b_85\"   \"ERA-T3_1-3c_85\"  \n",
       " [88] \"ERA-T3_3-3a_85\"   \"ERA-T2_3-4c_85\"   \"ERA-T2_4-2d_85\"  \n",
       " [91] \"ERA-T1_4-2c_85\"   \"ERA-T1_4-1a_85\"   \"ERA-T2_1-2c_85\"  \n",
       " [94] \"ERA-T1_2-3d_0\"    \"ERA-T1_3-1a_170\"  \"ERA-T1_4-1b_170\" \n",
       " [97] \"ERA-T3_2-3b_0\"    \"ERA-T1_1-4a_0\"    \"ERA-T1_2-2d_170\" \n",
       "[100] \"ERA-T3_2-2d_0\"    \"ERA-T3_3-1a_0\"    \"ERA-T3_3-3a_0\"   \n",
       "[103] \"ERA-T2_2-3c_85\"   \"ERA-T2_1-1c_85\"   \"ERA-T1_3-3a_170\" \n",
       "[106] \"ERA-T3_2-2c_85\"   \"ERA-T2_1-4c_85\"   \"ERA-T3_4-5b_170\" \n",
       "[109] \"ERA-T3_3-2c_85\"   \"ERA-T2_4-3b_85\"   \"ERA-T3_3-5c_0\"   \n",
       "[112] \"ERA-T3_3-1d_85\"   \"ERA-T2_1-3a_85\"   \"ERA-T1_2-5a_0\"   \n",
       "[115] \"ERA-T2_2-4a_85\"   \"MockComm\"         \"ERA-T3_1-5a_170\" \n",
       "[118] \"ERA-T2_1-5c_85\"   \"ERA-T1_3-1d_0\"    \"ERA-T3_4-3b_170\" \n",
       "[121] \"ERA-T3_2-5c_170\"  \"ERA-T2_2-1c_85\"   \"ERA-T3_3-5c_85\"  \n",
       "[124] \"ERA-T3_4-1b_0\"    \"ERA-T1_1-2c_0\"    \"ERA-T2_1-4d_85\"  \n",
       "[127] \"ERA-T3_1-2b_0\"    \"ERA-T3_3-4c_85\"   \"ERA-T2_1-1d_85\"  \n",
       "[130] \"ERA-T2_3-1a_85\"   \"ERA-T0_4-3d_0\"    \"ERA-T3_4-5b_85\"  \n",
       "[133] \"ERA-T1_3-4c_170\"  \"ERA-T2_2-2c_85\"   \"ERA-T1_2-2c_0\"   \n",
       "[136] \"ERA-T2_1-4b_85\"   \"ERA-T3_3-1c_170\"  \"ERA-T1_2-2d_85\"  \n",
       "[139] \"ERA-T3_2-2d_170\"  \"ERA-T1_1-2c_85\"   \"ERA-T1_1-2d_0\"   \n",
       "[142] \"ERA-T1_1-5a_0\"    \"ERA-T2_2-1d_85\"   \"ERA-T3_4-1b_170\" \n",
       "[145] \"ERA-T1_1-2b_0\"    \"ERA-T1_2-5c_85\"   \"ERA-T2_2-3d_85\"  \n",
       "[148] \"ERA-T1_4-3d_170\"  \"ERA-T1_4-2c_0\"    \"ERA-T1_2-2b_0\"   \n",
       "[151] \"ERA-T3_2-2c_0\"    \"ERA-T3_2-3b_85\"   \"ERA-T3_3-1c_85\"  \n",
       "[154] \"ERA-T3_2-2b_170\"  \"ERA-T1_3-5c_85\"   \"ERA-T2_2-1b_85\"  \n",
       "[157] \"ERA-T3_2-3b_170\"  \"ERA-T3_1-4b_0\"    \"ERA-T3_1-2b_170\" \n",
       "[160] \"ERA-T0_2-3b_0\"    \"ERA-T1_1-4a_85\"   \"ERA-T3_2-5c_85\"  \n",
       "[163] \"ERA-T1_4-1a_170\"  \"ERA-T1_3-1c_170\"  \"ERA-T1_1-3c_0\"   \n",
       "[166] \"ERA-T2_2-5c_85\"   \"ERA-T3_4-2c_85\"   \"ERA-T2_3-5c_85\"  \n",
       "[169] \"ERA-T3_2-2b_0\"    \"ERA-T3_1-2d_170\"  \"ERA-T1_4-5b_0\"   \n",
       "[172] \"ERA-T0_3-2c_0\"    \"ERA-T1_2-3d_85\"   \"ERA-T3_2-2d_85\"  \n",
       "[175] \"ERA-T1_3-4c_85\"   \"ERA-T1_3-2c_0\"    \"ERA-T2_1-1a_85\"  \n",
       "[178] \"ERA-T1_3-1a_85\"   \"ERA-T1_4-3b_85\"   \"ERA-T3_3-1d_170\" \n",
       "[181] \"ERA-T1_4-1a_0\"    \"ERA-T2_4-1d_85\"   \"ERA-T3_4-4a_0\"   \n",
       "[184] \"ERA-T2_2-2b_85\"   \"ERA-T1_3-1c_85\"   \"ERA-T1_2-5c_0\"   \n",
       "[187] \"ERA-T1_4-3b_170\"  \"ERA-T1_3-1c_0\"    \"ERA-T2_4-3d_85\"  \n",
       "[190] \"ERA-T3_1-4b_170\"  \"ERA-T2_2-4d_85\"   \"ERA-T3_3-4c_0\"   \n",
       "[193] \"ERA-T1_2-3b_170\"  \"ERA-T2_3-3a_85\"   \"ERA-T0_4-1a_0\"   \n",
       "[196] \"ERA-T1_3-3a_85\"   \"ERA-T2_2-4c_85\"   \"ERA-T2_3-3c_85\"  \n",
       "[199] \"ERA-T2_4-4d_85\"   \"ERA-T3_1-2b_85\"   \"ERA-T2_3-4a_85\"  \n",
       "[202] \"ERA-T3_3-2c_0\"    \"ERA-T3_4-3d_0\"    \"ERA-T1_4-4a_85\"  \n",
       "[205] \"ERA-T3_1-4b_85\"   \"ERA-T3_4-2c_170\"  \"ERA-T3_4-1a_0\"   \n",
       "[208] \"ERA-T2_4-5a_85\"   \"ERA-T2_4-1a_85\"   \"ERA-T3_4-3d_170\" \n",
       "[211] \"ERA-T3_4-3b_85\"   \"ERA-T2_3-1c_85\"   \"ERA-T3_1-5a_0\"   \n",
       "[214] \"ERA-T3_4-4a_85\"   \"ERA-T1_1-5a_85\"   \"ERA-T2_2-1a_85\"  \n",
       "[217] \"ERA-T3_2-3d_85\"   \"ERA-T3_3-5c_170\"  \"ERA-T1_2-2d_0\"   \n",
       "[220] \"ERA-T2_4-4b_85\"   \"ERA-T2_4-4a_85\"   \"ERA-T1_1-4b_170\" \n",
       "[223] \"ERA-T1_3-3a_0\"    \"ERA-T2_2-3b_85\"   \"ERA-T2_3-2c_85\"  \n",
       "[226] \"PostiveControl_C\" \"ERA-T1_2-5a_85\"   \"ERA-T1_4-4a_0\"   \n",
       "[229] \"ERA-T2_3-4d_85\"   \"ERA-T2_4-4c_85\"   \"ERA-T1_2-2c_85\"  \n",
       "[232] \"ERA-T1_4-5b_170\"  \"ERA-T1_2-2c_170\"  \"ERA-T1_2-2b_170\" \n",
       "[235] \"ERA-T3_4-1a_85\"   \"ERA-T3_1-4a_85\"   \"ERA-T3_4-2c_0\"   \n",
       "[238] \"ERA-T3_4-3b_0\"    \"ERA-T1_4-5b_85\"   \"ERA-T3_4-1a_170\" \n",
       "[241] \"ERA-T1_3-4c_0\"    \"ERA-T1_2-5c_170\"  \"ERA-T1_1-2b_85\"  \n",
       "[244] \"ERA-T1_1-5a_170\"  \"ERA-T1_4-2c_170\"  \"NegControl_Plate\"\n",
       "[247] \"NegControl_A\"     \"NegControl_B\"     \"PosControl_B\"    \n",
       "[250] \"PosControl_A\"     \"NegControl_C\"     \"IndexQC_Rev\"     \n"
      ]
     },
     "metadata": {},
     "output_type": "display_data"
    }
   ],
   "source": [
    "%%R\n",
    "sample_names(physeq)"
   ]
  },
  {
   "cell_type": "code",
   "execution_count": 19,
   "metadata": {
    "collapsed": true
   },
   "outputs": [],
   "source": [
    "%%R -i biomFile -i metadataFile -i workDir -i treeFile\n",
    "# ERA dataset\n",
    "# loading\n",
    "setwd(workDir)\n",
    "\n",
    "## biom file\n",
    "physeq.era = import_biom(biomFile, treeFile)\n",
    "\n",
    "## loading sample metadata\n",
    "sample.data = import_qiime_sample_data(metadataFile)\n",
    "physeq.era = merge_phyloseq(physeq.era,sample.data)"
   ]
  },
  {
   "cell_type": "code",
   "execution_count": 20,
   "metadata": {
    "scrolled": false
   },
   "outputs": [
    {
     "data": {
      "text/plain": [
       "phyloseq-class experiment-level object\n",
       "otu_table()   OTU Table:         [ 13919 taxa and 243 samples ]\n",
       "sample_data() Sample Data:       [ 243 samples by 46 sample variables ]\n",
       "tax_table()   Taxonomy Table:    [ 13919 taxa by 8 taxonomic ranks ]\n",
       "phy_tree()    Phylogenetic Tree: [ 13919 tips and 13918 internal nodes ]\n"
      ]
     },
     "metadata": {},
     "output_type": "display_data"
    }
   ],
   "source": [
    "%%R\n",
    "physeq.era"
   ]
  },
  {
   "cell_type": "code",
   "execution_count": 21,
   "metadata": {},
   "outputs": [
    {
     "data": {
      "text/plain": [
       "Sample Data:        [6 samples by 46 sample variables]:\n",
       "                     X.sampleID  TubeID ExtractionPlate PooledDNAPlate\n",
       "ERA-T0_2-2c_0     ERA-T0_2-2c_0 BD - 26            ERA3              C\n",
       "ERA-T2_3-1d_85   ERA-T2_3-1d_85     425            ERA4              B\n",
       "ERA-T1_3-5c_170 ERA-T1_3-5c_170     213            ERA4              B\n",
       "ERA-T2_1-5a_85   ERA-T2_1-5a_85     382            ERA3              C\n",
       "ERA-T1_1-2b_170 ERA-T1_1-2b_170     125            ERA1              A\n",
       "ERA-T1_1-4b_0     ERA-T1_1-4b_0     144            ERA1              A\n",
       "                Sample.Well.ID PrimerPlate Primer.Number Primer.Well.ID  X\n",
       "ERA-T0_2-2c_0               B7           3            29             E4 NA\n",
       "ERA-T2_3-1d_85              E5           2            37             E5 NA\n",
       "ERA-T1_3-5c_170             D3           2            20             D3 NA\n",
       "ERA-T2_1-5a_85              D5           3            16             H2 NA\n",
       "ERA-T1_1-2b_170             A1           1             1             A1 NA\n",
       "ERA-T1_1-4b_0               C4           1            27             C4 NA\n",
       "                primerFwdLoc primerRevLoc fwd_barcode rev_barcode   PlotID\n",
       "ERA-T0_2-2c_0            3-E          3-4    TCATCGAG    CATAGAGA   2-2c_0\n",
       "ERA-T2_3-1d_85           2-E          2-5    ACGTCTCG    CGTACTCA  3-1d_85\n",
       "ERA-T1_3-5c_170          2-D          2-3    TACGAGAC    AGTAGCGT 3-5c_170\n",
       "ERA-T2_1-5a_85           3-H          3-2    GACACCGT    ATACTTCG  1-5a_85\n",
       "ERA-T1_1-2b_170          1-A          1-1    ATCGTACG    AACTCTCG 1-2b_170\n",
       "ERA-T1_1-4b_0            1-C          1-4    TAGCGAGT    CAGTGAGT   1-4b_0\n",
       "                TimePoint Rep Row Pos Fert PlotIndex Plant Genotype\n",
       "ERA-T0_2-2c_0          T0   2   2   c    0        79  2011     2011\n",
       "ERA-T2_3-1d_85         T2   3   1   d   85       130  2001     2001\n",
       "ERA-T1_3-5c_170        T1   3   5   c  170       177  1939     1939\n",
       "ERA-T2_1-5a_85         T2   1   5   a   85        49  Bare     Bare\n",
       "ERA-T1_1-2b_170        T1   1   2   b  170        16  1939     1939\n",
       "ERA-T1_1-4b_0          T1   1   4   b    0        42  2001     2001\n",
       "                SeedTreatment R_Year ERA BG_activity.g BX_activity.g\n",
       "ERA-T0_2-2c_0         Treated   2011   3      69.62831      16.06054\n",
       "ERA-T2_3-1d_85        Treated   2001   3     118.34208      15.36496\n",
       "ERA-T1_3-5c_170       Treated   1939   1      74.45039      21.77484\n",
       "ERA-T2_1-5a_85                    NA  NA      43.31686      11.52797\n",
       "ERA-T1_1-2b_170       Treated   1939   1      96.79331      21.01421\n",
       "ERA-T1_1-4b_0         Treated   2001   3      63.29524      17.04118\n",
       "                CB_activity.g LAP_activity.g NAG_activity.g    Stage kgdw_ha\n",
       "ERA-T0_2-2c_0        14.87243      124.05774      10.995909 Planting      NA\n",
       "ERA-T2_3-1d_85       18.47109      112.59693      20.604202       R1 10873.5\n",
       "ERA-T1_3-5c_170      22.76533       51.22149      20.166138       V6   301.5\n",
       "ERA-T2_1-5a_85       13.50582      207.03002       9.706186       R1      NA\n",
       "ERA-T1_1-2b_170      21.70019       46.58059      20.246058       V6   269.4\n",
       "ERA-T1_1-4b_0        13.62927       35.16869      16.516824       V6   291.6\n",
       "                FracN.leco FracC.leco     kgN_ha        RGR        AGR\n",
       "ERA-T0_2-2c_0           NA         NA         NA         NA         NA\n",
       "ERA-T2_3-1d_85    0.012280    0.44145 133.526580 0.07679324 306.648387\n",
       "ERA-T1_3-5c_170   0.025878    0.41664   7.802217 0.06068723   7.891667\n",
       "ERA-T2_1-5a_85          NA         NA         NA         NA         NA\n",
       "ERA-T1_1-2b_170   0.032903    0.40984   8.864068 0.05829206   7.000000\n",
       "ERA-T1_1-4b_0     0.018950    0.41287   5.525820 0.05997687   7.616667\n",
       "                    Nprod      NupR     d15N X15N_AtPercent      FracN\n",
       "ERA-T0_2-2c_0          NA        NA       NA             NA         NA\n",
       "ERA-T2_3-1d_85  2.2965344 3.5288531 402.5888      0.5130163 0.01223815\n",
       "ERA-T1_3-5c_170 1.0114646 0.1598961       NA             NA         NA\n",
       "ERA-T2_1-5a_85         NA        NA       NA             NA         NA\n",
       "ERA-T1_1-2b_170 0.7897051 0.1824887       NA             NA         NA\n",
       "ERA-T1_1-4b_0   1.3783776 0.1114621       NA             NA         NA\n",
       "                FracN_fromSoil FracN_fromFert kgFertN_ha kgSoilN_ha\n",
       "ERA-T0_2-2c_0               NA             NA         NA         NA\n",
       "ERA-T2_3-1d_85       0.7789229      0.2210771   29.41906   103.6524\n",
       "ERA-T1_3-5c_170             NA             NA         NA         NA\n",
       "ERA-T2_1-5a_85              NA             NA         NA         NA\n",
       "ERA-T1_1-2b_170             NA             NA         NA         NA\n",
       "ERA-T1_1-4b_0               NA             NA         NA         NA\n"
      ]
     },
     "metadata": {},
     "output_type": "display_data"
    }
   ],
   "source": [
    "%%R\n",
    "head(sample_data(physeq.era))"
   ]
  },
  {
   "cell_type": "markdown",
   "metadata": {},
   "source": [
    "# Filter and partition"
   ]
  },
  {
   "cell_type": "markdown",
   "metadata": {},
   "source": [
    "* Following: \n",
    "Callahan BJ, Sankaran K, Fukuyama JA et al. Bioconductor Workflow for Microbiome Data Analysis: from raw reads to community analyses [version 2; referees: 3 approved]. F1000Research 2016, 5:1492 (doi: 10.12688/f1000research.8986.2)"
   ]
  },
  {
   "cell_type": "markdown",
   "metadata": {},
   "source": [
    "## Remove taxa with unassigned higher ranks"
   ]
  },
  {
   "cell_type": "code",
   "execution_count": 23,
   "metadata": {
    "scrolled": true
   },
   "outputs": [
    {
     "data": {
      "text/plain": [
       "\n",
       "          __Acidobacteria          __Actinobacteria         __Armatimonadetes \n",
       "                      895                      1558                       210 \n",
       "          __Bacteroidetes                   __BD1-5               __BHI80-139 \n",
       "                      672                        19                         9 \n",
       "__Candidate_division_BRC1  __Candidate_division_OD1 __Candidate_division_OP11 \n",
       "                       60                       155                        30 \n",
       " __Candidate_division_OP3  __Candidate_division_SR1  __Candidate_division_TM7 \n",
       "                       35                         3                        57 \n",
       " __Candidate_division_WS3              __Chlamydiae                __Chlorobi \n",
       "                      115                       229                        40 \n",
       "            __Chloroflexi           __Cyanobacteria         __Deferribacteres \n",
       "                      964                       175                         1 \n",
       "    __Deinococcus-Thermus           __Elusimicrobia           __Fibrobacteres \n",
       "                       22                       110                        18 \n",
       "             __Firmicutes            __Fusobacteria        __Gemmatimonadetes \n",
       "                      889                         5                       315 \n",
       "                 __GOUTA4             __JL-ETNP-Z39             __Kazan-3B-28 \n",
       "                        1                         6                         2 \n",
       "          __Lentisphaerae             __Nitrospirae                __NPL-UPA2 \n",
       "                       14                        92                        25 \n",
       "         __Planctomycetes          __Proteobacteria                  __SM2F11 \n",
       "                     2086                      4402                        30 \n",
       "           __Spirochaetes                    __TA06             __Tenericutes \n",
       "                       11                         1                        11 \n",
       "            __Thermotogae                     __TM6         __Verrucomicrobia \n",
       "                        7                       119                       473 \n",
       "               __WCHB1-60                      <NA> \n",
       "                       24                        29 \n"
      ]
     },
     "metadata": {},
     "output_type": "display_data"
    }
   ],
   "source": [
    "%%R\n",
    "table(tax_table(physeq.era)[, \"Rank2\"], exclude = NULL)"
   ]
  },
  {
   "cell_type": "code",
   "execution_count": 24,
   "metadata": {
    "collapsed": true
   },
   "outputs": [],
   "source": [
    "%%R\n",
    "physeq.era <- subset_taxa(physeq.era, !is.na(Rank2))\n"
   ]
  },
  {
   "cell_type": "markdown",
   "metadata": {},
   "source": [
    "# Do we need to rarify?"
   ]
  },
  {
   "cell_type": "markdown",
   "metadata": {},
   "source": [
    "### check sequence counts"
   ]
  },
  {
   "cell_type": "code",
   "execution_count": 28,
   "metadata": {
    "collapsed": true
   },
   "outputs": [],
   "source": [
    "%%R\n",
    "mdf = psmelt(physeq.era)"
   ]
  },
  {
   "cell_type": "code",
   "execution_count": 29,
   "metadata": {
    "collapsed": true
   },
   "outputs": [],
   "source": [
    "%%R\n",
    "ss.df = mdf %>% group_by(Genotype, PlotID, TimePoint, Fert) %>%\n",
    "    summarise(Reads = sum(Abundance))\n",
    "mdf = NULL"
   ]
  },
  {
   "cell_type": "code",
   "execution_count": 30,
   "metadata": {},
   "outputs": [
    {
     "data": {
      "image/png": "[encoded data removed]"
     },
     "metadata": {},
     "output_type": "display_data"
    }
   ],
   "source": [
    "%%R\n",
    "ggplot(ss.df, aes(x = Genotype, y = Reads, color = TimePoint)) +\n",
    "    #geom_point(positition = position_dodge(0.4)) + \n",
    "    geom_boxplot() +\n",
    "    theme(axis.text.x = element_text(angle = 60))"
   ]
  },
  {
   "cell_type": "markdown",
   "metadata": {},
   "source": [
    "* Neither particular genotypes nor time points are dramatically underespresented in reads.  \n",
    "* No need to rarify for now"
   ]
  },
  {
   "cell_type": "markdown",
   "metadata": {},
   "source": [
    "## Filter"
   ]
  },
  {
   "cell_type": "code",
   "execution_count": 31,
   "metadata": {},
   "outputs": [
    {
     "data": {
      "text/plain": [
       "phyloseq-class experiment-level object\n",
       "otu_table()   OTU Table:         [ 4592 taxa and 243 samples ]\n",
       "sample_data() Sample Data:       [ 243 samples by 46 sample variables ]\n",
       "tax_table()   Taxonomy Table:    [ 4592 taxa by 8 taxonomic ranks ]\n",
       "phy_tree()    Phylogenetic Tree: [ 4592 tips and 4591 internal nodes ]\n"
      ]
     },
     "metadata": {},
     "output_type": "display_data"
    }
   ],
   "source": [
    "%%R \n",
    "# filtering/normalizing\n",
    "physeq.thresh = filter_taxa(physeq.era, function(x) sum(x > 3) > 3, TRUE)\n",
    "    \n",
    "physeq.snorm = transform_sample_counts(physeq.thresh, function(x) x/sum(x))\n",
    "\n",
    "physeq.snorm"
   ]
  },
  {
   "cell_type": "code",
   "execution_count": 32,
   "metadata": {
    "collapsed": true
   },
   "outputs": [],
   "source": [
    "%%R\n",
    "saveRDS(physeq.thresh, '/home/bryan/ERA/data/MiSeq/20170417_run1/phyloseq/ERA_thresh.rds')\n",
    "saveRDS(physeq.snorm, '/home/bryan/ERA/data/MiSeq/20170417_run1/phyloseq/ERA_snorm.rds') \n",
    "saveRDS(physeq.era, '/home/bryan/ERA/data/MiSeq/20170417_run1/phyloseq/ERA_full.rds')"
   ]
  },
  {
   "cell_type": "markdown",
   "metadata": {},
   "source": [
    "# Session info"
   ]
  },
  {
   "cell_type": "code",
   "execution_count": null,
   "metadata": {
    "collapsed": true
   },
   "outputs": [],
   "source": [
    "%%R\n",
    "sessionInfo()"
   ]
  }
 ],
 "metadata": {
  "anaconda-cloud": {},
  "hide_input": true,
  "kernelspec": {
   "display_name": "Python 3",
   "language": "python",
   "name": "python3"
  },
  "language_info": {
   "codemirror_mode": {
    "name": "ipython",
    "version": 3
   },
   "file_extension": ".py",
   "mimetype": "text/x-python",
   "name": "python",
   "nbconvert_exporter": "python",
   "pygments_lexer": "ipython3",
   "version": "3.6.1"
  }
 },
 "nbformat": 4,
 "nbformat_minor": 1
}
