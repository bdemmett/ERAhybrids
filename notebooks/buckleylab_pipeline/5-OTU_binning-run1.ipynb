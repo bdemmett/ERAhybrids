{
 "cells": [
  {
   "cell_type": "markdown",
   "metadata": {},
   "source": [
    "# OTU binning\n",
    "Following updated buckley lab walkthrough from github"
   ]
  },
  {
   "cell_type": "code",
   "execution_count": 1,
   "metadata": {
    "collapsed": true
   },
   "outputs": [],
   "source": [
    "workDir = '/home/bryan/ERA/data/MiSeq/20170417_run1/OTU_binning/' \n",
    "seqDir = '/home/bryan/ERA/data/MiSeq/20170417_run1/QC/' \n",
    "databaseDir = '/home/bryan/RhizCG/data/databases/'\n",
    "\n",
    "seqFile = '/home/bryan/ERA/data/MiSeq/20170417_run1/QC/finalQC.fasta'\n",
    "nprocs = 24"
   ]
  },
  {
   "cell_type": "code",
   "execution_count": 2,
   "metadata": {
    "collapsed": true
   },
   "outputs": [],
   "source": [
    "import os\n",
    "import re\n",
    "import glob\n",
    "import pandas as pd\n",
    "from qiime.assign_taxonomy import UclustConsensusTaxonAssigner\n",
    "from IPython.display import Image\n",
    "from cogent.app.usearch import clusters_from_blast_uc_file\n",
    "from cogent.parse.fasta import MinimalFastaParser as parse\n",
    "import sys"
   ]
  },
  {
   "cell_type": "code",
   "execution_count": 3,
   "metadata": {
    "collapsed": true
   },
   "outputs": [],
   "source": [
    "%load_ext rpy2.ipython"
   ]
  },
  {
   "cell_type": "code",
   "execution_count": 4,
   "metadata": {},
   "outputs": [
    {
     "name": "stderr",
     "output_type": "stream",
     "text": [
      "/opt/anaconda2/lib/python2.7/site-packages/rpy2/rinterface/__init__.py:186: RRuntimeWarning: \n",
      "Attaching package: ‘dplyr’\n",
      "\n",
      "\n",
      "  warnings.warn(x, RRuntimeWarning)\n",
      "/opt/anaconda2/lib/python2.7/site-packages/rpy2/rinterface/__init__.py:186: RRuntimeWarning: The following objects are masked from ‘package:stats’:\n",
      "\n",
      "    filter, lag\n",
      "\n",
      "\n",
      "  warnings.warn(x, RRuntimeWarning)\n",
      "/opt/anaconda2/lib/python2.7/site-packages/rpy2/rinterface/__init__.py:186: RRuntimeWarning: The following objects are masked from ‘package:base’:\n",
      "\n",
      "    intersect, setdiff, setequal, union\n",
      "\n",
      "\n",
      "  warnings.warn(x, RRuntimeWarning)\n",
      "/opt/anaconda2/lib/python2.7/site-packages/rpy2/rinterface/__init__.py:186: RRuntimeWarning: \n",
      "Attaching package: ‘gridExtra’\n",
      "\n",
      "\n",
      "  warnings.warn(x, RRuntimeWarning)\n",
      "/opt/anaconda2/lib/python2.7/site-packages/rpy2/rinterface/__init__.py:186: RRuntimeWarning: The following object is masked from ‘package:dplyr’:\n",
      "\n",
      "    combine\n",
      "\n",
      "\n",
      "  warnings.warn(x, RRuntimeWarning)\n"
     ]
    }
   ],
   "source": [
    "%%R\n",
    "library(ggplot2)\n",
    "library(dplyr)\n",
    "library(tidyr)\n",
    "library(gridExtra)"
   ]
  },
  {
   "cell_type": "code",
   "execution_count": 5,
   "metadata": {},
   "outputs": [],
   "source": [
    "if not os.path.isdir(workDir):\n",
    "    os.makedirs(workDir)"
   ]
  },
  {
   "cell_type": "markdown",
   "metadata": {},
   "source": [
    "# Concatenate section \n",
    "refer to github if binning OTUs from multiple runs"
   ]
  },
  {
   "cell_type": "code",
   "execution_count": 6,
   "metadata": {
    "scrolled": true
   },
   "outputs": [
    {
     "name": "stdout",
     "output_type": "stream",
     "text": [
      "\u001b[H\u001b[2J\n",
      "\n",
      "\n",
      "\n",
      "\n",
      "\n",
      "mothur v.1.39.5\n",
      "Last updated: 3/20/2017\n",
      "\n",
      "by\n",
      "Patrick D. Schloss\n",
      "\n",
      "Department of Microbiology & Immunology\n",
      "University of Michigan\n",
      "http://www.mothur.org\n",
      "\n",
      "When using, please cite:\n",
      "Schloss, P.D., et al., Introducing mothur: Open-source, platform-independent, community-supported software for describing and comparing microbial communities. Appl Environ Microbiol, 2009. 75(23):7537-41.\n",
      "\n",
      "Distributed under the GNU General Public License\n",
      "\n",
      "Type 'help()' for information on the commands that are available\n",
      "\n",
      "For questions and analysis support, please visit our forum at https://www.mothur.org/forum\n",
      "\n",
      "Type 'quit()' to exit program\n",
      "\n",
      "\n",
      "\n",
      "mothur > unique.seqs(fasta=/home/bryan/ERA/data/MiSeq/20170417_run1/QC/finalQC.fasta)\n",
      "1000\t4\n",
      "2000\t10\n",
      "3000\t10\n",
      "4000\t10\n",
      "5000\t11\n",
      "6000\t11\n",
      "7000\t11\n",
      "8000\t11\n",
      "9000\t11\n",
      "10000\t14\n",
      "11000\t14\n",
      "12000\t14\n",
      "13000\t14\n",
      "14000\t14\n",
      "15000\t17\n",
      "16000\t17\n",
      "17000\t17\n",
      "18000\t17\n",
      "19000\t20\n",
      "20000\t20\n"
     ]
    }
   ],
   "source": [
    "%%bash -s \"$workDir\" \"$seqFile\"\n",
    "\n",
    "cd $1\n",
    "\n",
    "mothur \"#unique.seqs(fasta=$2)\" | head -n 50"
   ]
  },
  {
   "cell_type": "code",
   "execution_count": 7,
   "metadata": {},
   "outputs": [
    {
     "name": "stdout",
     "output_type": "stream",
     "text": [
      "Number of sequences in final QC unique fasta: 5840960\n",
      ">ERA-T2_1-2a_85_0\n",
      "TACGTAAGGGCCGAGCGTTGTCCGGAGTTACTGGGCGTAAAGCGCGCGCAGGCGGCTCGCTTTGCCCGGCGTGAAAGCCCCCGGCTCAACCGGGGAGGGTCGTCGGGGACGGGCGAGCTTGAGGCCGGCAGGGGCAGGTGGAATTCCCGGTGTAGTGGTGAAATGCGTAGAGATCGGGAGGAACACCCGTGGCGAAGGCGGCCTGCTGGGCCGGACCTGACGCTGAGGCGCGAAGGCGTGGGGAGCGAACGGG\n",
      ">ERA-T1_2-2d_85_1\n",
      "TACAGAGGGTGCAAGCGTTGTTCGGAATCATTGGGCGTAAAGGGCGTGTAGGCGGTCTGCTAAGTCATGTGTGAAATCCCTCGGCTCAACCGGGGAACGACGCATGAAACTGACAAGCTAGAGTACCAAAGAGGGGGGTGGAATTCCCGGTGTAGCGGTGAAATGCGTAGATATCGGGAGGAACACCGGTGGCGAAGGCGGCCCCCTGGTTGGATACTGACGCTGAGACGCGAAAGCGTGGGGAGCAAACAGG\n",
      ">ERA-T1_2-2b_0_14035440\n",
      "TACGGAGGGCGCAAGCGTTGTCCGGAATTATTGGGCGTAAAGAGCTCGTAGGCGGTCTGTCGCGTCGGATGTGAAAGCCCGGGGCTCAACCCCGGACTTGCAGTGGGTACGGGCAGACTAGAGTGTGGGAGGGGAGACTGGAATTCCTGGTGTAGCGGTGAAATGCGCAGATATCAGGAGGAACACCGATGGCGAAGGCAGGTCTCTGGGCCACTACTGACGCTGAGAAGCGAAAGCATGGGGAGCGAACAGG\n",
      ">ERA-T2_4-2a_85_14028569\n",
      "TACGGAGGGGGCGAGCGTTGTTCGGAATTACTGGGCGTAAAGCGCACGTAGGCGGCGCCGCAAGTCAGGGGTGAAATCCCGGGGCTCAACCCCGGAACTGCCTCTGAAACTGCAGTGCTAGAATCTTGGAGAGGAGAGTGGAATTCCGAGTGTAGAGGTGAAATTCGTAGATATTCGGAAGAACACCAGTGGCGAAGGCGACTCGCTGGACAAGTATTGACGCTGAGGTGCGAAAGCGTGGGGAGCAAACAGG\n"
     ]
    }
   ],
   "source": [
    "%%bash -s \"$workDir\"\n",
    "\n",
    "cd $1\n",
    "\n",
    "ln -f -s ../QC/finalQC.unique.fasta .\n",
    "\n",
    "printf \"Number of sequences in final QC unique fasta: \"\n",
    "grep -c \">\" finalQC.unique.fasta\n",
    "\n",
    "head -n 4 finalQC.unique.fasta\n",
    "tail -n 4 finalQC.unique.fasta"
   ]
  },
  {
   "cell_type": "markdown",
   "metadata": {},
   "source": [
    "# Format for Usearch"
   ]
  },
  {
   "cell_type": "code",
   "execution_count": 8,
   "metadata": {},
   "outputs": [],
   "source": [
    "counts = {}\n",
    "inFile = os.path.join(seqDir, 'finalQC.names')\n",
    "with open(inFile) as iFH:\n",
    "    for line in iFH:\n",
    "        seedID, seqIDs = line.split(\"\\t\")\n",
    "        count = len(seqIDs.split(\",\"))\n",
    "        counts[seedID] = count "
   ]
  },
  {
   "cell_type": "code",
   "execution_count": 9,
   "metadata": {},
   "outputs": [],
   "source": [
    "outFile = os.path.join(workDir, 'finalQC.unique.usearch_names.fasta')\n",
    "with open(outFile, 'w') as oFH:\n",
    "    inFile = os.path.join(workDir, 'finalQC.unique.fasta')\n",
    "    for n, s in parse(open(inFile)):\n",
    "        if counts[n] > 1:\n",
    "            oFH.write(\">%s;size=%s;\\n%s\\n\"%(n,counts[n],s))\n",
    "        else:\n",
    "            continue"
   ]
  },
  {
   "cell_type": "code",
   "execution_count": 10,
   "metadata": {
    "scrolled": true
   },
   "outputs": [
    {
     "name": "stdout",
     "output_type": "stream",
     "text": [
      ">ERA-T2_1-2a_85_0;size=3;\r\n",
      "TACGTAAGGGCCGAGCGTTGTCCGGAGTTACTGGGCGTAAAGCGCGCGCAGGCGGCTCGCTTTGCCCGGCGTGAAAGCCCCCGGCTCAACCGGGGAGGGTCGTCGGGGACGGGCGAGCTTGAGGCCGGCAGGGGCAGGTGGAATTCCCGGTGTAGTGGTGAAATGCGTAGAGATCGGGAGGAACACCCGTGGCGAAGGCGGCCTGCTGGGCCGGACCTGACGCTGAGGCGCGAAGGCGTGGGGAGCGAACGGG\r\n",
      ">ERA-T1_2-2d_85_1;size=90;\r\n",
      "TACAGAGGGTGCAAGCGTTGTTCGGAATCATTGGGCGTAAAGGGCGTGTAGGCGGTCTGCTAAGTCATGTGTGAAATCCCTCGGCTCAACCGGGGAACGACGCATGAAACTGACAAGCTAGAGTACCAAAGAGGGGGGTGGAATTCCCGGTGTAGCGGTGAAATGCGTAGATATCGGGAGGAACACCGGTGGCGAAGGCGGCCCCCTGGTTGGATACTGACGCTGAGACGCGAAAGCGTGGGGAGCAAACAGG\r\n",
      ">ERA-T3_2-2c_170_3;size=1466;\r\n",
      "TACGTAGGGGTCGAGCGTTGTCCGGAGTTACTGGGCGTAAAGCGTGCGCAGGCGGCTCATTGCGCCCGGCGTGAAAGCCCCCGGCTCAACCGGGGAGGGTCGTCGGGGACGGGTGAGCTTGAGGGTATCAGGGGCTGGTGGAATTCCCGGTGTAGTGGTGAAATGCGTAGAGATCGGGAGGAACACCCGTGGCGAAGGCGGCCAGCTGGGATACACCTGACGCTGAGGCACGAAGGCGTGGGGAGCGAACGGG\r\n"
     ]
    }
   ],
   "source": [
    "!cd $workDir; \\\n",
    "head -n 6 finalQC.unique.usearch_names.fasta"
   ]
  },
  {
   "cell_type": "markdown",
   "metadata": {},
   "source": [
    "# Usearch Pipeline"
   ]
  },
  {
   "cell_type": "markdown",
   "metadata": {},
   "source": [
    "* sort sequences by size"
   ]
  },
  {
   "cell_type": "code",
   "execution_count": 11,
   "metadata": {
    "scrolled": true
   },
   "outputs": [
    {
     "name": "stdout",
     "output_type": "stream",
     "text": [
      "usearch v9.2.64_i86linux32, 4.0Gb RAM (132Gb total), 40 cores\n",
      "(C) Copyright 2013-16 Robert C. Edgar, all rights reserved.\n",
      "http://drive5.com/usearch\n",
      "\n",
      "License: seb369@cornell.edu\n",
      "\n",
      "00:02 331Mb   100.0% Reading finalQC.unique.usearch_names.fasta\n",
      "00:02 297Mb  Getting sizes                                     \n",
      "00:02 305Mb  Sorting 926204 sequences\n",
      "00:04 308Mb   100.0% Writing output\n"
     ]
    }
   ],
   "source": [
    "!cd $workDir; \\\n",
    "usearch \\\n",
    "-sortbysize finalQC.unique.usearch_names.fasta \\\n",
    "-fastaout finalQC_uniques_sorted.fasta \\\n",
    "-minsize 2"
   ]
  },
  {
   "cell_type": "code",
   "execution_count": 12,
   "metadata": {
    "scrolled": false
   },
   "outputs": [
    {
     "name": "stdout",
     "output_type": "stream",
     "text": [
      ">ERA-T3_1-2c_170_65;size=161902;\r\n",
      "GACAGAGGATGCAAGCGTTATCCGGAATGATTGGGCGTAAAGCGTCTGTAGGTGGCTTTTCAAGTCCGCCGTCAAATCCC\r\n",
      "AGGGCTCAACCCTGGACAGGCGGTGGAAACTACCAAGCTGGAGTACGGTAGGGGCAGAGGGAATTTCCGGTGGAGCGGTG\r\n",
      "AAATGCATTGAGATCGGAAAGAACACCAACGGCGAAAGCACTCTGCTGGGCCGACACTGACACTGAGAGACGAAAGCTAG\r\n",
      "GGGAGCAAATGGG\r\n",
      ">ERA-T2_3-1b_85_27;size=87257;\r\n",
      "TACCAGCACCCCGAGTGGTCGGGACGATTATTGGGCCTAAAGCATCCGTAGCCGGTCTTGCAAGTCTTCCGTTAAATCCA\r\n",
      "CCTGCTTAACAGATGGGCTGCGGAAGATACTACAAGACTAGGAGGCGGGAGAGGCAAGCGGTACTCAGTGGGTAGGGGTA\r\n",
      "AAATCCTCTGATCCATTGAAGACCACCAGTGGCGAAGGCGGCTTGCCAGAACGCGCTCGACGGTGAGGGATGAAAGCTGG\r\n",
      "GGGAGCAAACCGG\r\n",
      ">ERA-T2_4-3d_85_5360919;size=2;\r\n",
      "GACGAACCGTGCGAACGTTGTTCGGAATCACTGGGCTTAAAGGGCGCGTAGGCGGGTTTTCAAGTCTGTGGTGAAATCCT\r\n",
      "CCAGCTTAACTGGAGAAGTGCCGTGGATACTGGAGACCTCGAGGAGGGTAGGGGCATCTGGAACAGCCGGTGGATCGGTG\r\n",
      "AAATGCGTTGATATCGGCTGGAACTCCGATGGCGAAGGCAAGGTGCTGGACCCTATCTGACGCTGAGGCGCGAAAGCCAG\r\n",
      "GGGAGCGAACGGG\r\n",
      ">ERA-T3_2-2d_85_5360912;size=2;\r\n",
      "TACGAAGGGGGCTAGCGTTGTTCGGAATTACTGGGCGTAAAGCGTGCGTAGGTGGTTCGTTAAGTCTGATGTGAAAGCCC\r\n",
      "TGGGCTCAACCTGGGAATGGCATTGGATACTGGCGATCTAGAGTGCGGTAGAGGGGTGTGGAATTCCCGGTGTAGCAGTG\r\n",
      "AAATGCGTAGATATCGGGAGGAACACCGGTGGCGAAGGCGGCCCCCTGGTTGGATACTGACGCTGAGACGCGAAAGCGTG\r\n",
      "GGGAGCAAACAGG\r\n"
     ]
    }
   ],
   "source": [
    "!cd $workDir; \\\n",
    "head finalQC_uniques_sorted.fasta; \\\n",
    "tail finalQC_uniques_sorted.fasta"
   ]
  },
  {
   "cell_type": "markdown",
   "metadata": {},
   "source": [
    "* Cluster OTUs using sorted sequence file"
   ]
  },
  {
   "cell_type": "code",
   "execution_count": 13,
   "metadata": {},
   "outputs": [
    {
     "name": "stdout",
     "output_type": "stream",
     "text": [
      "usearch v9.2.64_i86linux32, 4.0Gb RAM (132Gb total), 40 cores\n",
      "(C) Copyright 2013-16 Robert C. Edgar, all rights reserved.\n",
      "http://drive5.com/usearch\n",
      "\n",
      "License: seb369@cornell.edu\n",
      "\n",
      "**OUTPUT MUTED**8.3% 9768 OTUs, 32715 chimeras"
     ]
    }
   ],
   "source": [
    "!cd $workDir; \\\n",
    "usearch \\\n",
    "-cluster_otus finalQC_uniques_sorted.fasta \\\n",
    "-otus otus.fasta"
   ]
  },
  {
   "cell_type": "markdown",
   "metadata": {},
   "source": [
    "## rename OTUs with simple name"
   ]
  },
  {
   "cell_type": "code",
   "execution_count": 14,
   "metadata": {
    "collapsed": true
   },
   "outputs": [],
   "source": [
    "%%bash -s \"$workDir\"\n",
    "cd $1\n",
    "\n",
    "bioawk -c fastx '{print \">\" \"OTU\" \".\" NR \"\\n\" $seq}' otus.fasta > otusn.fasta"
   ]
  },
  {
   "cell_type": "code",
   "execution_count": 15,
   "metadata": {
    "scrolled": true
   },
   "outputs": [
    {
     "name": "stdout",
     "output_type": "stream",
     "text": [
      ">OTU.1\r\n",
      "GACAGAGGATGCAAGCGTTATCCGGAATGATTGGGCGTAAAGCGTCTGTAGGTGGCTTTTCAAGTCCGCCGTCAAATCCCAGGGCTCAACCCTGGACAGGCGGTGGAAACTACCAAGCTGGAGTACGGTAGGGGCAGAGGGAATTTCCGGTGGAGCGGTGAAATGCATTGAGATCGGAAAGAACACCAACGGCGAAAGCACTCTGCTGGGCCGACACTGACACTGAGAGACGAAAGCTAGGGGAGCAAATGGG\r\n",
      ">OTU.2\r\n",
      "TACCAGCACCCCGAGTGGTCGGGACGATTATTGGGCCTAAAGCATCCGTAGCCGGTCTTGCAAGTCTTCCGTTAAATCCACCTGCTTAACAGATGGGCTGCGGAAGATACTACAAGACTAGGAGGCGGGAGAGGCAAGCGGTACTCAGTGGGTAGGGGTAAAATCCTCTGATCCATTGAAGACCACCAGTGGCGAAGGCGGCTTGCCAGAACGCGCTCGACGGTGAGGGATGAAAGCTGGGGGAGCAAACCGG\r\n"
     ]
    }
   ],
   "source": [
    "!cd $workDir; head -n 4 otusn.fasta"
   ]
  },
  {
   "cell_type": "markdown",
   "metadata": {},
   "source": [
    "## assign taxonomy"
   ]
  },
  {
   "cell_type": "code",
   "execution_count": 16,
   "metadata": {},
   "outputs": [],
   "source": [
    "%%bash -s \"$workDir\" \"$databaseDir\" \"$nprocs\"\n",
    "\n",
    "cd $1\n",
    "\n",
    "assign_taxonomy.py \\\n",
    "    -r $2'97_Silva_111_rep_set_no_ambig.fasta' \\\n",
    "    -t $2'Silva_111_taxa_map_full.txt' \\\n",
    "    -i otusn.fasta \\\n",
    "    -o otusn_tax"
   ]
  },
  {
   "cell_type": "markdown",
   "metadata": {},
   "source": [
    "## remove undesirables"
   ]
  },
  {
   "cell_type": "code",
   "execution_count": 17,
   "metadata": {
    "collapsed": true
   },
   "outputs": [],
   "source": [
    "%%bash -s \"$workDir\" \"$databaseDir\"\n",
    "\n",
    "cd $1\n",
    "\n",
    "egrep \"Chloroplast|Eukaryota|Archaea|Unassigned|mitochondria\" \\\n",
    "otusn_tax/otusn_tax_assignments.txt |\\\n",
    "awk '{print $1}' > to_remove_tax.accnos"
   ]
  },
  {
   "cell_type": "code",
   "execution_count": 18,
   "metadata": {
    "scrolled": true
   },
   "outputs": [
    {
     "name": "stdout",
     "output_type": "stream",
     "text": [
      "\u001b[H\u001b[2J\n",
      "\n",
      "\n",
      "\n",
      "\n",
      "\n",
      "mothur v.1.39.5\n",
      "Last updated: 3/20/2017\n",
      "\n",
      "by\n",
      "Patrick D. Schloss\n",
      "\n",
      "Department of Microbiology & Immunology\n",
      "University of Michigan\n",
      "http://www.mothur.org\n",
      "\n",
      "When using, please cite:\n",
      "Schloss, P.D., et al., Introducing mothur: Open-source, platform-independent, community-supported software for describing and comparing microbial communities. Appl Environ Microbiol, 2009. 75(23):7537-41.\n",
      "\n",
      "Distributed under the GNU General Public License\n",
      "\n",
      "Type 'help()' for information on the commands that are available\n",
      "\n",
      "For questions and analysis support, please visit our forum at https://www.mothur.org/forum\n",
      "\n",
      "Type 'quit()' to exit program\n",
      "\n",
      "\n",
      "\n",
      "mothur > remove.seqs(fasta=otusn.fasta, accnos=to_remove_tax.accnos)\n",
      "Removed 1895 sequences from your fasta file.\n",
      "\n",
      "Output File Names: \n",
      "otusn.pick.fasta\n",
      "\n",
      "\n",
      "mothur > quit()\n"
     ]
    }
   ],
   "source": [
    "!cd $workDir; \\\n",
    "mothur \"#remove.seqs(fasta=otusn.fasta, accnos=to_remove_tax.accnos)\" | head -n 50"
   ]
  },
  {
   "cell_type": "code",
   "execution_count": 19,
   "metadata": {},
   "outputs": [
    {
     "name": "stdout",
     "output_type": "stream",
     "text": [
      "Pre-filter: number of sequences: 15814\n",
      "Post-filter: number of sequences: 13919\n"
     ]
    }
   ],
   "source": [
    "!printf \"Pre-filter: number of sequences: \"\n",
    "!cd $workDir; grep -c \">\" otusn.fasta\n",
    "!printf \"Post-filter: number of sequences: \"\n",
    "!cd $workDir; grep -c \">\" otusn.pick.fasta"
   ]
  },
  {
   "cell_type": "markdown",
   "metadata": {},
   "source": [
    "# Mapping reads"
   ]
  },
  {
   "cell_type": "markdown",
   "metadata": {},
   "source": [
    "* reformat for usearch"
   ]
  },
  {
   "cell_type": "code",
   "execution_count": 20,
   "metadata": {},
   "outputs": [],
   "source": [
    "%%bash -s \"$seqDir\"\n",
    "cd $1\n",
    "\n",
    "perl -pe 's/^>(.+)(_[^_]+)\\n$/>$1$2\\_$.;barcodelabel=$1\\n/' finalQC.fasta > finalQC_usearchfmt.fasta"
   ]
  },
  {
   "cell_type": "code",
   "execution_count": 21,
   "metadata": {
    "scrolled": true
   },
   "outputs": [
    {
     "name": "stdout",
     "output_type": "stream",
     "text": [
      ">ERA-T2_1-2a_85_0_1;barcodelabel=ERA-T2_1-2a_85\r\n",
      "TACGTAAGGGCCGAGCGTTGTCCGGAGTTACTGGGCGTAAAGCGCGCGCAGGCGGCTCGCTTTGCCCGGCGTGAAAGCCCCCGGCTCAACCGGGGAGGGTCGTCGGGGACGGGCGAGCTTGAGGCCGGCAGGGGCAGGTGGAATTCCCGGTGTAGTGGTGAAATGCGTAGAGATCGGGAGGAACACCCGTGGCGAAGGCGGCCTGCTGGGCCGGACCTGACGCTGAGGCGCGAAGGCGTGGGGAGCGAACGGG\r\n",
      ">ERA-T2_3-3a_85_4356060_3;barcodelabel=ERA-T2_3-3a_85\r\n",
      "TACGTAAGGGCCGAGCGTTGTCCGGAGTTACTGGGCGTAAAGCGCGCGCAGGCGGCTCGCTTTGCCCGGCGTGAAAGCCCCCGGCTCAACCGGGGAGGGTCGTCGGGGACGGGCGAGCTTGAGGCCGGCAGGGGCAGGTGGAATTCCCGGTGTAGTGGTGAAATGCGTAGAGATCGGGAGGAACACCCGTGGCGAAGGCGGCCTGCTGGGCCGGACCTGACGCTGAGGCGCGAAGGCGTGGGGAGCGAACGGG\r\n",
      ">ERA-T3_3-1c_0_9817383_5;barcodelabel=ERA-T3_3-1c_0\r\n",
      "TACGTAAGGGCCGAGCGTTGTCCGGAGTTACTGGGCGTAAAGCGCGCGCAGGCGGCTCGCTTTGCCCGGCGTGAAAGCCCCCGGCTCAACCGGGGAGGGTCGTCGGGGACGGGCGAGCTTGAGGCCGGCAGGGGCAGGTGGAATTCCCGGTGTAGTGGTGAAATGCGTAGAGATCGGGAGGAACACCCGTGGCGAAGGCGGCCTGCTGGGCCGGACCTGACGCTGAGGCGCGAAGGCGTGGGGAGCGAACGGG\r\n"
     ]
    }
   ],
   "source": [
    "!cd $seqDir; head -n 6 finalQC_usearchfmt.fasta"
   ]
  },
  {
   "cell_type": "markdown",
   "metadata": {},
   "source": [
    "## Split into smaller files"
   ]
  },
  {
   "cell_type": "code",
   "execution_count": null,
   "metadata": {},
   "outputs": [
    {
     "name": "stdout",
     "output_type": "stream",
     "text": [
      "4.1G\tfinalQC_usearchfmt.fasta\r\n"
     ]
    }
   ],
   "source": [
    "!cd $seqDir; \\\n",
    "du -h finalQC_usearchfmt.fasta"
   ]
  },
  {
   "cell_type": "code",
   "execution_count": null,
   "metadata": {},
   "outputs": [],
   "source": [
    "#spliting file\n",
    "!cd $seqDir; \\\n",
    "pyfasta split -n 5 finalQC_usearchfmt.fasta"
   ]
  },
  {
   "cell_type": "code",
   "execution_count": null,
   "metadata": {
    "scrolled": true
   },
   "outputs": [
    {
     "data": {
      "text/plain": [
       "['/home/bryan/ERA/data/MiSeq/20170417_run1/QC/finalQC_usearchfmt.4.fasta',\n",
       " '/home/bryan/ERA/data/MiSeq/20170417_run1/QC/finalQC_usearchfmt.3.fasta',\n",
       " '/home/bryan/ERA/data/MiSeq/20170417_run1/QC/finalQC_usearchfmt.1.fasta',\n",
       " '/home/bryan/ERA/data/MiSeq/20170417_run1/QC/finalQC_usearchfmt.2.fasta',\n",
       " '/home/bryan/ERA/data/MiSeq/20170417_run1/QC/finalQC_usearchfmt.0.fasta']"
      ]
     },
     "execution_count": 24,
     "metadata": {},
     "output_type": "execute_result"
    }
   ],
   "source": [
    "g = os.path.join(seqDir, 'finalQC_usearchfmt.*.fasta')\n",
    "fileList = glob.glob(g)\n",
    "fileList  "
   ]
  },
  {
   "cell_type": "code",
   "execution_count": null,
   "metadata": {},
   "outputs": [
    {
     "name": "stdout",
     "output_type": "stream",
     "text": [
      "usearch v9.2.64_i86linux32, 4.0Gb RAM (132Gb total), 40 cores\n",
      "(C) Copyright 2013-16 Robert C. Edgar, all rights reserved.\n",
      "http://drive5.com/usearch\n",
      "\n",
      "License: seb369@cornell.edu\n",
      "\n",
      "00:00 44Mb    100.0% Reading otusn.pick.fasta\n",
      "00:00 10Mb    100.0% Masking (fastnucleo)    \n",
      "00:00 11Mb      0.1% Word stats          \r"
     ]
    },
    {
     "name": "stderr",
     "output_type": "stream",
     "text": [
      "Processing /home/bryan/ERA/data/MiSeq/20170417_run1/QC/finalQC_usearchfmt.4.fasta\n"
     ]
    },
    {
     "name": "stdout",
     "output_type": "stream",
     "text": [
      "00:00 11Mb    100.0% Word stats\n",
      "00:00 11Mb    100.0% Alloc rows\n",
      "00:00 24Mb    100.0% Build index\n",
      "00:29 304Mb   100.0% Searching finalQC_usearchfmt.4.fasta, 66.7% matched\n",
      "usearch v9.2.64_i86linux32, 4.0Gb RAM (132Gb total), 40 cores\n",
      "(C) Copyright 2013-16 Robert C. Edgar, all rights reserved.\n",
      "http://drive5.com/usearch\n",
      "\n",
      "License: seb369@cornell.edu\n",
      "\n",
      "00:00 44Mb    100.0% Reading otusn.pick.fasta\n",
      "00:00 10Mb    100.0% Masking (fastnucleo)    \n",
      "00:01 11Mb     30.9% Word stats          \r"
     ]
    },
    {
     "name": "stderr",
     "output_type": "stream",
     "text": [
      "Processing /home/bryan/ERA/data/MiSeq/20170417_run1/QC/finalQC_usearchfmt.3.fasta\n"
     ]
    },
    {
     "name": "stdout",
     "output_type": "stream",
     "text": [
      "00:01 11Mb    100.0% Word stats\n",
      "00:01 11Mb    100.0% Alloc rows\n",
      "00:01 24Mb    100.0% Build index\n",
      "00:29 305Mb   100.0% Searching finalQC_usearchfmt.3.fasta, 66.7% matched\n",
      "usearch v9.2.64_i86linux32, 4.0Gb RAM (132Gb total), 40 cores\n",
      "(C) Copyright 2013-16 Robert C. Edgar, all rights reserved.\n",
      "http://drive5.com/usearch\n",
      "\n",
      "License: seb369@cornell.edu\n",
      "\n",
      "00:00 44Mb    100.0% Reading otusn.pick.fasta\n",
      "00:01 10Mb    100.0% Masking (fastnucleo)    \n",
      "00:01 11Mb      0.1% Word stats          \r"
     ]
    },
    {
     "name": "stderr",
     "output_type": "stream",
     "text": [
      "Processing /home/bryan/ERA/data/MiSeq/20170417_run1/QC/finalQC_usearchfmt.1.fasta\n"
     ]
    },
    {
     "name": "stdout",
     "output_type": "stream",
     "text": [
      "00:01 11Mb    100.0% Word stats\n",
      "00:01 11Mb    100.0% Alloc rows\n",
      "00:01 24Mb    100.0% Build index\n",
      "00:30 304Mb   100.0% Searching finalQC_usearchfmt.1.fasta, 66.6% matched\n",
      "usearch v9.2.64_i86linux32, 4.0Gb RAM (132Gb total), 40 cores\n",
      "(C) Copyright 2013-16 Robert C. Edgar, all rights reserved.\n",
      "http://drive5.com/usearch\n",
      "\n",
      "License: seb369@cornell.edu\n",
      "\n",
      "00:00 44Mb    100.0% Reading otusn.pick.fasta\n",
      "00:00 10Mb    100.0% Masking (fastnucleo)    \n",
      "00:00 11Mb      0.1% Word stats          \r"
     ]
    },
    {
     "name": "stderr",
     "output_type": "stream",
     "text": [
      "Processing /home/bryan/ERA/data/MiSeq/20170417_run1/QC/finalQC_usearchfmt.2.fasta\n"
     ]
    },
    {
     "name": "stdout",
     "output_type": "stream",
     "text": [
      "00:00 11Mb    100.0% Word stats\n",
      "00:00 11Mb    100.0% Alloc rows\n",
      "00:00 24Mb    100.0% Build index\n",
      "**OUTPUT MUTED**9.9% Searching finalQC_usearchfmt.2.fasta, 66.9% matched"
     ]
    }
   ],
   "source": [
    "# running usearch on each split file\n",
    "for f in fileList:\n",
    "    sys.stderr.write('Processing {}\\n'.format(f))\n",
    "\n",
    "    ff,_ = os.path.splitext(f)\n",
    "    _,i = os.path.splitext(ff)\n",
    "    uc = 'readmap{}.uc'.format(i.lstrip('.')) \n",
    "\n",
    "    !cd $workDir; \\\n",
    "        usearch \\\n",
    "        -usearch_global $f \\\n",
    "        -db otusn.pick.fasta \\\n",
    "        -strand plus -id 0.97 \\\n",
    "        -uc $uc \\\n",
    "        -threads $nprocs"
   ]
  },
  {
   "cell_type": "markdown",
   "metadata": {},
   "source": [
    "* after creating readmapped files in parrallel, concat them back together"
   ]
  },
  {
   "cell_type": "code",
   "execution_count": null,
   "metadata": {
    "collapsed": true
   },
   "outputs": [],
   "source": [
    "!cd $workDir; \\\n",
    "cat readmap[0-9].uc > readmap_all.uc"
   ]
  },
  {
   "cell_type": "markdown",
   "metadata": {},
   "source": [
    "* convert from usearch to OTU table"
   ]
  },
  {
   "cell_type": "code",
   "execution_count": null,
   "metadata": {},
   "outputs": [
    {
     "name": "stdout",
     "output_type": "stream",
     "text": [
      "**OUTPUT MUTED**76.0%   "
     ]
    }
   ],
   "source": [
    "!cd $workDir; \\\n",
    "python /opt/edgar_python_scripts/uc2otutab.py readmap_all.uc > otu_table.txt"
   ]
  },
  {
   "cell_type": "markdown",
   "metadata": {},
   "source": [
    "* convert from OTU table to biom format"
   ]
  },
  {
   "cell_type": "code",
   "execution_count": null,
   "metadata": {},
   "outputs": [],
   "source": [
    "%%bash -s \"$workDir\"\n",
    "\n",
    "cd $1\n",
    "\n",
    "if [ -f otu_table.biom ]; then\n",
    "rm otu_table.biom\n",
    "fi \n",
    "\n",
    "biom convert -i otu_table.txt -o otu_table.biom --to-hdf5 --table-type \"OTU table\""
   ]
  },
  {
   "cell_type": "markdown",
   "metadata": {},
   "source": [
    "* create biom table summary"
   ]
  },
  {
   "cell_type": "code",
   "execution_count": null,
   "metadata": {},
   "outputs": [],
   "source": [
    "%%bash -s \"$workDir\"\n",
    "\n",
    "cd $1\n",
    "\n",
    "if [ -f otu_table_summary.txt ]; then\n",
    "rm otu_table_summary.txt\n",
    "fi \n",
    "\n",
    "biom summarize-table -i otu_table.biom -o otu_table_summary.txt"
   ]
  },
  {
   "cell_type": "code",
   "execution_count": null,
   "metadata": {},
   "outputs": [
    {
     "name": "stdout",
     "output_type": "stream",
     "text": [
      "Num samples: 252\r\n",
      "Num observations: 13919\r\n",
      "Total count: 9289527\r\n",
      "Table density (fraction of non-zero values): 0.228\r\n",
      "\r\n",
      "Counts/sample summary:\r\n",
      " Min: 1.0\r\n",
      " Max: 118274.0\r\n",
      " Median: 35433.500\r\n",
      " Mean: 36863.202\r\n",
      " Std. dev.: 16583.991\r\n",
      " Sample Metadata Categories: None provided\r\n",
      " Observation Metadata Categories: None provided\r\n",
      "\r\n",
      "Counts/sample detail:\r\n",
      "IndexQC_Rev: 1.0\r\n",
      "PostiveControl_C: 25.0\r\n",
      "PosControl_B: 29.0\r\n",
      "NegControl_C: 38.0\r\n",
      "PosControl_A: 73.0\r\n",
      "NegControl_A: 150.0\r\n",
      "NegControl_Plate: 264.0\r\n",
      "NegControl_B: 1271.0\r\n",
      "ERA-T1_2-3b_170: 11799.0\r\n",
      "ERA-T1_3-4c_170: 13557.0\r\n",
      "ERA-T1_3-5c_85: 15984.0\r\n",
      "ERA-T2_4-4d_85: 16398.0\r\n",
      "ERA-T2_4-3b_85: 16842.0\r\n",
      "ERA-T1_1-2b_85: 16989.0\r\n",
      "ERA-T3_3-1a_0: 17047.0\r\n",
      "ERA-T2_3-1c_85: 17260.0\r\n",
      "ERA-T3_4-4a_0: 17824.0\r\n",
      "ERA-T3_1-2b_170: 18065.0\r\n",
      "ERA-T3_3-1d_85: 18334.0\r\n",
      "ERA-T3_3-3a_170: 18572.0\r\n",
      "ERA-T3_3-1d_170: 18681.0\r\n",
      "ERA-T1_3-3a_0: 19020.0\r\n",
      "ERA-T3_3-2c_0: 19466.0\r\n",
      "ERA-T1_4-1a_85: 19483.0\r\n",
      "ERA-T2_2-3b_85: 19780.0\r\n",
      "ERA-T1_3-4c_0: 20259.0\r\n",
      "ERA-T2_1-3a_85: 20436.0\r\n",
      "ERA-T1_2-2c_85: 20640.0\r\n",
      "ERA-T2_3-2b_85: 20813.0\r\n",
      "ERA-T1_4-1a_170: 21181.0\r\n",
      "ERA-T2_4-4b_85: 21257.0\r\n",
      "ERA-T2_3-4d_85: 21501.0\r\n",
      "ERA-T2_3-1a_85: 21911.0\r\n",
      "ERA-T3_3-2c_85: 22375.0\r\n",
      "ERA-T1_3-4c_85: 22541.0\r\n",
      "ERA-T1_3-3a_170: 22557.0\r\n",
      "ERA-T3_1-2d_0: 22628.0\r\n",
      "ERA-T1_4-5b_85: 22742.0\r\n",
      "ERA-T2_2-3d_85: 22744.0\r\n",
      "ERA-T2_3-4c_85: 22887.0\r\n",
      "ERA-T1_1-2b_0: 22951.0\r\n",
      "ERA-T1_4-2c_170: 23083.0\r\n",
      "ERA-T3_1-2d_170: 23132.0\r\n",
      "ERA-T1_1-2d_0: 23249.0\r\n",
      "ERA-T3_3-1d_0: 23257.0\r\n",
      "ERA-T1_3-1c_170: 23520.0\r\n",
      "ERA-T1_1-2c_0: 23624.0\r\n",
      "ERA-T3_3-4c_85: 23630.0\r\n",
      "ERA-T3_1-4b_85: 23649.0\r\n",
      "ERA-T3_4-1b_170: 23746.0\r\n",
      "ERA-T0_2-3b_0: 24002.0\r\n",
      "ERA-T1_3-3a_85: 24386.0\r\n",
      "ERA-T1_4-4a_85: 24522.0\r\n",
      "ERA-T2_4-4c_85: 24881.0\r\n",
      "ERA-T1_1-4b_85: 24899.0\r\n",
      "ERA-T1_3-1a_85: 24904.0\r\n",
      "ERA-T1_4-3b_85: 25370.0\r\n",
      "ERA-T2_2-1a_85: 25485.0\r\n",
      "ERA-T3_4-2c_85: 25486.0\r\n",
      "ERA-T3_1-2d_85: 25498.0\r\n",
      "ERA-T0_3-2c_0: 25546.0\r\n",
      "ERA-T2_3-1d_85: 25616.0\r\n",
      "ERA-T2_1-4c_85: 25644.0\r\n",
      "ERA-T3_4-3b_0: 25688.0\r\n",
      "ERA-T2_4-1a_85: 26013.0\r\n",
      "ERA-T1_4-4a_0: 26051.0\r\n",
      "ERA-T3_1-4b_170: 26197.0\r\n",
      "ERA-T2_4-2a_85: 26368.0\r\n",
      "ERA-T1_4-3b_0: 26416.0\r\n",
      "ERA-T3_4-1a_170: 26421.0\r\n",
      "ERA-T2_3-3b_85: 26690.0\r\n",
      "ERA-T1_4-1b_0: 26730.0\r\n",
      "ERA-T2_1-4d_85: 26793.0\r\n",
      "ERA-T1_4-1b_85: 27557.0\r\n",
      "ERA-T3_4-4a_170: 27606.0\r\n",
      "ERA-T1_3-1c_0: 27615.0\r\n",
      "ERA-T1_3-1c_85: 28103.0\r\n",
      "ERA-T2_1-3d_85: 28358.0\r\n",
      "ERA-T3_3-5c_85: 28524.0\r\n",
      "ERA-T1_1-4b_170: 28585.0\r\n",
      "ERA-T1_2-2c_170: 28603.0\r\n",
      "ERA-T3_1-5a_170: 28857.0\r\n",
      "ERA-T2_3-5c_85: 28916.0\r\n",
      "ERA-T3_4-5b_85: 29016.0\r\n",
      "ERA-T2_1-2a_85: 29168.0\r\n",
      "ERA-T2_3-4a_85: 29219.0\r\n",
      "ERA-T3_2-2d_85: 29668.0\r\n",
      "ERA-T2_3-5b_85: 29741.0\r\n",
      "ERA-T1_4-5b_170: 29758.0\r\n",
      "ERA-T1_1-3c_170: 29835.0\r\n",
      "ERA-T3_4-1a_0: 29941.0\r\n",
      "ERA-T1_1-2c_170: 30074.0\r\n",
      "ERA-T3_1-4a_85: 30286.0\r\n",
      "ERA-T1_3-1a_0: 30422.0\r\n",
      "ERA-T3_4-3b_85: 30482.0\r\n",
      "ERA-T3_2-3d_0: 30789.0\r\n",
      "ERA-T1_4-5b_0: 30922.0\r\n",
      "ERA-T1_1-2d_85: 31024.0\r\n",
      "ERA-T1_3-1d_85: 31129.0\r\n",
      "ERA-T3_4-2c_0: 31390.0\r\n",
      "ERA-T2_3-3a_85: 31446.0\r\n",
      "ERA-T1_2-2d_170: 31471.0\r\n",
      "ERA-T3_4-1b_0: 31492.0\r\n",
      "ERA-T2_1-5c_85: 31517.0\r\n",
      "ERA-T3_3-1a_170: 31691.0\r\n",
      "ERA-T2_3-2c_85: 31696.0\r\n",
      "ERA-T2_4-2c_85: 31925.0\r\n",
      "ERA-T2_1-4a_85: 32145.0\r\n",
      "ERA-T3_1-2b_85: 32305.0\r\n",
      "ERA-T1_1-3c_0: 32338.0\r\n",
      "ERA-T3_3-5c_170: 32374.0\r\n",
      "ERA-T1_1-2b_170: 32423.0\r\n",
      "ERA-T3_2-5c_0: 32899.0\r\n",
      "ERA-T2_2-4d_85: 33014.0\r\n",
      "ERA-T3_3-5c_0: 33131.0\r\n",
      "ERA-T3_1-4b_0: 33234.0\r\n",
      "ERA-T3_4-1a_85: 33282.0\r\n",
      "ERA-T1_3-1d_170: 33785.0\r\n",
      "ERA-T3_4-1b_85: 33836.0\r\n",
      "ERA-T2_1-3c_85: 34500.0\r\n",
      "ERA-T2_4-2d_85: 34651.0\r\n",
      "ERA-T1_4-2c_85: 34678.0\r\n",
      "ERA-T1_2-5c_85: 35070.0\r\n",
      "ERA-T1_1-3c_85: 35113.0\r\n",
      "ERA-T3_4-5b_0: 35327.0\r\n",
      "ERA-T1_2-5a_85: 35397.0\r\n",
      "ERA-T2_4-1d_85: 35470.0\r\n",
      "ERA-T3_1-3c_0: 35673.0\r\n",
      "ERA-T3_1-3c_170: 35715.0\r\n",
      "ERA-T1_4-3b_170: 35765.0\r\n",
      "ERA-T2_3-2a_85: 35912.0\r\n",
      "ERA-T3_3-1a_85: 35916.0\r\n",
      "ERA-T3_1-2c_0: 35979.0\r\n",
      "ERA-T3_2-5c_85: 36457.0\r\n",
      "ERA-T1_1-5a_85: 36490.0\r\n",
      "ERA-T1_4-1a_0: 36626.0\r\n",
      "ERA-T2_1-2c_85: 36630.0\r\n",
      "ERA-T3_3-3a_0: 36774.0\r\n",
      "ERA-T2_4-5b_85: 36966.0\r\n",
      "ERA-T2_3-3d_85: 37034.0\r\n",
      "ERA-T2_3-1b_85: 37341.0\r\n",
      "ERA-T2_4-4a_85: 37646.0\r\n",
      "ERA-T1_1-2d_170: 37727.0\r\n",
      "ERA-T3_2-2c_170: 37747.0\r\n",
      "ERA-T1_3-1a_170: 37771.0\r\n",
      "ERA-T2_2-2c_85: 37932.0\r\n",
      "ERA-T2_1-5b_85: 38193.0\r\n",
      "ERA-T3_1-2c_85: 38319.0\r\n",
      "ERA-T1_3-5c_170: 38408.0\r\n",
      "ERA-T3_3-1c_85: 38479.0\r\n",
      "ERA-T2_1-1d_85: 38645.0\r\n",
      "ERA-T2_4-1b_85: 38838.0\r\n",
      "ERA-T2_1-1a_85: 39027.0\r\n",
      "ERA-T1_3-1d_0: 39157.0\r\n",
      "ERA-T3_2-2c_0: 39520.0\r\n",
      "ERA-T1_1-2c_85: 39825.0\r\n",
      "ERA-T1_3-5c_0: 40079.0\r\n",
      "ERA-T3_2-2c_85: 40140.0\r\n",
      "ERA-T2_2-5c_85: 40492.0\r\n",
      "ERA-T1_1-4a_170: 40613.0\r\n",
      "ERA-T1_1-4b_0: 40756.0\r\n",
      "ERA-T3_3-4c_170: 40938.0\r\n",
      "ERA-T0_3-4c_0: 41198.0\r\n",
      "ERA-T1_1-4a_85: 41214.0\r\n",
      "ERA-T2_2-1b_85: 41226.0\r\n",
      "ERA-T3_1-4a_170: 41299.0\r\n",
      "ERA-T3_4-2c_170: 41429.0\r\n",
      "ERA-T2_3-3c_85: 41595.0\r\n",
      "ERA-T2_2-3c_85: 41684.0\r\n",
      "ERA-T3_2-3d_85: 41739.0\r\n",
      "ERA-T1_2-2d_85: 41957.0\r\n",
      "ERA-T1_2-2b_170: 42004.0\r\n",
      "ERA-T2_2-5b_85: 42065.0\r\n",
      "ERA-T1_2-2d_0: 42272.0\r\n",
      "ERA-T3_2-3b_170: 42309.0\r\n",
      "ERA-T2_4-5a_85: 42404.0\r\n",
      "ERA-T1_4-1b_170: 42619.0\r\n",
      "ERA-T3_2-5c_170: 43073.0\r\n",
      "ERA-T1_2-2b_85: 43403.0\r\n",
      "ERA-T1_2-2b_0: 43509.0\r\n",
      "ERA-T2_1-2d_85: 43543.0\r\n",
      "ERA-T3_2-2b_170: 43737.0\r\n",
      "ERA-T3_3-1c_170: 44040.0\r\n",
      "ERA-T2_1-2b_85: 44191.0\r\n",
      "ERA-T3_2-3d_170: 44673.0\r\n",
      "ERA-T3_1-5a_0: 44773.0\r\n",
      "ERA-T2_2-5a_85: 44775.0\r\n",
      "ERA-T3_1-2c_170: 44982.0\r\n",
      "ERA-T3_3-1c_0: 45082.0\r\n",
      "ERA-T3_1-3c_85: 45581.0\r\n",
      "ERA-T2_3-2d_85: 45620.0\r\n",
      "ERA-T1_2-5c_170: 45665.0\r\n",
      "ERA-T1_1-4a_0: 45868.0\r\n",
      "ERA-T1_4-3d_0: 46033.0\r\n",
      "ERA-T3_2-3b_85: 46155.0\r\n",
      "ERA-T3_3-3a_85: 46221.0\r\n",
      "ERA-T2_2-4c_85: 46250.0\r\n",
      "ERA-T1_3-2c_0: 46507.0\r\n",
      "ERA-T1_2-5a_170: 46557.0\r\n",
      "ERA-T2_2-2b_85: 46606.0\r\n",
      "ERA-T1_4-4a_170: 46633.0\r\n",
      "ERA-T1_1-5a_0: 47073.0\r\n",
      "ERA-T2_2-4b_85: 47147.0\r\n",
      "ERA-T1_2-2c_0: 47248.0\r\n",
      "ERA-T2_2-1c_85: 47426.0\r\n",
      "ERA-T3_1-5a_85: 47712.0\r\n",
      "ERA-T3_1-2b_0: 47990.0\r\n",
      "ERA-T1_2-5a_0: 48133.0\r\n",
      "ERA-T2_1-1c_85: 48417.0\r\n",
      "ERA-T3_4-5b_170: 48470.0\r\n",
      "ERA-T1_2-3d_170: 48743.0\r\n",
      "ERA-T1_4-2c_0: 49370.0\r\n",
      "ERA-T3_3-4c_0: 49545.0\r\n",
      "ERA-T2_4-3a_85: 50093.0\r\n",
      "ERA-T1_4-3d_85: 50304.0\r\n",
      "ERA-T2_1-4b_85: 51126.0\r\n",
      "ERA-T3_2-5a_85: 51467.0\r\n",
      "ERA-T3_4-4a_85: 52502.0\r\n",
      "ERA-T1_3-2c_170: 52506.0\r\n",
      "ERA-T3_2-2d_0: 53092.0\r\n",
      "ERA-T3_1-4a_0: 53689.0\r\n",
      "ERA-T1_2-3d_0: 53858.0\r\n",
      "ERA-T2_4-5c_85: 56741.0\r\n",
      "ERA-T3_4-3d_85: 57156.0\r\n",
      "ERA-T3_3-2c_170: 57741.0\r\n",
      "ERA-T1_1-5a_170: 58692.0\r\n",
      "ERA-T3_4-3d_0: 59279.0\r\n",
      "ERA-T1_4-3d_170: 59547.0\r\n",
      "ERA-T2_4-3d_85: 59662.0\r\n",
      "ERA-T2_1-5a_85: 60607.0\r\n",
      "ERA-T1_2-3b_85: 60783.0\r\n",
      "ERA-T3_2-2d_170: 61900.0\r\n",
      "ERA-T3_4-3b_170: 62131.0\r\n",
      "ERA-T0_2-2c_0: 62394.0\r\n",
      "ERA-T1_2-3b_0: 62675.0\r\n",
      "ERA-T3_4-3d_170: 63275.0\r\n",
      "ERA-T2_2-4a_85: 63476.0\r\n",
      "ERA-T2_2-1d_85: 64166.0\r\n",
      "ERA-T1_2-3d_85: 64523.0\r\n",
      "ERA-T3_2-5a_0: 65759.0\r\n",
      "ERA-T0_1-5a_0: 66065.0\r\n",
      "ERA-T3_2-2b_85: 66963.0\r\n",
      "ERA-T2_4-3c_85: 68181.0\r\n",
      "ERA-T1_3-2c_85: 70025.0\r\n",
      "ERA-T3_2-3b_0: 70403.0\r\n",
      "ERA-T2_2-2d_85: 70819.0\r\n",
      "ERA-T1_2-5c_0: 74637.0\r\n",
      "ERA-T3_2-2b_0: 83827.0\r\n",
      "ERA-T3_2-5a_170: 89730.0\r\n",
      "ERA-T0_4-1a_0: 92743.0\r\n",
      "MockComm: 92752.0\r\n",
      "ERA-T0_4-3d_0: 118274.0"
     ]
    }
   ],
   "source": [
    "!cd $workDir; cat otu_table_summary.txt"
   ]
  },
  {
   "cell_type": "markdown",
   "metadata": {},
   "source": [
    "* add taxonomy to biom table"
   ]
  },
  {
   "cell_type": "code",
   "execution_count": null,
   "metadata": {
    "collapsed": true
   },
   "outputs": [],
   "source": [
    "!cd $workDir;\\\n",
    "biom add-metadata -i otu_table.biom \\\n",
    "    -o otu_table_wtax.biom \\\n",
    "    --observation-metadata-fp otusn_tax/otusn_tax_assignments.txt \\\n",
    "    --sc-separated taxonomy \\\n",
    "    --float-fields consensus \\\n",
    "    --int-fields numhits \\\n",
    "    --observation-header OTUID,taxonomy,consensus,numhits"
   ]
  }
 ],
 "metadata": {
  "anaconda-cloud": {},
  "hide_input": false,
  "kernelspec": {
   "display_name": "Python 3",
   "language": "python",
   "name": "python3"
  },
  "language_info": {
   "codemirror_mode": {
    "name": "ipython",
    "version": 3
   },
   "file_extension": ".py",
   "mimetype": "text/x-python",
   "name": "python",
   "nbconvert_exporter": "python",
   "pygments_lexer": "ipython3",
   "version": "3.6.1"
  }
 },
 "nbformat": 4,
 "nbformat_minor": 1
}
