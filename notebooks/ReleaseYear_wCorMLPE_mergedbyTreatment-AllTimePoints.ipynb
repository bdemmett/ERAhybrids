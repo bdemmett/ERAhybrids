{
 "cells": [
  {
   "cell_type": "markdown",
   "metadata": {},
   "source": [
    "# Beta-diversity vs breeding history with corMLPE"
   ]
  },
  {
   "cell_type": "markdown",
   "metadata": {
    "slideshow": {
     "slide_type": "skip"
    }
   },
   "source": [
    "Test hypotheses on release year vs MCC\n",
    "Test hypothesis on mergeddataset"
   ]
  },
  {
   "cell_type": "code",
   "execution_count": 1,
   "metadata": {
    "collapsed": false
   },
   "outputs": [],
   "source": [
    "%load_ext rpy2.ipython"
   ]
  },
  {
   "cell_type": "code",
   "execution_count": 4,
   "metadata": {
    "collapsed": false,
    "hide_input": false
   },
   "outputs": [],
   "source": [
    "%%R\n",
    "library(foreach)\n",
    "library(Hmisc)\n",
    "library(lme4)\n",
    "library(lmerTest)\n",
    "library(ggplot2)\n",
    "library(plyr)\n",
    "library(dplyr)\n",
    "library(tidyr)\n",
    "library(pbkrtest)\n",
    "library(gridExtra)\n",
    "library(reshape2)\n",
    "library(doParallel)\n",
    "library(phyloseq)\n",
    "library(MuMIn)\n"
   ]
  },
  {
   "cell_type": "code",
   "execution_count": 5,
   "metadata": {
    "collapsed": false
   },
   "outputs": [],
   "source": [
    "%%R\n",
    "# Initialize corMLPE \n",
    "source('/home/bryan/corMLPE/corMLPE.R')"
   ]
  },
  {
   "cell_type": "code",
   "execution_count": 6,
   "metadata": {
    "collapsed": true
   },
   "outputs": [],
   "source": [
    "%%R\n",
    "# set theme for ggplot\n",
    "\n",
    "theme_pub = function (base_size = 11, base_family = \"Helvetica\") \n",
    "{\n",
    "    theme_grey(base_size = base_size, base_family = base_family) %+replace% \n",
    "        theme(\n",
    "            axis.line.x = element_line(size = .5),\n",
    "            axis.line.y = element_line(size = .5),\n",
    "            panel.background = element_rect(fill = \"white\", colour = NA), \n",
    "            panel.border = element_rect(fill = NA, color = \"black\", size = .5), \n",
    "            panel.grid.major = element_blank(), \n",
    "            panel.grid.minor = element_blank(), \n",
    "            strip.background = element_rect(fill = \"grey85\", \n",
    "                colour = \"grey20\"), \n",
    "            legend.key = element_rect(fill = \"white\", \n",
    "                colour = NA), complete = TRUE)\n",
    "    }\n"
   ]
  },
  {
   "cell_type": "markdown",
   "metadata": {
    "slideshow": {
     "slide_type": "skip"
    }
   },
   "source": [
    "# Set up tables"
   ]
  },
  {
   "cell_type": "markdown",
   "metadata": {},
   "source": [
    "## Loading phyloseq object"
   ]
  },
  {
   "cell_type": "code",
   "execution_count": 7,
   "metadata": {
    "collapsed": true
   },
   "outputs": [],
   "source": [
    "%%R\n",
    "setwd('/home/bryan/ERA/data/MiSeq/20170417_run1/phyloseq/')"
   ]
  },
  {
   "cell_type": "code",
   "execution_count": 8,
   "metadata": {
    "collapsed": false,
    "scrolled": true
   },
   "outputs": [
    {
     "data": {
      "text/plain": [
       "phyloseq-class experiment-level object\n",
       "otu_table()   OTU Table:         [ 4592 taxa and 96 samples ]\n",
       "sample_data() Sample Data:       [ 96 samples by 46 sample variables ]\n",
       "tax_table()   Taxonomy Table:    [ 4592 taxa by 8 taxonomic ranks ]\n",
       "phy_tree()    Phylogenetic Tree: [ 4592 tips and 4591 internal nodes ]\n"
      ]
     },
     "metadata": {},
     "output_type": "display_data"
    }
   ],
   "source": [
    "%%R \n",
    "# loading\n",
    "\n",
    "physeq = readRDS('ERA_snorm.rds')\n",
    "\n",
    "#remove T0, not necessary\n",
    "physeq = subset_samples(physeq, !is.na(Genotype), TRUE)\n",
    "physeq = transform_sample_counts(physeq, sqrt)\n",
    "physeq = subset_samples(physeq, \n",
    "            SeedTreatment == \"Treated\" & Genotype != \"Bare\" & \n",
    "                        TimePoint != \"T0\" & Fert == \"85\") # see seed treatment notebook for comparison\n",
    "\n",
    "\n",
    "physeq = filter_taxa(physeq, function(x) sum(x > 0) > 0, TRUE)  \n",
    "physeq"
   ]
  },
  {
   "cell_type": "code",
   "execution_count": 9,
   "metadata": {
    "collapsed": false
   },
   "outputs": [],
   "source": [
    "%%R\n",
    "# add interaction of genotype and sampling date term for merge\n",
    "sd = sample_data(physeq)\n",
    "sd = mutate(sd, TxG = paste(TimePoint, R_Year, sep = \"_\"))\n",
    "rownames(sd) = sd$X.sampleID\n",
    "sample_data(physeq) = sd\n"
   ]
  },
  {
   "cell_type": "code",
   "execution_count": 10,
   "metadata": {
    "collapsed": false
   },
   "outputs": [
    {
     "data": {
      "text/plain": [
       "                Sample R_Year TimePoint\n",
       "ERA-T2_3-1d_85 T2_2001   2001        T2\n",
       "ERA-T1_2-2b_85 T1_1971   1971        T1\n",
       "ERA-T1_1-2d_85 T1_2011   2011        T1\n",
       "ERA-T2_1-2b_85 T2_1939   1939        T2\n",
       "ERA-T3_2-2b_85 T3_1971   1971        T3\n",
       "ERA-T2_1-2d_85 T2_2011   2011        T2\n"
      ]
     },
     "metadata": {},
     "output_type": "display_data"
    }
   ],
   "source": [
    "%%R\n",
    "# save TxG, R_Year and Sampling date lookup table\n",
    "\n",
    "Y.df = sd %>%\n",
    "    select(TxG, R_Year, TimePoint) %>%\n",
    "    unique\n",
    "colnames(Y.df) = c(\"Sample\", \"R_Year\", \"TimePoint\")\n",
    "head(Y.df)\n"
   ]
  },
  {
   "cell_type": "code",
   "execution_count": 11,
   "metadata": {
    "collapsed": false
   },
   "outputs": [
    {
     "data": {
      "text/plain": [
       "[1] 24  3\n"
      ]
     },
     "metadata": {},
     "output_type": "display_data"
    }
   ],
   "source": [
    "%%R\n",
    "dim(Y.df)"
   ]
  },
  {
   "cell_type": "code",
   "execution_count": 12,
   "metadata": {
    "collapsed": false
   },
   "outputs": [
    {
     "data": {
      "text/plain": [
       "phyloseq-class experiment-level object\n",
       "otu_table()   OTU Table:         [ 4592 taxa and 24 samples ]\n",
       "sample_data() Sample Data:       [ 24 samples by 47 sample variables ]\n",
       "tax_table()   Taxonomy Table:    [ 4592 taxa by 8 taxonomic ranks ]\n",
       "phy_tree()    Phylogenetic Tree: [ 4592 tips and 4591 internal nodes ]\n"
      ]
     },
     "metadata": {},
     "output_type": "display_data"
    }
   ],
   "source": [
    "%%R\n",
    "m.phy = merge_samples(physeq, \"TxG\")  %>%\n",
    "\n",
    "    transform_sample_counts(function(x) x/sum(x))\n",
    "        \n",
    "m.phy"
   ]
  },
  {
   "cell_type": "code",
   "execution_count": 13,
   "metadata": {
    "collapsed": false
   },
   "outputs": [],
   "source": [
    "%%R\n",
    "registerDoParallel(cores=28)\n",
    "bray.dist = distance(m.phy, \n",
    "                      method = \"bray\", \n",
    "                      weighted = FALSE,\n",
    "                      fast = TRUE, \n",
    "                      parallel = TRUE, \n",
    "                      normalized = FALSE)\n"
   ]
  },
  {
   "cell_type": "markdown",
   "metadata": {
    "slideshow": {
     "slide_type": "skip"
    }
   },
   "source": [
    "# Data wrangling "
   ]
  },
  {
   "cell_type": "markdown",
   "metadata": {},
   "source": [
    "### Melt unifrac distances"
   ]
  },
  {
   "cell_type": "code",
   "execution_count": 14,
   "metadata": {
    "collapsed": false,
    "hide_input": false
   },
   "outputs": [
    {
     "data": {
      "text/plain": [
       "   SampleA SampleB bray_Dist\n",
       "25 T1_1939 T1_1953 0.1502060\n",
       "49 T1_1939 T1_1971 0.1617041\n",
       "50 T1_1953 T1_1971 0.1464197\n",
       "73 T1_1939 T1_1984 0.1498719\n",
       "74 T1_1953 T1_1984 0.1401895\n",
       "75 T1_1971 T1_1984 0.1467838\n",
       "[1] 276   3\n"
      ]
     },
     "metadata": {},
     "output_type": "display_data"
    }
   ],
   "source": [
    "%%R\n",
    "bd = as.matrix(bray.dist) \n",
    "# remove lower triangle to remove duplicate values\n",
    "bd[ lower.tri( bd, diag = TRUE ) ]  <- NA\n",
    "head(bd)\n",
    "bd.m = melt(bd, na.rm= TRUE)\n",
    "\n",
    "# rename columns\n",
    "colnames(bd.m) = c(\"SampleA\", \"SampleB\", \"bray_Dist\")\n",
    "head(bd.m) %>% print\n",
    "dim(bd.m) %>% print"
   ]
  },
  {
   "cell_type": "code",
   "execution_count": 15,
   "metadata": {
    "collapsed": false
   },
   "outputs": [
    {
     "data": {
      "text/plain": [
       "  SampleA SampleB bray_Dist YearA TimePointA YearB TimePointB YearDist\n",
       "1 T1_1939 T1_1953 0.1502060  1939         T1  1953         T1       14\n",
       "2 T1_1939 T1_1971 0.1617041  1939         T1  1971         T1       32\n",
       "3 T1_1953 T1_1971 0.1464197  1953         T1  1971         T1       18\n",
       "4 T1_1939 T1_1984 0.1498719  1939         T1  1984         T1       45\n",
       "5 T1_1953 T1_1984 0.1401895  1953         T1  1984         T1       31\n",
       "6 T1_1971 T1_1984 0.1467838  1971         T1  1984         T1       13\n"
      ]
     },
     "metadata": {},
     "output_type": "display_data"
    }
   ],
   "source": [
    "%%R\n",
    "\n",
    "## add Year of plant A and plant b\n",
    "Dist= inner_join(bd.m, Y.df, by = c(\"SampleA\" = \"Sample\"))\n",
    "colnames(Dist)[4:5] = c(\"YearA\", \"TimePointA\")\n",
    "\n",
    "Dist= inner_join(Dist, Y.df, by = c(\"SampleB\" = \"Sample\"))\n",
    "colnames(Dist)[6:7] = c(\"YearB\", \"TimePointB\")\n",
    "\n",
    "Dist = mutate(Dist, YearDist = abs(YearA - YearB))\n",
    "head(Dist)"
   ]
  },
  {
   "cell_type": "code",
   "execution_count": 16,
   "metadata": {
    "collapsed": false
   },
   "outputs": [
    {
     "data": {
      "text/plain": [
       "  SampleA SampleB bray_Dist YearA TimePointA YearB TimePointB YearDist\n",
       "1 T1_1939 T1_1953 0.1502060  1939         T1  1953         T1       14\n",
       "2 T1_1939 T1_1971 0.1617041  1939         T1  1971         T1       32\n",
       "3 T1_1953 T1_1971 0.1464197  1953         T1  1971         T1       18\n",
       "4 T1_1939 T1_1984 0.1498719  1939         T1  1984         T1       45\n",
       "5 T1_1953 T1_1984 0.1401895  1953         T1  1984         T1       31\n",
       "6 T1_1971 T1_1984 0.1467838  1971         T1  1984         T1       13\n",
       "   SampleA SampleB bray_Dist YearA TimePointA YearB TimePointB YearDist\n",
       "91 T3_1984 T3_2001 0.1579147  1984         T3  2001         T3       17\n",
       "92 T3_1939 T3_2011 0.1451982  1939         T3  2011         T3       72\n",
       "93 T3_1953 T3_2011 0.1728111  1953         T3  2011         T3       58\n",
       "94 T3_1971 T3_2011 0.1613908  1971         T3  2011         T3       40\n",
       "95 T3_1984 T3_2011 0.1459290  1984         T3  2011         T3       27\n",
       "96 T3_2001 T3_2011 0.1678215  2001         T3  2011         T3       10\n"
      ]
     },
     "metadata": {},
     "output_type": "display_data"
    }
   ],
   "source": [
    "%%R\n",
    "#Filter so that we are not comparing across timepoints\n",
    "Dist = Dist %>% filter(TimePointA == TimePointB)\n",
    "head(Dist) %>% print\n",
    "tail(Dist) %>% print"
   ]
  },
  {
   "cell_type": "markdown",
   "metadata": {},
   "source": [
    "# Build corMLPE models"
   ]
  },
  {
   "cell_type": "markdown",
   "metadata": {},
   "source": [
    "## Null model:\n",
    "fit null model with random effect of sampling date to stratify covariance matrices"
   ]
  },
  {
   "cell_type": "code",
   "execution_count": 17,
   "metadata": {
    "collapsed": false
   },
   "outputs": [],
   "source": [
    "%%R\n",
    "fitNull =  lme(bray_Dist ~ 1, random = ~1|TimePointB,\n",
    "               correlation = corMLPE(form= ~ SampleA + SampleB), data = Dist, method = \"ML\")\n"
   ]
  },
  {
   "cell_type": "code",
   "execution_count": 18,
   "metadata": {
    "collapsed": false
   },
   "outputs": [
    {
     "data": {
      "text/plain": [
       "Linear mixed-effects model fit by maximum likelihood\n",
       " Data: Dist \n",
       "        AIC       BIC   logLik\n",
       "  -606.3557 -596.0983 307.1778\n",
       "\n",
       "Random effects:\n",
       " Formula: ~1 | TimePointB\n",
       "        (Intercept)   Residual\n",
       "StdDev: 5.39897e-07 0.01169587\n",
       "\n",
       "Correlation Structure: corMLPE\n",
       " Formula: ~SampleA + SampleB | TimePointB \n",
       " Parameter estimate(s):\n",
       "     Rho \n",
       "0.261856 \n",
       "Fixed effects: bray_Dist ~ 1 \n",
       "                Value   Std.Error DF  t-value p-value\n",
       "(Intercept) 0.1550776 0.002611093 93 59.39183       0\n",
       "\n",
       "Standardized Within-Group Residuals:\n",
       "        Min          Q1         Med          Q3         Max \n",
       "-2.03525270 -0.76394115  0.03990495  0.54072403  2.64917275 \n",
       "\n",
       "Number of Observations: 96\n",
       "Number of Groups: 3 \n"
      ]
     },
     "metadata": {},
     "output_type": "display_data"
    }
   ],
   "source": [
    "%%R\n",
    "summary(fitNull)"
   ]
  },
  {
   "cell_type": "code",
   "execution_count": 19,
   "metadata": {
    "collapsed": false
   },
   "outputs": [
    {
     "data": {
      "text/plain": [
       "Linear mixed-effects model fit by maximum likelihood\n",
       " Data: Dist \n",
       "        AIC       BIC   logLik\n",
       "  -612.4368 -597.0507 312.2184\n",
       "\n",
       "Random effects:\n",
       " Formula: ~1 | TimePointB\n",
       "         (Intercept)   Residual\n",
       "StdDev: 6.063255e-07 0.01176677\n",
       "\n",
       "Correlation Structure: corMLPE\n",
       " Formula: ~SampleA + SampleB | TimePointB \n",
       " Parameter estimate(s):\n",
       "      Rho \n",
       "0.3015836 \n",
       "Fixed effects: bray_Dist ~ poly(YearDist, 2) \n",
       "                         Value   Std.Error DF  t-value p-value\n",
       "(Intercept)         0.15500389 0.002804268 91 55.27428  0.0000\n",
       "poly(YearDist, 2)1 -0.00257953 0.008683139 91 -0.29707  0.7671\n",
       "poly(YearDist, 2)2 -0.02810090 0.008592712 91 -3.27032  0.0015\n",
       " Correlation: \n",
       "                   (Intr) p(YD,2)1\n",
       "poly(YearDist, 2)1 -0.006         \n",
       "poly(YearDist, 2)2  0.008  0.227  \n",
       "\n",
       "Standardized Within-Group Residuals:\n",
       "        Min          Q1         Med          Q3         Max \n",
       "-2.17452054 -0.72908519  0.02476341  0.62491681  2.39308934 \n",
       "\n",
       "Number of Observations: 96\n",
       "Number of Groups: 3 \n"
      ]
     },
     "metadata": {},
     "output_type": "display_data"
    }
   ],
   "source": [
    "%%R\n",
    "fit1 =  lme(bray_Dist ~ poly(YearDist,2),, random = ~1|TimePointB,\n",
    "               correlation = corMLPE(form= ~ SampleA + SampleB), data = Dist, method = \"ML\")\n",
    "\n",
    "summary(fit1)"
   ]
  },
  {
   "cell_type": "code",
   "execution_count": 20,
   "metadata": {
    "collapsed": false
   },
   "outputs": [
    {
     "data": {
      "text/plain": [
       "[1] 0.09968625\n",
       "attr(,\"adj.r.squared\")\n",
       "[1] -0.0001659869\n"
      ]
     },
     "metadata": {},
     "output_type": "display_data"
    }
   ],
   "source": [
    "%%R\n",
    "MuMIn::r.squaredLR(fit1, null = fitNull)"
   ]
  },
  {
   "cell_type": "code",
   "execution_count": 21,
   "metadata": {
    "collapsed": false,
    "hide_input": false,
    "scrolled": false
   },
   "outputs": [
    {
     "data": {
      "text/plain": [
       "        Model df       AIC       BIC   logLik   Test  L.Ratio p-value\n",
       "fitNull     1  4 -606.3557 -596.0983 307.1778                        \n",
       "fit1        2  6 -612.4368 -597.0507 312.2184 1 vs 2 10.08115  0.0065\n"
      ]
     },
     "metadata": {},
     "output_type": "display_data"
    }
   ],
   "source": [
    "%%R\n",
    "anova(fitNull, fit1)"
   ]
  },
  {
   "cell_type": "code",
   "execution_count": 22,
   "metadata": {
    "collapsed": false
   },
   "outputs": [
    {
     "data": {
      "text/plain": [
       "Linear mixed-effects model fit by maximum likelihood\n",
       " Data: Dist \n",
       "        AIC       BIC   logLik\n",
       "  -612.4368 -597.0507 312.2184\n",
       "\n",
       "Random effects:\n",
       " Formula: ~1 | TimePointB\n",
       "         (Intercept)   Residual\n",
       "StdDev: 6.063217e-07 0.01176677\n",
       "\n",
       "Correlation Structure: corMLPE\n",
       " Formula: ~SampleA + SampleB | TimePointB \n",
       " Parameter estimate(s):\n",
       "      Rho \n",
       "0.3015836 \n",
       "Fixed effects: bray_Dist ~ I(YearDist) + I(YearDist^2) \n",
       "                    Value   Std.Error DF  t-value p-value\n",
       "(Intercept)    0.14817309 0.003692601 91 40.12703  0.0000\n",
       "I(YearDist)    0.00055020 0.000167980 91  3.27540  0.0015\n",
       "I(YearDist^2) -0.00000769 0.000002352 91 -3.27032  0.0015\n",
       " Correlation: \n",
       "              (Intr) I(YrD)\n",
       "I(YearDist)   -0.603       \n",
       "I(YearDist^2)  0.517 -0.965\n",
       "\n",
       "Standardized Within-Group Residuals:\n",
       "        Min          Q1         Med          Q3         Max \n",
       "-2.17452054 -0.72908519  0.02476341  0.62491681  2.39308933 \n",
       "\n",
       "Number of Observations: 96\n",
       "Number of Groups: 3 \n"
      ]
     },
     "metadata": {},
     "output_type": "display_data"
    }
   ],
   "source": [
    "%%R\n",
    "fit1.b =  lme(bray_Dist ~ I(YearDist) + I(YearDist^2), random = ~1|TimePointB,\n",
    "               correlation = corMLPE(form= ~ SampleA + SampleB), data = Dist, method = \"ML\")\n",
    "\n",
    "summary(fit1.b)"
   ]
  },
  {
   "cell_type": "markdown",
   "metadata": {},
   "source": [
    "* Year of release as a polynomial function explains  14% of the variation!"
   ]
  },
  {
   "cell_type": "code",
   "execution_count": 23,
   "metadata": {
    "collapsed": false,
    "scrolled": true
   },
   "outputs": [
    {
     "data": {
      "image/png": "[encoded data removed]"
     },
     "metadata": {},
     "output_type": "display_data"
    }
   ],
   "source": [
    "%%R\n",
    "plot(fit1.b)"
   ]
  },
  {
   "cell_type": "code",
   "execution_count": 24,
   "metadata": {
    "collapsed": false
   },
   "outputs": [
    {
     "data": {
      "text/plain": [
       "[1] 0.09968625\n",
       "attr(,\"adj.r.squared\")\n",
       "[1] -0.0001659869\n"
      ]
     },
     "metadata": {},
     "output_type": "display_data"
    }
   ],
   "source": [
    "%%R\n",
    "MuMIn::r.squaredLR(fit1.b, null = fitNull)"
   ]
  },
  {
   "cell_type": "markdown",
   "metadata": {},
   "source": [
    "## Graphs"
   ]
  },
  {
   "cell_type": "markdown",
   "metadata": {},
   "source": [
    "### phylogenetic distance vs microbial community"
   ]
  },
  {
   "cell_type": "code",
   "execution_count": 25,
   "metadata": {
    "collapsed": false
   },
   "outputs": [
    {
     "data": {
      "text/plain": [
       "   (Intercept)  I(YearDist) I(YearDist^2)\n",
       "T1   0.1481731 0.0005502038 -7.691941e-06\n",
       "T2   0.1481731 0.0005502038 -7.691941e-06\n",
       "T3   0.1481731 0.0005502038 -7.691941e-06\n"
      ]
     },
     "metadata": {},
     "output_type": "display_data"
    }
   ],
   "source": [
    "%%R\n",
    "coef(fit1.b)"
   ]
  },
  {
   "cell_type": "code",
   "execution_count": 26,
   "metadata": {
    "collapsed": false
   },
   "outputs": [
    {
     "data": {
      "text/plain": [
       "Approximate 95% confidence intervals\n",
       "\n",
       " Fixed effects:\n",
       "                      lower          est.         upper\n",
       "(Intercept)    1.409537e-01  1.481731e-01  1.553925e-01\n",
       "I(YearDist)    2.217863e-04  5.502038e-04  8.786212e-04\n",
       "I(YearDist^2) -1.229041e-05 -7.691941e-06 -3.093469e-06\n",
       "attr(,\"label\")\n",
       "[1] \"Fixed effects:\"\n"
      ]
     },
     "metadata": {},
     "output_type": "display_data"
    }
   ],
   "source": [
    "%%R\n",
    "fit1.ci = intervals(fit1.b, which = \"fixed\")\n",
    "fit1.ci"
   ]
  },
  {
   "cell_type": "code",
   "execution_count": 27,
   "metadata": {
    "collapsed": false,
    "hide_input": false
   },
   "outputs": [
    {
     "data": {
      "image/png": "[encoded data removed]"
     },
     "metadata": {},
     "output_type": "display_data"
    }
   ],
   "source": [
    "%%R -w 800 -h 600\n",
    "\n",
    "\n",
    "model1 <- function(x) {-8.421231e-06*x ^ 2 + 6.004655e-04*x + 1.064713e-01}\n",
    "model1.CImin <- function(x) {-1.266309e-05*x ^ 2 + 2.961556e-04*x + 7.286897e-02}\n",
    "model1.CImax <- function(x) {-4.179372e-06*x ^ 2 + 9.047755e-04*x + 1.400736e-01}\n",
    "\n",
    "p = ggplot(Dist, aes(y = bray_Dist, x = YearDist)) \n",
    "p = p + geom_point(pch = 21) #aes(size = phy_Dist), shape = 1)\n",
    "#p = p + stat_smooth(method = \"lm\", se = FALSE)\n",
    "p = p + theme_pub()\n",
    "#p = p + theme(panel.border = element_blank()) \n",
    "#p = p + theme(axis.line.x = element_line(color=\"black\", size = 1),\n",
    " #   axis.line.y = element_line(color=\"black\", size = 1))\n",
    "\n",
    "p = p + stat_function(fun = model1)\n",
    "p = p + stat_function(fun = model1.CImin, linetype = \"dashed\")\n",
    "p = p + stat_function(fun = model1.CImax, linetype = \"dashed\")\n",
    "\n",
    "p = p + labs(x = \"Year of release\")\n",
    "p = p + labs(y = \"Microbial community \\n Bray-Curtis Dissimilarity\") \n",
    "p = p + facet_wrap(~TimePointB)\n",
    "\n",
    "p\n"
   ]
  },
  {
   "cell_type": "markdown",
   "metadata": {},
   "source": [
    "* One curve does not fit the three time points well.  Better to seperate:"
   ]
  },
  {
   "cell_type": "markdown",
   "metadata": {},
   "source": [
    "## Split calculate by time point separately "
   ]
  },
  {
   "cell_type": "markdown",
   "metadata": {},
   "source": [
    "### T1:\n"
   ]
  },
  {
   "cell_type": "code",
   "execution_count": 114,
   "metadata": {
    "collapsed": false
   },
   "outputs": [
    {
     "data": {
      "text/plain": [
       "[1] 15  8\n"
      ]
     },
     "metadata": {},
     "output_type": "display_data"
    }
   ],
   "source": [
    "%%R\n",
    "Dist.T1 = filter(Dist, TimePointB == \"T1\")\n",
    "dim(Dist.T1)"
   ]
  },
  {
   "cell_type": "code",
   "execution_count": 115,
   "metadata": {
    "collapsed": false
   },
   "outputs": [],
   "source": [
    "%%R\n",
    "T1Null =  gls(bray_Dist ~ 1, \n",
    "               correlation = corMLPE(form= ~ SampleA + SampleB), data = Dist.T1, method = \"ML\")\n"
   ]
  },
  {
   "cell_type": "code",
   "execution_count": 116,
   "metadata": {
    "collapsed": false,
    "scrolled": true
   },
   "outputs": [
    {
     "data": {
      "text/plain": [
       "Generalized least squares fit by maximum likelihood\n",
       "  Model: bray_Dist ~ 1 \n",
       "  Data: Dist.T1 \n",
       "        AIC      BIC   logLik\n",
       "  -94.09105 -91.9669 50.04552\n",
       "\n",
       "Correlation Structure: corMLPE\n",
       " Formula: ~SampleA + SampleB \n",
       " Parameter estimate(s):\n",
       "      Rho \n",
       "0.3335016 \n",
       "\n",
       "Coefficients:\n",
       "                Value   Std.Error  t-value p-value\n",
       "(Intercept) 0.1568028 0.005387809 29.10327       0\n",
       "\n",
       "Standardized residuals:\n",
       "        Min          Q1         Med          Q3         Max \n",
       "-1.57832593 -0.69578593  0.02541646  0.40121252  2.01704899 \n",
       "\n",
       "Residual standard error: 0.01052594 \n",
       "Degrees of freedom: 15 total; 14 residual\n"
      ]
     },
     "metadata": {},
     "output_type": "display_data"
    }
   ],
   "source": [
    "%%R\n",
    "summary(T1Null)"
   ]
  },
  {
   "cell_type": "code",
   "execution_count": 117,
   "metadata": {
    "collapsed": false
   },
   "outputs": [],
   "source": [
    "%%R\n",
    "T1fit1 =  gls(bray_Dist ~ YearDist, \n",
    "               correlation = corMLPE(form= ~ SampleA + SampleB), data = Dist.T1, method = \"ML\")\n"
   ]
  },
  {
   "cell_type": "code",
   "execution_count": 118,
   "metadata": {
    "collapsed": false
   },
   "outputs": [
    {
     "data": {
      "text/plain": [
       "Generalized least squares fit by maximum likelihood\n",
       "  Model: bray_Dist ~ YearDist \n",
       "  Data: Dist.T1 \n",
       "        AIC       BIC   logLik\n",
       "  -92.14564 -89.31344 50.07282\n",
       "\n",
       "Correlation Structure: corMLPE\n",
       " Formula: ~SampleA + SampleB \n",
       " Parameter estimate(s):\n",
       "      Rho \n",
       "0.3432679 \n",
       "\n",
       "Coefficients:\n",
       "                  Value   Std.Error   t-value p-value\n",
       "(Intercept)  0.15765201 0.006772761 23.277364  0.0000\n",
       "YearDist    -0.00002464 0.000104843 -0.234992  0.8179\n",
       "\n",
       " Correlation: \n",
       "         (Intr)\n",
       "YearDist -0.534\n",
       "\n",
       "Standardized residuals:\n",
       "        Min          Q1         Med          Q3         Max \n",
       "-1.56490018 -0.69946999 -0.01525646  0.43624680  1.93317272 \n",
       "\n",
       "Residual standard error: 0.01067082 \n",
       "Degrees of freedom: 15 total; 13 residual\n"
      ]
     },
     "metadata": {},
     "output_type": "display_data"
    }
   ],
   "source": [
    "%%R\n",
    "summary(T1fit1)"
   ]
  },
  {
   "cell_type": "code",
   "execution_count": 119,
   "metadata": {
    "collapsed": false,
    "scrolled": false
   },
   "outputs": [
    {
     "data": {
      "text/plain": [
       "[1] 0.003632807\n",
       "attr(,\"adj.r.squared\")\n",
       "[1] -4.601076e-06\n"
      ]
     },
     "metadata": {},
     "output_type": "display_data"
    }
   ],
   "source": [
    "%%R\n",
    "MuMIn::r.squaredLR(T1fit1, null = T1Null)"
   ]
  },
  {
   "cell_type": "code",
   "execution_count": 120,
   "metadata": {
    "collapsed": false
   },
   "outputs": [
    {
     "data": {
      "text/plain": [
       "       Model df       AIC       BIC   logLik   Test    L.Ratio p-value\n",
       "T1fit1     1  4 -92.14564 -89.31344 50.07282                          \n",
       "T1Null     2  3 -94.09105 -91.96690 50.04552 1 vs 2 0.05459133  0.8153\n"
      ]
     },
     "metadata": {},
     "output_type": "display_data"
    }
   ],
   "source": [
    "%%R\n",
    "anova(T1fit1, T1Null)"
   ]
  },
  {
   "cell_type": "markdown",
   "metadata": {},
   "source": [
    "### T3:\n"
   ]
  },
  {
   "cell_type": "code",
   "execution_count": 36,
   "metadata": {
    "collapsed": false
   },
   "outputs": [
    {
     "data": {
      "text/plain": [
       "[1] 15  8\n"
      ]
     },
     "metadata": {},
     "output_type": "display_data"
    }
   ],
   "source": [
    "%%R\n",
    "Dist.T3 = filter(Dist, TimePointB == \"T3\")\n",
    "dim(Dist.T3)"
   ]
  },
  {
   "cell_type": "code",
   "execution_count": 37,
   "metadata": {
    "collapsed": false
   },
   "outputs": [],
   "source": [
    "%%R\n",
    "T3Null =  gls(bray_Dist ~ 1, \n",
    "               correlation = corMLPE(form= ~ SampleA + SampleB), data = Dist.T3, method = \"ML\")\n"
   ]
  },
  {
   "cell_type": "code",
   "execution_count": 38,
   "metadata": {
    "collapsed": false,
    "scrolled": true
   },
   "outputs": [
    {
     "data": {
      "text/plain": [
       "Generalized least squares fit by maximum likelihood\n",
       "  Model: bray_Dist ~ 1 \n",
       "  Data: Dist.T3 \n",
       "        AIC       BIC   logLik\n",
       "  -90.40231 -88.27816 48.20116\n",
       "\n",
       "Correlation Structure: corMLPE\n",
       " Formula: ~SampleA + SampleB \n",
       " Parameter estimate(s):\n",
       "      Rho \n",
       "0.3388424 \n",
       "\n",
       "Coefficients:\n",
       "                Value   Std.Error  t-value p-value\n",
       "(Intercept) 0.1550324 0.006179377 25.08869       0\n",
       "\n",
       "Standardized residuals:\n",
       "       Min         Q1        Med         Q3        Max \n",
       "-1.8313015 -0.7888986  0.2401311  0.5598540  1.5090433 \n",
       "\n",
       "Residual standard error: 0.01200269 \n",
       "Degrees of freedom: 15 total; 14 residual\n"
      ]
     },
     "metadata": {},
     "output_type": "display_data"
    }
   ],
   "source": [
    "%%R\n",
    "summary(T3Null)"
   ]
  },
  {
   "cell_type": "code",
   "execution_count": 39,
   "metadata": {
    "collapsed": false
   },
   "outputs": [],
   "source": [
    "%%R\n",
    "T3fit1 =  gls(bray_Dist ~ YearDist, \n",
    "               correlation = corMLPE(form= ~ SampleA + SampleB), data = Dist.T3, method = \"ML\")\n"
   ]
  },
  {
   "cell_type": "code",
   "execution_count": 40,
   "metadata": {
    "collapsed": false
   },
   "outputs": [
    {
     "data": {
      "text/plain": [
       "Generalized least squares fit by maximum likelihood\n",
       "  Model: bray_Dist ~ YearDist \n",
       "  Data: Dist.T3 \n",
       "       AIC      BIC   logLik\n",
       "  -88.4197 -85.5875 48.20985\n",
       "\n",
       "Correlation Structure: corMLPE\n",
       " Formula: ~SampleA + SampleB \n",
       " Parameter estimate(s):\n",
       "      Rho \n",
       "0.3405039 \n",
       "\n",
       "Coefficients:\n",
       "                  Value   Std.Error   t-value p-value\n",
       "(Intercept)  0.15554038 0.007634964 20.372116  0.0000\n",
       "YearDist    -0.00001474 0.000119102 -0.123731  0.9034\n",
       "\n",
       " Correlation: \n",
       "         (Intr)\n",
       "YearDist -0.538\n",
       "\n",
       "Standardized residuals:\n",
       "       Min         Q1        Med         Q3        Max \n",
       "-1.8145900 -0.7688399  0.2182315  0.5593439  1.5224886 \n",
       "\n",
       "Residual standard error: 0.01202768 \n",
       "Degrees of freedom: 15 total; 13 residual\n"
      ]
     },
     "metadata": {},
     "output_type": "display_data"
    }
   ],
   "source": [
    "%%R\n",
    "summary(T3fit1)"
   ]
  },
  {
   "cell_type": "markdown",
   "metadata": {},
   "source": [
    "* save Dist df with different name before proceeding"
   ]
  },
  {
   "cell_type": "code",
   "execution_count": 41,
   "metadata": {
    "collapsed": true
   },
   "outputs": [],
   "source": [
    "%%R\n",
    "OrigDist = Dist"
   ]
  },
  {
   "cell_type": "markdown",
   "metadata": {},
   "source": [
    "## T3 Just fertilized"
   ]
  },
  {
   "cell_type": "code",
   "execution_count": 42,
   "metadata": {
    "collapsed": false,
    "scrolled": true
   },
   "outputs": [
    {
     "data": {
      "text/plain": [
       "phyloseq-class experiment-level object\n",
       "otu_table()   OTU Table:         [ 4592 taxa and 48 samples ]\n",
       "sample_data() Sample Data:       [ 48 samples by 46 sample variables ]\n",
       "tax_table()   Taxonomy Table:    [ 4592 taxa by 8 taxonomic ranks ]\n",
       "phy_tree()    Phylogenetic Tree: [ 4592 tips and 4591 internal nodes ]\n"
      ]
     },
     "metadata": {},
     "output_type": "display_data"
    }
   ],
   "source": [
    "%%R \n",
    "# loading\n",
    "\n",
    "physeq = readRDS('ERA_snorm.rds')\n",
    "\n",
    "#remove T0, not necessary\n",
    "physeq = subset_samples(physeq, !is.na(Genotype), TRUE)\n",
    "physeq = transform_sample_counts(physeq, sqrt)\n",
    "physeq = subset_samples(physeq, SeedTreatment == \"Treated\" & Genotype != \"Bare\" & TimePoint != \"T0\") # see seed treatment notebook for comparison\n",
    "\n",
    "physeq = subset_samples(physeq, Fert == \"170\")\n",
    "physeq = filter_taxa(physeq, function(x) sum(x > 0) > 0, TRUE)  \n",
    "physeq"
   ]
  },
  {
   "cell_type": "code",
   "execution_count": 43,
   "metadata": {
    "collapsed": false
   },
   "outputs": [],
   "source": [
    "%%R\n",
    "# add interaction of genotype and sampling date term for merge\n",
    "sd = sample_data(physeq)\n",
    "sd = mutate(sd, TxG = paste(TimePoint, R_Year, sep = \"_\"))\n",
    "rownames(sd) = sd$X.sampleID\n",
    "sample_data(physeq) = sd\n"
   ]
  },
  {
   "cell_type": "code",
   "execution_count": 44,
   "metadata": {
    "collapsed": false
   },
   "outputs": [
    {
     "data": {
      "text/plain": [
       "                 Sample R_Year TimePoint\n",
       "ERA-T1_3-5c_170 T1_1939   1939        T1\n",
       "ERA-T1_1-4a_170 T1_1953   1953        T1\n",
       "ERA-T3_1-3c_170 T3_1971   1971        T3\n",
       "ERA-T1_4-4a_170 T1_1984   1984        T1\n",
       "ERA-T1_1-2d_170 T1_2011   2011        T1\n",
       "ERA-T3_3-4c_170 T3_2011   2011        T3\n"
      ]
     },
     "metadata": {},
     "output_type": "display_data"
    }
   ],
   "source": [
    "%%R\n",
    "# save TxG, R_Year and Sampling date lookup table\n",
    "\n",
    "\n",
    "Y.df = sd %>%\n",
    "    select(TxG, R_Year, TimePoint) %>%\n",
    "    unique\n",
    "colnames(Y.df) = c(\"Sample\", \"R_Year\", \"TimePoint\")\n",
    "head(Y.df)\n"
   ]
  },
  {
   "cell_type": "code",
   "execution_count": 45,
   "metadata": {
    "collapsed": false
   },
   "outputs": [
    {
     "data": {
      "text/plain": [
       "[1] 12  3\n"
      ]
     },
     "metadata": {},
     "output_type": "display_data"
    }
   ],
   "source": [
    "%%R\n",
    "dim(Y.df)\n"
   ]
  },
  {
   "cell_type": "code",
   "execution_count": 46,
   "metadata": {
    "collapsed": false
   },
   "outputs": [],
   "source": [
    "%%R\n",
    "m.phy = merge_samples(physeq, \"TxG\")  %>%\n",
    "\n",
    "    transform_sample_counts(function(x) x/sum(x))\n",
    "   "
   ]
  },
  {
   "cell_type": "code",
   "execution_count": 47,
   "metadata": {
    "collapsed": false
   },
   "outputs": [],
   "source": [
    "%%R\n",
    "registerDoParallel(cores=28)\n",
    "bray.dist = distance(m.phy, \n",
    "                      method = \"bray\", \n",
    "                      weighted = FALSE,\n",
    "                      fast = TRUE, \n",
    "                      parallel = TRUE, \n",
    "                      normalized = FALSE)\n"
   ]
  },
  {
   "cell_type": "markdown",
   "metadata": {
    "slideshow": {
     "slide_type": "skip"
    }
   },
   "source": [
    "# Data wrangling "
   ]
  },
  {
   "cell_type": "markdown",
   "metadata": {},
   "source": [
    "### Melt unifrac distances"
   ]
  },
  {
   "cell_type": "code",
   "execution_count": 48,
   "metadata": {
    "collapsed": false,
    "hide_input": false
   },
   "outputs": [
    {
     "data": {
      "text/plain": [
       "   SampleA SampleB bray_Dist\n",
       "13 T1_1939 T1_1953 0.1266649\n",
       "25 T1_1939 T1_1971 0.1453595\n",
       "26 T1_1953 T1_1971 0.1516510\n",
       "37 T1_1939 T1_1984 0.1328425\n",
       "38 T1_1953 T1_1984 0.1380945\n",
       "39 T1_1971 T1_1984 0.1467351\n",
       "[1] 66  3\n"
      ]
     },
     "metadata": {},
     "output_type": "display_data"
    }
   ],
   "source": [
    "%%R\n",
    "bd = as.matrix(bray.dist) \n",
    "# remove lower triangle to remove duplicate values\n",
    "bd[ lower.tri( bd, diag = TRUE ) ]  <- NA\n",
    "head(bd)\n",
    "bd.m = melt(bd, na.rm= TRUE)\n",
    "\n",
    "# rename columns\n",
    "colnames(bd.m) = c(\"SampleA\", \"SampleB\", \"bray_Dist\")\n",
    "head(bd.m) %>% print\n",
    "dim(bd.m) %>% print"
   ]
  },
  {
   "cell_type": "code",
   "execution_count": 50,
   "metadata": {
    "collapsed": false
   },
   "outputs": [
    {
     "data": {
      "text/plain": [
       "  SampleA SampleB bray_Dist YearA TimePointA YearB TimePointB YearDist\n",
       "1 T1_1939 T1_1953 0.1266649  1939         T1  1953         T1       14\n",
       "2 T1_1939 T1_1971 0.1453595  1939         T1  1971         T1       32\n",
       "3 T1_1953 T1_1971 0.1516510  1953         T1  1971         T1       18\n",
       "4 T1_1939 T1_1984 0.1328425  1939         T1  1984         T1       45\n",
       "5 T1_1953 T1_1984 0.1380945  1953         T1  1984         T1       31\n",
       "6 T1_1971 T1_1984 0.1467351  1971         T1  1984         T1       13\n"
      ]
     },
     "metadata": {},
     "output_type": "display_data"
    }
   ],
   "source": [
    "%%R\n",
    "\n",
    "## add Year of plant A and plant b\n",
    "Dist= inner_join(bd.m, Y.df, by = c(\"SampleA\" = \"Sample\"))\n",
    "colnames(Dist)[4:5] = c(\"YearA\", \"TimePointA\")\n",
    "\n",
    "Dist= inner_join(Dist, Y.df, by = c(\"SampleB\" = \"Sample\"))\n",
    "colnames(Dist)[6:7] = c(\"YearB\", \"TimePointB\")\n",
    "\n",
    "Dist = mutate(Dist, YearDist = abs(YearA - YearB))\n",
    "head(Dist)"
   ]
  },
  {
   "cell_type": "code",
   "execution_count": 51,
   "metadata": {
    "collapsed": false
   },
   "outputs": [
    {
     "data": {
      "text/plain": [
       "  SampleA SampleB bray_Dist YearA TimePointA YearB TimePointB YearDist\n",
       "1 T1_1939 T1_1953 0.1266649  1939         T1  1953         T1       14\n",
       "2 T1_1939 T1_1971 0.1453595  1939         T1  1971         T1       32\n",
       "3 T1_1953 T1_1971 0.1516510  1953         T1  1971         T1       18\n",
       "4 T1_1939 T1_1984 0.1328425  1939         T1  1984         T1       45\n",
       "5 T1_1953 T1_1984 0.1380945  1953         T1  1984         T1       31\n",
       "6 T1_1971 T1_1984 0.1467351  1971         T1  1984         T1       13\n",
       "   SampleA SampleB bray_Dist YearA TimePointA YearB TimePointB YearDist\n",
       "25 T3_1984 T3_2001 0.1543720  1984         T3  2001         T3       17\n",
       "26 T3_1939 T3_2011 0.1519520  1939         T3  2011         T3       72\n",
       "27 T3_1953 T3_2011 0.1760184  1953         T3  2011         T3       58\n",
       "28 T3_1971 T3_2011 0.1508612  1971         T3  2011         T3       40\n",
       "29 T3_1984 T3_2011 0.1559243  1984         T3  2011         T3       27\n",
       "30 T3_2001 T3_2011 0.1564101  2001         T3  2011         T3       10\n"
      ]
     },
     "metadata": {},
     "output_type": "display_data"
    }
   ],
   "source": [
    "%%R\n",
    "#Filter so that we are not comparing across timepoints\n",
    "Dist = Dist %>% filter(TimePointA == TimePointB)\n",
    "head(Dist) %>% print\n",
    "tail(Dist) %>% print"
   ]
  },
  {
   "cell_type": "code",
   "execution_count": 52,
   "metadata": {
    "collapsed": false
   },
   "outputs": [
    {
     "data": {
      "text/plain": [
       "[1] 15  8\n"
      ]
     },
     "metadata": {},
     "output_type": "display_data"
    }
   ],
   "source": [
    "%%R\n",
    "Dist.T3 = filter(Dist, TimePointB == \"T3\")\n",
    "dim(Dist.T3)"
   ]
  },
  {
   "cell_type": "code",
   "execution_count": 53,
   "metadata": {
    "collapsed": false
   },
   "outputs": [],
   "source": [
    "%%R\n",
    "T3Null =  gls(bray_Dist ~ 1, \n",
    "               correlation = corMLPE(form= ~ SampleA + SampleB), data = Dist.T3, method = \"ML\")\n"
   ]
  },
  {
   "cell_type": "code",
   "execution_count": 54,
   "metadata": {
    "collapsed": false,
    "scrolled": true
   },
   "outputs": [
    {
     "data": {
      "text/plain": [
       "Generalized least squares fit by maximum likelihood\n",
       "  Model: bray_Dist ~ 1 \n",
       "  Data: Dist.T3 \n",
       "        AIC       BIC   logLik\n",
       "  -91.84706 -89.72291 48.92353\n",
       "\n",
       "Correlation Structure: corMLPE\n",
       " Formula: ~SampleA + SampleB \n",
       " Parameter estimate(s):\n",
       "      Rho \n",
       "0.4011986 \n",
       "\n",
       "Coefficients:\n",
       "                Value   Std.Error t-value p-value\n",
       "(Intercept) 0.1601152 0.007147427 22.4018       0\n",
       "\n",
       "Standardized residuals:\n",
       "       Min         Q1        Med         Q3        Max \n",
       "-1.0383978 -0.5334473 -0.3215218  0.3959718  2.3605377 \n",
       "\n",
       "Residual standard error: 0.01303449 \n",
       "Degrees of freedom: 15 total; 14 residual\n"
      ]
     },
     "metadata": {},
     "output_type": "display_data"
    }
   ],
   "source": [
    "%%R\n",
    "summary(T3Null)"
   ]
  },
  {
   "cell_type": "code",
   "execution_count": 55,
   "metadata": {
    "collapsed": false
   },
   "outputs": [],
   "source": [
    "%%R\n",
    "T3fit1 =  gls(bray_Dist ~ YearDist, \n",
    "               correlation = corMLPE(form= ~ SampleA + SampleB), data = Dist.T3, method = \"ML\")\n"
   ]
  },
  {
   "cell_type": "code",
   "execution_count": 59,
   "metadata": {
    "collapsed": false
   },
   "outputs": [
    {
     "data": {
      "text/plain": [
       "Generalized least squares fit by maximum likelihood\n",
       "  Model: bray_Dist ~ YearDist \n",
       "  Data: Dist.T3 \n",
       "        AIC       BIC   logLik\n",
       "  -89.96665 -87.13445 48.98333\n",
       "\n",
       "Correlation Structure: corMLPE\n",
       " Formula: ~SampleA + SampleB \n",
       " Parameter estimate(s):\n",
       "      Rho \n",
       "0.4043308 \n",
       "\n",
       "Coefficients:\n",
       "                 Value   Std.Error   t-value p-value\n",
       "(Intercept) 0.15896470 0.008268752 19.224750  0.0000\n",
       "YearDist    0.00003338 0.000102513  0.325619  0.7499\n",
       "\n",
       " Correlation: \n",
       "         (Intr)\n",
       "YearDist -0.427\n",
       "\n",
       "Standardized residuals:\n",
       "       Min         Q1        Med         Q3        Max \n",
       "-1.1034856 -0.5800343 -0.3009215  0.4410957  2.3578287 \n",
       "\n",
       "Residual standard error: 0.01309854 \n",
       "Degrees of freedom: 15 total; 13 residual\n"
      ]
     },
     "metadata": {},
     "output_type": "display_data"
    }
   ],
   "source": [
    "%%R\n",
    "summary(T3fit1)"
   ]
  },
  {
   "cell_type": "markdown",
   "metadata": {},
   "source": [
    "# Just core plots to compare relationships over time"
   ]
  },
  {
   "cell_type": "code",
   "execution_count": 63,
   "metadata": {
    "collapsed": false,
    "scrolled": true
   },
   "outputs": [
    {
     "data": {
      "text/plain": [
       "phyloseq-class experiment-level object\n",
       "otu_table()   OTU Table:         [ 4591 taxa and 72 samples ]\n",
       "sample_data() Sample Data:       [ 72 samples by 46 sample variables ]\n",
       "tax_table()   Taxonomy Table:    [ 4591 taxa by 8 taxonomic ranks ]\n",
       "phy_tree()    Phylogenetic Tree: [ 4591 tips and 4590 internal nodes ]\n"
      ]
     },
     "metadata": {},
     "output_type": "display_data"
    }
   ],
   "source": [
    "%%R \n",
    "# loading\n",
    "\n",
    "physeq = readRDS('ERA_snorm.rds')\n",
    "\n",
    "#remove T0, not necessary\n",
    "physeq = subset_samples(physeq, !is.na(Genotype), TRUE)\n",
    "physeq = transform_sample_counts(physeq, sqrt)\n",
    "physeq = subset_samples(physeq, SeedTreatment == \"Treated\" & Genotype != \"Bare\" & TimePoint != \"T0\") # see seed treatment notebook for comparison\n",
    "\n",
    "physeq = subset_samples(physeq, Plant %in% c(\"330\", \"34M95\", \"354\", \"3475\", \"3517\", \"P1151HR\") & Fert == \"85\")\n",
    "physeq = filter_taxa(physeq, function(x) sum(x > 0) > 0, TRUE)  \n",
    "physeq"
   ]
  },
  {
   "cell_type": "code",
   "execution_count": 64,
   "metadata": {
    "collapsed": false
   },
   "outputs": [],
   "source": [
    "%%R\n",
    "# add interaction of genotype and sampling date term for merge\n",
    "sd = sample_data(physeq)\n",
    "sd = mutate(sd, TxG = paste(TimePoint, R_Year, sep = \"_\"))\n",
    "rownames(sd) = sd$X.sampleID\n",
    "sample_data(physeq) = sd\n"
   ]
  },
  {
   "cell_type": "code",
   "execution_count": 65,
   "metadata": {
    "collapsed": false
   },
   "outputs": [
    {
     "data": {
      "text/plain": [
       "                Sample R_Year TimePoint\n",
       "ERA-T2_3-1d_85 T2_2001   2001        T2\n",
       "ERA-T1_2-2b_85 T1_1971   1971        T1\n",
       "ERA-T1_1-2d_85 T1_2011   2011        T1\n",
       "ERA-T2_1-2b_85 T2_1939   1939        T2\n",
       "ERA-T3_2-2b_85 T3_1971   1971        T3\n",
       "ERA-T2_1-2d_85 T2_2011   2011        T2\n"
      ]
     },
     "metadata": {},
     "output_type": "display_data"
    }
   ],
   "source": [
    "%%R\n",
    "# save TxG, R_Year and Sampling date lookup table\n",
    "\n",
    "\n",
    "Y.df = sd %>%\n",
    "    select(TxG, R_Year, TimePoint) %>%\n",
    "    unique\n",
    "colnames(Y.df) = c(\"Sample\", \"R_Year\", \"TimePoint\")\n",
    "head(Y.df)\n"
   ]
  },
  {
   "cell_type": "code",
   "execution_count": 66,
   "metadata": {
    "collapsed": false
   },
   "outputs": [],
   "source": [
    "%%R\n",
    "m.phy = merge_samples(physeq, \"TxG\")  %>%\n",
    "\n",
    "    transform_sample_counts(function(x) x/sum(x))\n",
    "   "
   ]
  },
  {
   "cell_type": "code",
   "execution_count": 67,
   "metadata": {
    "collapsed": false
   },
   "outputs": [],
   "source": [
    "%%R\n",
    "registerDoParallel(cores=28)\n",
    "bray.dist = distance(m.phy, \n",
    "                      method = \"bray\", \n",
    "                      weighted = FALSE,\n",
    "                      fast = TRUE, \n",
    "                      parallel = TRUE, \n",
    "                      normalized = FALSE)\n"
   ]
  },
  {
   "cell_type": "markdown",
   "metadata": {
    "slideshow": {
     "slide_type": "skip"
    }
   },
   "source": [
    "# Data wrangling "
   ]
  },
  {
   "cell_type": "markdown",
   "metadata": {},
   "source": [
    "### Melt unifrac distances"
   ]
  },
  {
   "cell_type": "code",
   "execution_count": 68,
   "metadata": {
    "collapsed": false,
    "hide_input": false
   },
   "outputs": [
    {
     "data": {
      "text/plain": [
       "   SampleA SampleB bray_Dist\n",
       "19 T1_1939 T1_1953 0.1502060\n",
       "37 T1_1939 T1_1971 0.1617041\n",
       "38 T1_1953 T1_1971 0.1464197\n",
       "55 T1_1939 T1_1984 0.1498719\n",
       "56 T1_1953 T1_1984 0.1401895\n",
       "57 T1_1971 T1_1984 0.1467838\n",
       "[1] 153   3\n"
      ]
     },
     "metadata": {},
     "output_type": "display_data"
    }
   ],
   "source": [
    "%%R\n",
    "bd = as.matrix(bray.dist) \n",
    "# remove lower triangle to remove duplicate values\n",
    "bd[ lower.tri( bd, diag = TRUE ) ]  <- NA\n",
    "head(bd)\n",
    "bd.m = melt(bd, na.rm= TRUE)\n",
    "\n",
    "# rename columns\n",
    "colnames(bd.m) = c(\"SampleA\", \"SampleB\", \"bray_Dist\")\n",
    "head(bd.m) %>% print\n",
    "dim(bd.m) %>% print"
   ]
  },
  {
   "cell_type": "code",
   "execution_count": 69,
   "metadata": {
    "collapsed": false
   },
   "outputs": [
    {
     "data": {
      "text/plain": [
       "  SampleA SampleB bray_Dist YearA TimePointA YearB TimePointB YearDist\n",
       "1 T1_1939 T1_1953 0.1502060  1939         T1  1953         T1       14\n",
       "2 T1_1939 T1_1971 0.1617041  1939         T1  1971         T1       32\n",
       "3 T1_1953 T1_1971 0.1464197  1953         T1  1971         T1       18\n",
       "4 T1_1939 T1_1984 0.1498719  1939         T1  1984         T1       45\n",
       "5 T1_1953 T1_1984 0.1401895  1953         T1  1984         T1       31\n",
       "6 T1_1971 T1_1984 0.1467838  1971         T1  1984         T1       13\n"
      ]
     },
     "metadata": {},
     "output_type": "display_data"
    }
   ],
   "source": [
    "%%R\n",
    "\n",
    "## add Year of plant A and plant b\n",
    "Dist= inner_join(bd.m, Y.df, by = c(\"SampleA\" = \"Sample\"))\n",
    "colnames(Dist)[4:5] = c(\"YearA\", \"TimePointA\")\n",
    "\n",
    "Dist= inner_join(Dist, Y.df, by = c(\"SampleB\" = \"Sample\"))\n",
    "colnames(Dist)[6:7] = c(\"YearB\", \"TimePointB\")\n",
    "\n",
    "Dist = mutate(Dist, YearDist = abs(YearA - YearB))\n",
    "head(Dist)"
   ]
  },
  {
   "cell_type": "code",
   "execution_count": 70,
   "metadata": {
    "collapsed": false
   },
   "outputs": [
    {
     "data": {
      "text/plain": [
       "  SampleA SampleB bray_Dist YearA TimePointA YearB TimePointB YearDist\n",
       "1 T1_1939 T1_1953 0.1502060  1939         T1  1953         T1       14\n",
       "2 T1_1939 T1_1971 0.1617041  1939         T1  1971         T1       32\n",
       "3 T1_1953 T1_1971 0.1464197  1953         T1  1971         T1       18\n",
       "4 T1_1939 T1_1984 0.1498719  1939         T1  1984         T1       45\n",
       "5 T1_1953 T1_1984 0.1401895  1953         T1  1984         T1       31\n",
       "6 T1_1971 T1_1984 0.1467838  1971         T1  1984         T1       13\n",
       "   SampleA SampleB bray_Dist YearA TimePointA YearB TimePointB YearDist\n",
       "40 T3_1984 T3_2001 0.1579147  1984         T3  2001         T3       17\n",
       "41 T3_1939 T3_2011 0.1451982  1939         T3  2011         T3       72\n",
       "42 T3_1953 T3_2011 0.1728111  1953         T3  2011         T3       58\n",
       "43 T3_1971 T3_2011 0.1613908  1971         T3  2011         T3       40\n",
       "44 T3_1984 T3_2011 0.1459290  1984         T3  2011         T3       27\n",
       "45 T3_2001 T3_2011 0.1678215  2001         T3  2011         T3       10\n"
      ]
     },
     "metadata": {},
     "output_type": "display_data"
    }
   ],
   "source": [
    "%%R\n",
    "#Filter so that we are not comparing across timepoints\n",
    "Dist = Dist %>% filter(TimePointA == TimePointB)\n",
    "head(Dist) %>% print\n",
    "tail(Dist) %>% print"
   ]
  },
  {
   "cell_type": "code",
   "execution_count": 71,
   "metadata": {
    "collapsed": false
   },
   "outputs": [
    {
     "data": {
      "text/plain": [
       "[1] 45  8\n"
      ]
     },
     "metadata": {},
     "output_type": "display_data"
    }
   ],
   "source": [
    "%%R\n",
    "dim(Dist)"
   ]
  },
  {
   "cell_type": "code",
   "execution_count": 77,
   "metadata": {
    "collapsed": false
   },
   "outputs": [
    {
     "data": {
      "text/plain": [
       "   bray_Dist.T1 YearA YearB bray_Dist.T2 bray_Dist.T3\n",
       "1     0.1502060  1939  1953    0.1508864    0.1591749\n",
       "2     0.1617041  1939  1971    0.1860620    0.1524254\n",
       "3     0.1464197  1953  1971    0.1569639    0.1470344\n",
       "4     0.1498719  1939  1984    0.1668123    0.1330519\n",
       "5     0.1401895  1953  1984    0.1416345    0.1438283\n",
       "6     0.1467838  1971  1984    0.1544320    0.1451101\n",
       "7     0.1690555  1939  2001    0.1440525    0.1585380\n",
       "8     0.1580198  1953  2001    0.1312736    0.1731450\n",
       "9     0.1490862  1971  2001    0.1643205    0.1621136\n",
       "10    0.1570704  1984  2001    0.1486369    0.1579147\n",
       "11    0.1603479  1939  2011    0.1561963    0.1451982\n",
       "12    0.1582321  1953  2011    0.1397840    0.1728111\n",
       "13    0.1703658  1971  2011    0.1612489    0.1613908\n",
       "14    0.1566559  1984  2011    0.1492889    0.1459290\n",
       "15    0.1780342  2001  2011    0.1403602    0.1678215\n"
      ]
     },
     "metadata": {},
     "output_type": "display_data"
    }
   ],
   "source": [
    "%%R\n",
    "#Separate distance table by timepoint and rejoin with distances between plants at each timepoint in different columns\n",
    "Dist.T1 = filter(Dist, TimePointA == \"T1\") \n",
    "    colnames(Dist.T1)[3] = \"bray_Dist.T1\"\n",
    "Dist.T2 = filter(Dist, TimePointA == \"T2\")\n",
    "    colnames(Dist.T2)[3] = \"bray_Dist.T2\"\n",
    "Dist.T3 = filter(Dist, TimePointA == \"T3\")\n",
    "    colnames(Dist.T3)[3] = \"bray_Dist.T3\"\n",
    "\n",
    "Dist.c = left_join(Dist.T1[,c(3,4,6)], Dist.T2[,c(3,4,6)])\n",
    "Dist.c = left_join(Dist.c, Dist.T3[,c(3,4,6)])\n",
    "Dist.c "
   ]
  },
  {
   "cell_type": "markdown",
   "metadata": {},
   "source": [
    "* quick and dirty correlations"
   ]
  },
  {
   "cell_type": "code",
   "execution_count": 78,
   "metadata": {
    "collapsed": false
   },
   "outputs": [
    {
     "data": {
      "image/png": "[encoded data removed]"
     },
     "metadata": {},
     "output_type": "display_data"
    }
   ],
   "source": [
    "%%R\n",
    "pairs(Dist.c[,c(1,4,5)])"
   ]
  },
  {
   "cell_type": "code",
   "execution_count": null,
   "metadata": {
    "collapsed": true
   },
   "outputs": [],
   "source": []
  },
  {
   "cell_type": "code",
   "execution_count": 81,
   "metadata": {
    "collapsed": false
   },
   "outputs": [],
   "source": [
    "%%R\n",
    "T1CompNull =  gls(bray_Dist.T1 ~ 1, \n",
    "               correlation = corMLPE(form= ~ YearA + YearB), data = Dist.c, method = \"ML\")\n"
   ]
  },
  {
   "cell_type": "code",
   "execution_count": 84,
   "metadata": {
    "collapsed": false
   },
   "outputs": [
    {
     "data": {
      "text/plain": [
       "Generalized least squares fit by maximum likelihood\n",
       "  Model: bray_Dist.T1 ~ bray_Dist.T2 \n",
       "  Data: Dist.c \n",
       "        AIC       BIC   logLik\n",
       "  -92.29533 -89.46313 50.14767\n",
       "\n",
       "Correlation Structure: corMLPE\n",
       " Formula: ~YearA + YearB \n",
       " Parameter estimate(s):\n",
       "      Rho \n",
       "0.3360807 \n",
       "\n",
       "Coefficients:\n",
       "                   Value  Std.Error   t-value p-value\n",
       "(Intercept)   0.17113742 0.03435881  4.980889  0.0003\n",
       "bray_Dist.T2 -0.09381458 0.22186881 -0.422838  0.6793\n",
       "\n",
       " Correlation: \n",
       "             (Intr)\n",
       "bray_Dist.T2 -0.987\n",
       "\n",
       "Standardized residuals:\n",
       "        Min          Q1         Med          Q3         Max \n",
       "-1.68256382 -0.63888251 -0.04535565  0.56620170  1.91160325 \n",
       "\n",
       "Residual standard error: 0.01049621 \n",
       "Degrees of freedom: 15 total; 13 residual\n"
      ]
     },
     "metadata": {},
     "output_type": "display_data"
    }
   ],
   "source": [
    "%%R\n",
    "T1Comp_2 =  gls(bray_Dist.T1 ~ bray_Dist.T2, \n",
    "               correlation = corMLPE(form= ~ YearA + YearB), data = Dist.c, method = \"ML\")\n",
    "summary(T1Comp_2)"
   ]
  },
  {
   "cell_type": "code",
   "execution_count": 86,
   "metadata": {
    "collapsed": false
   },
   "outputs": [
    {
     "data": {
      "text/plain": [
       "Generalized least squares fit by maximum likelihood\n",
       "  Model: bray_Dist.T1 ~ bray_Dist.T3 \n",
       "  Data: Dist.c \n",
       "       AIC      BIC  logLik\n",
       "  -95.5238 -92.6916 51.7619\n",
       "\n",
       "Correlation Structure: corMLPE\n",
       " Formula: ~YearA + YearB \n",
       " Parameter estimate(s):\n",
       "      Rho \n",
       "0.3050265 \n",
       "\n",
       "Coefficients:\n",
       "                 Value  Std.Error  t-value p-value\n",
       "(Intercept)  0.0943410 0.03412343 2.764699  0.0161\n",
       "bray_Dist.T3 0.4028951 0.21805843 1.847648  0.0875\n",
       "\n",
       " Correlation: \n",
       "             (Intr)\n",
       "bray_Dist.T3 -0.991\n",
       "\n",
       "Standardized residuals:\n",
       "        Min          Q1         Med          Q3         Max \n",
       "-1.34065494 -0.73359653 -0.09902626  0.74565281  1.78159676 \n",
       "\n",
       "Residual standard error: 0.009024874 \n",
       "Degrees of freedom: 15 total; 13 residual\n"
      ]
     },
     "metadata": {},
     "output_type": "display_data"
    }
   ],
   "source": [
    "%%R\n",
    "T1Comp_3 =  gls(bray_Dist.T1 ~ bray_Dist.T3, \n",
    "               correlation = corMLPE(form= ~ YearA + YearB), data = Dist.c, method = \"ML\")\n",
    "summary(T1Comp_3)"
   ]
  },
  {
   "cell_type": "code",
   "execution_count": 88,
   "metadata": {
    "collapsed": false
   },
   "outputs": [
    {
     "data": {
      "text/plain": [
       "[1] 0.2045523\n",
       "attr(,\"adj.r.squared\")\n",
       "[1] -0.0002590726\n"
      ]
     },
     "metadata": {},
     "output_type": "display_data"
    }
   ],
   "source": [
    "%%R\n",
    "MuMIn::r.squaredLR(T1Comp_3, null = T1CompNull)"
   ]
  },
  {
   "cell_type": "code",
   "execution_count": 87,
   "metadata": {
    "collapsed": false,
    "scrolled": true
   },
   "outputs": [
    {
     "data": {
      "text/plain": [
       "Generalized least squares fit by maximum likelihood\n",
       "  Model: bray_Dist.T2 ~ bray_Dist.T3 \n",
       "  Data: Dist.c \n",
       "        AIC       BIC   logLik\n",
       "  -86.53434 -83.70214 47.26717\n",
       "\n",
       "Correlation Structure: corMLPE\n",
       " Formula: ~YearA + YearB \n",
       " Parameter estimate(s):\n",
       "      Rho \n",
       "0.3408864 \n",
       "\n",
       "Coefficients:\n",
       "                  Value  Std.Error   t-value p-value\n",
       "(Intercept)   0.1936360 0.04627174  4.184758  0.0011\n",
       "bray_Dist.T3 -0.2634234 0.29516457 -0.892463  0.3884\n",
       "\n",
       " Correlation: \n",
       "             (Intr)\n",
       "bray_Dist.T3 -0.989\n",
       "\n",
       "Standardized residuals:\n",
       "        Min          Q1         Med          Q3         Max \n",
       "-1.30714545 -0.63010316 -0.07636388  0.40127949  2.54206178 \n",
       "\n",
       "Residual standard error: 0.01281573 \n",
       "Degrees of freedom: 15 total; 13 residual\n"
      ]
     },
     "metadata": {},
     "output_type": "display_data"
    }
   ],
   "source": [
    "%%R\n",
    "T2Comp_3 =  gls(bray_Dist.T2 ~ bray_Dist.T3, \n",
    "               correlation = corMLPE(form= ~ YearA + YearB), data = Dist.c, method = \"ML\")\n",
    "summary(T2Comp_3)"
   ]
  },
  {
   "cell_type": "markdown",
   "metadata": {},
   "source": [
    "* distance between genotypes is not correlated between sampling dates, except a marginal relationship between distances at T1 and T3"
   ]
  },
  {
   "cell_type": "markdown",
   "metadata": {},
   "source": [
    "## Cluster dendrograms"
   ]
  },
  {
   "cell_type": "code",
   "execution_count": 94,
   "metadata": {
    "collapsed": false
   },
   "outputs": [],
   "source": [
    "%%R\n",
    "m.phy.1 = subset_samples(m.phy, TimePoint == \"1\")\n",
    "m.phy.2 = subset_samples(m.phy, TimePoint == \"2\")\n",
    "m.phy.3 = subset_samples(m.phy, TimePoint == \"3\")"
   ]
  },
  {
   "cell_type": "code",
   "execution_count": 103,
   "metadata": {
    "collapsed": false
   },
   "outputs": [],
   "source": [
    "%%R\n",
    "sample_names(m.phy.1) = sample_data(m.phy.1)$R_Year\n",
    "sample_names(m.phy.2) = sample_data(m.phy.2)$R_Year\n",
    "sample_names(m.phy.3) = sample_data(m.phy.3)$R_Year"
   ]
  },
  {
   "cell_type": "code",
   "execution_count": 104,
   "metadata": {
    "collapsed": true
   },
   "outputs": [],
   "source": [
    "%%R\n",
    "registerDoParallel(cores=28)\n",
    "bray.dist.1 = distance(m.phy.1, \n",
    "                      method = \"bray\", \n",
    "                      weighted = FALSE,\n",
    "                      fast = TRUE, \n",
    "                      parallel = TRUE, \n",
    "                      normalized = FALSE)\n",
    "\n",
    "bray.dist.2 = distance(m.phy.2, \n",
    "                      method = \"bray\", \n",
    "                      weighted = FALSE,\n",
    "                      fast = TRUE, \n",
    "                      parallel = TRUE, \n",
    "                      normalized = FALSE)\n",
    "\n",
    "bray.dist.3 = distance(m.phy.3, \n",
    "                      method = \"bray\", \n",
    "                      weighted = FALSE,\n",
    "                      fast = TRUE, \n",
    "                      parallel = TRUE, \n",
    "                      normalized = FALSE)"
   ]
  },
  {
   "cell_type": "code",
   "execution_count": 113,
   "metadata": {
    "collapsed": false,
    "scrolled": false
   },
   "outputs": [
    {
     "data": {
      "text/plain": [
       "NULL\n",
       "NULL\n",
       "NULL\n"
      ]
     },
     "metadata": {},
     "output_type": "display_data"
    },
    {
     "data": {
      "image/png": "[encoded data removed]"
     },
     "metadata": {},
     "output_type": "display_data"
    },
    {
     "data": {
      "image/png": "[encoded data removed]"
     },
     "metadata": {},
     "output_type": "display_data"
    },
    {
     "data": {
      "image/png": "[encoded data removed]"
     },
     "metadata": {},
     "output_type": "display_data"
    }
   ],
   "source": [
    "%%R\n",
    "fit1 <- hclust(bray.dist.1, method=\"complete\") \n",
    "plot(fit1, main = \"T1\")  %>% print\n",
    "\n",
    "fit2 <- hclust(bray.dist.2, method=\"complete\") \n",
    "plot(fit2, main = \"T2\")  %>% print\n",
    "\n",
    "fit3 <- hclust(bray.dist.3, method=\"complete\") \n",
    "plot(fit3, main = \"T3\")  %>% print# display dendogram"
   ]
  },
  {
   "cell_type": "code",
   "execution_count": 111,
   "metadata": {
    "collapsed": false,
    "scrolled": true
   },
   "outputs": [
    {
     "data": {
      "image/png": "[encoded data removed]"
     },
     "metadata": {},
     "output_type": "display_data"
    }
   ],
   "source": [
    "%%R\n",
    "dendextend::tanglegram(fit1,fit2) "
   ]
  },
  {
   "cell_type": "code",
   "execution_count": 112,
   "metadata": {
    "collapsed": false
   },
   "outputs": [
    {
     "data": {
      "image/png": "[encoded data removed]"
     },
     "metadata": {},
     "output_type": "display_data"
    }
   ],
   "source": [
    "%%R\n",
    "dendextend::tanglegram(fit1,fit3) "
   ]
  }
 ],
 "metadata": {
  "hide_input": true,
  "kernelspec": {
   "display_name": "Python 2",
   "language": "python",
   "name": "python2"
  },
  "language_info": {
   "codemirror_mode": {
    "name": "ipython",
    "version": 2
   },
   "file_extension": ".py",
   "mimetype": "text/x-python",
   "name": "python",
   "nbconvert_exporter": "python",
   "pygments_lexer": "ipython2",
   "version": "2.7.13"
  }
 },
 "nbformat": 4,
 "nbformat_minor": 0
}
